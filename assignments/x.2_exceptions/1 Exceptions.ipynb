{
 "cells": [
  {
   "cell_type": "markdown",
   "metadata": {},
   "source": [
    "# Exceptions\n",
    "\n",
    "Computer programs can sometimes run into Errors or Exceptions. An 'Exception' is a condition that prevents your program from continuing its normal execution. An Error is usually slightly more severe and may indicate something has gone terribly wrong (which is not always the case). For example, `a = 1 / 0` will throw a `ZeroDivisionError`. Since this does not result in a real value, the program cannot assign a value to `a`.\n",
    "\n",
    "If Exceptions and Errors remain unhandled, they result in termination of the program. You have probably seen so-called 'Tracebacks' that indicate which line threw an Error or Exception and recursively the lines that called the function in which the Exception appeared.\n",
    "\n",
    "It is not always possible to handle an Exception. For instance, when the program needs to read a file but somehow it cannot, there may be no way around that and the user should be informed so that the cause may be removed. However, sometimes we can deal with Exception programmatically, so that the program is more likely to finish with a valid result."
   ]
  },
  {
   "cell_type": "markdown",
   "metadata": {},
   "source": [
    "Look at the following example. The function returns all values that are divisable by 2. However, we cannot really prevent someone from calling this function with a non-numerical value. But let's say that when values are not divisable by two, instead of triggering an error, we simply want to skip those."
   ]
  },
  {
   "cell_type": "code",
   "execution_count": null,
   "metadata": {},
   "outputs": [],
   "source": [
    "def even_numbers(*values):\n",
    "    r = []\n",
    "    for a in values:\n",
    "        if a % 2 == 0:\n",
    "            r.append(a)\n",
    "    return r"
   ]
  },
  {
   "cell_type": "code",
   "execution_count": null,
   "metadata": {},
   "outputs": [],
   "source": [
    "even_numbers(0, 9, 10, 'aap')"
   ]
  },
  {
   "cell_type": "markdown",
   "metadata": {},
   "source": [
    "# Try Except\n",
    "\n",
    "We can handle exceptions by placing lines that may trigger an Exception or Error in a Try Except structure. Python tries to execute the code-block after `try`. If an Error or Exception occurs it then executes the code-block after `except`."
   ]
  },
  {
   "cell_type": "code",
   "execution_count": null,
   "metadata": {},
   "outputs": [],
   "source": [
    "try:          # no Error, meaning the except code-block is skipped\n",
    "    a = 1 / 2\n",
    "except:\n",
    "    a = 0\n",
    "a"
   ]
  },
  {
   "cell_type": "code",
   "execution_count": null,
   "metadata": {},
   "outputs": [],
   "source": [
    "try:          # an Error will occur, therefore the except code-block is executed\n",
    "    a = 1 / 0\n",
    "except:\n",
    "    a = 0\n",
    "a"
   ]
  },
  {
   "cell_type": "markdown",
   "metadata": {},
   "source": [
    "We can use the same technique to fix the problem with values that do not support the `/` operator. In this case, when we want to use an empty code block (simply do nothing) we have to add a `pass` in its place, which means 'do nothing'."
   ]
  },
  {
   "cell_type": "code",
   "execution_count": null,
   "metadata": {},
   "outputs": [],
   "source": [
    "def even_numbers(*values):\n",
    "    r = []\n",
    "    for a in values:\n",
    "        try:\n",
    "            if a % 2 == 0:\n",
    "                r.append(a)\n",
    "        except:\n",
    "            pass\n",
    "    return r"
   ]
  },
  {
   "cell_type": "code",
   "execution_count": null,
   "metadata": {},
   "outputs": [],
   "source": [
    "even_numbers(0, 9, 10, 'aap')"
   ]
  },
  {
   "cell_type": "markdown",
   "metadata": {},
   "source": [
    "# Assignment"
   ]
  },
  {
   "cell_type": "markdown",
   "metadata": {},
   "source": [
    "#### Write a function `join` that joins the texts that are passed as argument  and skips arguments that cannot be concatenated to a String.\n",
    "\n",
    "Hint: you can concatenate (join together) Strings with a `+` operator. If you start with an empty string, you can try to concatenate all the arguments. Besides Strings, there are also other types of values that can be concatenated, such as tuples with a single value. \n",
    "\n",
    "For the given case, the result should be `'ac'`"
   ]
  },
  {
   "cell_type": "code",
   "execution_count": null,
   "metadata": {
    "deletable": false,
    "editable": true
   },
   "outputs": [],
   "source": [
    "%%assignment\n",
    "### ENTER YOUR CODE HERE"
   ]
  },
  {
   "cell_type": "code",
   "execution_count": null,
   "metadata": {},
   "outputs": [],
   "source": [
    "join('a', 3, 'c')"
   ]
  },
  {
   "cell_type": "code",
   "execution_count": null,
   "metadata": {
    "deletable": false,
    "editable": false
   },
   "outputs": [],
   "source": [
    "%%check\n",
    "join(3, 'd', 'a', 'g', 4.3, ('aa')) == 'dagaa'\n",
    "join(3, 'd', 'a', 'g', 4.3, ('aa', 'b')) == 'dag'\n",
    "join('a', 3, 'c') == 'ac'"
   ]
  },
  {
   "cell_type": "markdown",
   "metadata": {},
   "source": [
    "#### Write a function `avg` that returns the average of the passed `numbers`, or 0 if not alle arguments are numbers.\n",
    "\n",
    "Note: you could also solve this with an `if` that checks if the list is empty. However, the 'Pythonic way' is to just try it and handle the exception. Arguably, the code becomes more readable, and when exceptions are rare the code also becomes more efficient."
   ]
  },
  {
   "cell_type": "code",
   "execution_count": null,
   "metadata": {
    "deletable": false,
    "editable": true
   },
   "outputs": [],
   "source": [
    "%%assignment\n",
    "### ENTER YOUR CODE HERE"
   ]
  },
  {
   "cell_type": "code",
   "execution_count": null,
   "metadata": {},
   "outputs": [],
   "source": [
    "avg('a', 3, 'c')"
   ]
  },
  {
   "cell_type": "code",
   "execution_count": null,
   "metadata": {
    "deletable": false,
    "editable": false
   },
   "outputs": [],
   "source": [
    "%%check\n",
    "signature avg numbers\n",
    "avg(3, 4, 5) == 4\n",
    "avg() == 0\n",
    "avg(3, 7, 5) == 5\n",
    "avg('a', 3, 'c') == 0"
   ]
  },
  {
   "cell_type": "markdown",
   "metadata": {},
   "source": [
    "#### Write a function `numbers_in_text` that returns a list of all integer numbers that appear as a word in `text`.\n",
    "\n",
    "E.g. for the give case it should return `[3, 1, 12]`"
   ]
  },
  {
   "cell_type": "code",
   "execution_count": null,
   "metadata": {
    "deletable": false,
    "editable": true
   },
   "outputs": [],
   "source": [
    "%%assignment\n",
    "### ENTER YOUR CODE HERE"
   ]
  },
  {
   "cell_type": "code",
   "execution_count": null,
   "metadata": {},
   "outputs": [],
   "source": [
    "numbers_in_text('there are 3 bears that live in 1 house up in the 12 hills')"
   ]
  },
  {
   "cell_type": "code",
   "execution_count": null,
   "metadata": {
    "deletable": false,
    "editable": false
   },
   "outputs": [],
   "source": [
    "%%check\n",
    "signature numbers_in_text text\n",
    "numbers_in_text('40 is bigger than 27 bt smaller than 300') == [40, 27, 300]\n",
    "numbers_in_text('there are 3 bears that live in 1 house up in the 12 hills') == [3, 1, 12]"
   ]
  }
 ],
 "kernelspec": [
  {
   "display_name": "prog",
   "language": "python",
   "name": "prog"
  }
 ],
 "metadata": {
  "celltoolbar": "Create Assignment",
  "kernelspec": {
   "display_name": "prog",
   "language": "python",
   "name": "prog"
  },
  "language_info": {
   "codemirror_mode": {
    "name": "ipython",
    "version": 3
   },
   "file_extension": ".py",
   "mimetype": "text/x-python",
   "name": "python",
   "nbconvert_exporter": "python",
   "pygments_lexer": "ipython3",
   "version": "3.8.8"
  }
 },
 "nbformat": 4,
 "nbformat_minor": 4
}
