{
 "cells": [
  {
   "cell_type": "markdown",
   "metadata": {},
   "source": [
    "# Dictionary functions\n",
    "\n",
    "There are a few functions for dictionaries that make it easier to view the keys and values"
   ]
  },
  {
   "cell_type": "code",
   "execution_count": null,
   "metadata": {},
   "outputs": [],
   "source": [
    "cities = {'Jack':'Delft', 'Lucy':'Delft', 'James':'Leiden'}"
   ]
  },
  {
   "cell_type": "markdown",
   "metadata": {},
   "source": [
    "| code | result | comment |\n",
    "|:-----|:-------|:--------|\n",
    "| `cities.keys()` | `{'Jack', 'Lucy', 'James'}` | returns a 'set' with all the unique keys in cities |\n",
    "| `cities.values()` | `[ 'Delft', 'Delft', 'Leiden' ]` | returns a 'list' with all the values in cities |\n",
    "| `cities.items()` | [('Jack','Delft'), ('Lucy','Delft'), ('James','Leiden')] | return a 'list' of (key, value) tuples |"
   ]
  },
  {
   "cell_type": "markdown",
   "metadata": {},
   "source": [
    "When we iterate over a dictionary with a for-in loop, we operate over the keys only."
   ]
  },
  {
   "cell_type": "code",
   "execution_count": null,
   "metadata": {},
   "outputs": [],
   "source": [
    "[ a for a in cities ]"
   ]
  },
  {
   "cell_type": "markdown",
   "metadata": {},
   "source": [
    "# Assignments"
   ]
  },
  {
   "cell_type": "markdown",
   "metadata": {},
   "source": [
    "#### Which values are in the following comprehension?"
   ]
  },
  {
   "cell_type": "markdown",
   "metadata": {},
   "source": [
    "```\n",
    "cities = {'Jack':'Delft', 'Lucy':'Delft', 'James':'Leiden'}  # a dict of persons and the cities where they live\n",
    "[ a for a in cities if cities[a] == 'Delft' ]\n",
    "```"
   ]
  },
  {
   "cell_type": "code",
   "execution_count": null,
   "metadata": {
    "nbgrader": {
     "grade": false,
     "grade_id": "cell-2445fb3ae33aec16",
     "locked": true,
     "schema_version": 3,
     "solution": false,
     "task": false
    }
   },
   "outputs": [],
   "source": [
    "%%mmc dictfunc1\n",
    "Jack\n",
    "James\n",
    "Lucy\n",
    "Delft\n",
    "Leiden"
   ]
  },
  {
   "cell_type": "code",
   "execution_count": null,
   "metadata": {
    "deletable": false,
    "editable": false
   },
   "outputs": [],
   "source": [
    "%%check\n",
    "result == 6507227312947031"
   ]
  },
  {
   "cell_type": "markdown",
   "metadata": {},
   "source": [
    "```\n",
    "cities = {'Jack':'Delft', 'Lucy':'Delft', 'James':'Leiden'}\n",
    "[ a for a, b in cities.items() if b == 'Leiden' ]\n",
    "```"
   ]
  },
  {
   "cell_type": "code",
   "execution_count": null,
   "metadata": {
    "nbgrader": {
     "grade": false,
     "grade_id": "cell-f40d7c0a175698fe",
     "locked": true,
     "schema_version": 3,
     "solution": false,
     "task": false
    }
   },
   "outputs": [],
   "source": [
    "%%mmc dictfunc4\n",
    "Jack\n",
    "James\n",
    "Lucy\n",
    "Delft\n",
    "Leiden"
   ]
  },
  {
   "cell_type": "code",
   "execution_count": null,
   "metadata": {
    "deletable": false,
    "editable": false
   },
   "outputs": [],
   "source": [
    "%%check\n",
    "result == 2393642881776613"
   ]
  },
  {
   "cell_type": "markdown",
   "metadata": {},
   "source": [
    "```\n",
    "cities = {'Jack':'Delft', 'Lucy':'Delft', 'James':'Leiden'}\n",
    "[ a[1] for a in cities.items() ]\n",
    "```"
   ]
  },
  {
   "cell_type": "code",
   "execution_count": null,
   "metadata": {
    "nbgrader": {
     "grade": false,
     "grade_id": "cell-7b46410b12f0476f",
     "locked": true,
     "schema_version": 3,
     "solution": false,
     "task": false
    }
   },
   "outputs": [],
   "source": [
    "%%mmc dictfunc3\n",
    "Jack\n",
    "James\n",
    "Lucy\n",
    "Delft\n",
    "Leiden"
   ]
  },
  {
   "cell_type": "code",
   "execution_count": null,
   "metadata": {
    "deletable": false,
    "editable": false
   },
   "outputs": [],
   "source": [
    "%%check\n",
    "result == 282834840458508"
   ]
  },
  {
   "cell_type": "markdown",
   "metadata": {},
   "source": [
    "```\n",
    "cities = {'Jack':'Delft', 'Lucy':'Delft', 'James':'Leiden'}\n",
    "[ b for a, b in cities.items() if b[0] == 'L' ]\n",
    "```"
   ]
  },
  {
   "cell_type": "code",
   "execution_count": null,
   "metadata": {
    "nbgrader": {
     "grade": false,
     "grade_id": "cell-a1d61cbe39f3e80f",
     "locked": true,
     "schema_version": 3,
     "solution": false,
     "task": false
    }
   },
   "outputs": [],
   "source": [
    "%%mmc dictfunc2\n",
    "Jack\n",
    "James\n",
    "Lucy\n",
    "Delft\n",
    "Leiden"
   ]
  },
  {
   "cell_type": "code",
   "execution_count": null,
   "metadata": {
    "deletable": false,
    "editable": false
   },
   "outputs": [],
   "source": [
    "%%check\n",
    "result == 3466407746501265"
   ]
  },
  {
   "cell_type": "markdown",
   "metadata": {},
   "source": [
    "#### Give the average age of the persons in `age`\n",
    "\n",
    "For the given case, the answer should be 22.0"
   ]
  },
  {
   "cell_type": "code",
   "execution_count": null,
   "metadata": {},
   "outputs": [],
   "source": [
    "age = {'Anna':23, 'Axel':20, 'Andre':23}   # persons and their age"
   ]
  },
  {
   "cell_type": "code",
   "execution_count": null,
   "metadata": {
    "deletable": false,
    "editable": true
   },
   "outputs": [],
   "source": [
    "%%assignment\n",
    "### ENTER YOUR CODE HERE"
   ]
  },
  {
   "cell_type": "code",
   "execution_count": null,
   "metadata": {
    "deletable": false,
    "editable": false
   },
   "outputs": [],
   "source": [
    "%%check\n",
    "age = {'Anna':23, 'Axel':20, 'Andre':23}\n",
    "result == 22\n",
    "age = {'Anna':42, 'Axel':20}\n",
    "result == 31"
   ]
  },
  {
   "cell_type": "markdown",
   "metadata": {},
   "source": [
    "#### Write a SET comprehension that gives all the `cities` where one or more persons live whose name starts with `'A'`.\n",
    "\n",
    "For the given case, the answer should be `{'Delft', 'Leiden'}`"
   ]
  },
  {
   "cell_type": "code",
   "execution_count": null,
   "metadata": {},
   "outputs": [],
   "source": [
    "cities = {'Anna':'Delft', 'Axel':'Delft', 'Andre':'Leiden'}"
   ]
  },
  {
   "cell_type": "code",
   "execution_count": null,
   "metadata": {
    "deletable": false,
    "editable": true
   },
   "outputs": [],
   "source": [
    "%%assignment\n",
    "### ENTER YOUR CODE HERE"
   ]
  },
  {
   "cell_type": "code",
   "execution_count": null,
   "metadata": {
    "deletable": false,
    "editable": false
   },
   "outputs": [],
   "source": [
    "%%check\n",
    "cities = {'Anna':'Delft', 'Axel':'Delft', 'Andre':'Leiden'}\n",
    "result == {'Delft', 'Leiden'}\n",
    "cities = {'Anna':'Delft', 'Axel':'Delft', 'Bert':'Leiden'}\n",
    "result == {'Delft'}"
   ]
  },
  {
   "cell_type": "markdown",
   "metadata": {},
   "source": [
    "#### Write a list comprehension to list the types of food that Jack has ordered.\n",
    "\n",
    "For the given case, the answer should be `['vegetable', 'fruit']`"
   ]
  },
  {
   "cell_type": "code",
   "execution_count": null,
   "metadata": {},
   "outputs": [],
   "source": [
    "food_type = {'apple':'fruit', 'pear':'fruit', 'pepper':'vegetable', 'onion':'vegetable'}\n",
    "jacks_order = ['pepper', 'apple']"
   ]
  },
  {
   "cell_type": "code",
   "execution_count": null,
   "metadata": {
    "deletable": false,
    "editable": true
   },
   "outputs": [],
   "source": [
    "%%assignment\n",
    "### ENTER YOUR CODE HERE"
   ]
  },
  {
   "cell_type": "code",
   "execution_count": null,
   "metadata": {
    "deletable": false,
    "editable": false
   },
   "outputs": [],
   "source": [
    "%%check\n",
    "food_type = {'apple':'fruit', 'pear':'fruit', 'pepper':'vegetable', 'onion':'vegetable'}\n",
    "jacks_order = ['pepper', 'apple']\n",
    "set(result) == {'vegetable', 'fruit'}\n",
    "food_type = {'banana':'fruit', 'pear':'fruit', 'pepper':'vegetable', 'onion':'vegetable'}\n",
    "jacks_order = ['banana']\n",
    "set(result) == {'fruit'}"
   ]
  },
  {
   "cell_type": "markdown",
   "metadata": {},
   "source": [
    "#### How many pieces of fruit has jack ordered?\n",
    "\n",
    "For the given case the answer should be 1"
   ]
  },
  {
   "cell_type": "code",
   "execution_count": null,
   "metadata": {},
   "outputs": [],
   "source": [
    "food_type = {'apple':'fruit', 'pear':'fruit', 'pepper':'vegetable', 'onion':'vegetable'}\n",
    "jacks_order = ['pepper', 'apple']"
   ]
  },
  {
   "cell_type": "code",
   "execution_count": null,
   "metadata": {
    "deletable": false,
    "editable": true
   },
   "outputs": [],
   "source": [
    "%%assignment\n",
    "### ENTER YOUR CODE HERE"
   ]
  },
  {
   "cell_type": "code",
   "execution_count": null,
   "metadata": {
    "deletable": false,
    "editable": false
   },
   "outputs": [],
   "source": [
    "%%check\n",
    "food_type = {'apple':'fruit', 'pear':'fruit', 'pepper':'vegetable', 'onion':'vegetable'}\n",
    "jacks_order = ['pepper', 'apple']\n",
    "result == 1\n",
    "food_type = {'banana':'fruit', 'pear':'fruit', 'pepper':'vegetable', 'onion':'vegetable'}\n",
    "jacks_order = ['banana', 'pear']\n",
    "result == 2"
   ]
  }
 ],
 "metadata": {
  "celltoolbar": "Create Assignment",
  "kernelspec": [
   {
    "display_name": "prog",
    "language": "python",
    "name": "prog"
   }
  ],
  "language_info": {
   "codemirror_mode": {
    "name": "ipython",
    "version": 3
   },
   "file_extension": ".py",
   "mimetype": "text/x-python",
   "name": "python",
   "nbconvert_exporter": "python",
   "pygments_lexer": "ipython3",
   "version": "3.8.8"
  }
 },
 "nbformat": 4,
 "nbformat_minor": 4
}
