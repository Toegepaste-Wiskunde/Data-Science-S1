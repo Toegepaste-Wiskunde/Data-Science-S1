{
 "cells": [
  {
   "cell_type": "markdown",
   "metadata": {},
   "source": [
    "# Dictionaries\n",
    "\n",
    "A dictionary is a collection in which values are indexed by keys. These keys must be unique, the values do not have to be unique. Dictionaries are written like sets in between curly braces `{}`, except that the listed values must be preceded by a key."
   ]
  },
  {
   "cell_type": "code",
   "execution_count": null,
   "metadata": {},
   "outputs": [],
   "source": [
    "food = {'apple':'fruit', 'onion':'vegetable', 'orange':'fruit'}"
   ]
  },
  {
   "cell_type": "markdown",
   "metadata": {},
   "source": [
    "Typical uses of dictionaries are in the table below."
   ]
  },
  {
   "cell_type": "markdown",
   "metadata": {},
   "source": [
    "| code | result | comment |\n",
    "|:-----|:-------|:--------|\n",
    "| `food['apple']` | `'fruit'` | retrieve the value for a key |\n",
    "| `food['pear']` | ValueError | the key must be in the dictionary |\n",
    "| `food.get('pear', 'sorry')` | `'sorry'` | returns the value of the key 'pear' if it exists, otherwise the second parameter is returned |\n",
    "| `food['pear'] = 'fruit'` |   | adds the key-value pair pear:fruit to the dictionary food |\n",
    "| `del food['apple']` |    | removes the key apple from the dictionary food, so the value is also gone |\n",
    "| `len(food)`| `3` | retuns the number of keys in food |\n",
    "| `'apple' in food` | `True` | checks if apple is in food as a key |\n",
    "| `'fruit' in food` | `False` | checks if 'fruit' is in food as a key (does not check values) |\n"
   ]
  },
  {
   "cell_type": "markdown",
   "metadata": {},
   "source": [
    "# Assignments"
   ]
  },
  {
   "cell_type": "markdown",
   "metadata": {},
   "source": [
    "#### Write code to create a dictionary `cities`, that map cities (the key) to their country (the value)\n",
    "\n",
    "Add 'Delft' and 'Amsterdam' with 'The Netherlands', and 'Paris' with 'France'."
   ]
  },
  {
   "cell_type": "code",
   "execution_count": null,
   "metadata": {
    "deletable": false,
    "editable": true
   },
   "outputs": [],
   "source": [
    "%%assignment\n",
    "### ENTER YOUR CODE HERE"
   ]
  },
  {
   "cell_type": "code",
   "execution_count": null,
   "metadata": {
    "deletable": false,
    "editable": false
   },
   "outputs": [],
   "source": [
    "%%check\n",
    "all( cities[c] == 'The Netherlands' for c in ['Delft', 'Amsterdam'])\n",
    "all( cities[c] == 'France' for c in ['Paris'])\n",
    "len(cities) == 3"
   ]
  },
  {
   "cell_type": "markdown",
   "metadata": {},
   "source": [
    "#### Add 'Berlin' with 'Germany' to `cities`"
   ]
  },
  {
   "cell_type": "code",
   "execution_count": null,
   "metadata": {},
   "outputs": [],
   "source": [
    "cities = {'Hamburg':'Germany'}"
   ]
  },
  {
   "cell_type": "code",
   "execution_count": null,
   "metadata": {
    "deletable": false,
    "editable": true
   },
   "outputs": [],
   "source": [
    "%%assignment\n",
    "### ENTER YOUR CODE HERE"
   ]
  },
  {
   "cell_type": "code",
   "execution_count": null,
   "metadata": {
    "deletable": false,
    "editable": false
   },
   "outputs": [],
   "source": [
    "%%check\n",
    "cities = {}\n",
    "len(cities) == 1\n",
    "all( cities[c] == 'Germany' for c in ['Berlin'])\n",
    "cities = {'Hamburg':'Germany'}\n",
    "len(cities) == 2\n",
    "all( cities[c] == 'Germany' for c in ['Berlin', 'Hamburg'])"
   ]
  },
  {
   "cell_type": "markdown",
   "metadata": {},
   "source": [
    "#### Remove 'Hamburg' from `cities`"
   ]
  },
  {
   "cell_type": "code",
   "execution_count": null,
   "metadata": {},
   "outputs": [],
   "source": [
    "cities = {'Hamburg':'Germany'}"
   ]
  },
  {
   "cell_type": "code",
   "execution_count": null,
   "metadata": {
    "deletable": false,
    "editable": true
   },
   "outputs": [],
   "source": [
    "%%assignment\n",
    "### ENTER YOUR CODE HERE"
   ]
  },
  {
   "cell_type": "code",
   "execution_count": null,
   "metadata": {
    "deletable": false,
    "editable": false
   },
   "outputs": [],
   "source": [
    "%%check\n",
    "cities = {'Hamburg':'Germany', 'Berlin':'Germany'}\n",
    "len(cities) == 1\n",
    "all( cities[c] == 'Germany' for c in ['Berlin'])\n",
    "cities = {'Hamburg':'Germany'}\n",
    "len(cities) == 0"
   ]
  },
  {
   "cell_type": "markdown",
   "metadata": {},
   "source": [
    "#### Write an expression to see how many items there are in `cities`"
   ]
  },
  {
   "cell_type": "code",
   "execution_count": null,
   "metadata": {
    "deletable": false,
    "editable": true
   },
   "outputs": [],
   "source": [
    "%%assignment\n",
    "### ENTER YOUR CODE HERE"
   ]
  },
  {
   "cell_type": "code",
   "execution_count": null,
   "metadata": {
    "deletable": false,
    "editable": false
   },
   "outputs": [],
   "source": [
    "%%check\n",
    "cities = {'Hamburg':'Germany', 'Berlin':'Germany'}\n",
    "result == 2\n",
    "cities = {'Hamburg':'Germany'}\n",
    "result == 1"
   ]
  },
  {
   "cell_type": "markdown",
   "metadata": {},
   "source": [
    "#### Choose the correct answers"
   ]
  },
  {
   "cell_type": "markdown",
   "metadata": {},
   "source": [
    "```\n",
    "food = {'apple':'fruit', 'onion':'vegetable', 'orange':'fruit'}\n",
    "food['vegetable']\n",
    "```"
   ]
  },
  {
   "cell_type": "code",
   "execution_count": null,
   "metadata": {
    "nbgrader": {
     "grade": false,
     "grade_id": "cell-68fd226df6075328",
     "locked": true,
     "schema_version": 3,
     "solution": false,
     "task": false
    }
   },
   "outputs": [],
   "source": [
    "%%mc dictionaries1\n",
    "Error\n",
    "onion\n",
    "apple\n",
    "fruit"
   ]
  },
  {
   "cell_type": "code",
   "execution_count": null,
   "metadata": {
    "deletable": false,
    "editable": false
   },
   "outputs": [],
   "source": [
    "%%check\n",
    "result == 4705007678641341"
   ]
  },
  {
   "cell_type": "markdown",
   "metadata": {},
   "source": [
    "```\n",
    "food = {'apple':'fruit', 'onion':'vegetable', 'orange':'fruit'}\n",
    "food['orange']\n",
    "```"
   ]
  },
  {
   "cell_type": "code",
   "execution_count": null,
   "metadata": {
    "nbgrader": {
     "grade": false,
     "grade_id": "cell-8114c40010e40239",
     "locked": true,
     "schema_version": 3,
     "solution": false,
     "task": false
    }
   },
   "outputs": [],
   "source": [
    "%%mc dictionaries2\n",
    "Error\n",
    "vegetable\n",
    "apple\n",
    "fruit"
   ]
  },
  {
   "cell_type": "code",
   "execution_count": null,
   "metadata": {
    "deletable": false,
    "editable": false
   },
   "outputs": [],
   "source": [
    "%%check\n",
    "result == 3550856969996592"
   ]
  },
  {
   "cell_type": "markdown",
   "metadata": {},
   "source": [
    "```\n",
    "food = {'apple':'fruit', 'onion':'vegetable', 'orange':'fruit'}\n",
    "'vegetable' in food\n",
    "```"
   ]
  },
  {
   "cell_type": "code",
   "execution_count": null,
   "metadata": {
    "nbgrader": {
     "grade": false,
     "grade_id": "cell-9854536cbec21ac3",
     "locked": true,
     "schema_version": 3,
     "solution": false,
     "task": false
    }
   },
   "outputs": [],
   "source": [
    "%%mc dictionaries3\n",
    "Error\n",
    "True\n",
    "False\n",
    "onion"
   ]
  },
  {
   "cell_type": "code",
   "execution_count": null,
   "metadata": {
    "deletable": false,
    "editable": false
   },
   "outputs": [],
   "source": [
    "%%check\n",
    "result == 2853395526533452"
   ]
  },
  {
   "cell_type": "markdown",
   "metadata": {},
   "source": [
    "```\n",
    "food = {'apple':'fruit', 'onion':'vegetable', 'orange':'fruit'}\n",
    "'vegetable' in food.values()\n",
    "```"
   ]
  },
  {
   "cell_type": "code",
   "execution_count": null,
   "metadata": {
    "nbgrader": {
     "grade": false,
     "grade_id": "cell-d314cd9889846987",
     "locked": true,
     "schema_version": 3,
     "solution": false,
     "task": false
    }
   },
   "outputs": [],
   "source": [
    "%%mc dictionaries4\n",
    "Error\n",
    "True\n",
    "False\n",
    "onion"
   ]
  },
  {
   "cell_type": "code",
   "execution_count": null,
   "metadata": {
    "deletable": false,
    "editable": false
   },
   "outputs": [],
   "source": [
    "%%check\n",
    "result == 5335744623139444"
   ]
  },
  {
   "cell_type": "markdown",
   "metadata": {},
   "source": [
    "```\n",
    "food = {'apple':'fruit', 'onion':'vegetable', 'orange':'fruit'}\n",
    "food.get('pineapple', 'juicy')\n",
    "```"
   ]
  },
  {
   "cell_type": "code",
   "execution_count": null,
   "metadata": {
    "nbgrader": {
     "grade": false,
     "grade_id": "cell-297b2f03f5f44ba5",
     "locked": true,
     "schema_version": 3,
     "solution": false,
     "task": false
    }
   },
   "outputs": [],
   "source": [
    "%%mc dictionaries5\n",
    "Error\n",
    "None\n",
    "fruit\n",
    "juicy\n",
    "vegetable"
   ]
  },
  {
   "cell_type": "code",
   "execution_count": null,
   "metadata": {
    "deletable": false,
    "editable": false
   },
   "outputs": [],
   "source": [
    "%%check\n",
    "result == 9644222708533370"
   ]
  },
  {
   "cell_type": "markdown",
   "metadata": {},
   "source": [
    "```\n",
    "food = {'apple':'fruit', 'onion':'vegetable', 'orange':'fruit'}\n",
    "food.get('apple', 'juicy')\n",
    "```"
   ]
  },
  {
   "cell_type": "code",
   "execution_count": null,
   "metadata": {
    "nbgrader": {
     "grade": false,
     "grade_id": "cell-2d5d32fd1336e8ab",
     "locked": true,
     "schema_version": 3,
     "solution": false,
     "task": false
    }
   },
   "outputs": [],
   "source": [
    "%%mc dictionaries6\n",
    "Error\n",
    "None\n",
    "fruit\n",
    "juicy\n",
    "vegetable"
   ]
  },
  {
   "cell_type": "code",
   "execution_count": null,
   "metadata": {
    "deletable": false,
    "editable": false
   },
   "outputs": [],
   "source": [
    "%%check\n",
    "result == 3550856969996592"
   ]
  }
 ],
 "metadata": {
  "celltoolbar": "Create Assignment",
  "kernelspec": [
   {
    "display_name": "prog",
    "language": "python",
    "name": "prog"
   }
  ],
  "language_info": {
   "codemirror_mode": {
    "name": "ipython",
    "version": 3
   },
   "file_extension": ".py",
   "mimetype": "text/x-python",
   "name": "python",
   "nbconvert_exporter": "python",
   "pygments_lexer": "ipython3",
   "version": "3.8.8"
  }
 },
 "nbformat": 4,
 "nbformat_minor": 4
}
