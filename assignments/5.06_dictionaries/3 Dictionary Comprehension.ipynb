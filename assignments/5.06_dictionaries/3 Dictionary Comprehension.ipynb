{
 "cells": [
  {
   "cell_type": "markdown",
   "metadata": {},
   "source": [
    "# Dictionary Comprehension\n",
    "\n",
    "There is also a dictionary comprehension. It works the same way as a Set Comprehension, the only difference is that the expression contains a `:` to list `key:value` pairs."
   ]
  },
  {
   "cell_type": "markdown",
   "metadata": {},
   "source": [
    "```{ key:value for ... in ... if ... }```"
   ]
  },
  {
   "cell_type": "markdown",
   "metadata": {},
   "source": [
    "Like with any comprehsions, you can use any type of collection to iterate over. `key` and `value` can be any expression that results in a value."
   ]
  },
  {
   "cell_type": "markdown",
   "metadata": {},
   "source": [
    "# Example"
   ]
  },
  {
   "cell_type": "code",
   "execution_count": null,
   "metadata": {},
   "outputs": [],
   "source": [
    "flowers = [('violet', 20, 'blue'), ('rose', 60, 'red'), ('tulip', 50, 'red')]"
   ]
  },
  {
   "cell_type": "markdown",
   "metadata": {},
   "source": [
    "We can now use the List flowers, to derive a dictionary that maps flowers to their color."
   ]
  },
  {
   "cell_type": "code",
   "execution_count": null,
   "metadata": {},
   "outputs": [],
   "source": [
    "flower_colors = { name:color for name, height, color in flowers }"
   ]
  },
  {
   "cell_type": "code",
   "execution_count": null,
   "metadata": {},
   "outputs": [],
   "source": [
    "flower_colors['violet']"
   ]
  },
  {
   "cell_type": "code",
   "execution_count": null,
   "metadata": {},
   "outputs": [],
   "source": [
    "flower_colors['rose']"
   ]
  },
  {
   "cell_type": "markdown",
   "metadata": {},
   "source": [
    "# Assignment"
   ]
  },
  {
   "cell_type": "markdown",
   "metadata": {},
   "source": [
    "#### Write a dictionary comprehension that assigns to `elderly` all `persons` that are at least 65 years old\n",
    "\n",
    "Persons lists name and age."
   ]
  },
  {
   "cell_type": "code",
   "execution_count": null,
   "metadata": {},
   "outputs": [],
   "source": [
    "persons = {'bill':70, 'charles':75, 'Rudolf':55}"
   ]
  },
  {
   "cell_type": "code",
   "execution_count": null,
   "metadata": {
    "deletable": false,
    "editable": true
   },
   "outputs": [],
   "source": [
    "%%assignment\n",
    "### ENTER YOUR CODE HERE\n",
    "elderly"
   ]
  },
  {
   "cell_type": "code",
   "execution_count": null,
   "metadata": {
    "deletable": false,
    "editable": false
   },
   "outputs": [],
   "source": [
    "%%check\n",
    "persons = {'Bill':70, 'Charles':75, 'Rudolf':55}\n",
    "elderly == {'Bill': 70, 'Charles': 75}\n",
    "persons = {'Jane':43, 'Anne':64, 'Mike':65}\n",
    "elderly == {'Mike': 65}"
   ]
  },
  {
   "cell_type": "markdown",
   "metadata": {},
   "source": [
    "#### Write a dictionary comprehension based in `price_euro` that lists the prices in dollars.\n",
    "\n",
    "To convert an amount to euro's to dollars, you will have to multiply the price in euros with the `euro_dollar_rate`."
   ]
  },
  {
   "cell_type": "code",
   "execution_count": null,
   "metadata": {},
   "outputs": [],
   "source": [
    "price_euro = {'coffee':2.50, 'milk':1.40, 'tea':2.00}\n",
    "euro_dollar_rate = 1.1                                # 1 euro is 1.1 dollar (in this exercise)"
   ]
  },
  {
   "cell_type": "code",
   "execution_count": null,
   "metadata": {
    "deletable": false,
    "editable": true
   },
   "outputs": [],
   "source": [
    "%%assignment\n",
    "### ENTER YOUR CODE HERE"
   ]
  },
  {
   "cell_type": "code",
   "execution_count": null,
   "metadata": {
    "deletable": false,
    "editable": false
   },
   "outputs": [],
   "source": [
    "%%check\n",
    "comprehension\n",
    "price_euro = {'coffee':2.50, 'milk':1.40, 'tea':2.00}\n",
    "euro_dollar_rate = 1.1                                \n",
    "result == {'coffee': 2.75, 'milk': 1.54, 'tea': 2.2}\n",
    "price_euro = {'coffee':2.50, 'milk':1.40}\n",
    "euro_dollar_rate = 1.2                                \n",
    "result == {'coffee': 3.0, 'milk': 1.68}"
   ]
  },
  {
   "cell_type": "markdown",
   "metadata": {},
   "source": [
    "#### Now use the dictionary `price` to look up the price of a `product`."
   ]
  },
  {
   "cell_type": "code",
   "execution_count": null,
   "metadata": {},
   "outputs": [],
   "source": [
    "price = {'coffee':2.50, 'milk':1.40, 'tea':2.00}\n",
    "product = 'coffee'"
   ]
  },
  {
   "cell_type": "code",
   "execution_count": null,
   "metadata": {
    "deletable": false,
    "editable": true
   },
   "outputs": [],
   "source": [
    "%%assignment\n",
    "### ENTER YOUR CODE HERE"
   ]
  },
  {
   "cell_type": "code",
   "execution_count": null,
   "metadata": {
    "deletable": false,
    "editable": false
   },
   "outputs": [],
   "source": [
    "%%check\n",
    "price = {'coffee':2.50, 'milk':1.40, 'tea':2.00}\n",
    "product = 'coffee'                              \n",
    "result == 2.5\n",
    "price = {'coffee':2.50, 'milk':1.40, 'tea':3.00}\n",
    "product = 'tea'                              \n",
    "result == 3.0"
   ]
  },
  {
   "cell_type": "markdown",
   "metadata": {},
   "source": [
    "#### Now use the dictionary `price` to look up all the prices of the products in `jims_purchases`\n",
    "\n",
    "The result should be a List of purchases, e.g. `[2.50, 2.00]`."
   ]
  },
  {
   "cell_type": "code",
   "execution_count": null,
   "metadata": {},
   "outputs": [],
   "source": [
    "price = {'coffee':2.50, 'milk':1.40, 'tea':2.00}\n",
    "jims_purchases = ['coffee', 'tea']"
   ]
  },
  {
   "cell_type": "code",
   "execution_count": null,
   "metadata": {
    "deletable": false,
    "editable": true
   },
   "outputs": [],
   "source": [
    "%%assignment\n",
    "### ENTER YOUR CODE HERE"
   ]
  },
  {
   "cell_type": "code",
   "execution_count": null,
   "metadata": {
    "deletable": false,
    "editable": false
   },
   "outputs": [],
   "source": [
    "%%check\n",
    "comprehension\n",
    "price = {'coffee':2.50, 'milk':1.40, 'tea':2.00}\n",
    "jims_purchases = ['coffee', 'tea'] \n",
    "set(result) == set([2.5, 2.0])\n",
    "price = {'coffee':3.50, 'milk':1.40, 'tea':2.00}\n",
    "jims_purchases = ['coffee', 'milk'] \n",
    "set(result) == set([3.5, 1.4])"
   ]
  },
  {
   "cell_type": "markdown",
   "metadata": {},
   "source": [
    "#### Compute how much Jim has to pay\n",
    "\n",
    "In this case the answer should be 7.00"
   ]
  },
  {
   "cell_type": "code",
   "execution_count": null,
   "metadata": {},
   "outputs": [],
   "source": [
    "price = {'coffee':2.50, 'milk':1.40, 'tea':2.00}\n",
    "jims_purchases = ['coffee', 'coffee', 'tea']"
   ]
  },
  {
   "cell_type": "code",
   "execution_count": null,
   "metadata": {
    "deletable": false,
    "editable": true
   },
   "outputs": [],
   "source": [
    "%%assignment\n",
    "### ENTER YOUR CODE HERE"
   ]
  },
  {
   "cell_type": "code",
   "execution_count": null,
   "metadata": {
    "deletable": false,
    "editable": false
   },
   "outputs": [],
   "source": [
    "%%check\n",
    "price = {'coffee':3.50, 'milk':1.40, 'tea':2.00}\n",
    "jims_purchases = ['coffee', 'milk'] \n",
    "result == 4.9\n",
    "price = {'coffee':2.50, 'milk':1.40, 'tea':2.00}\n",
    "jims_purchases = ['coffee', 'coffee', 'tea'] \n",
    "result == 7.0"
   ]
  }
 ],
 "metadata": {
  "celltoolbar": "Create Assignment",
  "kernelspec": [
   {
    "display_name": "prog",
    "language": "python",
    "name": "prog"
   }
  ],
  "language_info": {
   "codemirror_mode": {
    "name": "ipython",
    "version": 3
   },
   "file_extension": ".py",
   "mimetype": "text/x-python",
   "name": "python",
   "nbconvert_exporter": "python",
   "pygments_lexer": "ipython3",
   "version": "3.8.8"
  }
 },
 "nbformat": 4,
 "nbformat_minor": 4
}
