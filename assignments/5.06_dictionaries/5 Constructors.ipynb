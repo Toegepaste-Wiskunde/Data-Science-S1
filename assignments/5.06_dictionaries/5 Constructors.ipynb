{
 "cells": [
  {
   "cell_type": "markdown",
   "metadata": {},
   "source": [
    "# Consructors\n",
    "\n",
    "In Python, you can also create a `list`, `set`, `tuple` or `dictionary` with a constructor of the same name. You can pass any 'iterable' to it and it will populate the collection using the values in that iterable. The term 'iterable' refers to anything you can iterate over, so anything you could use in a for-in loop. This could be a list, set, tuple or dictionary, but it can also be a String for example.\n",
    "\n",
    "| code | result | comment |\n",
    "|:-----|:-------|:--------|\n",
    "| `list({2, 5})` | `[ 2, 5 ]` | Creates a list populated with the values in a set. Note that since sets are unordered, the result could also be the 2 and 5 in reverse order |\n",
    "| `set('aardvark')` | `{'a', 'r', 'd', 'v', 'k' }` | Creates a set of the characters in a word. Since sets have unique elements, duplicates are removed |\n",
    "| `tuple({2:'a', 3:'b'})` | `(2, 3)` | Creates a tuple. Since by default the iterator is over the keys, only those are listed |\n",
    "| `list({2:'a', 3:'b'}.items())` | `[(2, 'a'), (3, 'b')]` | Since items() on a dictionay iterates over (key, value) tuples, those are stored in the list |\n",
    "| `dict([(1, 'a'), (2, 'b')])` | `{'a':1, 'b':2}` | The elements of the list are (key, value) tuples. These are automatically transformed to key:value pairs in the dict |\n",
    "| `dict(zip( ('a', 'b'), [1, 2] ))` | `{'a':1, 'b':2}` | We could also use `zip` to construct tuples and then turn that into a dictionary | "
   ]
  },
  {
   "cell_type": "markdown",
   "metadata": {},
   "source": [
    "# Assignments"
   ]
  },
  {
   "cell_type": "markdown",
   "metadata": {},
   "source": [
    "# Convert the list `numbers` into a set."
   ]
  },
  {
   "cell_type": "code",
   "execution_count": null,
   "metadata": {},
   "outputs": [],
   "source": [
    "numbers = [ 2, 3, 2, 4 ]"
   ]
  },
  {
   "cell_type": "code",
   "execution_count": null,
   "metadata": {
    "deletable": false,
    "editable": true
   },
   "outputs": [],
   "source": [
    "%%assignment\n",
    "### ENTER YOUR CODE HERE"
   ]
  },
  {
   "cell_type": "code",
   "execution_count": null,
   "metadata": {
    "deletable": false,
    "editable": false
   },
   "outputs": [],
   "source": [
    "%%check\n",
    "numbers = [ 1, 1, 2, 2 ]\n",
    "result == {1, 2}\n",
    "numbers = [ 2, 3, 2, 4 ]\n",
    "result == {2, 3, 4}"
   ]
  },
  {
   "cell_type": "markdown",
   "metadata": {},
   "source": [
    "# Convert the list `numbers` into a tuple."
   ]
  },
  {
   "cell_type": "code",
   "execution_count": null,
   "metadata": {},
   "outputs": [],
   "source": [
    "numbers = [ 2, 3, 2, 4 ]"
   ]
  },
  {
   "cell_type": "code",
   "execution_count": null,
   "metadata": {
    "deletable": false,
    "editable": true
   },
   "outputs": [],
   "source": [
    "%%assignment\n",
    "### ENTER YOUR CODE HERE"
   ]
  },
  {
   "cell_type": "code",
   "execution_count": null,
   "metadata": {
    "deletable": false,
    "editable": false
   },
   "outputs": [],
   "source": [
    "%%check\n",
    "numbers = [ 1, 1, 2, 2 ]\n",
    "result == (1, 1, 2, 2)\n",
    "numbers = [ 2, 3, 2, 4 ]\n",
    "result == (2, 3, 2, 4)"
   ]
  },
  {
   "cell_type": "markdown",
   "metadata": {},
   "source": [
    "# Count how many unique letters there are in `word`.\n",
    "\n",
    "Consider that a word is just a collection of characters, you can turn that collection into a set and then count the number of unique letter (which is the same as the number of elements, since a set does not have doubles)."
   ]
  },
  {
   "cell_type": "code",
   "execution_count": null,
   "metadata": {},
   "outputs": [],
   "source": [
    "word = 'parallelogram'"
   ]
  },
  {
   "cell_type": "code",
   "execution_count": null,
   "metadata": {
    "deletable": false,
    "editable": true
   },
   "outputs": [],
   "source": [
    "%%assignment\n",
    "### ENTER YOUR CODE HERE"
   ]
  },
  {
   "cell_type": "code",
   "execution_count": null,
   "metadata": {
    "deletable": false,
    "editable": false
   },
   "outputs": [],
   "source": [
    "%%check\n",
    "mandatory set\n",
    "forbidden for   # you should do this without a for loop\n",
    "word = 'this'\n",
    "result == 4\n",
    "word = 'parallelogram'\n",
    "result == 8"
   ]
  },
  {
   "cell_type": "markdown",
   "metadata": {},
   "source": [
    "# Give the unique cities of these `students`\n",
    "\n",
    "Every element in the dictionary `students` has a name as its key and cityname as its value. The citynames are not necessarily unique in the dictionary."
   ]
  },
  {
   "cell_type": "code",
   "execution_count": null,
   "metadata": {},
   "outputs": [],
   "source": [
    "students = {'Lucy':'Delft', 'James':'Rotterdam', 'Mary':'Delft'}"
   ]
  },
  {
   "cell_type": "code",
   "execution_count": null,
   "metadata": {
    "deletable": false,
    "editable": true
   },
   "outputs": [],
   "source": [
    "%%assignment\n",
    "### ENTER YOUR CODE HERE"
   ]
  },
  {
   "cell_type": "code",
   "execution_count": null,
   "metadata": {
    "deletable": false,
    "editable": false
   },
   "outputs": [],
   "source": [
    "%%check\n",
    "students = {'Lucy':'Delft', 'James':'Rotterdam', 'Mary':'Delft'}\n",
    "result == {'Delft', 'Rotterdam'}\n",
    "students = {'Lucy':'Delft', 'James':'Delft', 'Mary':'Delft'}\n",
    "result == {'Delft'}"
   ]
  },
  {
   "cell_type": "markdown",
   "metadata": {},
   "source": [
    "# Consider a hand of 5 playing cards, count how many different suits there are.\n",
    "\n",
    "The suits are clubs (♣), diamonds (♦), hearts (♥), and spades (♠). The suit of a card is always at the end of the String.\n",
    "\n",
    "Hint: you can create a set comprehension that contains just the suits and then count the number of elements."
   ]
  },
  {
   "cell_type": "code",
   "execution_count": null,
   "metadata": {},
   "outputs": [],
   "source": [
    "hand = ['10♥', '5♣', '9♣', '10♦', 'Q♥']"
   ]
  },
  {
   "cell_type": "code",
   "execution_count": null,
   "metadata": {
    "deletable": false,
    "editable": true
   },
   "outputs": [],
   "source": [
    "%%assignment\n",
    "### ENTER YOUR CODE HERE"
   ]
  },
  {
   "cell_type": "code",
   "execution_count": null,
   "metadata": {
    "deletable": false,
    "editable": false
   },
   "outputs": [],
   "source": [
    "%%check\n",
    "hand = ['10♠', '5♠', '9♠', '10♠', 'Q♠']\n",
    "result == 1\n",
    "hand = ['10♥', '5♣', '9♣', '10♦', 'Q♥']\n",
    "result == 3"
   ]
  }
 ],
 "metadata": {
  "celltoolbar": "Create Assignment",
  "kernelspec": [
   {
    "display_name": "prog",
    "language": "python",
    "name": "prog"
   }
  ],
  "language_info": {
   "codemirror_mode": {
    "name": "ipython",
    "version": 3
   },
   "file_extension": ".py",
   "mimetype": "text/x-python",
   "name": "python",
   "nbconvert_exporter": "python",
   "pygments_lexer": "ipython3",
   "version": "3.8.8"
  }
 },
 "nbformat": 4,
 "nbformat_minor": 4
}
