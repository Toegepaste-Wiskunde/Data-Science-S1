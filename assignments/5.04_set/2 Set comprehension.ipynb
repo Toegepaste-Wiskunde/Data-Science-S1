{
 "cells": [
  {
   "cell_type": "markdown",
   "metadata": {},
   "source": [
    "# Set comprehension\n",
    "\n",
    "A Set Comprehension works just like a list or tuple comprehension, you just place the comprehension in between curly braces. The only difference is that the result is a Set, and therefore the elements are unique and you can only use Set operators and functions on it."
   ]
  },
  {
   "cell_type": "code",
   "execution_count": null,
   "metadata": {},
   "outputs": [],
   "source": [
    "a = [ 3, 2, 3, 5, 2 ]"
   ]
  },
  {
   "cell_type": "code",
   "execution_count": null,
   "metadata": {},
   "outputs": [],
   "source": [
    "{ v for v in a if v < 4 }"
   ]
  },
  {
   "cell_type": "markdown",
   "metadata": {},
   "source": [
    "# Assignments"
   ]
  },
  {
   "cell_type": "markdown",
   "metadata": {},
   "source": [
    "#### What is the result of the following comprehension?"
   ]
  },
  {
   "cell_type": "markdown",
   "metadata": {},
   "source": [
    "```\n",
    "len({ c for c in 'aardvark' })\n",
    "```"
   ]
  },
  {
   "cell_type": "code",
   "execution_count": null,
   "metadata": {
    "nbgrader": {
     "grade": false,
     "grade_id": "cell-c871794c9a30045c",
     "locked": true,
     "schema_version": 3,
     "solution": false,
     "task": false
    }
   },
   "outputs": [],
   "source": [
    "%%slider set_comprehension1\n",
    "1 10"
   ]
  },
  {
   "cell_type": "code",
   "execution_count": null,
   "metadata": {
    "deletable": false,
    "editable": false
   },
   "outputs": [],
   "source": [
    "%%check\n",
    "result == 3853743770900693"
   ]
  },
  {
   "cell_type": "markdown",
   "metadata": {},
   "source": [
    "```\n",
    "len([ c for c in 'aardvark' ])\n",
    "```"
   ]
  },
  {
   "cell_type": "code",
   "execution_count": null,
   "metadata": {
    "nbgrader": {
     "grade": false,
     "grade_id": "cell-1e7a3cb272b7555e",
     "locked": true,
     "schema_version": 3,
     "solution": false,
     "task": false
    }
   },
   "outputs": [],
   "source": [
    "%%slider set_comprehension2\n",
    "1 10"
   ]
  },
  {
   "cell_type": "code",
   "execution_count": null,
   "metadata": {
    "deletable": false,
    "editable": false
   },
   "outputs": [],
   "source": [
    "%%check\n",
    "result == 1598091001013101"
   ]
  },
  {
   "cell_type": "markdown",
   "metadata": {},
   "source": [
    "```\n",
    "sum( { c for c in [3, 2, 3, 4 ] } )\n",
    "```"
   ]
  },
  {
   "cell_type": "code",
   "execution_count": null,
   "metadata": {
    "nbgrader": {
     "grade": false,
     "grade_id": "cell-e7e45a2145ec795f",
     "locked": true,
     "schema_version": 3,
     "solution": false,
     "task": false
    }
   },
   "outputs": [],
   "source": [
    "%%slider set_comprehension3\n",
    "1 20"
   ]
  },
  {
   "cell_type": "code",
   "execution_count": null,
   "metadata": {
    "deletable": false,
    "editable": false
   },
   "outputs": [],
   "source": [
    "%%check\n",
    "result == 9119957797678374"
   ]
  },
  {
   "cell_type": "markdown",
   "metadata": {},
   "source": [
    "#### Count how many unique letters in 'word' are not vowels.\n",
    "\n",
    "Hint: unique means that duplicate consonants (opposite of a vowel) will only count as 1."
   ]
  },
  {
   "cell_type": "code",
   "execution_count": null,
   "metadata": {},
   "outputs": [],
   "source": [
    "word = 'dazzling'"
   ]
  },
  {
   "cell_type": "code",
   "execution_count": null,
   "metadata": {
    "deletable": false,
    "editable": true
   },
   "outputs": [],
   "source": [
    "%%assignment\n",
    "### ENTER YOUR CODE HERE"
   ]
  },
  {
   "cell_type": "code",
   "execution_count": null,
   "metadata": {
    "deletable": false,
    "editable": false
   },
   "outputs": [],
   "source": [
    "%%check\n",
    "word = 'dazzling'\n",
    "result == 5\n",
    "word = 'parallel'\n",
    "result == 3"
   ]
  },
  {
   "cell_type": "markdown",
   "metadata": {},
   "source": [
    "#### Count how many students have ever received a grade higher than 7.\n",
    "\n",
    "In `grades`, each tuples has the (unique) studentname, course and grade in that order.\n",
    "\n",
    "Hint: If John recieved more than one grade > 7, he should still count as one student."
   ]
  },
  {
   "cell_type": "code",
   "execution_count": null,
   "metadata": {},
   "outputs": [],
   "source": [
    "grades = [('John', 'PROG', 8), ('John', 'ALGEBRA', 9), ('Lucy', 'ALGEBRA', 6), ('Lucy', 'INPRO', 10), ('Tim', 'INPRO', 7)]"
   ]
  },
  {
   "cell_type": "code",
   "execution_count": null,
   "metadata": {
    "deletable": false,
    "editable": true
   },
   "outputs": [],
   "source": [
    "%%assignment\n",
    "### ENTER YOUR CODE HERE"
   ]
  },
  {
   "cell_type": "code",
   "execution_count": null,
   "metadata": {
    "deletable": false,
    "editable": false
   },
   "outputs": [],
   "source": [
    "%%check\n",
    "grades = [(1, 1, 8), (1, 1, 7), (2, 1, 6), (2, 1, 5)]\n",
    "result == 1\n",
    "grades = [('John', 'INPRO', 8), ('John', 'ALGEBRA', 9), ('Lucy', 'ALGEBRA', 6), ('Lucy', 'INPRO', 10), ('Tim', 'INPRO', 7)]\n",
    "result == 2"
   ]
  },
  {
   "cell_type": "markdown",
   "metadata": {},
   "source": [
    "#### Count how many students have NEVER received a grade higher than 7.\n",
    "\n",
    "Ok, this may be hard if you have never seen this before. The easiest way to solve this is in three steps:\n",
    "- a = set of all names\n",
    "- b = set of all names of the students that did receive a grade higher than 7 (previous assignment)\n",
    "- the answer is then a comprehension that iterates over the names `a` keeping only those that are `not in b`"
   ]
  },
  {
   "cell_type": "code",
   "execution_count": null,
   "metadata": {},
   "outputs": [],
   "source": [
    "grades = [('John', 'INPRO', 8), ('John', 'ALGEBRA', 9), ('Lucy', 'ALGEBRA', 6), ('Lucy', 'INPRO', 10), ('Tim', 'INPRO', 7)]"
   ]
  },
  {
   "cell_type": "code",
   "execution_count": null,
   "metadata": {
    "deletable": false,
    "editable": true
   },
   "outputs": [],
   "source": [
    "%%assignment\n",
    "### ENTER YOUR CODE HERE"
   ]
  },
  {
   "cell_type": "code",
   "execution_count": null,
   "metadata": {
    "deletable": false,
    "editable": false
   },
   "outputs": [],
   "source": [
    "%%check\n",
    "grades = [('John', 'INPRO', 8), ('John', 'ALGEBRA', 9), ('Lucy', 'ALGEBRA', 6), ('Lucy', 'INPRO', 10), ('Tim', 'INPRO', 7)]\n",
    "result == 1\n",
    "grades = [('John', 'INPRO', 5), ('Achmed', 'ALGEBRA', 8), ('Lucy', 'ALGEBRA', 6), ('Lucy', 'INPRO', 10), ('Tim', 'INPRO', 7)]\n",
    "result == 2"
   ]
  }
 ],
 "metadata": {
  "celltoolbar": "Create Assignment",
  "kernelspec": [
   {
    "display_name": "prog",
    "language": "python",
    "name": "prog"
   }
  ],
  "language_info": {
   "codemirror_mode": {
    "name": "ipython",
    "version": 3
   },
   "file_extension": ".py",
   "mimetype": "text/x-python",
   "name": "python",
   "nbconvert_exporter": "python",
   "pygments_lexer": "ipython3",
   "version": "3.8.8"
  }
 },
 "nbformat": 4,
 "nbformat_minor": 4
}
