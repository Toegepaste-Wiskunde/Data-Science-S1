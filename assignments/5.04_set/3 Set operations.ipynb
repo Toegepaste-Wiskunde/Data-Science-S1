{
 "cells": [
  {
   "cell_type": "markdown",
   "metadata": {},
   "source": [
    "# Set operations"
   ]
  },
  {
   "cell_type": "markdown",
   "metadata": {},
   "source": [
    "We can also use Mathematical Set operators like `issubset` $\\subset$, `union` $\\cup$, `intersect` $\\cap$ and `difference` $\\setminus$ on Python sets. These have been implemented as functions on sets. Typically, the union and intersect operators do not modify a set, but return a new set. Like on lists, we also have a function to `add` and `remove` elements."
   ]
  },
  {
   "cell_type": "code",
   "execution_count": null,
   "metadata": {},
   "outputs": [],
   "source": [
    "a = {2, 5, 3, 5}\n",
    "b = {5, 4, 2}"
   ]
  },
  {
   "cell_type": "markdown",
   "metadata": {},
   "source": [
    "| code | result | comment |\n",
    "|:-----|:-------|:--------|\n",
    "| 2 in a | True | True is the given element is in the set |\n",
    "| a.add(9) | a == {2, 3, 5, 9} | adds an elemment to the set |\n",
    "| a.remove(2) | a == {3, 5} | removes an element from a set |\n",
    "| a.union(b) | {2, 3, 4, 5} | returns a union of two sets (a remains unchanged) |\n",
    "| a.intersect(b) | {2, 5} | returns the intersect between two sets |\n",
    "| b.issubset( a ) | False | because 4 is not in a |\n",
    "| a.difference(b) | {3} |"
   ]
  },
  {
   "cell_type": "markdown",
   "metadata": {},
   "source": [
    "# Assignments"
   ]
  },
  {
   "cell_type": "markdown",
   "metadata": {},
   "source": [
    "#### Return the union of `s` and `f`, being all the unique characters that appear in the words `science` and `fiction`"
   ]
  },
  {
   "cell_type": "code",
   "execution_count": null,
   "metadata": {},
   "outputs": [],
   "source": [
    "s = set('science')\n",
    "f = set('fiction')"
   ]
  },
  {
   "cell_type": "code",
   "execution_count": null,
   "metadata": {
    "deletable": false,
    "editable": true
   },
   "outputs": [],
   "source": [
    "%%assignment\n",
    "### ENTER YOUR CODE HERE"
   ]
  },
  {
   "cell_type": "code",
   "execution_count": null,
   "metadata": {
    "deletable": false,
    "editable": false
   },
   "outputs": [],
   "source": [
    "%%check\n",
    "s = set('hard')\n",
    "f = set('rock')\n",
    "result == {'h', 'a', 'r', 'd', 'r', 'o', 'c', 'k'}\n",
    "s = set('science')\n",
    "f = set('fiction')\n",
    "result == {'c', 'e', 'f', 'i', 'n', 'o', 's', 't'}"
   ]
  },
  {
   "cell_type": "markdown",
   "metadata": {},
   "source": [
    "#### How many unique letters appear in s that do not appear in f?"
   ]
  },
  {
   "cell_type": "code",
   "execution_count": null,
   "metadata": {},
   "outputs": [],
   "source": [
    "s = set('science')\n",
    "f = set('fiction')"
   ]
  },
  {
   "cell_type": "code",
   "execution_count": null,
   "metadata": {
    "deletable": false,
    "editable": true
   },
   "outputs": [],
   "source": [
    "%%assignment\n",
    "### ENTER YOUR CODE HERE"
   ]
  },
  {
   "cell_type": "code",
   "execution_count": null,
   "metadata": {
    "deletable": false,
    "editable": false
   },
   "outputs": [],
   "source": [
    "%%check\n",
    "s = set('hard')\n",
    "f = set('rock')\n",
    "result == 3\n",
    "s = set('science')\n",
    "f = set('fiction')\n",
    "result == 2"
   ]
  },
  {
   "cell_type": "markdown",
   "metadata": {},
   "source": [
    "#### How many letters appear in both s and f?"
   ]
  },
  {
   "cell_type": "code",
   "execution_count": null,
   "metadata": {},
   "outputs": [],
   "source": [
    "s = set('science')\n",
    "f = set('fiction')"
   ]
  },
  {
   "cell_type": "code",
   "execution_count": null,
   "metadata": {
    "deletable": false,
    "editable": true
   },
   "outputs": [],
   "source": [
    "%%assignment\n",
    "### ENTER YOUR CODE HERE"
   ]
  },
  {
   "cell_type": "code",
   "execution_count": null,
   "metadata": {
    "deletable": false,
    "editable": false
   },
   "outputs": [],
   "source": [
    "%%check\n",
    "s = set('hard')\n",
    "f = set('rock')\n",
    "result == 1\n",
    "s = set('science')\n",
    "f = set('fiction')\n",
    "result == 3"
   ]
  },
  {
   "cell_type": "markdown",
   "metadata": {},
   "source": [
    "#### Remove 'John' from `students`"
   ]
  },
  {
   "cell_type": "code",
   "execution_count": null,
   "metadata": {},
   "outputs": [],
   "source": [
    "students = {'John', 'Lucy', 'Paul'}"
   ]
  },
  {
   "cell_type": "code",
   "execution_count": null,
   "metadata": {
    "deletable": false,
    "editable": true
   },
   "outputs": [],
   "source": [
    "%%assignment\n",
    "### ENTER YOUR CODE HERE"
   ]
  },
  {
   "cell_type": "code",
   "execution_count": null,
   "metadata": {
    "deletable": false,
    "editable": false
   },
   "outputs": [],
   "source": [
    "%%check\n",
    "students = {'John', 'Lucy'}\n",
    "students == {'Lucy'}\n",
    "students = {'John', 'Lucy', 'Paul'}\n",
    "students == {'Lucy', 'Paul'}"
   ]
  },
  {
   "cell_type": "markdown",
   "metadata": {},
   "source": [
    "#### To students, add 'Nick' and 'Simon'?"
   ]
  },
  {
   "cell_type": "code",
   "execution_count": null,
   "metadata": {},
   "outputs": [],
   "source": [
    "students = {'John', 'Lucy', 'Paul'}"
   ]
  },
  {
   "cell_type": "code",
   "execution_count": null,
   "metadata": {
    "deletable": false,
    "editable": true
   },
   "outputs": [],
   "source": [
    "%%assignment\n",
    "### ENTER YOUR CODE HERE"
   ]
  },
  {
   "cell_type": "code",
   "execution_count": null,
   "metadata": {
    "deletable": false,
    "editable": false
   },
   "outputs": [],
   "source": [
    "%%check\n",
    "students = {'John', 'Lucy'}\n",
    "students == {'John', 'Lucy', 'Nick', 'Simon'}\n",
    "students = {'John', 'Lucy', 'Paul'}\n",
    "students == {'John', 'Lucy', 'Paul', 'Nick', 'Simon'}"
   ]
  }
 ],
 "kernelspec": [
  {
   "display_name": "prog",
   "language": "python",
   "name": "prog"
  }
 ],
 "metadata": {
  "celltoolbar": "Create Assignment",
  "kernelspec": {
   "display_name": "prog",
   "language": "python",
   "name": "prog"
  },
  "language_info": {
   "codemirror_mode": {
    "name": "ipython",
    "version": 3
   },
   "file_extension": ".py",
   "mimetype": "text/x-python",
   "name": "python",
   "nbconvert_exporter": "python",
   "pygments_lexer": "ipython3",
   "version": "3.8.8"
  }
 },
 "nbformat": 4,
 "nbformat_minor": 4
}
