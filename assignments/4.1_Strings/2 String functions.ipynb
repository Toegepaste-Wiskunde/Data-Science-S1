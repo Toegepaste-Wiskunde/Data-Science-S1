{
 "cells": [
  {
   "cell_type": "markdown",
   "metadata": {},
   "source": [
    "# String functions\n",
    "\n",
    "We can apply some functions on Strings that we can also apply on Lists, and also some additional ones.\n",
    "\n",
    "| code | result | comment |\n",
    "|:-----|:-------|:--------|\n",
    "| `'a' in 'Ardvark'` | `True` | like the `in` operator for Lists, this returns True when 'a' is in 'ArdVark' |\n",
    "| `'va' in 'Ardvark'` | `True` | different from Lists, we can also check if a sequence of characters is present |\n",
    "| `'ard' in 'Ardvark'` | `False` | however, Strings are case sensitive 'ard' $\\neq$ 'Ard' |\n",
    "| `'Ardvark'.index('a')` | `4` | returns the first index at which (lowercase) 'a' appears |\n",
    "| `len('a and b')` | `7` | the number of characters in the string, including spaces, dots, commas and other symbols |\n",
    "| `int('23')` | `23` | converts a string value to an int. This only works if the string is only an int, otherwise you get an error|\n",
    "| `'a and b'.split()` | `['a', 'and', 'b']` | Splits a List on whitespaces and returns a List of words |\n",
    "| `'30-12-2020'.split('-')` | `['30', '12', '2020']` | Splits a List on the '-' character/delimiter and returns a List of 'words' |\n",
    "| `'His name is Jack'.lower()` | `'his name is jack'` | Returns a String with all characters in lower case |\n",
    "| `'His name is Jack'.upper()` | `'HIS NAME IS JACK'` | Returns a String with all characters in upper case |\n",
    "\n"
   ]
  },
  {
   "cell_type": "markdown",
   "metadata": {},
   "source": [
    "# Assignments"
   ]
  },
  {
   "cell_type": "markdown",
   "metadata": {},
   "source": [
    "#### what is the first position of 'be' in `text`"
   ]
  },
  {
   "cell_type": "code",
   "execution_count": null,
   "metadata": {},
   "outputs": [],
   "source": [
    "text = 'To be or not to be, that is the question'"
   ]
  },
  {
   "cell_type": "code",
   "execution_count": null,
   "metadata": {
    "deletable": false,
    "editable": true
   },
   "outputs": [],
   "source": [
    "%%assignment\n",
    "### ENTER YOUR CODE HERE"
   ]
  },
  {
   "cell_type": "code",
   "execution_count": null,
   "metadata": {
    "deletable": false,
    "editable": false
   },
   "outputs": [],
   "source": [
    "%%check\n",
    "text = 'To be or not to be, that is the question'\n",
    "result == 3\n",
    "text = 'The globe'\n",
    "result == 7"
   ]
  },
  {
   "cell_type": "markdown",
   "metadata": {},
   "source": [
    "#### Check if 'be' is in `text`, case insensitive (e.g. B is the same as b)"
   ]
  },
  {
   "cell_type": "code",
   "execution_count": null,
   "metadata": {},
   "outputs": [],
   "source": [
    "text = 'To be or not to be, that is the question'"
   ]
  },
  {
   "cell_type": "code",
   "execution_count": null,
   "metadata": {
    "deletable": false,
    "editable": true
   },
   "outputs": [],
   "source": [
    "%%assignment\n",
    "### ENTER YOUR CODE HERE"
   ]
  },
  {
   "cell_type": "code",
   "execution_count": null,
   "metadata": {
    "deletable": false,
    "editable": false
   },
   "outputs": [],
   "source": [
    "%%check\n",
    "text = 'To be or not to be, that is the question'\n",
    "result\n",
    "text = 'Be who you want BE'\n",
    "result\n",
    "text = 'B3 who you want'\n",
    "not result"
   ]
  },
  {
   "cell_type": "markdown",
   "metadata": {},
   "source": [
    "#### How long is the second word in `text`\n",
    "Hint: create a list of single words and get the length of the second word in the list"
   ]
  },
  {
   "cell_type": "code",
   "execution_count": null,
   "metadata": {},
   "outputs": [],
   "source": [
    "text = 'To be or not to be, that is the question'"
   ]
  },
  {
   "cell_type": "code",
   "execution_count": null,
   "metadata": {
    "deletable": false,
    "editable": true
   },
   "outputs": [],
   "source": [
    "%%assignment\n",
    "### ENTER YOUR CODE HERE"
   ]
  },
  {
   "cell_type": "code",
   "execution_count": null,
   "metadata": {
    "deletable": false,
    "editable": false
   },
   "outputs": [],
   "source": [
    "%%check\n",
    "text = 'To be or not to be, that is the question'\n",
    "result == 2\n",
    "text = 'Be who you want BE'\n",
    "result == 3"
   ]
  },
  {
   "cell_type": "markdown",
   "metadata": {},
   "source": [
    "#### How long are all the words in `text`.\n",
    "\n",
    "Hint: you can use a List comprension to list the all the lengths of the words.\n",
    "For example: [2, 2, 2, 3, 2, 3, 4, 2, 3, 8]"
   ]
  },
  {
   "cell_type": "code",
   "execution_count": null,
   "metadata": {},
   "outputs": [],
   "source": [
    "text = 'To be or not to be, that is the question'"
   ]
  },
  {
   "cell_type": "code",
   "execution_count": null,
   "metadata": {
    "deletable": false,
    "editable": true
   },
   "outputs": [],
   "source": [
    "%%assignment\n",
    "### ENTER YOUR CODE HERE"
   ]
  },
  {
   "cell_type": "code",
   "execution_count": null,
   "metadata": {
    "deletable": false,
    "editable": false
   },
   "outputs": [],
   "source": [
    "%%check\n",
    "text = 'To be or not to be, that is the question'\n",
    "result == [2, 2, 2, 3, 2, 3, 4, 2, 3, 8]\n",
    "text = 'Be who you want BE'\n",
    "result == [2, 3, 3, 4, 2]"
   ]
  },
  {
   "cell_type": "markdown",
   "metadata": {},
   "source": [
    "#### How long is the longest word in `text`.\n",
    "\n",
    "Hint: Using the List of word lengths, with what function can you get the highest value?"
   ]
  },
  {
   "cell_type": "code",
   "execution_count": null,
   "metadata": {},
   "outputs": [],
   "source": [
    "text = 'To be or not to be, that is the question'"
   ]
  },
  {
   "cell_type": "code",
   "execution_count": null,
   "metadata": {
    "deletable": false,
    "editable": true
   },
   "outputs": [],
   "source": [
    "%%assignment\n",
    "### ENTER YOUR CODE HERE"
   ]
  },
  {
   "cell_type": "code",
   "execution_count": null,
   "metadata": {
    "deletable": false,
    "editable": false
   },
   "outputs": [],
   "source": [
    "%%check\n",
    "text = 'To be or not to be, that is the question'\n",
    "result == 8\n",
    "text = 'Be who you want BE'\n",
    "result == 4"
   ]
  }
 ],
 "metadata": {
  "celltoolbar": "Create Assignment",
  "kernelspec": {
   "display_name": "prog",
   "language": "python",
   "name": "prog"
  },
  "language_info": {
   "codemirror_mode": {
    "name": "ipython",
    "version": 3
   },
   "file_extension": ".py",
   "mimetype": "text/x-python",
   "name": "python",
   "nbconvert_exporter": "python",
   "pygments_lexer": "ipython3",
   "version": "3.8.8"
  }
 },
 "nbformat": 4,
 "nbformat_minor": 4
}
