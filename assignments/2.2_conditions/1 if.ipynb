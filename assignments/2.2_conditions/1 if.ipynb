{
 "cells": [
  {
   "cell_type": "markdown",
   "metadata": {},
   "source": [
    "# If\n",
    "\n",
    "In programming languages we can have conditional lines of code. Depending on a condition, a line or code is either executed or not.\n",
    "\n",
    "`reward = 20`\n",
    "`age = 70`\n",
    "\n",
    "| code | result | comment |\n",
    "|:-----|:-------|:--------|\n",
    "| `if age < 65: reward = 15` | `reward = 20` | because `age < 65` is `False`, the code `reward = 15` is **not** executed, therefore, reward remains 20 |\n",
    "| `if age > 65: reward = 30` | `reward = 30` | because `age > 65` is `True`, the code `reward = 30` is executed |\n",
    "\n",
    "After an `if` statement, you commonly add an expression/condition that results in a Boolean value: True or False. If the result is True, the following line is executed, if the result is False the following line is skipped and execution proceeds after the skipped line.\n",
    "\n",
    "Note that a Boolean variable also is a valid expression that can be used as an if condition.\n",
    "\n",
    "```\n",
    "bool_variable = age > 65\n",
    "if bool_variable: reward = 45\n",
    "```\n",
    "\n",
    "# Syntax\n",
    "\n",
    "There are strict grammar rules (often called syntax) which you have to use with an `if` statement. One is that after the expression/condition, you must put a `:`. If you do not, you will receive a 'Syntax Error', in other words, your code is in violation with the Python grammer and thus Python does not understand what you mean. It is common to write the conditional statememt on the next line, but it **MUST** be indented (have a few spaces from the start of the line).\n",
    "\n",
    "```\n",
    "if condition:\n",
    "    conditional statement\n",
    "statment after if\n",
    "```\n",
    "\n",
    "Depending on the value of the condition, the conditional statement is either executed or skipped, but the statement after the if is **ALWAYS** executed.\n",
    "\n",
    "We consider the conditional statement as part of the if statement."
   ]
  },
  {
   "cell_type": "markdown",
   "metadata": {},
   "source": [
    "# Examples"
   ]
  },
  {
   "cell_type": "markdown",
   "metadata": {},
   "source": [
    "If the condition is True, the conditional statement is executed. If the condition is False, the condional statement is skipped. In both cases, after the if-statement, the last print command is always executed."
   ]
  },
  {
   "cell_type": "code",
   "execution_count": null,
   "metadata": {},
   "outputs": [],
   "source": [
    "if True:\n",
    "    print('this')\n",
    "print('and this')"
   ]
  },
  {
   "cell_type": "code",
   "execution_count": null,
   "metadata": {},
   "outputs": [],
   "source": [
    "if False:\n",
    "    print('this is skipped')\n",
    "print('but this is not')"
   ]
  },
  {
   "cell_type": "markdown",
   "metadata": {},
   "source": [
    "See what happens when you change the temperature to 60, 70, 80, 90, 100, 110 and then run the cell beneath to report the 'danger level'."
   ]
  },
  {
   "cell_type": "code",
   "execution_count": null,
   "metadata": {},
   "outputs": [],
   "source": [
    "temperature = 60 # change in steps from 60 to 110 and repeat executing this and the next cell"
   ]
  },
  {
   "cell_type": "code",
   "execution_count": null,
   "metadata": {},
   "outputs": [],
   "source": [
    "danger_level = (temperature - 80)\n",
    "if temperature < 100:\n",
    "    danger_level = (100 - temperature) / 2 + 10\n",
    "print('The danger level is', danger_level)"
   ]
  },
  {
   "cell_type": "markdown",
   "metadata": {},
   "source": [
    "# Assignments"
   ]
  },
  {
   "cell_type": "markdown",
   "metadata": {},
   "source": [
    "#### Try to guess without executing the code, what is `a` after we run this code"
   ]
  },
  {
   "cell_type": "markdown",
   "metadata": {},
   "source": [
    "```\n",
    "a = 1\n",
    "a = a + 1\n",
    "a = a + 2\n",
    "```"
   ]
  },
  {
   "cell_type": "code",
   "execution_count": null,
   "metadata": {
    "nbgrader": {
     "grade": false,
     "grade_id": "cell-42173ae27c002001",
     "locked": true,
     "schema_version": 3,
     "solution": false,
     "task": false
    }
   },
   "outputs": [],
   "source": [
    "%%mc ifsequence\n",
    "1\n",
    "2\n",
    "3\n",
    "4"
   ]
  },
  {
   "cell_type": "code",
   "execution_count": null,
   "metadata": {
    "deletable": false,
    "editable": false
   },
   "outputs": [],
   "source": [
    "%%check\n",
    "result == 4320508706361900"
   ]
  },
  {
   "cell_type": "markdown",
   "metadata": {},
   "source": [
    "#### Try to guess without executing the code, what is `a` after we run this code"
   ]
  },
  {
   "cell_type": "markdown",
   "metadata": {},
   "source": [
    "```\n",
    "a = 1\n",
    "if True:\n",
    "    a = a + 1\n",
    "a = a + 2\n",
    "```"
   ]
  },
  {
   "cell_type": "code",
   "execution_count": null,
   "metadata": {
    "nbgrader": {
     "grade": false,
     "grade_id": "cell-7c06a706a7f551f7",
     "locked": true,
     "schema_version": 3,
     "solution": false,
     "task": false
    }
   },
   "outputs": [],
   "source": [
    "%%mc iftrue\n",
    "1\n",
    "2\n",
    "3\n",
    "4"
   ]
  },
  {
   "cell_type": "code",
   "execution_count": null,
   "metadata": {
    "deletable": false,
    "editable": false
   },
   "outputs": [],
   "source": [
    "%%check\n",
    "result == 4320508706361900"
   ]
  },
  {
   "cell_type": "markdown",
   "metadata": {},
   "source": [
    "#### Try to guess without executing the code, what is `salary` after we run this code"
   ]
  },
  {
   "cell_type": "markdown",
   "metadata": {},
   "source": [
    "```\n",
    "age = 45\n",
    "salary = 100\n",
    "if age > 30:\n",
    "    salary = salary + 100\n",
    "if age > 40:\n",
    "    salary = salary + 50\n",
    "if age > 50:\n",
    "    salary = salary + 20\n",
    "```"
   ]
  },
  {
   "cell_type": "code",
   "execution_count": null,
   "metadata": {
    "nbgrader": {
     "grade": false,
     "grade_id": "cell-9857d04fd9edcdf2",
     "locked": true,
     "schema_version": 3,
     "solution": false,
     "task": false
    }
   },
   "outputs": [],
   "source": [
    "%%slider ifage1\n",
    "100 300 10"
   ]
  },
  {
   "cell_type": "code",
   "execution_count": null,
   "metadata": {
    "deletable": false,
    "editable": false
   },
   "outputs": [],
   "source": [
    "%%check\n",
    "result == 1367111425947224"
   ]
  },
  {
   "cell_type": "markdown",
   "metadata": {},
   "source": [
    "#### Try to guess without executing the code, what is `salary` after we run this code"
   ]
  },
  {
   "cell_type": "markdown",
   "metadata": {},
   "source": [
    "```\n",
    "age = 45\n",
    "salary = 100\n",
    "salary = salary - 10\n",
    "if age > 30:\n",
    "    salary = salary + 100\n",
    "if age > 50:\n",
    "    salary = salary + 20\n",
    "salary = salary - 5\n",
    "```"
   ]
  },
  {
   "cell_type": "code",
   "execution_count": null,
   "metadata": {
    "nbgrader": {
     "grade": false,
     "grade_id": "cell-e3658ad5491deba7",
     "locked": true,
     "schema_version": 3,
     "solution": false,
     "task": false
    }
   },
   "outputs": [],
   "source": [
    "%%slider ifage2\n",
    "5 300 5"
   ]
  },
  {
   "cell_type": "code",
   "execution_count": null,
   "metadata": {
    "deletable": false,
    "editable": false
   },
   "outputs": [],
   "source": [
    "%%check\n",
    "result == 7341079546610996"
   ]
  }
 ],
 "metadata": {
  "celltoolbar": "Create Assignment",
  "kernelspec": {
   "display_name": "prog",
   "language": "python",
   "name": "prog"
  },
  "language_info": {
   "codemirror_mode": {
    "name": "ipython",
    "version": 3
   },
   "file_extension": ".py",
   "mimetype": "text/x-python",
   "name": "python",
   "nbconvert_exporter": "python",
   "pygments_lexer": "ipython3",
   "version": "3.8.8"
  }
 },
 "nbformat": 4,
 "nbformat_minor": 4
}
