{
 "cells": [
  {
   "cell_type": "markdown",
   "metadata": {},
   "source": [
    "# Nested conditional\n",
    "\n",
    "With an `if` statement we can evaluate an expression and decide wether we want to execute it's code block or not. A code block, can be any sequence of Python code, including another if statement. When an if statement appears in the code block of another if, we call that a 'nested' if.\n",
    "\n",
    "The indentation must match the corrsponding lines, i.e. the indentation of the first else must match the indentation of the second if and the indentation of the second else must match that of the first if.\n",
    "\n",
    "When we combine an else with a new if, we can also use an `elif` which is just short for `else:` with an `if:` on the next line. It mostly reads a bit easier, since all `if` and `elif` clauses are exclusive; only one clause can be executed."
   ]
  },
  {
   "cell_type": "markdown",
   "metadata": {},
   "source": [
    "# Examples"
   ]
  },
  {
   "cell_type": "code",
   "execution_count": null,
   "metadata": {},
   "outputs": [],
   "source": [
    "age=70\n",
    "gender = 'Male'\n",
    "\n",
    "if age > 65:\n",
    "   if gender == 'Male':\n",
    "      print('Hello grandpa!')\n",
    "   else:\n",
    "      print('Hello grandma!')\n",
    "else:\n",
    "   print('Hi there, not so old person...')"
   ]
  },
  {
   "cell_type": "markdown",
   "metadata": {},
   "source": [
    "# Assignments"
   ]
  },
  {
   "cell_type": "markdown",
   "metadata": {},
   "source": [
    "#### The variable `amount` indicates how much money is in a bank account. If the amount is positive and on a savings acount, then the amount should be raised with a 2% interest. If the amount is negative on any account, the interest is 10%."
   ]
  },
  {
   "cell_type": "code",
   "execution_count": null,
   "metadata": {},
   "outputs": [],
   "source": [
    "amount = 100\n",
    "account = 'savings'"
   ]
  },
  {
   "cell_type": "code",
   "execution_count": null,
   "metadata": {
    "deletable": false,
    "editable": true
   },
   "outputs": [],
   "source": [
    "%%assignment\n",
    "### ENTER YOUR CODE HERE"
   ]
  },
  {
   "cell_type": "code",
   "execution_count": null,
   "metadata": {
    "deletable": false,
    "editable": false
   },
   "outputs": [],
   "source": [
    "%%check\n",
    "amount, account = 1, 'savings'\n",
    "amount == 1.02\n",
    "amount, account = 1, 'other'\n",
    "amount == 1\n",
    "amount, account = -1, 'savings'\n",
    "amount == -1.1\n",
    "amount, account = -2, 'other'\n",
    "amount == -2.2"
   ]
  },
  {
   "cell_type": "markdown",
   "metadata": {},
   "source": [
    "#### The `costs` for heating/cooling depend on two variables: `shade` and `temperature`.  If the temperature exceeds 40 and we are not in the shade, we need to buy icecream, which costs `$3`. When the temperature drops below 10, we need hot chocolate regardless if we are in the shade or not, which costs `$4`. If we do not purchase anything the costs will be 0. Write code to compute the costs."
   ]
  },
  {
   "cell_type": "code",
   "execution_count": null,
   "metadata": {},
   "outputs": [],
   "source": [
    "temperature = 50\n",
    "shade = True"
   ]
  },
  {
   "cell_type": "code",
   "execution_count": null,
   "metadata": {
    "deletable": false,
    "editable": true
   },
   "outputs": [],
   "source": [
    "%%assignment\n",
    "### ENTER YOUR CODE HERE"
   ]
  },
  {
   "cell_type": "code",
   "execution_count": null,
   "metadata": {
    "deletable": false,
    "editable": false
   },
   "outputs": [],
   "source": [
    "%%check\n",
    "temperature, shade = 40, False\n",
    "costs == 0\n",
    "temperature, shade = 41, False\n",
    "costs == 3\n",
    "temperature, shade = 41, True\n",
    "costs == 0\n",
    "temperature, shade = 10, False\n",
    "costs == 0\n",
    "temperature, shade = 10, True\n",
    "costs == 0\n",
    "temperature, shade = 9, False\n",
    "costs == 4\n",
    "temperature, shade = 9, True\n",
    "costs == 4"
   ]
  },
  {
   "cell_type": "markdown",
   "metadata": {},
   "source": [
    "#### With a if elif else clauses below, when will the else clause be executed?"
   ]
  },
  {
   "cell_type": "markdown",
   "metadata": {},
   "source": [
    "```\n",
    "if name == 'John':\n",
    "    print('Nice going John!')\n",
    "elif name == 'Jack':\n",
    "    print('How are you Jack?')\n",
    "elif name == 'Mary':\n",
    "    print('Hi, Mary')\n",
    "else:\n",
    "    print('Have we met?')\n",
    "```"
   ]
  },
  {
   "cell_type": "code",
   "execution_count": null,
   "metadata": {
    "nbgrader": {
     "grade": false,
     "grade_id": "cell-6e66566933cde70f",
     "locked": true,
     "schema_version": 3,
     "solution": false,
     "task": false
    }
   },
   "outputs": [],
   "source": [
    "%%mc elif\n",
    "When the name is not John\n",
    "When the name is not Mary\n",
    "When the name is not John, Jack or Mary\n",
    "Never"
   ]
  },
  {
   "cell_type": "code",
   "execution_count": null,
   "metadata": {
    "deletable": false,
    "editable": false
   },
   "outputs": [],
   "source": [
    "%%check\n",
    "result == 9811236763179306"
   ]
  },
  {
   "cell_type": "markdown",
   "metadata": {},
   "source": [
    "#### With nested if's below, when is 'Bad idea' being printed?"
   ]
  },
  {
   "cell_type": "markdown",
   "metadata": {},
   "source": [
    "```\n",
    "if name == 'John':\n",
    "    if plan == 'Picknick':\n",
    "        print('Bad idea')\n",
    "    else:\n",
    "        print('this wonderful')\n",
    "else:\n",
    "    if plan == 'Swimming':\n",
    "        print('Bad idea')\n",
    "```"
   ]
  },
  {
   "cell_type": "code",
   "execution_count": null,
   "metadata": {
    "nbgrader": {
     "grade": false,
     "grade_id": "cell-be8be4fb5c538799",
     "locked": true,
     "schema_version": 3,
     "solution": false,
     "task": false
    }
   },
   "outputs": [],
   "source": [
    "%%mc elif2\n",
    "the plan is Picknic or name is not John\n",
    "the plan is Swimming or the plan is Picknick\n",
    "the plan is Swimming or John goes picknick\n",
    "John goes Picknic or someone else goes Swimming"
   ]
  },
  {
   "cell_type": "code",
   "execution_count": null,
   "metadata": {
    "deletable": false,
    "editable": false
   },
   "outputs": [],
   "source": [
    "%%check\n",
    "result == 2939393547239159"
   ]
  }
 ],
 "kernelspec": [
  {
   "display_name": "prog",
   "language": "python",
   "name": "prog"
  }
 ],
 "metadata": {
  "celltoolbar": "Create Assignment",
  "kernelspec": {
   "display_name": "prog",
   "language": "python",
   "name": "prog"
  },
  "language_info": {
   "codemirror_mode": {
    "name": "ipython",
    "version": 3
   },
   "file_extension": ".py",
   "mimetype": "text/x-python",
   "name": "python",
   "nbconvert_exporter": "python",
   "pygments_lexer": "ipython3",
   "version": "3.8.8"
  }
 },
 "nbformat": 4,
 "nbformat_minor": 4
}
