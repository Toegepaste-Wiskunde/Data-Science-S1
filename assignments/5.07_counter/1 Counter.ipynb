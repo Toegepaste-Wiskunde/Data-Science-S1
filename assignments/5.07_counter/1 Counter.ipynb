{
 "cells": [
  {
   "cell_type": "markdown",
   "metadata": {},
   "source": [
    "# Counter\n",
    "\n",
    "A Counter is a specific type of dictionary. The key:value elements always have numeric values. A Counter counts how many times each key has been added. You can also add Counters together with `+`.\n",
    "\n",
    "Python does not recognize Counter by default, we will have to import it from the collections library. Every Python program that uses a Counter will only need to do the import once, usually at the top."
   ]
  },
  {
   "cell_type": "markdown",
   "metadata": {},
   "source": [
    "# Examples"
   ]
  },
  {
   "cell_type": "code",
   "execution_count": null,
   "metadata": {},
   "outputs": [],
   "source": [
    "from collections import Counter"
   ]
  },
  {
   "cell_type": "code",
   "execution_count": null,
   "metadata": {},
   "outputs": [],
   "source": [
    "Counter('aardvark')"
   ]
  },
  {
   "cell_type": "code",
   "execution_count": null,
   "metadata": {},
   "outputs": [],
   "source": [
    "Counter([2, 1, 2, 2, 3])"
   ]
  },
  {
   "cell_type": "code",
   "execution_count": null,
   "metadata": {},
   "outputs": [],
   "source": [
    "Counter({'milk':2.00, 'coffee':2.50}) + Counter({'coffee':3.25})"
   ]
  },
  {
   "cell_type": "markdown",
   "metadata": {},
   "source": [
    "# Assignments"
   ]
  },
  {
   "cell_type": "markdown",
   "metadata": {},
   "source": [
    "# How often has each item been `ordered`?"
   ]
  },
  {
   "cell_type": "code",
   "execution_count": null,
   "metadata": {},
   "outputs": [],
   "source": [
    "ordered = ['coffee', 'tea', 'coffee', 'orange juice']"
   ]
  },
  {
   "cell_type": "code",
   "execution_count": null,
   "metadata": {
    "deletable": false,
    "editable": true
   },
   "outputs": [],
   "source": [
    "%%assignment\n",
    "### ENTER YOUR CODE HERE"
   ]
  },
  {
   "cell_type": "code",
   "execution_count": null,
   "metadata": {
    "deletable": false,
    "editable": false
   },
   "outputs": [],
   "source": [
    "%%check\n",
    "ordered = ['coffee', 'coffee', 'coffee']\n",
    "result == Counter({'coffee': 3})\n",
    "ordered = ['coffee', 'tea', 'coffee', 'orange juice']\n",
    "result == Counter({'coffee': 2, 'tea': 1, 'orange juice': 1})"
   ]
  },
  {
   "cell_type": "markdown",
   "metadata": {},
   "source": [
    "# How many `students` live in each city?"
   ]
  },
  {
   "cell_type": "code",
   "execution_count": null,
   "metadata": {},
   "outputs": [],
   "source": [
    "students = [('Lucy', 'Delft'), ('James', 'Rotterdam'), ('Mary', 'Delft')]"
   ]
  },
  {
   "cell_type": "code",
   "execution_count": null,
   "metadata": {
    "deletable": false,
    "editable": true
   },
   "outputs": [],
   "source": [
    "%%assignment\n",
    "### ENTER YOUR CODE HERE"
   ]
  },
  {
   "cell_type": "code",
   "execution_count": null,
   "metadata": {
    "deletable": false,
    "editable": false
   },
   "outputs": [],
   "source": [
    "%%check\n",
    "students = [('Lucy', 'Delft')]\n",
    "result == Counter({'Delft': 1})\n",
    "students = [('Lucy', 'Delft'), ('James', 'Rotterdam'), ('Mary', 'Delft')]\n",
    "result == Counter({'Delft': 2, 'Rotterdam': 1})"
   ]
  },
  {
   "cell_type": "markdown",
   "metadata": {},
   "source": [
    "# Count how often every unique letter appears in `word`"
   ]
  },
  {
   "cell_type": "code",
   "execution_count": null,
   "metadata": {},
   "outputs": [],
   "source": [
    "word = 'hippopotamus'"
   ]
  },
  {
   "cell_type": "code",
   "execution_count": null,
   "metadata": {
    "deletable": false,
    "editable": true
   },
   "outputs": [],
   "source": [
    "%%assignment\n",
    "### ENTER YOUR CODE HERE"
   ]
  },
  {
   "cell_type": "code",
   "execution_count": null,
   "metadata": {
    "deletable": false,
    "editable": false
   },
   "outputs": [],
   "source": [
    "%%check\n",
    "word = 'bee'\n",
    "result == Counter({'b':1, 'e':2})\n",
    "word = 'hippopotamus'\n",
    "result == Counter({'h': 1, 'i': 1, 'p': 3,'o': 2,'t': 1,'a': 1,'m': 1,'u': 1,'s': 1})"
   ]
  },
  {
   "cell_type": "markdown",
   "metadata": {},
   "source": [
    "# How often does the most frequently appearing letter in `word` appear?\n",
    "\n",
    "Hint: a Counter is a Dictionary, so anthing you can do with a dictionary you can do with a counter. Therefore, you can simply take the highest value."
   ]
  },
  {
   "cell_type": "code",
   "execution_count": null,
   "metadata": {},
   "outputs": [],
   "source": [
    "word = 'hippopotamus'"
   ]
  },
  {
   "cell_type": "code",
   "execution_count": null,
   "metadata": {
    "deletable": false,
    "editable": true
   },
   "outputs": [],
   "source": [
    "%%assignment\n",
    "### ENTER YOUR CODE HERE"
   ]
  },
  {
   "cell_type": "code",
   "execution_count": null,
   "metadata": {
    "deletable": false,
    "editable": false
   },
   "outputs": [],
   "source": [
    "%%check\n",
    "word = 'bee'\n",
    "result == 2\n",
    "word = 'hippopotamus'\n",
    "result == 3"
   ]
  },
  {
   "cell_type": "markdown",
   "metadata": {},
   "source": [
    "# What is the most frequently appearing letter in `word`?\n",
    "\n",
    "Note: there could be a tie for first place, so you will have to return a collection (e.g. a list) of letters.\n",
    "\n",
    "With the tools you have learned now, it may be easiest to first assign the Counter of the word to a variable. Then assign the highest count to another variable, and finally create a List comprehension  to list only the chacters whose count equals the highest count."
   ]
  },
  {
   "cell_type": "code",
   "execution_count": null,
   "metadata": {},
   "outputs": [],
   "source": [
    "word = 'hippopotamus'"
   ]
  },
  {
   "cell_type": "code",
   "execution_count": null,
   "metadata": {
    "deletable": false,
    "editable": true
   },
   "outputs": [],
   "source": [
    "%%assignment\n",
    "### ENTER YOUR CODE HERE"
   ]
  },
  {
   "cell_type": "code",
   "execution_count": null,
   "metadata": {
    "deletable": false,
    "editable": false
   },
   "outputs": [],
   "source": [
    "%%check\n",
    "word = 'beebo'\n",
    "set(result) == {'b', 'e'}\n",
    "word = 'hippopotamus'\n",
    "set(result) == {'p'}"
   ]
  },
  {
   "cell_type": "markdown",
   "metadata": {},
   "source": [
    "# How many OTHER `drinks` have got the same price as 'coffee'?\n",
    "\n",
    "Note: You can use a counter, to count how often every price appears. But since coffee is also in there, and the assignment is how many OTHER drinks, you should lower the result by 1."
   ]
  },
  {
   "cell_type": "code",
   "execution_count": null,
   "metadata": {},
   "outputs": [],
   "source": [
    "drinks = {'coffee':2.00, 'tea':1.50, 'orange juice':2.00}"
   ]
  },
  {
   "cell_type": "code",
   "execution_count": null,
   "metadata": {
    "deletable": false,
    "editable": true
   },
   "outputs": [],
   "source": [
    "%%assignment\n",
    "### ENTER YOUR CODE HERE"
   ]
  },
  {
   "cell_type": "code",
   "execution_count": null,
   "metadata": {
    "deletable": false,
    "editable": false
   },
   "outputs": [],
   "source": [
    "%%check\n",
    "drinks = {'coffee':3.00, 'tea':3.00, 'orange juice':3.00}\n",
    "result == 2\n",
    "drinks = {'coffee':2.00, 'tea':1.50, 'orange juice':2.00}\n",
    "result == 1"
   ]
  },
  {
   "cell_type": "markdown",
   "metadata": {},
   "source": [
    "# Count how often the different suits appear in `hand`"
   ]
  },
  {
   "cell_type": "code",
   "execution_count": null,
   "metadata": {},
   "outputs": [],
   "source": [
    "hand = ['10♥', '5♣', '9♣', '10♦', 'Q♥']"
   ]
  },
  {
   "cell_type": "code",
   "execution_count": null,
   "metadata": {
    "deletable": false,
    "editable": true
   },
   "outputs": [],
   "source": [
    "%%assignment\n",
    "### ENTER YOUR CODE HERE"
   ]
  },
  {
   "cell_type": "code",
   "execution_count": null,
   "metadata": {
    "deletable": false,
    "editable": false
   },
   "outputs": [],
   "source": [
    "%%check\n",
    "hand = ['10♠', '5♠', '9♠', '10♠', 'Q♠']\n",
    "result == Counter({'♠': 5})\n",
    "hand = ['10♥', '5♣', '9♣', '10♦', 'Q♥']\n",
    "result == Counter({'♥': 2, '♣': 2, '♦': 1})"
   ]
  },
  {
   "cell_type": "markdown",
   "metadata": {},
   "source": [
    "# How many card are there of the most frequent suit in `hand`"
   ]
  },
  {
   "cell_type": "code",
   "execution_count": null,
   "metadata": {},
   "outputs": [],
   "source": [
    "hand = ['10♥', '5♣', '9♣', '10♦', 'Q♥']"
   ]
  },
  {
   "cell_type": "code",
   "execution_count": null,
   "metadata": {
    "deletable": false,
    "editable": true
   },
   "outputs": [],
   "source": [
    "%%assignment\n",
    "### ENTER YOUR CODE HERE"
   ]
  },
  {
   "cell_type": "code",
   "execution_count": null,
   "metadata": {
    "deletable": false,
    "editable": false
   },
   "outputs": [],
   "source": [
    "%%check\n",
    "hand = ['10♠', '5♠', '9♠', '10♠', 'Q♠']\n",
    "result == 5\n",
    "hand = ['10♥', '5♣', '9♣', '10♦', 'Q♥']\n",
    "result == 2"
   ]
  }
 ],
 "kernelspec": [
  {
   "display_name": "prog",
   "language": "python",
   "name": "prog"
  }
 ],
 "metadata": {
  "celltoolbar": "Create Assignment",
  "kernelspec": {
   "display_name": "prog",
   "language": "python",
   "name": "prog"
  },
  "language_info": {
   "codemirror_mode": {
    "name": "ipython",
    "version": 3
   },
   "file_extension": ".py",
   "mimetype": "text/x-python",
   "name": "python",
   "nbconvert_exporter": "python",
   "pygments_lexer": "ipython3",
   "version": "3.8.8"
  }
 },
 "nbformat": 4,
 "nbformat_minor": 4
}
