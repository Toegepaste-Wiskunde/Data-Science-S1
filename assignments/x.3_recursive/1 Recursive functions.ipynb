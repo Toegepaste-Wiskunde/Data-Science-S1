{
 "cells": [
  {
   "cell_type": "markdown",
   "metadata": {},
   "source": [
    "# Recursive functions\n",
    "\n",
    "A recursive function is a function that calls itself. Although in Python, you will probably not write many recursive functions, some problems are simplified through recursion. It is sometimes used in mathematical definitions to describe the Set of Natural Numbers or the Fibonacci sequence.\n",
    "\n",
    "The principle is often the same. One or two base cases are described, and from that base case additional cases are recursively added.\n",
    "\n",
    "In the example below, the `power` operator $a^b$ is implemented as `b`-times multiplying `a`. Since the function power calls itself, this is a recursive function. "
   ]
  },
  {
   "cell_type": "code",
   "execution_count": null,
   "metadata": {},
   "outputs": [],
   "source": [
    "def power(a, b):\n",
    "    '''returns: a to the power b'''\n",
    "    if b == 0:\n",
    "        return 1\n",
    "    return a * power(a, b-1)"
   ]
  },
  {
   "cell_type": "code",
   "execution_count": null,
   "metadata": {},
   "outputs": [],
   "source": [
    "power(2, 4)"
   ]
  },
  {
   "cell_type": "markdown",
   "metadata": {},
   "source": [
    "# Assigment"
   ]
  },
  {
   "cell_type": "markdown",
   "metadata": {},
   "source": [
    "#### Write a recursive function `faculty` that returns the faculty of `n`.\n",
    "\n",
    "$n! = \\prod_{i=1}^{n} i$, which can be rewritten as $n! = n \\cdot (n-1)!$, where $0! = 1$\n",
    "<br><br>\n",
    "As a side note:\n",
    "\n",
    "$\\prod$ is the product operator, where the product of the number $1$ to $n$ is taken.\n",
    "\n",
    "For example $\\prod_{i=1}^3 i = 1\\cdot 2\\cdot 3$ and $\\prod_{i=4}^8 \\sqrt{i} = \\sqrt{4}\\sqrt{5}\\sqrt{6}\\sqrt{7}\\sqrt{8}$\n",
    "\n",
    "Note the there also exists a sum operator $\\sum_{k=1}^3 k^2 = 1^2+2^2+3^2$"
   ]
  },
  {
   "cell_type": "code",
   "execution_count": null,
   "metadata": {
    "deletable": false,
    "editable": true
   },
   "outputs": [],
   "source": [
    "%%assignment\n",
    "### ENTER YOUR CODE HERE"
   ]
  },
  {
   "cell_type": "code",
   "execution_count": null,
   "metadata": {},
   "outputs": [],
   "source": [
    "faculty(5)"
   ]
  },
  {
   "cell_type": "code",
   "execution_count": null,
   "metadata": {
    "deletable": false,
    "editable": false
   },
   "outputs": [],
   "source": [
    "%%check\n",
    "signature faculty n\n",
    "faculty(5) == 120\n",
    "faculty(20) == 2432902008176640000"
   ]
  },
  {
   "cell_type": "markdown",
   "metadata": {},
   "source": [
    "We can use the faculty function to write a `choose` function, which computes the number of combinations (i.e. the order does not matter) in which we can choose `k` items from a total of `n` items.\n",
    "\n",
    "#### Write the function `choose` with parameters `n` and `k`\n",
    "\n",
    "In mathematics, `choose` is written as $n \\choose k$, and defined as ${n \\choose k} = \\frac{n!}{k! \\cdot (n-k)!}$"
   ]
  },
  {
   "cell_type": "code",
   "execution_count": null,
   "metadata": {
    "deletable": false,
    "editable": true
   },
   "outputs": [],
   "source": [
    "%%assignment\n",
    "### ENTER YOUR CODE HERE"
   ]
  },
  {
   "cell_type": "markdown",
   "metadata": {},
   "source": [
    "Then the number of possible two card combinations from a deck of 52 cards is $\\frac{52 \\cdot 51}{2} = 1326$ (since the order of the two cards does not matter. This can be computer by:"
   ]
  },
  {
   "cell_type": "code",
   "execution_count": null,
   "metadata": {},
   "outputs": [],
   "source": [
    "choose(52, 2)"
   ]
  },
  {
   "cell_type": "code",
   "execution_count": null,
   "metadata": {
    "deletable": false,
    "editable": false
   },
   "outputs": [],
   "source": [
    "%%check\n",
    "choose(52, 2) == 1326\n",
    "choose(52, 5) == 2598960"
   ]
  },
  {
   "cell_type": "markdown",
   "metadata": {},
   "source": [
    "#### Write a recursive function `fibonacci` that returns the `n`-th number of the fibonacci sequence.  "
   ]
  },
  {
   "cell_type": "markdown",
   "metadata": {},
   "source": [
    "When used in the list comprehension below the assignment, the result should be `[1, 1, 2, 3, 5, 8, 13, 21, 34]`"
   ]
  },
  {
   "cell_type": "markdown",
   "metadata": {},
   "source": [
    "Hint: Recursive functions often use a 'stopping criterium'. When this is met, the function is no longer called recursively, but a final value is returned. When the stopping criterium has not been met, usually the function is called recursively, changing the parameter with which it was called.\n",
    "\n",
    "In this case you will need 2 stopping criteria. When called with `1` or `2` the number `1` should be returned. Otherwise return the number of the previous two fibonacci numbers, which can be determined by calling `fibonacci(n-1)` and `fibonacci(n-2)`."
   ]
  },
  {
   "cell_type": "code",
   "execution_count": null,
   "metadata": {
    "deletable": false,
    "editable": true
   },
   "outputs": [],
   "source": [
    "%%assignment\n",
    "### ENTER YOUR CODE HERE"
   ]
  },
  {
   "cell_type": "code",
   "execution_count": null,
   "metadata": {},
   "outputs": [],
   "source": [
    "[ fibonacci(n) for n in range(1, 10) ]"
   ]
  },
  {
   "cell_type": "code",
   "execution_count": null,
   "metadata": {},
   "outputs": [],
   "source": [
    "fibonacci(20)"
   ]
  },
  {
   "cell_type": "code",
   "execution_count": null,
   "metadata": {
    "deletable": false,
    "editable": false
   },
   "outputs": [],
   "source": [
    "%%check\n",
    "[ fibonacci(n) for n in range(1, 10) ] == [1, 1, 2, 3, 5, 8, 13, 21, 34]\n",
    "fibonacci(20) == 6765"
   ]
  },
  {
   "cell_type": "markdown",
   "metadata": {},
   "source": [
    "Suppose the avg $\\otimes$ operator is defined as the average of the left and right operand. Thus $ 2 \\otimes 4 = 3 $. The operator is left-associative, meaning that an expression with multiple operators, the most left one is computed first. E.g."
   ]
  },
  {
   "cell_type": "markdown",
   "metadata": {},
   "source": [
    "$ 2 \\otimes 4 \\otimes 9 \\otimes 3 = $  \n",
    "\n",
    "$ 3 \\otimes 9 \\otimes 3 = $\n",
    "\n",
    "$ 6 \\otimes 3 = 4.5 $"
   ]
  },
  {
   "cell_type": "markdown",
   "metadata": {},
   "source": [
    "#### Write a function `avg` takes takes `numbers` as an argument, and recursively computes the expression as if there are all $\\otimes$ operators in between.\n",
    "\n",
    "Hint: You can make smart use of packing parameters.\n",
    "\n",
    "Hint2: Here the stop criterium may be that when only two numbers remain the average is returned, otherwise the function is called recursively with the average of the first two numbers and the remainder of the arguments that were passed.\n",
    "\n",
    "Hint3: Try to write a function first that works when called with 2 values. If that works, how do you expand with a single recursive call when used with 3 values?"
   ]
  },
  {
   "cell_type": "code",
   "execution_count": null,
   "metadata": {
    "deletable": false,
    "editable": true
   },
   "outputs": [],
   "source": [
    "%%assignment\n",
    "### ENTER YOUR CODE HERE"
   ]
  },
  {
   "cell_type": "code",
   "execution_count": null,
   "metadata": {},
   "outputs": [],
   "source": [
    "avg(2, 4, 9, 3)"
   ]
  },
  {
   "cell_type": "code",
   "execution_count": null,
   "metadata": {
    "deletable": false,
    "editable": false
   },
   "outputs": [],
   "source": [
    "%%check\n",
    "avg(8, 6, 3, 2) == 3.5\n",
    "avg(2, 4, 9, 3) == 4.5"
   ]
  }
 ],
 "metadata": {
  "celltoolbar": "Create Assignment",
  "kernelspec": [
   {
    "display_name": "prog",
    "language": "python",
    "name": "prog"
   }
  ],
  "language_info": {
   "codemirror_mode": {
    "name": "ipython",
    "version": 3
   },
   "file_extension": ".py",
   "mimetype": "text/x-python",
   "name": "python",
   "nbconvert_exporter": "python",
   "pygments_lexer": "ipython3",
   "version": "3.8.8"
  }
 },
 "nbformat": 4,
 "nbformat_minor": 4
}
