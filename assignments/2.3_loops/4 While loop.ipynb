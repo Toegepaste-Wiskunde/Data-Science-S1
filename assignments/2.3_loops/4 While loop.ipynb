{
 "cells": [
  {
   "cell_type": "markdown",
   "metadata": {},
   "source": [
    "# While loop\n",
    "\n",
    "Like a for-loop, a while-loop also allows to repeat a code block multiple times. The difference is that a for-loop will iterate over a collection and a while-loop continues as long as a condition is True. \n",
    "\n",
    "```\n",
    "while condition:\n",
    "    code block\n",
    "```"
   ]
  },
  {
   "cell_type": "markdown",
   "metadata": {},
   "source": [
    "# Example\n",
    "\n",
    "The code below find the first index in `text` where the character z appears. We use a variable `i` as an index that is raised by 1 every step. After `while` there is a condition (expression that is either True or False)."
   ]
  },
  {
   "cell_type": "code",
   "execution_count": null,
   "metadata": {},
   "outputs": [],
   "source": [
    "text = 'organization'"
   ]
  },
  {
   "cell_type": "code",
   "execution_count": null,
   "metadata": {},
   "outputs": [],
   "source": [
    "i = 0\n",
    "while text[i] != 'z':\n",
    "    i = i + 1"
   ]
  },
  {
   "cell_type": "code",
   "execution_count": null,
   "metadata": {},
   "outputs": [],
   "source": [
    "i"
   ]
  },
  {
   "cell_type": "markdown",
   "metadata": {},
   "source": [
    "# Code Robustness\n",
    "\n",
    "A potential problem with the above code is that if there is no 'z' in `text`, at some point `i` will point to an index that does not exist and we will get an error. You can verify by removing the 'z' from `text` and running the code.\n",
    "\n",
    "To guard against possible Errors, we should expand the condition with a check whether the index i is valid. By comparing i to the length of the text, the code can never throw an error. It is good practice to always perform checks to avoid possible errors from terminating your program."
   ]
  },
  {
   "cell_type": "code",
   "execution_count": null,
   "metadata": {},
   "outputs": [],
   "source": [
    "text = 'organist'\n",
    "i = 0\n",
    "while i < len(text) and text[i] != 'z':\n",
    "    i = i + 1"
   ]
  },
  {
   "cell_type": "code",
   "execution_count": null,
   "metadata": {},
   "outputs": [],
   "source": [
    "i"
   ]
  },
  {
   "cell_type": "markdown",
   "metadata": {},
   "source": [
    "# Assignments"
   ]
  },
  {
   "cell_type": "markdown",
   "metadata": {},
   "source": [
    "#### Consider a `text` that might contain zero or more exclamation characters '!' at the start of the line. Write a while loop that removes any '!' from the beginning of the String in `text`."
   ]
  },
  {
   "cell_type": "code",
   "execution_count": null,
   "metadata": {},
   "outputs": [],
   "source": [
    "text = '!!! No exclamations'"
   ]
  },
  {
   "cell_type": "code",
   "execution_count": null,
   "metadata": {
    "deletable": false,
    "editable": true
   },
   "outputs": [],
   "source": [
    "%%assignment\n",
    "### ENTER YOUR CODE HERE\n",
    "print(text)"
   ]
  },
  {
   "cell_type": "code",
   "execution_count": null,
   "metadata": {
    "deletable": false,
    "editable": false
   },
   "outputs": [],
   "source": [
    "%%check\n",
    "text = '!!! No exclamations'\n",
    "text == ' No exclamations'\n",
    "text = 'But not this'\n",
    "text == 'But not this'"
   ]
  },
  {
   "cell_type": "markdown",
   "metadata": {},
   "source": [
    "#### Write a while loop to find index `i` of the first value in `a` that is higher than 20.\n",
    "\n",
    "It might be that there is no value higher than 20, make sure your program guards against that possibility."
   ]
  },
  {
   "cell_type": "code",
   "execution_count": null,
   "metadata": {},
   "outputs": [],
   "source": [
    "a = [3, 29, 19]"
   ]
  },
  {
   "cell_type": "code",
   "execution_count": null,
   "metadata": {
    "deletable": false,
    "editable": true
   },
   "outputs": [],
   "source": [
    "%%assignment\n",
    "### ENTER YOUR CODE HERE"
   ]
  },
  {
   "cell_type": "code",
   "execution_count": null,
   "metadata": {
    "deletable": false,
    "editable": false
   },
   "outputs": [],
   "source": [
    "%%check\n",
    "a = [21, 20]\n",
    "i == 0\n",
    "a = [20] * 10 + [21]\n",
    "i == 10\n",
    "a = [20] * 10\n",
    "i == i"
   ]
  },
  {
   "cell_type": "markdown",
   "metadata": {},
   "source": [
    "#### Write a while loop to find index `i` of the last value in `a` that is higher than 20.\n",
    "\n",
    "Hint: in this case you should start from the last position and decrease `i` in the loop.\n",
    "\n",
    "It might be that there is no value higher than 20, make sure your program guards against that possibility."
   ]
  },
  {
   "cell_type": "code",
   "execution_count": null,
   "metadata": {},
   "outputs": [],
   "source": [
    "a = [3, 29, 29, 19]"
   ]
  },
  {
   "cell_type": "code",
   "execution_count": null,
   "metadata": {
    "deletable": false,
    "editable": true
   },
   "outputs": [],
   "source": [
    "%%assignment\n",
    "### ENTER YOUR CODE HERE"
   ]
  },
  {
   "cell_type": "code",
   "execution_count": null,
   "metadata": {
    "deletable": false,
    "editable": false
   },
   "outputs": [],
   "source": [
    "%%check\n",
    "a = [21, 20]\n",
    "i == 0\n",
    "a = [21] * 10 + [20]\n",
    "i == 9\n",
    "a = [20] * 10\n",
    "i == i"
   ]
  },
  {
   "cell_type": "markdown",
   "metadata": {},
   "source": [
    "#### Write a while loop to find the third position `i` of the substring 'to' in `text`.\n",
    "\n",
    "You may assume that the substring 'to' appears at least 3 times in `text`, you do not have to check for that.\n",
    "\n",
    "Hint: for efficient code, you can use the `index()` function that works on Strings with a start position. Look it up online."
   ]
  },
  {
   "cell_type": "code",
   "execution_count": null,
   "metadata": {},
   "outputs": [],
   "source": [
    "text = 'to be or no to be, but not to have or to want'"
   ]
  },
  {
   "cell_type": "code",
   "execution_count": null,
   "metadata": {
    "deletable": false,
    "editable": true
   },
   "outputs": [],
   "source": [
    "%%assignment\n",
    "### ENTER YOUR CODE HERE"
   ]
  },
  {
   "cell_type": "code",
   "execution_count": null,
   "metadata": {
    "deletable": false,
    "editable": false
   },
   "outputs": [],
   "source": [
    "%%check\n",
    "text = 'to be or no to be, but not to have or to want'\n",
    "i == 27\n",
    "text = 'totototo'\n",
    "i == 4"
   ]
  },
  {
   "cell_type": "markdown",
   "metadata": {},
   "source": [
    "#### Write a for loop to find the largest Fibonacci number smaller than N.\n",
    "\n",
    "The Fibonacci numbers is a series of numbers from which the next number is the sum of the previous two, i.e. 1, 1, 2, 3, 5, 8, 13, ...\n",
    "\n",
    "We can write this mathematically as:\n",
    "$f_n = f_{n-1} + f_{n-2}$\n",
    "\n",
    "Write a for loop to compute the fibonacci series as long as the number is smaller than N and leave the last Fibonacci number in the variable `number`.\n",
    "\n",
    "Hint: this is easiest to solve when you use three variables. But if you are really smart, it can be done with two variables without using a List. Or with one variable if you do use a List."
   ]
  },
  {
   "cell_type": "code",
   "execution_count": null,
   "metadata": {},
   "outputs": [],
   "source": [
    "N = 100"
   ]
  },
  {
   "cell_type": "code",
   "execution_count": null,
   "metadata": {
    "deletable": false,
    "editable": true
   },
   "outputs": [],
   "source": [
    "%%assignment\n",
    "### ENTER YOUR CODE HERE"
   ]
  },
  {
   "cell_type": "code",
   "execution_count": null,
   "metadata": {
    "deletable": false,
    "editable": false
   },
   "outputs": [],
   "source": [
    "%%check\n",
    "N = 100\n",
    "rerun\n",
    "number == 89\n",
    "N = 1000\n",
    "rerun\n",
    "number == 987"
   ]
  },
  {
   "cell_type": "markdown",
   "metadata": {},
   "source": [
    "# When to use `for` or `while`"
   ]
  },
  {
   "cell_type": "markdown",
   "metadata": {},
   "source": [
    "#### for\n",
    "Use `for` when the number of iterations is known or when you have a list of items to visit.\n",
    "\n",
    "#### while\n",
    "Use `while` when you do not know how many times your loop will run. The continuation of your loop will depend on a condition that might change in the loop."
   ]
  },
  {
   "cell_type": "markdown",
   "metadata": {},
   "source": [
    "# Assignments"
   ]
  },
  {
   "cell_type": "markdown",
   "metadata": {},
   "source": [
    "#### Write a loop that counts the numbers between 1 and `n` that are divisible between 2, 3, or 5 and put the result in the variable `count`\n",
    "Note: You can construct a list of numbers between 1 and n with the range-command.\n",
    "```\n",
    "range(1, n + 1) # if we want to include n, we should use n + 1 as upper bound\n",
    "```"
   ]
  },
  {
   "cell_type": "code",
   "execution_count": null,
   "metadata": {},
   "outputs": [],
   "source": [
    "n = 10"
   ]
  },
  {
   "cell_type": "code",
   "execution_count": null,
   "metadata": {
    "deletable": false,
    "editable": true
   },
   "outputs": [],
   "source": [
    "%%assignment\n",
    "### ENTER YOUR CODE HERE\n",
    "count"
   ]
  },
  {
   "cell_type": "code",
   "execution_count": null,
   "metadata": {
    "deletable": false,
    "editable": false
   },
   "outputs": [],
   "source": [
    "%%check\n",
    "n = 100\n",
    "count == 74\n",
    "n = 1000\n",
    "count == 734"
   ]
  },
  {
   "cell_type": "markdown",
   "metadata": {},
   "source": [
    "#### Write a loop that asks the user for a number. Continue to ask for numbers until the number equals zero.\n",
    "Do not forget to typecast your input to `int`."
   ]
  },
  {
   "cell_type": "code",
   "execution_count": null,
   "metadata": {
    "deletable": false,
    "editable": true
   },
   "outputs": [],
   "source": [
    "%%assignment\n",
    "### ENTER YOUR CODE HERE\n"
   ]
  },
  {
   "cell_type": "code",
   "execution_count": null,
   "metadata": {
    "deletable": false,
    "editable": false
   },
   "outputs": [],
   "source": [
    "%%check\n",
    "forbidden or ng [ ]\n",
    "mandatory put nt hil 0 \\'"
   ]
  }
 ],
 "kernelspec": [
  {
   "display_name": "prog",
   "language": "python",
   "name": "prog"
  }
 ],
 "metadata": {
  "celltoolbar": "Create Assignment",
  "kernelspec": {
   "display_name": "prog",
   "language": "python",
   "name": "prog"
  },
  "language_info": {
   "codemirror_mode": {
    "name": "ipython",
    "version": 3
   },
   "file_extension": ".py",
   "mimetype": "text/x-python",
   "name": "python",
   "nbconvert_exporter": "python",
   "pygments_lexer": "ipython3",
   "version": "3.8.8"
  }
 },
 "nbformat": 4,
 "nbformat_minor": 4
}
