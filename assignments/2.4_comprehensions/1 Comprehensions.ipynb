{
 "cells": [
  {
   "cell_type": "markdown",
   "metadata": {},
   "source": [
    "# List Comprehension\n",
    "\n",
    "A Comprehension is a concise and readable way to describe a collection of elements. It uses for-in loop, conditions and expressions. A List Comprehension is written in between `[]`, has at least one for-in loop and an expression, e.g.\n",
    "\n",
    "```\n",
    "a = [2, 3, 5, 7]\n",
    "```\n",
    "\n",
    "| Example      | result | Comment |\n",
    "|:-------------|:-------|:--------|\n",
    "| `[ i**2 for i in a ]` | `[ 4, 9, 25, 49 ]` | squares all the elements in a |\n",
    "| `[ i for i in a if i > 4 ]` | `[5, 7]` | uses only elements that meet the condition `> 4` |\n",
    "| `[ 1/i for i in a if i %% 2 == 1 ]` | `[1/3, 1/5, 1/7]` | uses only odd elements, and returns a List with 1/i for those elements |\n",
    "\n",
    "A comprehension consists of:\n",
    "\n",
    "| begin | expression | loop | condition | end |\n",
    "|:--:|:--:|:--:|:--:|:--:|\n",
    "| `[` | `1/i` | `for i in a` | `if i % 2 == 1` | `]` |\n",
    "| square<br>opening<br>bracket | an expression<br>that is used<br>to calculate<br>each element<br>of the new list | a `for` loop<br>that iterates<br>over a list | a condition<br>that determines<br>whether the element<br>is included<br>(can be omitted) | square<br>closing<br>bracket |\n"
   ]
  },
  {
   "cell_type": "markdown",
   "metadata": {},
   "source": [
    "# Assignments"
   ]
  },
  {
   "cell_type": "markdown",
   "metadata": {},
   "source": [
    "#### Create a comprehension to list only the salaries above 120"
   ]
  },
  {
   "cell_type": "code",
   "execution_count": null,
   "metadata": {},
   "outputs": [],
   "source": [
    "salaries = [100, 200, 150]"
   ]
  },
  {
   "cell_type": "code",
   "execution_count": null,
   "metadata": {
    "deletable": false,
    "editable": true
   },
   "outputs": [],
   "source": [
    "%%assignment\n",
    "### ENTER YOUR CODE HERE"
   ]
  },
  {
   "cell_type": "code",
   "execution_count": null,
   "metadata": {
    "deletable": false,
    "editable": false
   },
   "outputs": [],
   "source": [
    "%%check\n",
    "salaries = [100, 200, 150]\n",
    "result == [200, 150]\n",
    "salaries = [121, 120, 100, 150]\n",
    "result == [121, 150]"
   ]
  },
  {
   "cell_type": "markdown",
   "metadata": {},
   "source": [
    "#### Create a comprehension to list only the names of length 4. \n",
    "\n",
    "You can get the length of a Text with the len() function, e.g. len('Jack')"
   ]
  },
  {
   "cell_type": "code",
   "execution_count": null,
   "metadata": {},
   "outputs": [],
   "source": [
    "names = ['Allesandro', 'John', 'Jack', 'Eugene']"
   ]
  },
  {
   "cell_type": "code",
   "execution_count": null,
   "metadata": {
    "deletable": false,
    "editable": true
   },
   "outputs": [],
   "source": [
    "%%assignment\n",
    "### ENTER YOUR CODE HERE"
   ]
  },
  {
   "cell_type": "code",
   "execution_count": null,
   "metadata": {
    "deletable": false,
    "editable": false
   },
   "outputs": [],
   "source": [
    "%%check\n",
    "names = ['Allesandro', 'John', 'Jack', 'Eugene']\n",
    "result == ['John', 'Jack']\n",
    "names = ['Mary', 'Peter', 'Zack']\n",
    "result == ['Mary', 'Zack']"
   ]
  },
  {
   "cell_type": "markdown",
   "metadata": {},
   "source": [
    "#### Create a comprehension to list length of the each name in `names`. \n",
    "\n",
    "You can get the length of a Text with the len() function, e.g. len('Jack')"
   ]
  },
  {
   "cell_type": "code",
   "execution_count": null,
   "metadata": {},
   "outputs": [],
   "source": [
    "names = ['Allesandro', 'John', 'Jack', 'Eugene']"
   ]
  },
  {
   "cell_type": "code",
   "execution_count": null,
   "metadata": {
    "deletable": false,
    "editable": true
   },
   "outputs": [],
   "source": [
    "%%assignment\n",
    "### ENTER YOUR CODE HERE"
   ]
  },
  {
   "cell_type": "code",
   "execution_count": null,
   "metadata": {
    "deletable": false,
    "editable": false
   },
   "outputs": [],
   "source": [
    "%%check\n",
    "names = ['Allesandro', 'John', 'Jack', 'Eugene']\n",
    "result == [10, 4, 4, 6]\n",
    "names = ['Mary', 'Peter', 'Zack']\n",
    "result == [4, 5, 4]"
   ]
  },
  {
   "cell_type": "markdown",
   "metadata": {},
   "source": [
    "#### A person has a `hand` of 5 cards. Create a comprehension with only the cards of the hearts suit. \n",
    "\n",
    "You can get the suit of a card by indexing the last character, e.g. '10♥'[-1], if that last character equals '♥', it is a card in the heart suit."
   ]
  },
  {
   "cell_type": "code",
   "execution_count": null,
   "metadata": {},
   "outputs": [],
   "source": [
    "hand = ['10♥', '5♣', '9♣', '10♦', 'Q♥']"
   ]
  },
  {
   "cell_type": "code",
   "execution_count": null,
   "metadata": {
    "deletable": false,
    "editable": true
   },
   "outputs": [],
   "source": [
    "%%assignment\n",
    "### ENTER YOUR CODE HERE"
   ]
  },
  {
   "cell_type": "code",
   "execution_count": null,
   "metadata": {
    "deletable": false,
    "editable": false
   },
   "outputs": [],
   "source": [
    "%%check\n",
    "hand = ['10♥', '5♣', '9♣', '10♦', 'Q♥']\n",
    "result == ['10♥', 'Q♥']\n",
    "hand = ['10♠', '5♥', 'A♥', '10♦', 'Q♣']\n",
    "result == ['5♥', 'A♥']"
   ]
  },
  {
   "cell_type": "markdown",
   "metadata": {},
   "source": [
    "#### A person has a `hand` of 5 cards. How many cards do they hold in the hearts suit? \n",
    "In other words, count the number of heart cards."
   ]
  },
  {
   "cell_type": "code",
   "execution_count": null,
   "metadata": {},
   "outputs": [],
   "source": [
    "hand = ['10♥', '5♣', '9♣', '10♦', 'Q♥']"
   ]
  },
  {
   "cell_type": "code",
   "execution_count": null,
   "metadata": {
    "deletable": false,
    "editable": true
   },
   "outputs": [],
   "source": [
    "%%assignment\n",
    "### ENTER YOUR CODE HERE"
   ]
  },
  {
   "cell_type": "code",
   "execution_count": null,
   "metadata": {
    "deletable": false,
    "editable": false
   },
   "outputs": [],
   "source": [
    "%%check\n",
    "hand = ['10♥', '5♣', '9♣', '10♦', 'Q♥']\n",
    "result == 2\n",
    "hand = ['10♥', '5♥', 'A♥', '2♥', 'Q♥']\n",
    "result == 5"
   ]
  },
  {
   "cell_type": "markdown",
   "metadata": {},
   "source": [
    "#### Convert the list `degrees` into a list of radians. \n",
    "\n",
    "To compute a radian from a degree, you can use the formula $\\frac{degree \\cdot \\pi}{180} $, and for $\\pi$ you can use `math.pi`."
   ]
  },
  {
   "cell_type": "code",
   "execution_count": null,
   "metadata": {},
   "outputs": [],
   "source": [
    "degrees = [0, 90, 180, 270, 360]"
   ]
  },
  {
   "cell_type": "code",
   "execution_count": null,
   "metadata": {
    "deletable": false,
    "editable": true
   },
   "outputs": [],
   "source": [
    "%%assignment\n",
    "### ENTER YOUR CODE HERE"
   ]
  },
  {
   "cell_type": "code",
   "execution_count": null,
   "metadata": {
    "deletable": false,
    "editable": false
   },
   "outputs": [],
   "source": [
    "%%check\n",
    "degrees = [0, 90, 180, 270, 360]\n",
    "result == [0, math.pi/2, math.pi, 3 * math.pi / 2, 2 * math.pi]\n",
    "degrees = [0, 45, 270]\n",
    "result == [0, math.pi/4, 3 * math.pi / 2]"
   ]
  },
  {
   "cell_type": "markdown",
   "metadata": {},
   "source": [
    "#### What do you think is the result from\n",
    "\n",
    "```\n",
    "a = [2, 6, 7]\n",
    "sum([ i for i in a ])\n",
    "```"
   ]
  },
  {
   "cell_type": "code",
   "execution_count": null,
   "metadata": {
    "nbgrader": {
     "grade": false,
     "grade_id": "cell-3a58136346e6002e",
     "locked": true,
     "schema_version": 3,
     "solution": false,
     "task": false
    }
   },
   "outputs": [],
   "source": [
    "%%slider comprehension1\n",
    "2 40"
   ]
  },
  {
   "cell_type": "code",
   "execution_count": null,
   "metadata": {
    "deletable": false,
    "editable": false
   },
   "outputs": [],
   "source": [
    "%%check\n",
    "result == 6904699078127603"
   ]
  },
  {
   "cell_type": "markdown",
   "metadata": {},
   "source": [
    "#### What do you think is the result from\n",
    "\n",
    "```\n",
    "a = [2, 6, 7]\n",
    "sum([ i*2 + 1 for i in a ])\n",
    "```"
   ]
  },
  {
   "cell_type": "code",
   "execution_count": null,
   "metadata": {
    "nbgrader": {
     "grade": false,
     "grade_id": "cell-1bbd7e14901754ab",
     "locked": true,
     "schema_version": 3,
     "solution": false,
     "task": false
    }
   },
   "outputs": [],
   "source": [
    "%%slider comprehension2\n",
    "2 40"
   ]
  },
  {
   "cell_type": "code",
   "execution_count": null,
   "metadata": {
    "deletable": false,
    "editable": false
   },
   "outputs": [],
   "source": [
    "%%check\n",
    "result == 3479265394572654"
   ]
  },
  {
   "cell_type": "markdown",
   "metadata": {},
   "source": [
    "#### What do you think is the result from\n",
    "\n",
    "```\n",
    "a = [2, 6, 7]\n",
    "sum([ i/2 for i in a if i < 7 ])\n",
    "```"
   ]
  },
  {
   "cell_type": "code",
   "execution_count": null,
   "metadata": {
    "nbgrader": {
     "grade": false,
     "grade_id": "cell-9965d6fb7a93f153",
     "locked": true,
     "schema_version": 3,
     "solution": false,
     "task": false
    }
   },
   "outputs": [],
   "source": [
    "%%slider comprehension3\n",
    "2 40"
   ]
  },
  {
   "cell_type": "code",
   "execution_count": null,
   "metadata": {
    "deletable": false,
    "editable": false
   },
   "outputs": [],
   "source": [
    "%%check\n",
    "result == 4320508706361900"
   ]
  }
 ],
 "metadata": {
  "celltoolbar": "Create Assignment",
  "kernelspec": {
   "display_name": "prog",
   "language": "python",
   "name": "prog"
  },
  "language_info": {
   "codemirror_mode": {
    "name": "ipython",
    "version": 3
   },
   "file_extension": ".py",
   "mimetype": "text/x-python",
   "name": "python",
   "nbconvert_exporter": "python",
   "pygments_lexer": "ipython3",
   "version": "3.8.8"
  }
 },
 "nbformat": 4,
 "nbformat_minor": 4
}
