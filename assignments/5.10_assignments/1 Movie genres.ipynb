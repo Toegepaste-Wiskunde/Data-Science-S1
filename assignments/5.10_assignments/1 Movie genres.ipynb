{
 "cells": [
  {
   "cell_type": "markdown",
   "metadata": {},
   "source": [
    "# Movie tags\n",
    "\n",
    "We will try to find out how many movies there are of each tag and what the rarest tag is. We will get there in smaller steps.\n",
    "\n",
    "Here are a few things you need. Execute the following lines."
   ]
  },
  {
   "cell_type": "code",
   "execution_count": null,
   "metadata": {},
   "outputs": [],
   "source": [
    "from collections import Counter"
   ]
  },
  {
   "cell_type": "code",
   "execution_count": null,
   "metadata": {},
   "outputs": [],
   "source": [
    "movies = read_movies()"
   ]
  },
  {
   "cell_type": "code",
   "execution_count": null,
   "metadata": {},
   "outputs": [],
   "source": [
    "movies[:5]"
   ]
  },
  {
   "cell_type": "markdown",
   "metadata": {},
   "source": [
    "# Assignments"
   ]
  },
  {
   "cell_type": "markdown",
   "metadata": {},
   "source": [
    "# Create a list comprehension for the `first_movies` tags\n",
    "\n",
    "The tags are the second value in every tuple. You do not need to separate them yet. \n",
    "\n",
    "e.g `[\"Animation|Children's|Comedy\",  \"Adventure|Children's|Fantasy\"]`"
   ]
  },
  {
   "cell_type": "code",
   "execution_count": null,
   "metadata": {},
   "outputs": [],
   "source": [
    "first_movies = movies[:2]"
   ]
  },
  {
   "cell_type": "code",
   "execution_count": null,
   "metadata": {
    "deletable": false,
    "editable": true
   },
   "outputs": [],
   "source": [
    "%%assignment\n",
    "### ENTER YOUR CODE HERE"
   ]
  },
  {
   "cell_type": "code",
   "execution_count": null,
   "metadata": {
    "deletable": false,
    "editable": false
   },
   "outputs": [],
   "source": [
    "%%check\n",
    "comprehension\n",
    "first_movies = movies[:1]\n",
    "result == [\"Animation|Children's|Comedy\"]\n",
    "first_movies = movies[:2]\n",
    "result == [\"Animation|Children's|Comedy\", \"Adventure|Children's|Fantasy\"]"
   ]
  },
  {
   "cell_type": "markdown",
   "metadata": {},
   "source": [
    "# List the separate tags of the `first_movie`\n",
    "\n",
    "Hint: you can split the tag-String by the '|' delimiter. "
   ]
  },
  {
   "cell_type": "code",
   "execution_count": null,
   "metadata": {},
   "outputs": [],
   "source": [
    "first_movie = movies[0]"
   ]
  },
  {
   "cell_type": "code",
   "execution_count": null,
   "metadata": {
    "deletable": false,
    "editable": true
   },
   "outputs": [],
   "source": [
    "%%assignment\n",
    "### ENTER YOUR CODE HERE"
   ]
  },
  {
   "cell_type": "code",
   "execution_count": null,
   "metadata": {
    "deletable": false,
    "editable": false
   },
   "outputs": [],
   "source": [
    "%%check\n",
    "first_movie = movies[1]\n",
    "result == [\"Adventure\", \"Children's\", \"Fantasy\"]\n",
    "first_movie = movies[0]\n",
    "result == ['Animation', \"Children's\", 'Comedy']"
   ]
  },
  {
   "cell_type": "markdown",
   "metadata": {},
   "source": [
    "# Create a list comprehension for all the seperate tags of the movies in `first_movies`\n",
    "\n",
    "The result should be something like `['Animation', \"Children's\", 'Comedy', 'Adventure', \"Children's\", 'Fantasy']`\n",
    "\n",
    "Now there is a list of first_movies. You will need one for-in loop to go over the movies and another for-in loop to go over the tags for a movie. Therefore, you should use a list comprehension with two for-in's."
   ]
  },
  {
   "cell_type": "code",
   "execution_count": null,
   "metadata": {},
   "outputs": [],
   "source": [
    "first_movies = movies[:2]"
   ]
  },
  {
   "cell_type": "code",
   "execution_count": null,
   "metadata": {
    "deletable": false,
    "editable": true
   },
   "outputs": [],
   "source": [
    "%%assignment\n",
    "### ENTER YOUR CODE HERE"
   ]
  },
  {
   "cell_type": "code",
   "execution_count": null,
   "metadata": {
    "deletable": false,
    "editable": false
   },
   "outputs": [],
   "source": [
    "%%check\n",
    "first_movies = movies[:1]\n",
    "result == ['Animation', \"Children's\", 'Comedy']\n",
    "first_movies = movies[:2]\n",
    "result == ['Animation', \"Children's\", 'Comedy', 'Adventure', \"Children's\", 'Fantasy']"
   ]
  },
  {
   "cell_type": "markdown",
   "metadata": {},
   "source": [
    "# Count how often each unique tags appears in `first_movies`\n",
    "\n",
    "The result should be something like `Counter({'Animation': 1, \"Children's\": 2, 'Comedy': 1, 'Adventure': 1, 'Fantasy': 1})`"
   ]
  },
  {
   "cell_type": "code",
   "execution_count": null,
   "metadata": {},
   "outputs": [],
   "source": [
    "first_movies = movies[:2]"
   ]
  },
  {
   "cell_type": "code",
   "execution_count": null,
   "metadata": {
    "deletable": false,
    "editable": true
   },
   "outputs": [],
   "source": [
    "%%assignment\n",
    "### ENTER YOUR CODE HERE"
   ]
  },
  {
   "cell_type": "code",
   "execution_count": null,
   "metadata": {
    "deletable": false,
    "editable": false
   },
   "outputs": [],
   "source": [
    "%%check\n",
    "first_movies = movies[:1]\n",
    "result == Counter({'Animation': 1, \"Children's\": 1, 'Comedy': 1})\n",
    "first_movies = movies[:2]\n",
    "result == Counter({'Animation': 1, \"Children's\": 2, 'Comedy': 1, 'Adventure': 1, 'Fantasy': 1})"
   ]
  },
  {
   "cell_type": "markdown",
   "metadata": {},
   "source": [
    "# Now for the entire list of `movies`, how many movies are there for each tag?"
   ]
  },
  {
   "cell_type": "code",
   "execution_count": null,
   "metadata": {},
   "outputs": [],
   "source": [
    "movies = read_movies()"
   ]
  },
  {
   "cell_type": "code",
   "execution_count": null,
   "metadata": {
    "deletable": false,
    "editable": true
   },
   "outputs": [],
   "source": [
    "%%assignment\n",
    "### ENTER YOUR CODE HERE"
   ]
  },
  {
   "cell_type": "code",
   "execution_count": null,
   "metadata": {
    "deletable": false,
    "editable": false
   },
   "outputs": [],
   "source": [
    "%%check\n",
    "movies = read_movies()[:10]\n",
    "result == Counter({'Animation': 1, \"Children's\": 3, 'Comedy': 5, 'Adventure': 3, 'Fantasy': 1, 'Romance': 2, 'Drama': 1, 'Action': 3, 'Crime': 1, 'Thriller': 2})\n",
    "movies = read_movies()\n",
    "result == Counter({'Animation': 105, \"Children's\": 251, 'Comedy': 1200, 'Adventure': 283, 'Fantasy': 68, 'Romance': 471, 'Drama': 1603, 'Action': 503, 'Crime': 211, 'Thriller': 492, 'Horror': 343, 'Sci-Fi': 276, 'Documentary': 127, 'War': 143, 'Musical': 114, 'Mystery': 106, 'Film-Noir': 44, 'Western': 68})"
   ]
  },
  {
   "cell_type": "markdown",
   "metadata": {},
   "source": [
    "# And determine what is the rarest of tags in `movies`?\n",
    "\n",
    "In this the answer should be `['Film-Noir']`, but you should of course determine that from movies. There could be a tie, so you should list the rarest tags."
   ]
  },
  {
   "cell_type": "code",
   "execution_count": null,
   "metadata": {},
   "outputs": [],
   "source": [
    "movies = read_movies()[:20]"
   ]
  },
  {
   "cell_type": "code",
   "execution_count": null,
   "metadata": {
    "deletable": false,
    "editable": true
   },
   "outputs": [],
   "source": [
    "%%assignment\n",
    "### ENTER YOUR CODE HERE"
   ]
  },
  {
   "cell_type": "code",
   "execution_count": null,
   "metadata": {
    "deletable": false,
    "editable": false
   },
   "outputs": [],
   "source": [
    "%%check\n",
    "movies = read_movies()[:20]\n",
    "set(result) == {'Fantasy', 'Crime', 'Horror'}\n",
    "movies = read_movies()\n",
    "set(result) == {'Film-Noir'}"
   ]
  }
 ],
 "metadata": {
  "celltoolbar": "Create Assignment",
  "kernelspec": [
   {
    "display_name": "prog",
    "language": "python",
    "name": "prog"
   }
  ],
  "language_info": {
   "codemirror_mode": {
    "name": "ipython",
    "version": 3
   },
   "file_extension": ".py",
   "mimetype": "text/x-python",
   "name": "python",
   "nbconvert_exporter": "python",
   "pygments_lexer": "ipython3",
   "version": "3.8.8"
  }
 },
 "nbformat": 4,
 "nbformat_minor": 4
}
