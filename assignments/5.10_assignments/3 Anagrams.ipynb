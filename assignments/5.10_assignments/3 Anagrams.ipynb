{
 "cells": [
  {
   "cell_type": "markdown",
   "metadata": {},
   "source": [
    "# Anagrams"
   ]
  },
  {
   "cell_type": "markdown",
   "metadata": {},
   "source": [
    "Consider the words in the `sentence` below. Your task is to see which of these words are anagrams. Anagrams are words that contain exactly the same characters, like elbow - below, night - thing, dusty - study."
   ]
  },
  {
   "cell_type": "code",
   "execution_count": null,
   "metadata": {},
   "outputs": [],
   "source": [
    "sentence = 'a cat with a tac can act like they listen or be silent'"
   ]
  },
  {
   "cell_type": "markdown",
   "metadata": {},
   "source": [
    "The result that we are looking for is to extract sets of words within the sentence that are anagrams:"
   ]
  },
  {
   "cell_type": "code",
   "execution_count": null,
   "metadata": {},
   "outputs": [],
   "source": [
    "anagrams = [{'cat', 'act', 'tac'}, {'listen', 'silent'}]"
   ]
  },
  {
   "cell_type": "markdown",
   "metadata": {},
   "source": [
    "'cat', 'act' and 'tac' are three anagrams. How can we easily determine if words are anagrams? Because these words contain the same letters with the same frequency, if we sort the letters within each word in alphabetical order, anagrams will look the same. For example, the words 'cat', 'act' and 'tac' after sorting all become 'act'."
   ]
  },
  {
   "cell_type": "markdown",
   "metadata": {},
   "source": [
    "Let's use a few smaller steps to figure out how to systematically find which words are anagrams in a sentence."
   ]
  },
  {
   "cell_type": "markdown",
   "metadata": {},
   "source": [
    "# Assignments"
   ]
  },
  {
   "cell_type": "markdown",
   "metadata": {},
   "source": [
    "# Assign to `words` a list of words in the sentence"
   ]
  },
  {
   "cell_type": "code",
   "execution_count": null,
   "metadata": {},
   "outputs": [],
   "source": [
    "sentence = 'a cat with a tac can act like they listen or be silent'"
   ]
  },
  {
   "cell_type": "code",
   "execution_count": null,
   "metadata": {
    "deletable": false,
    "editable": true
   },
   "outputs": [],
   "source": [
    "%%assignment\n",
    "### ENTER YOUR CODE HERE\n",
    "words"
   ]
  },
  {
   "cell_type": "code",
   "execution_count": null,
   "metadata": {
    "deletable": false,
    "editable": false
   },
   "outputs": [],
   "source": [
    "%%check\n",
    "sentence = 'map pam amp'\n",
    "set(words) == {'map', 'pam', 'amp'}\n",
    "sentence = 'a cat with a tac can act like a dog acts like god'\n",
    "set(words) == {'a', 'cat', 'with', 'a', 'tac', 'can', 'act', 'like', 'a', 'dog', 'acts', 'like', 'god'}"
   ]
  },
  {
   "cell_type": "markdown",
   "metadata": {},
   "source": [
    "# Sorted\n",
    "\n",
    "We have previously seen that we can use the `sort()` function on lists to sort the elements from small to big. There is also a `sorted()` function that works slightly different. The sorted function can work on any iterable (e.g. list, tuple, dictionary, set, String), and returns a newly created list with the elements in sorted order. Because sorted creates a new list, it can also work on immutable collections like Strings and tuples."
   ]
  },
  {
   "cell_type": "code",
   "execution_count": null,
   "metadata": {},
   "outputs": [],
   "source": [
    "sorted('cat')"
   ]
  },
  {
   "cell_type": "markdown",
   "metadata": {},
   "source": [
    "# Write an expression to sort the letters in a word\n",
    "\n",
    "The result should be `['a', 'a', 'a', 'b', 'n', 'n']`"
   ]
  },
  {
   "cell_type": "code",
   "execution_count": null,
   "metadata": {},
   "outputs": [],
   "source": [
    "word = 'banana'"
   ]
  },
  {
   "cell_type": "code",
   "execution_count": null,
   "metadata": {
    "deletable": false,
    "editable": true
   },
   "outputs": [],
   "source": [
    "%%assignment\n",
    "### ENTER YOUR CODE HERE"
   ]
  },
  {
   "cell_type": "code",
   "execution_count": null,
   "metadata": {
    "deletable": false,
    "editable": false
   },
   "outputs": [],
   "source": [
    "%%check\n",
    "word = 'road'\n",
    "result == ['a', 'd', 'o', 'r']\n",
    "word = 'banana'\n",
    "result == ['a', 'a', 'a', 'b', 'n', 'n']"
   ]
  },
  {
   "cell_type": "markdown",
   "metadata": {},
   "source": [
    "# Join\n",
    "\n",
    "Now we can also glue the letters in a word back together by using `join`. The correct use is:\n",
    "\n",
    "``` delimiter.join( iterable ) ```\n",
    "\n",
    "where the delimiter is any String, and the elements in the iterable have to be Strings as well. Then a new String is formed by all placing the delimiter in between the elements."
   ]
  },
  {
   "cell_type": "code",
   "execution_count": null,
   "metadata": {},
   "outputs": [],
   "source": [
    "'->'.join(['3', 'Monkey', '2'])"
   ]
  },
  {
   "cell_type": "markdown",
   "metadata": {},
   "source": [
    "# Write a function `sorted_word` that returns a String in which the letters of a given word are sorted.\n",
    "\n",
    "You can use and empty String `''` with join, to glue the letters together. "
   ]
  },
  {
   "cell_type": "code",
   "execution_count": null,
   "metadata": {
    "deletable": false,
    "editable": true
   },
   "outputs": [],
   "source": [
    "%%assignment\n",
    "### ENTER YOUR CODE HERE\n",
    "sorted_word('cat')"
   ]
  },
  {
   "cell_type": "code",
   "execution_count": null,
   "metadata": {
    "deletable": false,
    "editable": false
   },
   "outputs": [],
   "source": [
    "%%check\n",
    "signature sorted_word word\n",
    "sorted_word('cat') == 'act'\n",
    "sorted_word('tac') == 'act'\n",
    "sorted_word('listen') == 'eilnst'"
   ]
  },
  {
   "cell_type": "markdown",
   "metadata": {},
   "source": [
    "# Create a list comprehension that lists the `sorted_word` for every word in `words`."
   ]
  },
  {
   "cell_type": "code",
   "execution_count": null,
   "metadata": {},
   "outputs": [],
   "source": [
    "words = ['a', 'cat', 'with', 'a', 'tac', 'can', 'act', 'like', 'they', 'listen', 'or', 'be', 'silent']"
   ]
  },
  {
   "cell_type": "code",
   "execution_count": null,
   "metadata": {
    "deletable": false,
    "editable": true
   },
   "outputs": [],
   "source": [
    "%%assignment\n",
    "### ENTER YOUR CODE HERE"
   ]
  },
  {
   "cell_type": "code",
   "execution_count": null,
   "metadata": {
    "deletable": false,
    "editable": false
   },
   "outputs": [],
   "source": [
    "%%check\n",
    "words = ['a', 'cat', 'with', 'a', 'tac']\n",
    "result == ['a', 'act', 'hitw', 'a', 'act']\n",
    "words = ['a', 'cat', 'with', 'a', 'tac', 'can', 'act', 'like', 'they', 'listen', 'or', 'be', 'silent']\n",
    "result == ['a', 'act', 'hitw', 'a', 'act', 'acn', 'act', 'eikl', 'ehty', 'eilnst', 'or', 'be', 'eilnst']"
   ]
  },
  {
   "cell_type": "markdown",
   "metadata": {},
   "source": [
    "# Create a defaultdict(set) in which you store the `words` in a list that belongs to their `sorted_word`.\n",
    "\n",
    "Assign a `defaultdict(set)` to a variable anagrams\n",
    "Loop over the `words`, `add` them to anagrams using their `sorted_word` as a key.\n",
    "\n",
    "Note: in this case we use a defaultdict(set) instead of the defaultdict(list) that we learned previously. The reason to use a set, is that the duplicate words are automatically removed. Because these are `sets` we have to use `add` and not `append` to add an element.\n"
   ]
  },
  {
   "cell_type": "code",
   "execution_count": null,
   "metadata": {},
   "outputs": [],
   "source": [
    "from collections import defaultdict"
   ]
  },
  {
   "cell_type": "code",
   "execution_count": null,
   "metadata": {},
   "outputs": [],
   "source": [
    "['a', 'cat', 'with', 'a', 'tac', 'can', 'act', 'like', 'they', 'listen', 'or', 'be', 'silent']"
   ]
  },
  {
   "cell_type": "code",
   "execution_count": null,
   "metadata": {
    "deletable": false,
    "editable": true
   },
   "outputs": [],
   "source": [
    "%%assignment\n",
    "anagrams = defaultdict(set)\n",
    "### ENTER YOUR CODE HERE\n",
    "anagrams"
   ]
  },
  {
   "cell_type": "code",
   "execution_count": null,
   "metadata": {
    "deletable": false,
    "editable": false
   },
   "outputs": [],
   "source": [
    "%%check\n",
    "words = ['a', 'cat', 'with', 'a', 'tac']\n",
    "anagrams == {'a': {'a'}, 'act': {'cat', 'tac'}, 'hitw': {'with'}}\n",
    "words = ['a', 'cat', 'with', 'a', 'tac', 'can', 'act', 'like', 'they', 'listen', 'or', 'be', 'silent']\n",
    "anagrams == {'a': {'a'}, 'act': {'act', 'cat', 'tac'}, 'hitw': {'with'}, 'acn': {'can'}, 'eikl': {'like'}, 'ehty': {'they'}, 'eilnst': {'listen', 'silent'}, 'or': {'or'}, 'be': {'be'}}"
   ]
  },
  {
   "cell_type": "markdown",
   "metadata": {},
   "source": [
    "# Write code to return sets of anagrams\n",
    "\n",
    "In the above output, you can see two sets of anagrams: `{'act', 'cat', 'tac'}` and `{'listen', 'silent'}`. Expand your code to only list the sets of anagrams, like `[{'act', 'cat', 'tac'}, {'listen', 'silent'}]`. \n",
    "\n",
    "Hint: you can use a list comprehension on the values of the above dictionary, and only keep the sets that have two or more elemenents. "
   ]
  },
  {
   "cell_type": "code",
   "execution_count": null,
   "metadata": {},
   "outputs": [],
   "source": [
    "words = ['a', 'cat', 'with', 'a', 'tac', 'can', 'act', 'like', 'they', 'listen', 'or', 'be', 'silent']"
   ]
  },
  {
   "cell_type": "code",
   "execution_count": null,
   "metadata": {
    "deletable": false,
    "editable": true
   },
   "outputs": [],
   "source": [
    "%%assignment\n",
    "anagrams = defaultdict(set)\n",
    "### ENTER YOUR CODE HERE"
   ]
  },
  {
   "cell_type": "code",
   "execution_count": null,
   "metadata": {
    "deletable": false,
    "editable": false
   },
   "outputs": [],
   "source": [
    "%%check\n",
    "words = ['a', 'cat', 'with', 'a', 'tac']\n",
    "result == [{'cat', 'tac'}]\n",
    "words = ['a', 'cat', 'with', 'a', 'tac', 'can', 'act', 'like', 'they', 'listen', 'or', 'be', 'silent']\n",
    "result == [{'act', 'cat', 'tac'}, {'listen', 'silent'}]"
   ]
  }
 ],
 "metadata": {
  "celltoolbar": "Create Assignment",
  "kernelspec": [
   {
    "display_name": "prog",
    "language": "python",
    "name": "prog"
   }
  ],
  "language_info": {
   "codemirror_mode": {
    "name": "ipython",
    "version": 3
   },
   "file_extension": ".py",
   "mimetype": "text/x-python",
   "name": "python",
   "nbconvert_exporter": "python",
   "pygments_lexer": "ipython3",
   "version": "3.8.8"
  }
 },
 "nbformat": 4,
 "nbformat_minor": 4
}
