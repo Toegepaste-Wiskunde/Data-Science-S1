{
 "cells": [
  {
   "cell_type": "markdown",
   "metadata": {},
   "source": [
    "# Oldest movie\n",
    "\n",
    "Our next assignment is to find the oldest movie in this List. We have already seen that the year of release in inside brackets near the end of the movie. We can use that to grab the year. There are two options:\n",
    "- search for the index of ( and ) and grab the text in between\n",
    "- slice the title that takes the last four characters that are before the last )\n",
    "\n",
    "To apply the first option, you should take note that there may also be an original title in between brackets, e.g. 'Even Dwarfs Started Small (Auch Zwerge haben klein angefangen) (1971)'. However, you can search for the first bracket ( from the right with the function `rindex()`.\n",
    "\n",
    "The seond option will only work if the data is clean, in other words, every title must have the release year in the same spot."
   ]
  },
  {
   "cell_type": "code",
   "execution_count": null,
   "metadata": {},
   "outputs": [],
   "source": [
    "titles = read_movie_titles()       "
   ]
  },
  {
   "cell_type": "markdown",
   "metadata": {},
   "source": [
    "# Assignments"
   ]
  },
  {
   "cell_type": "markdown",
   "metadata": {},
   "source": [
    "#### write a function `movie_year` that returns the year of a single given `title`."
   ]
  },
  {
   "cell_type": "code",
   "execution_count": null,
   "metadata": {
    "deletable": false,
    "editable": true
   },
   "outputs": [],
   "source": [
    "%%assignment\n",
    "### ENTER YOUR CODE HERE\n",
    "movie_year(titles[0])"
   ]
  },
  {
   "cell_type": "code",
   "execution_count": null,
   "metadata": {
    "deletable": false,
    "editable": false
   },
   "outputs": [],
   "source": [
    "%%check\n",
    "signature movie_year title\n",
    "movie_year(titles[0]) == '1995'\n",
    "movie_year(titles[-1]) == '2000'"
   ]
  },
  {
   "cell_type": "markdown",
   "metadata": {},
   "source": [
    "### Write a List Comprehension to list the years of all the movies in `titles`"
   ]
  },
  {
   "cell_type": "code",
   "execution_count": null,
   "metadata": {
    "deletable": false,
    "editable": true
   },
   "outputs": [],
   "source": [
    "%%assignment\n",
    "### ENTER YOUR CODE HERE"
   ]
  },
  {
   "cell_type": "code",
   "execution_count": null,
   "metadata": {
    "deletable": false,
    "editable": false
   },
   "outputs": [],
   "source": [
    "%%check\n",
    "'movie_year' in cell       # You should use the function movie_year you already created\n",
    "len(result) == len(titles)\n",
    "len(set(result)) == 81     # You have probably not used all titles"
   ]
  },
  {
   "cell_type": "markdown",
   "metadata": {},
   "source": [
    "### Now use the List Comprehenson in a function `first_release_year` to return the release year of the oldest movie.\n",
    "\n",
    "Hint: you can use one of the List functions you have already learned"
   ]
  },
  {
   "cell_type": "code",
   "execution_count": null,
   "metadata": {
    "deletable": false,
    "editable": true
   },
   "outputs": [],
   "source": [
    "%%assignment\n",
    "### ENTER YOUR CODE HERE\n",
    "first_release_year(titles)"
   ]
  },
  {
   "cell_type": "code",
   "execution_count": null,
   "metadata": {
    "deletable": false,
    "editable": false
   },
   "outputs": [],
   "source": [
    "%%check\n",
    "signature first_release_year titles\n",
    "first_release_year(titles) == '1919'\n",
    "first_release_year(titles[:1000]) == '1926'"
   ]
  },
  {
   "cell_type": "markdown",
   "metadata": {},
   "source": [
    "### Finally, write the function `oldest_movies` that returns the oldest movies in `titles`\n",
    "\n",
    "Hint: use the function `first_release_year` on the given `titles`, because then you function will still be correct if in the future we use it with a different list of movie titles."
   ]
  },
  {
   "cell_type": "code",
   "execution_count": null,
   "metadata": {
    "deletable": false,
    "editable": true
   },
   "outputs": [],
   "source": [
    "%%assignment\n",
    "### ENTER YOUR CODE HERE\n",
    "oldest_movies(titles)"
   ]
  },
  {
   "cell_type": "code",
   "execution_count": null,
   "metadata": {
    "deletable": false,
    "editable": false
   },
   "outputs": [],
   "source": [
    "%%check\n",
    "signature oldest_movies titles\n",
    "'first_release_year' in cell                  # You should use first_release_year\n",
    "len(oldest_movies(titles)) == 3\n",
    "len(oldest_movies(titles[:100])) == 4"
   ]
  }
 ],
 "metadata": {
  "celltoolbar": "Create Assignment",
  "kernelspec": {
   "display_name": "prog",
   "language": "python",
   "name": "prog"
  },
  "language_info": {
   "codemirror_mode": {
    "name": "ipython",
    "version": 3
   },
   "file_extension": ".py",
   "mimetype": "text/x-python",
   "name": "python",
   "nbconvert_exporter": "python",
   "pygments_lexer": "ipython3",
   "version": "3.8.8"
  }
 },
 "nbformat": 4,
 "nbformat_minor": 4
}
