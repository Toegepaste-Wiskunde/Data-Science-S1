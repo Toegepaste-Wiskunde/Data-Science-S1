{
 "cells": [
  {
   "cell_type": "markdown",
   "metadata": {},
   "source": [
    "# defaultdict\n",
    "\n",
    "Normally, when you ask for a key in a dictionary that does not exist, you will get an error. However, you can create a dictionary that will automatically create any unknown key with a default value.\n",
    "\n",
    "To create a defaultdict, we need the following import statement. Then when we construct a defaultdict, we need to pass a function that will be used to create a value for keys that do not exist. When we would like the default value to be a value, we can simply create a lambda without parameters that will always return that value."
   ]
  },
  {
   "cell_type": "code",
   "execution_count": null,
   "metadata": {},
   "outputs": [],
   "source": [
    "from collections import defaultdict"
   ]
  },
  {
   "cell_type": "code",
   "execution_count": null,
   "metadata": {},
   "outputs": [],
   "source": [
    "d = defaultdict(lambda : 1)"
   ]
  },
  {
   "cell_type": "code",
   "execution_count": null,
   "metadata": {},
   "outputs": [],
   "source": [
    "d['unknown']"
   ]
  },
  {
   "cell_type": "markdown",
   "metadata": {},
   "source": [
    "and we can see that requesting the value for 'unknown', resulted in 'unknown' being added to the keys."
   ]
  },
  {
   "cell_type": "code",
   "execution_count": null,
   "metadata": {},
   "outputs": [],
   "source": [
    "d.keys()"
   ]
  },
  {
   "cell_type": "markdown",
   "metadata": {},
   "source": [
    "However, this does not interfere with how dictionaries work. When you assign a value to a key, that overwrites any other value."
   ]
  },
  {
   "cell_type": "code",
   "execution_count": null,
   "metadata": {},
   "outputs": [],
   "source": [
    "d['a'] = 2"
   ]
  },
  {
   "cell_type": "code",
   "execution_count": null,
   "metadata": {},
   "outputs": [],
   "source": [
    "d['a']"
   ]
  },
  {
   "cell_type": "markdown",
   "metadata": {},
   "source": [
    "# Assignments"
   ]
  },
  {
   "cell_type": "markdown",
   "metadata": {},
   "source": [
    "# Create a defaultdict in `awards`, with a default value of 0.\n",
    "\n",
    "Then add 'James' with 1 award, and 'Penelope' with 3 awards."
   ]
  },
  {
   "cell_type": "code",
   "execution_count": null,
   "metadata": {
    "deletable": false,
    "editable": true
   },
   "outputs": [],
   "source": [
    "%%assignment\n",
    "### ENTER YOUR CODE HERE"
   ]
  },
  {
   "cell_type": "code",
   "execution_count": null,
   "metadata": {
    "deletable": false,
    "editable": false
   },
   "outputs": [],
   "source": [
    "%%check\n",
    "awards == {'James': 1, 'Penelope': 3}\n",
    "awards['Jim'] == 0"
   ]
  },
  {
   "cell_type": "markdown",
   "metadata": {},
   "source": [
    "# Create a defaultdict 'student_city', that has the default value 'Delft'"
   ]
  },
  {
   "cell_type": "code",
   "execution_count": null,
   "metadata": {
    "deletable": false,
    "editable": true
   },
   "outputs": [],
   "source": [
    "%%assignment\n",
    "### ENTER YOUR CODE HERE"
   ]
  },
  {
   "cell_type": "code",
   "execution_count": null,
   "metadata": {
    "deletable": false,
    "editable": false
   },
   "outputs": [],
   "source": [
    "%%check\n",
    "student_city['aa'] == 'Delft'"
   ]
  },
  {
   "cell_type": "markdown",
   "metadata": {},
   "source": [
    "# Dictionary of list values"
   ]
  },
  {
   "cell_type": "markdown",
   "metadata": {},
   "source": [
    "The default value can also be `list`. This allows us to collect multiple values per key."
   ]
  },
  {
   "cell_type": "markdown",
   "metadata": {},
   "source": [
    "What this will do is generate an empty list `[]` when a key does not exists. So when we append a name to a new key, an empty list is created an the value is appended to that empty list. When we append a name to an existing key, it is appended to the existing list.\n",
    "\n",
    "Note: You could also create a list of dictionaries, dictionaries with set values, etc. "
   ]
  },
  {
   "cell_type": "code",
   "execution_count": null,
   "metadata": {},
   "outputs": [],
   "source": [
    "a = defaultdict(list)"
   ]
  },
  {
   "cell_type": "code",
   "execution_count": null,
   "metadata": {},
   "outputs": [],
   "source": [
    "a[23].append('one')\n",
    "a[58].append('two')\n",
    "a[23].append('three')"
   ]
  },
  {
   "cell_type": "code",
   "execution_count": null,
   "metadata": {},
   "outputs": [],
   "source": [
    "a[23]"
   ]
  },
  {
   "cell_type": "code",
   "execution_count": null,
   "metadata": {},
   "outputs": [],
   "source": [
    "a[58]"
   ]
  },
  {
   "cell_type": "markdown",
   "metadata": {},
   "source": [
    "# Add all `students` to the `student_cities` defaultdict(list)\n",
    "\n",
    "In `student_cities`, city is the key and the students are the values. In the given example, the key 'Delft' should contain a list of ['James', 'Jim'].\n",
    "\n",
    "Note: you cannot combine defaultdict in a comprehension, so you will have to write a loop to add the elements one-at-a-time like we did in the above example."
   ]
  },
  {
   "cell_type": "code",
   "execution_count": null,
   "metadata": {},
   "outputs": [],
   "source": [
    "students = [('James', 'Delft'), ('Jim', 'Delft'), ('Penelope', 'Leiden')]"
   ]
  },
  {
   "cell_type": "code",
   "execution_count": null,
   "metadata": {
    "deletable": false,
    "editable": true
   },
   "outputs": [],
   "source": [
    "%%assignment\n",
    "student_cities = defaultdict(list)\n",
    "### ENTER YOUR CODE HERE\n",
    "student_cities"
   ]
  },
  {
   "cell_type": "code",
   "execution_count": null,
   "metadata": {
    "deletable": false,
    "editable": false
   },
   "outputs": [],
   "source": [
    "%%check\n",
    "students = [('James', 'Delft'), ('Jim', 'Delft'), ('Penelope', 'Leiden')]\n",
    "result == {'Delft': ['James', 'Jim'], 'Leiden': ['Penelope']}\n",
    "students = [('James', 'Delft'), ('Jim', 'Leiden'), ('Penelope', 'Leiden')]\n",
    "result == {'Delft': ['James'], 'Leiden': ['Jim', 'Penelope']}"
   ]
  }
 ],
 "metadata": {
  "celltoolbar": "Create Assignment",
  "kernelspec": {
   "display_name": "prog",
   "language": "python",
   "name": "prog"
  },
  "language_info": {
   "codemirror_mode": {
    "name": "ipython",
    "version": 3
   },
   "file_extension": ".py",
   "mimetype": "text/x-python",
   "name": "python",
   "nbconvert_exporter": "python",
   "pygments_lexer": "ipython3",
   "version": "3.8.8"
  }
 },
 "nbformat": 4,
 "nbformat_minor": 4
}
