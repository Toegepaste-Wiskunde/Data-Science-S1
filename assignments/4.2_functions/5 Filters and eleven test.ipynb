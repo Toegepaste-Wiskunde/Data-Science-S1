{
 "cells": [
  {
   "cell_type": "markdown",
   "metadata": {},
   "source": [
    "# Filters\n",
    "\n",
    "List Comprehensions can filter out values that meet some condition. We call that filtering. Then for the the elements that are filtered in, we can additionally perform a transformation.\n",
    "\n",
    "The general syntax is this, where we use a variable to iterate over a collection, based on a condition decide which values to use and for those values put the result of an expression in the resulting List.\n",
    "\n",
    "`[ expression for variable in collection if condition ]`"
   ]
  },
  {
   "cell_type": "markdown",
   "metadata": {},
   "source": [
    "# Assignment\n",
    "\n",
    "To avoid mistakes with important IDs such as Dutch citizen numbers and bank account numbers, these 9 digit numbers are made in compliance with the so called 'eleven-test'. This test fails if in a valid number only one of the numbers is changed by mistake, or when any two numbers are swapped."
   ]
  },
  {
   "cell_type": "markdown",
   "metadata": {},
   "source": [
    "#### Write a function `eleven` that takes a number of 9 digits and returns True if the number is eleven compliant.\n",
    "\n",
    "To determine if the number is eleven compliant, you have to multiply the digits with their 'rank'.\n",
    "\n",
    "| rank | 9 | 8 | 7 | 6 | 5 | 4 | 3 | 2 | 1 |\n",
    "|------|---|---|---|---|---|---|---|---|---|\n",
    "| citizien number | 7 | 3 | 6 | 1 | 6 | 0 | 2 | 2| 1 |\n",
    "| test sum | 9 * 7 | 8 * 3 | 7 * 6 | 6 * 1 | 5 * 6 | 4 * 0 | 3 * 2 | 2 * 2 | 1 * 1 |\n",
    "\n",
    "The test sum in this case is 176. This number is valid because `test sum % 11 == 0`.\n",
    "\n",
    "Hint: There are several possible solutions. One is to loop over the ranks 1 through 9. Inside the loop, you can use integer division and modulo 10 to grab the last digit and use the remainder for the next iteration."
   ]
  },
  {
   "cell_type": "code",
   "execution_count": null,
   "metadata": {},
   "outputs": [],
   "source": [
    "number = 736160221"
   ]
  },
  {
   "cell_type": "code",
   "execution_count": null,
   "metadata": {
    "deletable": false,
    "editable": true
   },
   "outputs": [],
   "source": [
    "%%assignment\n",
    "def eleven(number):\n",
    "    test_sum = 0\n",
    "### ENTER YOUR CODE HERE\n",
    "    return test_sum % 11 == 0"
   ]
  },
  {
   "cell_type": "code",
   "execution_count": null,
   "metadata": {},
   "outputs": [],
   "source": [
    "eleven(number)"
   ]
  },
  {
   "cell_type": "code",
   "execution_count": null,
   "metadata": {
    "deletable": false,
    "editable": false
   },
   "outputs": [],
   "source": [
    "%%check\n",
    "eleven(736160221)\n",
    "not eleven(836160221)\n",
    "eleven(736160213)\n",
    "not eleven(746160213)\n",
    "eleven(736160493)\n",
    "not eleven(736160494)"
   ]
  },
  {
   "cell_type": "markdown",
   "metadata": {},
   "source": [
    "#### Then write a filter using the `eleven` function, using a List Comprehension for all `numbers` to only list numbers that are not eleven compliant."
   ]
  },
  {
   "cell_type": "code",
   "execution_count": null,
   "metadata": {},
   "outputs": [],
   "source": [
    "numbers = [736160116, 836160751, 179320213, 623460213, 735460493, 739870494]"
   ]
  },
  {
   "cell_type": "code",
   "execution_count": null,
   "metadata": {
    "deletable": false,
    "editable": true
   },
   "outputs": [],
   "source": [
    "%%assignment\n",
    "### ENTER YOUR CODE HERE"
   ]
  },
  {
   "cell_type": "code",
   "execution_count": null,
   "metadata": {
    "deletable": false,
    "editable": false
   },
   "outputs": [],
   "source": [
    "%%check\n",
    "mandatory eleven # you should call the function eleven in your code\n",
    "numbers = [736160221, 836160221, 736160213, 746160213, 736160493, 736160494]\n",
    "result == [836160221, 746160213, 736160494]\n",
    "numbers = [736160116, 836160751, 179320213, 623460213, 735460493, 739870494]\n",
    "result == [836160751, 179320213, 623460213, 739870494]"
   ]
  }
 ],
 "metadata": {
  "celltoolbar": "Create Assignment",
  "kernelspec": {
   "display_name": "prog",
   "language": "python",
   "name": "prog"
  },
  "language_info": {
   "codemirror_mode": {
    "name": "ipython",
    "version": 3
   },
   "file_extension": ".py",
   "mimetype": "text/x-python",
   "name": "python",
   "nbconvert_exporter": "python",
   "pygments_lexer": "ipython3",
   "version": "3.8.8"
  }
 },
 "nbformat": 4,
 "nbformat_minor": 4
}
