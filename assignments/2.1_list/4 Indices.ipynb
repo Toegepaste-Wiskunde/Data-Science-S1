{
 "cells": [
  {
   "cell_type": "markdown",
   "metadata": {},
   "source": [
    "# Indices\n",
    "\n",
    "A List in Python stores data sequentially. Each element of a List is assigned a number - its position or index. The first index is zero, the second index is one, and so forth.\n",
    "\n",
    "| Index | 0 | 1 | 2 | 3 | 4 |   |\n",
    "|-------|---|---|---|---|---|---|\n",
    "| a = [ | 2 | 3 | 7 | 5 | 6 | ] |\n",
    "\n",
    "You can use `[index]`, where index is the index number to point to a specific element. Indices are always numbered from 0. A negative index counts back from the end of the List.\n",
    "\n",
    "|       | result | comment |\n",
    "|:------|:-------|:--------|\n",
    "| a[0]  | 2      | the first element in the list (indices always start at 0) |\n",
    "| a[3]  | 5      | the fourth element in the list |\n",
    "| a[-1] | 6      | negative indices count back from the end, -1 being the last value |\n",
    "| a[-3] | 7      ||\n",
    "| a[1] = 9 | a = [2, **9**, 7, 5, 6] | you can also assign a new value to a specific position |\n",
    "\n",
    "You can also use indices to point to a range of elements. For this we can take a 'slice' from the List by specifiying a begin and end in between squared brackets, i.e. `[begin:end]`. The slice taken contains all elements from the `begin` position until the `end` position. An important detail is that the element at the `begin` position is included but the element at the `end` position is excluded. If you do not specify `begin` 0 is used, e.g. `[:2]`. If you do not specify `end` all element from begin until the end of the list are taken. \n",
    "\n",
    "|       | result | comment |\n",
    "|:------|:-------|:--------|\n",
    "| a[1:3]  | [ 3, 7 ]      | A slice is taken from index 1 until index 3, the last index excluded  |\n",
    "| a[:2]  | [ 2, 9 ]      | Leaving out `begin` means 0 is used |\n",
    "| a[0:-2] | [ 2, 3, 7 ]      | Negative indices countback from the end |\n",
    "| a[-3:] | [ 7, 5 6 ]      | |\n",
    "\n",
    "\n"
   ]
  },
  {
   "cell_type": "markdown",
   "metadata": {},
   "source": [
    "# Assignments"
   ]
  },
  {
   "cell_type": "markdown",
   "metadata": {},
   "source": [
    "#### Give the time of the last lap in lap_times"
   ]
  },
  {
   "cell_type": "code",
   "execution_count": null,
   "metadata": {},
   "outputs": [],
   "source": [
    "lap_times = [ 20.3, 23.5, 21.2, 21.3 ]"
   ]
  },
  {
   "cell_type": "code",
   "execution_count": null,
   "metadata": {
    "deletable": false,
    "editable": true
   },
   "outputs": [],
   "source": [
    "%%assignment\n",
    "### ENTER YOUR CODE HERE"
   ]
  },
  {
   "cell_type": "code",
   "execution_count": null,
   "metadata": {
    "deletable": false,
    "editable": false
   },
   "outputs": [],
   "source": [
    "%%check\n",
    "lap_times = [ 20.3, 23.5, 21.2, 21.3 ]\n",
    "result == 21.3\n",
    "lap_times = [ 20.3, 23.5, 21.2 ]\n",
    "result == 21.2"
   ]
  },
  {
   "cell_type": "markdown",
   "metadata": {},
   "source": [
    "#### Give the time of the second lap in lap_times"
   ]
  },
  {
   "cell_type": "code",
   "execution_count": null,
   "metadata": {},
   "outputs": [],
   "source": [
    "lap_times = [ 20.3, 23.5, 21.2, 21.3 ]"
   ]
  },
  {
   "cell_type": "code",
   "execution_count": null,
   "metadata": {
    "deletable": false,
    "editable": true
   },
   "outputs": [],
   "source": [
    "%%assignment\n",
    "### ENTER YOUR CODE HERE"
   ]
  },
  {
   "cell_type": "code",
   "execution_count": null,
   "metadata": {
    "deletable": false,
    "editable": false
   },
   "outputs": [],
   "source": [
    "%%check\n",
    "lap_times = [ 20.3, 23.5, 21.2, 21.3 ]\n",
    "result == 23.5\n",
    "lap_times = [ 23.5, 21.2, 21.3 ]\n",
    "result == 21.2"
   ]
  },
  {
   "cell_type": "markdown",
   "metadata": {},
   "source": [
    "#### Give the times all lap_times except the first\n",
    "(Not one by one, but as a list)."
   ]
  },
  {
   "cell_type": "code",
   "execution_count": null,
   "metadata": {},
   "outputs": [],
   "source": [
    "lap_times = [ 20.3, 23.5, 21.2, 21.3 ]"
   ]
  },
  {
   "cell_type": "code",
   "execution_count": null,
   "metadata": {
    "deletable": false,
    "editable": true
   },
   "outputs": [],
   "source": [
    "%%assignment\n",
    "### ENTER YOUR CODE HERE"
   ]
  },
  {
   "cell_type": "code",
   "execution_count": null,
   "metadata": {
    "deletable": false,
    "editable": false
   },
   "outputs": [],
   "source": [
    "%%check\n",
    "lap_times = [ 20.3, 23.5, 21.2, 21.3 ]\n",
    "result == [ 23.5, 21.2, 21.3 ]\n",
    "lap_times = [ 23.5, 21.2, 21.3 ]\n",
    "result == [ 21.2, 21.3 ]"
   ]
  },
  {
   "cell_type": "markdown",
   "metadata": {},
   "source": [
    "#### Give the average of all lap_times except the last two laps"
   ]
  },
  {
   "cell_type": "code",
   "execution_count": null,
   "metadata": {},
   "outputs": [],
   "source": [
    "lap_times = [ 20.3, 23.5, 21.2, 21.3 ]"
   ]
  },
  {
   "cell_type": "code",
   "execution_count": null,
   "metadata": {
    "deletable": false,
    "editable": true
   },
   "outputs": [],
   "source": [
    "%%assignment\n",
    "### ENTER YOUR CODE HERE"
   ]
  },
  {
   "cell_type": "code",
   "execution_count": null,
   "metadata": {
    "deletable": false,
    "editable": false
   },
   "outputs": [],
   "source": [
    "%%check\n",
    "lap_times = [ 20.3, 23.5, 21.2, 21.3 ]\n",
    "result == 21.9\n",
    "lap_times = [ 1.0, 2.0, 4.0, 6.0, 21.2, 21.3 ]\n",
    "result == 3.25"
   ]
  },
  {
   "cell_type": "markdown",
   "metadata": {},
   "source": [
    "#### change the second lap_time to 22.6"
   ]
  },
  {
   "cell_type": "code",
   "execution_count": null,
   "metadata": {},
   "outputs": [],
   "source": [
    "lap_times = [ 20.3, 23.5, 21.2, 21.3 ]"
   ]
  },
  {
   "cell_type": "code",
   "execution_count": null,
   "metadata": {
    "deletable": false,
    "editable": true
   },
   "outputs": [],
   "source": [
    "%%assignment\n",
    "### ENTER YOUR CODE HERE"
   ]
  },
  {
   "cell_type": "code",
   "execution_count": null,
   "metadata": {
    "deletable": false,
    "editable": false
   },
   "outputs": [],
   "source": [
    "%%check\n",
    "lap_times = [ 20.3, 23.5, 21.2, 21.3 ]\n",
    "lap_times == [ 20.3, 22.6, 21.2, 21.3 ]\n",
    "lap_times = [ 1.0, 2.0 ]\n",
    "lap_times == [ 1.0, 22.6 ]"
   ]
  }
 ],
 "metadata": {
  "celltoolbar": "Create Assignment",
  "kernelspec": {
   "display_name": "prog",
   "language": "python",
   "name": "prog"
  },
  "language_info": {
   "codemirror_mode": {
    "name": "ipython",
    "version": 3
   },
   "file_extension": ".py",
   "mimetype": "text/x-python",
   "name": "python",
   "nbconvert_exporter": "python",
   "pygments_lexer": "ipython3",
   "version": "3.8.8"
  }
 },
 "nbformat": 4,
 "nbformat_minor": 4
}
