{
 "cells": [
  {
   "cell_type": "markdown",
   "metadata": {},
   "source": [
    "# List functions\n",
    "\n",
    "There are several functions we can apply to a List to modify the List or perform some operation.\n",
    "\n",
    "These functions are called methods. A method belongs to a list, therefore they are connected to a list with a dot; `list.method()`. The method only works on the list it is attachted to.\n",
    "\n",
    "| Index | 0 | 1 | 2 |   |\n",
    "|-------|---|---|---|---|\n",
    "| a = [ | 2 | 3 | 7 | ] |\n",
    "| b = [ | 3 | 8 | 5 | ] |\n",
    "\n",
    "\n",
    "| Example | Result | Comment |\n",
    "|:--------|:-------|:--------|\n",
    "| a.append( 4 ) | a = [ 2, 3, 7, 4 ] | appends a value to the end of the list |\n",
    "| a.index(3)    | 1 | returns the index of the first element with value 3 |\n",
    "| a.insert(1, 9) | a = [ 2, 9, 3, 7 ] | inserts an element with value 9 in the list between the indices 0 and 1 |\n",
    "| a.extend(b) | a = [ 2, 3, 7, 3, 8, 5 ] | appends all elements from list b to list a, note that elements do not have to be unique |\n",
    "| b.sort() | b = [ 3, 5, 8 ] | sorts the elements in the List |\n",
    "| a.reverse() | a = [ 7, 3, 2 ] | reverses the order of the elements |\n"
   ]
  },
  {
   "cell_type": "markdown",
   "metadata": {},
   "source": [
    "# Assignments"
   ]
  },
  {
   "cell_type": "markdown",
   "metadata": {},
   "source": [
    "#### Insert the name 'Jeff' in `hero` at index 1."
   ]
  },
  {
   "cell_type": "code",
   "execution_count": null,
   "metadata": {},
   "outputs": [],
   "source": [
    "hero = ['John', 'Jack', 'James']"
   ]
  },
  {
   "cell_type": "code",
   "execution_count": null,
   "metadata": {
    "deletable": false,
    "editable": true
   },
   "outputs": [],
   "source": [
    "%%assignment\n",
    "### ENTER YOUR CODE HERE"
   ]
  },
  {
   "cell_type": "code",
   "execution_count": null,
   "metadata": {
    "deletable": false,
    "editable": false
   },
   "outputs": [],
   "source": [
    "%%check\n",
    "hero = ['John', 'Jack', 'James']\n",
    "hero == ['John', 'Jeff', 'Jack', 'James']\n",
    "hero = ['Kyle', 'Kevin']\n",
    "hero == ['Kyle', 'Jeff', 'Kevin']"
   ]
  },
  {
   "cell_type": "markdown",
   "metadata": {},
   "source": [
    "#### Insert the name 'Jeff' in `hero` just before 'Jack'. Beware that Jack is not necessarily at index 1, so you have to first get the index of Jack."
   ]
  },
  {
   "cell_type": "code",
   "execution_count": null,
   "metadata": {},
   "outputs": [],
   "source": [
    "hero = ['John', 'Jack', 'James']"
   ]
  },
  {
   "cell_type": "code",
   "execution_count": null,
   "metadata": {
    "deletable": false,
    "editable": true
   },
   "outputs": [],
   "source": [
    "%%assignment\n",
    "### ENTER YOUR CODE HERE"
   ]
  },
  {
   "cell_type": "code",
   "execution_count": null,
   "metadata": {
    "deletable": false,
    "editable": false
   },
   "outputs": [],
   "source": [
    "%%check\n",
    "hero = ['John', 'Jack', 'James']\n",
    "hero == ['John', 'Jeff', 'Jack', 'James']\n",
    "hero = ['Jack', 'James']\n",
    "hero == ['Jeff', 'Jack', 'James']"
   ]
  },
  {
   "cell_type": "markdown",
   "metadata": {},
   "source": [
    "#### What is the second smallest temperature in `temperatures`."
   ]
  },
  {
   "cell_type": "code",
   "execution_count": null,
   "metadata": {},
   "outputs": [],
   "source": [
    "temperatures = [20, 9, 15, 30, 31]"
   ]
  },
  {
   "cell_type": "code",
   "execution_count": null,
   "metadata": {
    "deletable": false,
    "editable": true
   },
   "outputs": [],
   "source": [
    "%%assignment\n",
    "### ENTER YOUR CODE HERE"
   ]
  },
  {
   "cell_type": "code",
   "execution_count": null,
   "metadata": {
    "deletable": false,
    "editable": false
   },
   "outputs": [],
   "source": [
    "%%check\n",
    "temperatures = [20, 9, 15, 30, 31]\n",
    "result == 15\n",
    "temperatures = [2.5, 3.5, 4.5, 1.2]\n",
    "result == 2.5"
   ]
  },
  {
   "cell_type": "markdown",
   "metadata": {},
   "source": [
    "#### Replace the highest temperature with 40.\n",
    "Hint: Find the index of the maximum."
   ]
  },
  {
   "cell_type": "code",
   "execution_count": null,
   "metadata": {},
   "outputs": [],
   "source": [
    "temperatures = [20, 9, 15, 31, 30]"
   ]
  },
  {
   "cell_type": "code",
   "execution_count": null,
   "metadata": {
    "deletable": false,
    "editable": true
   },
   "outputs": [],
   "source": [
    "%%assignment\n",
    "### ENTER YOUR CODE HERE"
   ]
  },
  {
   "cell_type": "code",
   "execution_count": null,
   "metadata": {
    "deletable": false,
    "editable": false
   },
   "outputs": [],
   "source": [
    "%%check\n",
    "temperatures = [20, 9, 15, 30, 31]\n",
    "temperatures == [20, 9, 15, 30, 40]\n",
    "temperatures = [2.5, 3.5, 3.2, 1.2]\n",
    "temperatures == [2.5, 40, 3.2, 1.2]"
   ]
  },
  {
   "cell_type": "markdown",
   "metadata": {},
   "source": [
    "#### Swap the position of the lowest value in temperatures with position of the highest temperature\n",
    "You likely need multiple variables and multiple lines of code."
   ]
  },
  {
   "cell_type": "code",
   "execution_count": null,
   "metadata": {},
   "outputs": [],
   "source": [
    "temperatures = [20, 9, 15, 31, 30]\n",
    "# i.e. should become [ 20, 31, 15, 9, 30 ]"
   ]
  },
  {
   "cell_type": "code",
   "execution_count": null,
   "metadata": {
    "deletable": false,
    "editable": true
   },
   "outputs": [],
   "source": [
    "%%assignment\n",
    "### ENTER YOUR CODE HERE"
   ]
  },
  {
   "cell_type": "code",
   "execution_count": null,
   "metadata": {
    "deletable": false,
    "editable": false
   },
   "outputs": [],
   "source": [
    "%%check\n",
    "temperatures = [20, 9, 15, 30, 31]\n",
    "temperatures == [20, 31, 15, 30, 9]\n",
    "temperatures = [3.5, 2.5, 3.2, 1.2]\n",
    "temperatures == [1.2, 2.5, 3.2, 3.5]"
   ]
  },
  {
   "cell_type": "code",
   "execution_count": null,
   "metadata": {},
   "outputs": [],
   "source": []
  }
 ],
 "metadata": {
  "celltoolbar": "Create Assignment",
  "kernelspec": {
   "display_name": "prog",
   "language": "python",
   "name": "prog"
  },
  "language_info": {
   "codemirror_mode": {
    "name": "ipython",
    "version": 3
   },
   "file_extension": ".py",
   "mimetype": "text/x-python",
   "name": "python",
   "nbconvert_exporter": "python",
   "pygments_lexer": "ipython3",
   "version": "3.8.8"
  }
 },
 "nbformat": 4,
 "nbformat_minor": 4
}
