{
 "cells": [
  {
   "cell_type": "markdown",
   "metadata": {},
   "source": [
    "# Assignment Notebook\n",
    "\n",
    "Welcome to your first assignment notebook. In these notebooks, we will first give you a brief instruction, followed by an example and then a few assignments for your to complete. You can run any cell by selecting it and either clicking `Run` or pressing `Shift-Enter`. Run the example(s), fill in the assignments and run the assignment and the corresponding check right after eachother. Change your answer until you see a green Correct! message. "
   ]
  },
  {
   "cell_type": "markdown",
   "metadata": {},
   "source": [
    "# Displaying results\n",
    "\n",
    "Traditionally, the first thing you learn when learning a programming language, is how to display the text \"Hello, World!\". In a Python Notebook, we can literally type 'Hello, World!' inbetween single or double quotes. "
   ]
  },
  {
   "cell_type": "markdown",
   "metadata": {},
   "source": [
    "### Example\n",
    "\n",
    "You can run the following example by selecting the cell below and either clicking `Run` or pressing `Shift-Enter`."
   ]
  },
  {
   "cell_type": "code",
   "execution_count": null,
   "metadata": {},
   "outputs": [],
   "source": [
    "'Hello, World!'"
   ]
  },
  {
   "cell_type": "markdown",
   "metadata": {},
   "source": [
    "### Show the text: 'Goodbye!'\n",
    "\n",
    "Note: for your assignment to pass the test, that texts are case-sensitive, e.g. 'G' is not the same as 'g'. There also should not be any whitespace in between."
   ]
  },
  {
   "cell_type": "code",
   "execution_count": null,
   "metadata": {
    "deletable": false,
    "editable": true
   },
   "outputs": [],
   "source": [
    "%%assignment\n",
    "### ENTER YOUR CODE HERE"
   ]
  },
  {
   "cell_type": "code",
   "execution_count": null,
   "metadata": {
    "deletable": false,
    "editable": false
   },
   "outputs": [],
   "source": [
    "%%check\n",
    "result == 'Goodbye!'"
   ]
  },
  {
   "cell_type": "markdown",
   "metadata": {},
   "source": [
    "### Show the number 2\n",
    "\n",
    "Note: There is a difference between a text '2' (between quotes) and the number 2 (without quotes). For instance, you can do calculations on numbers but not on texts. So enter the number 2 here (Between ### BEGIN SOLUTION and ### END SOLUTION)."
   ]
  },
  {
   "cell_type": "code",
   "execution_count": null,
   "metadata": {
    "deletable": false,
    "editable": true
   },
   "outputs": [],
   "source": [
    "%%assignment\n",
    "### ENTER YOUR CODE HERE"
   ]
  },
  {
   "cell_type": "code",
   "execution_count": null,
   "metadata": {
    "deletable": false,
    "editable": false
   },
   "outputs": [],
   "source": [
    "%%check\n",
    "result == 2"
   ]
  },
  {
   "cell_type": "markdown",
   "metadata": {},
   "source": [
    "### Show the number 3.14\n",
    "Note that computers, like calculators, use English notation for the decimal separator, a dot."
   ]
  },
  {
   "cell_type": "code",
   "execution_count": null,
   "metadata": {
    "deletable": false,
    "editable": true
   },
   "outputs": [],
   "source": [
    "%%assignment\n",
    "### ENTER YOUR CODE HERE"
   ]
  },
  {
   "cell_type": "code",
   "execution_count": null,
   "metadata": {
    "deletable": false,
    "editable": false
   },
   "outputs": [],
   "source": [
    "%%check\n",
    "result == 3.14"
   ]
  },
  {
   "cell_type": "markdown",
   "metadata": {},
   "source": [
    "## Print\n",
    "\n",
    "Notebooks cells with Python code will automatically display only the result of the last line. You can see that when you run the next cell. Sometimes, you will want to display more results. For this, you can use the `print()` statement. In between the parenthesis (), you can list multiple things you want printed.\n",
    "\n",
    "Note: in these notebook assignments, anything output by print() is ignored when grading. So you may use this for the purpose of finding mistakes in your code."
   ]
  },
  {
   "cell_type": "code",
   "execution_count": null,
   "metadata": {},
   "outputs": [],
   "source": [
    "2\n",
    "3"
   ]
  },
  {
   "cell_type": "code",
   "execution_count": null,
   "metadata": {},
   "outputs": [],
   "source": [
    "print(2)\n",
    "print(3)"
   ]
  },
  {
   "cell_type": "code",
   "execution_count": null,
   "metadata": {},
   "outputs": [],
   "source": [
    "print(2, 3)\n",
    "print('Hello, World!')\n",
    "print(3.14)\n",
    "print(2, 3, 'Hello, World!', 3.14)"
   ]
  },
  {
   "cell_type": "markdown",
   "metadata": {},
   "source": [
    "# Finished\n",
    "\n",
    "If you finished your notebook, you may press the `validate` button to run one last check and see if you did not make any mistakes. When you finished a **complete folder** of notebooks, you may `submit` this to your teacher for grading."
   ]
  },
  {
   "cell_type": "markdown",
   "metadata": {},
   "source": [
    "# Done? Please close your notebook with Close And Halt!"
   ]
  },
  {
   "cell_type": "code",
   "execution_count": null,
   "metadata": {},
   "outputs": [],
   "source": []
  }
 ],
 "kernelspec": [
  {
   "display_name": "prog",
   "language": "python",
   "name": "prog"
  }
 ],
 "metadata": {
  "celltoolbar": "Create Assignment",
  "kernelspec": {
   "display_name": "prog",
   "language": "python",
   "name": "prog"
  },
  "language_info": {
   "codemirror_mode": {
    "name": "ipython",
    "version": 3
   },
   "file_extension": ".py",
   "mimetype": "text/x-python",
   "name": "python",
   "nbconvert_exporter": "python",
   "pygments_lexer": "ipython3",
   "version": "3.8.8"
  }
 },
 "nbformat": 4,
 "nbformat_minor": 4
}
