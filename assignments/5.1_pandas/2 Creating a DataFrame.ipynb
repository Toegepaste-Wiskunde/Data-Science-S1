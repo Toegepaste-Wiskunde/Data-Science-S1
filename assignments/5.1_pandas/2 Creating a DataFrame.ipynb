{
 "cells": [
  {
   "cell_type": "markdown",
   "metadata": {},
   "source": [
    "## Creating a new DataFrame\n",
    "We've already seen that we can create a DataFrame by loading a CSV file with Pandas. But a DataFrame can also be directly constructed from a dictionary of lists:\n",
    "\n",
    "\n",
    "\n"
   ]
  },
  {
   "cell_type": "code",
   "execution_count": 1,
   "metadata": {},
   "outputs": [
    {
     "name": "stdout",
     "output_type": "stream",
     "text": [
      "        A           B\n",
      "row_0  10         aap\n",
      "row_1  20       paard\n",
      "row_2  30  dromedaris\n"
     ]
    }
   ],
   "source": [
    "import pandas as pd\n",
    "\n",
    "example_dict = {'A': [10, 20, 30], 'B': ['aap','paard','dromedaris']}\n",
    "row_labels = [f'row_{k}' for k in range(3)] \n",
    "\n",
    "example_df = pd.DataFrame(example_dict,index=row_labels)\n",
    "print(example_df)"
   ]
  },
  {
   "cell_type": "markdown",
   "metadata": {},
   "source": [
    "**exercise** Create the following table as DataFrame:\n",
    "\n",
    "|       | inwoners | provincie    | \n",
    "|-------|----------|--------------|\n",
    "| Delft | 104468   | Zuid-Holland | \n",
    "| Utrecht | 361924 | Utrecht |\n",
    "| Westerhoven | 2030 | Noord-Brabant|\n"
   ]
  },
  {
   "cell_type": "code",
   "execution_count": null,
   "metadata": {
    "deletable": false,
    "editable": true
   },
   "outputs": [
    {
     "ename": "",
     "evalue": "",
     "output_type": "error",
     "traceback": [
      "\u001b[1;31mRunning cells with 'Python 3.6.9 64-bit' requires ipykernel package.\n",
      "Run the following command to install 'ipykernel' into the Python environment. \n",
      "Command: '/usr/bin/python3 -m pip install ipykernel -U --user --force-reinstall'"
     ]
    }
   ],
   "source": [
    "%%assignment\n",
    "### ENTER YOUR CODE HERE\n"
   ]
  },
  {
   "cell_type": "code",
   "execution_count": 3,
   "metadata": {
    "deletable": false,
    "editable": false
   },
   "outputs": [
    {
     "data": {
      "text/html": [
       "<table><tr style=\"background: green; color: white\"><td style=\"text-align:left\">Correct!</td></tr></table>"
      ],
      "text/plain": [
       "<IPython.core.display.HTML object>"
      ]
     },
     "metadata": {
      "text/html": {
       "username": "willem"
      }
     },
     "output_type": "display_data"
    }
   ],
   "source": [
    "%%check\n",
    "hashresult == 742727652"
   ]
  }
 ],
 "metadata": {
  "kernelspec": [
   {
    "display_name": "prog",
    "language": "python",
    "name": "prog"
   }
  ],
  "language_info": {
   "codemirror_mode": {
    "name": "ipython",
    "version": 3
   },
   "file_extension": ".py",
   "mimetype": "text/x-python",
   "name": "python",
   "nbconvert_exporter": "python",
   "pygments_lexer": "ipython3",
   "version": "3.8.8"
  },
  "vscode": {
   "interpreter": {
    "hash": "31f2aee4e71d21fbe5cf8b01ff0e069b9275f58929596ceb00d14d90e3e16cd6"
   }
  }
 },
 "nbformat": 4,
 "nbformat_minor": 2
}
