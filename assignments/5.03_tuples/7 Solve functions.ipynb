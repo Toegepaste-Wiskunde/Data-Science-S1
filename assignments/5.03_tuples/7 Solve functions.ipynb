{
 "cells": [
  {
   "cell_type": "markdown",
   "metadata": {},
   "source": [
    "# Solve functions"
   ]
  },
  {
   "cell_type": "markdown",
   "metadata": {},
   "source": [
    "We will attempt to solve some simple mathematical equations using comprehensions.\n",
    "\n",
    "Suppose, we want to find solution with $x, y \\in \\{0, 1, 2, 3\\}$"
   ]
  },
  {
   "cell_type": "markdown",
   "metadata": {},
   "source": [
    "#### Write a comprehension that lists all possible combinations of `x` and `y` in the given domain `d`.\n",
    "\n",
    "Hint: you will need two for-loops, one for x, one for y.\n",
    "\n",
    "e.g. [(0, 0), (0, 1), (0, 2), (0, 3), (1, 0), ..., (3, 3)]"
   ]
  },
  {
   "cell_type": "code",
   "execution_count": null,
   "metadata": {},
   "outputs": [],
   "source": [
    "d = [0,1,2,3]"
   ]
  },
  {
   "cell_type": "code",
   "execution_count": null,
   "metadata": {
    "deletable": false,
    "editable": true
   },
   "outputs": [],
   "source": [
    "%%assignment\n",
    "### ENTER YOUR CODE HERE"
   ]
  },
  {
   "cell_type": "code",
   "execution_count": null,
   "metadata": {
    "deletable": false,
    "editable": false
   },
   "outputs": [],
   "source": [
    "%%check\n",
    "d = [0,1]\n",
    "set(result) == {(0, 0), (0, 1), (1, 0), (1, 1)}\n",
    "d = [0,1,2,3]\n",
    "set(result) == {(0, 0), (0, 1), (0, 2), (0, 3), (1, 0), (1, 1), (1, 2), (1, 3), (2, 0), (2, 1), (2, 2), (2, 3), (3, 0), (3, 1), (3, 2), (3, 3)}"
   ]
  },
  {
   "cell_type": "markdown",
   "metadata": {},
   "source": [
    "#### Write a comprehension that lists all possible combinations of `x` and `y` in the given domain `d` that sum up to 2."
   ]
  },
  {
   "cell_type": "code",
   "execution_count": null,
   "metadata": {},
   "outputs": [],
   "source": [
    "d = [0,1,2,3]"
   ]
  },
  {
   "cell_type": "code",
   "execution_count": null,
   "metadata": {
    "deletable": false,
    "editable": true
   },
   "outputs": [],
   "source": [
    "%%assignment\n",
    "### ENTER YOUR CODE HERE"
   ]
  },
  {
   "cell_type": "code",
   "execution_count": null,
   "metadata": {
    "deletable": false,
    "editable": false
   },
   "outputs": [],
   "source": [
    "%%check\n",
    "d = [1,2]\n",
    "set(result) == {(1, 1)}\n",
    "d = [0,1,2,3]\n",
    "set(result) == {(0, 2), (1, 1), (2, 0)}"
   ]
  },
  {
   "cell_type": "markdown",
   "metadata": {},
   "source": [
    "#### Search for all solutions \n",
    "\n",
    "$x^2 - 10\\cdot x - 12 \\cdot y +36 = 0$\n",
    "\n",
    "with $x, y \\in \\{0, 1, ..., 10\\}$ \n",
    "\n",
    "Use d for the domain of x and y."
   ]
  },
  {
   "cell_type": "code",
   "execution_count": null,
   "metadata": {},
   "outputs": [],
   "source": [
    "d = range(11)"
   ]
  },
  {
   "cell_type": "code",
   "execution_count": null,
   "metadata": {
    "deletable": false,
    "editable": true
   },
   "outputs": [],
   "source": [
    "%%assignment\n",
    "### ENTER YOUR CODE HERE"
   ]
  },
  {
   "cell_type": "code",
   "execution_count": null,
   "metadata": {
    "deletable": false,
    "editable": false
   },
   "outputs": [],
   "source": [
    "%%check\n",
    "d = range(10)\n",
    "set(result) == {(0, 3), (4, 1), (6, 1)}\n",
    "d = range(11)\n",
    "set(result) == {(0, 3), (4, 1), (6, 1), (10, 3)}"
   ]
  }
 ],
 "metadata": {
  "celltoolbar": "Create Assignment",
  "kernelspec": [
   {
    "display_name": "prog",
    "language": "python",
    "name": "prog"
   }
  ],
  "language_info": {
   "codemirror_mode": {
    "name": "ipython",
    "version": 3
   },
   "file_extension": ".py",
   "mimetype": "text/x-python",
   "name": "python",
   "nbconvert_exporter": "python",
   "pygments_lexer": "ipython3",
   "version": "3.8.8"
  }
 },
 "nbformat": 4,
 "nbformat_minor": 4
}
