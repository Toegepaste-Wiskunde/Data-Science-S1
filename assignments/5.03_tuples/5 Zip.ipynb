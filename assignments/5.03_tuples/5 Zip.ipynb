{
 "cells": [
  {
   "cell_type": "markdown",
   "metadata": {},
   "source": [
    "# Zip\n",
    "\n",
    "When we have two or more lists that are paired by index, we can `zip` them to create a new list in which all the elements from the original lists that share the same index are joined in a tuple."
   ]
  },
  {
   "cell_type": "markdown",
   "metadata": {},
   "source": [
    "# Example\n",
    "\n",
    "Suppose that the grade list follows the indexing of the student list, e.g. 7.0 is the grade that belong to John and 8.0 the grade that belongs to Lucy. We can then zip these Lists so that the students and their grades are joined in tuples. A typical use is that we can easily iterate over such a list.\n",
    "\n",
    "Note: when the expression of a comprehension is a tuple, we have to use brackets!"
   ]
  },
  {
   "cell_type": "code",
   "execution_count": null,
   "metadata": {},
   "outputs": [],
   "source": [
    "student = ['John', 'Lucy', 'Jack']\n",
    "grade = [7.0, 8.0, 6.0]"
   ]
  },
  {
   "cell_type": "code",
   "execution_count": null,
   "metadata": {},
   "outputs": [],
   "source": [
    "[ (s, g) for s, g in zip(student, grade) ]"
   ]
  },
  {
   "cell_type": "markdown",
   "metadata": {},
   "source": [
    "# Assignments"
   ]
  },
  {
   "cell_type": "markdown",
   "metadata": {},
   "source": [
    "#### Create a list of countries and their capitals.\n",
    "\n",
    "You may assume that the lists country and capital are paired by index."
   ]
  },
  {
   "cell_type": "code",
   "execution_count": null,
   "metadata": {},
   "outputs": [],
   "source": [
    "country = ['The Netherlands', 'Belgium', 'France']\n",
    "capital = ['Amsterdam', 'Brussels', 'Paris']"
   ]
  },
  {
   "cell_type": "code",
   "execution_count": null,
   "metadata": {
    "deletable": false,
    "editable": true
   },
   "outputs": [],
   "source": [
    "%%assignment\n",
    "### ENTER YOUR CODE HERE"
   ]
  },
  {
   "cell_type": "code",
   "execution_count": null,
   "metadata": {
    "deletable": false,
    "editable": false
   },
   "outputs": [],
   "source": [
    "%%check\n",
    "country = ['The Netherlands', 'Belgium']\n",
    "capital = ['Amsterdam', 'Brussels']\n",
    "result == [('The Netherlands', 'Amsterdam'), ('Belgium', 'Brussels')]\n",
    "country = ['The Netherlands', 'Belgium', 'France']\n",
    "capital = ['Amsterdam', 'Brussels', 'Paris']\n",
    "result == [('The Netherlands', 'Amsterdam'), ('Belgium', 'Brussels'), ('France', 'Paris')]"
   ]
  },
  {
   "cell_type": "markdown",
   "metadata": {},
   "source": [
    "#### Create a list of countries and their capitals and number of inhabitants. The number of inhabitants is in Millions\n",
    "\n",
    "Hint: you can also use a single `zip` to zip more than two lists, e.g. `zip(a, b, c)`."
   ]
  },
  {
   "cell_type": "code",
   "execution_count": null,
   "metadata": {},
   "outputs": [],
   "source": [
    "country = ['The Netherlands', 'Belgium', 'France']\n",
    "capital = ['Amsterdam', 'Brussels', 'Paris']\n",
    "inhabitants = [17.28, 11.46, 66.99]"
   ]
  },
  {
   "cell_type": "code",
   "execution_count": null,
   "metadata": {
    "deletable": false,
    "editable": true
   },
   "outputs": [],
   "source": [
    "%%assignment\n",
    "### ENTER YOUR CODE HERE"
   ]
  },
  {
   "cell_type": "code",
   "execution_count": null,
   "metadata": {
    "deletable": false,
    "editable": false
   },
   "outputs": [],
   "source": [
    "%%check\n",
    "country = ['The Netherlands', 'Belgium']\n",
    "capital = ['Amsterdam', 'Brussels']\n",
    "inhabitants = [17.28, 11.46]\n",
    "result == [('The Netherlands', 'Amsterdam', 17.28), ('Belgium', 'Brussels', 11.46)]\n",
    "country = ['The Netherlands', 'Belgium', 'France']\n",
    "capital = ['Amsterdam', 'Brussels', 'Paris']\n",
    "inhabitants = [17.28, 11.46, 66.99]\n",
    "result == [('The Netherlands', 'Amsterdam', 17.28), ('Belgium', 'Brussels', 11.46), ('France', 'Paris', 66.99)]"
   ]
  },
  {
   "cell_type": "markdown",
   "metadata": {},
   "source": [
    "#### Create a list of countries and their capitals, e.g. ('Belgium', 'Brussels'), ..., but only list them if they have more than 15 Million inhabitants.\n",
    "\n",
    "Hint: Your expression should only use (country, capital) but that does not prevent you from using inhabitants in your `zip` to place a filter on the number of inhabitants. "
   ]
  },
  {
   "cell_type": "code",
   "execution_count": null,
   "metadata": {},
   "outputs": [],
   "source": [
    "country = ['The Netherlands', 'Belgium', 'France']\n",
    "capital = ['Amsterdam', 'Brussels', 'Paris']\n",
    "inhabitants = [17.28, 11.46, 66.99]"
   ]
  },
  {
   "cell_type": "code",
   "execution_count": null,
   "metadata": {
    "deletable": false,
    "editable": true
   },
   "outputs": [],
   "source": [
    "%%assignment\n",
    "### ENTER YOUR CODE HERE"
   ]
  },
  {
   "cell_type": "code",
   "execution_count": null,
   "metadata": {
    "deletable": false,
    "editable": false
   },
   "outputs": [],
   "source": [
    "%%check\n",
    "country = ['The Netherlands', 'Belgium']\n",
    "capital = ['Amsterdam', 'Brussels']\n",
    "inhabitants = [17.28, 11.46]\n",
    "result == [('The Netherlands', 'Amsterdam')]\n",
    "country = ['The Netherlands', 'Belgium', 'France']\n",
    "capital = ['Amsterdam', 'Brussels', 'Paris']\n",
    "inhabitants = [17.28, 11.46, 66.99]\n",
    "result == [('The Netherlands', 'Amsterdam'), ('France', 'Paris')]"
   ]
  }
 ],
 "kernelspec": [
  {
   "display_name": "prog",
   "language": "python",
   "name": "prog"
  }
 ],
 "metadata": {
  "celltoolbar": "Create Assignment",
  "kernelspec": {
   "display_name": "prog",
   "language": "python",
   "name": "prog"
  },
  "language_info": {
   "codemirror_mode": {
    "name": "ipython",
    "version": 3
   },
   "file_extension": ".py",
   "mimetype": "text/x-python",
   "name": "python",
   "nbconvert_exporter": "python",
   "pygments_lexer": "ipython3",
   "version": "3.8.8"
  }
 },
 "nbformat": 4,
 "nbformat_minor": 4
}
