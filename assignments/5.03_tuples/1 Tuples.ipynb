{
 "cells": [
  {
   "cell_type": "markdown",
   "metadata": {},
   "source": [
    "# Tuple\n",
    "\n",
    "We have covered Lists in Python, as indexed collections of items. Typically, Lists can be changed by replacing, adding or removing elements. We can also create Lists that cannot be modified, these are called Tuples in Python."
   ]
  },
  {
   "cell_type": "markdown",
   "metadata": {},
   "source": [
    "# Example\n",
    "\n",
    "A literal tuple is written as a list of values between brackets. So using squared brackets will create a List, using round brackets will create a Tuple."
   ]
  },
  {
   "cell_type": "code",
   "execution_count": null,
   "metadata": {},
   "outputs": [],
   "source": [
    "(2, 3, 0)"
   ]
  },
  {
   "cell_type": "markdown",
   "metadata": {},
   "source": [
    "Because tuples cannot be modified, any function that receives a tuple cannot change it on purpose or by mistake. This also means that assigning a value to an element of a tuple is not allowed, nor is adding or removing values or sorting tuples. We can do all other things, like accessing values, determining the length, and use tuples in for loops and comprehensions. Here is a table of what we can do with tuples."
   ]
  },
  {
   "cell_type": "code",
   "execution_count": null,
   "metadata": {},
   "outputs": [],
   "source": [
    "a = (2, 3, 0)"
   ]
  },
  {
   "cell_type": "markdown",
   "metadata": {},
   "source": [
    "| code | result | comment |\n",
    "|:-----|:-------|:--------|\n",
    "| `a[1]` | `3`      | access the element at index 1 |\n",
    "| `a[-1]` | `0`     | access the last element in the tuple |\n",
    "| `a[1:]` | `(3, 0)` | slice of the tuple, from index 1 until the end<br>the result is a new tuple that, of course, is immutable |\n",
    "| `(i*2 for i in a)` | `(4, 6, 0)` | tuple comprehension to create a new tuple based on an old one |\n",
    "| `[i*2 for i in a]` | `[4, 6, 0]` | list comprehension based on a tuple |\n",
    "| `list(a)` | `[2, 3, 0]` | creates a new list with all the elements in the collection a |\n",
    "| `tuple(a)` | `(2, 3, 0)` | creates a new tuple with all the elements in the collection a<br>this way, you can also create a tuple from a list |"
   ]
  },
  {
   "cell_type": "markdown",
   "metadata": {},
   "source": [
    "Comprehensions on tuples are allowed, because they do not change a tuple, but generate a new one. The result of a tuple comprehension is a tuple, therefore immutable, but the result of a list comprehension is a list."
   ]
  },
  {
   "cell_type": "markdown",
   "metadata": {},
   "source": [
    "# Assignments"
   ]
  },
  {
   "cell_type": "markdown",
   "metadata": {},
   "source": [
    "#### Write an expression to add the first two elements in `b` together."
   ]
  },
  {
   "cell_type": "code",
   "execution_count": null,
   "metadata": {},
   "outputs": [],
   "source": [
    "b = ( 2, 3, 5, 9 )"
   ]
  },
  {
   "cell_type": "code",
   "execution_count": null,
   "metadata": {
    "deletable": false,
    "editable": true
   },
   "outputs": [],
   "source": [
    "%%assignment\n",
    "### ENTER YOUR CODE HERE"
   ]
  },
  {
   "cell_type": "code",
   "execution_count": null,
   "metadata": {
    "deletable": false,
    "editable": false
   },
   "outputs": [],
   "source": [
    "%%check\n",
    "b = ( 5, 9 )\n",
    "result == 14\n",
    "b = ( 2, 3, 5, 9 )\n",
    "result == 5"
   ]
  },
  {
   "cell_type": "markdown",
   "metadata": {},
   "source": [
    "#### What is the average of the values in `b`?"
   ]
  },
  {
   "cell_type": "code",
   "execution_count": null,
   "metadata": {},
   "outputs": [],
   "source": [
    "b = ( 2, 3, 5, 9 )"
   ]
  },
  {
   "cell_type": "code",
   "execution_count": null,
   "metadata": {
    "deletable": false,
    "editable": true
   },
   "outputs": [],
   "source": [
    "%%assignment\n",
    "### ENTER YOUR CODE HERE"
   ]
  },
  {
   "cell_type": "code",
   "execution_count": null,
   "metadata": {
    "deletable": false,
    "editable": false
   },
   "outputs": [],
   "source": [
    "%%check\n",
    "b = ( 5, 9 )\n",
    "result == 7.0\n",
    "b = ( 2, 3, 5, 9 )\n",
    "result == 4.75"
   ]
  },
  {
   "cell_type": "markdown",
   "metadata": {},
   "source": [
    "#### Assign a tuple to a variable `t` that contains all values in b but the first."
   ]
  },
  {
   "cell_type": "code",
   "execution_count": null,
   "metadata": {},
   "outputs": [],
   "source": [
    "b = ( 2, 3, 5, 9 )"
   ]
  },
  {
   "cell_type": "code",
   "execution_count": null,
   "metadata": {
    "deletable": false,
    "editable": true
   },
   "outputs": [],
   "source": [
    "%%assignment\n",
    "### ENTER YOUR CODE HERE\n",
    "t"
   ]
  },
  {
   "cell_type": "code",
   "execution_count": null,
   "metadata": {
    "deletable": false,
    "editable": false
   },
   "outputs": [],
   "source": [
    "%%check\n",
    "b = ( 5, 9 )\n",
    "t == (9,) or t == (9)\n",
    "b = ( 2, 3, 5, 9 )\n",
    "t == (3, 5, 9)"
   ]
  },
  {
   "cell_type": "markdown",
   "metadata": {},
   "source": [
    "#### Assign a tuple to a variable `t` that contains all values in list `b` except the first and the last.\n",
    "\n",
    "Hint: because b is a list, you will need to convert it to a tuple."
   ]
  },
  {
   "cell_type": "code",
   "execution_count": null,
   "metadata": {},
   "outputs": [],
   "source": [
    "b = [ 2, 3, 5, 9 ]"
   ]
  },
  {
   "cell_type": "code",
   "execution_count": null,
   "metadata": {
    "deletable": false,
    "editable": true
   },
   "outputs": [],
   "source": [
    "%%assignment\n",
    "### ENTER YOUR CODE HERE\n",
    "t"
   ]
  },
  {
   "cell_type": "code",
   "execution_count": null,
   "metadata": {
    "deletable": false,
    "editable": false
   },
   "outputs": [],
   "source": [
    "%%check\n",
    "b = [ 5, 9 ]\n",
    "t == ()\n",
    "b = [ 2, 3, 5, 9 ]\n",
    "t == (3, 5)"
   ]
  },
  {
   "cell_type": "markdown",
   "metadata": {},
   "source": [
    "#### Assign to `s` the sum of all 'odd' values in `b` (e.g. 1,3,5,7, ..) "
   ]
  },
  {
   "cell_type": "code",
   "execution_count": null,
   "metadata": {},
   "outputs": [],
   "source": [
    "b = ( 2, 3, 5, 9 )"
   ]
  },
  {
   "cell_type": "code",
   "execution_count": null,
   "metadata": {
    "deletable": false,
    "editable": true
   },
   "outputs": [],
   "source": [
    "%%assignment\n",
    "### ENTER YOUR CODE HERE\n",
    "s"
   ]
  },
  {
   "cell_type": "code",
   "execution_count": null,
   "metadata": {
    "deletable": false,
    "editable": false
   },
   "outputs": [],
   "source": [
    "%%check\n",
    "b = [ 5, 9 ]\n",
    "s == 14\n",
    "b = [ 2, 3, 5, 9 ]\n",
    "s == 17"
   ]
  }
 ],
 "kernelspec": [
  {
   "display_name": "prog",
   "language": "python",
   "name": "prog"
  }
 ],
 "metadata": {
  "celltoolbar": "Create Assignment",
  "kernelspec": {
   "display_name": "prog",
   "language": "python",
   "name": "prog"
  },
  "language_info": {
   "codemirror_mode": {
    "name": "ipython",
    "version": 3
   },
   "file_extension": ".py",
   "mimetype": "text/x-python",
   "name": "python",
   "nbconvert_exporter": "python",
   "pygments_lexer": "ipython3",
   "version": "3.8.8"
  }
 },
 "nbformat": 4,
 "nbformat_minor": 4
}
