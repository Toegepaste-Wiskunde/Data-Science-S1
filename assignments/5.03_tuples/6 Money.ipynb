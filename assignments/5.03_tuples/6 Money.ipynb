{
 "cells": [
  {
   "cell_type": "markdown",
   "metadata": {},
   "source": [
    "# Money\n",
    "\n",
    "#### given a coin_distribution = [0, 1, 5, 0 1, 2] over a set of coins = [200, 100, 50, 20, 10, 5], what is the amount?\n",
    "\n",
    "In this case 1 * 100 + 5 * 50 + 1 * 10 + 2 * 5 = 370\n",
    "\n",
    "Notice, the List of coins and coin_distribution are paired by index. "
   ]
  },
  {
   "cell_type": "code",
   "execution_count": null,
   "metadata": {},
   "outputs": [],
   "source": [
    "coins = [200, 100, 50, 20, 10, 5]"
   ]
  },
  {
   "cell_type": "code",
   "execution_count": null,
   "metadata": {},
   "outputs": [],
   "source": [
    "coin_distribution = [0, 1, 5, 0, 1, 2]"
   ]
  },
  {
   "cell_type": "markdown",
   "metadata": {},
   "source": [
    "### Assignments"
   ]
  },
  {
   "cell_type": "markdown",
   "metadata": {},
   "source": [
    "#### Compute the value (in cents) represented by the E1 coins by multiplying the second value in `coins` with the second value in `coin_distribution`.\n",
    "\n",
    "For the given distribution, the answer should be 100 (cents), since there is 1 E1 coin.\n",
    "\n",
    "Note: indices start at 0, so the second value is at index=1 "
   ]
  },
  {
   "cell_type": "code",
   "execution_count": null,
   "metadata": {
    "deletable": false,
    "editable": true
   },
   "outputs": [],
   "source": [
    "%%assignment\n",
    "### ENTER YOUR CODE HERE"
   ]
  },
  {
   "cell_type": "code",
   "execution_count": null,
   "metadata": {
    "deletable": false,
    "editable": false
   },
   "outputs": [],
   "source": [
    "%%check\n",
    "coin_distribution = [1, 3, 5, 1, 1, 2]\n",
    "result == 300\n",
    "coin_distribution = [0, 1, 5, 0, 1, 2]\n",
    "result == 100"
   ]
  },
  {
   "cell_type": "markdown",
   "metadata": {},
   "source": [
    "#### Use a `range` to go over the indices of `coins`, and add coin * coin_distribution together for all indices in `amount`.\n",
    "\n",
    "Hint: consider that the choice of coins may be different for different countries, therefor you should use the length of the set of coins to determine the range and not use a fixed 6."
   ]
  },
  {
   "cell_type": "code",
   "execution_count": null,
   "metadata": {
    "deletable": false,
    "editable": true
   },
   "outputs": [],
   "source": [
    "%%assignment\n",
    "amount = 0\n",
    "### ENTER YOUR CODE HERE\n",
    "amount"
   ]
  },
  {
   "cell_type": "code",
   "execution_count": null,
   "metadata": {
    "deletable": false,
    "editable": false
   },
   "outputs": [],
   "source": [
    "%%check\n",
    "mandatory range len\n",
    "forbidden enumerate 6\n",
    "coin_distribution = [1, 3, 5, 1, 1, 2]\n",
    "result == 790\n",
    "coin_distribution = [0, 1, 5, 0, 1, 2]\n",
    "result == 370"
   ]
  },
  {
   "cell_type": "markdown",
   "metadata": {},
   "source": [
    "#### Now do the same using an `enumerate` to go over the indices and values of `coins`, and add coin * coin_distribution together for all indices in `amount`."
   ]
  },
  {
   "cell_type": "code",
   "execution_count": null,
   "metadata": {
    "deletable": false,
    "editable": true
   },
   "outputs": [],
   "source": [
    "%%assignment\n",
    "amount = 0\n",
    "### ENTER YOUR CODE HERE\n",
    "amount"
   ]
  },
  {
   "cell_type": "code",
   "execution_count": null,
   "metadata": {
    "deletable": false,
    "editable": false
   },
   "outputs": [],
   "source": [
    "%%check\n",
    "mandatory enumerate\n",
    "forbidden range\n",
    "coin_distribution = [0, 1, 5, 0, 1, 2]\n",
    "amount == 370\n",
    "coin_distribution = [1, 1, 1, 1, 1, 1]\n",
    "amount == 385"
   ]
  },
  {
   "cell_type": "markdown",
   "metadata": {},
   "source": [
    "#### Now compute the same thing using a `sum` and a list comprehension and assign it to `amount`. \n",
    "\n",
    "Use something like `coin_value * coin_count` as an expression in your comprehension. There should also be an `enumerate` in the comprehension to over the indices of the values of coins and number of coins."
   ]
  },
  {
   "cell_type": "code",
   "execution_count": null,
   "metadata": {
    "deletable": false,
    "editable": true
   },
   "outputs": [],
   "source": [
    "%%assignment\n",
    "### ENTER YOUR CODE HERE\n",
    "amount"
   ]
  },
  {
   "cell_type": "code",
   "execution_count": null,
   "metadata": {
    "deletable": false,
    "editable": false
   },
   "outputs": [],
   "source": [
    "%%check\n",
    "forbidden range zip     # Do not use range, but rather enumerate\n",
    "forbidden zip           # Do not use zip, but rather enumerate\n",
    "forbidden :             # You should use a List comprehension for this assignment\n",
    "mandatory sum enumerate amount\n",
    "coin_distribution = [0, 1, 5, 0, 1, 2]\n",
    "amount == 370\n",
    "coin_distribution = [1, 1, 1, 1, 1, 1]\n",
    "amount == 385"
   ]
  }
 ],
 "kernelspec": [
  {
   "display_name": "prog",
   "language": "python",
   "name": "prog"
  }
 ],
 "metadata": {
  "celltoolbar": "Create Assignment",
  "kernelspec": {
   "display_name": "prog",
   "language": "python",
   "name": "prog"
  },
  "language_info": {
   "codemirror_mode": {
    "name": "ipython",
    "version": 3
   },
   "file_extension": ".py",
   "mimetype": "text/x-python",
   "name": "python",
   "nbconvert_exporter": "python",
   "pygments_lexer": "ipython3",
   "version": "3.8.8"
  }
 },
 "nbformat": 4,
 "nbformat_minor": 4
}
