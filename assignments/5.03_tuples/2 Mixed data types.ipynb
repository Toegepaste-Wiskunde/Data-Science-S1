{
 "cells": [
  {
   "cell_type": "markdown",
   "metadata": {},
   "source": [
    "# Mixed data types\n",
    "\n",
    "In tuples, we can also use mixed datatypes. For example, when we need a List of students, we can store all the information of one student in a Tuple, e.g. name, gender and age. A big advantage of tuples is, that the integrity of our data is guaranteed. When we pass a student to a function, the tuple cannot be modified. This ensures that we cannot mix-up name, gender and age, once constructed in tuple, the order is fixed.\n",
    "\n",
    "(With gender M=male, F=female, O=otherwise)"
   ]
  },
  {
   "cell_type": "code",
   "execution_count": null,
   "metadata": {},
   "outputs": [],
   "source": [
    "jack = ('Jack', 'M', 19)\n",
    "marvin = ('Marvin', 'M', 22)\n",
    "lucy = ('Lucy', 'F', 19)"
   ]
  },
  {
   "cell_type": "markdown",
   "metadata": {},
   "source": [
    " We can also place tuples in a List. The list `students` will operate just like any List. So we can add and remove entire students. However, the information of a student is immutable, since these are tuples."
   ]
  },
  {
   "cell_type": "code",
   "execution_count": null,
   "metadata": {},
   "outputs": [],
   "source": [
    "students = [('Jack', 'M', 19), ('Marvin', 'M', 22), ('Lucy', 'F', 19)]"
   ]
  },
  {
   "cell_type": "markdown",
   "metadata": {},
   "source": [
    "# Examples"
   ]
  },
  {
   "cell_type": "markdown",
   "metadata": {},
   "source": [
    "Get the first element in `students`, which is a tuple."
   ]
  },
  {
   "cell_type": "code",
   "execution_count": null,
   "metadata": {},
   "outputs": [],
   "source": [
    "students[0]"
   ]
  },
  {
   "cell_type": "markdown",
   "metadata": {},
   "source": [
    "Get the `gender` of the first student in `students`.\n",
    "\n",
    "First the list of students is indexed, then the tuple is indexed."
   ]
  },
  {
   "cell_type": "code",
   "execution_count": null,
   "metadata": {},
   "outputs": [],
   "source": [
    "students[0][1]"
   ]
  },
  {
   "cell_type": "markdown",
   "metadata": {},
   "source": [
    "List the names of the students.\n",
    "\n",
    "Note that `s` is one student, which is a tuple of values."
   ]
  },
  {
   "cell_type": "code",
   "execution_count": null,
   "metadata": {},
   "outputs": [],
   "source": [
    "[ s[0] for s in students ]"
   ]
  },
  {
   "cell_type": "markdown",
   "metadata": {},
   "source": [
    "# Assignments"
   ]
  },
  {
   "cell_type": "markdown",
   "metadata": {},
   "source": [
    "#### What is the name of the last student in `students`?"
   ]
  },
  {
   "cell_type": "code",
   "execution_count": null,
   "metadata": {},
   "outputs": [],
   "source": [
    "students = [('Jack', 'M', 19), ('Marvin', 'M', 22), ('Lucy', 'F', 19)]"
   ]
  },
  {
   "cell_type": "code",
   "execution_count": null,
   "metadata": {
    "deletable": false,
    "editable": true
   },
   "outputs": [],
   "source": [
    "%%assignment\n",
    "### ENTER YOUR CODE HERE"
   ]
  },
  {
   "cell_type": "code",
   "execution_count": null,
   "metadata": {
    "deletable": false,
    "editable": false
   },
   "outputs": [],
   "source": [
    "%%check\n",
    "students = [('Jack', 'M', 19), ('Marvin', 'M', 22)]\n",
    "result == 'Marvin'\n",
    "students = [('Jack', 'M', 19), ('Marvin', 'M', 22), ('Lucy', 'F', 19)]\n",
    "result == 'Lucy'"
   ]
  },
  {
   "cell_type": "markdown",
   "metadata": {},
   "source": [
    "#### List the ages of the `students`?"
   ]
  },
  {
   "cell_type": "code",
   "execution_count": null,
   "metadata": {},
   "outputs": [],
   "source": [
    "students = [('Jack', 'M', 19), ('Marvin', 'M', 20), ('Lucy', 'F', 19)]"
   ]
  },
  {
   "cell_type": "code",
   "execution_count": null,
   "metadata": {
    "deletable": false,
    "editable": true
   },
   "outputs": [],
   "source": [
    "%%assignment\n",
    "### ENTER YOUR CODE HERE"
   ]
  },
  {
   "cell_type": "code",
   "execution_count": null,
   "metadata": {
    "deletable": false,
    "editable": false
   },
   "outputs": [],
   "source": [
    "%%check\n",
    "students = [('Jack', 'M', 19), ('Marvin', 'M', 22)]\n",
    "result == [19,22]\n",
    "students = [('Jack', 'M', 19), ('Marvin', 'M', 22), ('Lucy', 'F', 19)]\n",
    "result == [19,22,19]"
   ]
  },
  {
   "cell_type": "markdown",
   "metadata": {},
   "source": [
    "#### List the average age of the `students`?"
   ]
  },
  {
   "cell_type": "code",
   "execution_count": null,
   "metadata": {},
   "outputs": [],
   "source": [
    "students = [('Jack', 'M', 19), ('Marvin', 'M', 20), ('Lucy', 'F', 19)]"
   ]
  },
  {
   "cell_type": "code",
   "execution_count": null,
   "metadata": {
    "deletable": false,
    "editable": true
   },
   "outputs": [],
   "source": [
    "%%assignment\n",
    "### ENTER YOUR CODE HERE"
   ]
  },
  {
   "cell_type": "code",
   "execution_count": null,
   "metadata": {
    "deletable": false,
    "editable": false
   },
   "outputs": [],
   "source": [
    "%%check\n",
    "students = [('Jack', 'M', 19), ('Marvin', 'M', 22)]\n",
    "result == 20.5\n",
    "students = [('Jack', 'M', 19), ('Marvin', 'M', 22), ('Lucy', 'F', 19)]\n",
    "result == 20.0"
   ]
  },
  {
   "cell_type": "markdown",
   "metadata": {},
   "source": [
    "#### How many female (F)  `students` are there?"
   ]
  },
  {
   "cell_type": "code",
   "execution_count": null,
   "metadata": {},
   "outputs": [],
   "source": [
    "students = [('Jack', 'M', 19), ('Marvin', 'M', 22), ('Lucy', 'F', 19)]"
   ]
  },
  {
   "cell_type": "code",
   "execution_count": null,
   "metadata": {
    "deletable": false,
    "editable": true
   },
   "outputs": [],
   "source": [
    "%%assignment\n",
    "### ENTER YOUR CODE HERE"
   ]
  },
  {
   "cell_type": "code",
   "execution_count": null,
   "metadata": {
    "deletable": false,
    "editable": false
   },
   "outputs": [],
   "source": [
    "%%check\n",
    "students = [('Jack', 'M', 19), ('Marc', 'M', 21), ('Barry', 'O')]\n",
    "result == 0.0\n",
    "students = [('Marcy', 'F', 21), ('Jack', 'M', 19), ('Marvin', 'M', 22), ('Lucy', 'F', 19)]\n",
    "result == 2"
   ]
  },
  {
   "cell_type": "markdown",
   "metadata": {},
   "source": [
    "#### What is the average age of all male (M) `students`?"
   ]
  },
  {
   "cell_type": "code",
   "execution_count": null,
   "metadata": {},
   "outputs": [],
   "source": [
    "students = [('Jack', 'M', 19), ('Marvin', 'M', 22), ('Lucy', 'F', 19)]"
   ]
  },
  {
   "cell_type": "code",
   "execution_count": null,
   "metadata": {
    "deletable": false,
    "editable": true
   },
   "outputs": [],
   "source": [
    "%%assignment\n",
    "### ENTER YOUR CODE HERE"
   ]
  },
  {
   "cell_type": "code",
   "execution_count": null,
   "metadata": {
    "deletable": false,
    "editable": false
   },
   "outputs": [],
   "source": [
    "%%check\n",
    "students = [('Jack', 'M', 19), ('Marcy', 'F', 21)]\n",
    "result == 19.0\n",
    "students = [('Marcy', 'F', 21), ('Jack', 'M', 19), ('Marvin', 'M', 22), ('Lucy', 'F', 19)]\n",
    "result == 20.5"
   ]
  },
  {
   "cell_type": "markdown",
   "metadata": {},
   "source": [
    "#### Add ('Marcy', 'F', 21) to students."
   ]
  },
  {
   "cell_type": "code",
   "execution_count": null,
   "metadata": {},
   "outputs": [],
   "source": [
    "students = [('Jack', 'M', 19), ('Marvin', 'M', 20), ('Lucy', 'F', 19)]"
   ]
  },
  {
   "cell_type": "code",
   "execution_count": null,
   "metadata": {
    "deletable": false,
    "editable": true
   },
   "outputs": [],
   "source": [
    "%%assignment\n",
    "### ENTER YOUR CODE HERE"
   ]
  },
  {
   "cell_type": "code",
   "execution_count": null,
   "metadata": {
    "deletable": false,
    "editable": false
   },
   "outputs": [],
   "source": [
    "%%check\n",
    "students = [('Jack', 'M', 19), ('Marvin', 'M', 22)]\n",
    "students == [('Jack', 'M', 19), ('Marvin', 'M', 22), ('Marcy', 'F', 21)]\n",
    "students = [('Jack', 'M', 19), ('Marvin', 'M', 22), ('Lucy', 'F', 19)]\n",
    "students == [('Jack', 'M', 19), ('Marvin', 'M', 22), ('Lucy', 'F', 19), ('Marcy', 'F', 21)]"
   ]
  }
 ],
 "metadata": {
  "celltoolbar": "Create Assignment",
  "kernelspec": {
   "display_name": "prog",
   "language": "python",
   "name": "prog"
  },
  "language_info": {
   "codemirror_mode": {
    "name": "ipython",
    "version": 3
   },
   "file_extension": ".py",
   "mimetype": "text/x-python",
   "name": "python",
   "nbconvert_exporter": "python",
   "pygments_lexer": "ipython3",
   "version": "3.8.8"
  }
 },
 "nbformat": 4,
 "nbformat_minor": 4
}
