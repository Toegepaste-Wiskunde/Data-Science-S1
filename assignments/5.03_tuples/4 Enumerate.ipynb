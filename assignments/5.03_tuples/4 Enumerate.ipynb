{
 "cells": [
  {
   "cell_type": "markdown",
   "metadata": {},
   "source": [
    "# Enumerate\n",
    "\n",
    "Sometimes, when we iterate over a collection using a `for-in-loop`, we do want just the value but also the index. For this, Python has the `enumerate` function, which returns tuples (index, value).\n",
    "\n",
    "Note: when we want to directly inspect the result of `enumerate`, we need put a list around it. The reason is that Python uses a technique called 'lazy execution' to only generate values when they are used. By putting a list around it, we use the enumeration."
   ]
  },
  {
   "cell_type": "markdown",
   "metadata": {},
   "source": [
    "# Example"
   ]
  },
  {
   "cell_type": "code",
   "execution_count": null,
   "metadata": {},
   "outputs": [],
   "source": [
    "a = [2, 3, 8]"
   ]
  },
  {
   "cell_type": "code",
   "execution_count": null,
   "metadata": {},
   "outputs": [],
   "source": [
    "for i, value in enumerate(a):\n",
    "    print(f'index {i} has {value}')"
   ]
  },
  {
   "cell_type": "markdown",
   "metadata": {},
   "source": [
    "`enumerate(a)` without `list` only gives a reference to something that resides in the computer memory somewhere. The stuff in triangular brackets. (You do not have to understand this)."
   ]
  },
  {
   "cell_type": "code",
   "execution_count": null,
   "metadata": {},
   "outputs": [],
   "source": [
    "enumerate(a)"
   ]
  },
  {
   "cell_type": "markdown",
   "metadata": {},
   "source": [
    "With `list` you get the actual values in the list. `list` forces the thing in memory to generate all tuples in the list."
   ]
  },
  {
   "cell_type": "code",
   "execution_count": null,
   "metadata": {},
   "outputs": [],
   "source": [
    "list(enumerate(a))"
   ]
  },
  {
   "cell_type": "markdown",
   "metadata": {},
   "source": [
    "# Assignment"
   ]
  },
  {
   "cell_type": "markdown",
   "metadata": {},
   "source": [
    "#### Use a list comprehension with `enumerate` to show a list of the indices in `a` that have values smaller than 10.\n",
    "\n",
    "for this example, the output should be `[1,2,4]`"
   ]
  },
  {
   "cell_type": "code",
   "execution_count": null,
   "metadata": {},
   "outputs": [],
   "source": [
    "a = [ 23, 2, 9, 12, 0 ]"
   ]
  },
  {
   "cell_type": "code",
   "execution_count": null,
   "metadata": {
    "deletable": false,
    "editable": true
   },
   "outputs": [],
   "source": [
    "%%assignment\n",
    "### ENTER YOUR CODE HERE"
   ]
  },
  {
   "cell_type": "code",
   "execution_count": null,
   "metadata": {
    "deletable": false,
    "editable": false
   },
   "outputs": [],
   "source": [
    "%%check\n",
    "mandatory enumerate for\n",
    "forbidden len\n",
    "a = [ 2, 9, 12, 23 ]\n",
    "result == [0, 1]\n",
    "a = [ 23, 2, 9, 12, 0 ]\n",
    "result == [1, 2, 4]"
   ]
  },
  {
   "cell_type": "markdown",
   "metadata": {},
   "source": [
    "#### Show the indices/positions in `name` that have a `vowel`.\n",
    "\n",
    "For the given name, the answer should be `[0, 2, 4, 7]`.\n",
    "\n",
    "Hint: you did see that a name starts with an uppercase... "
   ]
  },
  {
   "cell_type": "code",
   "execution_count": null,
   "metadata": {},
   "outputs": [],
   "source": [
    "name = 'Alexander'\n",
    "vowel = ['a', 'e', 'i', 'o', 'u']"
   ]
  },
  {
   "cell_type": "code",
   "execution_count": null,
   "metadata": {
    "deletable": false,
    "editable": true
   },
   "outputs": [],
   "source": [
    "%%assignment\n",
    "### ENTER YOUR CODE HERE"
   ]
  },
  {
   "cell_type": "code",
   "execution_count": null,
   "metadata": {
    "deletable": false,
    "editable": false
   },
   "outputs": [],
   "source": [
    "%%check\n",
    "mandatory enumerate for\n",
    "forbidden len\n",
    "name = 'Cleopatra'\n",
    "result == [2, 3, 5, 8]\n",
    "name = 'Alexander'\n",
    "0 in result            # Did you remember to put the name into lowercase?\n",
    "result == [0, 2, 4, 7]"
   ]
  }
 ],
 "metadata": {
  "celltoolbar": "Create Assignment",
  "kernelspec": {
   "display_name": "prog",
   "language": "python",
   "name": "prog"
  },
  "language_info": {
   "codemirror_mode": {
    "name": "ipython",
    "version": 3
   },
   "file_extension": ".py",
   "mimetype": "text/x-python",
   "name": "python",
   "nbconvert_exporter": "python",
   "pygments_lexer": "ipython3",
   "version": "3.8.8"
  }
 },
 "nbformat": 4,
 "nbformat_minor": 4
}
