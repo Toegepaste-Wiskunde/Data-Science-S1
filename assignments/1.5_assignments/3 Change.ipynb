{
 "cells": [
  {
   "cell_type": "markdown",
   "metadata": {},
   "source": [
    "# Compute change"
   ]
  },
  {
   "cell_type": "markdown",
   "metadata": {},
   "source": [
    "Suppose that a person has to pay € 16.10 and pays with a € 20 bill. Write a program that gives the change in the minimum number of coins. In this case, 1 € 2 coin, 1 € 1 coin, 1 € 0.50 coin and 2 € 0.20 coins.\n",
    "\n",
    "Note: to avoid rounding problems, we will compute in cents, therefore someone has to pay 1610 cents and pays with a 2000 cents bill.\n",
    "\n",
    "Hint: the modulo (`%`) and integer division (`//`) operators will come in handy."
   ]
  },
  {
   "cell_type": "markdown",
   "metadata": {},
   "source": [
    "#### First write an expression that computes the difference between amount and paid, this is the total sum that should be returned. "
   ]
  },
  {
   "cell_type": "code",
   "execution_count": null,
   "metadata": {},
   "outputs": [],
   "source": [
    "amount = 1610\n",
    "paid = 2000"
   ]
  },
  {
   "cell_type": "code",
   "execution_count": null,
   "metadata": {
    "deletable": false,
    "editable": true
   },
   "outputs": [],
   "source": [
    "%%assignment\n",
    "### ENTER YOUR CODE HERE"
   ]
  },
  {
   "cell_type": "code",
   "execution_count": null,
   "metadata": {
    "deletable": false,
    "editable": false
   },
   "outputs": [],
   "source": [
    "%%check\n",
    "paid, amount = 2000, 1610\n",
    "result == 390\n",
    "paid, amount = 500, 495\n",
    "result == 5"
   ]
  },
  {
   "cell_type": "markdown",
   "metadata": {},
   "source": [
    "### compute the number of € 2 coins (200 cents) that will fit into the amount of change"
   ]
  },
  {
   "cell_type": "code",
   "execution_count": null,
   "metadata": {},
   "outputs": [],
   "source": [
    "amount = 1610\n",
    "paid = 2000"
   ]
  },
  {
   "cell_type": "code",
   "execution_count": null,
   "metadata": {
    "deletable": false,
    "editable": true
   },
   "outputs": [],
   "source": [
    "%%assignment\n",
    "### ENTER YOUR CODE HERE"
   ]
  },
  {
   "cell_type": "code",
   "execution_count": null,
   "metadata": {
    "deletable": false,
    "editable": false
   },
   "outputs": [],
   "source": [
    "%%check\n",
    "paid, amount = 2000, 1610\n",
    "result == 1\n",
    "paid, amount = 2000, 1600\n",
    "result == 2"
   ]
  },
  {
   "cell_type": "markdown",
   "metadata": {},
   "source": [
    "### After you have given the right number of € 2 coins how much change do you still have to return?"
   ]
  },
  {
   "cell_type": "code",
   "execution_count": null,
   "metadata": {},
   "outputs": [],
   "source": [
    "amount = 1610\n",
    "paid = 2000"
   ]
  },
  {
   "cell_type": "code",
   "execution_count": null,
   "metadata": {
    "deletable": false,
    "editable": true
   },
   "outputs": [],
   "source": [
    "%%assignment\n",
    "### ENTER YOUR CODE HERE"
   ]
  },
  {
   "cell_type": "code",
   "execution_count": null,
   "metadata": {
    "deletable": false,
    "editable": false
   },
   "outputs": [],
   "source": [
    "%%check\n",
    "paid, amount = 2000, 1610\n",
    "result == 190\n",
    "paid, amount = 2000, 1600\n",
    "result == 0"
   ]
  },
  {
   "cell_type": "markdown",
   "metadata": {},
   "source": [
    "### From the amount of change that is left after returning the € 2 coins, compute how many € 1 coins you should return.\n",
    "\n",
    "Hint: you can use several lines of programming code. Compute the amount that is left after returning the € 2 coins and store it in a variable `left`. Then using the value in `left` compute the number of € 1 coins you can return."
   ]
  },
  {
   "cell_type": "code",
   "execution_count": null,
   "metadata": {},
   "outputs": [],
   "source": [
    "amount = 1610\n",
    "paid = 2000"
   ]
  },
  {
   "cell_type": "code",
   "execution_count": null,
   "metadata": {
    "deletable": false,
    "editable": true
   },
   "outputs": [],
   "source": [
    "%%assignment\n",
    "### ENTER YOUR CODE HERE"
   ]
  },
  {
   "cell_type": "code",
   "execution_count": null,
   "metadata": {
    "deletable": false,
    "editable": false
   },
   "outputs": [],
   "source": [
    "%%check\n",
    "paid, amount = 2000, 1610\n",
    "result == 1\n",
    "paid, amount = 2000, 1600\n",
    "result == 0"
   ]
  },
  {
   "cell_type": "markdown",
   "metadata": {},
   "source": [
    "### Now a big program. Compute an optimal solution that returns the minimum number of coins as change. \n",
    "\n",
    "Important: store the respective coins to be returned as change in the variables E2, E1, C50, C20, C10 and C5. The variable names are case sensitive (e.g. use E2 and not e2).\n",
    "\n",
    "Hint: Use several lines of programming code to store the results. Work from the most expensive coin towards the least expensive. After you determine how many of a certain coin is returned, recompute the amount of change that must still be returned."
   ]
  },
  {
   "cell_type": "code",
   "execution_count": null,
   "metadata": {},
   "outputs": [],
   "source": [
    "amount = 1610\n",
    "paid = 2000"
   ]
  },
  {
   "cell_type": "code",
   "execution_count": null,
   "metadata": {
    "deletable": false,
    "editable": true
   },
   "outputs": [],
   "source": [
    "%%assignment\n",
    "left = (paid - amount)\n",
    "E2 = ...\n",
    "# recompute how much is left\n",
    "E1 = ...\n",
    "# etc.\n",
    "### ENTER YOUR CODE HERE"
   ]
  },
  {
   "cell_type": "code",
   "execution_count": null,
   "metadata": {
    "deletable": false,
    "editable": false
   },
   "outputs": [],
   "source": [
    "%%check\n",
    "paid, amount = 2000, 1610\n",
    "E2 == 1\n",
    "E1 == 1\n",
    "C50 == 1\n",
    "C20 == 2\n",
    "C10 == 0\n",
    "C5 == 0\n",
    "paid, amount = 2000, 1565\n",
    "E2 == 2\n",
    "E1 == 0\n",
    "C50 == 0\n",
    "C20 == 1\n",
    "C10 == 1\n",
    "C5 == 1"
   ]
  }
 ],
 "metadata": {
  "celltoolbar": "Create Assignment",
  "kernelspec": [
   {
    "display_name": "prog",
    "language": "python",
    "name": "prog"
   }
  ],
  "language_info": {
   "codemirror_mode": {
    "name": "ipython",
    "version": 3
   },
   "file_extension": ".py",
   "mimetype": "text/x-python",
   "name": "python",
   "nbconvert_exporter": "python",
   "pygments_lexer": "ipython3",
   "version": "3.8.8"
  }
 },
 "nbformat": 4,
 "nbformat_minor": 4
}
