{
 "cells": [
  {
   "cell_type": "markdown",
   "metadata": {},
   "source": [
    "# Year converter"
   ]
  },
  {
   "cell_type": "markdown",
   "metadata": {},
   "source": [
    "#### Write a Python program that converts the age of a person into dog-years\n",
    "\n",
    "To convert an age to dog years, the first two years equal 10.5 human years. The remaining dog years equal 4 human years. Take the variable `human_years` as input, and write the end result as an expression (i.e. do not store it in a variable). However, you may use multiple lines, for example to first determine the number of years below the age of 21 and then the number of years above the age of 21.\n",
    "\n",
    "A usefool tool to determine the number of years above and below 21 are the `min` and `max` functions. These return respectively the lowest of a number of values or the highest of a number of values. Let's get to know the `min` and `max` functions"
   ]
  },
  {
   "cell_type": "code",
   "execution_count": null,
   "metadata": {},
   "outputs": [],
   "source": [
    "human_years = 25"
   ]
  },
  {
   "cell_type": "markdown",
   "metadata": {},
   "source": [
    "#### Write an expression that return the number of human years if it is below 21, or otherwise 21."
   ]
  },
  {
   "cell_type": "code",
   "execution_count": null,
   "metadata": {
    "deletable": false,
    "editable": true
   },
   "outputs": [],
   "source": [
    "%%assignment\n",
    "### ENTER YOUR CODE HERE"
   ]
  },
  {
   "cell_type": "code",
   "execution_count": null,
   "metadata": {
    "deletable": false,
    "editable": false
   },
   "outputs": [],
   "source": [
    "%%check\n",
    "human_years = 20\n",
    "result == 20\n",
    "human_years = 21\n",
    "result == 21\n",
    "human_years = 22\n",
    "result == 21"
   ]
  },
  {
   "cell_type": "markdown",
   "metadata": {},
   "source": [
    "#### Now convert the number of human years below 21 to dog years. For example for 21, the answer should be 2, for 10.5 the answer should be 1."
   ]
  },
  {
   "cell_type": "code",
   "execution_count": null,
   "metadata": {
    "deletable": false,
    "editable": true
   },
   "outputs": [],
   "source": [
    "%%assignment\n",
    "### ENTER YOUR CODE HERE"
   ]
  },
  {
   "cell_type": "code",
   "execution_count": null,
   "metadata": {
    "deletable": false,
    "editable": false
   },
   "outputs": [],
   "source": [
    "%%check\n",
    "human_years = 10.5\n",
    "result == 1\n",
    "human_years = 21\n",
    "result == 2\n",
    "human_years = 22\n",
    "result == 2"
   ]
  },
  {
   "cell_type": "markdown",
   "metadata": {},
   "source": [
    "#### Now compute the number of human years above 21. For example, 25 should become 4 and any ago below 21 should give you 0."
   ]
  },
  {
   "cell_type": "code",
   "execution_count": null,
   "metadata": {
    "deletable": false,
    "editable": true
   },
   "outputs": [],
   "source": [
    "%%assignment\n",
    "### ENTER YOUR CODE HERE"
   ]
  },
  {
   "cell_type": "code",
   "execution_count": null,
   "metadata": {
    "deletable": false,
    "editable": false
   },
   "outputs": [],
   "source": [
    "%%check\n",
    "human_years = 18\n",
    "result == 0\n",
    "human_years = 21\n",
    "result == 0\n",
    "human_years = 25\n",
    "result == 4"
   ]
  },
  {
   "cell_type": "markdown",
   "metadata": {},
   "source": [
    "#### Now covert the number of human years above 21 to dog years. For example, 25 should become 1, 29 shoud become 2 and any ago below 21 should give you 0."
   ]
  },
  {
   "cell_type": "code",
   "execution_count": null,
   "metadata": {
    "deletable": false,
    "editable": true
   },
   "outputs": [],
   "source": [
    "%%assignment\n",
    "### ENTER YOUR CODE HERE"
   ]
  },
  {
   "cell_type": "code",
   "execution_count": null,
   "metadata": {
    "deletable": false,
    "editable": false
   },
   "outputs": [],
   "source": [
    "%%check\n",
    "human_years = 18\n",
    "result == 0\n",
    "human_years = 21\n",
    "result == 0\n",
    "human_years = 25\n",
    "result == 1\n",
    "human_years = 29\n",
    "result == 2"
   ]
  },
  {
   "cell_type": "markdown",
   "metadata": {},
   "source": [
    "#### Now combine the expression to compute the number of dog years for the first 21 years and above the age of 21 to make it work for every age. For example 10.5 should give 1, 21 should give 2, 25 should give 3."
   ]
  },
  {
   "cell_type": "code",
   "execution_count": null,
   "metadata": {
    "deletable": false,
    "editable": true
   },
   "outputs": [],
   "source": [
    "%%assignment\n",
    "### ENTER YOUR CODE HERE"
   ]
  },
  {
   "cell_type": "code",
   "execution_count": null,
   "metadata": {
    "deletable": false,
    "editable": false
   },
   "outputs": [],
   "source": [
    "%%check\n",
    "human_years = 10.5\n",
    "result == 1\n",
    "human_years = 21\n",
    "result == 2\n",
    "human_years = 25\n",
    "result == 3\n",
    "human_years = 29\n",
    "result == 4"
   ]
  },
  {
   "cell_type": "markdown",
   "metadata": {},
   "source": [
    "#### Now create an expression that computes the number of human years based on the number of dog years, e.g. 1 -> 10.5, 2-> 21, 3 -> 25, etc."
   ]
  },
  {
   "cell_type": "code",
   "execution_count": null,
   "metadata": {},
   "outputs": [],
   "source": [
    "dog_years = 3"
   ]
  },
  {
   "cell_type": "code",
   "execution_count": null,
   "metadata": {
    "deletable": false,
    "editable": true
   },
   "outputs": [],
   "source": [
    "%%assignment\n",
    "### ENTER YOUR CODE HERE"
   ]
  },
  {
   "cell_type": "code",
   "execution_count": null,
   "metadata": {
    "deletable": false,
    "editable": false
   },
   "outputs": [],
   "source": [
    "%%check\n",
    "dog_years = 1\n",
    "result == 10.5\n",
    "dog_years = 2\n",
    "result == 21\n",
    "dog_years = 3\n",
    "result == 25\n",
    "dog_years = 4\n",
    "result == 29"
   ]
  }
 ],
 "metadata": {
  "celltoolbar": "Create Assignment",
  "kernelspec": [
   {
    "display_name": "prog",
    "language": "python",
    "name": "prog"
   }
  ],
  "language_info": {
   "codemirror_mode": {
    "name": "ipython",
    "version": 3
   },
   "file_extension": ".py",
   "mimetype": "text/x-python",
   "name": "python",
   "nbconvert_exporter": "python",
   "pygments_lexer": "ipython3",
   "version": "3.8.8"
  }
 },
 "nbformat": 4,
 "nbformat_minor": 4
}
