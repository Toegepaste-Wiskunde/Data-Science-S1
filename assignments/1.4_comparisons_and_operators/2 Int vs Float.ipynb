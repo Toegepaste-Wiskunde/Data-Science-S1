{
 "cells": [
  {
   "cell_type": "markdown",
   "metadata": {},
   "source": [
    "# Numeric data types\n",
    "\n",
    "Python has two primitive numeric data types: int(eger) and float(ing point)\n",
    "- int: can be a whole number. The precision of an int is unlimited.\n",
    "- float: a real number. The precision is limited and you can use scientific notation.\n",
    "\n",
    "Python uses a few simple rules to determine the datatype of a result of a computation. If the computation uses only integers and no division it will be int, otherwise it will be a float.\n",
    "\n",
    "If you want an integer result when dividing two integers, you can use integer division. The operator for integer division is `//`. With integer division, the result is cut off to the nearest integer below, not rounded off.\n",
    "\n",
    "You may write int and float 'literals' (constant values) for example as:\n",
    "- int: 25\n",
    "- float: 2.4 or 3.7e-2"
   ]
  },
  {
   "cell_type": "markdown",
   "metadata": {},
   "source": [
    "# Example"
   ]
  },
  {
   "cell_type": "markdown",
   "metadata": {},
   "source": [
    "Compute $ 2 + 2 \\frac{1}{2} $. The result is a float."
   ]
  },
  {
   "cell_type": "code",
   "execution_count": null,
   "metadata": {},
   "outputs": [],
   "source": [
    "2 + 2.5"
   ]
  },
  {
   "cell_type": "markdown",
   "metadata": {},
   "source": [
    "Compute $ 4 / 2 $. The result is a float, regardless of the answer also being a possible int."
   ]
  },
  {
   "cell_type": "code",
   "execution_count": null,
   "metadata": {},
   "outputs": [],
   "source": [
    "4 / 2"
   ]
  },
  {
   "cell_type": "markdown",
   "metadata": {},
   "source": [
    "Compute $ 5 / 2 $ with integer division, and then compute $ -7 / 3 $."
   ]
  },
  {
   "cell_type": "code",
   "execution_count": null,
   "metadata": {},
   "outputs": [],
   "source": [
    "5 // 2"
   ]
  },
  {
   "cell_type": "code",
   "execution_count": null,
   "metadata": {},
   "outputs": [],
   "source": [
    "-7 // 3"
   ]
  },
  {
   "cell_type": "markdown",
   "metadata": {},
   "source": [
    "We can also compute the remainder after (integer) division with the modulo operator `%`. (Note that this has nothing to do with a percentage!)\n",
    "\n",
    "13 divided by 4 gives 3 with a remainder of 1."
   ]
  },
  {
   "cell_type": "code",
   "execution_count": null,
   "metadata": {},
   "outputs": [],
   "source": [
    "13 % 4"
   ]
  },
  {
   "cell_type": "markdown",
   "metadata": {},
   "source": [
    "Compute $ 4 ^ 2 $. The result is an int."
   ]
  },
  {
   "cell_type": "code",
   "execution_count": null,
   "metadata": {},
   "outputs": [],
   "source": [
    "4 ** 2"
   ]
  },
  {
   "cell_type": "markdown",
   "metadata": {},
   "source": [
    "Compute $ ( 2.3 \\cdot 10^{3} ) \\cdot 25.00003 $. \n",
    "\n",
    "The result is a float. Note that scientific notation is only used when it becomes hard to represent a number, but how it is printed on the screen does not change the fact that it is still a float."
   ]
  },
  {
   "cell_type": "code",
   "execution_count": null,
   "metadata": {},
   "outputs": [],
   "source": [
    "2.3e3 * 25.000003"
   ]
  },
  {
   "cell_type": "markdown",
   "metadata": {},
   "source": [
    "# Assignments"
   ]
  },
  {
   "cell_type": "markdown",
   "metadata": {},
   "source": [
    "#### Increase the age by 5"
   ]
  },
  {
   "cell_type": "code",
   "execution_count": null,
   "metadata": {},
   "outputs": [],
   "source": [
    "age = 30"
   ]
  },
  {
   "cell_type": "code",
   "execution_count": null,
   "metadata": {
    "deletable": false,
    "editable": true
   },
   "outputs": [],
   "source": [
    "%%assignment\n",
    "### ENTER YOUR CODE HERE"
   ]
  },
  {
   "cell_type": "code",
   "execution_count": null,
   "metadata": {
    "deletable": false,
    "editable": false
   },
   "outputs": [],
   "source": [
    "%%check\n",
    "age = 30\n",
    "result == 35\n",
    "int\n",
    "age = 40\n",
    "result == 45\n",
    "int"
   ]
  },
  {
   "cell_type": "markdown",
   "metadata": {},
   "source": [
    "#### raise the money in bank_account by 20%"
   ]
  },
  {
   "cell_type": "code",
   "execution_count": null,
   "metadata": {},
   "outputs": [],
   "source": [
    "bank_account = 50"
   ]
  },
  {
   "cell_type": "code",
   "execution_count": null,
   "metadata": {
    "deletable": false,
    "editable": true
   },
   "outputs": [],
   "source": [
    "%%assignment\n",
    "### ENTER YOUR CODE HERE"
   ]
  },
  {
   "cell_type": "code",
   "execution_count": null,
   "metadata": {
    "deletable": false,
    "editable": false
   },
   "outputs": [],
   "source": [
    "%%check\n",
    "bank_account = 25\n",
    "result == 30.0\n",
    "float\n",
    "bank_account = 50\n",
    "result == 60.0\n",
    "float"
   ]
  },
  {
   "cell_type": "markdown",
   "metadata": {},
   "source": [
    "### Which of the following expressions is a float?"
   ]
  },
  {
   "cell_type": "code",
   "execution_count": null,
   "metadata": {
    "nbgrader": {
     "grade": false,
     "grade_id": "cell-19bb7deb8fe6da90",
     "locked": true,
     "schema_version": 3,
     "solution": false,
     "task": false
    }
   },
   "outputs": [],
   "source": [
    "%%mmc float1\n",
    "2e2 * 2\n",
    "2 ** 0.5\n",
    "3 ** 3\n",
    "3 ** -3\n",
    "0.5 / 0.5\n",
    "10.5 - 0.5"
   ]
  },
  {
   "cell_type": "code",
   "execution_count": null,
   "metadata": {
    "deletable": false,
    "editable": false
   },
   "outputs": [],
   "source": [
    "%%check\n",
    "result == 8342813048389393"
   ]
  },
  {
   "cell_type": "code",
   "execution_count": null,
   "metadata": {
    "nbgrader": {
     "grade": false,
     "grade_id": "cell-3cefe4f3477da030",
     "locked": true,
     "schema_version": 3,
     "solution": false,
     "task": false
    }
   },
   "outputs": [],
   "source": [
    "%%mmc valid1\n",
    "2e2 + 2\n",
    "2e-2 / 2\n",
    "2e0.5 * 3\n",
    "-2e-2 ** 3\n",
    "3 ** -0.2\n",
    "-2 * e2"
   ]
  },
  {
   "cell_type": "code",
   "execution_count": null,
   "metadata": {
    "deletable": false,
    "editable": false
   },
   "outputs": [],
   "source": [
    "%%check\n",
    "result == 3352506320585595"
   ]
  },
  {
   "cell_type": "markdown",
   "metadata": {},
   "source": [
    "7 children are dividing candy fairly. There are 101 pieces of candy. How many pieces are left over."
   ]
  },
  {
   "cell_type": "code",
   "execution_count": null,
   "metadata": {},
   "outputs": [],
   "source": [
    "children = 7\n",
    "pieces = 101"
   ]
  },
  {
   "cell_type": "code",
   "execution_count": null,
   "metadata": {
    "deletable": false,
    "editable": true
   },
   "outputs": [],
   "source": [
    "%%assignment\n",
    "### ENTER YOUR CODE HERE"
   ]
  },
  {
   "cell_type": "code",
   "execution_count": null,
   "metadata": {
    "deletable": false,
    "editable": false
   },
   "outputs": [],
   "source": [
    "%%check\n",
    "children = 7\n",
    "pieces = 101\n",
    "result == 3\n",
    "int\n",
    "children = 11\n",
    "pieces = 104\n",
    "result == 5\n",
    "mandatory %"
   ]
  },
  {
   "cell_type": "markdown",
   "metadata": {},
   "source": [
    "A construction company needs 2,005,031 bricks to build houses. A pallet of bricks consists of $ 9 \\times 20 \\times 10 $ bricks (20 rows of 9 bricks in 10 layers). How many pallets must be ordered to have enough bricks to build all houses?"
   ]
  },
  {
   "cell_type": "code",
   "execution_count": null,
   "metadata": {},
   "outputs": [],
   "source": [
    "bricks = 2005031\n",
    "pallet_count = 9 * 20 * 10"
   ]
  },
  {
   "cell_type": "code",
   "execution_count": null,
   "metadata": {
    "deletable": false,
    "editable": true
   },
   "outputs": [],
   "source": [
    "%%assignment\n",
    "### ENTER YOUR CODE HERE"
   ]
  },
  {
   "cell_type": "code",
   "execution_count": null,
   "metadata": {
    "deletable": false,
    "editable": false
   },
   "outputs": [],
   "source": [
    "%%check\n",
    "bricks = 2005031\n",
    "pallet_count = 9 * 20 * 10\n",
    "result == 1114\n",
    "int\n",
    "bricks = 4001176\n",
    "pallet_count = 11 * 19 * 12\n",
    "result == 1596"
   ]
  }
 ],
 "metadata": {
  "celltoolbar": "Create Assignment",
  "kernelspec": {
   "display_name": "prog",
   "language": "python",
   "name": "prog"
  },
  "language_info": {
   "codemirror_mode": {
    "name": "ipython",
    "version": 3
   },
   "file_extension": ".py",
   "mimetype": "text/x-python",
   "name": "python",
   "nbconvert_exporter": "python",
   "pygments_lexer": "ipython3",
   "version": "3.8.8"
  }
 },
 "nbformat": 4,
 "nbformat_minor": 4
}
