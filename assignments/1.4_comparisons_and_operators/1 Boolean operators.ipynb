{
 "cells": [
  {
   "cell_type": "markdown",
   "metadata": {},
   "source": [
    "# Boolean operators"
   ]
  },
  {
   "cell_type": "markdown",
   "metadata": {},
   "source": [
    "In programming languages, it is really important to be able to work with booleans (True/False). As we will see later, in bigger programs booleans are used to decide which blocks of programming code to execute. The three most basic operators from proposition logic are `and`, `or` and `not`. We can combine these operators with comparison operators (e.g. `>`, `<`, `==`) to create to create advanced boolean expressions. "
   ]
  },
  {
   "cell_type": "markdown",
   "metadata": {},
   "source": [
    "In mathematics, proposition logic is the topic that deals with calculations with boolean values.\n",
    "\n",
    "Mathematical notation | Python notation\n",
    ":-----:|:-----:\n",
    "∧ | `and`\n",
    "∨ | `or`\n",
    "$\\neg$ | `not`\n",
    "=  (compare) | ==\n",
    "> | >\n",
    "< | <\n",
    "$\\ge$ | >=\n",
    "$\\le$ | <=\n",
    "$\\ne$ | !="
   ]
  },
  {
   "cell_type": "markdown",
   "metadata": {},
   "source": [
    "### Truth tables\n",
    "To define a boolean operator, often a truth table (NL waarheidstabel) is used. A truth table defines the result of a boolean operator, relating the input to the output.\n",
    "\n",
    "$p$ | not ($\\neg p$)\n",
    ":-----:|:-----:\n",
    "False | True\n",
    "True | False\n",
    "\n",
    "$p$ | $q$ | and $$p \\wedge q$$ | or $$p \\vee q$$\n",
    ":-----:|:-----:|:-----:|:-----:\n",
    "False | False | False | False\n",
    "False | True | False | True\n",
    "True | False | False | True\n",
    "True | True | True | True"
   ]
  },
  {
   "cell_type": "markdown",
   "metadata": {},
   "source": [
    "In mathematics, we know two other logical operators, but these are not available in Python.\n",
    "\n",
    "$p$ | $q$ | implication $$p \\Rightarrow q$$ | equivalence $$p \\Leftrightarrow q$$\n",
    ":-----:|:-----:|:-----:|:-----:\n",
    "False | False | True | True\n",
    "False | True | True | False\n",
    "True | False | False | False\n",
    "True | True | True | True\n",
    "\n",
    "In practise though, the equivalence is the same as `==` with boolean arguments.\n",
    "\n",
    "An equivalence is only True if the arguments on both sides of the operator are the same.\n",
    "The implication can be interpreted as an if ... then ...\n",
    "\n",
    "For example, consider the proposition \"If you've cleaned up, then it's neat\". When is this assertion true?\n",
    "\n",
    "You've cleaned up | It's neat | You've cleaned up $\\Rightarrow$ It's neat\n",
    ":-----|:-----|:-----\n",
    "I have not cleaned up (False) | It is a mess (False) | the assertion above is valid (True)\n",
    "I have not cleaned up (False) | It's neat (True) | the assertion above is valid, maybe someone else cleaned up (True)\n",
    "I have cleaned up (True) | It is a mess (False) | this is not possible, after cleaning up it always is neat (False)\n",
    "I have cleaned up (True) | It's neat (True) | the assertion above obviously is valid (True)"
   ]
  },
  {
   "cell_type": "markdown",
   "metadata": {},
   "source": [
    "### Example\n",
    "\n",
    "Compute $\\text{True} \\land \\text{False}$"
   ]
  },
  {
   "cell_type": "code",
   "execution_count": null,
   "metadata": {},
   "outputs": [],
   "source": [
    "True and False"
   ]
  },
  {
   "cell_type": "markdown",
   "metadata": {},
   "source": [
    "True $\\vee$ $\\neg$False"
   ]
  },
  {
   "cell_type": "code",
   "execution_count": null,
   "metadata": {},
   "outputs": [],
   "source": [
    "True or not False"
   ]
  },
  {
   "cell_type": "markdown",
   "metadata": {},
   "source": [
    "`age` is greater or equal to 25. You can try different values for age"
   ]
  },
  {
   "cell_type": "code",
   "execution_count": null,
   "metadata": {},
   "outputs": [],
   "source": [
    "age = 30"
   ]
  },
  {
   "cell_type": "code",
   "execution_count": null,
   "metadata": {},
   "outputs": [],
   "source": [
    "age >= 25"
   ]
  },
  {
   "cell_type": "markdown",
   "metadata": {},
   "source": [
    "### Assignments"
   ]
  },
  {
   "cell_type": "markdown",
   "metadata": {},
   "source": [
    "age is smaller than 65"
   ]
  },
  {
   "cell_type": "code",
   "execution_count": null,
   "metadata": {},
   "outputs": [],
   "source": [
    "age = 30"
   ]
  },
  {
   "cell_type": "code",
   "execution_count": null,
   "metadata": {
    "deletable": false,
    "editable": true
   },
   "outputs": [],
   "source": [
    "%%assignment\n",
    "### ENTER YOUR CODE HERE"
   ]
  },
  {
   "cell_type": "code",
   "execution_count": null,
   "metadata": {
    "deletable": false,
    "editable": false
   },
   "outputs": [],
   "source": [
    "%%check\n",
    "age = 64\n",
    "result == True # When age is 64 the result has to be True\n",
    "age = 65\n",
    "result == False # When age is 65 the result has to be False"
   ]
  },
  {
   "cell_type": "markdown",
   "metadata": {},
   "source": [
    "`age` is between 25 and 65\n",
    "\n",
    "NB in programming it is common that when we say between the lower bound is inclusive (>=) and the upper bound is exclusive (<)."
   ]
  },
  {
   "cell_type": "code",
   "execution_count": null,
   "metadata": {},
   "outputs": [],
   "source": [
    "age = 30"
   ]
  },
  {
   "cell_type": "code",
   "execution_count": null,
   "metadata": {
    "deletable": false,
    "editable": true
   },
   "outputs": [],
   "source": [
    "%%assignment\n",
    "# Hint: use a combination of comparison and proposition logic\n",
    "### ENTER YOUR CODE HERE"
   ]
  },
  {
   "cell_type": "code",
   "execution_count": null,
   "metadata": {
    "deletable": false,
    "editable": false
   },
   "outputs": [],
   "source": [
    "%%check\n",
    "age = 24\n",
    "result == False # When age is 24 the result has to be False\n",
    "age = 25\n",
    "result == True # When age is 25 the result has to be True\n",
    "age = 64\n",
    "result == True # When age is 64 the result has to be True\n",
    "age = 65\n",
    "result == False # When age is 65 the result has to be False"
   ]
  },
  {
   "cell_type": "markdown",
   "metadata": {},
   "source": [
    "age is greater than 18 or length is smaller than 180"
   ]
  },
  {
   "cell_type": "code",
   "execution_count": null,
   "metadata": {},
   "outputs": [],
   "source": [
    "age = 18\n",
    "length = 180"
   ]
  },
  {
   "cell_type": "code",
   "execution_count": null,
   "metadata": {
    "deletable": false,
    "editable": true
   },
   "outputs": [],
   "source": [
    "%%assignment\n",
    "### ENTER YOUR CODE HERE"
   ]
  },
  {
   "cell_type": "code",
   "execution_count": null,
   "metadata": {
    "deletable": false,
    "editable": false
   },
   "outputs": [],
   "source": [
    "%%check\n",
    "age, length = 17, 179\n",
    "result == True\n",
    "age, length = 17, 180\n",
    "result == False\n",
    "age, length = 18, 0\n",
    "result == True"
   ]
  },
  {
   "cell_type": "markdown",
   "metadata": {},
   "source": [
    "age is at least 18 or drink is not 'beer'"
   ]
  },
  {
   "cell_type": "code",
   "execution_count": null,
   "metadata": {},
   "outputs": [],
   "source": [
    "age = 17\n",
    "drink = 'beer'"
   ]
  },
  {
   "cell_type": "code",
   "execution_count": null,
   "metadata": {
    "deletable": false,
    "editable": true
   },
   "outputs": [],
   "source": [
    "%%assignment\n",
    "### ENTER YOUR CODE HERE"
   ]
  },
  {
   "cell_type": "code",
   "execution_count": null,
   "metadata": {
    "deletable": false,
    "editable": false
   },
   "outputs": [],
   "source": [
    "%%check\n",
    "age = 17\n",
    "drink = 'beer'\n",
    "result == False\n",
    "age = 18\n",
    "result == True\n",
    "age = 17\n",
    "drink = 'cola'\n",
    "result == True"
   ]
  },
  {
   "cell_type": "markdown",
   "metadata": {},
   "source": [
    "### Implication\n",
    "Write code that acts as an implication. You can only use two logical operators!"
   ]
  },
  {
   "cell_type": "code",
   "execution_count": null,
   "metadata": {},
   "outputs": [],
   "source": [
    "p = True\n",
    "q = False"
   ]
  },
  {
   "cell_type": "code",
   "execution_count": null,
   "metadata": {
    "deletable": false,
    "editable": true
   },
   "outputs": [],
   "source": [
    "%%assignment\n",
    "### ENTER YOUR CODE HERE"
   ]
  },
  {
   "cell_type": "code",
   "execution_count": null,
   "metadata": {
    "deletable": false,
    "editable": false
   },
   "outputs": [],
   "source": [
    "%%check\n",
    "p = True\n",
    "q = False\n",
    "result == False\n",
    "q = True\n",
    "result == True\n",
    "p = False\n",
    "result == True\n",
    "q = False\n",
    "result == True\n",
    "mandatory not or"
   ]
  }
 ],
 "metadata": {
  "celltoolbar": "Create Assignment",
  "kernelspec": {
   "display_name": "prog",
   "language": "python",
   "name": "prog"
  },
  "language_info": {
   "codemirror_mode": {
    "name": "ipython",
    "version": 3
   },
   "file_extension": ".py",
   "mimetype": "text/x-python",
   "name": "python",
   "nbconvert_exporter": "python",
   "pygments_lexer": "ipython3",
   "version": "3.8.8"
  }
 },
 "nbformat": 4,
 "nbformat_minor": 4
}
