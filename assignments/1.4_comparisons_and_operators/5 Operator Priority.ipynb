{
 "cells": [
  {
   "cell_type": "markdown",
   "metadata": {},
   "source": [
    "# Operator precedence\n",
    "\n",
    "Just like in mathematics, operators in programming languages are subject to precedence rules that determine which operator goes first. If we did not have operator precedences, there would be confusion when we see an expression like $ 1 + 2 \\times 3 $, is the answer $7$ or $9$? Because we have a rule that says multiplication take precedence over addition, we know that we should first multiply and then add, so the unambiguous answer is $7$. Whenever we want to bypass predence rules, we can used brackets to make sure that the part within brackets is computed first, e.g. $ (1 + 2) \\times 3$ gives $9$.\n",
    "\n",
    "Python uses a set of precedence rules that correspond to what you are used to in mathematics, albeit a bit more extensive:\n",
    "\n",
    "| Operator  | Description |\n",
    "| :-------- | :---------- |\n",
    "| () | Parentheses (grouping)|\n",
    "function() | Function call (will be discussed later)\n",
    "** | Exponentiation\n",
    "+x, -x | Unary positive/negative\n",
    "*, /, % | Multiplication, division, remainder\n",
    "+, - | Addition, subtraction\n",
    "in, not in, is, is not, <, <=,  >,  >=, <>, !=, == | Comparisons\n",
    "not x | Boolean NOT\n",
    "and\t| Boolean AND\n",
    "or | Boolean OR\n",
    "\n",
    "If an operator is above another it takes precedence. If two operators have the same priority (e.g. + and -) the left-most operator goes first."
   ]
  },
  {
   "cell_type": "markdown",
   "metadata": {},
   "source": [
    "# Examples"
   ]
  },
  {
   "cell_type": "markdown",
   "metadata": {},
   "source": [
    "$ 2 ^ 2 + 2 \\cdot 3 $, the exponent goes first, then multiply, finally add."
   ]
  },
  {
   "cell_type": "code",
   "execution_count": null,
   "metadata": {},
   "outputs": [],
   "source": [
    "2 ** 2 + 2 * 3"
   ]
  },
  {
   "cell_type": "markdown",
   "metadata": {},
   "source": [
    "$ \\neg True \\lor True $, since the NOT goes before an OR, we do not need braces"
   ]
  },
  {
   "cell_type": "code",
   "execution_count": null,
   "metadata": {},
   "outputs": [],
   "source": [
    "not True or True"
   ]
  },
  {
   "cell_type": "markdown",
   "metadata": {},
   "source": [
    "$ (1 + 2) ^{1 + 3} $, the part within braces go first. Even it no braces are written in the exponent, clearly the intention is to first add the 1 and 3 and then use the result as an exponent."
   ]
  },
  {
   "cell_type": "code",
   "execution_count": null,
   "metadata": {},
   "outputs": [],
   "source": [
    "(1 + 2) ** (1 + 3)"
   ]
  },
  {
   "cell_type": "markdown",
   "metadata": {},
   "source": [
    "$ \\sqrt{10 + 15} $, we can write the square root using the function `math.sqrt()`"
   ]
  },
  {
   "cell_type": "code",
   "execution_count": null,
   "metadata": {},
   "outputs": [],
   "source": [
    "math.sqrt(10 + 15)"
   ]
  },
  {
   "cell_type": "markdown",
   "metadata": {},
   "source": [
    "# Assignments"
   ]
  },
  {
   "cell_type": "markdown",
   "metadata": {},
   "source": [
    "#### Write $ 2 - 3 \\cdot 2 + 2 ^ 3$"
   ]
  },
  {
   "cell_type": "code",
   "execution_count": null,
   "metadata": {
    "deletable": false,
    "editable": true
   },
   "outputs": [],
   "source": [
    "%%assignment \n",
    "### ENTER YOUR CODE HERE"
   ]
  },
  {
   "cell_type": "code",
   "execution_count": null,
   "metadata": {
    "deletable": false,
    "editable": false
   },
   "outputs": [],
   "source": [
    "%%check\n",
    "result == 4\n",
    "mandatory 2 3 - + * **\n",
    "forbidden 1 4 5 6 7 8 9 0"
   ]
  },
  {
   "cell_type": "markdown",
   "metadata": {},
   "source": [
    "#### Write: $ 2 \\cdot 2 ^ 3$"
   ]
  },
  {
   "cell_type": "code",
   "execution_count": null,
   "metadata": {
    "deletable": false,
    "editable": true
   },
   "outputs": [],
   "source": [
    "%%assignment \n",
    "### ENTER YOUR CODE HERE"
   ]
  },
  {
   "cell_type": "code",
   "execution_count": null,
   "metadata": {
    "deletable": false,
    "editable": false
   },
   "outputs": [],
   "source": [
    "%%check\n",
    "result == 16\n",
    "mandatory 2 3 * **\n",
    "forbidden 1 4 5 6 7 8 9 0 + -"
   ]
  },
  {
   "cell_type": "markdown",
   "metadata": {},
   "source": [
    "#### Write: $ (2 + 3) \\cdot 2 ^ {2 + 3} $"
   ]
  },
  {
   "cell_type": "code",
   "execution_count": null,
   "metadata": {
    "deletable": false,
    "editable": true
   },
   "outputs": [],
   "source": [
    "%%assignment \n",
    "### ENTER YOUR CODE HERE"
   ]
  },
  {
   "cell_type": "code",
   "execution_count": null,
   "metadata": {
    "deletable": false,
    "editable": false
   },
   "outputs": [],
   "source": [
    "%%check\n",
    "result == 160\n",
    "mandatory 2 3 * ** + \n",
    "forbidden 1 4 5 6 7 8 9 0 -"
   ]
  },
  {
   "cell_type": "markdown",
   "metadata": {},
   "source": [
    "#### Consider a triangle with a right angle ($90^\\circ$). The adjacent sides are 5 and 12, give the expression to compute the length of the third side (the hypotenuse)."
   ]
  },
  {
   "cell_type": "code",
   "execution_count": null,
   "metadata": {
    "deletable": false,
    "editable": true
   },
   "outputs": [],
   "source": [
    "%%assignment \n",
    "### ENTER YOUR CODE HERE"
   ]
  },
  {
   "cell_type": "code",
   "execution_count": null,
   "metadata": {
    "deletable": false,
    "editable": false
   },
   "outputs": [],
   "source": [
    "%%check\n",
    "result == 13.0\n",
    "mandatory 2 5 12 + ( ) sqrt\n",
    "forbidden 0 3 4 6 7 8 9 10 11 13"
   ]
  },
  {
   "cell_type": "markdown",
   "metadata": {},
   "source": [
    "#### What is the order in which the operators are computed in `2 - 3 ** 2 * 2 + 2`"
   ]
  },
  {
   "cell_type": "code",
   "execution_count": null,
   "metadata": {
    "nbgrader": {
     "grade": false,
     "grade_id": "cell-6d11fbc8d7419b39",
     "locked": true,
     "schema_version": 3,
     "solution": false,
     "task": false
    }
   },
   "outputs": [],
   "source": [
    "%%mc precedence1\n",
    "* ** + -\n",
    "** * - + \n",
    "- + * **\n",
    "+ * ** -"
   ]
  },
  {
   "cell_type": "code",
   "execution_count": null,
   "metadata": {
    "deletable": false,
    "editable": false
   },
   "outputs": [],
   "source": [
    "%%check\n",
    "hashresult == 2001155512"
   ]
  },
  {
   "cell_type": "markdown",
   "metadata": {},
   "source": [
    "#### What is the order that the operators are computed in `2 * -2 + 3`"
   ]
  },
  {
   "cell_type": "code",
   "execution_count": null,
   "metadata": {
    "nbgrader": {
     "grade": false,
     "grade_id": "cell-5b5280f2bb3ec0b9",
     "locked": true,
     "schema_version": 3,
     "solution": false,
     "task": false
    }
   },
   "outputs": [],
   "source": [
    "%%mc precedence2\n",
    "- + *\n",
    "+ - *\n",
    "* - +\n",
    "- * +"
   ]
  },
  {
   "cell_type": "code",
   "execution_count": null,
   "metadata": {
    "deletable": false,
    "editable": false
   },
   "outputs": [],
   "source": [
    "%%check\n",
    "hashresult == 2142369314"
   ]
  },
  {
   "cell_type": "code",
   "execution_count": null,
   "metadata": {},
   "outputs": [],
   "source": []
  }
 ],
 "kernelspec": [
  {
   "display_name": "prog",
   "language": "python",
   "name": "prog"
  }
 ],
 "metadata": {
  "celltoolbar": "Create Assignment",
  "kernelspec": {
   "display_name": "prog",
   "language": "python",
   "name": "prog"
  },
  "language_info": {
   "codemirror_mode": {
    "name": "ipython",
    "version": 3
   },
   "file_extension": ".py",
   "mimetype": "text/x-python",
   "name": "python",
   "nbconvert_exporter": "python",
   "pygments_lexer": "ipython3",
   "version": "3.8.8"
  }
 },
 "nbformat": 4,
 "nbformat_minor": 4
}
