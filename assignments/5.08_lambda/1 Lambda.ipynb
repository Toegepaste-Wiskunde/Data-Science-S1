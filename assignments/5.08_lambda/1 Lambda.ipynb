{
 "cells": [
  {
   "cell_type": "markdown",
   "metadata": {},
   "source": [
    "# Lambda expression\n",
    "\n",
    "In many programming languages, we can define simple anonymous functions that have no name. The idea is that sometimes, you just want to apply a function one time, so there is really no need to assign it to a variable for reuse. Such an anonymous function is formally called a 'lambda expression'. Lambda expressions cannot contain an entire code block, but only define what the input parameters are and what the returned result is."
   ]
  },
  {
   "cell_type": "markdown",
   "metadata": {},
   "source": [
    "A lambda expression contains the word 'lambda', followed by the input parameters (if any), then a colon (:) and then the expression that is returned. So the lambda to compute the area of a rectangle of size `x` by `y` could be:"
   ]
  },
  {
   "cell_type": "code",
   "execution_count": null,
   "metadata": {},
   "outputs": [],
   "source": [
    "lambda x, y: x*y"
   ]
  },
  {
   "cell_type": "markdown",
   "metadata": {},
   "source": [
    "Since the lambda is not stored, we cannot use it. To demonstrate how it works, we can assign it to a variable."
   ]
  },
  {
   "cell_type": "code",
   "execution_count": null,
   "metadata": {},
   "outputs": [],
   "source": [
    "area = lambda x, y: x*y"
   ]
  },
  {
   "cell_type": "code",
   "execution_count": null,
   "metadata": {},
   "outputs": [],
   "source": [
    "area(5, 4)"
   ]
  },
  {
   "cell_type": "markdown",
   "metadata": {},
   "source": [
    "Note that this is the exact equivalent of:"
   ]
  },
  {
   "cell_type": "code",
   "execution_count": null,
   "metadata": {},
   "outputs": [],
   "source": [
    "def area(x, y):\n",
    "    return x * y"
   ]
  },
  {
   "cell_type": "code",
   "execution_count": null,
   "metadata": {},
   "outputs": [],
   "source": [
    "area(5, 4)"
   ]
  },
  {
   "cell_type": "markdown",
   "metadata": {},
   "source": [
    "So what are lambda's useful for? We can pass a function as a function parameter. Consider a few examples:"
   ]
  },
  {
   "cell_type": "code",
   "execution_count": null,
   "metadata": {},
   "outputs": [],
   "source": [
    "a = [5, 3, 2, 8]"
   ]
  },
  {
   "cell_type": "markdown",
   "metadata": {},
   "source": [
    "| code | result | comment |\n",
    "|:-----|:-------|:--------|\n",
    "| sorted(a) | [2, 3, 5, 8] | returns a sorted list of any iterable |\n",
    "| sorted(a, key=lambda x:-x) | [8, 5, 3, 2] | when we pass a function as key, the elements are sorted by the value that functions returns for them. In this case `-x` reversed the sort order |\n",
    "| sorted(a, key=lambda x: x % 2) | [2, 8, 5, 3] | because even numbers evaluate to 0 and odd numbers to 1, this changes the order so that the even numbers come before the odd numbers |\n",
    "| filter( lambda x: x < 5, a ) | [2, 3] | filter returns only the values in `a` for which the lambda returns True |"
   ]
  },
  {
   "cell_type": "markdown",
   "metadata": {},
   "source": [
    "By passing functions to functions, it becomes possible to write more generic function. For example, a sort function that can sort any list of elements, using a passed function/lambda that returns the value to sort it by."
   ]
  },
  {
   "cell_type": "markdown",
   "metadata": {},
   "source": [
    "# Assignments"
   ]
  },
  {
   "cell_type": "markdown",
   "metadata": {},
   "source": [
    "Consider the generic function `smallest` that returns the smallest of a set of rectangles given some measure.\n",
    "\n",
    "The way smallest works, is by constructing a list of (measure, value) tuples. When you sort these values using that function, the first value is the smallest."
   ]
  },
  {
   "cell_type": "code",
   "execution_count": null,
   "metadata": {},
   "outputs": [],
   "source": [
    "def smallest( values, measure):\n",
    "    return sorted(values, key=measure)[0]"
   ]
  },
  {
   "cell_type": "code",
   "execution_count": null,
   "metadata": {},
   "outputs": [],
   "source": [
    "rectangles = [(4, 10), (3, 6), (4, 4)]"
   ]
  },
  {
   "cell_type": "markdown",
   "metadata": {},
   "source": [
    "When we call this function with `min` as measure, it will use the minimum of the height and width of each rectangle as value to sort on."
   ]
  },
  {
   "cell_type": "code",
   "execution_count": null,
   "metadata": {},
   "outputs": [],
   "source": [
    "smallest(rectangles, min)"
   ]
  },
  {
   "cell_type": "markdown",
   "metadata": {},
   "source": [
    "# Use `smallest` with a lambda to get the rectangle with the smallest area.\n",
    "\n",
    "Note: you can not use unpacking here, you have to use a single parameter like in `lambda x: ...`, therefore you will have to write the lambda to compute the area different than the version above."
   ]
  },
  {
   "cell_type": "code",
   "execution_count": null,
   "metadata": {
    "deletable": false,
    "editable": true
   },
   "outputs": [],
   "source": [
    "%%assignment\n",
    "### ENTER YOUR CODE HERE"
   ]
  },
  {
   "cell_type": "code",
   "execution_count": null,
   "metadata": {
    "deletable": false,
    "editable": false
   },
   "outputs": [],
   "source": [
    "%%check\n",
    "rectangles = [(9, 1), (1, 8), (2, 2)]\n",
    "result == (2, 2)\n",
    "rectangles = [(4, 10), (3, 6), (4, 4)]\n",
    "result == (4, 4)"
   ]
  },
  {
   "cell_type": "markdown",
   "metadata": {},
   "source": [
    "# Use `smallest` with a lambda to get the rectangle with the longest edge.\n",
    "\n",
    "An 'edge' could either by the height or width, whichever is longest."
   ]
  },
  {
   "cell_type": "code",
   "execution_count": null,
   "metadata": {
    "deletable": false,
    "editable": true
   },
   "outputs": [],
   "source": [
    "%%assignment\n",
    "### ENTER YOUR CODE HERE"
   ]
  },
  {
   "cell_type": "code",
   "execution_count": null,
   "metadata": {
    "deletable": false,
    "editable": false
   },
   "outputs": [],
   "source": [
    "%%check\n",
    "rectangles = [(8, 1), (1, 9), (2, 2)]\n",
    "result == (1, 9)\n",
    "rectangles = [(4, 10), (3, 6), (4, 4)]\n",
    "result == (4, 10)"
   ]
  },
  {
   "cell_type": "markdown",
   "metadata": {},
   "source": [
    "# Sort `names` by the length of the strings.\n",
    "\n",
    "In other words, the shortest name should come first and the longest name last."
   ]
  },
  {
   "cell_type": "code",
   "execution_count": null,
   "metadata": {},
   "outputs": [],
   "source": [
    "names = ['Isabelle', 'Jack', 'James', 'Abe' ]"
   ]
  },
  {
   "cell_type": "code",
   "execution_count": null,
   "metadata": {
    "deletable": false,
    "editable": true
   },
   "outputs": [],
   "source": [
    "%%assignment\n",
    "### ENTER YOUR CODE HERE"
   ]
  },
  {
   "cell_type": "code",
   "execution_count": null,
   "metadata": {
    "deletable": false,
    "editable": false
   },
   "outputs": [],
   "source": [
    "%%check\n",
    "names = ['Isabelle', 'James', 'Abe' ]\n",
    "result == ['Abe', 'James', 'Isabelle']\n",
    "names = ['Isabelle', 'Jack', 'James', 'Abe' ]\n",
    "result == ['Abe', 'Jack', 'James', 'Isabelle']"
   ]
  }
 ],
 "metadata": {
  "celltoolbar": "Create Assignment",
  "kernelspec": [
   {
    "display_name": "prog",
    "language": "python",
    "name": "prog"
   }
  ],
  "language_info": {
   "codemirror_mode": {
    "name": "ipython",
    "version": 3
   },
   "file_extension": ".py",
   "mimetype": "text/x-python",
   "name": "python",
   "nbconvert_exporter": "python",
   "pygments_lexer": "ipython3",
   "version": "3.8.8"
  }
 },
 "nbformat": 4,
 "nbformat_minor": 4
}
