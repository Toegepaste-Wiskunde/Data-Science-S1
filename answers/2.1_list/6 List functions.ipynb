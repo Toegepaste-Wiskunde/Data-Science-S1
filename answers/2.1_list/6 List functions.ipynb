{
 "cells": [
  {
   "cell_type": "markdown",
   "metadata": {},
   "source": [
    "# List functions\n",
    "\n",
    "There are several functions we can apply to a List to modify the List or perform some operation.\n",
    "\n",
    "These functions are called methods. A method belongs to a list, therefore they are connected to a list with a dot; `list.method()`. The method only works on the list it is attachted to.\n",
    "\n",
    "| Index | 0 | 1 | 2 |   |\n",
    "|-------|---|---|---|---|\n",
    "| a = [ | 2 | 3 | 7 | ] |\n",
    "| b = [ | 3 | 8 | 5 | ] |\n",
    "\n",
    "\n",
    "| Example | Result | Comment |\n",
    "|:--------|:-------|:--------|\n",
    "| a.append( 4 ) | a = [ 2, 3, 7, 4 ] | appends a value to the end of the list |\n",
    "| a.index(3)    | 1 | returns the index of the first element with value 3 |\n",
    "| a.insert(1, 9) | a = [ 2, 9, 3, 7 ] | inserts an element with value 9 in the list between the indices 0 and 1 |\n",
    "| a.extend(b) | a = [ 2, 3, 7, 3, 8, 5 ] | appends all elements from list b to list a, note that elements do not have to be unique |\n",
    "| b.sort() | b = [ 3, 5, 8 ] | sorts the elements in the List |\n",
    "| a.reverse() | a = [ 7, 3, 2 ] | reverses the order of the elements |\n"
   ]
  },
  {
   "cell_type": "markdown",
   "metadata": {},
   "source": [
    "# Assignments"
   ]
  },
  {
   "cell_type": "markdown",
   "metadata": {},
   "source": [
    "#### Insert the name 'Jeff' in `hero` at index 1."
   ]
  },
  {
   "cell_type": "code",
   "execution_count": null,
   "metadata": {},
   "outputs": [],
   "source": [
    "hero = ['John', 'Jack', 'James']"
   ]
  },
  {
   "cell_type": "code",
   "execution_count": null,
   "metadata": {
    "nbgrader": {
     "grade": false,
     "grade_id": "cell-2ff6d26dfbb20552",
     "locked": false,
     "schema_version": 3,
     "solution": true,
     "task": false
    }
   },
   "outputs": [],
   "source": [
    "%%assignment\n",
    "### BEGIN SOLUTION\n",
    "hero.insert(1, 'Jeff')\n",
    "### END SOLUTION"
   ]
  },
  {
   "cell_type": "code",
   "execution_count": null,
   "metadata": {
    "nbgrader": {
     "grade": true,
     "grade_id": "cell-b4bf79710010974c",
     "locked": true,
     "points": 1,
     "schema_version": 3,
     "solution": false,
     "task": false
    }
   },
   "outputs": [],
   "source": [
    "%%check\n",
    "hero = ['John', 'Jack', 'James']\n",
    "hero == ['John', 'Jeff', 'Jack', 'James']\n",
    "hero = ['Kyle', 'Kevin']\n",
    "hero == ['Kyle', 'Jeff', 'Kevin']"
   ]
  },
  {
   "cell_type": "markdown",
   "metadata": {},
   "source": [
    "#### Insert the name 'Jeff' in `hero` just before 'Jack'. Beware that Jack is not necessarily at index 1, so you have to first get the index of Jack."
   ]
  },
  {
   "cell_type": "code",
   "execution_count": null,
   "metadata": {},
   "outputs": [],
   "source": [
    "hero = ['John', 'Jack', 'James']"
   ]
  },
  {
   "cell_type": "code",
   "execution_count": null,
   "metadata": {
    "nbgrader": {
     "grade": false,
     "grade_id": "cell-4bd69d2ee43e347b",
     "locked": false,
     "schema_version": 3,
     "solution": true,
     "task": false
    }
   },
   "outputs": [],
   "source": [
    "%%assignment\n",
    "### BEGIN SOLUTION\n",
    "hero.insert( hero.index('Jack'), 'Jeff')\n",
    "### END SOLUTION"
   ]
  },
  {
   "cell_type": "code",
   "execution_count": null,
   "metadata": {
    "nbgrader": {
     "grade": true,
     "grade_id": "cell-f1135baa5de9e613",
     "locked": true,
     "points": 1,
     "schema_version": 3,
     "solution": false,
     "task": false
    }
   },
   "outputs": [],
   "source": [
    "%%check\n",
    "hero = ['John', 'Jack', 'James']\n",
    "hero == ['John', 'Jeff', 'Jack', 'James']\n",
    "hero = ['Jack', 'James']\n",
    "hero == ['Jeff', 'Jack', 'James']"
   ]
  },
  {
   "cell_type": "markdown",
   "metadata": {},
   "source": [
    "#### What is the second smallest temperature in `temperatures`."
   ]
  },
  {
   "cell_type": "code",
   "execution_count": null,
   "metadata": {},
   "outputs": [],
   "source": [
    "temperatures = [20, 9, 15, 30, 31]"
   ]
  },
  {
   "cell_type": "code",
   "execution_count": null,
   "metadata": {
    "nbgrader": {
     "grade": false,
     "grade_id": "cell-ac30e36b8a2d6b09",
     "locked": false,
     "schema_version": 3,
     "solution": true,
     "task": false
    }
   },
   "outputs": [],
   "source": [
    "%%assignment\n",
    "### BEGIN SOLUTION\n",
    "temperatures.sort()\n",
    "temperatures[1]\n",
    "### END SOLUTION"
   ]
  },
  {
   "cell_type": "code",
   "execution_count": null,
   "metadata": {
    "nbgrader": {
     "grade": true,
     "grade_id": "cell-220dc79188bc96c8",
     "locked": true,
     "points": 1,
     "schema_version": 3,
     "solution": false,
     "task": false
    }
   },
   "outputs": [],
   "source": [
    "%%check\n",
    "temperatures = [20, 9, 15, 30, 31]\n",
    "result == 15\n",
    "temperatures = [2.5, 3.5, 4.5, 1.2]\n",
    "result == 2.5"
   ]
  },
  {
   "cell_type": "markdown",
   "metadata": {},
   "source": [
    "#### Replace the highest temperature with 40.\n",
    "Hint: Find the index of the maximum."
   ]
  },
  {
   "cell_type": "code",
   "execution_count": null,
   "metadata": {},
   "outputs": [],
   "source": [
    "temperatures = [20, 9, 15, 31, 30]"
   ]
  },
  {
   "cell_type": "code",
   "execution_count": null,
   "metadata": {
    "nbgrader": {
     "grade": false,
     "grade_id": "cell-da46940fb64d25cb",
     "locked": false,
     "schema_version": 3,
     "solution": true,
     "task": false
    }
   },
   "outputs": [],
   "source": [
    "%%assignment\n",
    "### BEGIN SOLUTION\n",
    "temperatures[temperatures.index(max(temperatures))] = 40\n",
    "### END SOLUTION"
   ]
  },
  {
   "cell_type": "code",
   "execution_count": null,
   "metadata": {
    "nbgrader": {
     "grade": true,
     "grade_id": "cell-94c272164393a4dd",
     "locked": true,
     "points": 1,
     "schema_version": 3,
     "solution": false,
     "task": false
    }
   },
   "outputs": [],
   "source": [
    "%%check\n",
    "temperatures = [20, 9, 15, 30, 31]\n",
    "temperatures == [20, 9, 15, 30, 40]\n",
    "temperatures = [2.5, 3.5, 3.2, 1.2]\n",
    "temperatures == [2.5, 40, 3.2, 1.2]"
   ]
  },
  {
   "cell_type": "markdown",
   "metadata": {},
   "source": [
    "#### Swap the position of the lowest value in temperatures with position of the highest temperature\n",
    "You likely need multiple variables and multiple lines of code."
   ]
  },
  {
   "cell_type": "code",
   "execution_count": null,
   "metadata": {},
   "outputs": [],
   "source": [
    "temperatures = [20, 9, 15, 31, 30]\n",
    "# i.e. should become [ 20, 31, 15, 9, 30 ]"
   ]
  },
  {
   "cell_type": "code",
   "execution_count": null,
   "metadata": {
    "nbgrader": {
     "grade": false,
     "grade_id": "cell-7329552cb587a693",
     "locked": false,
     "schema_version": 3,
     "solution": true,
     "task": false
    }
   },
   "outputs": [],
   "source": [
    "%%assignment\n",
    "### BEGIN SOLUTION\n",
    "minx = min(temperatures)\n",
    "maxx = max(temperatures)\n",
    "mini = temperatures.index(minx)\n",
    "maxi = temperatures.index(maxx)\n",
    "temperatures[mini] = maxx\n",
    "temperatures[maxi] = minx\n",
    "### END SOLUTION"
   ]
  },
  {
   "cell_type": "code",
   "execution_count": null,
   "metadata": {
    "nbgrader": {
     "grade": true,
     "grade_id": "cell-2f12bffada94c9da",
     "locked": true,
     "points": 1,
     "schema_version": 3,
     "solution": false,
     "task": false
    }
   },
   "outputs": [],
   "source": [
    "%%check\n",
    "temperatures = [20, 9, 15, 30, 31]\n",
    "temperatures == [20, 31, 15, 30, 9]\n",
    "temperatures = [3.5, 2.5, 3.2, 1.2]\n",
    "temperatures == [1.2, 2.5, 3.2, 3.5]"
   ]
  },
  {
   "cell_type": "code",
   "execution_count": null,
   "metadata": {},
   "outputs": [],
   "source": []
  }
 ],
 "metadata": {
  "celltoolbar": "Create Assignment",
  "kernelspec": {
   "display_name": "prog",
   "language": "python",
   "name": "prog"
  },
  "language_info": {
   "codemirror_mode": {
    "name": "ipython",
    "version": 3
   },
   "file_extension": ".py",
   "mimetype": "text/x-python",
   "name": "python",
   "nbconvert_exporter": "python",
   "pygments_lexer": "ipython3",
   "version": "3.8.8"
  }
 },
 "nbformat": 4,
 "nbformat_minor": 4
}
