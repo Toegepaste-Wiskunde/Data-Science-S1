{
 "cells": [
  {
   "cell_type": "markdown",
   "metadata": {},
   "source": [
    "# Handling long lists\n",
    "\n",
    "Often, the size of the data that we work with is too big to view. Computer programming makes it easier to work with large dataset, then again, we strongly rely on error-free programming code to make sure we are getting the correct outcomes.\n",
    "\n",
    "We have prepared a long list of movie titles for you to work on."
   ]
  },
  {
   "cell_type": "code",
   "execution_count": null,
   "metadata": {},
   "outputs": [],
   "source": [
    "titles = read_movie_titles()       "
   ]
  },
  {
   "cell_type": "markdown",
   "metadata": {},
   "source": [
    "# Assignments"
   ]
  },
  {
   "cell_type": "markdown",
   "metadata": {},
   "source": [
    "#### Write code to view the first movie title\n",
    "\n",
    "It appears that every movie title also contains the year in which the movie was released."
   ]
  },
  {
   "cell_type": "code",
   "execution_count": null,
   "metadata": {
    "nbgrader": {
     "grade": false,
     "grade_id": "cell-4dd8fc2aadba4b3f",
     "locked": false,
     "schema_version": 3,
     "solution": true,
     "task": false
    }
   },
   "outputs": [],
   "source": [
    "%%assignment\n",
    "### BEGIN SOLUTION\n",
    "titles[0]\n",
    "### END SOLUTION"
   ]
  },
  {
   "cell_type": "code",
   "execution_count": null,
   "metadata": {
    "nbgrader": {
     "grade": true,
     "grade_id": "cell-be612a8d50e3972b",
     "locked": true,
     "points": 1,
     "schema_version": 3,
     "solution": false,
     "task": false
    }
   },
   "outputs": [],
   "source": [
    "%%check\n",
    "result == 'Toy Story (1995)'\n",
    "'Toy Story (1995)' not in cell"
   ]
  },
  {
   "cell_type": "markdown",
   "metadata": {},
   "source": [
    "#### Write a function `count_movies`, that takes `titles` as parameter and return the number of movie titles.\n",
    "\n",
    "Wow, that is a lot of movies..."
   ]
  },
  {
   "cell_type": "code",
   "execution_count": null,
   "metadata": {
    "nbgrader": {
     "grade": false,
     "grade_id": "cell-f2a86fdd134a04a9",
     "locked": false,
     "schema_version": 3,
     "solution": true,
     "task": false
    }
   },
   "outputs": [],
   "source": [
    "%%assignment\n",
    "### BEGIN SOLUTION\n",
    "def count_movies(titles):\n",
    "    return len(titles)\n",
    "### END SOLUTION"
   ]
  },
  {
   "cell_type": "code",
   "execution_count": null,
   "metadata": {
    "nbgrader": {
     "grade": true,
     "grade_id": "cell-2a213cd1d4727fd2",
     "locked": true,
     "points": 1,
     "schema_version": 3,
     "solution": false,
     "task": false
    }
   },
   "outputs": [],
   "source": [
    "%%check\n",
    "signature count_movies titles\n",
    "count_movies(titles) == 3883\n",
    "count_movies(titles[10:]) == 3873"
   ]
  },
  {
   "cell_type": "markdown",
   "metadata": {},
   "source": [
    "#### Write a function `star_movies` that returns a List Comprehension to show all movies with the word Star in its title.\n",
    "\n",
    "Note that even without asking, you should always pass all the information you need through parameters and not use variables from outside the function."
   ]
  },
  {
   "cell_type": "code",
   "execution_count": null,
   "metadata": {
    "nbgrader": {
     "grade": false,
     "grade_id": "cell-4e2b68b300295b1e",
     "locked": false,
     "schema_version": 3,
     "solution": true,
     "task": false
    }
   },
   "outputs": [],
   "source": [
    "%%assignment\n",
    "### BEGIN SOLUTION\n",
    "def star_movies(titles):\n",
    "    return [ m for m in titles if 'Star' in m ]\n",
    "### END SOLUTION\n",
    "star_movies(titles)"
   ]
  },
  {
   "cell_type": "code",
   "execution_count": null,
   "metadata": {
    "nbgrader": {
     "grade": true,
     "grade_id": "cell-184e820bce86ced0",
     "locked": true,
     "points": 1,
     "schema_version": 3,
     "solution": false,
     "task": false
    }
   },
   "outputs": [],
   "source": [
    "%%check\n",
    "signature star_movies titles\n",
    "len(star_movies(titles)) == 29\n",
    "len(star_movies(titles[1000:])) == 22"
   ]
  }
 ],
 "metadata": {
  "celltoolbar": "Create Assignment",
  "kernelspec": {
   "display_name": "prog",
   "language": "python",
   "name": "prog"
  },
  "language_info": {
   "codemirror_mode": {
    "name": "ipython",
    "version": 3
   },
   "file_extension": ".py",
   "mimetype": "text/x-python",
   "name": "python",
   "nbconvert_exporter": "python",
   "pygments_lexer": "ipython3",
   "version": "3.8.8"
  }
 },
 "nbformat": 4,
 "nbformat_minor": 4
}
