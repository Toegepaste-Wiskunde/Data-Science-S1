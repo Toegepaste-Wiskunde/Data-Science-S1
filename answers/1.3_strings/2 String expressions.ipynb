{
 "cells": [
  {
   "cell_type": "markdown",
   "metadata": {},
   "source": [
    "# String expressions\n",
    "\n",
    "Just like with numerical expressions, we can also write expressions with Strings:\n",
    "- We can use the **+** operator to **concatenates** (or glue together) two strings.\n",
    "- We can also paste expressions in a so-called **f-string** (short for formatting string), by preceding the quotes with a `f` and placing the expressions you want inserted into text in between curly braces `{}`.\n",
    "- We can compare strings with `==` or `!=` (not equal), resulting in a boolean expression (True/False)"
   ]
  },
  {
   "cell_type": "markdown",
   "metadata": {},
   "source": [
    "# Examples: run these examples and see what they do."
   ]
  },
  {
   "cell_type": "code",
   "execution_count": null,
   "metadata": {},
   "outputs": [],
   "source": [
    "'Hello' + 'World'"
   ]
  },
  {
   "cell_type": "code",
   "execution_count": null,
   "metadata": {},
   "outputs": [],
   "source": [
    "name = 'Mark'\n",
    "'Hello ' + name"
   ]
  },
  {
   "cell_type": "code",
   "execution_count": null,
   "metadata": {},
   "outputs": [],
   "source": [
    " f'Hello {name}'"
   ]
  },
  {
   "cell_type": "code",
   "execution_count": null,
   "metadata": {},
   "outputs": [],
   "source": [
    "f'the result is {1 + 2}'"
   ]
  },
  {
   "cell_type": "markdown",
   "metadata": {},
   "source": [
    "You can also format the expressions in a formatting string as a float, by finishing the expression with `:f`, or `:.2f` for two decimal positions."
   ]
  },
  {
   "cell_type": "code",
   "execution_count": null,
   "metadata": {},
   "outputs": [],
   "source": [
    "f'the result is {1 + 2:f}'"
   ]
  },
  {
   "cell_type": "code",
   "execution_count": null,
   "metadata": {},
   "outputs": [],
   "source": [
    "pi = 3.1415\n",
    "r = 1\n",
    "f'the circumference of a circle with radius {r} is approx. {2 * pi * r:.2f}'"
   ]
  },
  {
   "cell_type": "code",
   "execution_count": null,
   "metadata": {},
   "outputs": [],
   "source": [
    "name = 'Jack'\n",
    "name == 'Jack'"
   ]
  },
  {
   "cell_type": "markdown",
   "metadata": {},
   "source": [
    "### Assignments: produce the Strings with the given variables"
   ]
  },
  {
   "cell_type": "markdown",
   "metadata": {},
   "source": [
    "Mr Mark"
   ]
  },
  {
   "cell_type": "code",
   "execution_count": null,
   "metadata": {},
   "outputs": [],
   "source": [
    "name='Mark'"
   ]
  },
  {
   "cell_type": "code",
   "execution_count": null,
   "metadata": {
    "nbgrader": {
     "grade": false,
     "grade_id": "cell-70665f94d2d0432f",
     "locked": false,
     "schema_version": 3,
     "solution": true,
     "task": false
    }
   },
   "outputs": [],
   "source": [
    "%%assignment\n",
    "### BEGIN SOLUTION\n",
    "'Mr ' + name\n",
    "### END SOLUTION"
   ]
  },
  {
   "cell_type": "code",
   "execution_count": null,
   "metadata": {
    "nbgrader": {
     "grade": true,
     "grade_id": "cell-fee9901060b372b4",
     "locked": true,
     "points": 1,
     "schema_version": 3,
     "solution": false,
     "task": false
    }
   },
   "outputs": [],
   "source": [
    "%%check\n",
    "' ' in result # There is a space missing\n",
    "name='Mark'\n",
    "result == 'Mr Mark'\n",
    "name='John'\n",
    "result == 'Mr John'"
   ]
  },
  {
   "cell_type": "markdown",
   "metadata": {},
   "source": [
    "Mr John"
   ]
  },
  {
   "cell_type": "code",
   "execution_count": null,
   "metadata": {},
   "outputs": [],
   "source": [
    "title='Mr'\n",
    "name='John'"
   ]
  },
  {
   "cell_type": "code",
   "execution_count": null,
   "metadata": {
    "nbgrader": {
     "grade": false,
     "grade_id": "cell-119bbd684d73b4de",
     "locked": false,
     "schema_version": 3,
     "solution": true,
     "task": false
    }
   },
   "outputs": [],
   "source": [
    "%%assignment\n",
    "### BEGIN SOLUTION\n",
    "title + ' ' + name\n",
    "### END SOLUTION"
   ]
  },
  {
   "cell_type": "code",
   "execution_count": null,
   "metadata": {
    "nbgrader": {
     "grade": true,
     "grade_id": "cell-4f66f20aaf8e46da",
     "locked": true,
     "points": 1,
     "schema_version": 3,
     "solution": false,
     "task": false
    }
   },
   "outputs": [],
   "source": [
    "%%check\n",
    "title,name='Mr','Mark'\n",
    "' ' in result # There is a space missing\n",
    "result == 'Mr Mark'\n",
    "title,name='Miss', 'Daisy'\n",
    "result == 'Miss Daisy'"
   ]
  },
  {
   "cell_type": "markdown",
   "metadata": {},
   "source": [
    "Donald has three nephews: Huey, Dewey, and Louie"
   ]
  },
  {
   "cell_type": "code",
   "execution_count": null,
   "metadata": {},
   "outputs": [],
   "source": [
    "nephew1 = 'Huey'\n",
    "nephew2 = 'Dewey'\n",
    "nephew3 = 'Louie'"
   ]
  },
  {
   "cell_type": "code",
   "execution_count": null,
   "metadata": {
    "nbgrader": {
     "grade": false,
     "grade_id": "cell-5488f30a5dbbc28a",
     "locked": false,
     "schema_version": 3,
     "solution": true,
     "task": false
    }
   },
   "outputs": [],
   "source": [
    "%%assignment\n",
    "### BEGIN SOLUTION\n",
    "f'Donald has three nephews: {nephew1}, {nephew2}, and {nephew3}'\n",
    "### END SOLUTION"
   ]
  },
  {
   "cell_type": "code",
   "execution_count": null,
   "metadata": {
    "nbgrader": {
     "grade": true,
     "grade_id": "cell-af05087b2afd6305",
     "locked": true,
     "points": 1,
     "schema_version": 3,
     "solution": false,
     "task": false
    }
   },
   "outputs": [],
   "source": [
    "%%check\n",
    "nephew1,nephew2,nephew3='Huey', 'Dewey', 'Louie'\n",
    "result == 'Donald has three nephews: Huey, Dewey, and Louie'\n",
    "nephew1,nephew2,nephew3='Jack','Jim','James'\n",
    "result == 'Donald has three nephews: Jack, Jim, and James'"
   ]
  },
  {
   "cell_type": "markdown",
   "metadata": {},
   "source": [
    "There are 1 apples and 2 oranges in the basket"
   ]
  },
  {
   "cell_type": "code",
   "execution_count": null,
   "metadata": {},
   "outputs": [],
   "source": [
    "apples=1\n",
    "orange=2"
   ]
  },
  {
   "cell_type": "code",
   "execution_count": null,
   "metadata": {
    "nbgrader": {
     "grade": false,
     "grade_id": "cell-fa74e9d8000e1ab6",
     "locked": false,
     "schema_version": 3,
     "solution": true,
     "task": false
    }
   },
   "outputs": [],
   "source": [
    "%%assignment\n",
    "### BEGIN SOLUTION\n",
    "f'There are {apples} apples and {orange} oranges in the basket'\n",
    "### END SOLUTION"
   ]
  },
  {
   "cell_type": "code",
   "execution_count": null,
   "metadata": {
    "nbgrader": {
     "grade": true,
     "grade_id": "cell-869d36449e8799e0",
     "locked": true,
     "points": 1,
     "schema_version": 3,
     "solution": false,
     "task": false
    }
   },
   "outputs": [],
   "source": [
    "%%check\n",
    "apples,orange=2,1\n",
    "result == 'There are 2 apples and 1 oranges in the basket'\n",
    "apples,orange=1,2\n",
    "result == 'There are 1 apples and 2 oranges in the basket'"
   ]
  },
  {
   "cell_type": "markdown",
   "metadata": {},
   "source": [
    "You have purchased 2 oranges, which are E1.50 each, for a total of E3.00"
   ]
  },
  {
   "cell_type": "code",
   "execution_count": null,
   "metadata": {},
   "outputs": [],
   "source": [
    "orange=2\n",
    "price=1.5"
   ]
  },
  {
   "cell_type": "code",
   "execution_count": null,
   "metadata": {
    "nbgrader": {
     "grade": false,
     "grade_id": "cell-e59d2cd8765cbd24",
     "locked": false,
     "schema_version": 3,
     "solution": true,
     "task": false
    }
   },
   "outputs": [],
   "source": [
    "%%assignment\n",
    "### BEGIN SOLUTION\n",
    "f'You have purchased {orange} oranges, which are E{price:.2f} each, for a total of E{orange*price:.2f}'\n",
    "### END SOLUTION"
   ]
  },
  {
   "cell_type": "code",
   "execution_count": null,
   "metadata": {
    "nbgrader": {
     "grade": true,
     "grade_id": "cell-1f58f3d43f1f82a2",
     "locked": true,
     "points": 1,
     "schema_version": 3,
     "solution": false,
     "task": false
    }
   },
   "outputs": [],
   "source": [
    "%%check\n",
    "orange,price=2,1.5\n",
    "result == 'You have purchased 2 oranges, which are E1.50 each, for a total of E3.00'\n",
    "orange,price=3,1\n",
    "result == 'You have purchased 3 oranges, which are E1.00 each, for a total of E3.00'"
   ]
  }
 ],
 "metadata": {
  "celltoolbar": "Create Assignment",
  "kernelspec": {
   "display_name": "prog",
   "language": "python",
   "name": "prog"
  },
  "language_info": {
   "codemirror_mode": {
    "name": "ipython",
    "version": 3
   },
   "file_extension": ".py",
   "mimetype": "text/x-python",
   "name": "python",
   "nbconvert_exporter": "python",
   "pygments_lexer": "ipython3",
   "version": "3.8.8"
  }
 },
 "nbformat": 4,
 "nbformat_minor": 4
}
