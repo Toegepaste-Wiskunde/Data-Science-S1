{
 "cells": [
  {
   "cell_type": "markdown",
   "metadata": {},
   "source": [
    "# Set\n",
    "\n",
    "So far, we have covered two types of collections in Python: list and tuple. The advantage of a tuple is that it is immutable and of a list that it is sortable. The disadvantage of lists and tuples is that they are very slow when you need to find a specific value. For this purpose, Python has a 'set'. A set is a collection in which all elements are unique. The values are not stored at indices but by a smart way that allows to find elements very efficiently.\n",
    "\n",
    "A literal set is created by summing up elements between curly braces `{}`. It is allowed to add duplicates, but as you can see, the end result is that every value only appears once. "
   ]
  },
  {
   "cell_type": "code",
   "execution_count": null,
   "metadata": {},
   "outputs": [],
   "source": [
    "places = {'Delft', 'Amsterdam', 'Delft', 'Leiden'}"
   ]
  },
  {
   "cell_type": "code",
   "execution_count": null,
   "metadata": {},
   "outputs": [],
   "source": [
    "places"
   ]
  },
  {
   "cell_type": "markdown",
   "metadata": {},
   "source": [
    "Typical use of sets is to efficiently maintain a collection of unique values, quickly check if a value is in a set and to iterate over a set. The following table lists common operations on sets:"
   ]
  },
  {
   "cell_type": "code",
   "execution_count": null,
   "metadata": {},
   "outputs": [],
   "source": [
    "a = {2, 5, 3, 5}\n",
    "b = {5, 4, 2}"
   ]
  },
  {
   "cell_type": "markdown",
   "metadata": {},
   "source": [
    "| code | result | comment | mathematical notation |\n",
    "|:-----|:-------|:--------|:--------|\n",
    "| 2 in a | True | True is the given element is in the set | $2\\in a$<br>$x$ is an element of $a$|\n",
    "| a.add(9) | a == {2, 3, 5, 9} | adds an elemment to the set | $a$ becomes $a\\cup\\{9\\}$<br>$a$ becomes the union of set a and the set $\\{9\\}$, <br>note that in mathematics we only have notation to unite sets,<br>there is no notation to add a single element to a set |\n",
    "| a.remove(2) | a == {3, 5} | removes an element from a set | $a$ becomes $a\\setminus \\{2\\}$<br>$a$ becomes the set difference of set $a$ and the set $\\{2\\}$ |\n",
    "| len(a) | 3 | A set is just like any iterable collection, <br>however, note that all elements are unique | $|a|$<br> this is the count of elements in $a$ |\n",
    "| sum(a) | 10 |  | no math notation |\n",
    "| set([1, 1, 2]) | {1, 2} | creates a set from the unique elements in a list | no math notation |\n",
    "| a.union(b) | {2, 3, 4, 5} | returns a union of two sets (a remains unchanged) | $ a\\cup b $ <br> set $a$ united with set $b$|\n",
    "| a.intersect(b) | {2, 5} | returns the intersect between two sets | $a\\cap b$ <br> set $a$ intersected with set $b$ |\n",
    "\n",
    "In mathematics it is custom to use capitals for set ($A, B, C$). When programming we can use lowercase letters if we like."
   ]
  },
  {
   "cell_type": "markdown",
   "metadata": {},
   "source": [
    "The last few examples show that we can apply set-operations on sets, therefore there are also function to check `issubset` and to get the `difference` between two sets. \n",
    "\n",
    "There are also some operations on lists that cannot be applied to sets: indexing, slicing, sorting, inserting at a position. Note that although it may seem that sets are sorted, there is no guarantee that they are. "
   ]
  },
  {
   "cell_type": "markdown",
   "metadata": {},
   "source": [
    "Note that set difference is not symmetrical, just as normal subtraction is not symmetrical ($5-3\\neq 3-5$).\n",
    "\n",
    "$\\{0, 1, 3, 8\\}\\setminus\\{3,8\\}={0, 1}$\n",
    "\n",
    "$\\{3,8\\}\\setminus\\{0, 1, 3, 8\\} = \\{\\} = \\emptyset$\n",
    "\n",
    "This last symbol is the empty set symbol. This is a set with no elements in it. Theoretically there exists only one empty set."
   ]
  },
  {
   "cell_type": "markdown",
   "metadata": {},
   "source": [
    "# Assignments"
   ]
  },
  {
   "cell_type": "markdown",
   "metadata": {},
   "source": [
    "#### Check if the value 3 and 5 are in `b`, in one expression"
   ]
  },
  {
   "cell_type": "code",
   "execution_count": null,
   "metadata": {},
   "outputs": [],
   "source": [
    "b = {3, 5, 7}"
   ]
  },
  {
   "cell_type": "code",
   "execution_count": null,
   "metadata": {
    "nbgrader": {
     "grade": false,
     "grade_id": "cell-3fb6a83a1d888826",
     "locked": false,
     "schema_version": 3,
     "solution": true,
     "task": false
    }
   },
   "outputs": [],
   "source": [
    "%%assignment\n",
    "### BEGIN SOLUTION\n",
    "3 in b and 5 in b\n",
    "### END SOLUTION"
   ]
  },
  {
   "cell_type": "code",
   "execution_count": null,
   "metadata": {
    "nbgrader": {
     "grade": true,
     "grade_id": "cell-e47fabb207b6fc8a",
     "locked": true,
     "points": 1,
     "schema_version": 3,
     "solution": false,
     "task": false
    }
   },
   "outputs": [],
   "source": [
    "%%check\n",
    "b = {3, 7, 8}\n",
    "not result\n",
    "b = {5, 7, 9}\n",
    "not result\n",
    "b = {3, 5, 7}\n",
    "result"
   ]
  },
  {
   "cell_type": "markdown",
   "metadata": {},
   "source": [
    "#### Create a literal set `vowel`, with the vowels 'a', 'e', 'i', 'o', 'u'."
   ]
  },
  {
   "cell_type": "code",
   "execution_count": null,
   "metadata": {
    "nbgrader": {
     "grade": false,
     "grade_id": "cell-6c9c17dcf0d6c066",
     "locked": false,
     "schema_version": 3,
     "solution": true,
     "task": false
    }
   },
   "outputs": [],
   "source": [
    "%%assignment\n",
    "### BEGIN SOLUTION\n",
    "vowel = {'a', 'e', 'i', 'o', 'u'}\n",
    "### END SOLUTION"
   ]
  },
  {
   "cell_type": "code",
   "execution_count": null,
   "metadata": {
    "nbgrader": {
     "grade": true,
     "grade_id": "cell-0bb365624fed9710",
     "locked": true,
     "points": 1,
     "schema_version": 3,
     "solution": false,
     "task": false
    }
   },
   "outputs": [],
   "source": [
    "%%check\n",
    "len(vowel) == 5\n",
    "'aeiou' == ''.join(sorted(vowel))"
   ]
  },
  {
   "cell_type": "markdown",
   "metadata": {},
   "source": [
    "#### Write a function `check_vowel`, that takes a `character` and returns True if the character is a vowel, or False otherwise.\n",
    "\n",
    "Note, you do not need use an `if` and return a True/False, since a comparison is already a Boolean, you can just return the result of a comparison."
   ]
  },
  {
   "cell_type": "code",
   "execution_count": null,
   "metadata": {
    "nbgrader": {
     "grade": false,
     "grade_id": "cell-f2defce33b84f0b6",
     "locked": false,
     "schema_version": 3,
     "solution": true,
     "task": false
    }
   },
   "outputs": [],
   "source": [
    "%%assignment\n",
    "### BEGIN SOLUTION\n",
    "def check_vowel(character):\n",
    "    return character in {'a', 'e', 'i', 'o', 'u'}\n",
    "### END SOLUTION"
   ]
  },
  {
   "cell_type": "code",
   "execution_count": null,
   "metadata": {
    "nbgrader": {
     "grade": true,
     "grade_id": "cell-daea08ee7089ccd7",
     "locked": true,
     "points": 1,
     "schema_version": 3,
     "solution": false,
     "task": false
    }
   },
   "outputs": [],
   "source": [
    "%%check\n",
    "signature check_vowel character\n",
    "vowel = 'aeiou'\n",
    "all(map(check_vowel, 'aeiou')) # Your check_vowel function does not return True for every vowel\n",
    "import string\n",
    "sum(map(check_vowel, string.ascii_lowercase)) == 5"
   ]
  },
  {
   "cell_type": "markdown",
   "metadata": {},
   "source": [
    "# Set vs List\n",
    "\n",
    "Note that for this last assignment, we could have used a `list` instead of a `set`. However, the lookup done with the `in` operator in a `set` is a magnitude faster. Therefore, for large collections, you will prefer to use sets to do lookups.\n",
    "\n",
    "We will do a little experiment, we will use a set and list that are populated with all even numbers smaller than 1 million."
   ]
  },
  {
   "cell_type": "code",
   "execution_count": null,
   "metadata": {},
   "outputs": [],
   "source": [
    "numbers_set = { i for i in range(1000000) if i % 2 == 0 }"
   ]
  },
  {
   "cell_type": "code",
   "execution_count": null,
   "metadata": {},
   "outputs": [],
   "source": [
    "numbers_list = [ i for i in range(1000000) if i % 2 == 0 ]"
   ]
  },
  {
   "cell_type": "markdown",
   "metadata": {},
   "source": [
    "Then we do a hundred lookups in each of them. The %%time reports the time it takes to execute a cell."
   ]
  },
  {
   "cell_type": "code",
   "execution_count": null,
   "metadata": {},
   "outputs": [],
   "source": [
    "%%time\n",
    "for i in range(1000):\n",
    "    if i in numbers_set:\n",
    "        pass"
   ]
  },
  {
   "cell_type": "code",
   "execution_count": null,
   "metadata": {},
   "outputs": [],
   "source": [
    "%%time\n",
    "for i in range(1000):\n",
    "    if i in numbers_list:\n",
    "        pass"
   ]
  },
  {
   "cell_type": "markdown",
   "metadata": {},
   "source": [
    "Since a µs is $10^{-6}$s, it is easy to see why we use sets, the lookups are around 40.000 times faster."
   ]
  },
  {
   "cell_type": "markdown",
   "metadata": {},
   "source": [
    "# A perculiar mathematical result\n",
    "In mathematics, we define two sets $A$ and $B$ of the same size, whe we can find a function that transforms an element of $A$ in an element of $B$ in such a way that we have an exact one-to-one correspondence.\n",
    "\n",
    "So, what do you think is a larger set, the set of all numbers or the set of even numbers?"
   ]
  },
  {
   "cell_type": "markdown",
   "metadata": {},
   "source": [
    "# Assignment\n",
    "Write a function `get_evens` that returns a set where each element is double the value of an element in `numbers`. The function receives `numbers` as an argument."
   ]
  },
  {
   "cell_type": "code",
   "execution_count": null,
   "metadata": {},
   "outputs": [],
   "source": [
    "%%assignment\n",
    "### BEGIN SOLUTION\n",
    "def get_evens(numbers):\n",
    "    return {2 * i for i in numbers}\n",
    "### END SOLUTION"
   ]
  },
  {
   "cell_type": "code",
   "execution_count": null,
   "metadata": {},
   "outputs": [],
   "source": [
    "%%check\n",
    "numbers = set(range(20))\n",
    "evens = get_evens(numbers)\n",
    "len(numbers) == len(evens)\n",
    "2 in evens\n",
    "not 3 in evens\n",
    "numbers = set(range(5))\n",
    "evens = get_evens(numbers)\n",
    "len(evens) == 5"
   ]
  },
  {
   "cell_type": "markdown",
   "metadata": {},
   "source": [
    "Execute your function with a set of the numbers 1 to 1000. Assign the result to the variable `evens`. Check if the number of numbers is the same as the number of evens. Assign the (boolean) result to the variable `same_length`."
   ]
  },
  {
   "cell_type": "code",
   "execution_count": null,
   "metadata": {},
   "outputs": [],
   "source": [
    "%%assignment\n",
    "numbers = set(range(1, 1000))\n",
    "### BEGIN SOLUTION\n",
    "evens = get_evens(numbers)\n",
    "same_length = len(numbers) == len(evens)\n",
    "### END SOLUTION\n",
    "same_length"
   ]
  },
  {
   "cell_type": "code",
   "execution_count": null,
   "metadata": {},
   "outputs": [],
   "source": [
    "%%check\n",
    "mandatory get_evens len\n",
    "same_length == True"
   ]
  },
  {
   "cell_type": "markdown",
   "metadata": {},
   "source": [
    "Note that the maximum of 1000 for the set numbers is chosen arbitrary. With every size of this set, we would have got the same result. The set `numbers` is always of equal size as the set `evens`.\n",
    "\n",
    "Programmatically we cannot extend this until infinity, but in mathematics we can. Thus a perculiar mathematical result is that there are as much (positive) numbers as there are positive even numbers!\n",
    "\n",
    "$|\\{1, 2, 3, ...\\}|=|\\{2, 4, 6, ...\\}|$"
   ]
  }
 ],
 "metadata": {
  "celltoolbar": "Create Assignment",
  "kernelspec": {
   "display_name": "prog",
   "language": "python",
   "name": "prog"
  },
  "language_info": {
   "codemirror_mode": {
    "name": "ipython",
    "version": 3
   },
   "file_extension": ".py",
   "mimetype": "text/x-python",
   "name": "python",
   "nbconvert_exporter": "python",
   "pygments_lexer": "ipython3",
   "version": "3.8.8"
  }
 },
 "nbformat": 4,
 "nbformat_minor": 4
}
