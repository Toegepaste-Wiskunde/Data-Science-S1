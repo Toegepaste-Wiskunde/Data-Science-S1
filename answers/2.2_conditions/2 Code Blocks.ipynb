{
 "cells": [
  {
   "cell_type": "markdown",
   "metadata": {},
   "source": [
    "# Code blocks\n",
    "\n",
    "If statements can also apply on multiple lines of code instead of just a single line. We refer to multiple lines of programming code belonging together as a 'code block'. Although an `if` statement is something that you generally find in any programming language, Python has a particular way to mark code blocks, which works by indentation (tabs or spaces from the left margin). \n",
    "\n",
    "```\n",
    "if condition:\n",
    "    code block\n",
    "    that consists\n",
    "    of multiple lines\n",
    "    that have the same indentation\n",
    "we exit the code block\n",
    "by jumping back to the \n",
    "previous indentation level\n",
    "```\n",
    "\n",
    "There are a few rules:\n",
    "- Indentation is often done by four spaces, but Python will accept any amount af spaces > 0\n",
    "- All lines in the code block must have the exact same indentation level, or you get a Syntax Error.\n",
    "- The code block ends if the indentation jumps back to the level before the code block, like the word 'we' in the above example, this marks the end of the code block.\n",
    "- Vertical spaces (empty lines) are meaningless and ignored by Python. But yu are welcome to add them if it makes your programming code more readable."
   ]
  },
  {
   "cell_type": "markdown",
   "metadata": {},
   "source": [
    "# Examples"
   ]
  },
  {
   "cell_type": "code",
   "execution_count": null,
   "metadata": {},
   "outputs": [],
   "source": [
    "a = 10\n",
    "if a > 20: # this is False, the entire code block is skipped\n",
    "    a = a + 1\n",
    "    a = a + 1\n",
    "a = a + 20 # this is outside the if, because the code block ends here, so this is executed\n",
    "if a < 35: # this is True, the entire code block is executed\n",
    "    a = a + 5\n",
    "    a = a + 5 # this line is also executed, even though a == 35 here, \n",
    "              # the condition a < 35 is not re-evaluated between the l. Once\n",
    "              # the decision is made to execute the code block, all lines are executed.\n",
    "a"
   ]
  },
  {
   "cell_type": "markdown",
   "metadata": {},
   "source": [
    "# Assignments"
   ]
  },
  {
   "cell_type": "markdown",
   "metadata": {},
   "source": [
    "#### What is a after the code would run?"
   ]
  },
  {
   "cell_type": "markdown",
   "metadata": {},
   "source": [
    "```\n",
    "a = 10\n",
    "if a > 20:\n",
    "    a = a + 1\n",
    "    a = a + 2\n",
    "```"
   ]
  },
  {
   "cell_type": "code",
   "execution_count": null,
   "metadata": {
    "nbgrader": {
     "grade": false,
     "grade_id": "cell-fa184bd52554a3cb",
     "locked": true,
     "schema_version": 3,
     "solution": false,
     "task": false
    }
   },
   "outputs": [],
   "source": [
    "%%slider codeblock1\n",
    "10 22 1"
   ]
  },
  {
   "cell_type": "code",
   "execution_count": null,
   "metadata": {
    "nbgrader": {
     "grade": true,
     "grade_id": "cell-708b94a082ebc47f",
     "locked": true,
     "points": 1,
     "schema_version": 3,
     "solution": false,
     "task": false
    }
   },
   "outputs": [],
   "source": [
    "%%check\n",
    "result == 8905082365601824"
   ]
  },
  {
   "cell_type": "markdown",
   "metadata": {},
   "source": [
    "```\n",
    "a = 10\n",
    "if a > 5:\n",
    "    a = a + 1\n",
    "    a = a + 2\n",
    "```"
   ]
  },
  {
   "cell_type": "code",
   "execution_count": null,
   "metadata": {
    "nbgrader": {
     "grade": false,
     "grade_id": "cell-9fe9d660b91a00bd",
     "locked": true,
     "schema_version": 3,
     "solution": false,
     "task": false
    }
   },
   "outputs": [],
   "source": [
    "%%slider codeblock2\n",
    "10 22 1"
   ]
  },
  {
   "cell_type": "code",
   "execution_count": null,
   "metadata": {
    "nbgrader": {
     "grade": true,
     "grade_id": "cell-a01d51551c326967",
     "locked": true,
     "points": 1,
     "schema_version": 3,
     "solution": false,
     "task": false
    }
   },
   "outputs": [],
   "source": [
    "%%check\n",
    "result == 6737380068994873"
   ]
  },
  {
   "cell_type": "markdown",
   "metadata": {},
   "source": [
    "```\n",
    "a = 10\n",
    "if a > 5:\n",
    "    a = a + 1\n",
    "a = a + 2\n",
    "```"
   ]
  },
  {
   "cell_type": "code",
   "execution_count": null,
   "metadata": {
    "nbgrader": {
     "grade": false,
     "grade_id": "cell-727d9683e811b0fb",
     "locked": true,
     "schema_version": 3,
     "solution": false,
     "task": false
    }
   },
   "outputs": [],
   "source": [
    "%%slider codeblock3\n",
    "10 22 1"
   ]
  },
  {
   "cell_type": "code",
   "execution_count": null,
   "metadata": {
    "nbgrader": {
     "grade": true,
     "grade_id": "cell-6553236394609050",
     "locked": true,
     "points": 1,
     "schema_version": 3,
     "solution": false,
     "task": false
    }
   },
   "outputs": [],
   "source": [
    "%%check\n",
    "result == 6737380068994873"
   ]
  },
  {
   "cell_type": "markdown",
   "metadata": {},
   "source": [
    "```\n",
    "a = 10\n",
    "if a > 5:\n",
    "    a = a + 1\n",
    "    a = a + 2\n",
    "a = a + 4\n",
    "```"
   ]
  },
  {
   "cell_type": "code",
   "execution_count": null,
   "metadata": {
    "nbgrader": {
     "grade": false,
     "grade_id": "cell-a431307772ec27e9",
     "locked": true,
     "schema_version": 3,
     "solution": false,
     "task": false
    }
   },
   "outputs": [],
   "source": [
    "%%slider codeblock4\n",
    "10 22 1"
   ]
  },
  {
   "cell_type": "code",
   "execution_count": null,
   "metadata": {
    "nbgrader": {
     "grade": true,
     "grade_id": "cell-b0bfc494fa6dc8c8",
     "locked": true,
     "points": 1,
     "schema_version": 3,
     "solution": false,
     "task": false
    }
   },
   "outputs": [],
   "source": [
    "%%check\n",
    "result == 547771667338747"
   ]
  },
  {
   "cell_type": "markdown",
   "metadata": {},
   "source": [
    "```\n",
    "a = 10\n",
    "if a > 15:\n",
    "    a = a + 1\n",
    "    a = a + 2\n",
    "a = a + 4\n",
    "```"
   ]
  },
  {
   "cell_type": "code",
   "execution_count": null,
   "metadata": {
    "nbgrader": {
     "grade": false,
     "grade_id": "cell-4b7979c2045c5418",
     "locked": true,
     "schema_version": 3,
     "solution": false,
     "task": false
    }
   },
   "outputs": [],
   "source": [
    "%%slider codeblock5\n",
    "10 22 1"
   ]
  },
  {
   "cell_type": "code",
   "execution_count": null,
   "metadata": {
    "nbgrader": {
     "grade": true,
     "grade_id": "cell-72fe6ccafb7c8600",
     "locked": true,
     "points": 1,
     "schema_version": 3,
     "solution": false,
     "task": false
    }
   },
   "outputs": [],
   "source": [
    "%%check\n",
    "result == 6709786703486038"
   ]
  },
  {
   "cell_type": "markdown",
   "metadata": {},
   "source": [
    "```\n",
    "a = 10\n",
    "if a > 15:\n",
    "    a = a + 1\n",
    "    \n",
    "    a = a + 2\n",
    "a = a + 4\n",
    "```"
   ]
  },
  {
   "cell_type": "code",
   "execution_count": null,
   "metadata": {
    "nbgrader": {
     "grade": false,
     "grade_id": "cell-69ed5c06d6ab5d1b",
     "locked": true,
     "schema_version": 3,
     "solution": false,
     "task": false
    }
   },
   "outputs": [],
   "source": [
    "%%slider codeblock6\n",
    "10 22 1"
   ]
  },
  {
   "cell_type": "code",
   "execution_count": null,
   "metadata": {
    "nbgrader": {
     "grade": true,
     "grade_id": "cell-3180478b37533e49",
     "locked": true,
     "points": 1,
     "schema_version": 3,
     "solution": false,
     "task": false
    }
   },
   "outputs": [],
   "source": [
    "%%check\n",
    "result == 6709786703486038"
   ]
  }
 ],
 "metadata": {
  "celltoolbar": "Create Assignment",
  "kernelspec": {
   "display_name": "prog",
   "language": "python",
   "name": "prog"
  },
  "language_info": {
   "codemirror_mode": {
    "name": "ipython",
    "version": 3
   },
   "file_extension": ".py",
   "mimetype": "text/x-python",
   "name": "python",
   "nbconvert_exporter": "python",
   "pygments_lexer": "ipython3",
   "version": "3.8.8"
  }
 },
 "nbformat": 4,
 "nbformat_minor": 4
}
