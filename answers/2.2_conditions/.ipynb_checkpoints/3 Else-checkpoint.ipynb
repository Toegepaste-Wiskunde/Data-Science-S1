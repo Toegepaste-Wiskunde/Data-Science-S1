{
 "cells": [
  {
   "cell_type": "markdown",
   "metadata": {},
   "source": [
    "# Else\n",
    "\n",
    "We can extend an if-statement with an `else`-clause:\n",
    "\n",
    "```\n",
    "if condition:\n",
    "    code block\n",
    "    with conditional statements\n",
    "else:\n",
    "    code block\n",
    "    with statements that are executed if the\n",
    "    condition is not met\n",
    "this is after the if-else\n",
    "so these lines will be executed regardless of the condition\n",
    "but after the if or else code block\n",
    "```\n",
    "\n",
    "Semantically this is almost the same as:\n",
    "```\n",
    "if condition:\n",
    "    code block\n",
    "    with conditional statements\n",
    "if not condition:\n",
    "    code block\n",
    "    with statements that are executed if the\n",
    "    condition is not met\n",
    "this is after the if-else\n",
    "so these lines will be executed regardless of the condition\n",
    "but after the if or else code block\n",
    "```\n",
    "\n",
    "Except when in the second example, the if conditional statements affect the outcome of the condition.\n"
   ]
  },
  {
   "cell_type": "markdown",
   "metadata": {},
   "source": [
    "# Examples"
   ]
  },
  {
   "cell_type": "markdown",
   "metadata": {},
   "source": [
    "Try the example here, with different values for `a`"
   ]
  },
  {
   "cell_type": "code",
   "execution_count": null,
   "metadata": {},
   "outputs": [],
   "source": [
    "a = 10\n",
    "b = 20\n",
    "if a > 10:\n",
    "    a = a + 10\n",
    "    b = b - 5\n",
    "else:\n",
    "    a = a - 1\n",
    "    b = b + 1\n",
    "f'a={a} b={b}'"
   ]
  },
  {
   "cell_type": "markdown",
   "metadata": {},
   "source": [
    "# Assignments"
   ]
  },
  {
   "cell_type": "markdown",
   "metadata": {},
   "source": [
    "#### Write code to increase the speed by 5 if the number of `road_users` < 5"
   ]
  },
  {
   "cell_type": "code",
   "execution_count": null,
   "metadata": {},
   "outputs": [],
   "source": [
    "speed = 50\n",
    "road_users = 3"
   ]
  },
  {
   "cell_type": "code",
   "execution_count": null,
   "metadata": {
    "nbgrader": {
     "grade": false,
     "grade_id": "cell-04d67dcfc26acd70",
     "locked": false,
     "schema_version": 3,
     "solution": true,
     "task": false
    }
   },
   "outputs": [],
   "source": [
    "%%assignment\n",
    "### BEGIN SOLUTION\n",
    "if road_users < 5:\n",
    "    speed = speed + 5\n",
    "### END SOLUTION"
   ]
  },
  {
   "cell_type": "code",
   "execution_count": null,
   "metadata": {
    "nbgrader": {
     "grade": true,
     "grade_id": "cell-9f242ee0d3faa2a7",
     "locked": true,
     "points": 1,
     "schema_version": 3,
     "solution": false,
     "task": false
    }
   },
   "outputs": [],
   "source": [
    "%%check\n",
    "speed, road_users = 50, 4\n",
    "speed == 55\n",
    "speed, road_users = 40, 5\n",
    "speed == 40"
   ]
  },
  {
   "cell_type": "markdown",
   "metadata": {},
   "source": [
    "#### Increase the speed by 5 if the number of `road_users` < 5 or otherwise decrease the speed by 1"
   ]
  },
  {
   "cell_type": "code",
   "execution_count": null,
   "metadata": {},
   "outputs": [],
   "source": [
    "speed = 50\n",
    "road_users = 3"
   ]
  },
  {
   "cell_type": "code",
   "execution_count": null,
   "metadata": {
    "nbgrader": {
     "grade": false,
     "grade_id": "cell-c2b17cca16ffc6bc",
     "locked": false,
     "schema_version": 3,
     "solution": true,
     "task": false
    }
   },
   "outputs": [],
   "source": [
    "%%assignment\n",
    "### BEGIN SOLUTION\n",
    "if road_users < 5:\n",
    "    speed = speed + 5\n",
    "else:\n",
    "    speed = speed - 1\n",
    "### END SOLUTION"
   ]
  },
  {
   "cell_type": "code",
   "execution_count": null,
   "metadata": {
    "nbgrader": {
     "grade": true,
     "grade_id": "cell-e1356cdd088e6cf3",
     "locked": true,
     "points": 1,
     "schema_version": 3,
     "solution": false,
     "task": false
    }
   },
   "outputs": [],
   "source": [
    "%%check\n",
    "speed, road_users = 50, 4\n",
    "speed == 55\n",
    "speed, road_users = 40, 5\n",
    "speed == 39"
   ]
  },
  {
   "cell_type": "markdown",
   "metadata": {},
   "source": [
    "#### The variable `price` specifies how much one drink costs. The normal price is \\$3. However, John should receive a special discount. When he buys more than 4 `drinks`, they are \\$2 each. Otherwise he pays the normal fee. Compute the `bill` (which must be the name of the variable) on the order by multiplying `price` with the number of drinks (specified by `drinks`)."
   ]
  },
  {
   "cell_type": "code",
   "execution_count": null,
   "metadata": {},
   "outputs": [],
   "source": [
    "name = 'John'\n",
    "drinks = 5"
   ]
  },
  {
   "cell_type": "code",
   "execution_count": null,
   "metadata": {
    "nbgrader": {
     "grade": false,
     "grade_id": "cell-783f0da4fcb12bd6",
     "locked": false,
     "schema_version": 3,
     "solution": true,
     "task": false
    }
   },
   "outputs": [],
   "source": [
    "%%assignment\n",
    "### BEGIN SOLUTION\n",
    "if name == 'John' and drinks > 4:\n",
    "    price=2\n",
    "else:\n",
    "    price=3\n",
    "bill = drinks * price\n",
    "### END SOLUTION"
   ]
  },
  {
   "cell_type": "code",
   "execution_count": null,
   "metadata": {
    "nbgrader": {
     "grade": true,
     "grade_id": "cell-2789b531e78656f9",
     "locked": true,
     "points": 1,
     "schema_version": 3,
     "solution": false,
     "task": false
    }
   },
   "outputs": [],
   "source": [
    "%%check\n",
    "name, drinks='John', 5\n",
    "bill == 10\n",
    "name, drinks='John', 4\n",
    "bill == 12\n",
    "name, drinks='Jack', 5\n",
    "bill == 15"
   ]
  }
 ],
 "metadata": {
  "celltoolbar": "Create Assignment",
  "kernelspec": {
   "display_name": "prog",
   "language": "python",
   "name": "prog"
  },
  "language_info": {
   "codemirror_mode": {
    "name": "ipython",
    "version": 3
   },
   "file_extension": ".py",
   "mimetype": "text/x-python",
   "name": "python",
   "nbconvert_exporter": "python",
   "pygments_lexer": "ipython3",
   "version": "3.8.8"
  }
 },
 "nbformat": 4,
 "nbformat_minor": 4
}
