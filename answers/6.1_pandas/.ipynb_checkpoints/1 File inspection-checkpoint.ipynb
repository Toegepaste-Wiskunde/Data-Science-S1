{
 "cells": [
  {
   "cell_type": "markdown",
   "metadata": {},
   "source": [
    "### Pandas\n",
    "Data scientists often work with large data sets that we need to inspect and manipulate. [Pandas](https://pandas.pydata.org/) is a popular package for handling datasets in Python, and will be often used in our data science courses. In this notebook we'll introduce the basics of loading and inspecting a data set with Pandas, which is typically imported with the name `pd`:"
   ]
  },
  {
   "cell_type": "code",
   "execution_count": 1,
   "metadata": {},
   "outputs": [],
   "source": [
    "import pandas as pd"
   ]
  },
  {
   "cell_type": "markdown",
   "metadata": {},
   "source": [
    "# File Inspection\n",
    "Data sets are often saved as comma-separated values (CSV) files. You can inspect these with Excel or a simple text editor. Here we use the `read_csv` function from Pandas to load a dataset on the trees in Delft. This data set is made by the city of Delft and is [publicly available](https://data.overheid.nl/dataset/bomen-in-beheer-door-gemeente-delft)."
   ]
  },
  {
   "cell_type": "code",
   "execution_count": 2,
   "metadata": {},
   "outputs": [],
   "source": [
    "trees_df = pd.read_csv('Bomen_in_beheer_door_gemeente_Delft.csv')"
   ]
  },
  {
   "cell_type": "markdown",
   "metadata": {},
   "source": [
    "The dataset is loaded to the variable `trees_df` which is part of the DataFrame class. The DataFrame is the most used class of the Pandas package. Requesting `trees_df` gives a short overview of the dataset:"
   ]
  },
  {
   "cell_type": "code",
   "execution_count": 3,
   "metadata": {},
   "outputs": [
    {
     "data": {
      "text/html": [
       "<div>\n",
       "<style scoped>\n",
       "    .dataframe tbody tr th:only-of-type {\n",
       "        vertical-align: middle;\n",
       "    }\n",
       "\n",
       "    .dataframe tbody tr th {\n",
       "        vertical-align: top;\n",
       "    }\n",
       "\n",
       "    .dataframe thead th {\n",
       "        text-align: right;\n",
       "    }\n",
       "</style>\n",
       "<table border=\"1\" class=\"dataframe\">\n",
       "  <thead>\n",
       "    <tr style=\"text-align: right;\">\n",
       "      <th></th>\n",
       "      <th>X</th>\n",
       "      <th>Y</th>\n",
       "      <th>ID</th>\n",
       "      <th>BORNAME</th>\n",
       "      <th>ELEMENTNUMMER</th>\n",
       "      <th>BEHEERGROEP</th>\n",
       "      <th>AANLEGJAAR</th>\n",
       "      <th>BOOMSORTIMENT</th>\n",
       "      <th>BOOMSTATUS</th>\n",
       "      <th>TAKVRIJE_ZONE</th>\n",
       "      <th>...</th>\n",
       "      <th>EXTRA_INFORMATIE_3</th>\n",
       "      <th>GROENGEBIEDCODE</th>\n",
       "      <th>GROENGEBIEDNAAM</th>\n",
       "      <th>GEMEENTE</th>\n",
       "      <th>BUURT</th>\n",
       "      <th>WIJK</th>\n",
       "      <th>LIGGING</th>\n",
       "      <th>BEHEEROBJECTSOORT</th>\n",
       "      <th>BEHEEROBJECTOMSCHRIJVING</th>\n",
       "      <th>OBJECTID</th>\n",
       "    </tr>\n",
       "  </thead>\n",
       "  <tbody>\n",
       "    <tr>\n",
       "      <th>0</th>\n",
       "      <td>4.374816</td>\n",
       "      <td>52.029683</td>\n",
       "      <td>37732</td>\n",
       "      <td>bomen</td>\n",
       "      <td>1151</td>\n",
       "      <td>Niet vrij uitgroeiende boom</td>\n",
       "      <td>NaN</td>\n",
       "      <td>Pyrus calleryana 'Chanticleer'</td>\n",
       "      <td>NaN</td>\n",
       "      <td>Bereikt</td>\n",
       "      <td>...</td>\n",
       "      <td>IC2</td>\n",
       "      <td>01.16.0001</td>\n",
       "      <td>Bedrijventerrein Ypenburgsepoort</td>\n",
       "      <td>Delft</td>\n",
       "      <td>Bedrijventerrein Ypenburgsepoort</td>\n",
       "      <td>16 Delftse Hout</td>\n",
       "      <td>Binnen de bebouwde kom</td>\n",
       "      <td>bm</td>\n",
       "      <td>01.16.0001.bm1151</td>\n",
       "      <td>1</td>\n",
       "    </tr>\n",
       "    <tr>\n",
       "      <th>1</th>\n",
       "      <td>4.373551</td>\n",
       "      <td>52.031048</td>\n",
       "      <td>37780</td>\n",
       "      <td>bomen</td>\n",
       "      <td>1184</td>\n",
       "      <td>Niet vrij uitgroeiende boom</td>\n",
       "      <td>NaN</td>\n",
       "      <td>Acer campestre</td>\n",
       "      <td>NaN</td>\n",
       "      <td>Onbereikbaar, snoeiingreep ongewenst</td>\n",
       "      <td>...</td>\n",
       "      <td>IC2</td>\n",
       "      <td>01.16.0001</td>\n",
       "      <td>Bedrijventerrein Ypenburgsepoort</td>\n",
       "      <td>Delft</td>\n",
       "      <td>Bedrijventerrein Ypenburgsepoort</td>\n",
       "      <td>16 Delftse Hout</td>\n",
       "      <td>Binnen de bebouwde kom</td>\n",
       "      <td>bm</td>\n",
       "      <td>01.16.0001.bm1184</td>\n",
       "      <td>2</td>\n",
       "    </tr>\n",
       "    <tr>\n",
       "      <th>2</th>\n",
       "      <td>4.345117</td>\n",
       "      <td>51.994902</td>\n",
       "      <td>8154</td>\n",
       "      <td>bomen</td>\n",
       "      <td>43</td>\n",
       "      <td>Niet vrij uitgroeiende boom</td>\n",
       "      <td>1980.0</td>\n",
       "      <td>Ulmus x hollandica 'Vegeta'</td>\n",
       "      <td>NaN</td>\n",
       "      <td>Onbereikbaar, snoeiingreep ongewenst</td>\n",
       "      <td>...</td>\n",
       "      <td>IC3</td>\n",
       "      <td>01.25.0005</td>\n",
       "      <td>Het Rode Dorp</td>\n",
       "      <td>Delft</td>\n",
       "      <td>Het Rode Dorp</td>\n",
       "      <td>25 Buitenhof</td>\n",
       "      <td>Binnen de bebouwde kom</td>\n",
       "      <td>bm</td>\n",
       "      <td>01.25.0005.bm43</td>\n",
       "      <td>3</td>\n",
       "    </tr>\n",
       "    <tr>\n",
       "      <th>3</th>\n",
       "      <td>4.352882</td>\n",
       "      <td>52.013582</td>\n",
       "      <td>14766</td>\n",
       "      <td>bomen</td>\n",
       "      <td>89</td>\n",
       "      <td>Niet vrij uitgroeiende boom</td>\n",
       "      <td>1968.0</td>\n",
       "      <td>Aesculus hippocastanum 'Baumannii'</td>\n",
       "      <td>NaN</td>\n",
       "      <td>Onbereikbaar, snoeiingreep ongewenst</td>\n",
       "      <td>...</td>\n",
       "      <td>IC1</td>\n",
       "      <td>01.11.0002</td>\n",
       "      <td>Centrum-west</td>\n",
       "      <td>Delft</td>\n",
       "      <td>Centrum-West</td>\n",
       "      <td>11 Binnenstad</td>\n",
       "      <td>Binnen de bebouwde kom</td>\n",
       "      <td>bm</td>\n",
       "      <td>01.11.0002.bm89</td>\n",
       "      <td>4</td>\n",
       "    </tr>\n",
       "    <tr>\n",
       "      <th>4</th>\n",
       "      <td>4.357415</td>\n",
       "      <td>51.993470</td>\n",
       "      <td>17389</td>\n",
       "      <td>bomen</td>\n",
       "      <td>252</td>\n",
       "      <td>Niet vrij uitgroeiende boom</td>\n",
       "      <td>1968.0</td>\n",
       "      <td>Aesculus hippocastanum 'Baumannii'</td>\n",
       "      <td>NaN</td>\n",
       "      <td>Onbereikbaar, snoeiingreep ongewenst</td>\n",
       "      <td>...</td>\n",
       "      <td>IC3</td>\n",
       "      <td>01.24.0006</td>\n",
       "      <td>Voorhof-hoogbouw</td>\n",
       "      <td>Delft</td>\n",
       "      <td>Voorhof-Hoogbouw</td>\n",
       "      <td>24 Voorhof</td>\n",
       "      <td>Binnen de bebouwde kom</td>\n",
       "      <td>bm</td>\n",
       "      <td>01.24.0006.bm252</td>\n",
       "      <td>5</td>\n",
       "    </tr>\n",
       "    <tr>\n",
       "      <th>...</th>\n",
       "      <td>...</td>\n",
       "      <td>...</td>\n",
       "      <td>...</td>\n",
       "      <td>...</td>\n",
       "      <td>...</td>\n",
       "      <td>...</td>\n",
       "      <td>...</td>\n",
       "      <td>...</td>\n",
       "      <td>...</td>\n",
       "      <td>...</td>\n",
       "      <td>...</td>\n",
       "      <td>...</td>\n",
       "      <td>...</td>\n",
       "      <td>...</td>\n",
       "      <td>...</td>\n",
       "      <td>...</td>\n",
       "      <td>...</td>\n",
       "      <td>...</td>\n",
       "      <td>...</td>\n",
       "      <td>...</td>\n",
       "      <td>...</td>\n",
       "    </tr>\n",
       "    <tr>\n",
       "      <th>35378</th>\n",
       "      <td>4.343097</td>\n",
       "      <td>51.992807</td>\n",
       "      <td>35294</td>\n",
       "      <td>bomen</td>\n",
       "      <td>489</td>\n",
       "      <td>Boom Nader te bepalen</td>\n",
       "      <td>1983.0</td>\n",
       "      <td>Betula pendula</td>\n",
       "      <td>NaN</td>\n",
       "      <td>NaN</td>\n",
       "      <td>...</td>\n",
       "      <td>IC3</td>\n",
       "      <td>01.25.0003</td>\n",
       "      <td>Gillisbuurt</td>\n",
       "      <td>Delft</td>\n",
       "      <td>NaN</td>\n",
       "      <td>25 Buitenhof</td>\n",
       "      <td>Binnen de bebouwde kom</td>\n",
       "      <td>bm</td>\n",
       "      <td>01.25.0003.bm489</td>\n",
       "      <td>35379</td>\n",
       "    </tr>\n",
       "    <tr>\n",
       "      <th>35379</th>\n",
       "      <td>4.343493</td>\n",
       "      <td>51.993034</td>\n",
       "      <td>35296</td>\n",
       "      <td>bomen</td>\n",
       "      <td>491</td>\n",
       "      <td>Boom Nader te bepalen</td>\n",
       "      <td>1983.0</td>\n",
       "      <td>Crataegus laevigata</td>\n",
       "      <td>NaN</td>\n",
       "      <td>NaN</td>\n",
       "      <td>...</td>\n",
       "      <td>IC3</td>\n",
       "      <td>01.25.0003</td>\n",
       "      <td>Gillisbuurt</td>\n",
       "      <td>Delft</td>\n",
       "      <td>NaN</td>\n",
       "      <td>25 Buitenhof</td>\n",
       "      <td>Binnen de bebouwde kom</td>\n",
       "      <td>bm</td>\n",
       "      <td>01.25.0003.bm491</td>\n",
       "      <td>35380</td>\n",
       "    </tr>\n",
       "    <tr>\n",
       "      <th>35380</th>\n",
       "      <td>4.343393</td>\n",
       "      <td>51.992935</td>\n",
       "      <td>35297</td>\n",
       "      <td>bomen</td>\n",
       "      <td>492</td>\n",
       "      <td>Boom Nader te bepalen</td>\n",
       "      <td>1983.0</td>\n",
       "      <td>Betula pendula</td>\n",
       "      <td>NaN</td>\n",
       "      <td>Bereikt</td>\n",
       "      <td>...</td>\n",
       "      <td>IC3</td>\n",
       "      <td>01.25.0003</td>\n",
       "      <td>Gillisbuurt</td>\n",
       "      <td>Delft</td>\n",
       "      <td>NaN</td>\n",
       "      <td>25 Buitenhof</td>\n",
       "      <td>Binnen de bebouwde kom</td>\n",
       "      <td>bm</td>\n",
       "      <td>01.25.0003.bm492</td>\n",
       "      <td>35381</td>\n",
       "    </tr>\n",
       "    <tr>\n",
       "      <th>35381</th>\n",
       "      <td>4.343578</td>\n",
       "      <td>51.992749</td>\n",
       "      <td>35301</td>\n",
       "      <td>bomen</td>\n",
       "      <td>495</td>\n",
       "      <td>Niet vrij uitgroeiende boom</td>\n",
       "      <td>1983.0</td>\n",
       "      <td>Fraxinus excelsior</td>\n",
       "      <td>NaN</td>\n",
       "      <td>Onbereikbaar, snoeiingreep ongewenst</td>\n",
       "      <td>...</td>\n",
       "      <td>IC3</td>\n",
       "      <td>01.25.0003</td>\n",
       "      <td>Gillisbuurt</td>\n",
       "      <td>Delft</td>\n",
       "      <td>NaN</td>\n",
       "      <td>25 Buitenhof</td>\n",
       "      <td>Binnen de bebouwde kom</td>\n",
       "      <td>bm</td>\n",
       "      <td>01.25.0003.bm495</td>\n",
       "      <td>35382</td>\n",
       "    </tr>\n",
       "    <tr>\n",
       "      <th>35382</th>\n",
       "      <td>4.343506</td>\n",
       "      <td>51.992816</td>\n",
       "      <td>35302</td>\n",
       "      <td>bomen</td>\n",
       "      <td>496</td>\n",
       "      <td>Niet vrij uitgroeiende boom</td>\n",
       "      <td>1983.0</td>\n",
       "      <td>Acer campestre</td>\n",
       "      <td>NaN</td>\n",
       "      <td>Onbereikbaar, snoeiingreep ongewenst</td>\n",
       "      <td>...</td>\n",
       "      <td>IC3</td>\n",
       "      <td>01.25.0003</td>\n",
       "      <td>Gillisbuurt</td>\n",
       "      <td>Delft</td>\n",
       "      <td>NaN</td>\n",
       "      <td>25 Buitenhof</td>\n",
       "      <td>Binnen de bebouwde kom</td>\n",
       "      <td>bm</td>\n",
       "      <td>01.25.0003.bm496</td>\n",
       "      <td>35383</td>\n",
       "    </tr>\n",
       "  </tbody>\n",
       "</table>\n",
       "<p>35383 rows × 28 columns</p>\n",
       "</div>"
      ],
      "text/plain": [
       "              X          Y     ID BORNAME  ELEMENTNUMMER  \\\n",
       "0      4.374816  52.029683  37732   bomen           1151   \n",
       "1      4.373551  52.031048  37780   bomen           1184   \n",
       "2      4.345117  51.994902   8154   bomen             43   \n",
       "3      4.352882  52.013582  14766   bomen             89   \n",
       "4      4.357415  51.993470  17389   bomen            252   \n",
       "...         ...        ...    ...     ...            ...   \n",
       "35378  4.343097  51.992807  35294   bomen            489   \n",
       "35379  4.343493  51.993034  35296   bomen            491   \n",
       "35380  4.343393  51.992935  35297   bomen            492   \n",
       "35381  4.343578  51.992749  35301   bomen            495   \n",
       "35382  4.343506  51.992816  35302   bomen            496   \n",
       "\n",
       "                       BEHEERGROEP  AANLEGJAAR  \\\n",
       "0      Niet vrij uitgroeiende boom         NaN   \n",
       "1      Niet vrij uitgroeiende boom         NaN   \n",
       "2      Niet vrij uitgroeiende boom      1980.0   \n",
       "3      Niet vrij uitgroeiende boom      1968.0   \n",
       "4      Niet vrij uitgroeiende boom      1968.0   \n",
       "...                            ...         ...   \n",
       "35378        Boom Nader te bepalen      1983.0   \n",
       "35379        Boom Nader te bepalen      1983.0   \n",
       "35380        Boom Nader te bepalen      1983.0   \n",
       "35381  Niet vrij uitgroeiende boom      1983.0   \n",
       "35382  Niet vrij uitgroeiende boom      1983.0   \n",
       "\n",
       "                            BOOMSORTIMENT BOOMSTATUS  \\\n",
       "0          Pyrus calleryana 'Chanticleer'        NaN   \n",
       "1                          Acer campestre        NaN   \n",
       "2             Ulmus x hollandica 'Vegeta'        NaN   \n",
       "3      Aesculus hippocastanum 'Baumannii'        NaN   \n",
       "4      Aesculus hippocastanum 'Baumannii'        NaN   \n",
       "...                                   ...        ...   \n",
       "35378                      Betula pendula        NaN   \n",
       "35379                 Crataegus laevigata        NaN   \n",
       "35380                      Betula pendula        NaN   \n",
       "35381                  Fraxinus excelsior        NaN   \n",
       "35382                      Acer campestre        NaN   \n",
       "\n",
       "                              TAKVRIJE_ZONE  ... EXTRA_INFORMATIE_3  \\\n",
       "0                                   Bereikt  ...                IC2   \n",
       "1      Onbereikbaar, snoeiingreep ongewenst  ...                IC2   \n",
       "2      Onbereikbaar, snoeiingreep ongewenst  ...                IC3   \n",
       "3      Onbereikbaar, snoeiingreep ongewenst  ...                IC1   \n",
       "4      Onbereikbaar, snoeiingreep ongewenst  ...                IC3   \n",
       "...                                     ...  ...                ...   \n",
       "35378                                   NaN  ...                IC3   \n",
       "35379                                   NaN  ...                IC3   \n",
       "35380                               Bereikt  ...                IC3   \n",
       "35381  Onbereikbaar, snoeiingreep ongewenst  ...                IC3   \n",
       "35382  Onbereikbaar, snoeiingreep ongewenst  ...                IC3   \n",
       "\n",
       "      GROENGEBIEDCODE                   GROENGEBIEDNAAM  GEMEENTE  \\\n",
       "0          01.16.0001  Bedrijventerrein Ypenburgsepoort     Delft   \n",
       "1          01.16.0001  Bedrijventerrein Ypenburgsepoort     Delft   \n",
       "2          01.25.0005                     Het Rode Dorp     Delft   \n",
       "3          01.11.0002                      Centrum-west     Delft   \n",
       "4          01.24.0006                  Voorhof-hoogbouw     Delft   \n",
       "...               ...                               ...       ...   \n",
       "35378      01.25.0003                       Gillisbuurt     Delft   \n",
       "35379      01.25.0003                       Gillisbuurt     Delft   \n",
       "35380      01.25.0003                       Gillisbuurt     Delft   \n",
       "35381      01.25.0003                       Gillisbuurt     Delft   \n",
       "35382      01.25.0003                       Gillisbuurt     Delft   \n",
       "\n",
       "                                  BUURT             WIJK  \\\n",
       "0      Bedrijventerrein Ypenburgsepoort  16 Delftse Hout   \n",
       "1      Bedrijventerrein Ypenburgsepoort  16 Delftse Hout   \n",
       "2                         Het Rode Dorp     25 Buitenhof   \n",
       "3                          Centrum-West    11 Binnenstad   \n",
       "4                      Voorhof-Hoogbouw       24 Voorhof   \n",
       "...                                 ...              ...   \n",
       "35378                               NaN     25 Buitenhof   \n",
       "35379                               NaN     25 Buitenhof   \n",
       "35380                               NaN     25 Buitenhof   \n",
       "35381                               NaN     25 Buitenhof   \n",
       "35382                               NaN     25 Buitenhof   \n",
       "\n",
       "                      LIGGING BEHEEROBJECTSOORT BEHEEROBJECTOMSCHRIJVING  \\\n",
       "0      Binnen de bebouwde kom                bm        01.16.0001.bm1151   \n",
       "1      Binnen de bebouwde kom                bm        01.16.0001.bm1184   \n",
       "2      Binnen de bebouwde kom                bm          01.25.0005.bm43   \n",
       "3      Binnen de bebouwde kom                bm          01.11.0002.bm89   \n",
       "4      Binnen de bebouwde kom                bm         01.24.0006.bm252   \n",
       "...                       ...               ...                      ...   \n",
       "35378  Binnen de bebouwde kom                bm         01.25.0003.bm489   \n",
       "35379  Binnen de bebouwde kom                bm         01.25.0003.bm491   \n",
       "35380  Binnen de bebouwde kom                bm         01.25.0003.bm492   \n",
       "35381  Binnen de bebouwde kom                bm         01.25.0003.bm495   \n",
       "35382  Binnen de bebouwde kom                bm         01.25.0003.bm496   \n",
       "\n",
       "      OBJECTID  \n",
       "0            1  \n",
       "1            2  \n",
       "2            3  \n",
       "3            4  \n",
       "4            5  \n",
       "...        ...  \n",
       "35378    35379  \n",
       "35379    35380  \n",
       "35380    35381  \n",
       "35381    35382  \n",
       "35382    35383  \n",
       "\n",
       "[35383 rows x 28 columns]"
      ]
     },
     "execution_count": 3,
     "metadata": {},
     "output_type": "execute_result"
    }
   ],
   "source": [
    "trees_df"
   ]
  },
  {
   "cell_type": "markdown",
   "metadata": {},
   "source": [
    "This DataFrame has 35384 rows that represent the different objects in the dataset and 28 columns that represent the different properties of each object. The output actually has 29 columns, but the first \"column\" doesn't have a label. This first column contains the index of each object, which in this case is a number, but can also be a string.  \n",
    "\n",
    "Note that the DataFrame holds different variable types:\n",
    "- `float` (X,Y)\n",
    "- `int` (ID,ELEMENTNUMMER)\n",
    "- `string` (BEHEERGROEP,BOOMSORTIMENT)."
   ]
  },
  {
   "cell_type": "markdown",
   "metadata": {},
   "source": [
    "We don't have to inspect the table itself to get its size, the column labels, and the variable types. These are attributes of the DataFrame that can be accessed directly. For instance the size of the table is requested with attribute `shape`:"
   ]
  },
  {
   "cell_type": "code",
   "execution_count": 4,
   "metadata": {},
   "outputs": [
    {
     "data": {
      "text/plain": [
       "(35383, 28)"
      ]
     },
     "execution_count": 4,
     "metadata": {},
     "output_type": "execute_result"
    }
   ],
   "source": [
    "trees_df.shape # show the number of rows and columns"
   ]
  },
  {
   "cell_type": "markdown",
   "metadata": {},
   "source": [
    "The column labels can be found with the attribute `columns`. Show the column labels below."
   ]
  },
  {
   "cell_type": "code",
   "execution_count": 5,
   "metadata": {},
   "outputs": [
    {
     "data": {
      "text/plain": [
       "Index(['X', 'Y', 'ID', 'BORNAME', 'ELEMENTNUMMER', 'BEHEERGROEP', 'AANLEGJAAR',\n",
       "       'BOOMSORTIMENT', 'BOOMSTATUS', 'TAKVRIJE_ZONE',\n",
       "       'OMGEVINGSRISICOKLASSEN', 'AMBITIENIVEAU', 'HOOGTE', 'DIAMETER',\n",
       "       'STANDPLAATS', 'BEHEERDER', 'EIGENAAR', 'EXTRA_INFORMATIE_2',\n",
       "       'EXTRA_INFORMATIE_3', 'GROENGEBIEDCODE', 'GROENGEBIEDNAAM', 'GEMEENTE',\n",
       "       'BUURT', 'WIJK', 'LIGGING', 'BEHEEROBJECTSOORT',\n",
       "       'BEHEEROBJECTOMSCHRIJVING', 'OBJECTID'],\n",
       "      dtype='object')"
      ]
     },
     "execution_count": 5,
     "metadata": {},
     "output_type": "execute_result"
    }
   ],
   "source": [
    "%%assignment\n",
    "# YOUR CODE HERE\n",
    "trees_df.columns"
   ]
  },
  {
   "cell_type": "code",
   "execution_count": 6,
   "metadata": {},
   "outputs": [
    {
     "data": {
      "text/html": [
       "<table><tr style=\"background: green; color: white\"><td style=\"text-align:left\">Correct!</td></tr></table>"
      ],
      "text/plain": [
       "<IPython.core.display.HTML object>"
      ]
     },
     "metadata": {
      "text/html": {
       "username": "willem"
      }
     },
     "output_type": "display_data"
    }
   ],
   "source": [
    "%%check\n",
    "len(result) == 28\n",
    "'BOOMSORTIMENT','TAKVRIJE_ZONE','GROENGEBIEDCODE' in result"
   ]
  },
  {
   "cell_type": "markdown",
   "metadata": {},
   "source": [
    "Similarly, show the variable types with the attribute `dtypes`."
   ]
  },
  {
   "cell_type": "code",
   "execution_count": 7,
   "metadata": {},
   "outputs": [
    {
     "data": {
      "text/plain": [
       "X                           float64\n",
       "Y                           float64\n",
       "ID                            int64\n",
       "BORNAME                      object\n",
       "ELEMENTNUMMER                 int64\n",
       "BEHEERGROEP                  object\n",
       "AANLEGJAAR                  float64\n",
       "BOOMSORTIMENT                object\n",
       "BOOMSTATUS                   object\n",
       "TAKVRIJE_ZONE                object\n",
       "OMGEVINGSRISICOKLASSEN       object\n",
       "AMBITIENIVEAU                object\n",
       "HOOGTE                       object\n",
       "DIAMETER                    float64\n",
       "STANDPLAATS                  object\n",
       "BEHEERDER                    object\n",
       "EIGENAAR                     object\n",
       "EXTRA_INFORMATIE_2           object\n",
       "EXTRA_INFORMATIE_3           object\n",
       "GROENGEBIEDCODE              object\n",
       "GROENGEBIEDNAAM              object\n",
       "GEMEENTE                     object\n",
       "BUURT                        object\n",
       "WIJK                         object\n",
       "LIGGING                      object\n",
       "BEHEEROBJECTSOORT            object\n",
       "BEHEEROBJECTOMSCHRIJVING     object\n",
       "OBJECTID                      int64\n",
       "dtype: object"
      ]
     },
     "execution_count": 7,
     "metadata": {},
     "output_type": "execute_result"
    }
   ],
   "source": [
    "%%assignment\n",
    "# YOUR CODE HERE\n",
    "trees_df.dtypes"
   ]
  },
  {
   "cell_type": "code",
   "execution_count": 8,
   "metadata": {},
   "outputs": [
    {
     "data": {
      "text/html": [
       "<table><tr style=\"background: green; color: white\"><td style=\"text-align:left\">Correct!</td></tr></table>"
      ],
      "text/plain": [
       "<IPython.core.display.HTML object>"
      ]
     },
     "metadata": {
      "text/html": {
       "username": "willem"
      }
     },
     "output_type": "display_data"
    }
   ],
   "source": [
    "%%check\n",
    "len(result) == 28\n",
    "result['DIAMETER'].name == 'float64'\n",
    "result['ID'].name == 'int64'\n",
    "result['GROENGEBIEDCODE'].name == 'object'"
   ]
  },
  {
   "cell_type": "markdown",
   "metadata": {},
   "source": [
    "The row labels are requested with the attribute `index`:"
   ]
  },
  {
   "cell_type": "code",
   "execution_count": 9,
   "metadata": {},
   "outputs": [
    {
     "data": {
      "text/plain": [
       "RangeIndex(start=0, stop=35383, step=1)"
      ]
     },
     "execution_count": 9,
     "metadata": {},
     "output_type": "execute_result"
    }
   ],
   "source": [
    "trees_df.index"
   ]
  },
  {
   "cell_type": "markdown",
   "metadata": {},
   "source": [
    "Currently, `index` returns an iterator that numbers each row. However, we can also specify to use one of the columns as row label. This is done by setting the option `index_col` of `read_csv` to the desired column label. \n",
    "In the current file, the column `ID` seems a good candidate as row label. Reload the dataset to the variable `df2` with the values of `ID` as row labels."
   ]
  },
  {
   "cell_type": "code",
   "execution_count": 10,
   "metadata": {},
   "outputs": [
    {
     "data": {
      "text/html": [
       "<div>\n",
       "<style scoped>\n",
       "    .dataframe tbody tr th:only-of-type {\n",
       "        vertical-align: middle;\n",
       "    }\n",
       "\n",
       "    .dataframe tbody tr th {\n",
       "        vertical-align: top;\n",
       "    }\n",
       "\n",
       "    .dataframe thead th {\n",
       "        text-align: right;\n",
       "    }\n",
       "</style>\n",
       "<table border=\"1\" class=\"dataframe\">\n",
       "  <thead>\n",
       "    <tr style=\"text-align: right;\">\n",
       "      <th></th>\n",
       "      <th>X</th>\n",
       "      <th>Y</th>\n",
       "      <th>BORNAME</th>\n",
       "      <th>ELEMENTNUMMER</th>\n",
       "      <th>BEHEERGROEP</th>\n",
       "      <th>AANLEGJAAR</th>\n",
       "      <th>BOOMSORTIMENT</th>\n",
       "      <th>BOOMSTATUS</th>\n",
       "      <th>TAKVRIJE_ZONE</th>\n",
       "      <th>OMGEVINGSRISICOKLASSEN</th>\n",
       "      <th>...</th>\n",
       "      <th>EXTRA_INFORMATIE_3</th>\n",
       "      <th>GROENGEBIEDCODE</th>\n",
       "      <th>GROENGEBIEDNAAM</th>\n",
       "      <th>GEMEENTE</th>\n",
       "      <th>BUURT</th>\n",
       "      <th>WIJK</th>\n",
       "      <th>LIGGING</th>\n",
       "      <th>BEHEEROBJECTSOORT</th>\n",
       "      <th>BEHEEROBJECTOMSCHRIJVING</th>\n",
       "      <th>OBJECTID</th>\n",
       "    </tr>\n",
       "    <tr>\n",
       "      <th>ID</th>\n",
       "      <th></th>\n",
       "      <th></th>\n",
       "      <th></th>\n",
       "      <th></th>\n",
       "      <th></th>\n",
       "      <th></th>\n",
       "      <th></th>\n",
       "      <th></th>\n",
       "      <th></th>\n",
       "      <th></th>\n",
       "      <th></th>\n",
       "      <th></th>\n",
       "      <th></th>\n",
       "      <th></th>\n",
       "      <th></th>\n",
       "      <th></th>\n",
       "      <th></th>\n",
       "      <th></th>\n",
       "      <th></th>\n",
       "      <th></th>\n",
       "      <th></th>\n",
       "    </tr>\n",
       "  </thead>\n",
       "  <tbody>\n",
       "    <tr>\n",
       "      <th>37732</th>\n",
       "      <td>4.374816</td>\n",
       "      <td>52.029683</td>\n",
       "      <td>bomen</td>\n",
       "      <td>1151</td>\n",
       "      <td>Niet vrij uitgroeiende boom</td>\n",
       "      <td>NaN</td>\n",
       "      <td>Pyrus calleryana 'Chanticleer'</td>\n",
       "      <td>NaN</td>\n",
       "      <td>Bereikt</td>\n",
       "      <td>Verhoogd</td>\n",
       "      <td>...</td>\n",
       "      <td>IC2</td>\n",
       "      <td>01.16.0001</td>\n",
       "      <td>Bedrijventerrein Ypenburgsepoort</td>\n",
       "      <td>Delft</td>\n",
       "      <td>Bedrijventerrein Ypenburgsepoort</td>\n",
       "      <td>16 Delftse Hout</td>\n",
       "      <td>Binnen de bebouwde kom</td>\n",
       "      <td>bm</td>\n",
       "      <td>01.16.0001.bm1151</td>\n",
       "      <td>1</td>\n",
       "    </tr>\n",
       "    <tr>\n",
       "      <th>37780</th>\n",
       "      <td>4.373551</td>\n",
       "      <td>52.031048</td>\n",
       "      <td>bomen</td>\n",
       "      <td>1184</td>\n",
       "      <td>Niet vrij uitgroeiende boom</td>\n",
       "      <td>NaN</td>\n",
       "      <td>Acer campestre</td>\n",
       "      <td>NaN</td>\n",
       "      <td>Onbereikbaar, snoeiingreep ongewenst</td>\n",
       "      <td>Algemeen</td>\n",
       "      <td>...</td>\n",
       "      <td>IC2</td>\n",
       "      <td>01.16.0001</td>\n",
       "      <td>Bedrijventerrein Ypenburgsepoort</td>\n",
       "      <td>Delft</td>\n",
       "      <td>Bedrijventerrein Ypenburgsepoort</td>\n",
       "      <td>16 Delftse Hout</td>\n",
       "      <td>Binnen de bebouwde kom</td>\n",
       "      <td>bm</td>\n",
       "      <td>01.16.0001.bm1184</td>\n",
       "      <td>2</td>\n",
       "    </tr>\n",
       "    <tr>\n",
       "      <th>8154</th>\n",
       "      <td>4.345117</td>\n",
       "      <td>51.994902</td>\n",
       "      <td>bomen</td>\n",
       "      <td>43</td>\n",
       "      <td>Niet vrij uitgroeiende boom</td>\n",
       "      <td>1980.0</td>\n",
       "      <td>Ulmus x hollandica 'Vegeta'</td>\n",
       "      <td>NaN</td>\n",
       "      <td>Onbereikbaar, snoeiingreep ongewenst</td>\n",
       "      <td>Algemeen</td>\n",
       "      <td>...</td>\n",
       "      <td>IC3</td>\n",
       "      <td>01.25.0005</td>\n",
       "      <td>Het Rode Dorp</td>\n",
       "      <td>Delft</td>\n",
       "      <td>Het Rode Dorp</td>\n",
       "      <td>25 Buitenhof</td>\n",
       "      <td>Binnen de bebouwde kom</td>\n",
       "      <td>bm</td>\n",
       "      <td>01.25.0005.bm43</td>\n",
       "      <td>3</td>\n",
       "    </tr>\n",
       "    <tr>\n",
       "      <th>14766</th>\n",
       "      <td>4.352882</td>\n",
       "      <td>52.013582</td>\n",
       "      <td>bomen</td>\n",
       "      <td>89</td>\n",
       "      <td>Niet vrij uitgroeiende boom</td>\n",
       "      <td>1968.0</td>\n",
       "      <td>Aesculus hippocastanum 'Baumannii'</td>\n",
       "      <td>NaN</td>\n",
       "      <td>Onbereikbaar, snoeiingreep ongewenst</td>\n",
       "      <td>Algemeen</td>\n",
       "      <td>...</td>\n",
       "      <td>IC1</td>\n",
       "      <td>01.11.0002</td>\n",
       "      <td>Centrum-west</td>\n",
       "      <td>Delft</td>\n",
       "      <td>Centrum-West</td>\n",
       "      <td>11 Binnenstad</td>\n",
       "      <td>Binnen de bebouwde kom</td>\n",
       "      <td>bm</td>\n",
       "      <td>01.11.0002.bm89</td>\n",
       "      <td>4</td>\n",
       "    </tr>\n",
       "    <tr>\n",
       "      <th>17389</th>\n",
       "      <td>4.357415</td>\n",
       "      <td>51.993470</td>\n",
       "      <td>bomen</td>\n",
       "      <td>252</td>\n",
       "      <td>Niet vrij uitgroeiende boom</td>\n",
       "      <td>1968.0</td>\n",
       "      <td>Aesculus hippocastanum 'Baumannii'</td>\n",
       "      <td>NaN</td>\n",
       "      <td>Onbereikbaar, snoeiingreep ongewenst</td>\n",
       "      <td>Algemeen</td>\n",
       "      <td>...</td>\n",
       "      <td>IC3</td>\n",
       "      <td>01.24.0006</td>\n",
       "      <td>Voorhof-hoogbouw</td>\n",
       "      <td>Delft</td>\n",
       "      <td>Voorhof-Hoogbouw</td>\n",
       "      <td>24 Voorhof</td>\n",
       "      <td>Binnen de bebouwde kom</td>\n",
       "      <td>bm</td>\n",
       "      <td>01.24.0006.bm252</td>\n",
       "      <td>5</td>\n",
       "    </tr>\n",
       "    <tr>\n",
       "      <th>...</th>\n",
       "      <td>...</td>\n",
       "      <td>...</td>\n",
       "      <td>...</td>\n",
       "      <td>...</td>\n",
       "      <td>...</td>\n",
       "      <td>...</td>\n",
       "      <td>...</td>\n",
       "      <td>...</td>\n",
       "      <td>...</td>\n",
       "      <td>...</td>\n",
       "      <td>...</td>\n",
       "      <td>...</td>\n",
       "      <td>...</td>\n",
       "      <td>...</td>\n",
       "      <td>...</td>\n",
       "      <td>...</td>\n",
       "      <td>...</td>\n",
       "      <td>...</td>\n",
       "      <td>...</td>\n",
       "      <td>...</td>\n",
       "      <td>...</td>\n",
       "    </tr>\n",
       "    <tr>\n",
       "      <th>35294</th>\n",
       "      <td>4.343097</td>\n",
       "      <td>51.992807</td>\n",
       "      <td>bomen</td>\n",
       "      <td>489</td>\n",
       "      <td>Boom Nader te bepalen</td>\n",
       "      <td>1983.0</td>\n",
       "      <td>Betula pendula</td>\n",
       "      <td>NaN</td>\n",
       "      <td>NaN</td>\n",
       "      <td>Algemeen</td>\n",
       "      <td>...</td>\n",
       "      <td>IC3</td>\n",
       "      <td>01.25.0003</td>\n",
       "      <td>Gillisbuurt</td>\n",
       "      <td>Delft</td>\n",
       "      <td>NaN</td>\n",
       "      <td>25 Buitenhof</td>\n",
       "      <td>Binnen de bebouwde kom</td>\n",
       "      <td>bm</td>\n",
       "      <td>01.25.0003.bm489</td>\n",
       "      <td>35379</td>\n",
       "    </tr>\n",
       "    <tr>\n",
       "      <th>35296</th>\n",
       "      <td>4.343493</td>\n",
       "      <td>51.993034</td>\n",
       "      <td>bomen</td>\n",
       "      <td>491</td>\n",
       "      <td>Boom Nader te bepalen</td>\n",
       "      <td>1983.0</td>\n",
       "      <td>Crataegus laevigata</td>\n",
       "      <td>NaN</td>\n",
       "      <td>NaN</td>\n",
       "      <td>Algemeen</td>\n",
       "      <td>...</td>\n",
       "      <td>IC3</td>\n",
       "      <td>01.25.0003</td>\n",
       "      <td>Gillisbuurt</td>\n",
       "      <td>Delft</td>\n",
       "      <td>NaN</td>\n",
       "      <td>25 Buitenhof</td>\n",
       "      <td>Binnen de bebouwde kom</td>\n",
       "      <td>bm</td>\n",
       "      <td>01.25.0003.bm491</td>\n",
       "      <td>35380</td>\n",
       "    </tr>\n",
       "    <tr>\n",
       "      <th>35297</th>\n",
       "      <td>4.343393</td>\n",
       "      <td>51.992935</td>\n",
       "      <td>bomen</td>\n",
       "      <td>492</td>\n",
       "      <td>Boom Nader te bepalen</td>\n",
       "      <td>1983.0</td>\n",
       "      <td>Betula pendula</td>\n",
       "      <td>NaN</td>\n",
       "      <td>Bereikt</td>\n",
       "      <td>Algemeen</td>\n",
       "      <td>...</td>\n",
       "      <td>IC3</td>\n",
       "      <td>01.25.0003</td>\n",
       "      <td>Gillisbuurt</td>\n",
       "      <td>Delft</td>\n",
       "      <td>NaN</td>\n",
       "      <td>25 Buitenhof</td>\n",
       "      <td>Binnen de bebouwde kom</td>\n",
       "      <td>bm</td>\n",
       "      <td>01.25.0003.bm492</td>\n",
       "      <td>35381</td>\n",
       "    </tr>\n",
       "    <tr>\n",
       "      <th>35301</th>\n",
       "      <td>4.343578</td>\n",
       "      <td>51.992749</td>\n",
       "      <td>bomen</td>\n",
       "      <td>495</td>\n",
       "      <td>Niet vrij uitgroeiende boom</td>\n",
       "      <td>1983.0</td>\n",
       "      <td>Fraxinus excelsior</td>\n",
       "      <td>NaN</td>\n",
       "      <td>Onbereikbaar, snoeiingreep ongewenst</td>\n",
       "      <td>Algemeen</td>\n",
       "      <td>...</td>\n",
       "      <td>IC3</td>\n",
       "      <td>01.25.0003</td>\n",
       "      <td>Gillisbuurt</td>\n",
       "      <td>Delft</td>\n",
       "      <td>NaN</td>\n",
       "      <td>25 Buitenhof</td>\n",
       "      <td>Binnen de bebouwde kom</td>\n",
       "      <td>bm</td>\n",
       "      <td>01.25.0003.bm495</td>\n",
       "      <td>35382</td>\n",
       "    </tr>\n",
       "    <tr>\n",
       "      <th>35302</th>\n",
       "      <td>4.343506</td>\n",
       "      <td>51.992816</td>\n",
       "      <td>bomen</td>\n",
       "      <td>496</td>\n",
       "      <td>Niet vrij uitgroeiende boom</td>\n",
       "      <td>1983.0</td>\n",
       "      <td>Acer campestre</td>\n",
       "      <td>NaN</td>\n",
       "      <td>Onbereikbaar, snoeiingreep ongewenst</td>\n",
       "      <td>Algemeen</td>\n",
       "      <td>...</td>\n",
       "      <td>IC3</td>\n",
       "      <td>01.25.0003</td>\n",
       "      <td>Gillisbuurt</td>\n",
       "      <td>Delft</td>\n",
       "      <td>NaN</td>\n",
       "      <td>25 Buitenhof</td>\n",
       "      <td>Binnen de bebouwde kom</td>\n",
       "      <td>bm</td>\n",
       "      <td>01.25.0003.bm496</td>\n",
       "      <td>35383</td>\n",
       "    </tr>\n",
       "  </tbody>\n",
       "</table>\n",
       "<p>35383 rows × 27 columns</p>\n",
       "</div>"
      ],
      "text/plain": [
       "              X          Y BORNAME  ELEMENTNUMMER  \\\n",
       "ID                                                  \n",
       "37732  4.374816  52.029683   bomen           1151   \n",
       "37780  4.373551  52.031048   bomen           1184   \n",
       "8154   4.345117  51.994902   bomen             43   \n",
       "14766  4.352882  52.013582   bomen             89   \n",
       "17389  4.357415  51.993470   bomen            252   \n",
       "...         ...        ...     ...            ...   \n",
       "35294  4.343097  51.992807   bomen            489   \n",
       "35296  4.343493  51.993034   bomen            491   \n",
       "35297  4.343393  51.992935   bomen            492   \n",
       "35301  4.343578  51.992749   bomen            495   \n",
       "35302  4.343506  51.992816   bomen            496   \n",
       "\n",
       "                       BEHEERGROEP  AANLEGJAAR  \\\n",
       "ID                                               \n",
       "37732  Niet vrij uitgroeiende boom         NaN   \n",
       "37780  Niet vrij uitgroeiende boom         NaN   \n",
       "8154   Niet vrij uitgroeiende boom      1980.0   \n",
       "14766  Niet vrij uitgroeiende boom      1968.0   \n",
       "17389  Niet vrij uitgroeiende boom      1968.0   \n",
       "...                            ...         ...   \n",
       "35294        Boom Nader te bepalen      1983.0   \n",
       "35296        Boom Nader te bepalen      1983.0   \n",
       "35297        Boom Nader te bepalen      1983.0   \n",
       "35301  Niet vrij uitgroeiende boom      1983.0   \n",
       "35302  Niet vrij uitgroeiende boom      1983.0   \n",
       "\n",
       "                            BOOMSORTIMENT BOOMSTATUS  \\\n",
       "ID                                                     \n",
       "37732      Pyrus calleryana 'Chanticleer'        NaN   \n",
       "37780                      Acer campestre        NaN   \n",
       "8154          Ulmus x hollandica 'Vegeta'        NaN   \n",
       "14766  Aesculus hippocastanum 'Baumannii'        NaN   \n",
       "17389  Aesculus hippocastanum 'Baumannii'        NaN   \n",
       "...                                   ...        ...   \n",
       "35294                      Betula pendula        NaN   \n",
       "35296                 Crataegus laevigata        NaN   \n",
       "35297                      Betula pendula        NaN   \n",
       "35301                  Fraxinus excelsior        NaN   \n",
       "35302                      Acer campestre        NaN   \n",
       "\n",
       "                              TAKVRIJE_ZONE OMGEVINGSRISICOKLASSEN  ...  \\\n",
       "ID                                                                  ...   \n",
       "37732                               Bereikt               Verhoogd  ...   \n",
       "37780  Onbereikbaar, snoeiingreep ongewenst               Algemeen  ...   \n",
       "8154   Onbereikbaar, snoeiingreep ongewenst               Algemeen  ...   \n",
       "14766  Onbereikbaar, snoeiingreep ongewenst               Algemeen  ...   \n",
       "17389  Onbereikbaar, snoeiingreep ongewenst               Algemeen  ...   \n",
       "...                                     ...                    ...  ...   \n",
       "35294                                   NaN               Algemeen  ...   \n",
       "35296                                   NaN               Algemeen  ...   \n",
       "35297                               Bereikt               Algemeen  ...   \n",
       "35301  Onbereikbaar, snoeiingreep ongewenst               Algemeen  ...   \n",
       "35302  Onbereikbaar, snoeiingreep ongewenst               Algemeen  ...   \n",
       "\n",
       "      EXTRA_INFORMATIE_3 GROENGEBIEDCODE                   GROENGEBIEDNAAM  \\\n",
       "ID                                                                           \n",
       "37732                IC2      01.16.0001  Bedrijventerrein Ypenburgsepoort   \n",
       "37780                IC2      01.16.0001  Bedrijventerrein Ypenburgsepoort   \n",
       "8154                 IC3      01.25.0005                     Het Rode Dorp   \n",
       "14766                IC1      01.11.0002                      Centrum-west   \n",
       "17389                IC3      01.24.0006                  Voorhof-hoogbouw   \n",
       "...                  ...             ...                               ...   \n",
       "35294                IC3      01.25.0003                       Gillisbuurt   \n",
       "35296                IC3      01.25.0003                       Gillisbuurt   \n",
       "35297                IC3      01.25.0003                       Gillisbuurt   \n",
       "35301                IC3      01.25.0003                       Gillisbuurt   \n",
       "35302                IC3      01.25.0003                       Gillisbuurt   \n",
       "\n",
       "      GEMEENTE                             BUURT             WIJK  \\\n",
       "ID                                                                  \n",
       "37732    Delft  Bedrijventerrein Ypenburgsepoort  16 Delftse Hout   \n",
       "37780    Delft  Bedrijventerrein Ypenburgsepoort  16 Delftse Hout   \n",
       "8154     Delft                     Het Rode Dorp     25 Buitenhof   \n",
       "14766    Delft                      Centrum-West    11 Binnenstad   \n",
       "17389    Delft                  Voorhof-Hoogbouw       24 Voorhof   \n",
       "...        ...                               ...              ...   \n",
       "35294    Delft                               NaN     25 Buitenhof   \n",
       "35296    Delft                               NaN     25 Buitenhof   \n",
       "35297    Delft                               NaN     25 Buitenhof   \n",
       "35301    Delft                               NaN     25 Buitenhof   \n",
       "35302    Delft                               NaN     25 Buitenhof   \n",
       "\n",
       "                      LIGGING BEHEEROBJECTSOORT BEHEEROBJECTOMSCHRIJVING  \\\n",
       "ID                                                                         \n",
       "37732  Binnen de bebouwde kom                bm        01.16.0001.bm1151   \n",
       "37780  Binnen de bebouwde kom                bm        01.16.0001.bm1184   \n",
       "8154   Binnen de bebouwde kom                bm          01.25.0005.bm43   \n",
       "14766  Binnen de bebouwde kom                bm          01.11.0002.bm89   \n",
       "17389  Binnen de bebouwde kom                bm         01.24.0006.bm252   \n",
       "...                       ...               ...                      ...   \n",
       "35294  Binnen de bebouwde kom                bm         01.25.0003.bm489   \n",
       "35296  Binnen de bebouwde kom                bm         01.25.0003.bm491   \n",
       "35297  Binnen de bebouwde kom                bm         01.25.0003.bm492   \n",
       "35301  Binnen de bebouwde kom                bm         01.25.0003.bm495   \n",
       "35302  Binnen de bebouwde kom                bm         01.25.0003.bm496   \n",
       "\n",
       "      OBJECTID  \n",
       "ID              \n",
       "37732        1  \n",
       "37780        2  \n",
       "8154         3  \n",
       "14766        4  \n",
       "17389        5  \n",
       "...        ...  \n",
       "35294    35379  \n",
       "35296    35380  \n",
       "35297    35381  \n",
       "35301    35382  \n",
       "35302    35383  \n",
       "\n",
       "[35383 rows x 27 columns]"
      ]
     },
     "execution_count": 10,
     "metadata": {},
     "output_type": "execute_result"
    }
   ],
   "source": [
    "%%assignment\n",
    "# YOUR CODE HERE\n",
    "df2 = pd.read_csv('Bomen_in_beheer_door_gemeente_Delft.csv', index_col='ID')\n",
    "df2 # leave this to show the result"
   ]
  },
  {
   "cell_type": "code",
   "execution_count": 11,
   "metadata": {},
   "outputs": [
    {
     "data": {
      "text/html": [
       "<table><tr style=\"background: green; color: white\"><td style=\"text-align:left\">Correct!</td></tr></table>"
      ],
      "text/plain": [
       "<IPython.core.display.HTML object>"
      ]
     },
     "metadata": {
      "text/html": {
       "username": "willem"
      }
     },
     "output_type": "display_data"
    }
   ],
   "source": [
    "%%check \n",
    "hashresult == 1591492765\n"
   ]
  },
  {
   "cell_type": "markdown",
   "metadata": {},
   "source": [
    "A quick overview of all the above information (column names, number of rows, variable types) can be made using the function `info`. It also provides the number of non-empty cells for each column, en the memory size. "
   ]
  },
  {
   "cell_type": "code",
   "execution_count": 12,
   "metadata": {},
   "outputs": [
    {
     "name": "stdout",
     "output_type": "stream",
     "text": [
      "<class 'pandas.core.frame.DataFrame'>\n",
      "RangeIndex: 35383 entries, 0 to 35382\n",
      "Data columns (total 28 columns):\n",
      " #   Column                    Non-Null Count  Dtype  \n",
      "---  ------                    --------------  -----  \n",
      " 0   X                         35383 non-null  float64\n",
      " 1   Y                         35383 non-null  float64\n",
      " 2   ID                        35383 non-null  int64  \n",
      " 3   BORNAME                   35383 non-null  object \n",
      " 4   ELEMENTNUMMER             35383 non-null  int64  \n",
      " 5   BEHEERGROEP               35383 non-null  object \n",
      " 6   AANLEGJAAR                27292 non-null  float64\n",
      " 7   BOOMSORTIMENT             35383 non-null  object \n",
      " 8   BOOMSTATUS                1106 non-null   object \n",
      " 9   TAKVRIJE_ZONE             34041 non-null  object \n",
      " 10  OMGEVINGSRISICOKLASSEN    35383 non-null  object \n",
      " 11  AMBITIENIVEAU             35383 non-null  object \n",
      " 12  HOOGTE                    33592 non-null  object \n",
      " 13  DIAMETER                  1772 non-null   float64\n",
      " 14  STANDPLAATS               34728 non-null  object \n",
      " 15  BEHEERDER                 35383 non-null  object \n",
      " 16  EIGENAAR                  35375 non-null  object \n",
      " 17  EXTRA_INFORMATIE_2        31894 non-null  object \n",
      " 18  EXTRA_INFORMATIE_3        34271 non-null  object \n",
      " 19  GROENGEBIEDCODE           35383 non-null  object \n",
      " 20  GROENGEBIEDNAAM           35383 non-null  object \n",
      " 21  GEMEENTE                  35383 non-null  object \n",
      " 22  BUURT                     33256 non-null  object \n",
      " 23  WIJK                      35383 non-null  object \n",
      " 24  LIGGING                   35383 non-null  object \n",
      " 25  BEHEEROBJECTSOORT         35383 non-null  object \n",
      " 26  BEHEEROBJECTOMSCHRIJVING  35383 non-null  object \n",
      " 27  OBJECTID                  35383 non-null  int64  \n",
      "dtypes: float64(4), int64(3), object(21)\n",
      "memory usage: 7.6+ MB\n"
     ]
    }
   ],
   "source": [
    "trees_df.info()"
   ]
  },
  {
   "cell_type": "markdown",
   "metadata": {},
   "source": [
    "The `DIAMETER` column only has 1772 rows with non-null values. The value of the other rows are indicated as `NaN`: Not a Number, which means these cells are empty. Missing values in data sets are common in practice, but we'll see that Pandas is very flexible with this. \n",
    "\n",
    "### Which statement(s) are correct?"
   ]
  },
  {
   "cell_type": "code",
   "execution_count": 37,
   "metadata": {},
   "outputs": [
    {
     "data": {
      "application/vnd.jupyter.widget-view+json": {
       "model_id": "7dbacb5162d842078f6a69c914a758ca",
       "version_major": 2,
       "version_minor": 0
      },
      "text/plain": [
       "VBox(children=(Checkbox(value=False, description='OBJECTID has missing values', layout=Layout(width='max-conte…"
      ]
     },
     "metadata": {},
     "output_type": "display_data"
    }
   ],
   "source": [
    "%%mmc file_inspection\n",
    "OBJECTID has missing values\n",
    "AANLEGJAAR has type int\n",
    "Er zijn 28 kolommen"
   ]
  },
  {
   "cell_type": "code",
   "execution_count": 41,
   "metadata": {},
   "outputs": [
    {
     "data": {
      "text/html": [
       "<table><tr style=\"background: green; color: white\"><td style=\"text-align:left\">Correct!</td></tr></table>"
      ],
      "text/plain": [
       "<IPython.core.display.HTML object>"
      ]
     },
     "metadata": {
      "text/html": {
       "username": "willem"
      }
     },
     "output_type": "display_data"
    }
   ],
   "source": [
    "%%check\n",
    "hashresult == 3818810794"
   ]
  },
  {
   "cell_type": "markdown",
   "metadata": {},
   "source": [
    "## Creating a new DataFrame\n",
    "We've already seen that we can create a DataFrame by loading a CSV file with Pandas. But a DataFrame can also be directly constructed from a dictionary of lists:\n",
    "\n",
    "\n",
    "\n"
   ]
  },
  {
   "cell_type": "code",
   "execution_count": 8,
   "metadata": {},
   "outputs": [
    {
     "name": "stdout",
     "output_type": "stream",
     "text": [
      "        A           B\n",
      "row_0  10         aap\n",
      "row_1  20       paard\n",
      "row_2  30  dromedaris\n"
     ]
    }
   ],
   "source": [
    "example_dict = {'A': [10, 20, 30], 'B': ['aap','paard','dromedaris']}\n",
    "row_labels = [f'row_{k}' for k in range(3)] \n",
    "\n",
    "example_df = pd.DataFrame(example_dict,index=row_labels)\n",
    "print(example_df)"
   ]
  },
  {
   "cell_type": "markdown",
   "metadata": {},
   "source": [
    "**exercise** Create the following table as DataFrame:\n",
    "\n",
    "|       | inwoners | provincie    | \n",
    "|-------|----------|--------------|\n",
    "| Delft | 104468   | Zuid-Holland | \n",
    "| Utrecht | 361924 | Utrecht |\n",
    "| Westerhoven | 2030 | Noord-Brabant|\n"
   ]
  },
  {
   "cell_type": "code",
   "execution_count": 43,
   "metadata": {},
   "outputs": [
    {
     "data": {
      "text/html": [
       "<div>\n",
       "<style scoped>\n",
       "    .dataframe tbody tr th:only-of-type {\n",
       "        vertical-align: middle;\n",
       "    }\n",
       "\n",
       "    .dataframe tbody tr th {\n",
       "        vertical-align: top;\n",
       "    }\n",
       "\n",
       "    .dataframe thead th {\n",
       "        text-align: right;\n",
       "    }\n",
       "</style>\n",
       "<table border=\"1\" class=\"dataframe\">\n",
       "  <thead>\n",
       "    <tr style=\"text-align: right;\">\n",
       "      <th></th>\n",
       "      <th>inwoners</th>\n",
       "      <th>provincie</th>\n",
       "    </tr>\n",
       "  </thead>\n",
       "  <tbody>\n",
       "    <tr>\n",
       "      <th>Delft</th>\n",
       "      <td>104468</td>\n",
       "      <td>Zuid-Holland</td>\n",
       "    </tr>\n",
       "    <tr>\n",
       "      <th>Utrecht</th>\n",
       "      <td>361924</td>\n",
       "      <td>Utrecht</td>\n",
       "    </tr>\n",
       "    <tr>\n",
       "      <th>Westerhoven</th>\n",
       "      <td>2030</td>\n",
       "      <td>Noord-Brabant</td>\n",
       "    </tr>\n",
       "  </tbody>\n",
       "</table>\n",
       "</div>"
      ],
      "text/plain": [
       "             inwoners      provincie\n",
       "Delft          104468   Zuid-Holland\n",
       "Utrecht        361924        Utrecht\n",
       "Westerhoven      2030  Noord-Brabant"
      ]
     },
     "execution_count": 43,
     "metadata": {},
     "output_type": "execute_result"
    }
   ],
   "source": [
    "%%assignment\n",
    "# YOUR CODE HERE\n",
    "row_labels = ['Delft', 'Utrecht', 'Westerhoven']\n",
    "\n",
    "example_dict = {'inwoners': [104468,361924,2030], 'provincie': ['Zuid-Holland','Utrecht','Noord-Brabant']}\n",
    "pd.DataFrame(example_dict,index=row_labels)\n"
   ]
  },
  {
   "cell_type": "code",
   "execution_count": 44,
   "metadata": {},
   "outputs": [
    {
     "data": {
      "text/html": [
       "<table><tr style=\"background: green; color: white\"><td style=\"text-align:left\">Correct!</td></tr></table>"
      ],
      "text/plain": [
       "<IPython.core.display.HTML object>"
      ]
     },
     "metadata": {
      "text/html": {
       "username": "willem"
      }
     },
     "output_type": "display_data"
    }
   ],
   "source": [
    "%%check\n",
    "hashresult == 742727652"
   ]
  },
  {
   "cell_type": "markdown",
   "metadata": {},
   "source": [
    "## Selection\n",
    "We often want to select specific columns or rows from the DataFrame for processing. The selection can be done based on column or row label, or based on a positional index (number). \n",
    "\n",
    "Let's make an example DataFrame to experiment with:"
   ]
  },
  {
   "cell_type": "code",
   "execution_count": 10,
   "metadata": {},
   "outputs": [
    {
     "name": "stdout",
     "output_type": "stream",
     "text": [
      "        A   B\n",
      "obj1  1.1  12\n",
      "obj2  2.1  22\n",
      "obj3  3.1  32\n"
     ]
    }
   ],
   "source": [
    "example_df = pd.DataFrame({\"A\":[1.1,2.1,3.1],\"B\":[12,22,32]},\n",
    "                    index=['obj1','obj2','obj3']) #example DataFrame\n",
    "print(example_df)"
   ]
  },
  {
   "cell_type": "code",
   "execution_count": 9,
   "metadata": {},
   "outputs": [],
   "source": [
    "example_dict={\"A\":[1.1,2.1,3.1],\"B\":[12,22,32]}"
   ]
  },
  {
   "cell_type": "markdown",
   "metadata": {},
   "source": [
    "The columns of `example_df` can be accessed like dictionary fields: "
   ]
  },
  {
   "cell_type": "code",
   "execution_count": 119,
   "metadata": {},
   "outputs": [
    {
     "data": {
      "text/plain": [
       "obj1    1.1\n",
       "obj2    2.1\n",
       "obj3    3.1\n",
       "Name: A, dtype: float64"
      ]
     },
     "execution_count": 119,
     "metadata": {},
     "output_type": "execute_result"
    }
   ],
   "source": [
    "example_df[\"A\"]"
   ]
  },
  {
   "cell_type": "markdown",
   "metadata": {},
   "source": [
    "Note that the row labels are maintained when selecting a column, and the output can be considered a one-dimensional DataFrame. (However, the actual Pandas class of the output is a `Series`.) \n",
    "\n",
    "You can also select multiple columns at once:"
   ]
  },
  {
   "cell_type": "code",
   "execution_count": 120,
   "metadata": {},
   "outputs": [
    {
     "data": {
      "text/html": [
       "<div>\n",
       "<style scoped>\n",
       "    .dataframe tbody tr th:only-of-type {\n",
       "        vertical-align: middle;\n",
       "    }\n",
       "\n",
       "    .dataframe tbody tr th {\n",
       "        vertical-align: top;\n",
       "    }\n",
       "\n",
       "    .dataframe thead th {\n",
       "        text-align: right;\n",
       "    }\n",
       "</style>\n",
       "<table border=\"1\" class=\"dataframe\">\n",
       "  <thead>\n",
       "    <tr style=\"text-align: right;\">\n",
       "      <th></th>\n",
       "      <th>B</th>\n",
       "      <th>A</th>\n",
       "    </tr>\n",
       "  </thead>\n",
       "  <tbody>\n",
       "    <tr>\n",
       "      <th>obj1</th>\n",
       "      <td>12</td>\n",
       "      <td>1.1</td>\n",
       "    </tr>\n",
       "    <tr>\n",
       "      <th>obj2</th>\n",
       "      <td>22</td>\n",
       "      <td>2.1</td>\n",
       "    </tr>\n",
       "    <tr>\n",
       "      <th>obj3</th>\n",
       "      <td>32</td>\n",
       "      <td>3.1</td>\n",
       "    </tr>\n",
       "  </tbody>\n",
       "</table>\n",
       "</div>"
      ],
      "text/plain": [
       "       B    A\n",
       "obj1  12  1.1\n",
       "obj2  22  2.1\n",
       "obj3  32  3.1"
      ]
     },
     "execution_count": 120,
     "metadata": {},
     "output_type": "execute_result"
    }
   ],
   "source": [
    "example_df[[\"B\",\"A\"]]"
   ]
  },
  {
   "cell_type": "markdown",
   "metadata": {},
   "source": [
    "The rows can be selected by slicing, as we've done with lists: "
   ]
  },
  {
   "cell_type": "code",
   "execution_count": 121,
   "metadata": {},
   "outputs": [
    {
     "name": "stdout",
     "output_type": "stream",
     "text": [
      "        A   B\n",
      "obj1  1.1  12\n",
      "obj2  2.1  22\n"
     ]
    }
   ],
   "source": [
    "print(example_df[0:2]) # selects rows 0 and 1"
   ]
  },
  {
   "cell_type": "markdown",
   "metadata": {},
   "source": [
    "Note that this selection is based on position and thus the row labels are ignored. \n",
    "There is a difference with list-style indexing: using an integer to select a single column is **not** allowed."
   ]
  },
  {
   "cell_type": "code",
   "execution_count": 122,
   "metadata": {},
   "outputs": [
    {
     "ename": "KeyError",
     "evalue": "2",
     "output_type": "error",
     "traceback": [
      "\u001b[0;31m---------------------------------------------------------------------------\u001b[0m",
      "\u001b[0;31mKeyError\u001b[0m                                  Traceback (most recent call last)",
      "File \u001b[0;32m/opt/jupyterhub/anaconda/lib/python3.8/site-packages/pandas/core/indexes/base.py:3621\u001b[0m, in \u001b[0;36mIndex.get_loc\u001b[0;34m(self, key, method, tolerance)\u001b[0m\n\u001b[1;32m   3620\u001b[0m \u001b[39mtry\u001b[39;00m:\n\u001b[0;32m-> 3621\u001b[0m     \u001b[39mreturn\u001b[39;00m \u001b[39mself\u001b[39;49m\u001b[39m.\u001b[39;49m_engine\u001b[39m.\u001b[39;49mget_loc(casted_key)\n\u001b[1;32m   3622\u001b[0m \u001b[39mexcept\u001b[39;00m \u001b[39mKeyError\u001b[39;00m \u001b[39mas\u001b[39;00m err:\n",
      "File \u001b[0;32m/opt/jupyterhub/anaconda/lib/python3.8/site-packages/pandas/_libs/index.pyx:136\u001b[0m, in \u001b[0;36mpandas._libs.index.IndexEngine.get_loc\u001b[0;34m()\u001b[0m\n",
      "File \u001b[0;32m/opt/jupyterhub/anaconda/lib/python3.8/site-packages/pandas/_libs/index.pyx:163\u001b[0m, in \u001b[0;36mpandas._libs.index.IndexEngine.get_loc\u001b[0;34m()\u001b[0m\n",
      "File \u001b[0;32mpandas/_libs/hashtable_class_helper.pxi:5198\u001b[0m, in \u001b[0;36mpandas._libs.hashtable.PyObjectHashTable.get_item\u001b[0;34m()\u001b[0m\n",
      "File \u001b[0;32mpandas/_libs/hashtable_class_helper.pxi:5206\u001b[0m, in \u001b[0;36mpandas._libs.hashtable.PyObjectHashTable.get_item\u001b[0;34m()\u001b[0m\n",
      "\u001b[0;31mKeyError\u001b[0m: 2",
      "\nThe above exception was the direct cause of the following exception:\n",
      "\u001b[0;31mKeyError\u001b[0m                                  Traceback (most recent call last)",
      "\u001b[1;32m/home/willem/notebooks/ds_sem1/5.1_pandas_basics/1 File inspection.ipynb Cell 41'\u001b[0m in \u001b[0;36m<cell line: 1>\u001b[0;34m()\u001b[0m\n\u001b[0;32m----> <a href='vscode-notebook-cell://ssh-remote%2Bdatascience.hhs.nl/home/willem/notebooks/ds_sem1/5.1_pandas_basics/1%20File%20inspection.ipynb#ch0000042vscode-remote?line=0'>1</a>\u001b[0m example_df[\u001b[39m2\u001b[39;49m]\n",
      "File \u001b[0;32m/opt/jupyterhub/anaconda/lib/python3.8/site-packages/pandas/core/frame.py:3505\u001b[0m, in \u001b[0;36mDataFrame.__getitem__\u001b[0;34m(self, key)\u001b[0m\n\u001b[1;32m   3503\u001b[0m \u001b[39mif\u001b[39;00m \u001b[39mself\u001b[39m\u001b[39m.\u001b[39mcolumns\u001b[39m.\u001b[39mnlevels \u001b[39m>\u001b[39m \u001b[39m1\u001b[39m:\n\u001b[1;32m   3504\u001b[0m     \u001b[39mreturn\u001b[39;00m \u001b[39mself\u001b[39m\u001b[39m.\u001b[39m_getitem_multilevel(key)\n\u001b[0;32m-> 3505\u001b[0m indexer \u001b[39m=\u001b[39m \u001b[39mself\u001b[39;49m\u001b[39m.\u001b[39;49mcolumns\u001b[39m.\u001b[39;49mget_loc(key)\n\u001b[1;32m   3506\u001b[0m \u001b[39mif\u001b[39;00m is_integer(indexer):\n\u001b[1;32m   3507\u001b[0m     indexer \u001b[39m=\u001b[39m [indexer]\n",
      "File \u001b[0;32m/opt/jupyterhub/anaconda/lib/python3.8/site-packages/pandas/core/indexes/base.py:3623\u001b[0m, in \u001b[0;36mIndex.get_loc\u001b[0;34m(self, key, method, tolerance)\u001b[0m\n\u001b[1;32m   3621\u001b[0m     \u001b[39mreturn\u001b[39;00m \u001b[39mself\u001b[39m\u001b[39m.\u001b[39m_engine\u001b[39m.\u001b[39mget_loc(casted_key)\n\u001b[1;32m   3622\u001b[0m \u001b[39mexcept\u001b[39;00m \u001b[39mKeyError\u001b[39;00m \u001b[39mas\u001b[39;00m err:\n\u001b[0;32m-> 3623\u001b[0m     \u001b[39mraise\u001b[39;00m \u001b[39mKeyError\u001b[39;00m(key) \u001b[39mfrom\u001b[39;00m \u001b[39merr\u001b[39;00m\n\u001b[1;32m   3624\u001b[0m \u001b[39mexcept\u001b[39;00m \u001b[39mTypeError\u001b[39;00m:\n\u001b[1;32m   3625\u001b[0m     \u001b[39m# If we have a listlike key, _check_indexing_error will raise\u001b[39;00m\n\u001b[1;32m   3626\u001b[0m     \u001b[39m#  InvalidIndexError. Otherwise we fall through and re-raise\u001b[39;00m\n\u001b[1;32m   3627\u001b[0m     \u001b[39m#  the TypeError.\u001b[39;00m\n\u001b[1;32m   3628\u001b[0m     \u001b[39mself\u001b[39m\u001b[39m.\u001b[39m_check_indexing_error(key)\n",
      "\u001b[0;31mKeyError\u001b[0m: 2"
     ]
    }
   ],
   "source": [
    "example_df[2] # not allowed, use: example_df[2:3]"
   ]
  },
  {
   "cell_type": "markdown",
   "metadata": {},
   "source": [
    "Pandas recommends using the `loc` property of the DataFrame for label-based selection, and the `iloc` properties for position-based selection. \n",
    "For these properties you can specify both the desired row(s) and desired column(s):"
   ]
  },
  {
   "cell_type": "code",
   "execution_count": 123,
   "metadata": {},
   "outputs": [
    {
     "data": {
      "text/plain": [
       "A     3.1\n",
       "B    32.0\n",
       "Name: obj3, dtype: float64"
      ]
     },
     "execution_count": 123,
     "metadata": {},
     "output_type": "execute_result"
    }
   ],
   "source": [
    "example_df.loc['obj3']"
   ]
  },
  {
   "cell_type": "markdown",
   "metadata": {},
   "source": [
    "This does require that the row labels are strings. \n",
    "\n",
    "You can also slice with labels. However, note that in contrast to slicing with positions, the final element is included in the result:"
   ]
  },
  {
   "cell_type": "code",
   "execution_count": 124,
   "metadata": {},
   "outputs": [
    {
     "data": {
      "text/html": [
       "<div>\n",
       "<style scoped>\n",
       "    .dataframe tbody tr th:only-of-type {\n",
       "        vertical-align: middle;\n",
       "    }\n",
       "\n",
       "    .dataframe tbody tr th {\n",
       "        vertical-align: top;\n",
       "    }\n",
       "\n",
       "    .dataframe thead th {\n",
       "        text-align: right;\n",
       "    }\n",
       "</style>\n",
       "<table border=\"1\" class=\"dataframe\">\n",
       "  <thead>\n",
       "    <tr style=\"text-align: right;\">\n",
       "      <th></th>\n",
       "      <th>A</th>\n",
       "      <th>B</th>\n",
       "    </tr>\n",
       "  </thead>\n",
       "  <tbody>\n",
       "    <tr>\n",
       "      <th>obj1</th>\n",
       "      <td>1.1</td>\n",
       "      <td>12</td>\n",
       "    </tr>\n",
       "    <tr>\n",
       "      <th>obj2</th>\n",
       "      <td>2.1</td>\n",
       "      <td>22</td>\n",
       "    </tr>\n",
       "  </tbody>\n",
       "</table>\n",
       "</div>"
      ],
      "text/plain": [
       "        A   B\n",
       "obj1  1.1  12\n",
       "obj2  2.1  22"
      ]
     },
     "execution_count": 124,
     "metadata": {},
     "output_type": "execute_result"
    }
   ],
   "source": [
    "example_df.loc[:'obj2'] # slice until obj2"
   ]
  },
  {
   "cell_type": "markdown",
   "metadata": {},
   "source": [
    "With `loc` you can also select rows and columns at the same time:"
   ]
  },
  {
   "cell_type": "code",
   "execution_count": 125,
   "metadata": {},
   "outputs": [
    {
     "data": {
      "text/plain": [
       "obj1    12\n",
       "obj2    22\n",
       "Name: B, dtype: int64"
      ]
     },
     "execution_count": 125,
     "metadata": {},
     "output_type": "execute_result"
    }
   ],
   "source": [
    "example_df.loc[:'obj2', 'B'] # slice until obj2, take column B"
   ]
  },
  {
   "cell_type": "markdown",
   "metadata": {},
   "source": [
    "Property `iloc` works the same as `loc`, except it takes positional integers instead of string labels."
   ]
  },
  {
   "cell_type": "code",
   "execution_count": 127,
   "metadata": {},
   "outputs": [
    {
     "data": {
      "text/plain": [
       "A     3.1\n",
       "B    32.0\n",
       "Name: obj3, dtype: float64"
      ]
     },
     "execution_count": 127,
     "metadata": {},
     "output_type": "execute_result"
    }
   ],
   "source": [
    "example_df.iloc[2] # take third row"
   ]
  },
  {
   "cell_type": "code",
   "execution_count": 129,
   "metadata": {},
   "outputs": [
    {
     "data": {
      "text/html": [
       "<div>\n",
       "<style scoped>\n",
       "    .dataframe tbody tr th:only-of-type {\n",
       "        vertical-align: middle;\n",
       "    }\n",
       "\n",
       "    .dataframe tbody tr th {\n",
       "        vertical-align: top;\n",
       "    }\n",
       "\n",
       "    .dataframe thead th {\n",
       "        text-align: right;\n",
       "    }\n",
       "</style>\n",
       "<table border=\"1\" class=\"dataframe\">\n",
       "  <thead>\n",
       "    <tr style=\"text-align: right;\">\n",
       "      <th></th>\n",
       "      <th>A</th>\n",
       "      <th>B</th>\n",
       "    </tr>\n",
       "  </thead>\n",
       "  <tbody>\n",
       "    <tr>\n",
       "      <th>obj1</th>\n",
       "      <td>1.1</td>\n",
       "      <td>12</td>\n",
       "    </tr>\n",
       "    <tr>\n",
       "      <th>obj2</th>\n",
       "      <td>2.1</td>\n",
       "      <td>22</td>\n",
       "    </tr>\n",
       "  </tbody>\n",
       "</table>\n",
       "</div>"
      ],
      "text/plain": [
       "        A   B\n",
       "obj1  1.1  12\n",
       "obj2  2.1  22"
      ]
     },
     "execution_count": 129,
     "metadata": {},
     "output_type": "execute_result"
    }
   ],
   "source": [
    "example_df.iloc[:2] # take first two rows"
   ]
  },
  {
   "cell_type": "code",
   "execution_count": 131,
   "metadata": {},
   "outputs": [
    {
     "data": {
      "text/plain": [
       "obj1    12\n",
       "obj2    22\n",
       "Name: B, dtype: int64"
      ]
     },
     "execution_count": 131,
     "metadata": {},
     "output_type": "execute_result"
    }
   ],
   "source": [
    "example_df.iloc[:2,1] # take first two rows and second column"
   ]
  },
  {
   "cell_type": "markdown",
   "metadata": {},
   "source": [
    "You can also select rows and columns by combining selections:"
   ]
  },
  {
   "cell_type": "code",
   "execution_count": 204,
   "metadata": {},
   "outputs": [
    {
     "data": {
      "text/plain": [
       "obj2    2.1\n",
       "obj3    3.1\n",
       "Name: A, dtype: float64"
      ]
     },
     "execution_count": 204,
     "metadata": {},
     "output_type": "execute_result"
    }
   ],
   "source": [
    "example_df[\"A\"][1:3] # select column A, rows 2 and 3"
   ]
  },
  {
   "cell_type": "code",
   "execution_count": 201,
   "metadata": {},
   "outputs": [
    {
     "data": {
      "text/plain": [
       "12.0"
      ]
     },
     "execution_count": 201,
     "metadata": {},
     "output_type": "execute_result"
    }
   ],
   "source": [
    "example_df.iloc[0][\"B\"] # select row 1, column B"
   ]
  },
  {
   "cell_type": "code",
   "execution_count": 202,
   "metadata": {},
   "outputs": [
    {
     "data": {
      "text/plain": [
       "obj2    2.1\n",
       "obj3    3.1\n",
       "Name: A, dtype: float64"
      ]
     },
     "execution_count": 202,
     "metadata": {},
     "output_type": "execute_result"
    }
   ],
   "source": [
    "example_df.loc[\"obj2\":].iloc[:,0]# select every row from obj2, and first column"
   ]
  },
  {
   "cell_type": "markdown",
   "metadata": {},
   "source": [
    "We've now seen many ways of indexing. Let's rehearse:"
   ]
  },
  {
   "cell_type": "code",
   "execution_count": 138,
   "metadata": {},
   "outputs": [
    {
     "name": "stdout",
     "output_type": "stream",
     "text": [
      "        A   B\n",
      "obj1  1.1  12\n",
      "obj2  2.1  22\n",
      "obj3  3.1  32\n"
     ]
    }
   ],
   "source": [
    "print(example_df)"
   ]
  },
  {
   "cell_type": "markdown",
   "metadata": {},
   "source": [
    "##### Which code **does not** return column B?"
   ]
  },
  {
   "cell_type": "code",
   "execution_count": 161,
   "metadata": {},
   "outputs": [
    {
     "data": {
      "application/vnd.jupyter.widget-view+json": {
       "model_id": "e022567d2eee4a39be89e0add4db06fb",
       "version_major": 2,
       "version_minor": 0
      },
      "text/plain": [
       "RadioButtons(layout=Layout(width='max-content'), options=('example_df[\"B\"]', 'example_df.iloc[:,1]', 'example_…"
      ]
     },
     "metadata": {},
     "output_type": "display_data"
    }
   ],
   "source": [
    "%%mc\n",
    "example_df[\"B\"]\n",
    "example_df.iloc[:,1]\n",
    "example_df.loc[\"B\"]\n",
    "example_df.loc[:,\"B\"]"
   ]
  },
  {
   "cell_type": "code",
   "execution_count": 175,
   "metadata": {},
   "outputs": [
    {
     "data": {
      "text/html": [
       "<table><tr style=\"background: green; color: white\"><td style=\"text-align:left\">Correct!</td></tr></table>"
      ],
      "text/plain": [
       "<IPython.core.display.HTML object>"
      ]
     },
     "metadata": {
      "text/html": {
       "username": "willem"
      }
     },
     "output_type": "display_data"
    }
   ],
   "source": [
    "%%check \n",
    "hashresult == 3487754587"
   ]
  },
  {
   "cell_type": "markdown",
   "metadata": {},
   "source": [
    "##### Which **does not** return the first row?"
   ]
  },
  {
   "cell_type": "code",
   "execution_count": 164,
   "metadata": {},
   "outputs": [
    {
     "data": {
      "application/vnd.jupyter.widget-view+json": {
       "model_id": "12b687faff1e464bb00fb4df3cbe11f4",
       "version_major": 2,
       "version_minor": 0
      },
      "text/plain": [
       "RadioButtons(index=3, layout=Layout(width='max-content'), options=('example_df[0]', 'example_df[:1]', 'example…"
      ]
     },
     "metadata": {},
     "output_type": "display_data"
    }
   ],
   "source": [
    "%%mc\n",
    "example_df[0]\n",
    "example_df[:1]\n",
    "example_df.iloc[:1]\n",
    "example_df.loc[\"obj1\"]"
   ]
  },
  {
   "cell_type": "code",
   "execution_count": 176,
   "metadata": {},
   "outputs": [
    {
     "data": {
      "text/html": [
       "<table><tr style=\"background: green; color: white\"><td style=\"text-align:left\">Correct!</td></tr></table>"
      ],
      "text/plain": [
       "<IPython.core.display.HTML object>"
      ]
     },
     "metadata": {
      "text/html": {
       "username": "willem"
      }
     },
     "output_type": "display_data"
    }
   ],
   "source": [
    "%%check \n",
    "hashresult == 783618061"
   ]
  },
  {
   "cell_type": "markdown",
   "metadata": {},
   "source": [
    "##### Which command(s) return the value `3.1`?"
   ]
  },
  {
   "cell_type": "code",
   "execution_count": 228,
   "metadata": {},
   "outputs": [
    {
     "data": {
      "application/vnd.jupyter.widget-view+json": {
       "model_id": "255be35a243b4da49e932d8108fabfc4",
       "version_major": 2,
       "version_minor": 0
      },
      "text/plain": [
       "VBox(children=(Checkbox(value=False, description='example_df[2:3][\"A\"]', layout=Layout(width='max-content')), …"
      ]
     },
     "metadata": {},
     "output_type": "display_data"
    }
   ],
   "source": [
    "%%mmc\n",
    "example_df[2:3][\"A\"]\n",
    "example_df[\"A\"][2:3]\n",
    "example_df.iloc[2,0]\n",
    "example_df.loc[\"obj3\",'A']"
   ]
  },
  {
   "cell_type": "code",
   "execution_count": 232,
   "metadata": {},
   "outputs": [
    {
     "data": {
      "text/html": [
       "<table><tr style=\"background: green; color: white\"><td style=\"text-align:left\">Correct!</td></tr></table>"
      ],
      "text/plain": [
       "<IPython.core.display.HTML object>"
      ]
     },
     "metadata": {
      "text/html": {
       "username": "willem"
      }
     },
     "output_type": "display_data"
    }
   ],
   "source": [
    "%%check \n",
    "hashresult == 121948600"
   ]
  },
  {
   "cell_type": "markdown",
   "metadata": {},
   "source": [
    "##### How many cells are returned by `example_df[\"B\"][:2]`?"
   ]
  },
  {
   "cell_type": "code",
   "execution_count": 182,
   "metadata": {},
   "outputs": [
    {
     "data": {
      "application/vnd.jupyter.widget-view+json": {
       "model_id": "271facbff6a54d0a9fccb62aadc0a938",
       "version_major": 2,
       "version_minor": 0
      },
      "text/plain": [
       "IntSlider(value=6, max=6, min=1)"
      ]
     },
     "metadata": {},
     "output_type": "display_data"
    }
   ],
   "source": [
    "%%slider \n",
    "1 6"
   ]
  },
  {
   "cell_type": "code",
   "execution_count": 211,
   "metadata": {},
   "outputs": [
    {
     "data": {
      "text/html": [
       "<table><tr style=\"background: green; color: white\"><td style=\"text-align:left\">Correct!</td></tr></table>"
      ],
      "text/plain": [
       "<IPython.core.display.HTML object>"
      ]
     },
     "metadata": {
      "text/html": {
       "username": "willem"
      }
     },
     "output_type": "display_data"
    }
   ],
   "source": [
    "%%check \n",
    "hashresult==3306475475"
   ]
  },
  {
   "cell_type": "markdown",
   "metadata": {},
   "source": [
    "## Boolean indexing"
   ]
  },
  {
   "cell_type": "markdown",
   "metadata": {},
   "source": [
    "This final method for indexing that we'll discuss will be especially useful for data processing. \n",
    "Boolean indexing selects rows by applying a \"mask\" to the DataFrame. The mask consists of `True` or `False` values and should match the length of the DataFrame it's applied to. Applying the mask only selects the rows that have a `True` value in the mask. \n",
    "\n",
    "This is useful for selecting only the rows that match a certain condition:"
   ]
  },
  {
   "cell_type": "code",
   "execution_count": 247,
   "metadata": {},
   "outputs": [
    {
     "name": "stdout",
     "output_type": "stream",
     "text": [
      "obj1    False\n",
      "obj2     True\n",
      "obj3     True\n",
      "Name: A, dtype: bool\n"
     ]
    }
   ],
   "source": [
    "mask = example_df['A'] > 2  # determine with rows have a larger value than 2 in column A\n",
    "print(mask)"
   ]
  },
  {
   "cell_type": "code",
   "execution_count": 248,
   "metadata": {},
   "outputs": [
    {
     "data": {
      "text/html": [
       "<div>\n",
       "<style scoped>\n",
       "    .dataframe tbody tr th:only-of-type {\n",
       "        vertical-align: middle;\n",
       "    }\n",
       "\n",
       "    .dataframe tbody tr th {\n",
       "        vertical-align: top;\n",
       "    }\n",
       "\n",
       "    .dataframe thead th {\n",
       "        text-align: right;\n",
       "    }\n",
       "</style>\n",
       "<table border=\"1\" class=\"dataframe\">\n",
       "  <thead>\n",
       "    <tr style=\"text-align: right;\">\n",
       "      <th></th>\n",
       "      <th>A</th>\n",
       "      <th>B</th>\n",
       "    </tr>\n",
       "  </thead>\n",
       "  <tbody>\n",
       "    <tr>\n",
       "      <th>obj2</th>\n",
       "      <td>2.1</td>\n",
       "      <td>22</td>\n",
       "    </tr>\n",
       "    <tr>\n",
       "      <th>obj3</th>\n",
       "      <td>3.1</td>\n",
       "      <td>32</td>\n",
       "    </tr>\n",
       "  </tbody>\n",
       "</table>\n",
       "</div>"
      ],
      "text/plain": [
       "        A   B\n",
       "obj2  2.1  22\n",
       "obj3  3.1  32"
      ]
     },
     "execution_count": 248,
     "metadata": {},
     "output_type": "execute_result"
    }
   ],
   "source": [
    "example_df[mask] # select the rows that have True in the mask"
   ]
  },
  {
   "cell_type": "markdown",
   "metadata": {},
   "source": [
    "You can of course combine conditions as you learned in the first week with Boolean operators:"
   ]
  },
  {
   "cell_type": "code",
   "execution_count": 263,
   "metadata": {},
   "outputs": [
    {
     "name": "stdout",
     "output_type": "stream",
     "text": [
      "obj1    False\n",
      "obj2     True\n",
      "obj3    False\n",
      "dtype: bool\n"
     ]
    }
   ],
   "source": [
    "mask = (example_df['A'] > 2) & (example_df['B'] < 30)\n",
    "print(mask)"
   ]
  },
  {
   "cell_type": "code",
   "execution_count": 264,
   "metadata": {},
   "outputs": [
    {
     "name": "stdout",
     "output_type": "stream",
     "text": [
      "        A   B\n",
      "obj2  2.1  22\n"
     ]
    }
   ],
   "source": [
    "print(example_df[mask])"
   ]
  },
  {
   "cell_type": "markdown",
   "metadata": {},
   "source": [
    "By using the negate symbol `~`, you can flip `True` and `False` values:"
   ]
  },
  {
   "cell_type": "code",
   "execution_count": 260,
   "metadata": {},
   "outputs": [
    {
     "name": "stdout",
     "output_type": "stream",
     "text": [
      "obj1     True\n",
      "obj2    False\n",
      "obj3     True\n",
      "dtype: bool\n"
     ]
    }
   ],
   "source": [
    "print(~mask)"
   ]
  },
  {
   "cell_type": "code",
   "execution_count": 266,
   "metadata": {},
   "outputs": [
    {
     "name": "stdout",
     "output_type": "stream",
     "text": [
      "        A   B\n",
      "obj1  1.1  12\n",
      "obj3  3.1  32\n"
     ]
    }
   ],
   "source": [
    "print(example_df[~mask])"
   ]
  },
  {
   "cell_type": "markdown",
   "metadata": {},
   "source": [
    "Let's rehearse the Boolean indexing again:\n",
    "\n",
    "#### Which of the below statements selects both the first and the third row?"
   ]
  },
  {
   "cell_type": "code",
   "execution_count": 1,
   "metadata": {},
   "outputs": [
    {
     "data": {
      "application/vnd.jupyter.widget-view+json": {
       "model_id": "4685a4a0abd64db4b0ed16065254135d",
       "version_major": 2,
       "version_minor": 0
      },
      "text/plain": [
       "RadioButtons(layout=Layout(width='max-content'), options=(\"mask = example_df['A'] >= 3.1\", \"mask = example_df[…"
      ]
     },
     "metadata": {},
     "output_type": "display_data"
    }
   ],
   "source": [
    "%%mc\n",
    "mask = example_df['A'] >= 3.1\n",
    "mask = example_df['B'] < 20\n",
    "mask = (example_df['A'] >= 3.1) & (example_df['B'] < 20)\n",
    "mask = (example_df['A'] >= 3.1) | (example_df['B'] < 20)"
   ]
  },
  {
   "cell_type": "code",
   "execution_count": 5,
   "metadata": {},
   "outputs": [
    {
     "data": {
      "text/html": [
       "<table><tr style=\"background: green; color: white\"><td style=\"text-align:left\">Correct!</td></tr></table>"
      ],
      "text/plain": [
       "<IPython.core.display.HTML object>"
      ]
     },
     "metadata": {
      "text/html": {
       "username": "willem"
      }
     },
     "output_type": "display_data"
    }
   ],
   "source": [
    "%%check \n",
    "hashresult == 292691022 "
   ]
  },
  {
   "cell_type": "markdown",
   "metadata": {},
   "source": [
    "#### Create a mask that determines the rows where B > 20 and assign it to `mask`. Then use it to select these rows."
   ]
  },
  {
   "cell_type": "code",
   "execution_count": 278,
   "metadata": {},
   "outputs": [
    {
     "data": {
      "text/html": [
       "<div>\n",
       "<style scoped>\n",
       "    .dataframe tbody tr th:only-of-type {\n",
       "        vertical-align: middle;\n",
       "    }\n",
       "\n",
       "    .dataframe tbody tr th {\n",
       "        vertical-align: top;\n",
       "    }\n",
       "\n",
       "    .dataframe thead th {\n",
       "        text-align: right;\n",
       "    }\n",
       "</style>\n",
       "<table border=\"1\" class=\"dataframe\">\n",
       "  <thead>\n",
       "    <tr style=\"text-align: right;\">\n",
       "      <th></th>\n",
       "      <th>A</th>\n",
       "      <th>B</th>\n",
       "    </tr>\n",
       "  </thead>\n",
       "  <tbody>\n",
       "    <tr>\n",
       "      <th>obj2</th>\n",
       "      <td>2.1</td>\n",
       "      <td>22</td>\n",
       "    </tr>\n",
       "    <tr>\n",
       "      <th>obj3</th>\n",
       "      <td>3.1</td>\n",
       "      <td>32</td>\n",
       "    </tr>\n",
       "  </tbody>\n",
       "</table>\n",
       "</div>"
      ],
      "text/plain": [
       "        A   B\n",
       "obj2  2.1  22\n",
       "obj3  3.1  32"
      ]
     },
     "execution_count": 278,
     "metadata": {},
     "output_type": "execute_result"
    }
   ],
   "source": [
    "%%assignment\n",
    "# YOUR CODE HERE\n",
    "mask = example_df['B'] > 20\n",
    "example_df[mask]\n"
   ]
  },
  {
   "cell_type": "code",
   "execution_count": 285,
   "metadata": {},
   "outputs": [
    {
     "data": {
      "text/html": [
       "<table><tr style=\"background: green; color: white\"><td style=\"text-align:left\">Correct!</td></tr></table>"
      ],
      "text/plain": [
       "<IPython.core.display.HTML object>"
      ]
     },
     "metadata": {
      "text/html": {
       "username": "willem"
      }
     },
     "output_type": "display_data"
    }
   ],
   "source": [
    "%%check\n",
    "hashresult == 3593389503\n",
    "mask.dtype == 'bool'\n",
    "3.1 in example_df[mask].values "
   ]
  },
  {
   "cell_type": "markdown",
   "metadata": {},
   "source": [
    "### Combining DataFrames \n",
    "In the previous section, we looked at how to select parts of a DataFrame. Now we'll look at the opposite: adding columns or rows to the DataFrame. Let's first define to example DataFrames to work with:"
   ]
  },
  {
   "cell_type": "code",
   "execution_count": 145,
   "metadata": {},
   "outputs": [
    {
     "name": "stdout",
     "output_type": "stream",
     "text": [
      "        A   B\n",
      "obj1  1.1  12\n",
      "obj2  2.1  22\n",
      "obj3  3.1  32\n",
      "        B   C\n",
      "obj2 -1.1 -12\n",
      "obj3 -2.1 -22\n",
      "obj4 -3.1 -32\n"
     ]
    }
   ],
   "source": [
    "example_df = pd.DataFrame({\"A\":[1.1,2.1,3.1],\"B\":[12,22,32]},\n",
    "                    index=['obj1','obj2','obj3']) #example DataFrame\n",
    "print(example_df)\n",
    "\n",
    "example_df2 = pd.DataFrame({\"B\":[-1.1,-2.1,-3.1],\"C\":[-12,-22,-32]},\n",
    "                    index=['obj2','obj3','obj4']) #example DataFrame\n",
    "print(example_df2)"
   ]
  },
  {
   "cell_type": "markdown",
   "metadata": {},
   "source": [
    "An extra column can be simply added set by specifying a new column label:"
   ]
  },
  {
   "cell_type": "code",
   "execution_count": 133,
   "metadata": {},
   "outputs": [
    {
     "data": {
      "text/html": [
       "<div>\n",
       "<style scoped>\n",
       "    .dataframe tbody tr th:only-of-type {\n",
       "        vertical-align: middle;\n",
       "    }\n",
       "\n",
       "    .dataframe tbody tr th {\n",
       "        vertical-align: top;\n",
       "    }\n",
       "\n",
       "    .dataframe thead th {\n",
       "        text-align: right;\n",
       "    }\n",
       "</style>\n",
       "<table border=\"1\" class=\"dataframe\">\n",
       "  <thead>\n",
       "    <tr style=\"text-align: right;\">\n",
       "      <th></th>\n",
       "      <th>A</th>\n",
       "      <th>B</th>\n",
       "      <th>C</th>\n",
       "    </tr>\n",
       "  </thead>\n",
       "  <tbody>\n",
       "    <tr>\n",
       "      <th>obj1</th>\n",
       "      <td>1.1</td>\n",
       "      <td>12</td>\n",
       "      <td>144</td>\n",
       "    </tr>\n",
       "    <tr>\n",
       "      <th>obj2</th>\n",
       "      <td>2.1</td>\n",
       "      <td>22</td>\n",
       "      <td>484</td>\n",
       "    </tr>\n",
       "    <tr>\n",
       "      <th>obj3</th>\n",
       "      <td>3.1</td>\n",
       "      <td>32</td>\n",
       "      <td>1024</td>\n",
       "    </tr>\n",
       "  </tbody>\n",
       "</table>\n",
       "</div>"
      ],
      "text/plain": [
       "        A   B     C\n",
       "obj1  1.1  12   144\n",
       "obj2  2.1  22   484\n",
       "obj3  3.1  32  1024"
      ]
     },
     "execution_count": 133,
     "metadata": {},
     "output_type": "execute_result"
    }
   ],
   "source": [
    "example_df[\"C\"] =example_df[\"B\"]**2\n",
    "example_df"
   ]
  },
  {
   "cell_type": "markdown",
   "metadata": {},
   "source": [
    "And we can remove the column again by selecting only the original columns:"
   ]
  },
  {
   "cell_type": "code",
   "execution_count": 134,
   "metadata": {},
   "outputs": [
    {
     "data": {
      "text/html": [
       "<div>\n",
       "<style scoped>\n",
       "    .dataframe tbody tr th:only-of-type {\n",
       "        vertical-align: middle;\n",
       "    }\n",
       "\n",
       "    .dataframe tbody tr th {\n",
       "        vertical-align: top;\n",
       "    }\n",
       "\n",
       "    .dataframe thead th {\n",
       "        text-align: right;\n",
       "    }\n",
       "</style>\n",
       "<table border=\"1\" class=\"dataframe\">\n",
       "  <thead>\n",
       "    <tr style=\"text-align: right;\">\n",
       "      <th></th>\n",
       "      <th>A</th>\n",
       "      <th>B</th>\n",
       "    </tr>\n",
       "  </thead>\n",
       "  <tbody>\n",
       "    <tr>\n",
       "      <th>obj1</th>\n",
       "      <td>1.1</td>\n",
       "      <td>12</td>\n",
       "    </tr>\n",
       "    <tr>\n",
       "      <th>obj2</th>\n",
       "      <td>2.1</td>\n",
       "      <td>22</td>\n",
       "    </tr>\n",
       "    <tr>\n",
       "      <th>obj3</th>\n",
       "      <td>3.1</td>\n",
       "      <td>32</td>\n",
       "    </tr>\n",
       "  </tbody>\n",
       "</table>\n",
       "</div>"
      ],
      "text/plain": [
       "        A   B\n",
       "obj1  1.1  12\n",
       "obj2  2.1  22\n",
       "obj3  3.1  32"
      ]
     },
     "execution_count": 134,
     "metadata": {},
     "output_type": "execute_result"
    }
   ],
   "source": [
    "example_df = example_df[[\"A\",\"B\"]]\n",
    "example_df"
   ]
  },
  {
   "cell_type": "markdown",
   "metadata": {},
   "source": [
    "If we want to combine to larger DataFrames, we can use the Pandas function `concat`:"
   ]
  },
  {
   "cell_type": "code",
   "execution_count": 135,
   "metadata": {},
   "outputs": [
    {
     "data": {
      "text/html": [
       "<div>\n",
       "<style scoped>\n",
       "    .dataframe tbody tr th:only-of-type {\n",
       "        vertical-align: middle;\n",
       "    }\n",
       "\n",
       "    .dataframe tbody tr th {\n",
       "        vertical-align: top;\n",
       "    }\n",
       "\n",
       "    .dataframe thead th {\n",
       "        text-align: right;\n",
       "    }\n",
       "</style>\n",
       "<table border=\"1\" class=\"dataframe\">\n",
       "  <thead>\n",
       "    <tr style=\"text-align: right;\">\n",
       "      <th></th>\n",
       "      <th>A</th>\n",
       "      <th>B</th>\n",
       "      <th>C</th>\n",
       "    </tr>\n",
       "  </thead>\n",
       "  <tbody>\n",
       "    <tr>\n",
       "      <th>obj1</th>\n",
       "      <td>1.1</td>\n",
       "      <td>12.0</td>\n",
       "      <td>NaN</td>\n",
       "    </tr>\n",
       "    <tr>\n",
       "      <th>obj2</th>\n",
       "      <td>2.1</td>\n",
       "      <td>22.0</td>\n",
       "      <td>NaN</td>\n",
       "    </tr>\n",
       "    <tr>\n",
       "      <th>obj3</th>\n",
       "      <td>3.1</td>\n",
       "      <td>32.0</td>\n",
       "      <td>NaN</td>\n",
       "    </tr>\n",
       "    <tr>\n",
       "      <th>obj2</th>\n",
       "      <td>NaN</td>\n",
       "      <td>-1.1</td>\n",
       "      <td>-12.0</td>\n",
       "    </tr>\n",
       "    <tr>\n",
       "      <th>obj3</th>\n",
       "      <td>NaN</td>\n",
       "      <td>-2.1</td>\n",
       "      <td>-22.0</td>\n",
       "    </tr>\n",
       "    <tr>\n",
       "      <th>obj4</th>\n",
       "      <td>NaN</td>\n",
       "      <td>-3.1</td>\n",
       "      <td>-32.0</td>\n",
       "    </tr>\n",
       "  </tbody>\n",
       "</table>\n",
       "</div>"
      ],
      "text/plain": [
       "        A     B     C\n",
       "obj1  1.1  12.0   NaN\n",
       "obj2  2.1  22.0   NaN\n",
       "obj3  3.1  32.0   NaN\n",
       "obj2  NaN  -1.1 -12.0\n",
       "obj3  NaN  -2.1 -22.0\n",
       "obj4  NaN  -3.1 -32.0"
      ]
     },
     "execution_count": 135,
     "metadata": {},
     "output_type": "execute_result"
    }
   ],
   "source": [
    "pd.concat([example_df,example_df2]) "
   ]
  },
  {
   "cell_type": "markdown",
   "metadata": {},
   "source": [
    "The second DataFrame is added as extra rows to the first. Since `example_df` doesn't have a column `C`, the resulting cells are shown as missing values. The same goes for `example_df2` and column `A`. Note that a list of DataFrames is given to `concat`, and this list can have an arbitrary length:"
   ]
  },
  {
   "cell_type": "code",
   "execution_count": 159,
   "metadata": {},
   "outputs": [
    {
     "data": {
      "text/html": [
       "<div>\n",
       "<style scoped>\n",
       "    .dataframe tbody tr th:only-of-type {\n",
       "        vertical-align: middle;\n",
       "    }\n",
       "\n",
       "    .dataframe tbody tr th {\n",
       "        vertical-align: top;\n",
       "    }\n",
       "\n",
       "    .dataframe thead th {\n",
       "        text-align: right;\n",
       "    }\n",
       "</style>\n",
       "<table border=\"1\" class=\"dataframe\">\n",
       "  <thead>\n",
       "    <tr style=\"text-align: right;\">\n",
       "      <th></th>\n",
       "      <th>A</th>\n",
       "      <th>B</th>\n",
       "      <th>C</th>\n",
       "    </tr>\n",
       "  </thead>\n",
       "  <tbody>\n",
       "    <tr>\n",
       "      <th>obj1</th>\n",
       "      <td>12.0</td>\n",
       "      <td>1.1</td>\n",
       "      <td>NaN</td>\n",
       "    </tr>\n",
       "    <tr>\n",
       "      <th>obj2</th>\n",
       "      <td>22.0</td>\n",
       "      <td>2.1</td>\n",
       "      <td>NaN</td>\n",
       "    </tr>\n",
       "    <tr>\n",
       "      <th>obj3</th>\n",
       "      <td>32.0</td>\n",
       "      <td>3.1</td>\n",
       "      <td>NaN</td>\n",
       "    </tr>\n",
       "    <tr>\n",
       "      <th>obj2</th>\n",
       "      <td>NaN</td>\n",
       "      <td>-1.1</td>\n",
       "      <td>-12.0</td>\n",
       "    </tr>\n",
       "    <tr>\n",
       "      <th>obj3</th>\n",
       "      <td>NaN</td>\n",
       "      <td>-2.1</td>\n",
       "      <td>-22.0</td>\n",
       "    </tr>\n",
       "    <tr>\n",
       "      <th>obj4</th>\n",
       "      <td>NaN</td>\n",
       "      <td>-3.1</td>\n",
       "      <td>-32.0</td>\n",
       "    </tr>\n",
       "    <tr>\n",
       "      <th>obj1</th>\n",
       "      <td>24.0</td>\n",
       "      <td>2.2</td>\n",
       "      <td>NaN</td>\n",
       "    </tr>\n",
       "    <tr>\n",
       "      <th>obj2</th>\n",
       "      <td>44.0</td>\n",
       "      <td>4.2</td>\n",
       "      <td>NaN</td>\n",
       "    </tr>\n",
       "    <tr>\n",
       "      <th>obj3</th>\n",
       "      <td>64.0</td>\n",
       "      <td>6.2</td>\n",
       "      <td>NaN</td>\n",
       "    </tr>\n",
       "    <tr>\n",
       "      <th>obj2</th>\n",
       "      <td>NaN</td>\n",
       "      <td>-3.3</td>\n",
       "      <td>-36.0</td>\n",
       "    </tr>\n",
       "    <tr>\n",
       "      <th>obj3</th>\n",
       "      <td>NaN</td>\n",
       "      <td>-6.3</td>\n",
       "      <td>-66.0</td>\n",
       "    </tr>\n",
       "    <tr>\n",
       "      <th>obj4</th>\n",
       "      <td>NaN</td>\n",
       "      <td>-9.3</td>\n",
       "      <td>-96.0</td>\n",
       "    </tr>\n",
       "  </tbody>\n",
       "</table>\n",
       "</div>"
      ],
      "text/plain": [
       "         A    B     C\n",
       "obj1  12.0  1.1   NaN\n",
       "obj2  22.0  2.1   NaN\n",
       "obj3  32.0  3.1   NaN\n",
       "obj2   NaN -1.1 -12.0\n",
       "obj3   NaN -2.1 -22.0\n",
       "obj4   NaN -3.1 -32.0\n",
       "obj1  24.0  2.2   NaN\n",
       "obj2  44.0  4.2   NaN\n",
       "obj3  64.0  6.2   NaN\n",
       "obj2   NaN -3.3 -36.0\n",
       "obj3   NaN -6.3 -66.0\n",
       "obj4   NaN -9.3 -96.0"
      ]
     },
     "execution_count": 159,
     "metadata": {},
     "output_type": "execute_result"
    }
   ],
   "source": [
    "pd.concat([example_df,example_df2,2*example_df,3*example_df2]) "
   ]
  },
  {
   "cell_type": "markdown",
   "metadata": {},
   "source": [
    "We can also add the DataFrame as extra columns by setting `axis=1`:"
   ]
  },
  {
   "cell_type": "code",
   "execution_count": 136,
   "metadata": {},
   "outputs": [
    {
     "data": {
      "text/html": [
       "<div>\n",
       "<style scoped>\n",
       "    .dataframe tbody tr th:only-of-type {\n",
       "        vertical-align: middle;\n",
       "    }\n",
       "\n",
       "    .dataframe tbody tr th {\n",
       "        vertical-align: top;\n",
       "    }\n",
       "\n",
       "    .dataframe thead th {\n",
       "        text-align: right;\n",
       "    }\n",
       "</style>\n",
       "<table border=\"1\" class=\"dataframe\">\n",
       "  <thead>\n",
       "    <tr style=\"text-align: right;\">\n",
       "      <th></th>\n",
       "      <th>A</th>\n",
       "      <th>B</th>\n",
       "      <th>B</th>\n",
       "      <th>C</th>\n",
       "    </tr>\n",
       "  </thead>\n",
       "  <tbody>\n",
       "    <tr>\n",
       "      <th>obj1</th>\n",
       "      <td>1.1</td>\n",
       "      <td>12.0</td>\n",
       "      <td>NaN</td>\n",
       "      <td>NaN</td>\n",
       "    </tr>\n",
       "    <tr>\n",
       "      <th>obj2</th>\n",
       "      <td>2.1</td>\n",
       "      <td>22.0</td>\n",
       "      <td>-1.1</td>\n",
       "      <td>-12.0</td>\n",
       "    </tr>\n",
       "    <tr>\n",
       "      <th>obj3</th>\n",
       "      <td>3.1</td>\n",
       "      <td>32.0</td>\n",
       "      <td>-2.1</td>\n",
       "      <td>-22.0</td>\n",
       "    </tr>\n",
       "    <tr>\n",
       "      <th>obj4</th>\n",
       "      <td>NaN</td>\n",
       "      <td>NaN</td>\n",
       "      <td>-3.1</td>\n",
       "      <td>-32.0</td>\n",
       "    </tr>\n",
       "  </tbody>\n",
       "</table>\n",
       "</div>"
      ],
      "text/plain": [
       "        A     B    B     C\n",
       "obj1  1.1  12.0  NaN   NaN\n",
       "obj2  2.1  22.0 -1.1 -12.0\n",
       "obj3  3.1  32.0 -2.1 -22.0\n",
       "obj4  NaN   NaN -3.1 -32.0"
      ]
     },
     "execution_count": 136,
     "metadata": {},
     "output_type": "execute_result"
    }
   ],
   "source": [
    "pd.concat([example_df,example_df2],axis=1) "
   ]
  },
  {
   "cell_type": "markdown",
   "metadata": {},
   "source": [
    "There are again missing values since `example_df` doesn't have an `obj4` row, and `example_df2` doesn't have an `obj1` row. \n",
    "\n",
    "Let's rehearse again: \n",
    "\n",
    "#### Which of the following statement(s) will give an error?"
   ]
  },
  {
   "cell_type": "code",
   "execution_count": 149,
   "metadata": {},
   "outputs": [
    {
     "data": {
      "application/vnd.jupyter.widget-view+json": {
       "model_id": "0b383be76fce4ce89f5f7ab65253f19c",
       "version_major": 2,
       "version_minor": 0
      },
      "text/plain": [
       "VBox(children=(Checkbox(value=False, description='example_df[\"A\"] == example_df[\"B\"]', layout=Layout(width='ma…"
      ]
     },
     "metadata": {},
     "output_type": "display_data"
    }
   ],
   "source": [
    "%%mmc\n",
    "example_df[\"A\"] == example_df[\"B\"]\n",
    "pd.concat(example_df[\"A\"],example_df[\"B\"],axis=0)\n",
    "pd.concat([example_df[\"A\"],example_df[\"B\"]],axis=1)\n",
    "example_df[[\"A\",\"B\"]] = example_df[[\"B\",\"A\"]] "
   ]
  },
  {
   "cell_type": "code",
   "execution_count": 158,
   "metadata": {},
   "outputs": [
    {
     "data": {
      "text/html": [
       "<table><tr style=\"background: green; color: white\"><td style=\"text-align:left\">Correct!</td></tr></table>"
      ],
      "text/plain": [
       "<IPython.core.display.HTML object>"
      ]
     },
     "metadata": {
      "text/html": {
       "username": "willem"
      }
     },
     "output_type": "display_data"
    }
   ],
   "source": [
    "%%check\n",
    "hashresult == 658645187"
   ]
  },
  {
   "cell_type": "markdown",
   "metadata": {},
   "source": [
    "#### Add a column `C` to `example_df` that contains the sum of columns `A` and `B`:"
   ]
  },
  {
   "cell_type": "code",
   "execution_count": 137,
   "metadata": {},
   "outputs": [
    {
     "data": {
      "text/html": [
       "<div>\n",
       "<style scoped>\n",
       "    .dataframe tbody tr th:only-of-type {\n",
       "        vertical-align: middle;\n",
       "    }\n",
       "\n",
       "    .dataframe tbody tr th {\n",
       "        vertical-align: top;\n",
       "    }\n",
       "\n",
       "    .dataframe thead th {\n",
       "        text-align: right;\n",
       "    }\n",
       "</style>\n",
       "<table border=\"1\" class=\"dataframe\">\n",
       "  <thead>\n",
       "    <tr style=\"text-align: right;\">\n",
       "      <th></th>\n",
       "      <th>A</th>\n",
       "      <th>B</th>\n",
       "      <th>C</th>\n",
       "    </tr>\n",
       "  </thead>\n",
       "  <tbody>\n",
       "    <tr>\n",
       "      <th>obj1</th>\n",
       "      <td>1.1</td>\n",
       "      <td>12</td>\n",
       "      <td>13.1</td>\n",
       "    </tr>\n",
       "    <tr>\n",
       "      <th>obj2</th>\n",
       "      <td>2.1</td>\n",
       "      <td>22</td>\n",
       "      <td>24.1</td>\n",
       "    </tr>\n",
       "    <tr>\n",
       "      <th>obj3</th>\n",
       "      <td>3.1</td>\n",
       "      <td>32</td>\n",
       "      <td>35.1</td>\n",
       "    </tr>\n",
       "  </tbody>\n",
       "</table>\n",
       "</div>"
      ],
      "text/plain": [
       "        A   B     C\n",
       "obj1  1.1  12  13.1\n",
       "obj2  2.1  22  24.1\n",
       "obj3  3.1  32  35.1"
      ]
     },
     "execution_count": 137,
     "metadata": {},
     "output_type": "execute_result"
    }
   ],
   "source": [
    "%%assignment\n",
    "# YOUR CODE HERE\n",
    "example_df[\"C\"] = example_df[\"A\"]+example_df[\"B\"]\n",
    "\n",
    "example_df # leave this as final line to show the result"
   ]
  },
  {
   "cell_type": "code",
   "execution_count": 128,
   "metadata": {},
   "outputs": [
    {
     "data": {
      "text/html": [
       "<table><tr style=\"background: green; color: white\"><td style=\"text-align:left\">Correct!</td></tr></table>"
      ],
      "text/plain": [
       "<IPython.core.display.HTML object>"
      ]
     },
     "metadata": {
      "text/html": {
       "username": "willem"
      }
     },
     "output_type": "display_data"
    }
   ],
   "source": [
    "%%check\n",
    "hashresult == 847242578"
   ]
  },
  {
   "cell_type": "markdown",
   "metadata": {},
   "source": [
    "#### Now concatenate `example_df` and `example_df2` in the row direction"
   ]
  },
  {
   "cell_type": "code",
   "execution_count": 141,
   "metadata": {},
   "outputs": [
    {
     "data": {
      "text/html": [
       "<div>\n",
       "<style scoped>\n",
       "    .dataframe tbody tr th:only-of-type {\n",
       "        vertical-align: middle;\n",
       "    }\n",
       "\n",
       "    .dataframe tbody tr th {\n",
       "        vertical-align: top;\n",
       "    }\n",
       "\n",
       "    .dataframe thead th {\n",
       "        text-align: right;\n",
       "    }\n",
       "</style>\n",
       "<table border=\"1\" class=\"dataframe\">\n",
       "  <thead>\n",
       "    <tr style=\"text-align: right;\">\n",
       "      <th></th>\n",
       "      <th>A</th>\n",
       "      <th>B</th>\n",
       "      <th>C</th>\n",
       "    </tr>\n",
       "  </thead>\n",
       "  <tbody>\n",
       "    <tr>\n",
       "      <th>obj1</th>\n",
       "      <td>1.1</td>\n",
       "      <td>12.0</td>\n",
       "      <td>13.1</td>\n",
       "    </tr>\n",
       "    <tr>\n",
       "      <th>obj2</th>\n",
       "      <td>2.1</td>\n",
       "      <td>22.0</td>\n",
       "      <td>24.1</td>\n",
       "    </tr>\n",
       "    <tr>\n",
       "      <th>obj3</th>\n",
       "      <td>3.1</td>\n",
       "      <td>32.0</td>\n",
       "      <td>35.1</td>\n",
       "    </tr>\n",
       "    <tr>\n",
       "      <th>obj2</th>\n",
       "      <td>NaN</td>\n",
       "      <td>-1.1</td>\n",
       "      <td>-12.0</td>\n",
       "    </tr>\n",
       "    <tr>\n",
       "      <th>obj3</th>\n",
       "      <td>NaN</td>\n",
       "      <td>-2.1</td>\n",
       "      <td>-22.0</td>\n",
       "    </tr>\n",
       "    <tr>\n",
       "      <th>obj4</th>\n",
       "      <td>NaN</td>\n",
       "      <td>-3.1</td>\n",
       "      <td>-32.0</td>\n",
       "    </tr>\n",
       "  </tbody>\n",
       "</table>\n",
       "</div>"
      ],
      "text/plain": [
       "        A     B     C\n",
       "obj1  1.1  12.0  13.1\n",
       "obj2  2.1  22.0  24.1\n",
       "obj3  3.1  32.0  35.1\n",
       "obj2  NaN  -1.1 -12.0\n",
       "obj3  NaN  -2.1 -22.0\n",
       "obj4  NaN  -3.1 -32.0"
      ]
     },
     "execution_count": 141,
     "metadata": {},
     "output_type": "execute_result"
    }
   ],
   "source": [
    "%%assignment\n",
    "# YOUR CODE HERE\n",
    "pd.concat([example_df,example_df2])"
   ]
  },
  {
   "cell_type": "code",
   "execution_count": 142,
   "metadata": {},
   "outputs": [
    {
     "data": {
      "text/html": [
       "<table><tr style=\"background: green; color: white\"><td style=\"text-align:left\">Correct!</td></tr></table>"
      ],
      "text/plain": [
       "<IPython.core.display.HTML object>"
      ]
     },
     "metadata": {
      "text/html": {
       "username": "willem"
      }
     },
     "output_type": "display_data"
    }
   ],
   "source": [
    "%%check\n",
    "hashresult == 4236979653"
   ]
  },
  {
   "cell_type": "markdown",
   "metadata": {},
   "source": [
    "## File Inspection 2: statistics\n",
    "Pandas has functions to statistically describe columns of the DataFrame, such as `mean`, `median`, `max`, and `min`:\n",
    "\n"
   ]
  },
  {
   "cell_type": "code",
   "execution_count": 12,
   "metadata": {},
   "outputs": [
    {
     "data": {
      "text/html": [
       "<div>\n",
       "<style scoped>\n",
       "    .dataframe tbody tr th:only-of-type {\n",
       "        vertical-align: middle;\n",
       "    }\n",
       "\n",
       "    .dataframe tbody tr th {\n",
       "        vertical-align: top;\n",
       "    }\n",
       "\n",
       "    .dataframe thead th {\n",
       "        text-align: right;\n",
       "    }\n",
       "</style>\n",
       "<table border=\"1\" class=\"dataframe\">\n",
       "  <thead>\n",
       "    <tr style=\"text-align: right;\">\n",
       "      <th></th>\n",
       "      <th>X</th>\n",
       "      <th>Y</th>\n",
       "      <th>ID</th>\n",
       "      <th>BORNAME</th>\n",
       "      <th>ELEMENTNUMMER</th>\n",
       "      <th>BEHEERGROEP</th>\n",
       "      <th>AANLEGJAAR</th>\n",
       "      <th>BOOMSORTIMENT</th>\n",
       "      <th>BOOMSTATUS</th>\n",
       "      <th>TAKVRIJE_ZONE</th>\n",
       "      <th>...</th>\n",
       "      <th>EXTRA_INFORMATIE_3</th>\n",
       "      <th>GROENGEBIEDCODE</th>\n",
       "      <th>GROENGEBIEDNAAM</th>\n",
       "      <th>GEMEENTE</th>\n",
       "      <th>BUURT</th>\n",
       "      <th>WIJK</th>\n",
       "      <th>LIGGING</th>\n",
       "      <th>BEHEEROBJECTSOORT</th>\n",
       "      <th>BEHEEROBJECTOMSCHRIJVING</th>\n",
       "      <th>OBJECTID</th>\n",
       "    </tr>\n",
       "  </thead>\n",
       "  <tbody>\n",
       "    <tr>\n",
       "      <th>0</th>\n",
       "      <td>4.374816</td>\n",
       "      <td>52.029683</td>\n",
       "      <td>37732</td>\n",
       "      <td>bomen</td>\n",
       "      <td>1151</td>\n",
       "      <td>Niet vrij uitgroeiende boom</td>\n",
       "      <td>NaN</td>\n",
       "      <td>Pyrus calleryana 'Chanticleer'</td>\n",
       "      <td>NaN</td>\n",
       "      <td>Bereikt</td>\n",
       "      <td>...</td>\n",
       "      <td>IC2</td>\n",
       "      <td>01.16.0001</td>\n",
       "      <td>Bedrijventerrein Ypenburgsepoort</td>\n",
       "      <td>Delft</td>\n",
       "      <td>Bedrijventerrein Ypenburgsepoort</td>\n",
       "      <td>16 Delftse Hout</td>\n",
       "      <td>Binnen de bebouwde kom</td>\n",
       "      <td>bm</td>\n",
       "      <td>01.16.0001.bm1151</td>\n",
       "      <td>1</td>\n",
       "    </tr>\n",
       "    <tr>\n",
       "      <th>1</th>\n",
       "      <td>4.373551</td>\n",
       "      <td>52.031048</td>\n",
       "      <td>37780</td>\n",
       "      <td>bomen</td>\n",
       "      <td>1184</td>\n",
       "      <td>Niet vrij uitgroeiende boom</td>\n",
       "      <td>NaN</td>\n",
       "      <td>Acer campestre</td>\n",
       "      <td>NaN</td>\n",
       "      <td>Onbereikbaar, snoeiingreep ongewenst</td>\n",
       "      <td>...</td>\n",
       "      <td>IC2</td>\n",
       "      <td>01.16.0001</td>\n",
       "      <td>Bedrijventerrein Ypenburgsepoort</td>\n",
       "      <td>Delft</td>\n",
       "      <td>Bedrijventerrein Ypenburgsepoort</td>\n",
       "      <td>16 Delftse Hout</td>\n",
       "      <td>Binnen de bebouwde kom</td>\n",
       "      <td>bm</td>\n",
       "      <td>01.16.0001.bm1184</td>\n",
       "      <td>2</td>\n",
       "    </tr>\n",
       "    <tr>\n",
       "      <th>2</th>\n",
       "      <td>4.345117</td>\n",
       "      <td>51.994902</td>\n",
       "      <td>8154</td>\n",
       "      <td>bomen</td>\n",
       "      <td>43</td>\n",
       "      <td>Niet vrij uitgroeiende boom</td>\n",
       "      <td>1980.0</td>\n",
       "      <td>Ulmus x hollandica 'Vegeta'</td>\n",
       "      <td>NaN</td>\n",
       "      <td>Onbereikbaar, snoeiingreep ongewenst</td>\n",
       "      <td>...</td>\n",
       "      <td>IC3</td>\n",
       "      <td>01.25.0005</td>\n",
       "      <td>Het Rode Dorp</td>\n",
       "      <td>Delft</td>\n",
       "      <td>Het Rode Dorp</td>\n",
       "      <td>25 Buitenhof</td>\n",
       "      <td>Binnen de bebouwde kom</td>\n",
       "      <td>bm</td>\n",
       "      <td>01.25.0005.bm43</td>\n",
       "      <td>3</td>\n",
       "    </tr>\n",
       "    <tr>\n",
       "      <th>3</th>\n",
       "      <td>4.352882</td>\n",
       "      <td>52.013582</td>\n",
       "      <td>14766</td>\n",
       "      <td>bomen</td>\n",
       "      <td>89</td>\n",
       "      <td>Niet vrij uitgroeiende boom</td>\n",
       "      <td>1968.0</td>\n",
       "      <td>Aesculus hippocastanum 'Baumannii'</td>\n",
       "      <td>NaN</td>\n",
       "      <td>Onbereikbaar, snoeiingreep ongewenst</td>\n",
       "      <td>...</td>\n",
       "      <td>IC1</td>\n",
       "      <td>01.11.0002</td>\n",
       "      <td>Centrum-west</td>\n",
       "      <td>Delft</td>\n",
       "      <td>Centrum-West</td>\n",
       "      <td>11 Binnenstad</td>\n",
       "      <td>Binnen de bebouwde kom</td>\n",
       "      <td>bm</td>\n",
       "      <td>01.11.0002.bm89</td>\n",
       "      <td>4</td>\n",
       "    </tr>\n",
       "    <tr>\n",
       "      <th>4</th>\n",
       "      <td>4.357415</td>\n",
       "      <td>51.993470</td>\n",
       "      <td>17389</td>\n",
       "      <td>bomen</td>\n",
       "      <td>252</td>\n",
       "      <td>Niet vrij uitgroeiende boom</td>\n",
       "      <td>1968.0</td>\n",
       "      <td>Aesculus hippocastanum 'Baumannii'</td>\n",
       "      <td>NaN</td>\n",
       "      <td>Onbereikbaar, snoeiingreep ongewenst</td>\n",
       "      <td>...</td>\n",
       "      <td>IC3</td>\n",
       "      <td>01.24.0006</td>\n",
       "      <td>Voorhof-hoogbouw</td>\n",
       "      <td>Delft</td>\n",
       "      <td>Voorhof-Hoogbouw</td>\n",
       "      <td>24 Voorhof</td>\n",
       "      <td>Binnen de bebouwde kom</td>\n",
       "      <td>bm</td>\n",
       "      <td>01.24.0006.bm252</td>\n",
       "      <td>5</td>\n",
       "    </tr>\n",
       "    <tr>\n",
       "      <th>...</th>\n",
       "      <td>...</td>\n",
       "      <td>...</td>\n",
       "      <td>...</td>\n",
       "      <td>...</td>\n",
       "      <td>...</td>\n",
       "      <td>...</td>\n",
       "      <td>...</td>\n",
       "      <td>...</td>\n",
       "      <td>...</td>\n",
       "      <td>...</td>\n",
       "      <td>...</td>\n",
       "      <td>...</td>\n",
       "      <td>...</td>\n",
       "      <td>...</td>\n",
       "      <td>...</td>\n",
       "      <td>...</td>\n",
       "      <td>...</td>\n",
       "      <td>...</td>\n",
       "      <td>...</td>\n",
       "      <td>...</td>\n",
       "      <td>...</td>\n",
       "    </tr>\n",
       "    <tr>\n",
       "      <th>35378</th>\n",
       "      <td>4.343097</td>\n",
       "      <td>51.992807</td>\n",
       "      <td>35294</td>\n",
       "      <td>bomen</td>\n",
       "      <td>489</td>\n",
       "      <td>Boom Nader te bepalen</td>\n",
       "      <td>1983.0</td>\n",
       "      <td>Betula pendula</td>\n",
       "      <td>NaN</td>\n",
       "      <td>NaN</td>\n",
       "      <td>...</td>\n",
       "      <td>IC3</td>\n",
       "      <td>01.25.0003</td>\n",
       "      <td>Gillisbuurt</td>\n",
       "      <td>Delft</td>\n",
       "      <td>NaN</td>\n",
       "      <td>25 Buitenhof</td>\n",
       "      <td>Binnen de bebouwde kom</td>\n",
       "      <td>bm</td>\n",
       "      <td>01.25.0003.bm489</td>\n",
       "      <td>35379</td>\n",
       "    </tr>\n",
       "    <tr>\n",
       "      <th>35379</th>\n",
       "      <td>4.343493</td>\n",
       "      <td>51.993034</td>\n",
       "      <td>35296</td>\n",
       "      <td>bomen</td>\n",
       "      <td>491</td>\n",
       "      <td>Boom Nader te bepalen</td>\n",
       "      <td>1983.0</td>\n",
       "      <td>Crataegus laevigata</td>\n",
       "      <td>NaN</td>\n",
       "      <td>NaN</td>\n",
       "      <td>...</td>\n",
       "      <td>IC3</td>\n",
       "      <td>01.25.0003</td>\n",
       "      <td>Gillisbuurt</td>\n",
       "      <td>Delft</td>\n",
       "      <td>NaN</td>\n",
       "      <td>25 Buitenhof</td>\n",
       "      <td>Binnen de bebouwde kom</td>\n",
       "      <td>bm</td>\n",
       "      <td>01.25.0003.bm491</td>\n",
       "      <td>35380</td>\n",
       "    </tr>\n",
       "    <tr>\n",
       "      <th>35380</th>\n",
       "      <td>4.343393</td>\n",
       "      <td>51.992935</td>\n",
       "      <td>35297</td>\n",
       "      <td>bomen</td>\n",
       "      <td>492</td>\n",
       "      <td>Boom Nader te bepalen</td>\n",
       "      <td>1983.0</td>\n",
       "      <td>Betula pendula</td>\n",
       "      <td>NaN</td>\n",
       "      <td>Bereikt</td>\n",
       "      <td>...</td>\n",
       "      <td>IC3</td>\n",
       "      <td>01.25.0003</td>\n",
       "      <td>Gillisbuurt</td>\n",
       "      <td>Delft</td>\n",
       "      <td>NaN</td>\n",
       "      <td>25 Buitenhof</td>\n",
       "      <td>Binnen de bebouwde kom</td>\n",
       "      <td>bm</td>\n",
       "      <td>01.25.0003.bm492</td>\n",
       "      <td>35381</td>\n",
       "    </tr>\n",
       "    <tr>\n",
       "      <th>35381</th>\n",
       "      <td>4.343578</td>\n",
       "      <td>51.992749</td>\n",
       "      <td>35301</td>\n",
       "      <td>bomen</td>\n",
       "      <td>495</td>\n",
       "      <td>Niet vrij uitgroeiende boom</td>\n",
       "      <td>1983.0</td>\n",
       "      <td>Fraxinus excelsior</td>\n",
       "      <td>NaN</td>\n",
       "      <td>Onbereikbaar, snoeiingreep ongewenst</td>\n",
       "      <td>...</td>\n",
       "      <td>IC3</td>\n",
       "      <td>01.25.0003</td>\n",
       "      <td>Gillisbuurt</td>\n",
       "      <td>Delft</td>\n",
       "      <td>NaN</td>\n",
       "      <td>25 Buitenhof</td>\n",
       "      <td>Binnen de bebouwde kom</td>\n",
       "      <td>bm</td>\n",
       "      <td>01.25.0003.bm495</td>\n",
       "      <td>35382</td>\n",
       "    </tr>\n",
       "    <tr>\n",
       "      <th>35382</th>\n",
       "      <td>4.343506</td>\n",
       "      <td>51.992816</td>\n",
       "      <td>35302</td>\n",
       "      <td>bomen</td>\n",
       "      <td>496</td>\n",
       "      <td>Niet vrij uitgroeiende boom</td>\n",
       "      <td>1983.0</td>\n",
       "      <td>Acer campestre</td>\n",
       "      <td>NaN</td>\n",
       "      <td>Onbereikbaar, snoeiingreep ongewenst</td>\n",
       "      <td>...</td>\n",
       "      <td>IC3</td>\n",
       "      <td>01.25.0003</td>\n",
       "      <td>Gillisbuurt</td>\n",
       "      <td>Delft</td>\n",
       "      <td>NaN</td>\n",
       "      <td>25 Buitenhof</td>\n",
       "      <td>Binnen de bebouwde kom</td>\n",
       "      <td>bm</td>\n",
       "      <td>01.25.0003.bm496</td>\n",
       "      <td>35383</td>\n",
       "    </tr>\n",
       "  </tbody>\n",
       "</table>\n",
       "<p>35383 rows × 28 columns</p>\n",
       "</div>"
      ],
      "text/plain": [
       "              X          Y     ID BORNAME  ELEMENTNUMMER  \\\n",
       "0      4.374816  52.029683  37732   bomen           1151   \n",
       "1      4.373551  52.031048  37780   bomen           1184   \n",
       "2      4.345117  51.994902   8154   bomen             43   \n",
       "3      4.352882  52.013582  14766   bomen             89   \n",
       "4      4.357415  51.993470  17389   bomen            252   \n",
       "...         ...        ...    ...     ...            ...   \n",
       "35378  4.343097  51.992807  35294   bomen            489   \n",
       "35379  4.343493  51.993034  35296   bomen            491   \n",
       "35380  4.343393  51.992935  35297   bomen            492   \n",
       "35381  4.343578  51.992749  35301   bomen            495   \n",
       "35382  4.343506  51.992816  35302   bomen            496   \n",
       "\n",
       "                       BEHEERGROEP  AANLEGJAAR  \\\n",
       "0      Niet vrij uitgroeiende boom         NaN   \n",
       "1      Niet vrij uitgroeiende boom         NaN   \n",
       "2      Niet vrij uitgroeiende boom      1980.0   \n",
       "3      Niet vrij uitgroeiende boom      1968.0   \n",
       "4      Niet vrij uitgroeiende boom      1968.0   \n",
       "...                            ...         ...   \n",
       "35378        Boom Nader te bepalen      1983.0   \n",
       "35379        Boom Nader te bepalen      1983.0   \n",
       "35380        Boom Nader te bepalen      1983.0   \n",
       "35381  Niet vrij uitgroeiende boom      1983.0   \n",
       "35382  Niet vrij uitgroeiende boom      1983.0   \n",
       "\n",
       "                            BOOMSORTIMENT BOOMSTATUS  \\\n",
       "0          Pyrus calleryana 'Chanticleer'        NaN   \n",
       "1                          Acer campestre        NaN   \n",
       "2             Ulmus x hollandica 'Vegeta'        NaN   \n",
       "3      Aesculus hippocastanum 'Baumannii'        NaN   \n",
       "4      Aesculus hippocastanum 'Baumannii'        NaN   \n",
       "...                                   ...        ...   \n",
       "35378                      Betula pendula        NaN   \n",
       "35379                 Crataegus laevigata        NaN   \n",
       "35380                      Betula pendula        NaN   \n",
       "35381                  Fraxinus excelsior        NaN   \n",
       "35382                      Acer campestre        NaN   \n",
       "\n",
       "                              TAKVRIJE_ZONE  ... EXTRA_INFORMATIE_3  \\\n",
       "0                                   Bereikt  ...                IC2   \n",
       "1      Onbereikbaar, snoeiingreep ongewenst  ...                IC2   \n",
       "2      Onbereikbaar, snoeiingreep ongewenst  ...                IC3   \n",
       "3      Onbereikbaar, snoeiingreep ongewenst  ...                IC1   \n",
       "4      Onbereikbaar, snoeiingreep ongewenst  ...                IC3   \n",
       "...                                     ...  ...                ...   \n",
       "35378                                   NaN  ...                IC3   \n",
       "35379                                   NaN  ...                IC3   \n",
       "35380                               Bereikt  ...                IC3   \n",
       "35381  Onbereikbaar, snoeiingreep ongewenst  ...                IC3   \n",
       "35382  Onbereikbaar, snoeiingreep ongewenst  ...                IC3   \n",
       "\n",
       "      GROENGEBIEDCODE                   GROENGEBIEDNAAM  GEMEENTE  \\\n",
       "0          01.16.0001  Bedrijventerrein Ypenburgsepoort     Delft   \n",
       "1          01.16.0001  Bedrijventerrein Ypenburgsepoort     Delft   \n",
       "2          01.25.0005                     Het Rode Dorp     Delft   \n",
       "3          01.11.0002                      Centrum-west     Delft   \n",
       "4          01.24.0006                  Voorhof-hoogbouw     Delft   \n",
       "...               ...                               ...       ...   \n",
       "35378      01.25.0003                       Gillisbuurt     Delft   \n",
       "35379      01.25.0003                       Gillisbuurt     Delft   \n",
       "35380      01.25.0003                       Gillisbuurt     Delft   \n",
       "35381      01.25.0003                       Gillisbuurt     Delft   \n",
       "35382      01.25.0003                       Gillisbuurt     Delft   \n",
       "\n",
       "                                  BUURT             WIJK  \\\n",
       "0      Bedrijventerrein Ypenburgsepoort  16 Delftse Hout   \n",
       "1      Bedrijventerrein Ypenburgsepoort  16 Delftse Hout   \n",
       "2                         Het Rode Dorp     25 Buitenhof   \n",
       "3                          Centrum-West    11 Binnenstad   \n",
       "4                      Voorhof-Hoogbouw       24 Voorhof   \n",
       "...                                 ...              ...   \n",
       "35378                               NaN     25 Buitenhof   \n",
       "35379                               NaN     25 Buitenhof   \n",
       "35380                               NaN     25 Buitenhof   \n",
       "35381                               NaN     25 Buitenhof   \n",
       "35382                               NaN     25 Buitenhof   \n",
       "\n",
       "                      LIGGING BEHEEROBJECTSOORT BEHEEROBJECTOMSCHRIJVING  \\\n",
       "0      Binnen de bebouwde kom                bm        01.16.0001.bm1151   \n",
       "1      Binnen de bebouwde kom                bm        01.16.0001.bm1184   \n",
       "2      Binnen de bebouwde kom                bm          01.25.0005.bm43   \n",
       "3      Binnen de bebouwde kom                bm          01.11.0002.bm89   \n",
       "4      Binnen de bebouwde kom                bm         01.24.0006.bm252   \n",
       "...                       ...               ...                      ...   \n",
       "35378  Binnen de bebouwde kom                bm         01.25.0003.bm489   \n",
       "35379  Binnen de bebouwde kom                bm         01.25.0003.bm491   \n",
       "35380  Binnen de bebouwde kom                bm         01.25.0003.bm492   \n",
       "35381  Binnen de bebouwde kom                bm         01.25.0003.bm495   \n",
       "35382  Binnen de bebouwde kom                bm         01.25.0003.bm496   \n",
       "\n",
       "      OBJECTID  \n",
       "0            1  \n",
       "1            2  \n",
       "2            3  \n",
       "3            4  \n",
       "4            5  \n",
       "...        ...  \n",
       "35378    35379  \n",
       "35379    35380  \n",
       "35380    35381  \n",
       "35381    35382  \n",
       "35382    35383  \n",
       "\n",
       "[35383 rows x 28 columns]"
      ]
     },
     "execution_count": 12,
     "metadata": {},
     "output_type": "execute_result"
    }
   ],
   "source": [
    "trees_df"
   ]
  },
  {
   "cell_type": "code",
   "execution_count": 4,
   "metadata": {},
   "outputs": [
    {
     "data": {
      "text/plain": [
       "1981.839550051297"
      ]
     },
     "execution_count": 4,
     "metadata": {},
     "output_type": "execute_result"
    }
   ],
   "source": [
    "trees_df.AANLEGJAAR.mean() "
   ]
  },
  {
   "cell_type": "markdown",
   "metadata": {},
   "source": [
    "When calculating the mean, the missing cells with value `NaN` are ignored. \n",
    "\n",
    "#### Find out when the oldest tree (that we know of) was planted."
   ]
  },
  {
   "cell_type": "code",
   "execution_count": 6,
   "metadata": {},
   "outputs": [
    {
     "data": {
      "text/plain": [
       "1020.0"
      ]
     },
     "execution_count": 6,
     "metadata": {},
     "output_type": "execute_result"
    }
   ],
   "source": [
    "trees_df.AANLEGJAAR.min() "
   ]
  },
  {
   "cell_type": "code",
   "execution_count": 5,
   "metadata": {},
   "outputs": [
    {
     "data": {
      "application/vnd.jupyter.widget-view+json": {
       "model_id": "ad26dd56d0974cae891ed88468b8f9f8",
       "version_major": 2,
       "version_minor": 0
      },
      "text/plain": [
       "IntSlider(value=1597, max=2000, min=1000)"
      ]
     },
     "metadata": {},
     "output_type": "display_data"
    }
   ],
   "source": [
    "%%slider\n",
    "1000 2000\n"
   ]
  },
  {
   "cell_type": "code",
   "execution_count": 7,
   "metadata": {},
   "outputs": [
    {
     "data": {
      "text/html": [
       "<table><tr style=\"background: green; color: white\"><td style=\"text-align:left\">Correct!</td></tr></table>"
      ],
      "text/plain": [
       "<IPython.core.display.HTML object>"
      ]
     },
     "metadata": {
      "text/html": {
       "username": "willem"
      }
     },
     "output_type": "display_data"
    }
   ],
   "source": [
    "%%check\n",
    "hashresult == 380589968"
   ]
  },
  {
   "cell_type": "markdown",
   "metadata": {},
   "source": [
    "The function `value counts` shows "
   ]
  },
  {
   "cell_type": "code",
   "execution_count": 10,
   "metadata": {},
   "outputs": [
    {
     "data": {
      "text/plain": [
       "count    27292.000000\n",
       "mean      1981.839550\n",
       "std         18.144141\n",
       "min       1020.000000\n",
       "25%       1972.000000\n",
       "50%       1983.000000\n",
       "75%       1987.000000\n",
       "max       2920.000000\n",
       "Name: AANLEGJAAR, dtype: float64"
      ]
     },
     "execution_count": 10,
     "metadata": {},
     "output_type": "execute_result"
    }
   ],
   "source": [
    "trees_df.AANLEGJAAR.min()\n",
    "trees_df.AANLEGJAAR.max()\n",
    "trees_df.AANLEGJAAR.median()\n",
    "trees_df.AANLEGJAAR.mean()\n",
    "trees_df.AANLEGJAAR.value_counts()\n",
    "trees_df.AANLEGJAAR.notna()\n",
    "trees_df.AANLEGJAAR.isna()\n",
    "trees_df.AANLEGJAAR.describe()"
   ]
  },
  {
   "cell_type": "markdown",
   "metadata": {},
   "source": [
    "Assignment"
   ]
  },
  {
   "cell_type": "markdown",
   "metadata": {},
   "source": [
    "waar staan oudste bomen?\n",
    "plaatje van de verdeling van boomsoorten (verwijder '' delen)"
   ]
  },
  {
   "cell_type": "code",
   "execution_count": 4,
   "metadata": {},
   "outputs": [
    {
     "data": {
      "text/plain": [
       "0          6-9 m.\n",
       "1         9-12 m.\n",
       "2        15-18 m.\n",
       "3          6-9 m.\n",
       "4        15-18 m.\n",
       "           ...   \n",
       "35378         NaN\n",
       "35379         NaN\n",
       "35380    12-15 m.\n",
       "35381    15-18 m.\n",
       "35382    12-15 m.\n",
       "Name: HOOGTE, Length: 35383, dtype: object"
      ]
     },
     "execution_count": 4,
     "metadata": {},
     "output_type": "execute_result"
    }
   ],
   "source": [
    "trees_df.HOOGTE"
   ]
  }
 ],
 "metadata": {
  "kernelspec": {
   "display_name": "prog",
   "language": "python",
   "name": "prog"
  },
  "language_info": {
   "codemirror_mode": {
    "name": "ipython",
    "version": 3
   },
   "file_extension": ".py",
   "mimetype": "text/x-python",
   "name": "python",
   "nbconvert_exporter": "python",
   "pygments_lexer": "ipython3",
   "version": "3.8.8"
  },
  "vscode": {
   "interpreter": {
    "hash": "31f2aee4e71d21fbe5cf8b01ff0e069b9275f58929596ceb00d14d90e3e16cd6"
   }
  }
 },
 "nbformat": 4,
 "nbformat_minor": 2
}
