{
 "cells": [
  {
   "cell_type": "markdown",
   "metadata": {},
   "source": [
    "# Changing Money\n",
    "\n",
    "This is extension to a previous assignment to determine how change can be given in a shop using the minimum amount of coins. We will create a program for this in simple steps."
   ]
  },
  {
   "cell_type": "code",
   "execution_count": null,
   "metadata": {},
   "outputs": [],
   "source": [
    "amount = 765   # amount to be paid in cents\n",
    "paid = 1000    # amount paid in cents (i.e. a E10 bill)"
   ]
  },
  {
   "cell_type": "code",
   "execution_count": null,
   "metadata": {},
   "outputs": [],
   "source": [
    "change = paid - amount   # the amount of change to be returned"
   ]
  },
  {
   "cell_type": "markdown",
   "metadata": {},
   "source": [
    "#### Compute the minimum number of `total_coins ` that must be returned as change. You may use the coin values in the list `coins`.\n",
    "\n",
    "e.g. for change = 45 you should set total_coins to 3 (2 coins of 20 cents and 1 coin of 5 cents)\n",
    "\n",
    "Hint: one possible solution includes modulo and integer divisions."
   ]
  },
  {
   "cell_type": "code",
   "execution_count": null,
   "metadata": {},
   "outputs": [],
   "source": [
    "coins = [200, 100, 50, 20, 10, 5]"
   ]
  },
  {
   "cell_type": "code",
   "execution_count": null,
   "metadata": {
    "nbgrader": {
     "grade": false,
     "grade_id": "cell-8481c0d1dda30307",
     "locked": false,
     "schema_version": 3,
     "solution": true,
     "task": false
    }
   },
   "outputs": [],
   "source": [
    "%%assignment\n",
    "total_coins = 0\n",
    "### BEGIN SOLUTION\n",
    "for c in coins:\n",
    "    total_coins += change // c\n",
    "    change = change % c\n",
    "### END SOLUTION\n",
    "total_coins"
   ]
  },
  {
   "cell_type": "code",
   "execution_count": null,
   "metadata": {
    "nbgrader": {
     "grade": true,
     "grade_id": "cell-cb9358aae9dd78f2",
     "locked": true,
     "points": 1,
     "schema_version": 3,
     "solution": false,
     "task": false
    }
   },
   "outputs": [],
   "source": [
    "%%check\n",
    "change = 235\n",
    "total_coins == 4\n",
    "change = 45\n",
    "total_coins == 3\n",
    "coins = [250, 100, 25, 10, 5]\n",
    "change = 415\n",
    "total_coins == 6"
   ]
  }
 ],
 "metadata": {
  "celltoolbar": "Create Assignment",
  "kernelspec": {
   "display_name": "prog",
   "language": "python",
   "name": "prog"
  },
  "language_info": {
   "codemirror_mode": {
    "name": "ipython",
    "version": 3
   },
   "file_extension": ".py",
   "mimetype": "text/x-python",
   "name": "python",
   "nbconvert_exporter": "python",
   "pygments_lexer": "ipython3",
   "version": "3.8.8"
  }
 },
 "nbformat": 4,
 "nbformat_minor": 4
}
