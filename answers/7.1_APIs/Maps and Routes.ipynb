{
 "cells": [
  {
   "cell_type": "markdown",
   "metadata": {},
   "source": [
    "In this section we'll look at how to open a map, find a place on it, and plan a route. The required data for finding places and the calculations for the route are not done on our own computer but on remote servers. The communication with these remote servers are done using a **application programming interface** or **API**. There exist APIs for many different services such as checking the news or weather, or booking a hotel room. \n",
    "\n",
    "In this notebook we'll make use of APIs from [Open Street Maps](https://www.openstreetmap.org/)"
   ]
  },
  {
   "cell_type": "markdown",
   "metadata": {},
   "source": [
    "We'll start by loading an interactive map using the 'folium' package:"
   ]
  },
  {
   "cell_type": "code",
   "execution_count": 1,
   "metadata": {},
   "outputs": [
    {
     "data": {
      "text/html": [
       "<div style=\"width:100%;\"><div style=\"position:relative;width:100%;height:0;padding-bottom:60%;\"><span style=\"color:#565656\">Make this Notebook Trusted to load map: File -> Trust Notebook</span><iframe src=\"about:blank\" style=\"position:absolute;width:100%;height:100%;left:0;top:0;border:none !important;\" data-html=%3C%21DOCTYPE%20html%3E%0A%3Chead%3E%20%20%20%20%0A%20%20%20%20%3Cmeta%20http-equiv%3D%22content-type%22%20content%3D%22text/html%3B%20charset%3DUTF-8%22%20/%3E%0A%20%20%20%20%0A%20%20%20%20%20%20%20%20%3Cscript%3E%0A%20%20%20%20%20%20%20%20%20%20%20%20L_NO_TOUCH%20%3D%20false%3B%0A%20%20%20%20%20%20%20%20%20%20%20%20L_DISABLE_3D%20%3D%20false%3B%0A%20%20%20%20%20%20%20%20%3C/script%3E%0A%20%20%20%20%0A%20%20%20%20%3Cstyle%3Ehtml%2C%20body%20%7Bwidth%3A%20100%25%3Bheight%3A%20100%25%3Bmargin%3A%200%3Bpadding%3A%200%3B%7D%3C/style%3E%0A%20%20%20%20%3Cstyle%3E%23map%20%7Bposition%3Aabsolute%3Btop%3A0%3Bbottom%3A0%3Bright%3A0%3Bleft%3A0%3B%7D%3C/style%3E%0A%20%20%20%20%3Cscript%20src%3D%22https%3A//cdn.jsdelivr.net/npm/leaflet%401.6.0/dist/leaflet.js%22%3E%3C/script%3E%0A%20%20%20%20%3Cscript%20src%3D%22https%3A//code.jquery.com/jquery-1.12.4.min.js%22%3E%3C/script%3E%0A%20%20%20%20%3Cscript%20src%3D%22https%3A//maxcdn.bootstrapcdn.com/bootstrap/3.2.0/js/bootstrap.min.js%22%3E%3C/script%3E%0A%20%20%20%20%3Cscript%20src%3D%22https%3A//cdnjs.cloudflare.com/ajax/libs/Leaflet.awesome-markers/2.0.2/leaflet.awesome-markers.js%22%3E%3C/script%3E%0A%20%20%20%20%3Clink%20rel%3D%22stylesheet%22%20href%3D%22https%3A//cdn.jsdelivr.net/npm/leaflet%401.6.0/dist/leaflet.css%22/%3E%0A%20%20%20%20%3Clink%20rel%3D%22stylesheet%22%20href%3D%22https%3A//maxcdn.bootstrapcdn.com/bootstrap/3.2.0/css/bootstrap.min.css%22/%3E%0A%20%20%20%20%3Clink%20rel%3D%22stylesheet%22%20href%3D%22https%3A//maxcdn.bootstrapcdn.com/bootstrap/3.2.0/css/bootstrap-theme.min.css%22/%3E%0A%20%20%20%20%3Clink%20rel%3D%22stylesheet%22%20href%3D%22https%3A//maxcdn.bootstrapcdn.com/font-awesome/4.6.3/css/font-awesome.min.css%22/%3E%0A%20%20%20%20%3Clink%20rel%3D%22stylesheet%22%20href%3D%22https%3A//cdnjs.cloudflare.com/ajax/libs/Leaflet.awesome-markers/2.0.2/leaflet.awesome-markers.css%22/%3E%0A%20%20%20%20%3Clink%20rel%3D%22stylesheet%22%20href%3D%22https%3A//cdn.jsdelivr.net/gh/python-visualization/folium/folium/templates/leaflet.awesome.rotate.min.css%22/%3E%0A%20%20%20%20%0A%20%20%20%20%20%20%20%20%20%20%20%20%3Cmeta%20name%3D%22viewport%22%20content%3D%22width%3Ddevice-width%2C%0A%20%20%20%20%20%20%20%20%20%20%20%20%20%20%20%20initial-scale%3D1.0%2C%20maximum-scale%3D1.0%2C%20user-scalable%3Dno%22%20/%3E%0A%20%20%20%20%20%20%20%20%20%20%20%20%3Cstyle%3E%0A%20%20%20%20%20%20%20%20%20%20%20%20%20%20%20%20%23map_0d5d2b735c9a4ab2b8bd0f60854be3d6%20%7B%0A%20%20%20%20%20%20%20%20%20%20%20%20%20%20%20%20%20%20%20%20position%3A%20relative%3B%0A%20%20%20%20%20%20%20%20%20%20%20%20%20%20%20%20%20%20%20%20width%3A%20100.0%25%3B%0A%20%20%20%20%20%20%20%20%20%20%20%20%20%20%20%20%20%20%20%20height%3A%20100.0%25%3B%0A%20%20%20%20%20%20%20%20%20%20%20%20%20%20%20%20%20%20%20%20left%3A%200.0%25%3B%0A%20%20%20%20%20%20%20%20%20%20%20%20%20%20%20%20%20%20%20%20top%3A%200.0%25%3B%0A%20%20%20%20%20%20%20%20%20%20%20%20%20%20%20%20%7D%0A%20%20%20%20%20%20%20%20%20%20%20%20%3C/style%3E%0A%20%20%20%20%20%20%20%20%0A%3C/head%3E%0A%3Cbody%3E%20%20%20%20%0A%20%20%20%20%0A%20%20%20%20%20%20%20%20%20%20%20%20%3Cdiv%20class%3D%22folium-map%22%20id%3D%22map_0d5d2b735c9a4ab2b8bd0f60854be3d6%22%20%3E%3C/div%3E%0A%20%20%20%20%20%20%20%20%0A%3C/body%3E%0A%3Cscript%3E%20%20%20%20%0A%20%20%20%20%0A%20%20%20%20%20%20%20%20%20%20%20%20var%20map_0d5d2b735c9a4ab2b8bd0f60854be3d6%20%3D%20L.map%28%0A%20%20%20%20%20%20%20%20%20%20%20%20%20%20%20%20%22map_0d5d2b735c9a4ab2b8bd0f60854be3d6%22%2C%0A%20%20%20%20%20%20%20%20%20%20%20%20%20%20%20%20%7B%0A%20%20%20%20%20%20%20%20%20%20%20%20%20%20%20%20%20%20%20%20center%3A%20%5B52.0078168%2C%204.3693158%5D%2C%0A%20%20%20%20%20%20%20%20%20%20%20%20%20%20%20%20%20%20%20%20crs%3A%20L.CRS.EPSG3857%2C%0A%20%20%20%20%20%20%20%20%20%20%20%20%20%20%20%20%20%20%20%20zoom%3A%2014.5%2C%0A%20%20%20%20%20%20%20%20%20%20%20%20%20%20%20%20%20%20%20%20zoomControl%3A%20true%2C%0A%20%20%20%20%20%20%20%20%20%20%20%20%20%20%20%20%20%20%20%20preferCanvas%3A%20false%2C%0A%20%20%20%20%20%20%20%20%20%20%20%20%20%20%20%20%7D%0A%20%20%20%20%20%20%20%20%20%20%20%20%29%3B%0A%0A%20%20%20%20%20%20%20%20%20%20%20%20%0A%0A%20%20%20%20%20%20%20%20%0A%20%20%20%20%0A%20%20%20%20%20%20%20%20%20%20%20%20var%20tile_layer_e062b8881a654b1db6c91e4db4cc631c%20%3D%20L.tileLayer%28%0A%20%20%20%20%20%20%20%20%20%20%20%20%20%20%20%20%22https%3A//%7Bs%7D.tile.openstreetmap.org/%7Bz%7D/%7Bx%7D/%7By%7D.png%22%2C%0A%20%20%20%20%20%20%20%20%20%20%20%20%20%20%20%20%7B%22attribution%22%3A%20%22Data%20by%20%5Cu0026copy%3B%20%5Cu003ca%20href%3D%5C%22http%3A//openstreetmap.org%5C%22%5Cu003eOpenStreetMap%5Cu003c/a%5Cu003e%2C%20under%20%5Cu003ca%20href%3D%5C%22http%3A//www.openstreetmap.org/copyright%5C%22%5Cu003eODbL%5Cu003c/a%5Cu003e.%22%2C%20%22detectRetina%22%3A%20false%2C%20%22maxNativeZoom%22%3A%2018%2C%20%22maxZoom%22%3A%2018%2C%20%22minZoom%22%3A%200%2C%20%22noWrap%22%3A%20false%2C%20%22opacity%22%3A%201%2C%20%22subdomains%22%3A%20%22abc%22%2C%20%22tms%22%3A%20false%7D%0A%20%20%20%20%20%20%20%20%20%20%20%20%29.addTo%28map_0d5d2b735c9a4ab2b8bd0f60854be3d6%29%3B%0A%20%20%20%20%20%20%20%20%0A%3C/script%3E onload=\"this.contentDocument.open();this.contentDocument.write(    decodeURIComponent(this.getAttribute('data-html')));this.contentDocument.close();\" allowfullscreen webkitallowfullscreen mozallowfullscreen></iframe></div></div>"
      ],
      "text/plain": [
       "<folium.folium.Map at 0x7f46b0a2a310>"
      ]
     },
     "execution_count": 1,
     "metadata": {},
     "output_type": "execute_result"
    }
   ],
   "source": [
    "import folium\n",
    "folium.Map( \n",
    "        location=[52.0078168,4.3693158], # geo coordinates of center\n",
    "        zoom_start=14.5,\n",
    "        )"
   ]
  },
  {
   "cell_type": "markdown",
   "metadata": {},
   "source": [
    "## Finding a place\n",
    "The `geopy` package has tools to work with services that allow you to find locations (latitude, longitude, address). The `Nominatim` service is provided by Open Street Maps and is free, but limits the number of requests you can do. "
   ]
  },
  {
   "cell_type": "code",
   "execution_count": 2,
   "metadata": {},
   "outputs": [],
   "source": [
    "from geopy.geocoders import Nominatim\n",
    "geolocator = Nominatim(user_agent=\"ds_sem1\", timeout=2)"
   ]
  },
  {
   "cell_type": "markdown",
   "metadata": {},
   "source": [
    "We can search for a place using the function `geocode`:"
   ]
  },
  {
   "cell_type": "code",
   "execution_count": 3,
   "metadata": {},
   "outputs": [],
   "source": [
    "geo_hhs = geolocator.geocode('Haagse Hogeschool Delft') "
   ]
  },
  {
   "cell_type": "markdown",
   "metadata": {},
   "source": [
    "If the place is found, the variable `geo_hhs` has its address and location (longitude+latitude)."
   ]
  },
  {
   "cell_type": "code",
   "execution_count": 4,
   "metadata": {},
   "outputs": [
    {
     "data": {
      "text/plain": [
       "'Haagse Hogeschool, 137, Rotterdamseweg, Zeeheldenbuurt, Wippolder, Delft, Zuid-Holland, Nederland, 2628 AL, Nederland'"
      ]
     },
     "execution_count": 4,
     "metadata": {},
     "output_type": "execute_result"
    }
   ],
   "source": [
    "geo_hhs.address"
   ]
  },
  {
   "cell_type": "code",
   "execution_count": 5,
   "metadata": {},
   "outputs": [
    {
     "data": {
      "text/plain": [
       "(52.00161955, 4.368017768665558)"
      ]
     },
     "execution_count": 5,
     "metadata": {},
     "output_type": "execute_result"
    }
   ],
   "source": [
    "geo_hhs[1]"
   ]
  },
  {
   "cell_type": "markdown",
   "metadata": {},
   "source": [
    "#### Find the geo data of the (central) station of Delft, and assign it to variable `geo_station`"
   ]
  },
  {
   "cell_type": "code",
   "execution_count": 6,
   "metadata": {},
   "outputs": [
    {
     "data": {
      "text/plain": [
       "Location(Station Delft, Barbarasteeg, Binnenstad, Delft, Zuid-Holland, Nederland, 2611 BM, Nederland, (52.0073979, 4.3581707, 0.0))"
      ]
     },
     "execution_count": 6,
     "metadata": {},
     "output_type": "execute_result"
    }
   ],
   "source": [
    "%%assignment\n",
    "### BEGIN SOLUTION\n",
    "geo_station = geolocator.geocode('Station Delft')\n",
    "### END SOLUTION\n",
    "geo_station # leave this to print the result"
   ]
  },
  {
   "cell_type": "code",
   "execution_count": 7,
   "metadata": {},
   "outputs": [
    {
     "data": {
      "text/html": [
       "<table><tr style=\"background: green; color: white\"><td style=\"text-align:left\">Correct!</td></tr></table>"
      ],
      "text/plain": [
       "<IPython.core.display.HTML object>"
      ]
     },
     "metadata": {
      "text/html": {
       "username": "willem"
      }
     },
     "output_type": "display_data"
    }
   ],
   "source": [
    "%%check\n",
    "hashresult==2426117906"
   ]
  },
  {
   "cell_type": "markdown",
   "metadata": {},
   "source": [
    "We can add to markers of the found locations to the map using the longitude and latitude:"
   ]
  },
  {
   "cell_type": "code",
   "execution_count": 8,
   "metadata": {},
   "outputs": [
    {
     "data": {
      "text/html": [
       "<div style=\"width:100%;\"><div style=\"position:relative;width:100%;height:0;padding-bottom:60%;\"><span style=\"color:#565656\">Make this Notebook Trusted to load map: File -> Trust Notebook</span><iframe src=\"about:blank\" style=\"position:absolute;width:100%;height:100%;left:0;top:0;border:none !important;\" data-html=%3C%21DOCTYPE%20html%3E%0A%3Chead%3E%20%20%20%20%0A%20%20%20%20%3Cmeta%20http-equiv%3D%22content-type%22%20content%3D%22text/html%3B%20charset%3DUTF-8%22%20/%3E%0A%20%20%20%20%0A%20%20%20%20%20%20%20%20%3Cscript%3E%0A%20%20%20%20%20%20%20%20%20%20%20%20L_NO_TOUCH%20%3D%20false%3B%0A%20%20%20%20%20%20%20%20%20%20%20%20L_DISABLE_3D%20%3D%20false%3B%0A%20%20%20%20%20%20%20%20%3C/script%3E%0A%20%20%20%20%0A%20%20%20%20%3Cstyle%3Ehtml%2C%20body%20%7Bwidth%3A%20100%25%3Bheight%3A%20100%25%3Bmargin%3A%200%3Bpadding%3A%200%3B%7D%3C/style%3E%0A%20%20%20%20%3Cstyle%3E%23map%20%7Bposition%3Aabsolute%3Btop%3A0%3Bbottom%3A0%3Bright%3A0%3Bleft%3A0%3B%7D%3C/style%3E%0A%20%20%20%20%3Cscript%20src%3D%22https%3A//cdn.jsdelivr.net/npm/leaflet%401.6.0/dist/leaflet.js%22%3E%3C/script%3E%0A%20%20%20%20%3Cscript%20src%3D%22https%3A//code.jquery.com/jquery-1.12.4.min.js%22%3E%3C/script%3E%0A%20%20%20%20%3Cscript%20src%3D%22https%3A//maxcdn.bootstrapcdn.com/bootstrap/3.2.0/js/bootstrap.min.js%22%3E%3C/script%3E%0A%20%20%20%20%3Cscript%20src%3D%22https%3A//cdnjs.cloudflare.com/ajax/libs/Leaflet.awesome-markers/2.0.2/leaflet.awesome-markers.js%22%3E%3C/script%3E%0A%20%20%20%20%3Clink%20rel%3D%22stylesheet%22%20href%3D%22https%3A//cdn.jsdelivr.net/npm/leaflet%401.6.0/dist/leaflet.css%22/%3E%0A%20%20%20%20%3Clink%20rel%3D%22stylesheet%22%20href%3D%22https%3A//maxcdn.bootstrapcdn.com/bootstrap/3.2.0/css/bootstrap.min.css%22/%3E%0A%20%20%20%20%3Clink%20rel%3D%22stylesheet%22%20href%3D%22https%3A//maxcdn.bootstrapcdn.com/bootstrap/3.2.0/css/bootstrap-theme.min.css%22/%3E%0A%20%20%20%20%3Clink%20rel%3D%22stylesheet%22%20href%3D%22https%3A//maxcdn.bootstrapcdn.com/font-awesome/4.6.3/css/font-awesome.min.css%22/%3E%0A%20%20%20%20%3Clink%20rel%3D%22stylesheet%22%20href%3D%22https%3A//cdnjs.cloudflare.com/ajax/libs/Leaflet.awesome-markers/2.0.2/leaflet.awesome-markers.css%22/%3E%0A%20%20%20%20%3Clink%20rel%3D%22stylesheet%22%20href%3D%22https%3A//cdn.jsdelivr.net/gh/python-visualization/folium/folium/templates/leaflet.awesome.rotate.min.css%22/%3E%0A%20%20%20%20%0A%20%20%20%20%20%20%20%20%20%20%20%20%3Cmeta%20name%3D%22viewport%22%20content%3D%22width%3Ddevice-width%2C%0A%20%20%20%20%20%20%20%20%20%20%20%20%20%20%20%20initial-scale%3D1.0%2C%20maximum-scale%3D1.0%2C%20user-scalable%3Dno%22%20/%3E%0A%20%20%20%20%20%20%20%20%20%20%20%20%3Cstyle%3E%0A%20%20%20%20%20%20%20%20%20%20%20%20%20%20%20%20%23map_3e4886fd9fbd4adc8280a3b3a39a5a1d%20%7B%0A%20%20%20%20%20%20%20%20%20%20%20%20%20%20%20%20%20%20%20%20position%3A%20relative%3B%0A%20%20%20%20%20%20%20%20%20%20%20%20%20%20%20%20%20%20%20%20width%3A%20100.0%25%3B%0A%20%20%20%20%20%20%20%20%20%20%20%20%20%20%20%20%20%20%20%20height%3A%20100.0%25%3B%0A%20%20%20%20%20%20%20%20%20%20%20%20%20%20%20%20%20%20%20%20left%3A%200.0%25%3B%0A%20%20%20%20%20%20%20%20%20%20%20%20%20%20%20%20%20%20%20%20top%3A%200.0%25%3B%0A%20%20%20%20%20%20%20%20%20%20%20%20%20%20%20%20%7D%0A%20%20%20%20%20%20%20%20%20%20%20%20%3C/style%3E%0A%20%20%20%20%20%20%20%20%0A%3C/head%3E%0A%3Cbody%3E%20%20%20%20%0A%20%20%20%20%0A%20%20%20%20%20%20%20%20%20%20%20%20%3Cdiv%20class%3D%22folium-map%22%20id%3D%22map_3e4886fd9fbd4adc8280a3b3a39a5a1d%22%20%3E%3C/div%3E%0A%20%20%20%20%20%20%20%20%0A%3C/body%3E%0A%3Cscript%3E%20%20%20%20%0A%20%20%20%20%0A%20%20%20%20%20%20%20%20%20%20%20%20var%20map_3e4886fd9fbd4adc8280a3b3a39a5a1d%20%3D%20L.map%28%0A%20%20%20%20%20%20%20%20%20%20%20%20%20%20%20%20%22map_3e4886fd9fbd4adc8280a3b3a39a5a1d%22%2C%0A%20%20%20%20%20%20%20%20%20%20%20%20%20%20%20%20%7B%0A%20%20%20%20%20%20%20%20%20%20%20%20%20%20%20%20%20%20%20%20center%3A%20%5B52.00161955%2C%204.368017768665558%5D%2C%0A%20%20%20%20%20%20%20%20%20%20%20%20%20%20%20%20%20%20%20%20crs%3A%20L.CRS.EPSG3857%2C%0A%20%20%20%20%20%20%20%20%20%20%20%20%20%20%20%20%20%20%20%20zoom%3A%2016%2C%0A%20%20%20%20%20%20%20%20%20%20%20%20%20%20%20%20%20%20%20%20zoomControl%3A%20true%2C%0A%20%20%20%20%20%20%20%20%20%20%20%20%20%20%20%20%20%20%20%20preferCanvas%3A%20false%2C%0A%20%20%20%20%20%20%20%20%20%20%20%20%20%20%20%20%7D%0A%20%20%20%20%20%20%20%20%20%20%20%20%29%3B%0A%0A%20%20%20%20%20%20%20%20%20%20%20%20%0A%0A%20%20%20%20%20%20%20%20%0A%20%20%20%20%0A%20%20%20%20%20%20%20%20%20%20%20%20var%20tile_layer_a2665b925eae4c1cb02fb02a6d57677b%20%3D%20L.tileLayer%28%0A%20%20%20%20%20%20%20%20%20%20%20%20%20%20%20%20%22https%3A//%7Bs%7D.tile.openstreetmap.org/%7Bz%7D/%7Bx%7D/%7By%7D.png%22%2C%0A%20%20%20%20%20%20%20%20%20%20%20%20%20%20%20%20%7B%22attribution%22%3A%20%22Data%20by%20%5Cu0026copy%3B%20%5Cu003ca%20href%3D%5C%22http%3A//openstreetmap.org%5C%22%5Cu003eOpenStreetMap%5Cu003c/a%5Cu003e%2C%20under%20%5Cu003ca%20href%3D%5C%22http%3A//www.openstreetmap.org/copyright%5C%22%5Cu003eODbL%5Cu003c/a%5Cu003e.%22%2C%20%22detectRetina%22%3A%20false%2C%20%22maxNativeZoom%22%3A%2018%2C%20%22maxZoom%22%3A%2018%2C%20%22minZoom%22%3A%200%2C%20%22noWrap%22%3A%20false%2C%20%22opacity%22%3A%201%2C%20%22subdomains%22%3A%20%22abc%22%2C%20%22tms%22%3A%20false%7D%0A%20%20%20%20%20%20%20%20%20%20%20%20%29.addTo%28map_3e4886fd9fbd4adc8280a3b3a39a5a1d%29%3B%0A%20%20%20%20%20%20%20%20%0A%20%20%20%20%0A%20%20%20%20%20%20%20%20%20%20%20%20var%20marker_d44751b8cbf843748298af1d878ebefb%20%3D%20L.marker%28%0A%20%20%20%20%20%20%20%20%20%20%20%20%20%20%20%20%5B52.00161955%2C%204.368017768665558%5D%2C%0A%20%20%20%20%20%20%20%20%20%20%20%20%20%20%20%20%7B%7D%0A%20%20%20%20%20%20%20%20%20%20%20%20%29.addTo%28map_3e4886fd9fbd4adc8280a3b3a39a5a1d%29%3B%0A%20%20%20%20%20%20%20%20%0A%20%20%20%20%0A%20%20%20%20%20%20%20%20%20%20%20%20marker_d44751b8cbf843748298af1d878ebefb.bindTooltip%28%0A%20%20%20%20%20%20%20%20%20%20%20%20%20%20%20%20%60%3Cdiv%3E%0A%20%20%20%20%20%20%20%20%20%20%20%20%20%20%20%20%20%20%20%20%20Haagse%20Hogeschool%20Delft%0A%20%20%20%20%20%20%20%20%20%20%20%20%20%20%20%20%20%3C/div%3E%60%2C%0A%20%20%20%20%20%20%20%20%20%20%20%20%20%20%20%20%7B%22sticky%22%3A%20true%7D%0A%20%20%20%20%20%20%20%20%20%20%20%20%29%3B%0A%20%20%20%20%20%20%20%20%0A%3C/script%3E onload=\"this.contentDocument.open();this.contentDocument.write(    decodeURIComponent(this.getAttribute('data-html')));this.contentDocument.close();\" allowfullscreen webkitallowfullscreen mozallowfullscreen></iframe></div></div>"
      ],
      "text/plain": [
       "<folium.folium.Map at 0x7f468ebadeb0>"
      ]
     },
     "execution_count": 8,
     "metadata": {},
     "output_type": "execute_result"
    }
   ],
   "source": [
    "map = folium.Map(location=geo_hhs[1], zoom_start=16)\n",
    "marker_hhs = folium.Marker( geo_hhs[1], tooltip='Haagse Hogeschool Delft')\n",
    "marker_hhs.add_to(map)\n",
    "map"
   ]
  },
  {
   "cell_type": "markdown",
   "metadata": {},
   "source": [
    "## Planning a route\n",
    "The `openrouteservice` package enables us to plan a route using Open Street Maps if you have a free account. We connect to the service using a key that is tied to our account:"
   ]
  },
  {
   "cell_type": "code",
   "execution_count": 9,
   "metadata": {},
   "outputs": [],
   "source": [
    "from openrouteservice import client\n",
    "\n",
    "api_key = '5b3ce3597851110001cf6248320933ccd0094bbb97277e2649618c4d'\n",
    "ors = client.Client(key=api_key)"
   ]
  },
  {
   "cell_type": "markdown",
   "metadata": {},
   "source": [
    "Now we can plan a route using the function `directions`. The locations for the route are specified in `coordinates` as a list of latitude/longitude pairs, which is annoyingly the reverse of the output of our geocoder."
   ]
  },
  {
   "cell_type": "code",
   "execution_count": 10,
   "metadata": {},
   "outputs": [
    {
     "data": {
      "text/plain": [
       "{'type': 'FeatureCollection',\n",
       " 'features': [{'bbox': [4.358222, 52.000901, 4.368471, 52.007908],\n",
       "   'type': 'Feature',\n",
       "   'properties': {'segments': [{'distance': 1608.8,\n",
       "      'duration': 1158.3,\n",
       "      'steps': [{'distance': 253.4,\n",
       "        'duration': 182.5,\n",
       "        'type': 11,\n",
       "        'instruction': 'Head northeast',\n",
       "        'name': '-',\n",
       "        'way_points': [0, 5]},\n",
       "       {'distance': 18.7,\n",
       "        'duration': 13.5,\n",
       "        'type': 13,\n",
       "        'instruction': 'Keep right',\n",
       "        'name': '-',\n",
       "        'way_points': [5, 10]},\n",
       "       {'distance': 4.0,\n",
       "        'duration': 2.9,\n",
       "        'type': 0,\n",
       "        'instruction': 'Turn left onto Rotterdamseweg',\n",
       "        'name': 'Rotterdamseweg',\n",
       "        'way_points': [10, 11]},\n",
       "       {'distance': 13.8,\n",
       "        'duration': 9.9,\n",
       "        'type': 1,\n",
       "        'instruction': 'Turn right',\n",
       "        'name': '-',\n",
       "        'way_points': [11, 12]},\n",
       "       {'distance': 145.3,\n",
       "        'duration': 104.6,\n",
       "        'type': 6,\n",
       "        'instruction': 'Continue straight onto Rotterdamseweg',\n",
       "        'name': 'Rotterdamseweg',\n",
       "        'way_points': [12, 20]},\n",
       "       {'distance': 9.9,\n",
       "        'duration': 7.1,\n",
       "        'type': 1,\n",
       "        'instruction': 'Turn right onto Abtswoudsepad',\n",
       "        'name': 'Abtswoudsepad',\n",
       "        'way_points': [20, 23]},\n",
       "       {'distance': 516.9,\n",
       "        'duration': 372.2,\n",
       "        'type': 0,\n",
       "        'instruction': 'Turn left onto Rotterdamseweg',\n",
       "        'name': 'Rotterdamseweg',\n",
       "        'way_points': [23, 44]},\n",
       "       {'distance': 113.8,\n",
       "        'duration': 81.9,\n",
       "        'type': 1,\n",
       "        'instruction': 'Turn right onto Kanaalweg',\n",
       "        'name': 'Kanaalweg',\n",
       "        'way_points': [44, 51]},\n",
       "       {'distance': 37.5,\n",
       "        'duration': 27.0,\n",
       "        'type': 0,\n",
       "        'instruction': 'Turn left onto Hambrug',\n",
       "        'name': 'Hambrug',\n",
       "        'way_points': [51, 58]},\n",
       "       {'distance': 4.9,\n",
       "        'duration': 3.5,\n",
       "        'type': 4,\n",
       "        'instruction': 'Turn slight left onto Hambrug',\n",
       "        'name': 'Hambrug',\n",
       "        'way_points': [58, 59]},\n",
       "       {'distance': 14.7,\n",
       "        'duration': 10.6,\n",
       "        'type': 4,\n",
       "        'instruction': 'Turn slight left onto Gashouderpad',\n",
       "        'name': 'Gashouderpad',\n",
       "        'way_points': [59, 61]},\n",
       "       {'distance': 96.7,\n",
       "        'duration': 69.6,\n",
       "        'type': 13,\n",
       "        'instruction': 'Keep right onto Ham',\n",
       "        'name': 'Ham',\n",
       "        'way_points': [61, 73]},\n",
       "       {'distance': 34.5,\n",
       "        'duration': 24.9,\n",
       "        'type': 0,\n",
       "        'instruction': 'Turn left onto Achterom',\n",
       "        'name': 'Achterom',\n",
       "        'way_points': [73, 75]},\n",
       "       {'distance': 81.9,\n",
       "        'duration': 59.0,\n",
       "        'type': 1,\n",
       "        'instruction': 'Turn right onto Giststraat',\n",
       "        'name': 'Giststraat',\n",
       "        'way_points': [75, 82]},\n",
       "       {'distance': 121.0,\n",
       "        'duration': 87.1,\n",
       "        'type': 1,\n",
       "        'instruction': 'Turn right onto Korte Geer',\n",
       "        'name': 'Korte Geer',\n",
       "        'way_points': [82, 86]},\n",
       "       {'distance': 60.8,\n",
       "        'duration': 43.8,\n",
       "        'type': 0,\n",
       "        'instruction': 'Turn left onto Breestraat',\n",
       "        'name': 'Breestraat',\n",
       "        'way_points': [86, 88]},\n",
       "       {'distance': 19.9,\n",
       "        'duration': 14.3,\n",
       "        'type': 6,\n",
       "        'instruction': 'Continue straight onto Oude Delft',\n",
       "        'name': 'Oude Delft',\n",
       "        'way_points': [88, 91]},\n",
       "       {'distance': 4.1,\n",
       "        'duration': 2.9,\n",
       "        'type': 1,\n",
       "        'instruction': 'Turn right onto Oude Delft',\n",
       "        'name': 'Oude Delft',\n",
       "        'way_points': [91, 92]},\n",
       "       {'distance': 57.1,\n",
       "        'duration': 41.1,\n",
       "        'type': 0,\n",
       "        'instruction': 'Turn left onto Barbarasteeg',\n",
       "        'name': 'Barbarasteeg',\n",
       "        'way_points': [92, 94]},\n",
       "       {'distance': 0.0,\n",
       "        'duration': 0.0,\n",
       "        'type': 10,\n",
       "        'instruction': 'Arrive at Barbarasteeg, on the right',\n",
       "        'name': '-',\n",
       "        'way_points': [94, 94]}]}],\n",
       "    'summary': {'distance': 1608.8, 'duration': 1158.3},\n",
       "    'way_points': [0, 94]},\n",
       "   'geometry': {'coordinates': [[4.368069, 52.001547],\n",
       "     [4.368471, 52.001653],\n",
       "     [4.36829, 52.001922],\n",
       "     [4.368121, 52.002173],\n",
       "     [4.367293, 52.001961],\n",
       "     [4.367853, 52.001135],\n",
       "     [4.36785, 52.001107],\n",
       "     [4.367869, 52.001078],\n",
       "     [4.367875, 52.001061],\n",
       "     [4.367834, 52.00101],\n",
       "     [4.36779, 52.000994],\n",
       "     [4.367813, 52.000961],\n",
       "     [4.367623, 52.00092],\n",
       "     [4.367538, 52.000901],\n",
       "     [4.367301, 52.00127],\n",
       "     [4.367003, 52.001638],\n",
       "     [4.366835, 52.001844],\n",
       "     [4.366756, 52.001914],\n",
       "     [4.366685, 52.001952],\n",
       "     [4.366662, 52.001972],\n",
       "     [4.366624, 52.002009],\n",
       "     [4.366645, 52.002028],\n",
       "     [4.366662, 52.002045],\n",
       "     [4.366707, 52.002082],\n",
       "     [4.366682, 52.002097],\n",
       "     [4.366488, 52.002215],\n",
       "     [4.366363, 52.002317],\n",
       "     [4.366253, 52.002418],\n",
       "     [4.366097, 52.002569],\n",
       "     [4.365927, 52.002742],\n",
       "     [4.365473, 52.003229],\n",
       "     [4.36494, 52.003833],\n",
       "     [4.364556, 52.004281],\n",
       "     [4.364414, 52.004414],\n",
       "     [4.364259, 52.00457],\n",
       "     [4.364053, 52.004767],\n",
       "     [4.364028, 52.004791],\n",
       "     [4.363855, 52.004956],\n",
       "     [4.363519, 52.005272],\n",
       "     [4.363477, 52.005314],\n",
       "     [4.363221, 52.005555],\n",
       "     [4.362965, 52.005796],\n",
       "     [4.362811, 52.00591],\n",
       "     [4.362682, 52.005953],\n",
       "     [4.362636, 52.005957],\n",
       "     [4.36263, 52.006014],\n",
       "     [4.362669, 52.006097],\n",
       "     [4.362737, 52.006135],\n",
       "     [4.363653, 52.006515],\n",
       "     [4.363714, 52.006524],\n",
       "     [4.363807, 52.006561],\n",
       "     [4.363839, 52.00659],\n",
       "     [4.363801, 52.006625],\n",
       "     [4.363798, 52.006627],\n",
       "     [4.363796, 52.006629],\n",
       "     [4.363636, 52.00677],\n",
       "     [4.363563, 52.006835],\n",
       "     [4.363559, 52.006838],\n",
       "     [4.363526, 52.006867],\n",
       "     [4.363455, 52.006875],\n",
       "     [4.363378, 52.006853],\n",
       "     [4.363285, 52.006797],\n",
       "     [4.363189, 52.006768],\n",
       "     [4.363144, 52.006765],\n",
       "     [4.363039, 52.006792],\n",
       "     [4.362693, 52.006901],\n",
       "     [4.362631, 52.006924],\n",
       "     [4.362569, 52.006937],\n",
       "     [4.362451, 52.006942],\n",
       "     [4.362293, 52.006915],\n",
       "     [4.362217, 52.006918],\n",
       "     [4.362176, 52.006923],\n",
       "     [4.362004, 52.006955],\n",
       "     [4.361965, 52.006957],\n",
       "     [4.361938, 52.006936],\n",
       "     [4.361615, 52.006734],\n",
       "     [4.36146, 52.006808],\n",
       "     [4.361323, 52.006856],\n",
       "     [4.360917, 52.006957],\n",
       "     [4.360831, 52.006933],\n",
       "     [4.360771, 52.006921],\n",
       "     [4.360562, 52.006881],\n",
       "     [4.360535, 52.006876],\n",
       "     [4.3605, 52.007],\n",
       "     [4.360358, 52.007344],\n",
       "     [4.360297, 52.007439],\n",
       "     [4.359995, 52.007908],\n",
       "     [4.359282, 52.007649],\n",
       "     [4.359225, 52.007637],\n",
       "     [4.359133, 52.007614],\n",
       "     [4.359066, 52.00759],\n",
       "     [4.358966, 52.007557],\n",
       "     [4.358939, 52.007589],\n",
       "     [4.35889, 52.007597],\n",
       "     [4.358222, 52.007346]],\n",
       "    'type': 'LineString'}}],\n",
       " 'bbox': [4.358222, 52.000901, 4.368471, 52.007908],\n",
       " 'metadata': {'attribution': 'openrouteservice.org | OpenStreetMap contributors',\n",
       "  'service': 'routing',\n",
       "  'timestamp': 1661169311859,\n",
       "  'query': {'coordinates': [[4.368017768665558, 52.00161955],\n",
       "    [4.3581707, 52.0073979]],\n",
       "   'profile': 'foot-walking',\n",
       "   'format': 'geojson'},\n",
       "  'engine': {'version': '6.7.0',\n",
       "   'build_date': '2022-02-18T19:37:41Z',\n",
       "   'graph_date': '2022-08-16T09:09:23Z'}}}"
      ]
     },
     "execution_count": 10,
     "metadata": {},
     "output_type": "execute_result"
    }
   ],
   "source": [
    "route = ors.directions(profile='foot-walking', format_out='geojson', \n",
    "                        coordinates=[(g[1],g[0]) for g in (geo_hhs[1],geo_station[1])])\n",
    "route\n"
   ]
  },
  {
   "cell_type": "markdown",
   "metadata": {},
   "source": [
    "The route contains a lot of data. The duration of the route in minutes is given by:"
   ]
  },
  {
   "cell_type": "code",
   "execution_count": 11,
   "metadata": {},
   "outputs": [
    {
     "data": {
      "text/plain": [
       "19.305"
      ]
     },
     "execution_count": 11,
     "metadata": {},
     "output_type": "execute_result"
    }
   ],
   "source": [
    "route['features'][0]['properties']['segments'][0]['duration'] / 60"
   ]
  },
  {
   "cell_type": "markdown",
   "metadata": {},
   "source": [
    "We can show the route on the map:"
   ]
  },
  {
   "cell_type": "code",
   "execution_count": 12,
   "metadata": {},
   "outputs": [
    {
     "data": {
      "text/html": [
       "<div style=\"width:100%;\"><div style=\"position:relative;width:100%;height:0;padding-bottom:60%;\"><span style=\"color:#565656\">Make this Notebook Trusted to load map: File -> Trust Notebook</span><iframe src=\"about:blank\" style=\"position:absolute;width:100%;height:100%;left:0;top:0;border:none !important;\" data-html=%3C%21DOCTYPE%20html%3E%0A%3Chead%3E%20%20%20%20%0A%20%20%20%20%3Cmeta%20http-equiv%3D%22content-type%22%20content%3D%22text/html%3B%20charset%3DUTF-8%22%20/%3E%0A%20%20%20%20%0A%20%20%20%20%20%20%20%20%3Cscript%3E%0A%20%20%20%20%20%20%20%20%20%20%20%20L_NO_TOUCH%20%3D%20false%3B%0A%20%20%20%20%20%20%20%20%20%20%20%20L_DISABLE_3D%20%3D%20false%3B%0A%20%20%20%20%20%20%20%20%3C/script%3E%0A%20%20%20%20%0A%20%20%20%20%3Cstyle%3Ehtml%2C%20body%20%7Bwidth%3A%20100%25%3Bheight%3A%20100%25%3Bmargin%3A%200%3Bpadding%3A%200%3B%7D%3C/style%3E%0A%20%20%20%20%3Cstyle%3E%23map%20%7Bposition%3Aabsolute%3Btop%3A0%3Bbottom%3A0%3Bright%3A0%3Bleft%3A0%3B%7D%3C/style%3E%0A%20%20%20%20%3Cscript%20src%3D%22https%3A//cdn.jsdelivr.net/npm/leaflet%401.6.0/dist/leaflet.js%22%3E%3C/script%3E%0A%20%20%20%20%3Cscript%20src%3D%22https%3A//code.jquery.com/jquery-1.12.4.min.js%22%3E%3C/script%3E%0A%20%20%20%20%3Cscript%20src%3D%22https%3A//maxcdn.bootstrapcdn.com/bootstrap/3.2.0/js/bootstrap.min.js%22%3E%3C/script%3E%0A%20%20%20%20%3Cscript%20src%3D%22https%3A//cdnjs.cloudflare.com/ajax/libs/Leaflet.awesome-markers/2.0.2/leaflet.awesome-markers.js%22%3E%3C/script%3E%0A%20%20%20%20%3Clink%20rel%3D%22stylesheet%22%20href%3D%22https%3A//cdn.jsdelivr.net/npm/leaflet%401.6.0/dist/leaflet.css%22/%3E%0A%20%20%20%20%3Clink%20rel%3D%22stylesheet%22%20href%3D%22https%3A//maxcdn.bootstrapcdn.com/bootstrap/3.2.0/css/bootstrap.min.css%22/%3E%0A%20%20%20%20%3Clink%20rel%3D%22stylesheet%22%20href%3D%22https%3A//maxcdn.bootstrapcdn.com/bootstrap/3.2.0/css/bootstrap-theme.min.css%22/%3E%0A%20%20%20%20%3Clink%20rel%3D%22stylesheet%22%20href%3D%22https%3A//maxcdn.bootstrapcdn.com/font-awesome/4.6.3/css/font-awesome.min.css%22/%3E%0A%20%20%20%20%3Clink%20rel%3D%22stylesheet%22%20href%3D%22https%3A//cdnjs.cloudflare.com/ajax/libs/Leaflet.awesome-markers/2.0.2/leaflet.awesome-markers.css%22/%3E%0A%20%20%20%20%3Clink%20rel%3D%22stylesheet%22%20href%3D%22https%3A//cdn.jsdelivr.net/gh/python-visualization/folium/folium/templates/leaflet.awesome.rotate.min.css%22/%3E%0A%20%20%20%20%0A%20%20%20%20%20%20%20%20%20%20%20%20%3Cmeta%20name%3D%22viewport%22%20content%3D%22width%3Ddevice-width%2C%0A%20%20%20%20%20%20%20%20%20%20%20%20%20%20%20%20initial-scale%3D1.0%2C%20maximum-scale%3D1.0%2C%20user-scalable%3Dno%22%20/%3E%0A%20%20%20%20%20%20%20%20%20%20%20%20%3Cstyle%3E%0A%20%20%20%20%20%20%20%20%20%20%20%20%20%20%20%20%23map_3e4886fd9fbd4adc8280a3b3a39a5a1d%20%7B%0A%20%20%20%20%20%20%20%20%20%20%20%20%20%20%20%20%20%20%20%20position%3A%20relative%3B%0A%20%20%20%20%20%20%20%20%20%20%20%20%20%20%20%20%20%20%20%20width%3A%20100.0%25%3B%0A%20%20%20%20%20%20%20%20%20%20%20%20%20%20%20%20%20%20%20%20height%3A%20100.0%25%3B%0A%20%20%20%20%20%20%20%20%20%20%20%20%20%20%20%20%20%20%20%20left%3A%200.0%25%3B%0A%20%20%20%20%20%20%20%20%20%20%20%20%20%20%20%20%20%20%20%20top%3A%200.0%25%3B%0A%20%20%20%20%20%20%20%20%20%20%20%20%20%20%20%20%7D%0A%20%20%20%20%20%20%20%20%20%20%20%20%3C/style%3E%0A%20%20%20%20%20%20%20%20%0A%3C/head%3E%0A%3Cbody%3E%20%20%20%20%0A%20%20%20%20%0A%20%20%20%20%20%20%20%20%20%20%20%20%3Cdiv%20class%3D%22folium-map%22%20id%3D%22map_3e4886fd9fbd4adc8280a3b3a39a5a1d%22%20%3E%3C/div%3E%0A%20%20%20%20%20%20%20%20%0A%3C/body%3E%0A%3Cscript%3E%20%20%20%20%0A%20%20%20%20%0A%20%20%20%20%20%20%20%20%20%20%20%20var%20map_3e4886fd9fbd4adc8280a3b3a39a5a1d%20%3D%20L.map%28%0A%20%20%20%20%20%20%20%20%20%20%20%20%20%20%20%20%22map_3e4886fd9fbd4adc8280a3b3a39a5a1d%22%2C%0A%20%20%20%20%20%20%20%20%20%20%20%20%20%20%20%20%7B%0A%20%20%20%20%20%20%20%20%20%20%20%20%20%20%20%20%20%20%20%20center%3A%20%5B52.00161955%2C%204.368017768665558%5D%2C%0A%20%20%20%20%20%20%20%20%20%20%20%20%20%20%20%20%20%20%20%20crs%3A%20L.CRS.EPSG3857%2C%0A%20%20%20%20%20%20%20%20%20%20%20%20%20%20%20%20%20%20%20%20zoom%3A%2016%2C%0A%20%20%20%20%20%20%20%20%20%20%20%20%20%20%20%20%20%20%20%20zoomControl%3A%20true%2C%0A%20%20%20%20%20%20%20%20%20%20%20%20%20%20%20%20%20%20%20%20preferCanvas%3A%20false%2C%0A%20%20%20%20%20%20%20%20%20%20%20%20%20%20%20%20%7D%0A%20%20%20%20%20%20%20%20%20%20%20%20%29%3B%0A%0A%20%20%20%20%20%20%20%20%20%20%20%20%0A%0A%20%20%20%20%20%20%20%20%0A%20%20%20%20%0A%20%20%20%20%20%20%20%20%20%20%20%20var%20tile_layer_a2665b925eae4c1cb02fb02a6d57677b%20%3D%20L.tileLayer%28%0A%20%20%20%20%20%20%20%20%20%20%20%20%20%20%20%20%22https%3A//%7Bs%7D.tile.openstreetmap.org/%7Bz%7D/%7Bx%7D/%7By%7D.png%22%2C%0A%20%20%20%20%20%20%20%20%20%20%20%20%20%20%20%20%7B%22attribution%22%3A%20%22Data%20by%20%5Cu0026copy%3B%20%5Cu003ca%20href%3D%5C%22http%3A//openstreetmap.org%5C%22%5Cu003eOpenStreetMap%5Cu003c/a%5Cu003e%2C%20under%20%5Cu003ca%20href%3D%5C%22http%3A//www.openstreetmap.org/copyright%5C%22%5Cu003eODbL%5Cu003c/a%5Cu003e.%22%2C%20%22detectRetina%22%3A%20false%2C%20%22maxNativeZoom%22%3A%2018%2C%20%22maxZoom%22%3A%2018%2C%20%22minZoom%22%3A%200%2C%20%22noWrap%22%3A%20false%2C%20%22opacity%22%3A%201%2C%20%22subdomains%22%3A%20%22abc%22%2C%20%22tms%22%3A%20false%7D%0A%20%20%20%20%20%20%20%20%20%20%20%20%29.addTo%28map_3e4886fd9fbd4adc8280a3b3a39a5a1d%29%3B%0A%20%20%20%20%20%20%20%20%0A%20%20%20%20%0A%20%20%20%20%20%20%20%20%20%20%20%20var%20marker_d44751b8cbf843748298af1d878ebefb%20%3D%20L.marker%28%0A%20%20%20%20%20%20%20%20%20%20%20%20%20%20%20%20%5B52.00161955%2C%204.368017768665558%5D%2C%0A%20%20%20%20%20%20%20%20%20%20%20%20%20%20%20%20%7B%7D%0A%20%20%20%20%20%20%20%20%20%20%20%20%29.addTo%28map_3e4886fd9fbd4adc8280a3b3a39a5a1d%29%3B%0A%20%20%20%20%20%20%20%20%0A%20%20%20%20%0A%20%20%20%20%20%20%20%20%20%20%20%20marker_d44751b8cbf843748298af1d878ebefb.bindTooltip%28%0A%20%20%20%20%20%20%20%20%20%20%20%20%20%20%20%20%60%3Cdiv%3E%0A%20%20%20%20%20%20%20%20%20%20%20%20%20%20%20%20%20%20%20%20%20Haagse%20Hogeschool%20Delft%0A%20%20%20%20%20%20%20%20%20%20%20%20%20%20%20%20%20%3C/div%3E%60%2C%0A%20%20%20%20%20%20%20%20%20%20%20%20%20%20%20%20%7B%22sticky%22%3A%20true%7D%0A%20%20%20%20%20%20%20%20%20%20%20%20%29%3B%0A%20%20%20%20%20%20%20%20%0A%20%20%20%20%0A%0A%20%20%20%20%20%20%20%20function%20geo_json_aa54546848d34663b498dd47b5848891_onEachFeature%28feature%2C%20layer%29%20%7B%0A%20%20%20%20%20%20%20%20%20%20%20%20layer.on%28%7B%0A%20%20%20%20%20%20%20%20%20%20%20%20%7D%29%3B%0A%20%20%20%20%20%20%20%20%7D%3B%0A%20%20%20%20%20%20%20%20var%20geo_json_aa54546848d34663b498dd47b5848891%20%3D%20L.geoJson%28null%2C%20%7B%0A%20%20%20%20%20%20%20%20%20%20%20%20%20%20%20%20onEachFeature%3A%20geo_json_aa54546848d34663b498dd47b5848891_onEachFeature%2C%0A%20%20%20%20%20%20%20%20%20%20%20%20%0A%20%20%20%20%20%20%20%20%7D%29%3B%0A%0A%20%20%20%20%20%20%20%20function%20geo_json_aa54546848d34663b498dd47b5848891_add%20%28data%29%20%7B%0A%20%20%20%20%20%20%20%20%20%20%20%20geo_json_aa54546848d34663b498dd47b5848891%0A%20%20%20%20%20%20%20%20%20%20%20%20%20%20%20%20.addData%28data%29%0A%20%20%20%20%20%20%20%20%20%20%20%20%20%20%20%20.addTo%28map_3e4886fd9fbd4adc8280a3b3a39a5a1d%29%3B%0A%20%20%20%20%20%20%20%20%7D%0A%20%20%20%20%20%20%20%20%20%20%20%20geo_json_aa54546848d34663b498dd47b5848891_add%28%7B%22bbox%22%3A%20%5B4.358222%2C%2052.000901%2C%204.368471%2C%2052.007908%5D%2C%20%22features%22%3A%20%5B%7B%22bbox%22%3A%20%5B4.358222%2C%2052.000901%2C%204.368471%2C%2052.007908%5D%2C%20%22geometry%22%3A%20%7B%22coordinates%22%3A%20%5B%5B4.368069%2C%2052.001547%5D%2C%20%5B4.368471%2C%2052.001653%5D%2C%20%5B4.36829%2C%2052.001922%5D%2C%20%5B4.368121%2C%2052.002173%5D%2C%20%5B4.367293%2C%2052.001961%5D%2C%20%5B4.367853%2C%2052.001135%5D%2C%20%5B4.36785%2C%2052.001107%5D%2C%20%5B4.367869%2C%2052.001078%5D%2C%20%5B4.367875%2C%2052.001061%5D%2C%20%5B4.367834%2C%2052.00101%5D%2C%20%5B4.36779%2C%2052.000994%5D%2C%20%5B4.367813%2C%2052.000961%5D%2C%20%5B4.367623%2C%2052.00092%5D%2C%20%5B4.367538%2C%2052.000901%5D%2C%20%5B4.367301%2C%2052.00127%5D%2C%20%5B4.367003%2C%2052.001638%5D%2C%20%5B4.366835%2C%2052.001844%5D%2C%20%5B4.366756%2C%2052.001914%5D%2C%20%5B4.366685%2C%2052.001952%5D%2C%20%5B4.366662%2C%2052.001972%5D%2C%20%5B4.366624%2C%2052.002009%5D%2C%20%5B4.366645%2C%2052.002028%5D%2C%20%5B4.366662%2C%2052.002045%5D%2C%20%5B4.366707%2C%2052.002082%5D%2C%20%5B4.366682%2C%2052.002097%5D%2C%20%5B4.366488%2C%2052.002215%5D%2C%20%5B4.366363%2C%2052.002317%5D%2C%20%5B4.366253%2C%2052.002418%5D%2C%20%5B4.366097%2C%2052.002569%5D%2C%20%5B4.365927%2C%2052.002742%5D%2C%20%5B4.365473%2C%2052.003229%5D%2C%20%5B4.36494%2C%2052.003833%5D%2C%20%5B4.364556%2C%2052.004281%5D%2C%20%5B4.364414%2C%2052.004414%5D%2C%20%5B4.364259%2C%2052.00457%5D%2C%20%5B4.364053%2C%2052.004767%5D%2C%20%5B4.364028%2C%2052.004791%5D%2C%20%5B4.363855%2C%2052.004956%5D%2C%20%5B4.363519%2C%2052.005272%5D%2C%20%5B4.363477%2C%2052.005314%5D%2C%20%5B4.363221%2C%2052.005555%5D%2C%20%5B4.362965%2C%2052.005796%5D%2C%20%5B4.362811%2C%2052.00591%5D%2C%20%5B4.362682%2C%2052.005953%5D%2C%20%5B4.362636%2C%2052.005957%5D%2C%20%5B4.36263%2C%2052.006014%5D%2C%20%5B4.362669%2C%2052.006097%5D%2C%20%5B4.362737%2C%2052.006135%5D%2C%20%5B4.363653%2C%2052.006515%5D%2C%20%5B4.363714%2C%2052.006524%5D%2C%20%5B4.363807%2C%2052.006561%5D%2C%20%5B4.363839%2C%2052.00659%5D%2C%20%5B4.363801%2C%2052.006625%5D%2C%20%5B4.363798%2C%2052.006627%5D%2C%20%5B4.363796%2C%2052.006629%5D%2C%20%5B4.363636%2C%2052.00677%5D%2C%20%5B4.363563%2C%2052.006835%5D%2C%20%5B4.363559%2C%2052.006838%5D%2C%20%5B4.363526%2C%2052.006867%5D%2C%20%5B4.363455%2C%2052.006875%5D%2C%20%5B4.363378%2C%2052.006853%5D%2C%20%5B4.363285%2C%2052.006797%5D%2C%20%5B4.363189%2C%2052.006768%5D%2C%20%5B4.363144%2C%2052.006765%5D%2C%20%5B4.363039%2C%2052.006792%5D%2C%20%5B4.362693%2C%2052.006901%5D%2C%20%5B4.362631%2C%2052.006924%5D%2C%20%5B4.362569%2C%2052.006937%5D%2C%20%5B4.362451%2C%2052.006942%5D%2C%20%5B4.362293%2C%2052.006915%5D%2C%20%5B4.362217%2C%2052.006918%5D%2C%20%5B4.362176%2C%2052.006923%5D%2C%20%5B4.362004%2C%2052.006955%5D%2C%20%5B4.361965%2C%2052.006957%5D%2C%20%5B4.361938%2C%2052.006936%5D%2C%20%5B4.361615%2C%2052.006734%5D%2C%20%5B4.36146%2C%2052.006808%5D%2C%20%5B4.361323%2C%2052.006856%5D%2C%20%5B4.360917%2C%2052.006957%5D%2C%20%5B4.360831%2C%2052.006933%5D%2C%20%5B4.360771%2C%2052.006921%5D%2C%20%5B4.360562%2C%2052.006881%5D%2C%20%5B4.360535%2C%2052.006876%5D%2C%20%5B4.3605%2C%2052.007%5D%2C%20%5B4.360358%2C%2052.007344%5D%2C%20%5B4.360297%2C%2052.007439%5D%2C%20%5B4.359995%2C%2052.007908%5D%2C%20%5B4.359282%2C%2052.007649%5D%2C%20%5B4.359225%2C%2052.007637%5D%2C%20%5B4.359133%2C%2052.007614%5D%2C%20%5B4.359066%2C%2052.00759%5D%2C%20%5B4.358966%2C%2052.007557%5D%2C%20%5B4.358939%2C%2052.007589%5D%2C%20%5B4.35889%2C%2052.007597%5D%2C%20%5B4.358222%2C%2052.007346%5D%5D%2C%20%22type%22%3A%20%22LineString%22%7D%2C%20%22properties%22%3A%20%7B%22segments%22%3A%20%5B%7B%22distance%22%3A%201608.8%2C%20%22duration%22%3A%201158.3%2C%20%22steps%22%3A%20%5B%7B%22distance%22%3A%20253.4%2C%20%22duration%22%3A%20182.5%2C%20%22instruction%22%3A%20%22Head%20northeast%22%2C%20%22name%22%3A%20%22-%22%2C%20%22type%22%3A%2011%2C%20%22way_points%22%3A%20%5B0%2C%205%5D%7D%2C%20%7B%22distance%22%3A%2018.7%2C%20%22duration%22%3A%2013.5%2C%20%22instruction%22%3A%20%22Keep%20right%22%2C%20%22name%22%3A%20%22-%22%2C%20%22type%22%3A%2013%2C%20%22way_points%22%3A%20%5B5%2C%2010%5D%7D%2C%20%7B%22distance%22%3A%204.0%2C%20%22duration%22%3A%202.9%2C%20%22instruction%22%3A%20%22Turn%20left%20onto%20Rotterdamseweg%22%2C%20%22name%22%3A%20%22Rotterdamseweg%22%2C%20%22type%22%3A%200%2C%20%22way_points%22%3A%20%5B10%2C%2011%5D%7D%2C%20%7B%22distance%22%3A%2013.8%2C%20%22duration%22%3A%209.9%2C%20%22instruction%22%3A%20%22Turn%20right%22%2C%20%22name%22%3A%20%22-%22%2C%20%22type%22%3A%201%2C%20%22way_points%22%3A%20%5B11%2C%2012%5D%7D%2C%20%7B%22distance%22%3A%20145.3%2C%20%22duration%22%3A%20104.6%2C%20%22instruction%22%3A%20%22Continue%20straight%20onto%20Rotterdamseweg%22%2C%20%22name%22%3A%20%22Rotterdamseweg%22%2C%20%22type%22%3A%206%2C%20%22way_points%22%3A%20%5B12%2C%2020%5D%7D%2C%20%7B%22distance%22%3A%209.9%2C%20%22duration%22%3A%207.1%2C%20%22instruction%22%3A%20%22Turn%20right%20onto%20Abtswoudsepad%22%2C%20%22name%22%3A%20%22Abtswoudsepad%22%2C%20%22type%22%3A%201%2C%20%22way_points%22%3A%20%5B20%2C%2023%5D%7D%2C%20%7B%22distance%22%3A%20516.9%2C%20%22duration%22%3A%20372.2%2C%20%22instruction%22%3A%20%22Turn%20left%20onto%20Rotterdamseweg%22%2C%20%22name%22%3A%20%22Rotterdamseweg%22%2C%20%22type%22%3A%200%2C%20%22way_points%22%3A%20%5B23%2C%2044%5D%7D%2C%20%7B%22distance%22%3A%20113.8%2C%20%22duration%22%3A%2081.9%2C%20%22instruction%22%3A%20%22Turn%20right%20onto%20Kanaalweg%22%2C%20%22name%22%3A%20%22Kanaalweg%22%2C%20%22type%22%3A%201%2C%20%22way_points%22%3A%20%5B44%2C%2051%5D%7D%2C%20%7B%22distance%22%3A%2037.5%2C%20%22duration%22%3A%2027.0%2C%20%22instruction%22%3A%20%22Turn%20left%20onto%20Hambrug%22%2C%20%22name%22%3A%20%22Hambrug%22%2C%20%22type%22%3A%200%2C%20%22way_points%22%3A%20%5B51%2C%2058%5D%7D%2C%20%7B%22distance%22%3A%204.9%2C%20%22duration%22%3A%203.5%2C%20%22instruction%22%3A%20%22Turn%20slight%20left%20onto%20Hambrug%22%2C%20%22name%22%3A%20%22Hambrug%22%2C%20%22type%22%3A%204%2C%20%22way_points%22%3A%20%5B58%2C%2059%5D%7D%2C%20%7B%22distance%22%3A%2014.7%2C%20%22duration%22%3A%2010.6%2C%20%22instruction%22%3A%20%22Turn%20slight%20left%20onto%20Gashouderpad%22%2C%20%22name%22%3A%20%22Gashouderpad%22%2C%20%22type%22%3A%204%2C%20%22way_points%22%3A%20%5B59%2C%2061%5D%7D%2C%20%7B%22distance%22%3A%2096.7%2C%20%22duration%22%3A%2069.6%2C%20%22instruction%22%3A%20%22Keep%20right%20onto%20Ham%22%2C%20%22name%22%3A%20%22Ham%22%2C%20%22type%22%3A%2013%2C%20%22way_points%22%3A%20%5B61%2C%2073%5D%7D%2C%20%7B%22distance%22%3A%2034.5%2C%20%22duration%22%3A%2024.9%2C%20%22instruction%22%3A%20%22Turn%20left%20onto%20Achterom%22%2C%20%22name%22%3A%20%22Achterom%22%2C%20%22type%22%3A%200%2C%20%22way_points%22%3A%20%5B73%2C%2075%5D%7D%2C%20%7B%22distance%22%3A%2081.9%2C%20%22duration%22%3A%2059.0%2C%20%22instruction%22%3A%20%22Turn%20right%20onto%20Giststraat%22%2C%20%22name%22%3A%20%22Giststraat%22%2C%20%22type%22%3A%201%2C%20%22way_points%22%3A%20%5B75%2C%2082%5D%7D%2C%20%7B%22distance%22%3A%20121.0%2C%20%22duration%22%3A%2087.1%2C%20%22instruction%22%3A%20%22Turn%20right%20onto%20Korte%20Geer%22%2C%20%22name%22%3A%20%22Korte%20Geer%22%2C%20%22type%22%3A%201%2C%20%22way_points%22%3A%20%5B82%2C%2086%5D%7D%2C%20%7B%22distance%22%3A%2060.8%2C%20%22duration%22%3A%2043.8%2C%20%22instruction%22%3A%20%22Turn%20left%20onto%20Breestraat%22%2C%20%22name%22%3A%20%22Breestraat%22%2C%20%22type%22%3A%200%2C%20%22way_points%22%3A%20%5B86%2C%2088%5D%7D%2C%20%7B%22distance%22%3A%2019.9%2C%20%22duration%22%3A%2014.3%2C%20%22instruction%22%3A%20%22Continue%20straight%20onto%20Oude%20Delft%22%2C%20%22name%22%3A%20%22Oude%20Delft%22%2C%20%22type%22%3A%206%2C%20%22way_points%22%3A%20%5B88%2C%2091%5D%7D%2C%20%7B%22distance%22%3A%204.1%2C%20%22duration%22%3A%202.9%2C%20%22instruction%22%3A%20%22Turn%20right%20onto%20Oude%20Delft%22%2C%20%22name%22%3A%20%22Oude%20Delft%22%2C%20%22type%22%3A%201%2C%20%22way_points%22%3A%20%5B91%2C%2092%5D%7D%2C%20%7B%22distance%22%3A%2057.1%2C%20%22duration%22%3A%2041.1%2C%20%22instruction%22%3A%20%22Turn%20left%20onto%20Barbarasteeg%22%2C%20%22name%22%3A%20%22Barbarasteeg%22%2C%20%22type%22%3A%200%2C%20%22way_points%22%3A%20%5B92%2C%2094%5D%7D%2C%20%7B%22distance%22%3A%200.0%2C%20%22duration%22%3A%200.0%2C%20%22instruction%22%3A%20%22Arrive%20at%20Barbarasteeg%2C%20on%20the%20right%22%2C%20%22name%22%3A%20%22-%22%2C%20%22type%22%3A%2010%2C%20%22way_points%22%3A%20%5B94%2C%2094%5D%7D%5D%7D%5D%2C%20%22summary%22%3A%20%7B%22distance%22%3A%201608.8%2C%20%22duration%22%3A%201158.3%7D%2C%20%22way_points%22%3A%20%5B0%2C%2094%5D%7D%2C%20%22type%22%3A%20%22Feature%22%7D%5D%2C%20%22metadata%22%3A%20%7B%22attribution%22%3A%20%22openrouteservice.org%20%7C%20OpenStreetMap%20contributors%22%2C%20%22engine%22%3A%20%7B%22build_date%22%3A%20%222022-02-18T19%3A37%3A41Z%22%2C%20%22graph_date%22%3A%20%222022-08-16T09%3A09%3A23Z%22%2C%20%22version%22%3A%20%226.7.0%22%7D%2C%20%22query%22%3A%20%7B%22coordinates%22%3A%20%5B%5B4.368017768665558%2C%2052.00161955%5D%2C%20%5B4.3581707%2C%2052.0073979%5D%5D%2C%20%22format%22%3A%20%22geojson%22%2C%20%22profile%22%3A%20%22foot-walking%22%7D%2C%20%22service%22%3A%20%22routing%22%2C%20%22timestamp%22%3A%201661169311859%7D%2C%20%22type%22%3A%20%22FeatureCollection%22%7D%29%3B%0A%0A%20%20%20%20%20%20%20%20%0A%3C/script%3E onload=\"this.contentDocument.open();this.contentDocument.write(    decodeURIComponent(this.getAttribute('data-html')));this.contentDocument.close();\" allowfullscreen webkitallowfullscreen mozallowfullscreen></iframe></div></div>"
      ],
      "text/plain": [
       "<folium.folium.Map at 0x7f468ebadeb0>"
      ]
     },
     "execution_count": 12,
     "metadata": {},
     "output_type": "execute_result"
    }
   ],
   "source": [
    "folium.features.GeoJson(route).add_to(map)\n",
    "map"
   ]
  },
  {
   "cell_type": "markdown",
   "metadata": {},
   "source": [
    "The function `distance_matrix` allows us to determine the distance between multiple locations. We'll add a third location for the Station Delft Campus:"
   ]
  },
  {
   "cell_type": "code",
   "execution_count": 13,
   "metadata": {},
   "outputs": [],
   "source": [
    "geo_station_campus = geolocator.geocode('Station Delft Campus')\n",
    "\n",
    "locations_delft = [(g.longitude,g.latitude) for g in [geo_hhs,geo_station,geo_station_campus]]\n",
    "\n",
    "distance_matrix=ors.distance_matrix(profile=\"foot-walking\", locations=locations_delft)"
   ]
  },
  {
   "cell_type": "markdown",
   "metadata": {},
   "source": [
    "The distance from each location to each location is given in seconds:"
   ]
  },
  {
   "cell_type": "code",
   "execution_count": 14,
   "metadata": {},
   "outputs": [
    {
     "data": {
      "text/plain": [
       "[[0.0, 1158.3, 1517.31], [1158.3, 0.0, 1801.54], [1517.31, 1801.54, 0.0]]"
      ]
     },
     "execution_count": 14,
     "metadata": {},
     "output_type": "execute_result"
    }
   ],
   "source": [
    "distance_matrix['durations']"
   ]
  },
  {
   "cell_type": "markdown",
   "metadata": {},
   "source": [
    "Note that this is a list of lists. `distance_matrix['durations'][i][j]` has the duration of seconds from `locations_delft[i]` to `locations_delft[j]`."
   ]
  },
  {
   "cell_type": "markdown",
   "metadata": {},
   "source": [
    "#### What's the (rounded) distance in walking seconds from the Haagse Hogeschool to Station Delft Campus?"
   ]
  },
  {
   "cell_type": "code",
   "execution_count": 15,
   "metadata": {},
   "outputs": [
    {
     "data": {
      "application/vnd.jupyter.widget-view+json": {
       "model_id": "904a6128c59f4916a900835656f1a58f",
       "version_major": 2,
       "version_minor": 0
      },
      "text/plain": [
       "IntSlider(value=1557, max=2000)"
      ]
     },
     "metadata": {},
     "output_type": "display_data"
    }
   ],
   "source": [
    "%%slider\n",
    "0 2000"
   ]
  },
  {
   "cell_type": "code",
   "execution_count": 16,
   "metadata": {},
   "outputs": [
    {
     "data": {
      "text/html": [
       "<table><tr style=\"background: green; color: white\"><td style=\"text-align:left\">Correct!</td></tr></table>"
      ],
      "text/plain": [
       "<IPython.core.display.HTML object>"
      ]
     },
     "metadata": {
      "text/html": {
       "username": "willem"
      }
     },
     "output_type": "display_data"
    }
   ],
   "source": [
    "%%check\n",
    "hashresult==2303615734"
   ]
  }
 ],
 "metadata": {
  "kernelspec": {
   "display_name": "prog",
   "language": "python",
   "name": "prog"
  },
  "language_info": {
   "codemirror_mode": {
    "name": "ipython",
    "version": 3
   },
   "file_extension": ".py",
   "mimetype": "text/x-python",
   "name": "python",
   "nbconvert_exporter": "python",
   "pygments_lexer": "ipython3",
   "version": "3.8.8"
  },
  "orig_nbformat": 4,
  "vscode": {
   "interpreter": {
    "hash": "31f2aee4e71d21fbe5cf8b01ff0e069b9275f58929596ceb00d14d90e3e16cd6"
   }
  }
 },
 "nbformat": 4,
 "nbformat_minor": 2
}
