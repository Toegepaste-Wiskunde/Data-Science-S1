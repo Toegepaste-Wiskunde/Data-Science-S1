{
 "cells": [
  {
   "cell_type": "markdown",
   "id": "30b32423",
   "metadata": {},
   "source": [
    "# Nand gates"
   ]
  },
  {
   "cell_type": "markdown",
   "id": "3ae1117b",
   "metadata": {},
   "source": [
    "In electronics, logical operators come in integrated circuit blocks. Sometimes only ICs with nand functionality are available. for this exercise, you do not have to understand electronics.\n",
    "\n",
    "We are going to explore the possibility to create every thinkable logic operation with only making use of nand operators."
   ]
  },
  {
   "cell_type": "markdown",
   "id": "fba93565",
   "metadata": {},
   "source": [
    "First, we are going to make a `nand` function. The truth table of this function is given below.\n",
    "\n",
    "$p$ | $q$ | nand $$ \\neg (p \\wedge q)$$\n",
    ":-----:|:-----:|:-----:\n",
    "False | False | True \n",
    "False | True | True \n",
    "True | False | True \n",
    "True | True | False \n"
   ]
  },
  {
   "cell_type": "markdown",
   "id": "4bfeaf68",
   "metadata": {},
   "source": [
    "# Assignments"
   ]
  },
  {
   "cell_type": "markdown",
   "id": "485a9bbf",
   "metadata": {},
   "source": [
    "#### Make a function `nand` that has two input arguments `p` and 'q' and as result gives `p nand q`."
   ]
  },
  {
   "cell_type": "code",
   "execution_count": null,
   "id": "3a50d8c7",
   "metadata": {},
   "outputs": [],
   "source": [
    "%%assignment\n",
    "### BEGIN SOLUTION\n",
    "def nand(p, q):\n",
    "    return not (p and q)\n",
    "### END SOLUTION"
   ]
  },
  {
   "cell_type": "code",
   "execution_count": null,
   "id": "5ec197c1",
   "metadata": {},
   "outputs": [],
   "source": [
    "%%check\n",
    "mandatory nand p q\n",
    "nand(False, False) == True\n",
    "nand(False, True) == True\n",
    "nand(True, False) == True\n",
    "nand(True, True) == False"
   ]
  },
  {
   "cell_type": "markdown",
   "id": "7e7bf399",
   "metadata": {},
   "source": [
    "#### Make a function `negation` that performs the not operation\n",
    "The function should have one input parameter and the body of the function can only use the `nand` function from above."
   ]
  },
  {
   "cell_type": "code",
   "execution_count": null,
   "id": "de5996d1",
   "metadata": {},
   "outputs": [],
   "source": [
    "%%assignment\n",
    "### BEGIN SOLUTION\n",
    "def negation(p):\n",
    "    return nand(p, p)\n",
    "### END SOLUTION"
   ]
  },
  {
   "cell_type": "code",
   "execution_count": null,
   "id": "0ab8b509",
   "metadata": {},
   "outputs": [],
   "source": [
    "%%check\n",
    "mandatory negation nand\n",
    "forbidden not or\n",
    "negation(False) == True\n",
    "negation(True) == False"
   ]
  },
  {
   "cell_type": "markdown",
   "id": "fcde805f",
   "metadata": {},
   "source": [
    "#### Make a function `conjunction` that performs the and operation\n",
    "The function should have two input parameters and the body of the function can only use the `nand` function from above."
   ]
  },
  {
   "cell_type": "code",
   "execution_count": null,
   "id": "a1a1ee20",
   "metadata": {},
   "outputs": [],
   "source": [
    "%%assignment\n",
    "### BEGIN SOLUTION\n",
    "def conjunction(p, q):\n",
    "    r = nand(p, q)\n",
    "    return nand(r, r)\n",
    "### END SOLUTION"
   ]
  },
  {
   "cell_type": "code",
   "execution_count": null,
   "id": "7f0dafc5",
   "metadata": {},
   "outputs": [],
   "source": [
    "%%check\n",
    "mandatory conjunction nand\n",
    "forbidden not or\n",
    "conjunction(False, False) == False\n",
    "conjunction(False, True) == False\n",
    "conjunction(True, False) == False\n",
    "conjunction(True, True) == True"
   ]
  },
  {
   "cell_type": "markdown",
   "id": "dffa3a54",
   "metadata": {},
   "source": [
    "#### Make a function `implication` that performs the implication\n",
    "The function should have two input parameters and the body of the function can only use the `nand` function from above.\n",
    "\n",
    "$p$ | $q$ | implication $$p \\Rightarrow q$$\n",
    ":-----:|:-----:|:-----:\n",
    "False | False | True\n",
    "False | True | True\n",
    "True | False | False\n",
    "True | True | True\n"
   ]
  },
  {
   "cell_type": "code",
   "execution_count": null,
   "id": "dd4f3dba",
   "metadata": {},
   "outputs": [],
   "source": [
    "%%assignment\n",
    "### BEGIN SOLUTION\n",
    "def implication(p, q):\n",
    "    nq = nand(q, q)\n",
    "    r = nand(p, nq)\n",
    "    return r\n",
    "### END SOLUTION"
   ]
  },
  {
   "cell_type": "code",
   "execution_count": null,
   "id": "632172d7",
   "metadata": {},
   "outputs": [],
   "source": [
    "%%check\n",
    "mandatory implication nand\n",
    "forbidden not or\n",
    "implication(False, False) == True\n",
    "implication(False, True) == True\n",
    "implication(True, False) == False\n",
    "implication(True, True) == True"
   ]
  }
 ],
 "metadata": {
  "kernelspec": {
   "display_name": "prog",
   "language": "python",
   "name": "prog"
  },
  "language_info": {
   "codemirror_mode": {
    "name": "ipython",
    "version": 3
   },
   "file_extension": ".py",
   "mimetype": "text/x-python",
   "name": "python",
   "nbconvert_exporter": "python",
   "pygments_lexer": "ipython3",
   "version": "3.8.8"
  }
 },
 "nbformat": 4,
 "nbformat_minor": 5
}
