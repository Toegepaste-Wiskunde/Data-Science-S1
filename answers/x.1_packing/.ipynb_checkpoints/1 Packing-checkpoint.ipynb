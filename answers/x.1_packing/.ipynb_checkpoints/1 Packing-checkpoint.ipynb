{
 "cells": [
  {
   "cell_type": "markdown",
   "metadata": {},
   "source": [
    "# Packing\n",
    "\n",
    "In programming we often work with lists of data. To allow our code to work with lists of any length, we often use `for`-loops and can check the length of a list with `len`. To pass a variable number of arguments to a function, we could put the arguments in a list, but there is a more simple technique for this called 'packing'. A function that uses 'packed' parameters, can be called with any number of arguments, without s having to place the arguments in a list. Packing will automatically place the arguments in a tuple."
   ]
  },
  {
   "cell_type": "code",
   "execution_count": null,
   "metadata": {},
   "outputs": [],
   "source": [
    "y = (1, 2)\n",
    "z = (1, 2, 3, 4)"
   ]
  },
  {
   "cell_type": "markdown",
   "metadata": {},
   "source": [
    "| code | result | comment |\n",
    "|:-----|:-------|:--------|\n",
    "| `a = 1, 2` | `a == (1, 2)` | the list of values on the right-hand side of the assignment are automatically packed |\n",
    "| `a, b = (1, 2)` | `a == 1` and `b == 2` | the values in c are automatically distributed (unpacked) over a and b |\n",
    "| `*a, b = z` | `a == (1, 2, 3)` and `b == 4` | assign the last value to `b` and pack the others in `a` |\n",
    "| `a, *b = z` | `a == 1` and `b == (2, 3, 4)` | assign the first value to `a` and pack the remaining values in `b` |\n",
    "| `*a, *b = z` |  | Illegal, you can only use one packing operator |\n",
    "| `a, b, *c = z` | `a == 1`, `b == 2` and `c == (3, 4)` | distribute so that the variables without packing operator receive one value and the packing operator the remaining |\n",
    "| `a, *b, c = z` | `a == 1`, `b == (2, 3)` and `c == 5` |  |\n",
    "\n"
   ]
  },
  {
   "cell_type": "markdown",
   "metadata": {},
   "source": [
    "In the third example, the packing operator (`*`) is used. This is interpreted as, the last value can go in `b`, the prior values are packed in `a`."
   ]
  },
  {
   "cell_type": "markdown",
   "metadata": {},
   "source": [
    "# Dummy variable\n",
    "\n",
    "In Python `_` is allowed as a variable name. This name is commonly used as a dummy variable; a variable of which you will never use its value. When unpacking, we can use one or more of these dummy variables to redirect values we are not interested in. For example, if you only need the city from a tuple, you could unpack the tuple like this. This is also used a lot in comprehensions."
   ]
  },
  {
   "cell_type": "code",
   "execution_count": null,
   "metadata": {},
   "outputs": [],
   "source": [
    "_, city = ('John', 'Liverpool')"
   ]
  },
  {
   "cell_type": "markdown",
   "metadata": {},
   "source": [
    "# Assignments"
   ]
  },
  {
   "cell_type": "markdown",
   "metadata": {},
   "source": [
    "#### How many elements are in `a` after running the following code?"
   ]
  },
  {
   "cell_type": "markdown",
   "metadata": {},
   "source": [
    "```a = 2, 3, 5```"
   ]
  },
  {
   "cell_type": "code",
   "execution_count": null,
   "metadata": {
    "nbgrader": {
     "grade": false,
     "grade_id": "cell-9d9a1fd276000a5e",
     "locked": true,
     "schema_version": 3,
     "solution": false,
     "task": false
    }
   },
   "outputs": [],
   "source": [
    "%%slider packing1\n",
    "0 10"
   ]
  },
  {
   "cell_type": "code",
   "execution_count": null,
   "metadata": {
    "nbgrader": {
     "grade": true,
     "grade_id": "cell-6f6f5349e319451c",
     "locked": true,
     "points": 1,
     "schema_version": 3,
     "solution": false,
     "task": false
    }
   },
   "outputs": [],
   "source": [
    "%%check\n",
    "result == 1005244904880883"
   ]
  },
  {
   "cell_type": "markdown",
   "metadata": {},
   "source": [
    "```a, *b = 'monkey'```"
   ]
  },
  {
   "cell_type": "code",
   "execution_count": null,
   "metadata": {
    "nbgrader": {
     "grade": false,
     "grade_id": "cell-a9bc8603fae0e889",
     "locked": true,
     "schema_version": 3,
     "solution": false,
     "task": false
    }
   },
   "outputs": [],
   "source": [
    "%%slider packing2\n",
    "0 10"
   ]
  },
  {
   "cell_type": "code",
   "execution_count": null,
   "metadata": {
    "nbgrader": {
     "grade": true,
     "grade_id": "cell-88aa68382584c346",
     "locked": true,
     "points": 1,
     "schema_version": 3,
     "solution": false,
     "task": false
    }
   },
   "outputs": [],
   "source": [
    "%%check\n",
    "result == 2035485573088411"
   ]
  },
  {
   "cell_type": "markdown",
   "metadata": {},
   "source": [
    "```*a, b = 'monkey'```"
   ]
  },
  {
   "cell_type": "code",
   "execution_count": null,
   "metadata": {
    "nbgrader": {
     "grade": false,
     "grade_id": "cell-dac4e1a778bfe180",
     "locked": true,
     "schema_version": 3,
     "solution": false,
     "task": false
    }
   },
   "outputs": [],
   "source": [
    "%%slider packing3\n",
    "0 10"
   ]
  },
  {
   "cell_type": "code",
   "execution_count": null,
   "metadata": {
    "nbgrader": {
     "grade": true,
     "grade_id": "cell-2fd50854f46cba6c",
     "locked": true,
     "points": 1,
     "schema_version": 3,
     "solution": false,
     "task": false
    }
   },
   "outputs": [],
   "source": [
    "%%check\n",
    "result == 3853743770900693"
   ]
  },
  {
   "cell_type": "markdown",
   "metadata": {},
   "source": [
    "```*a, b = [2, 3, 4], 5, 8```"
   ]
  },
  {
   "cell_type": "code",
   "execution_count": null,
   "metadata": {
    "nbgrader": {
     "grade": false,
     "grade_id": "cell-2ff2c0192e7b341c",
     "locked": true,
     "schema_version": 3,
     "solution": false,
     "task": false
    }
   },
   "outputs": [],
   "source": [
    "%%slider packing4\n",
    "0 10"
   ]
  },
  {
   "cell_type": "code",
   "execution_count": null,
   "metadata": {
    "nbgrader": {
     "grade": true,
     "grade_id": "cell-50c8bd47ccb430c0",
     "locked": true,
     "points": 1,
     "schema_version": 3,
     "solution": false,
     "task": false
    }
   },
   "outputs": [],
   "source": [
    "%%check\n",
    "result == 1725417809479212"
   ]
  },
  {
   "cell_type": "markdown",
   "metadata": {},
   "source": [
    "#### Write code to capture the fields of a `person` in the variables `name`, `age` and the remainder in a dummy variable `_`"
   ]
  },
  {
   "cell_type": "code",
   "execution_count": null,
   "metadata": {},
   "outputs": [],
   "source": [
    "person = ('John', 23, 'Liverpool', 'Mathematics student', 'Male')"
   ]
  },
  {
   "cell_type": "code",
   "execution_count": null,
   "metadata": {
    "nbgrader": {
     "grade": false,
     "grade_id": "cell-7684d9b7283c1e22",
     "locked": false,
     "schema_version": 3,
     "solution": true,
     "task": false
    }
   },
   "outputs": [],
   "source": [
    "%%assignment\n",
    "### BEGIN SOLUTION\n",
    "name, age, *_ = person\n",
    "### END SOLUTION"
   ]
  },
  {
   "cell_type": "code",
   "execution_count": null,
   "metadata": {
    "nbgrader": {
     "grade": true,
     "grade_id": "cell-5ccd011c918e213f",
     "locked": true,
     "points": 1,
     "schema_version": 3,
     "solution": false,
     "task": false
    }
   },
   "outputs": [],
   "source": [
    "%%check\n",
    "person = ('Isabelle', 22, 'Liverpool', 'Mathematics student', 'Male')\n",
    "name == 'Isabelle'\n",
    "age == 22\n",
    "person = ('John', 23, 'Liverpool', 'Mathematics student', 'Male')\n",
    "name == 'John'\n",
    "age == 23"
   ]
  },
  {
   "cell_type": "markdown",
   "metadata": {},
   "source": [
    "In `games` there are the name and point results of games that three friends have played. The point results are in the order in which they played the game.\n",
    "\n",
    "#### Write a Dictionary comprehension with the name of a player as key and the result of the last game as value. Use unpacking and do not use indexing.\n",
    "\n",
    "The answer for the gives case should be `{'Harry': 30, 'Jack': 27, 'Henry': 26}`"
   ]
  },
  {
   "cell_type": "code",
   "execution_count": null,
   "metadata": {},
   "outputs": [],
   "source": [
    "games = [('Harry', 20, 30), ('Jack', 25, 27), ('Henry', 28, 26)]"
   ]
  },
  {
   "cell_type": "code",
   "execution_count": null,
   "metadata": {
    "nbgrader": {
     "grade": false,
     "grade_id": "cell-f7d461e327e666f4",
     "locked": false,
     "schema_version": 3,
     "solution": true,
     "task": false
    }
   },
   "outputs": [],
   "source": [
    "%%assignment\n",
    "### BEGIN SOLUTION\n",
    "{ p:s for p, *_, s in games }\n",
    "### END SOLUTION"
   ]
  },
  {
   "cell_type": "code",
   "execution_count": null,
   "metadata": {
    "nbgrader": {
     "grade": true,
     "grade_id": "cell-c7af882e300756fa",
     "locked": true,
     "points": 1,
     "schema_version": 3,
     "solution": false,
     "task": false
    }
   },
   "outputs": [],
   "source": [
    "%%check\n",
    "comprehension\n",
    "forbidden [ ]\n",
    "games = [('George', 20, 21, 25), ('Jack', 25, 30, 27), ('Henry', 22, 23, 28)]\n",
    "result == {'George': 25, 'Jack': 27, 'Henry': 28}\n",
    "games = [('Harry', 20, 30), ('Jack', 25, 27), ('Henry', 28, 26)]\n",
    "result == {'Harry': 30, 'Jack': 27, 'Henry': 26}"
   ]
  },
  {
   "cell_type": "markdown",
   "metadata": {},
   "source": [
    "In `games` there are the name and point results of games that three friends have played. The point results are in the order in which they played the game.\n",
    "\n",
    "#### Write a list comprehension that gives the average score for every player.\n",
    "\n",
    "The answer for the gives case should be `[('Harry', 25.0), ('Jack', 26.0), ('Henry', 27.0)]`\n",
    "\n",
    "Note: to write a comprehension with tuples as elements, use a tuple expression like `[ (a, b+c) for ... ]` where of course you need to write something else than a and b+c."
   ]
  },
  {
   "cell_type": "code",
   "execution_count": null,
   "metadata": {},
   "outputs": [],
   "source": [
    "games = [('Harry', 20, 30), ('Jack', 25, 27), ('Henry', 28, 26)]"
   ]
  },
  {
   "cell_type": "code",
   "execution_count": null,
   "metadata": {
    "nbgrader": {
     "grade": false,
     "grade_id": "cell-393b7012c52324bb",
     "locked": false,
     "schema_version": 3,
     "solution": true,
     "task": false
    }
   },
   "outputs": [],
   "source": [
    "%%assignment\n",
    "### BEGIN SOLUTION\n",
    "[ (p, sum(g)/len(g)) for p, *g in games ]\n",
    "### END SOLUTION"
   ]
  },
  {
   "cell_type": "code",
   "execution_count": null,
   "metadata": {
    "nbgrader": {
     "grade": true,
     "grade_id": "cell-842f1d0146159436",
     "locked": true,
     "points": 1,
     "schema_version": 3,
     "solution": false,
     "task": false
    }
   },
   "outputs": [],
   "source": [
    "%%check\n",
    "comprehension\n",
    "games = [('George', 20, 21, 25), ('Jack', 25, 30, 26), ('Henry', 22, 23, 27)]\n",
    "result == [('George', 22.0), ('Jack', 27.0), ('Henry', 24.0)]\n",
    "games = [('Harry', 20, 30), ('Jack', 25, 27), ('Henry', 28, 26)]\n",
    "result == [('Harry', 25.0), ('Jack', 26.0), ('Henry', 27.0)]"
   ]
  }
 ],
 "metadata": {
  "celltoolbar": "Create Assignment",
  "kernelspec": {
   "display_name": "prog",
   "language": "python",
   "name": "prog"
  },
  "language_info": {
   "codemirror_mode": {
    "name": "ipython",
    "version": 3
   },
   "file_extension": ".py",
   "mimetype": "text/x-python",
   "name": "python",
   "nbconvert_exporter": "python",
   "pygments_lexer": "ipython3",
   "version": "3.8.8"
  }
 },
 "nbformat": 4,
 "nbformat_minor": 4
}
