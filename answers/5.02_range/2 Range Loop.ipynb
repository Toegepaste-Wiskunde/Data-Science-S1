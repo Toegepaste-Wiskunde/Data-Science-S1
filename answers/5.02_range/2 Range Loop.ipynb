{
 "cells": [
  {
   "cell_type": "markdown",
   "metadata": {},
   "source": [
    "# Range Loop\n",
    "\n",
    "Most common is that we use `range` within a loop. The index that we obtain can be used to point to elements in a List."
   ]
  },
  {
   "cell_type": "markdown",
   "metadata": {},
   "source": [
    "# Example"
   ]
  },
  {
   "cell_type": "code",
   "execution_count": null,
   "metadata": {},
   "outputs": [],
   "source": [
    "text = 'abcdefg'\n",
    "for i in range (2, 5):\n",
    "    print(text[i])"
   ]
  },
  {
   "cell_type": "markdown",
   "metadata": {},
   "source": [
    "# Assignments"
   ]
  },
  {
   "cell_type": "markdown",
   "metadata": {},
   "source": [
    "Consider two Lists from a round at a speed dating event between `male`s and `female`s. The males and females are paired by index, so male[0] had a one-minute meet with female[0], and so on. In the List, each participants submitted whether they would like to go on a date with the other person (True, False). Of course, that will only happen if both of them are positive."
   ]
  },
  {
   "cell_type": "code",
   "execution_count": null,
   "metadata": {},
   "outputs": [],
   "source": [
    "male = [ True, False, False, True, True, False, False, False, True, False ]\n",
    "female = [ False, False, True, True, False, False, False, True, True, False ]"
   ]
  },
  {
   "cell_type": "markdown",
   "metadata": {},
   "source": [
    "#### Write an expression to see if pair 0 is a match. The expression should be True or False, do not use print."
   ]
  },
  {
   "cell_type": "code",
   "execution_count": null,
   "metadata": {
    "nbgrader": {
     "grade": false,
     "grade_id": "cell-0d4c62cd1fc4d65c",
     "locked": false,
     "schema_version": 3,
     "solution": true,
     "task": false
    }
   },
   "outputs": [],
   "source": [
    "%%assignment\n",
    "### BEGIN SOLUTION\n",
    "male[0] and female[0]\n",
    "### END SOLUTION"
   ]
  },
  {
   "cell_type": "code",
   "execution_count": null,
   "metadata": {
    "nbgrader": {
     "grade": true,
     "grade_id": "cell-bdbc0957e125e7d2",
     "locked": true,
     "points": 1,
     "schema_version": 3,
     "solution": false,
     "task": false
    }
   },
   "outputs": [],
   "source": [
    "%%check\n",
    "male, female = [ True ], [ True ]\n",
    "result == True\n",
    "male = [ True, False, False, True, True, False, False, False, True, False ]\n",
    "female = [ False, False, True, True, False, False, False, True, True, False ]\n",
    "result == False"
   ]
  },
  {
   "cell_type": "markdown",
   "metadata": {},
   "source": [
    "#### Write an expression to determine how many males would like to take their speed date on an actual date.\n",
    "\n",
    "Hint: you can make use of the fact that Booleans are internally stored as 0 (False) and 1 (True). So True + True == 2. In other words, you can add them up."
   ]
  },
  {
   "cell_type": "code",
   "execution_count": null,
   "metadata": {
    "nbgrader": {
     "grade": false,
     "grade_id": "cell-ce7819487cd004e8",
     "locked": false,
     "schema_version": 3,
     "solution": true,
     "task": false
    }
   },
   "outputs": [],
   "source": [
    "%%assignment\n",
    "### BEGIN SOLUTION\n",
    "sum(male)\n",
    "### END SOLUTION"
   ]
  },
  {
   "cell_type": "code",
   "execution_count": null,
   "metadata": {
    "nbgrader": {
     "grade": true,
     "grade_id": "cell-82686d07ee48b6d6",
     "locked": true,
     "points": 1,
     "schema_version": 3,
     "solution": false,
     "task": false
    }
   },
   "outputs": [],
   "source": [
    "%%check\n",
    "male = [ True ]\n",
    "result == 1\n",
    "male = [ True, False, False, True, True, False, False, False, True, False ]\n",
    "result == 4"
   ]
  },
  {
   "cell_type": "markdown",
   "metadata": {},
   "source": [
    "#### Write an expression to determine the percentage of males that would like to take their speed date on an actual date.\n",
    "\n",
    "In this case, the output should be 40."
   ]
  },
  {
   "cell_type": "code",
   "execution_count": null,
   "metadata": {
    "nbgrader": {
     "grade": false,
     "grade_id": "cell-ce7819487cd004aa",
     "locked": false,
     "schema_version": 3,
     "solution": true,
     "task": false
    }
   },
   "outputs": [],
   "source": [
    "%%assignment\n",
    "### BEGIN SOLUTION\n",
    "100 * sum(male)/len(male)\n",
    "### END SOLUTION"
   ]
  },
  {
   "cell_type": "code",
   "execution_count": null,
   "metadata": {
    "nbgrader": {
     "grade": true,
     "grade_id": "cell-82686d07ee48b6aa",
     "locked": true,
     "points": 1,
     "schema_version": 3,
     "solution": false,
     "task": false
    }
   },
   "outputs": [],
   "source": [
    "%%check\n",
    "male = [ True ]\n",
    "result == 100.0\n",
    "male = [ True, False, False, True, True, False, False, False, True, False ]\n",
    "result == 40.0"
   ]
  },
  {
   "cell_type": "markdown",
   "metadata": {},
   "source": [
    "Working with `sum` and `len` is rather limited. We have more options if we write a for-loop to go over the list.\n",
    "\n",
    "#### Write a loop with a range to count in `male` how many `eager_males` would like to take their speed date on an actual date.\n",
    "\n",
    "Use `range` to iterate over the indices. Since the list males can vary in length, you will also need the `len` function."
   ]
  },
  {
   "cell_type": "code",
   "execution_count": null,
   "metadata": {
    "nbgrader": {
     "grade": false,
     "grade_id": "cell-46bfac68021ee00d",
     "locked": false,
     "schema_version": 3,
     "solution": true,
     "task": false
    }
   },
   "outputs": [],
   "source": [
    "%%assignment\n",
    "eager_males = 0    # increase this for every male that wants to go on a date\n",
    "### BEGIN SOLUTION\n",
    "for i in range(len(male)):\n",
    "    if male[i]:\n",
    "        eager_males += 1\n",
    "### END SOLUTION\n",
    "eager_males"
   ]
  },
  {
   "cell_type": "code",
   "execution_count": null,
   "metadata": {
    "nbgrader": {
     "grade": true,
     "grade_id": "cell-60da29d763b50a87",
     "locked": true,
     "points": 1,
     "schema_version": 3,
     "solution": false,
     "task": false
    }
   },
   "outputs": [],
   "source": [
    "%%check\n",
    "mandatory for in range len male\n",
    "forbidden sum\n",
    "male = [ True ]\n",
    "eager_males == 1\n",
    "male = [ True, False, False, True, True, False, False, False, True, False ]\n",
    "eager_males == 4"
   ]
  },
  {
   "cell_type": "markdown",
   "metadata": {},
   "source": [
    "#### Write a loop with a range to count how many `matches` there are in `male` and `female` (i.e. both answered True) would like to take their speed date on an actual date."
   ]
  },
  {
   "cell_type": "code",
   "execution_count": null,
   "metadata": {
    "nbgrader": {
     "grade": false,
     "grade_id": "cell-57403bc312341ebb",
     "locked": false,
     "schema_version": 3,
     "solution": true,
     "task": false
    }
   },
   "outputs": [],
   "source": [
    "%%assignment\n",
    "matches = 0    # increase this for every male that wants to go on a date\n",
    "### BEGIN SOLUTION\n",
    "for i in range(len(male)):\n",
    "    if male[i] and female[i]:\n",
    "        matches += 1\n",
    "### END SOLUTION\n",
    "matches"
   ]
  },
  {
   "cell_type": "code",
   "execution_count": null,
   "metadata": {
    "nbgrader": {
     "grade": true,
     "grade_id": "cell-b3400f670105d98d",
     "locked": true,
     "points": 1,
     "schema_version": 3,
     "solution": false,
     "task": false
    }
   },
   "outputs": [],
   "source": [
    "%%check\n",
    "mandatory for in range len male female\n",
    "male, female = [ True ], [ True ]\n",
    "matches == 1\n",
    "male = [ True, False, False, True, True, False, False, False, True, False ]\n",
    "female = [ False, False, True, True, False, False, False, True, True, False ]\n",
    "matches == 2"
   ]
  }
 ],
 "metadata": {
  "celltoolbar": "Create Assignment",
  "kernelspec": {
   "display_name": "prog",
   "language": "python",
   "name": "prog"
  },
  "language_info": {
   "codemirror_mode": {
    "name": "ipython",
    "version": 3
   },
   "file_extension": ".py",
   "mimetype": "text/x-python",
   "name": "python",
   "nbconvert_exporter": "python",
   "pygments_lexer": "ipython3",
   "version": "3.8.8"
  }
 },
 "nbformat": 4,
 "nbformat_minor": 4
}
