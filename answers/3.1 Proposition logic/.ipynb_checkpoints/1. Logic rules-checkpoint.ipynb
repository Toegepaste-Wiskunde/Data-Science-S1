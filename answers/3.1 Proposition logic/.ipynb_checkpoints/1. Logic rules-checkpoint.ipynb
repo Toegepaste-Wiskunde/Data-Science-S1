{
 "cells": [
  {
   "cell_type": "markdown",
   "id": "77c0f02a",
   "metadata": {},
   "source": [
    "# Rules of logic"
   ]
  },
  {
   "cell_type": "markdown",
   "id": "02f03d40",
   "metadata": {},
   "source": [
    "#### Mathematical definition of the logical operators\n",
    "\n",
    "In notebook 1.4.1, Boolean operators, we have learned the truth tables of the logical operators. Here are those truth tables again:\n",
    "\n",
    "$p$ | not ($\\neg p$)\n",
    ":-----:|:-----:\n",
    "False | True\n",
    "True | False\n",
    "\n",
    "$p$ | $q$ | and $$p \\wedge q$$ | or $$p \\vee q$$ | implication $$p \\Rightarrow q$$ | equivalence $$p \\Leftrightarrow q$$\n",
    ":-----:|:-----:|:-----:|:-----:|:-----:|:-----:\n",
    "False | False | False | False | True | True\n",
    "False | True | False | True | True | False\n",
    "True | False | False | True | False | False\n",
    "True | True | True | True | True | True\n"
   ]
  },
  {
   "cell_type": "markdown",
   "id": "5fb64150",
   "metadata": {},
   "source": [
    "#### Operator names\n",
    "\n",
    "The operator have names, given in the table below.\n",
    "\n",
    "Mathematical name | Meaning                | Mathematical notation\n",
    ":----------------:|:----------------------:|:---------------------:\n",
    "Negation          | not $p$                | $\\neg p$\n",
    "Conjunction       | $p$ and $q$            | $p \\wedge q$\n",
    "Disjunction       | $p$ or $q$             | $p \\vee q$\n",
    "Implication       | if $p$, then $q$       | $p \\Rightarrow q$\n",
    "Equivalence       | $p$ if and only if $q$ | $p \\Leftrightarrow q$\n",
    "\n",
    "Although the programmatical `if` has some similarities with the mathematical implication, it is not the same operator. The disjunction results in a boolean value, but the `if` command controls the flow of the code.\n",
    "\n",
    "(The flow of a program - which commands are executed or not executed and in what order)."
   ]
  },
  {
   "cell_type": "markdown",
   "id": "a4b657c7",
   "metadata": {},
   "source": [
    "# Assignments"
   ]
  },
  {
   "cell_type": "markdown",
   "id": "d44b851f",
   "metadata": {},
   "source": [
    "#### Write code that performs an equivalence operation on the boolean variables `p` and `q`.\n",
    "Only use the `and`, `or` or 'not' operators. Do <b>not</b> use `==`.\n",
    "\n",
    "Note: You can use brackets in your expression, although there are precedenc rules in Python. `not` always goes first, 'and' goes next and 'or' is executed last."
   ]
  },
  {
   "cell_type": "code",
   "execution_count": null,
   "id": "219e33d5",
   "metadata": {},
   "outputs": [],
   "source": [
    "p = True\n",
    "q = False"
   ]
  },
  {
   "cell_type": "code",
   "execution_count": null,
   "id": "dd639f6c",
   "metadata": {},
   "outputs": [],
   "source": [
    "%%assignment\n",
    "### BEGIN SOLUTION\n",
    "not p and not q or p and q\n",
    "### END SOLUTION"
   ]
  },
  {
   "cell_type": "code",
   "execution_count": null,
   "id": "cd693869",
   "metadata": {},
   "outputs": [],
   "source": [
    "%%check\n",
    "forbidden ==\n",
    "p = False\n",
    "q = False\n",
    "result == True\n",
    "p = False\n",
    "q = True\n",
    "result == False\n",
    "p = True\n",
    "q = False\n",
    "result == False\n",
    "p = True\n",
    "q = True\n",
    "result == True\n"
   ]
  },
  {
   "cell_type": "markdown",
   "id": "e05e2796",
   "metadata": {},
   "source": [
    "# Calculation rules of logic"
   ]
  },
  {
   "cell_type": "markdown",
   "id": "b410eb81",
   "metadata": {},
   "source": [
    "We know eight calculation rules of logic. These can be used to simplify logic expressions.\n",
    "Here $F$ stands for False, $T$ stands for True and $\\equiv$ means that the two expressions are equivalent, they work interchangably.\n",
    "\n",
    "<!-- -->| <!-- --> | <!-- -->                                     | <!-- -->\n",
    ":--:|:------------:|:--------------------------------------------:|:--------------------------:\n",
    "1   | Idempotent   | $p \\vee p \\equiv p$                          | $p \\wedge p \\equiv p$\n",
    "2   | Associative  | $(p \\vee q) \\vee r \\equiv p \\vee (q \\vee r)$ | $(p \\wedge q) \\wedge r \\equiv p \\wedge (q \\wedge r)$ \n",
    "3   | Commutative  | $p \\vee q \\equiv q \\vee p$                   | $p \\wedge q \\equiv q \\wedge p$ \n",
    "4   | Distributive | $p \\vee (q \\wedge r) \\equiv (p \\vee q) \\wedge (p \\vee r)$ | $p \\wedge (q \\vee r) \\equiv (p \\wedge q) \\vee (p \\wedge r)$ \n",
    "5   | Identity     | $p \\vee F \\equiv p$ <br> $p \\vee T \\equiv T$ | $p \\wedge F \\equiv F$ <br> $p \\wedge T \\equiv p$ \n",
    "6   | Involution   | $\\neg \\neg p \\equiv p$ |  \n",
    "7   | Complement   | $p \\vee \\neg p \\equiv T$ <br> $\\neg T \\equiv F$ | $p \\wedge \\neg p \\equiv F$ <br> $\\neg F \\equiv T$ \n",
    "8   | De Morgan    | $\\neg (p \\vee q) \\equiv \\neg p \\wedge \\neg q$ | $\\neg (p \\wedge q) \\equiv \\neg p \\vee \\neg q$ \n",
    "\n",
    "Rule number 8 caries the name of Augustus De Morgan, a British mathematician."
   ]
  },
  {
   "cell_type": "markdown",
   "id": "89a96436",
   "metadata": {},
   "source": [
    "# Assignments"
   ]
  },
  {
   "cell_type": "markdown",
   "id": "090759eb",
   "metadata": {},
   "source": [
    "#### Simplify this logical expression\n",
    "\n",
    "$(p \\wedge q) \\vee (\\neg q \\wedge p)$\n",
    "\n",
    "Use the rules of logic to calculate a simpler expression and put the most simple expression in code as your solution."
   ]
  },
  {
   "cell_type": "code",
   "execution_count": null,
   "id": "845219c5",
   "metadata": {},
   "outputs": [],
   "source": [
    "p = True\n",
    "q = False"
   ]
  },
  {
   "cell_type": "code",
   "execution_count": null,
   "id": "989a7ed8",
   "metadata": {},
   "outputs": [],
   "source": [
    "%%assignment\n",
    "### BEGIN SOLUTION\n",
    "p\n",
    "### END SOLUTION"
   ]
  },
  {
   "cell_type": "code",
   "execution_count": null,
   "id": "1f230eeb",
   "metadata": {},
   "outputs": [],
   "source": [
    "%%check\n",
    "p = False\n",
    "q = False\n",
    "result == (p and q) or (not q and p)\n",
    "p = False\n",
    "q = True\n",
    "result == (p and q) or (not q and p)\n",
    "p = True\n",
    "q = False\n",
    "result == (p and q) or (not q and p)\n",
    "p = True\n",
    "q = True\n",
    "result == (p and q) or (not q and p)\n",
    "forbidden ( ) and or not"
   ]
  },
  {
   "cell_type": "markdown",
   "id": "74524ca5",
   "metadata": {},
   "source": [
    "#### Write the following expression in another form\n",
    "\n",
    "$\\neg (p \\vee \\neg q)$"
   ]
  },
  {
   "cell_type": "code",
   "execution_count": null,
   "id": "a7aa5c8c",
   "metadata": {},
   "outputs": [],
   "source": [
    "p = False\n",
    "q = False"
   ]
  },
  {
   "cell_type": "code",
   "execution_count": null,
   "id": "758f5ff9",
   "metadata": {},
   "outputs": [],
   "source": [
    "%%assignment\n",
    "### BEGIN SOLUTION\n",
    "not p and q\n",
    "### END SOLUTION"
   ]
  },
  {
   "cell_type": "code",
   "execution_count": null,
   "id": "5fc2f460",
   "metadata": {},
   "outputs": [],
   "source": [
    "%%check\n",
    "p = False\n",
    "q = False\n",
    "result == (not (p or not q))\n",
    "p = False\n",
    "q = True\n",
    "result == (not (p or not q))\n",
    "p = True\n",
    "q = False\n",
    "result == (not (p or not q))\n",
    "p = True\n",
    "q = True\n",
    "result == (not (p or not q))\n",
    "forbidden ( )"
   ]
  }
 ],
 "metadata": {
  "kernelspec": {
   "display_name": "prog",
   "language": "python",
   "name": "prog"
  },
  "language_info": {
   "codemirror_mode": {
    "name": "ipython",
    "version": 3
   },
   "file_extension": ".py",
   "mimetype": "text/x-python",
   "name": "python",
   "nbconvert_exporter": "python",
   "pygments_lexer": "ipython3",
   "version": "3.8.8"
  }
 },
 "nbformat": 4,
 "nbformat_minor": 5
}
