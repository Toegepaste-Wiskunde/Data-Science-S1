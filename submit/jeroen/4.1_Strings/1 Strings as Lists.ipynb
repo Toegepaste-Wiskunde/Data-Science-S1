{
 "cells": [
  {
   "cell_type": "markdown",
   "metadata": {},
   "source": [
    "# Strings\n",
    "\n",
    "We have already seen literal String values and string operators. \n",
    "\n",
    "\n",
    "\n",
    "| code | result | comment |\n",
    "|:-----|:-------|:--------|\n",
    "| `'hello ' + 'there'` | `'hello there'` | + concatenates String values |\n",
    "| `f'the result is {y}'` | `'the result is 23'` | in a formatting String expressions between {} are evaluated and placed in the String value, with y = 23 |\n",
    "\n",
    "You also know that Lists in Python are indexed collections. In Python, Strings behave like Lists of the characters they are made up of. Like with all Lists, indexing always starts from 0.\n",
    "\n",
    "`text = 'Jack is walking around'`\n",
    "\n",
    "| code | result | comment |\n",
    "|:-----|:-------|:--------|\n",
    "| text[0] | `'J'` | you can use indexing to point to characters |\n",
    "| name = text[:4] | name == `'Jack'` | you can also use slicing |\n",
    "| text[-6:] | `'around'` | and negative slicing |\n",
    "\n",
    "# Immutable\n",
    "\n",
    "There is however one difference between Strings and Lists. In Python, String values are 'immutable', meaning that you cannot change them. So if name is a string value, `name[0] = 'Z'` is invalid. If we want name to contain a different value, we have to use an expression to create a new value instead of changing an old one. `name = 'Z' + name[1:]` is valid, because a new string is created, that is the concatenation of two others.\n",
    "\n",
    "String values are immutable on purpose. Suppose multiple persons with the salutation 'mr' and for one person you want to change that to 'ms'. If you could alter the string value, then if multiple persons have the same salutation value, you could by mistake change the salutions for all of them."
   ]
  },
  {
   "cell_type": "markdown",
   "metadata": {},
   "source": [
    "# Assignments"
   ]
  },
  {
   "cell_type": "markdown",
   "metadata": {},
   "source": [
    "#### Slice the following `text` using exact indices so that you only get the word 'is'."
   ]
  },
  {
   "cell_type": "code",
   "execution_count": 1,
   "metadata": {
    "execution": {
     "iopub.execute_input": "2022-08-05T15:05:29.428023Z",
     "iopub.status.busy": "2022-08-05T15:05:29.427375Z",
     "iopub.status.idle": "2022-08-05T15:05:29.439809Z",
     "shell.execute_reply": "2022-08-05T15:05:29.438662Z"
    }
   },
   "outputs": [],
   "source": [
    "text = 'There is no place like home'"
   ]
  },
  {
   "cell_type": "code",
   "execution_count": 2,
   "metadata": {
    "deletable": false,
    "editable": true,
    "execution": {
     "iopub.execute_input": "2022-08-05T15:05:29.443741Z",
     "iopub.status.busy": "2022-08-05T15:05:29.443300Z",
     "iopub.status.idle": "2022-08-05T15:05:29.449006Z",
     "shell.execute_reply": "2022-08-05T15:05:29.448067Z"
    }
   },
   "outputs": [],
   "source": [
    "%%assignment\n",
    "### ENTER YOUR CODE HERE"
   ]
  },
  {
   "cell_type": "code",
   "execution_count": 3,
   "metadata": {
    "deletable": false,
    "editable": false,
    "execution": {
     "iopub.execute_input": "2022-08-05T15:05:29.452339Z",
     "iopub.status.busy": "2022-08-05T15:05:29.451863Z",
     "iopub.status.idle": "2022-08-05T15:05:29.464232Z",
     "shell.execute_reply": "2022-08-05T15:05:29.463529Z"
    }
   },
   "outputs": [
    {
     "data": {
      "text/html": [
       "<table><tr style=\"background: red; color: white\"><td style=\"text-align:left\">The result should be 'is' for testcase text = 'There is no place like home' </td></tr></table>"
      ],
      "text/plain": [
       "<IPython.core.display.HTML object>"
      ]
     },
     "metadata": {
      "text/html": {
       "username": "jeroen"
      }
     },
     "output_type": "display_data"
    }
   ],
   "source": [
    "%%check\n",
    "text = 'There is no place like home'\n",
    "result == 'is'\n",
    "text = 'Watch an answer'\n",
    "result == 'an'"
   ]
  },
  {
   "cell_type": "markdown",
   "metadata": {},
   "source": [
    "#### Create a modified String based on `text`, in which you replace 'no' in `text` 'a'.\n",
    "(So the two letters 'no' are replaced by one letter 'a')."
   ]
  },
  {
   "cell_type": "code",
   "execution_count": 4,
   "metadata": {
    "execution": {
     "iopub.execute_input": "2022-08-05T15:05:29.466995Z",
     "iopub.status.busy": "2022-08-05T15:05:29.466758Z",
     "iopub.status.idle": "2022-08-05T15:05:29.470081Z",
     "shell.execute_reply": "2022-08-05T15:05:29.469390Z"
    }
   },
   "outputs": [],
   "source": [
    "text = 'There is no place like home'"
   ]
  },
  {
   "cell_type": "code",
   "execution_count": 5,
   "metadata": {
    "deletable": false,
    "editable": true,
    "execution": {
     "iopub.execute_input": "2022-08-05T15:05:29.472751Z",
     "iopub.status.busy": "2022-08-05T15:05:29.472460Z",
     "iopub.status.idle": "2022-08-05T15:05:29.476160Z",
     "shell.execute_reply": "2022-08-05T15:05:29.475483Z"
    }
   },
   "outputs": [],
   "source": [
    "%%assignment\n",
    "### ENTER YOUR CODE HERE"
   ]
  },
  {
   "cell_type": "code",
   "execution_count": 6,
   "metadata": {
    "deletable": false,
    "editable": false,
    "execution": {
     "iopub.execute_input": "2022-08-05T15:05:29.478604Z",
     "iopub.status.busy": "2022-08-05T15:05:29.478351Z",
     "iopub.status.idle": "2022-08-05T15:05:29.483923Z",
     "shell.execute_reply": "2022-08-05T15:05:29.483023Z"
    }
   },
   "outputs": [
    {
     "data": {
      "text/html": [
       "<table><tr style=\"background: red; color: white\"><td style=\"text-align:left\">The result should be 'There is a place like home' for testcase text = 'There is no place like home' </td></tr></table>"
      ],
      "text/plain": [
       "<IPython.core.display.HTML object>"
      ]
     },
     "metadata": {
      "text/html": {
       "username": "jeroen"
      }
     },
     "output_type": "display_data"
    }
   ],
   "source": [
    "%%check\n",
    "text = 'There is no place like home'\n",
    "result == 'There is a place like home'\n",
    "text = 'No no no no solution'\n",
    "result == 'No no no a solution'"
   ]
  }
 ],
 "metadata": {
  "celltoolbar": "Create Assignment",
  "kernelspec": {
   "display_name": "prog",
   "language": "python",
   "name": "prog"
  },
  "language_info": {
   "codemirror_mode": {
    "name": "ipython",
    "version": 3
   },
   "file_extension": ".py",
   "mimetype": "text/x-python",
   "name": "python",
   "nbconvert_exporter": "python",
   "pygments_lexer": "ipython3",
   "version": "3.9.12"
  }
 },
 "nbformat": 4,
 "nbformat_minor": 4
}
