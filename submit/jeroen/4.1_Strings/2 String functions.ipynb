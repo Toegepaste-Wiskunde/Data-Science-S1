{
 "cells": [
  {
   "cell_type": "markdown",
   "metadata": {},
   "source": [
    "# String functions\n",
    "\n",
    "We can apply some functions on Strings that we can also apply on Lists, and also some additional ones.\n",
    "\n",
    "| code | result | comment |\n",
    "|:-----|:-------|:--------|\n",
    "| `'a' in 'Ardvark'` | `True` | like the `in` operator for Lists, this returns True when 'a' is in 'ArdVark' |\n",
    "| `'va' in 'Ardvark'` | `True` | different from Lists, we can also check if a sequence of characters is present |\n",
    "| `'ard' in 'Ardvark'` | `False` | however, Strings are case sensitive 'ard' $\\neq$ 'Ard' |\n",
    "| `'Ardvark'.index('a')` | `4` | returns the first index at which (lowercase) 'a' appears |\n",
    "| `len('a and b')` | `7` | the number of characters in the string, including spaces, dots, commas and other symbols |\n",
    "| `int('23')` | `23` | converts a string value to an int. This only works if the string is only an int, otherwise you get an error|\n",
    "| `'a and b'.split()` | `['a', 'and', 'b']` | Splits a List on whitespaces and returns a List of words |\n",
    "| `'30-12-2020'.split('-')` | `['30', '12', '2020']` | Splits a List on the '-' character/delimiter and returns a List of 'words' |\n",
    "| `'His name is Jack'.lower()` | `'his name is jack'` | Returns a String with all characters in lower case |\n",
    "| `'His name is Jack'.upper()` | `'HIS NAME IS JACK'` | Returns a String with all characters in upper case |\n",
    "\n"
   ]
  },
  {
   "cell_type": "markdown",
   "metadata": {},
   "source": [
    "# Assignments"
   ]
  },
  {
   "cell_type": "markdown",
   "metadata": {},
   "source": [
    "#### what is the first position of 'be' in `text`"
   ]
  },
  {
   "cell_type": "code",
   "execution_count": 1,
   "metadata": {
    "execution": {
     "iopub.execute_input": "2022-08-05T15:05:30.553951Z",
     "iopub.status.busy": "2022-08-05T15:05:30.553318Z",
     "iopub.status.idle": "2022-08-05T15:05:30.565589Z",
     "shell.execute_reply": "2022-08-05T15:05:30.564743Z"
    }
   },
   "outputs": [],
   "source": [
    "text = 'To be or not to be, that is the question'"
   ]
  },
  {
   "cell_type": "code",
   "execution_count": 2,
   "metadata": {
    "deletable": false,
    "editable": true,
    "execution": {
     "iopub.execute_input": "2022-08-05T15:05:30.569869Z",
     "iopub.status.busy": "2022-08-05T15:05:30.569443Z",
     "iopub.status.idle": "2022-08-05T15:05:30.574254Z",
     "shell.execute_reply": "2022-08-05T15:05:30.573505Z"
    }
   },
   "outputs": [],
   "source": [
    "%%assignment\n",
    "### ENTER YOUR CODE HERE"
   ]
  },
  {
   "cell_type": "code",
   "execution_count": 3,
   "metadata": {
    "deletable": false,
    "editable": false,
    "execution": {
     "iopub.execute_input": "2022-08-05T15:05:30.577357Z",
     "iopub.status.busy": "2022-08-05T15:05:30.577028Z",
     "iopub.status.idle": "2022-08-05T15:05:30.586567Z",
     "shell.execute_reply": "2022-08-05T15:05:30.585907Z"
    }
   },
   "outputs": [
    {
     "data": {
      "text/html": [
       "<table><tr style=\"background: red; color: white\"><td style=\"text-align:left\">The result should be 3 for testcase text = 'To be or not to be, that is the question' </td></tr></table>"
      ],
      "text/plain": [
       "<IPython.core.display.HTML object>"
      ]
     },
     "metadata": {
      "text/html": {
       "username": "jeroen"
      }
     },
     "output_type": "display_data"
    }
   ],
   "source": [
    "%%check\n",
    "text = 'To be or not to be, that is the question'\n",
    "result == 3\n",
    "text = 'The globe'\n",
    "result == 7"
   ]
  },
  {
   "cell_type": "markdown",
   "metadata": {},
   "source": [
    "#### Check if 'be' is in `text`, case insensitive (e.g. B is the same as b)"
   ]
  },
  {
   "cell_type": "code",
   "execution_count": 4,
   "metadata": {
    "execution": {
     "iopub.execute_input": "2022-08-05T15:05:30.589453Z",
     "iopub.status.busy": "2022-08-05T15:05:30.589207Z",
     "iopub.status.idle": "2022-08-05T15:05:30.592653Z",
     "shell.execute_reply": "2022-08-05T15:05:30.591861Z"
    }
   },
   "outputs": [],
   "source": [
    "text = 'To be or not to be, that is the question'"
   ]
  },
  {
   "cell_type": "code",
   "execution_count": 5,
   "metadata": {
    "deletable": false,
    "editable": true,
    "execution": {
     "iopub.execute_input": "2022-08-05T15:05:30.595027Z",
     "iopub.status.busy": "2022-08-05T15:05:30.594748Z",
     "iopub.status.idle": "2022-08-05T15:05:30.598322Z",
     "shell.execute_reply": "2022-08-05T15:05:30.597659Z"
    }
   },
   "outputs": [],
   "source": [
    "%%assignment\n",
    "### ENTER YOUR CODE HERE"
   ]
  },
  {
   "cell_type": "code",
   "execution_count": 6,
   "metadata": {
    "deletable": false,
    "editable": false,
    "execution": {
     "iopub.execute_input": "2022-08-05T15:05:30.600745Z",
     "iopub.status.busy": "2022-08-05T15:05:30.600518Z",
     "iopub.status.idle": "2022-08-05T15:05:30.605646Z",
     "shell.execute_reply": "2022-08-05T15:05:30.604968Z"
    }
   },
   "outputs": [
    {
     "data": {
      "text/html": [
       "<table><tr style=\"background: red; color: white\"><td style=\"text-align:left\">warning: cannot use assignment in test 'result ', use == instead</td></tr></table>"
      ],
      "text/plain": [
       "<IPython.core.display.HTML object>"
      ]
     },
     "metadata": {
      "text/html": {
       "username": "jeroen"
      }
     },
     "output_type": "display_data"
    }
   ],
   "source": [
    "%%check\n",
    "text = 'To be or not to be, that is the question'\n",
    "result\n",
    "text = 'Be who you want BE'\n",
    "result\n",
    "text = 'B3 who you want'\n",
    "not result"
   ]
  },
  {
   "cell_type": "markdown",
   "metadata": {},
   "source": [
    "#### How long is the second word in `text`\n",
    "Hint: create a list of single words and get the length of the second word in the list"
   ]
  },
  {
   "cell_type": "code",
   "execution_count": 7,
   "metadata": {
    "execution": {
     "iopub.execute_input": "2022-08-05T15:05:30.608047Z",
     "iopub.status.busy": "2022-08-05T15:05:30.607743Z",
     "iopub.status.idle": "2022-08-05T15:05:30.611377Z",
     "shell.execute_reply": "2022-08-05T15:05:30.610669Z"
    }
   },
   "outputs": [],
   "source": [
    "text = 'To be or not to be, that is the question'"
   ]
  },
  {
   "cell_type": "code",
   "execution_count": 8,
   "metadata": {
    "deletable": false,
    "editable": true,
    "execution": {
     "iopub.execute_input": "2022-08-05T15:05:30.613597Z",
     "iopub.status.busy": "2022-08-05T15:05:30.613291Z",
     "iopub.status.idle": "2022-08-05T15:05:30.617142Z",
     "shell.execute_reply": "2022-08-05T15:05:30.616446Z"
    }
   },
   "outputs": [],
   "source": [
    "%%assignment\n",
    "### ENTER YOUR CODE HERE"
   ]
  },
  {
   "cell_type": "code",
   "execution_count": 9,
   "metadata": {
    "deletable": false,
    "editable": false,
    "execution": {
     "iopub.execute_input": "2022-08-05T15:05:30.619441Z",
     "iopub.status.busy": "2022-08-05T15:05:30.619188Z",
     "iopub.status.idle": "2022-08-05T15:05:30.624201Z",
     "shell.execute_reply": "2022-08-05T15:05:30.623568Z"
    }
   },
   "outputs": [
    {
     "data": {
      "text/html": [
       "<table><tr style=\"background: red; color: white\"><td style=\"text-align:left\">The result should be 2 for testcase text = 'To be or not to be, that is the question' </td></tr></table>"
      ],
      "text/plain": [
       "<IPython.core.display.HTML object>"
      ]
     },
     "metadata": {
      "text/html": {
       "username": "jeroen"
      }
     },
     "output_type": "display_data"
    }
   ],
   "source": [
    "%%check\n",
    "text = 'To be or not to be, that is the question'\n",
    "result == 2\n",
    "text = 'Be who you want BE'\n",
    "result == 3"
   ]
  },
  {
   "cell_type": "markdown",
   "metadata": {},
   "source": [
    "#### How long are all the words in `text`.\n",
    "\n",
    "Hint: you can use a List comprension to list the all the lengths of the words.\n",
    "For example: [2, 2, 2, 3, 2, 3, 4, 2, 3, 8]"
   ]
  },
  {
   "cell_type": "code",
   "execution_count": 10,
   "metadata": {
    "execution": {
     "iopub.execute_input": "2022-08-05T15:05:30.626580Z",
     "iopub.status.busy": "2022-08-05T15:05:30.626358Z",
     "iopub.status.idle": "2022-08-05T15:05:30.629611Z",
     "shell.execute_reply": "2022-08-05T15:05:30.628952Z"
    }
   },
   "outputs": [],
   "source": [
    "text = 'To be or not to be, that is the question'"
   ]
  },
  {
   "cell_type": "code",
   "execution_count": 11,
   "metadata": {
    "deletable": false,
    "editable": true,
    "execution": {
     "iopub.execute_input": "2022-08-05T15:05:30.631949Z",
     "iopub.status.busy": "2022-08-05T15:05:30.631655Z",
     "iopub.status.idle": "2022-08-05T15:05:30.635393Z",
     "shell.execute_reply": "2022-08-05T15:05:30.634715Z"
    }
   },
   "outputs": [],
   "source": [
    "%%assignment\n",
    "### ENTER YOUR CODE HERE"
   ]
  },
  {
   "cell_type": "code",
   "execution_count": 12,
   "metadata": {
    "deletable": false,
    "editable": false,
    "execution": {
     "iopub.execute_input": "2022-08-05T15:05:30.637442Z",
     "iopub.status.busy": "2022-08-05T15:05:30.637175Z",
     "iopub.status.idle": "2022-08-05T15:05:30.642401Z",
     "shell.execute_reply": "2022-08-05T15:05:30.641744Z"
    }
   },
   "outputs": [
    {
     "data": {
      "text/html": [
       "<table><tr style=\"background: red; color: white\"><td style=\"text-align:left\">The result should be [2, 2, 2, 3, 2, 3, 4, 2, 3, 8] for testcase text = 'To be or not to be, that is the question' </td></tr></table>"
      ],
      "text/plain": [
       "<IPython.core.display.HTML object>"
      ]
     },
     "metadata": {
      "text/html": {
       "username": "jeroen"
      }
     },
     "output_type": "display_data"
    }
   ],
   "source": [
    "%%check\n",
    "text = 'To be or not to be, that is the question'\n",
    "result == [2, 2, 2, 3, 2, 3, 4, 2, 3, 8]\n",
    "text = 'Be who you want BE'\n",
    "result == [2, 3, 3, 4, 2]"
   ]
  },
  {
   "cell_type": "markdown",
   "metadata": {},
   "source": [
    "#### How long is the longest word in `text`.\n",
    "\n",
    "Hint: Using the List of word lengths, with what function can you get the highest value?"
   ]
  },
  {
   "cell_type": "code",
   "execution_count": 13,
   "metadata": {
    "execution": {
     "iopub.execute_input": "2022-08-05T15:05:30.644500Z",
     "iopub.status.busy": "2022-08-05T15:05:30.644272Z",
     "iopub.status.idle": "2022-08-05T15:05:30.647572Z",
     "shell.execute_reply": "2022-08-05T15:05:30.646903Z"
    }
   },
   "outputs": [],
   "source": [
    "text = 'To be or not to be, that is the question'"
   ]
  },
  {
   "cell_type": "code",
   "execution_count": 14,
   "metadata": {
    "deletable": false,
    "editable": true,
    "execution": {
     "iopub.execute_input": "2022-08-05T15:05:30.649690Z",
     "iopub.status.busy": "2022-08-05T15:05:30.649409Z",
     "iopub.status.idle": "2022-08-05T15:05:30.653064Z",
     "shell.execute_reply": "2022-08-05T15:05:30.652406Z"
    }
   },
   "outputs": [],
   "source": [
    "%%assignment\n",
    "### ENTER YOUR CODE HERE"
   ]
  },
  {
   "cell_type": "code",
   "execution_count": 15,
   "metadata": {
    "deletable": false,
    "editable": false,
    "execution": {
     "iopub.execute_input": "2022-08-05T15:05:30.655160Z",
     "iopub.status.busy": "2022-08-05T15:05:30.654924Z",
     "iopub.status.idle": "2022-08-05T15:05:30.659769Z",
     "shell.execute_reply": "2022-08-05T15:05:30.659124Z"
    }
   },
   "outputs": [
    {
     "data": {
      "text/html": [
       "<table><tr style=\"background: red; color: white\"><td style=\"text-align:left\">The result should be 8 for testcase text = 'To be or not to be, that is the question' </td></tr></table>"
      ],
      "text/plain": [
       "<IPython.core.display.HTML object>"
      ]
     },
     "metadata": {
      "text/html": {
       "username": "jeroen"
      }
     },
     "output_type": "display_data"
    }
   ],
   "source": [
    "%%check\n",
    "text = 'To be or not to be, that is the question'\n",
    "result == 8\n",
    "text = 'Be who you want BE'\n",
    "result == 4"
   ]
  }
 ],
 "metadata": {
  "celltoolbar": "Create Assignment",
  "kernelspec": {
   "display_name": "prog",
   "language": "python",
   "name": "prog"
  },
  "language_info": {
   "codemirror_mode": {
    "name": "ipython",
    "version": 3
   },
   "file_extension": ".py",
   "mimetype": "text/x-python",
   "name": "python",
   "nbconvert_exporter": "python",
   "pygments_lexer": "ipython3",
   "version": "3.9.12"
  }
 },
 "nbformat": 4,
 "nbformat_minor": 4
}
