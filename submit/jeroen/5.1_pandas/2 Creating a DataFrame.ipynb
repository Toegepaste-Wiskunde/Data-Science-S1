{
 "cells": [
  {
   "cell_type": "markdown",
   "metadata": {},
   "source": [
    "## Creating a new DataFrame\n",
    "We've already seen that we can create a DataFrame by loading a CSV file with Pandas. But a DataFrame can also be directly constructed from a dictionary of lists:\n",
    "\n",
    "\n",
    "\n"
   ]
  },
  {
   "cell_type": "code",
   "execution_count": 1,
   "metadata": {
    "execution": {
     "iopub.execute_input": "2022-08-05T15:07:13.216071Z",
     "iopub.status.busy": "2022-08-05T15:07:13.215557Z",
     "iopub.status.idle": "2022-08-05T15:07:13.233717Z",
     "shell.execute_reply": "2022-08-05T15:07:13.232735Z"
    }
   },
   "outputs": [
    {
     "name": "stdout",
     "output_type": "stream",
     "text": [
      "        A           B\n",
      "row_0  10         aap\n",
      "row_1  20       paard\n",
      "row_2  30  dromedaris\n"
     ]
    }
   ],
   "source": [
    "import pandas as pd\n",
    "\n",
    "example_dict = {'A': [10, 20, 30], 'B': ['aap','paard','dromedaris']}\n",
    "row_labels = [f'row_{k}' for k in range(3)] \n",
    "\n",
    "example_df = pd.DataFrame(example_dict,index=row_labels)\n",
    "print(example_df)"
   ]
  },
  {
   "cell_type": "markdown",
   "metadata": {},
   "source": [
    "**exercise** Create the following table as DataFrame:\n",
    "\n",
    "|       | inwoners | provincie    | \n",
    "|-------|----------|--------------|\n",
    "| Delft | 104468   | Zuid-Holland | \n",
    "| Utrecht | 361924 | Utrecht |\n",
    "| Westerhoven | 2030 | Noord-Brabant|\n"
   ]
  },
  {
   "cell_type": "code",
   "execution_count": 2,
   "metadata": {
    "deletable": false,
    "editable": true,
    "execution": {
     "iopub.execute_input": "2022-08-05T15:07:13.237904Z",
     "iopub.status.busy": "2022-08-05T15:07:13.237610Z",
     "iopub.status.idle": "2022-08-05T15:07:13.242183Z",
     "shell.execute_reply": "2022-08-05T15:07:13.241121Z"
    }
   },
   "outputs": [],
   "source": [
    "%%assignment\n",
    "### ENTER YOUR CODE HERE\n"
   ]
  },
  {
   "cell_type": "code",
   "execution_count": 3,
   "metadata": {
    "deletable": false,
    "editable": false,
    "execution": {
     "iopub.execute_input": "2022-08-05T15:07:13.245803Z",
     "iopub.status.busy": "2022-08-05T15:07:13.244848Z",
     "iopub.status.idle": "2022-08-05T15:07:13.261095Z",
     "shell.execute_reply": "2022-08-05T15:07:13.260138Z"
    }
   },
   "outputs": [
    {
     "data": {
      "text/html": [
       "<table><tr style=\"background: red; color: white\"><td style=\"text-align:left\">The answer is wrong</td></tr></table>"
      ],
      "text/plain": [
       "<IPython.core.display.HTML object>"
      ]
     },
     "metadata": {
      "text/html": {
       "username": "jeroen"
      }
     },
     "output_type": "display_data"
    }
   ],
   "source": [
    "%%check\n",
    "hashresult == 742727652"
   ]
  }
 ],
 "metadata": {
  "kernelspec": {
   "display_name": "prog",
   "language": "python",
   "name": "prog"
  },
  "language_info": {
   "codemirror_mode": {
    "name": "ipython",
    "version": 3
   },
   "file_extension": ".py",
   "mimetype": "text/x-python",
   "name": "python",
   "nbconvert_exporter": "python",
   "pygments_lexer": "ipython3",
   "version": "3.9.12"
  },
  "vscode": {
   "interpreter": {
    "hash": "31f2aee4e71d21fbe5cf8b01ff0e069b9275f58929596ceb00d14d90e3e16cd6"
   }
  }
 },
 "nbformat": 4,
 "nbformat_minor": 2
}
