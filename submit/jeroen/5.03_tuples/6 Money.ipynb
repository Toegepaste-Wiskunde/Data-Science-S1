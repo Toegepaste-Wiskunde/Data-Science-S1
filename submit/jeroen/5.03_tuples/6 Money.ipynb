{
 "cells": [
  {
   "cell_type": "markdown",
   "metadata": {},
   "source": [
    "# Money\n",
    "\n",
    "#### given a coin_distribution = [0, 1, 5, 0 1, 2] over a set of coins = [200, 100, 50, 20, 10, 5], what is the amount?\n",
    "\n",
    "In this case 1 * 100 + 5 * 50 + 1 * 10 + 2 * 5 = 370\n",
    "\n",
    "Notice, the List of coins and coin_distribution are paired by index. "
   ]
  },
  {
   "cell_type": "code",
   "execution_count": 1,
   "metadata": {
    "execution": {
     "iopub.execute_input": "2022-08-05T15:06:08.218848Z",
     "iopub.status.busy": "2022-08-05T15:06:08.218216Z",
     "iopub.status.idle": "2022-08-05T15:06:08.231227Z",
     "shell.execute_reply": "2022-08-05T15:06:08.230177Z"
    }
   },
   "outputs": [],
   "source": [
    "coins = [200, 100, 50, 20, 10, 5]"
   ]
  },
  {
   "cell_type": "code",
   "execution_count": 2,
   "metadata": {
    "execution": {
     "iopub.execute_input": "2022-08-05T15:06:08.235511Z",
     "iopub.status.busy": "2022-08-05T15:06:08.235111Z",
     "iopub.status.idle": "2022-08-05T15:06:08.239440Z",
     "shell.execute_reply": "2022-08-05T15:06:08.238702Z"
    }
   },
   "outputs": [],
   "source": [
    "coin_distribution = [0, 1, 5, 0, 1, 2]"
   ]
  },
  {
   "cell_type": "markdown",
   "metadata": {},
   "source": [
    "### Assignments"
   ]
  },
  {
   "cell_type": "markdown",
   "metadata": {},
   "source": [
    "#### Compute the value (in cents) represented by the E1 coins by multiplying the second value in `coins` with the second value in `coin_distribution`.\n",
    "\n",
    "For the given distribution, the answer should be 100 (cents), since there is 1 E1 coin.\n",
    "\n",
    "Note: indices start at 0, so the second value is at index=1 "
   ]
  },
  {
   "cell_type": "code",
   "execution_count": 3,
   "metadata": {
    "deletable": false,
    "editable": true,
    "execution": {
     "iopub.execute_input": "2022-08-05T15:06:08.242705Z",
     "iopub.status.busy": "2022-08-05T15:06:08.242395Z",
     "iopub.status.idle": "2022-08-05T15:06:08.247080Z",
     "shell.execute_reply": "2022-08-05T15:06:08.246229Z"
    }
   },
   "outputs": [],
   "source": [
    "%%assignment\n",
    "### ENTER YOUR CODE HERE"
   ]
  },
  {
   "cell_type": "code",
   "execution_count": 4,
   "metadata": {
    "deletable": false,
    "editable": false,
    "execution": {
     "iopub.execute_input": "2022-08-05T15:06:08.250095Z",
     "iopub.status.busy": "2022-08-05T15:06:08.249794Z",
     "iopub.status.idle": "2022-08-05T15:06:08.259121Z",
     "shell.execute_reply": "2022-08-05T15:06:08.258458Z"
    }
   },
   "outputs": [
    {
     "data": {
      "text/html": [
       "<table><tr style=\"background: red; color: white\"><td style=\"text-align:left\">The result should be 300 for testcase coin_distribution = [1, 3, 5, 1, 1, 2] </td></tr></table>"
      ],
      "text/plain": [
       "<IPython.core.display.HTML object>"
      ]
     },
     "metadata": {
      "text/html": {
       "username": "jeroen"
      }
     },
     "output_type": "display_data"
    }
   ],
   "source": [
    "%%check\n",
    "coin_distribution = [1, 3, 5, 1, 1, 2]\n",
    "result == 300\n",
    "coin_distribution = [0, 1, 5, 0, 1, 2]\n",
    "result == 100"
   ]
  },
  {
   "cell_type": "markdown",
   "metadata": {},
   "source": [
    "#### Use a `range` to go over the indices of `coins`, and add coin * coin_distribution together for all indices in `amount`.\n",
    "\n",
    "Hint: consider that the choice of coins may be different for different countries, therefor you should use the length of the set of coins to determine the range and not use a fixed 6."
   ]
  },
  {
   "cell_type": "code",
   "execution_count": 5,
   "metadata": {
    "deletable": false,
    "editable": true,
    "execution": {
     "iopub.execute_input": "2022-08-05T15:06:08.262072Z",
     "iopub.status.busy": "2022-08-05T15:06:08.261793Z",
     "iopub.status.idle": "2022-08-05T15:06:08.266679Z",
     "shell.execute_reply": "2022-08-05T15:06:08.266035Z"
    }
   },
   "outputs": [
    {
     "data": {
      "text/plain": [
       "0"
      ]
     },
     "execution_count": 5,
     "metadata": {},
     "output_type": "execute_result"
    }
   ],
   "source": [
    "%%assignment\n",
    "amount = 0\n",
    "### ENTER YOUR CODE HERE\n",
    "amount"
   ]
  },
  {
   "cell_type": "code",
   "execution_count": 6,
   "metadata": {
    "deletable": false,
    "editable": false,
    "execution": {
     "iopub.execute_input": "2022-08-05T15:06:08.269077Z",
     "iopub.status.busy": "2022-08-05T15:06:08.268797Z",
     "iopub.status.idle": "2022-08-05T15:06:08.274058Z",
     "shell.execute_reply": "2022-08-05T15:06:08.273307Z"
    }
   },
   "outputs": [
    {
     "data": {
      "text/html": [
       "<table><tr style=\"background: red; color: white\"><td style=\"text-align:left\">Your code should contain 'range'</td></tr></table>"
      ],
      "text/plain": [
       "<IPython.core.display.HTML object>"
      ]
     },
     "metadata": {
      "text/html": {
       "username": "jeroen"
      }
     },
     "output_type": "display_data"
    }
   ],
   "source": [
    "%%check\n",
    "mandatory range len\n",
    "forbidden enumerate 6\n",
    "coin_distribution = [1, 3, 5, 1, 1, 2]\n",
    "result == 790\n",
    "coin_distribution = [0, 1, 5, 0, 1, 2]\n",
    "result == 370"
   ]
  },
  {
   "cell_type": "markdown",
   "metadata": {},
   "source": [
    "#### Now do the same using an `enumerate` to go over the indices and values of `coins`, and add coin * coin_distribution together for all indices in `amount`."
   ]
  },
  {
   "cell_type": "code",
   "execution_count": 7,
   "metadata": {
    "deletable": false,
    "editable": true,
    "execution": {
     "iopub.execute_input": "2022-08-05T15:06:08.276998Z",
     "iopub.status.busy": "2022-08-05T15:06:08.276542Z",
     "iopub.status.idle": "2022-08-05T15:06:08.283307Z",
     "shell.execute_reply": "2022-08-05T15:06:08.282446Z"
    }
   },
   "outputs": [
    {
     "data": {
      "text/plain": [
       "0"
      ]
     },
     "execution_count": 7,
     "metadata": {},
     "output_type": "execute_result"
    }
   ],
   "source": [
    "%%assignment\n",
    "amount = 0\n",
    "### ENTER YOUR CODE HERE\n",
    "amount"
   ]
  },
  {
   "cell_type": "code",
   "execution_count": 8,
   "metadata": {
    "deletable": false,
    "editable": false,
    "execution": {
     "iopub.execute_input": "2022-08-05T15:06:08.286112Z",
     "iopub.status.busy": "2022-08-05T15:06:08.285574Z",
     "iopub.status.idle": "2022-08-05T15:06:08.292200Z",
     "shell.execute_reply": "2022-08-05T15:06:08.291406Z"
    }
   },
   "outputs": [
    {
     "data": {
      "text/html": [
       "<table><tr style=\"background: red; color: white\"><td style=\"text-align:left\">Your code should contain 'enumerate'</td></tr></table>"
      ],
      "text/plain": [
       "<IPython.core.display.HTML object>"
      ]
     },
     "metadata": {
      "text/html": {
       "username": "jeroen"
      }
     },
     "output_type": "display_data"
    }
   ],
   "source": [
    "%%check\n",
    "mandatory enumerate\n",
    "forbidden range\n",
    "coin_distribution = [0, 1, 5, 0, 1, 2]\n",
    "amount == 370\n",
    "coin_distribution = [1, 1, 1, 1, 1, 1]\n",
    "amount == 385"
   ]
  },
  {
   "cell_type": "markdown",
   "metadata": {},
   "source": [
    "#### Now compute the same thing using a `sum` and a list comprehension and assign it to `amount`. \n",
    "\n",
    "Use something like `coin_value * coin_count` as an expression in your comprehension. There should also be an `enumerate` in the comprehension to over the indices of the values of coins and number of coins."
   ]
  },
  {
   "cell_type": "code",
   "execution_count": 9,
   "metadata": {
    "deletable": false,
    "editable": true,
    "execution": {
     "iopub.execute_input": "2022-08-05T15:06:08.294891Z",
     "iopub.status.busy": "2022-08-05T15:06:08.294486Z",
     "iopub.status.idle": "2022-08-05T15:06:08.300378Z",
     "shell.execute_reply": "2022-08-05T15:06:08.299508Z"
    }
   },
   "outputs": [
    {
     "data": {
      "text/plain": [
       "0"
      ]
     },
     "execution_count": 9,
     "metadata": {},
     "output_type": "execute_result"
    }
   ],
   "source": [
    "%%assignment\n",
    "### ENTER YOUR CODE HERE\n",
    "amount"
   ]
  },
  {
   "cell_type": "code",
   "execution_count": 10,
   "metadata": {
    "deletable": false,
    "editable": false,
    "execution": {
     "iopub.execute_input": "2022-08-05T15:06:08.302843Z",
     "iopub.status.busy": "2022-08-05T15:06:08.302566Z",
     "iopub.status.idle": "2022-08-05T15:06:08.308462Z",
     "shell.execute_reply": "2022-08-05T15:06:08.307474Z"
    }
   },
   "outputs": [
    {
     "data": {
      "text/html": [
       "<table><tr style=\"background: red; color: white\"><td style=\"text-align:left\">Your code should contain 'sum'</td></tr></table>"
      ],
      "text/plain": [
       "<IPython.core.display.HTML object>"
      ]
     },
     "metadata": {
      "text/html": {
       "username": "jeroen"
      }
     },
     "output_type": "display_data"
    }
   ],
   "source": [
    "%%check\n",
    "forbidden range zip     # Do not use range, but rather enumerate\n",
    "forbidden zip           # Do not use zip, but rather enumerate\n",
    "forbidden :             # You should use a List comprehension for this assignment\n",
    "mandatory sum enumerate amount\n",
    "coin_distribution = [0, 1, 5, 0, 1, 2]\n",
    "amount == 370\n",
    "coin_distribution = [1, 1, 1, 1, 1, 1]\n",
    "amount == 385"
   ]
  }
 ],
 "metadata": {
  "celltoolbar": "Create Assignment",
  "kernelspec": {
   "display_name": "prog",
   "language": "python",
   "name": "prog"
  },
  "language_info": {
   "codemirror_mode": {
    "name": "ipython",
    "version": 3
   },
   "file_extension": ".py",
   "mimetype": "text/x-python",
   "name": "python",
   "nbconvert_exporter": "python",
   "pygments_lexer": "ipython3",
   "version": "3.9.12"
  }
 },
 "nbformat": 4,
 "nbformat_minor": 4
}
