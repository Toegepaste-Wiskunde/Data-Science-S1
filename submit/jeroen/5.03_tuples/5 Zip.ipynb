{
 "cells": [
  {
   "cell_type": "markdown",
   "metadata": {},
   "source": [
    "# Zip\n",
    "\n",
    "When we have two or more lists that are paired by index, we can `zip` them to create a new list in which all the elements from the original lists that share the same index are joined in a tuple."
   ]
  },
  {
   "cell_type": "markdown",
   "metadata": {},
   "source": [
    "# Example\n",
    "\n",
    "Suppose that the grade list follows the indexing of the student list, e.g. 7.0 is the grade that belong to John and 8.0 the grade that belongs to Lucy. We can then zip these Lists so that the students and their grades are joined in tuples. A typical use is that we can easily iterate over such a list.\n",
    "\n",
    "Note: when the expression of a comprehension is a tuple, we have to use brackets!"
   ]
  },
  {
   "cell_type": "code",
   "execution_count": 1,
   "metadata": {
    "execution": {
     "iopub.execute_input": "2022-08-05T15:06:07.050869Z",
     "iopub.status.busy": "2022-08-05T15:06:07.050231Z",
     "iopub.status.idle": "2022-08-05T15:06:07.063103Z",
     "shell.execute_reply": "2022-08-05T15:06:07.061869Z"
    }
   },
   "outputs": [],
   "source": [
    "student = ['John', 'Lucy', 'Jack']\n",
    "grade = [7.0, 8.0, 6.0]"
   ]
  },
  {
   "cell_type": "code",
   "execution_count": 2,
   "metadata": {
    "execution": {
     "iopub.execute_input": "2022-08-05T15:06:07.067228Z",
     "iopub.status.busy": "2022-08-05T15:06:07.066899Z",
     "iopub.status.idle": "2022-08-05T15:06:07.077527Z",
     "shell.execute_reply": "2022-08-05T15:06:07.076877Z"
    }
   },
   "outputs": [
    {
     "data": {
      "text/plain": [
       "[('John', 7.0), ('Lucy', 8.0), ('Jack', 6.0)]"
      ]
     },
     "execution_count": 2,
     "metadata": {},
     "output_type": "execute_result"
    }
   ],
   "source": [
    "[ (s, g) for s, g in zip(student, grade) ]"
   ]
  },
  {
   "cell_type": "markdown",
   "metadata": {},
   "source": [
    "# Assignments"
   ]
  },
  {
   "cell_type": "markdown",
   "metadata": {},
   "source": [
    "#### Create a list of countries and their capitals.\n",
    "\n",
    "You may assume that the lists country and capital are paired by index."
   ]
  },
  {
   "cell_type": "code",
   "execution_count": 3,
   "metadata": {
    "execution": {
     "iopub.execute_input": "2022-08-05T15:06:07.083173Z",
     "iopub.status.busy": "2022-08-05T15:06:07.082895Z",
     "iopub.status.idle": "2022-08-05T15:06:07.086790Z",
     "shell.execute_reply": "2022-08-05T15:06:07.085786Z"
    }
   },
   "outputs": [],
   "source": [
    "country = ['The Netherlands', 'Belgium', 'France']\n",
    "capital = ['Amsterdam', 'Brussels', 'Paris']"
   ]
  },
  {
   "cell_type": "code",
   "execution_count": 4,
   "metadata": {
    "deletable": false,
    "editable": true,
    "execution": {
     "iopub.execute_input": "2022-08-05T15:06:07.089845Z",
     "iopub.status.busy": "2022-08-05T15:06:07.089530Z",
     "iopub.status.idle": "2022-08-05T15:06:07.093780Z",
     "shell.execute_reply": "2022-08-05T15:06:07.092951Z"
    }
   },
   "outputs": [],
   "source": [
    "%%assignment\n",
    "### ENTER YOUR CODE HERE"
   ]
  },
  {
   "cell_type": "code",
   "execution_count": 5,
   "metadata": {
    "deletable": false,
    "editable": false,
    "execution": {
     "iopub.execute_input": "2022-08-05T15:06:07.097010Z",
     "iopub.status.busy": "2022-08-05T15:06:07.096563Z",
     "iopub.status.idle": "2022-08-05T15:06:07.102712Z",
     "shell.execute_reply": "2022-08-05T15:06:07.101982Z"
    }
   },
   "outputs": [
    {
     "data": {
      "text/html": [
       "<table><tr style=\"background: red; color: white\"><td style=\"text-align:left\">The result should be [('The Netherlands', 'Amsterdam'), ('Belgium', 'Brussels')] for testcase country = ['The Netherlands', 'Belgium'] , capital = ['Amsterdam', 'Brussels'] </td></tr></table>"
      ],
      "text/plain": [
       "<IPython.core.display.HTML object>"
      ]
     },
     "metadata": {
      "text/html": {
       "username": "jeroen"
      }
     },
     "output_type": "display_data"
    }
   ],
   "source": [
    "%%check\n",
    "country = ['The Netherlands', 'Belgium']\n",
    "capital = ['Amsterdam', 'Brussels']\n",
    "result == [('The Netherlands', 'Amsterdam'), ('Belgium', 'Brussels')]\n",
    "country = ['The Netherlands', 'Belgium', 'France']\n",
    "capital = ['Amsterdam', 'Brussels', 'Paris']\n",
    "result == [('The Netherlands', 'Amsterdam'), ('Belgium', 'Brussels'), ('France', 'Paris')]"
   ]
  },
  {
   "cell_type": "markdown",
   "metadata": {},
   "source": [
    "#### Create a list of countries and their capitals and number of inhabitants. The number of inhabitants is in Millions\n",
    "\n",
    "Hint: you can also use a single `zip` to zip more than two lists, e.g. `zip(a, b, c)`."
   ]
  },
  {
   "cell_type": "code",
   "execution_count": 6,
   "metadata": {
    "execution": {
     "iopub.execute_input": "2022-08-05T15:06:07.105495Z",
     "iopub.status.busy": "2022-08-05T15:06:07.105150Z",
     "iopub.status.idle": "2022-08-05T15:06:07.109420Z",
     "shell.execute_reply": "2022-08-05T15:06:07.108595Z"
    }
   },
   "outputs": [],
   "source": [
    "country = ['The Netherlands', 'Belgium', 'France']\n",
    "capital = ['Amsterdam', 'Brussels', 'Paris']\n",
    "inhabitants = [17.28, 11.46, 66.99]"
   ]
  },
  {
   "cell_type": "code",
   "execution_count": 7,
   "metadata": {
    "deletable": false,
    "editable": true,
    "execution": {
     "iopub.execute_input": "2022-08-05T15:06:07.112021Z",
     "iopub.status.busy": "2022-08-05T15:06:07.111706Z",
     "iopub.status.idle": "2022-08-05T15:06:07.115753Z",
     "shell.execute_reply": "2022-08-05T15:06:07.114935Z"
    }
   },
   "outputs": [],
   "source": [
    "%%assignment\n",
    "### ENTER YOUR CODE HERE"
   ]
  },
  {
   "cell_type": "code",
   "execution_count": 8,
   "metadata": {
    "deletable": false,
    "editable": false,
    "execution": {
     "iopub.execute_input": "2022-08-05T15:06:07.118268Z",
     "iopub.status.busy": "2022-08-05T15:06:07.118016Z",
     "iopub.status.idle": "2022-08-05T15:06:07.123514Z",
     "shell.execute_reply": "2022-08-05T15:06:07.122845Z"
    }
   },
   "outputs": [
    {
     "data": {
      "text/html": [
       "<table><tr style=\"background: red; color: white\"><td style=\"text-align:left\">The result should be [('The Netherlands', 'Amsterdam', 17.28), ('Belgium', 'Brussels', 11.46)] for testcase country = ['The Netherlands', 'Belgium'] , capital = ['Amsterdam', 'Brussels'] , inhabitants = [17.28, 11.46] </td></tr></table>"
      ],
      "text/plain": [
       "<IPython.core.display.HTML object>"
      ]
     },
     "metadata": {
      "text/html": {
       "username": "jeroen"
      }
     },
     "output_type": "display_data"
    }
   ],
   "source": [
    "%%check\n",
    "country = ['The Netherlands', 'Belgium']\n",
    "capital = ['Amsterdam', 'Brussels']\n",
    "inhabitants = [17.28, 11.46]\n",
    "result == [('The Netherlands', 'Amsterdam', 17.28), ('Belgium', 'Brussels', 11.46)]\n",
    "country = ['The Netherlands', 'Belgium', 'France']\n",
    "capital = ['Amsterdam', 'Brussels', 'Paris']\n",
    "inhabitants = [17.28, 11.46, 66.99]\n",
    "result == [('The Netherlands', 'Amsterdam', 17.28), ('Belgium', 'Brussels', 11.46), ('France', 'Paris', 66.99)]"
   ]
  },
  {
   "cell_type": "markdown",
   "metadata": {},
   "source": [
    "#### Create a list of countries and their capitals, e.g. ('Belgium', 'Brussels'), ..., but only list them if they have more than 15 Million inhabitants.\n",
    "\n",
    "Hint: Your expression should only use (country, capital) but that does not prevent you from using inhabitants in your `zip` to place a filter on the number of inhabitants. "
   ]
  },
  {
   "cell_type": "code",
   "execution_count": 9,
   "metadata": {
    "execution": {
     "iopub.execute_input": "2022-08-05T15:06:07.126215Z",
     "iopub.status.busy": "2022-08-05T15:06:07.125903Z",
     "iopub.status.idle": "2022-08-05T15:06:07.129811Z",
     "shell.execute_reply": "2022-08-05T15:06:07.129141Z"
    }
   },
   "outputs": [],
   "source": [
    "country = ['The Netherlands', 'Belgium', 'France']\n",
    "capital = ['Amsterdam', 'Brussels', 'Paris']\n",
    "inhabitants = [17.28, 11.46, 66.99]"
   ]
  },
  {
   "cell_type": "code",
   "execution_count": 10,
   "metadata": {
    "deletable": false,
    "editable": true,
    "execution": {
     "iopub.execute_input": "2022-08-05T15:06:07.132152Z",
     "iopub.status.busy": "2022-08-05T15:06:07.131906Z",
     "iopub.status.idle": "2022-08-05T15:06:07.135572Z",
     "shell.execute_reply": "2022-08-05T15:06:07.134897Z"
    }
   },
   "outputs": [],
   "source": [
    "%%assignment\n",
    "### ENTER YOUR CODE HERE"
   ]
  },
  {
   "cell_type": "code",
   "execution_count": 11,
   "metadata": {
    "deletable": false,
    "editable": false,
    "execution": {
     "iopub.execute_input": "2022-08-05T15:06:07.138107Z",
     "iopub.status.busy": "2022-08-05T15:06:07.137825Z",
     "iopub.status.idle": "2022-08-05T15:06:07.143477Z",
     "shell.execute_reply": "2022-08-05T15:06:07.142540Z"
    }
   },
   "outputs": [
    {
     "data": {
      "text/html": [
       "<table><tr style=\"background: red; color: white\"><td style=\"text-align:left\">The result should be [('The Netherlands', 'Amsterdam')] for testcase country = ['The Netherlands', 'Belgium'] , capital = ['Amsterdam', 'Brussels'] , inhabitants = [17.28, 11.46] </td></tr></table>"
      ],
      "text/plain": [
       "<IPython.core.display.HTML object>"
      ]
     },
     "metadata": {
      "text/html": {
       "username": "jeroen"
      }
     },
     "output_type": "display_data"
    }
   ],
   "source": [
    "%%check\n",
    "country = ['The Netherlands', 'Belgium']\n",
    "capital = ['Amsterdam', 'Brussels']\n",
    "inhabitants = [17.28, 11.46]\n",
    "result == [('The Netherlands', 'Amsterdam')]\n",
    "country = ['The Netherlands', 'Belgium', 'France']\n",
    "capital = ['Amsterdam', 'Brussels', 'Paris']\n",
    "inhabitants = [17.28, 11.46, 66.99]\n",
    "result == [('The Netherlands', 'Amsterdam'), ('France', 'Paris')]"
   ]
  }
 ],
 "metadata": {
  "celltoolbar": "Create Assignment",
  "kernelspec": {
   "display_name": "prog",
   "language": "python",
   "name": "prog"
  },
  "language_info": {
   "codemirror_mode": {
    "name": "ipython",
    "version": 3
   },
   "file_extension": ".py",
   "mimetype": "text/x-python",
   "name": "python",
   "nbconvert_exporter": "python",
   "pygments_lexer": "ipython3",
   "version": "3.9.12"
  }
 },
 "nbformat": 4,
 "nbformat_minor": 4
}
