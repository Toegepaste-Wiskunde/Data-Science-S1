{
 "cells": [
  {
   "cell_type": "markdown",
   "metadata": {},
   "source": [
    "# Mixed data types\n",
    "\n",
    "In tuples, we can also use mixed datatypes. For example, when we need a List of students, we can store all the information of one student in a Tuple, e.g. name, gender and age. A big advantage of tuples is, that the integrity of our data is guaranteed. When we pass a student to a function, the tuple cannot be modified. This ensures that we cannot mix-up name, gender and age, once constructed in tuple, the order is fixed.\n",
    "\n",
    "(With gender M=male, F=female, O=otherwise)"
   ]
  },
  {
   "cell_type": "code",
   "execution_count": 1,
   "metadata": {
    "execution": {
     "iopub.execute_input": "2022-08-05T15:06:11.054462Z",
     "iopub.status.busy": "2022-08-05T15:06:11.053837Z",
     "iopub.status.idle": "2022-08-05T15:06:11.066682Z",
     "shell.execute_reply": "2022-08-05T15:06:11.065597Z"
    }
   },
   "outputs": [],
   "source": [
    "jack = ('Jack', 'M', 19)\n",
    "marvin = ('Marvin', 'M', 22)\n",
    "lucy = ('Lucy', 'F', 19)"
   ]
  },
  {
   "cell_type": "markdown",
   "metadata": {},
   "source": [
    " We can also place tuples in a List. The list `students` will operate just like any List. So we can add and remove entire students. However, the information of a student is immutable, since these are tuples."
   ]
  },
  {
   "cell_type": "code",
   "execution_count": 2,
   "metadata": {
    "execution": {
     "iopub.execute_input": "2022-08-05T15:06:11.070398Z",
     "iopub.status.busy": "2022-08-05T15:06:11.069958Z",
     "iopub.status.idle": "2022-08-05T15:06:11.076833Z",
     "shell.execute_reply": "2022-08-05T15:06:11.075476Z"
    }
   },
   "outputs": [],
   "source": [
    "students = [('Jack', 'M', 19), ('Marvin', 'M', 22), ('Lucy', 'F', 19)]"
   ]
  },
  {
   "cell_type": "markdown",
   "metadata": {},
   "source": [
    "# Examples"
   ]
  },
  {
   "cell_type": "markdown",
   "metadata": {},
   "source": [
    "Get the first element in `students`, which is a tuple."
   ]
  },
  {
   "cell_type": "code",
   "execution_count": 3,
   "metadata": {
    "execution": {
     "iopub.execute_input": "2022-08-05T15:06:11.080358Z",
     "iopub.status.busy": "2022-08-05T15:06:11.079903Z",
     "iopub.status.idle": "2022-08-05T15:06:11.093074Z",
     "shell.execute_reply": "2022-08-05T15:06:11.092122Z"
    }
   },
   "outputs": [
    {
     "data": {
      "text/plain": [
       "('Jack', 'M', 19)"
      ]
     },
     "execution_count": 3,
     "metadata": {},
     "output_type": "execute_result"
    }
   ],
   "source": [
    "students[0]"
   ]
  },
  {
   "cell_type": "markdown",
   "metadata": {},
   "source": [
    "Get the `gender` of the first student in `students`.\n",
    "\n",
    "First the list of students is indexed, then the tuple is indexed."
   ]
  },
  {
   "cell_type": "code",
   "execution_count": 4,
   "metadata": {
    "execution": {
     "iopub.execute_input": "2022-08-05T15:06:11.096593Z",
     "iopub.status.busy": "2022-08-05T15:06:11.096264Z",
     "iopub.status.idle": "2022-08-05T15:06:11.101451Z",
     "shell.execute_reply": "2022-08-05T15:06:11.100757Z"
    }
   },
   "outputs": [
    {
     "data": {
      "text/plain": [
       "'M'"
      ]
     },
     "execution_count": 4,
     "metadata": {},
     "output_type": "execute_result"
    }
   ],
   "source": [
    "students[0][1]"
   ]
  },
  {
   "cell_type": "markdown",
   "metadata": {},
   "source": [
    "List the names of the students.\n",
    "\n",
    "Note that `s` is one student, which is a tuple of values."
   ]
  },
  {
   "cell_type": "code",
   "execution_count": 5,
   "metadata": {
    "execution": {
     "iopub.execute_input": "2022-08-05T15:06:11.104243Z",
     "iopub.status.busy": "2022-08-05T15:06:11.103943Z",
     "iopub.status.idle": "2022-08-05T15:06:11.108918Z",
     "shell.execute_reply": "2022-08-05T15:06:11.108231Z"
    }
   },
   "outputs": [
    {
     "data": {
      "text/plain": [
       "['Jack', 'Marvin', 'Lucy']"
      ]
     },
     "execution_count": 5,
     "metadata": {},
     "output_type": "execute_result"
    }
   ],
   "source": [
    "[ s[0] for s in students ]"
   ]
  },
  {
   "cell_type": "markdown",
   "metadata": {},
   "source": [
    "# Assignments"
   ]
  },
  {
   "cell_type": "markdown",
   "metadata": {},
   "source": [
    "#### What is the name of the last student in `students`?"
   ]
  },
  {
   "cell_type": "code",
   "execution_count": 6,
   "metadata": {
    "execution": {
     "iopub.execute_input": "2022-08-05T15:06:11.111641Z",
     "iopub.status.busy": "2022-08-05T15:06:11.111400Z",
     "iopub.status.idle": "2022-08-05T15:06:11.115143Z",
     "shell.execute_reply": "2022-08-05T15:06:11.114306Z"
    }
   },
   "outputs": [],
   "source": [
    "students = [('Jack', 'M', 19), ('Marvin', 'M', 22), ('Lucy', 'F', 19)]"
   ]
  },
  {
   "cell_type": "code",
   "execution_count": 7,
   "metadata": {
    "deletable": false,
    "editable": true,
    "execution": {
     "iopub.execute_input": "2022-08-05T15:06:11.117773Z",
     "iopub.status.busy": "2022-08-05T15:06:11.117468Z",
     "iopub.status.idle": "2022-08-05T15:06:11.121489Z",
     "shell.execute_reply": "2022-08-05T15:06:11.120787Z"
    }
   },
   "outputs": [],
   "source": [
    "%%assignment\n",
    "### ENTER YOUR CODE HERE"
   ]
  },
  {
   "cell_type": "code",
   "execution_count": 8,
   "metadata": {
    "deletable": false,
    "editable": false,
    "execution": {
     "iopub.execute_input": "2022-08-05T15:06:11.123915Z",
     "iopub.status.busy": "2022-08-05T15:06:11.123609Z",
     "iopub.status.idle": "2022-08-05T15:06:11.129388Z",
     "shell.execute_reply": "2022-08-05T15:06:11.128373Z"
    }
   },
   "outputs": [
    {
     "data": {
      "text/html": [
       "<table><tr style=\"background: red; color: white\"><td style=\"text-align:left\">The result should be 'Marvin' for testcase students = [('Jack', 'M', 19), ('Marvin', 'M', 22)] </td></tr></table>"
      ],
      "text/plain": [
       "<IPython.core.display.HTML object>"
      ]
     },
     "metadata": {
      "text/html": {
       "username": "jeroen"
      }
     },
     "output_type": "display_data"
    }
   ],
   "source": [
    "%%check\n",
    "students = [('Jack', 'M', 19), ('Marvin', 'M', 22)]\n",
    "result == 'Marvin'\n",
    "students = [('Jack', 'M', 19), ('Marvin', 'M', 22), ('Lucy', 'F', 19)]\n",
    "result == 'Lucy'"
   ]
  },
  {
   "cell_type": "markdown",
   "metadata": {},
   "source": [
    "#### List the ages of the `students`?"
   ]
  },
  {
   "cell_type": "code",
   "execution_count": 9,
   "metadata": {
    "execution": {
     "iopub.execute_input": "2022-08-05T15:06:11.131765Z",
     "iopub.status.busy": "2022-08-05T15:06:11.131485Z",
     "iopub.status.idle": "2022-08-05T15:06:11.135165Z",
     "shell.execute_reply": "2022-08-05T15:06:11.134479Z"
    }
   },
   "outputs": [],
   "source": [
    "students = [('Jack', 'M', 19), ('Marvin', 'M', 20), ('Lucy', 'F', 19)]"
   ]
  },
  {
   "cell_type": "code",
   "execution_count": 10,
   "metadata": {
    "deletable": false,
    "editable": true,
    "execution": {
     "iopub.execute_input": "2022-08-05T15:06:11.137218Z",
     "iopub.status.busy": "2022-08-05T15:06:11.136987Z",
     "iopub.status.idle": "2022-08-05T15:06:11.140420Z",
     "shell.execute_reply": "2022-08-05T15:06:11.139744Z"
    }
   },
   "outputs": [],
   "source": [
    "%%assignment\n",
    "### ENTER YOUR CODE HERE"
   ]
  },
  {
   "cell_type": "code",
   "execution_count": 11,
   "metadata": {
    "deletable": false,
    "editable": false,
    "execution": {
     "iopub.execute_input": "2022-08-05T15:06:11.142639Z",
     "iopub.status.busy": "2022-08-05T15:06:11.142360Z",
     "iopub.status.idle": "2022-08-05T15:06:11.147407Z",
     "shell.execute_reply": "2022-08-05T15:06:11.146757Z"
    }
   },
   "outputs": [
    {
     "data": {
      "text/html": [
       "<table><tr style=\"background: red; color: white\"><td style=\"text-align:left\">The result should be [19,22] for testcase students = [('Jack', 'M', 19), ('Marvin', 'M', 22)] </td></tr></table>"
      ],
      "text/plain": [
       "<IPython.core.display.HTML object>"
      ]
     },
     "metadata": {
      "text/html": {
       "username": "jeroen"
      }
     },
     "output_type": "display_data"
    }
   ],
   "source": [
    "%%check\n",
    "students = [('Jack', 'M', 19), ('Marvin', 'M', 22)]\n",
    "result == [19,22]\n",
    "students = [('Jack', 'M', 19), ('Marvin', 'M', 22), ('Lucy', 'F', 19)]\n",
    "result == [19,22,19]"
   ]
  },
  {
   "cell_type": "markdown",
   "metadata": {},
   "source": [
    "#### List the average age of the `students`?"
   ]
  },
  {
   "cell_type": "code",
   "execution_count": 12,
   "metadata": {
    "execution": {
     "iopub.execute_input": "2022-08-05T15:06:11.149588Z",
     "iopub.status.busy": "2022-08-05T15:06:11.149299Z",
     "iopub.status.idle": "2022-08-05T15:06:11.152835Z",
     "shell.execute_reply": "2022-08-05T15:06:11.152179Z"
    }
   },
   "outputs": [],
   "source": [
    "students = [('Jack', 'M', 19), ('Marvin', 'M', 20), ('Lucy', 'F', 19)]"
   ]
  },
  {
   "cell_type": "code",
   "execution_count": 13,
   "metadata": {
    "deletable": false,
    "editable": true,
    "execution": {
     "iopub.execute_input": "2022-08-05T15:06:11.155023Z",
     "iopub.status.busy": "2022-08-05T15:06:11.154753Z",
     "iopub.status.idle": "2022-08-05T15:06:11.158230Z",
     "shell.execute_reply": "2022-08-05T15:06:11.157578Z"
    }
   },
   "outputs": [],
   "source": [
    "%%assignment\n",
    "### ENTER YOUR CODE HERE"
   ]
  },
  {
   "cell_type": "code",
   "execution_count": 14,
   "metadata": {
    "deletable": false,
    "editable": false,
    "execution": {
     "iopub.execute_input": "2022-08-05T15:06:11.160365Z",
     "iopub.status.busy": "2022-08-05T15:06:11.160142Z",
     "iopub.status.idle": "2022-08-05T15:06:11.164913Z",
     "shell.execute_reply": "2022-08-05T15:06:11.164275Z"
    }
   },
   "outputs": [
    {
     "data": {
      "text/html": [
       "<table><tr style=\"background: red; color: white\"><td style=\"text-align:left\">The result should be 20.5 for testcase students = [('Jack', 'M', 19), ('Marvin', 'M', 22)] </td></tr></table>"
      ],
      "text/plain": [
       "<IPython.core.display.HTML object>"
      ]
     },
     "metadata": {
      "text/html": {
       "username": "jeroen"
      }
     },
     "output_type": "display_data"
    }
   ],
   "source": [
    "%%check\n",
    "students = [('Jack', 'M', 19), ('Marvin', 'M', 22)]\n",
    "result == 20.5\n",
    "students = [('Jack', 'M', 19), ('Marvin', 'M', 22), ('Lucy', 'F', 19)]\n",
    "result == 20.0"
   ]
  },
  {
   "cell_type": "markdown",
   "metadata": {},
   "source": [
    "#### How many female (F)  `students` are there?"
   ]
  },
  {
   "cell_type": "code",
   "execution_count": 15,
   "metadata": {
    "execution": {
     "iopub.execute_input": "2022-08-05T15:06:11.167125Z",
     "iopub.status.busy": "2022-08-05T15:06:11.166854Z",
     "iopub.status.idle": "2022-08-05T15:06:11.170555Z",
     "shell.execute_reply": "2022-08-05T15:06:11.169773Z"
    }
   },
   "outputs": [],
   "source": [
    "students = [('Jack', 'M', 19), ('Marvin', 'M', 22), ('Lucy', 'F', 19)]"
   ]
  },
  {
   "cell_type": "code",
   "execution_count": 16,
   "metadata": {
    "deletable": false,
    "editable": true,
    "execution": {
     "iopub.execute_input": "2022-08-05T15:06:11.172601Z",
     "iopub.status.busy": "2022-08-05T15:06:11.172374Z",
     "iopub.status.idle": "2022-08-05T15:06:11.175824Z",
     "shell.execute_reply": "2022-08-05T15:06:11.175072Z"
    }
   },
   "outputs": [],
   "source": [
    "%%assignment\n",
    "### ENTER YOUR CODE HERE"
   ]
  },
  {
   "cell_type": "code",
   "execution_count": 17,
   "metadata": {
    "deletable": false,
    "editable": false,
    "execution": {
     "iopub.execute_input": "2022-08-05T15:06:11.177951Z",
     "iopub.status.busy": "2022-08-05T15:06:11.177678Z",
     "iopub.status.idle": "2022-08-05T15:06:11.182906Z",
     "shell.execute_reply": "2022-08-05T15:06:11.182246Z"
    }
   },
   "outputs": [
    {
     "data": {
      "text/html": [
       "<table><tr style=\"background: red; color: white\"><td style=\"text-align:left\">The result should be 0.0 for testcase students = [('Jack', 'M', 19), ('Marc', 'M', 21), ('Barry', 'O')] </td></tr></table>"
      ],
      "text/plain": [
       "<IPython.core.display.HTML object>"
      ]
     },
     "metadata": {
      "text/html": {
       "username": "jeroen"
      }
     },
     "output_type": "display_data"
    }
   ],
   "source": [
    "%%check\n",
    "students = [('Jack', 'M', 19), ('Marc', 'M', 21), ('Barry', 'O')]\n",
    "result == 0.0\n",
    "students = [('Marcy', 'F', 21), ('Jack', 'M', 19), ('Marvin', 'M', 22), ('Lucy', 'F', 19)]\n",
    "result == 2"
   ]
  },
  {
   "cell_type": "markdown",
   "metadata": {},
   "source": [
    "#### What is the average age of all male (M) `students`?"
   ]
  },
  {
   "cell_type": "code",
   "execution_count": 18,
   "metadata": {
    "execution": {
     "iopub.execute_input": "2022-08-05T15:06:11.184906Z",
     "iopub.status.busy": "2022-08-05T15:06:11.184621Z",
     "iopub.status.idle": "2022-08-05T15:06:11.188259Z",
     "shell.execute_reply": "2022-08-05T15:06:11.187589Z"
    }
   },
   "outputs": [],
   "source": [
    "students = [('Jack', 'M', 19), ('Marvin', 'M', 22), ('Lucy', 'F', 19)]"
   ]
  },
  {
   "cell_type": "code",
   "execution_count": 19,
   "metadata": {
    "deletable": false,
    "editable": true,
    "execution": {
     "iopub.execute_input": "2022-08-05T15:06:11.190314Z",
     "iopub.status.busy": "2022-08-05T15:06:11.190033Z",
     "iopub.status.idle": "2022-08-05T15:06:11.193553Z",
     "shell.execute_reply": "2022-08-05T15:06:11.192913Z"
    }
   },
   "outputs": [],
   "source": [
    "%%assignment\n",
    "### ENTER YOUR CODE HERE"
   ]
  },
  {
   "cell_type": "code",
   "execution_count": 20,
   "metadata": {
    "deletable": false,
    "editable": false,
    "execution": {
     "iopub.execute_input": "2022-08-05T15:06:11.195594Z",
     "iopub.status.busy": "2022-08-05T15:06:11.195369Z",
     "iopub.status.idle": "2022-08-05T15:06:11.200470Z",
     "shell.execute_reply": "2022-08-05T15:06:11.199497Z"
    }
   },
   "outputs": [
    {
     "data": {
      "text/html": [
       "<table><tr style=\"background: red; color: white\"><td style=\"text-align:left\">The result should be 19.0 for testcase students = [('Jack', 'M', 19), ('Marcy', 'F', 21)] </td></tr></table>"
      ],
      "text/plain": [
       "<IPython.core.display.HTML object>"
      ]
     },
     "metadata": {
      "text/html": {
       "username": "jeroen"
      }
     },
     "output_type": "display_data"
    }
   ],
   "source": [
    "%%check\n",
    "students = [('Jack', 'M', 19), ('Marcy', 'F', 21)]\n",
    "result == 19.0\n",
    "students = [('Marcy', 'F', 21), ('Jack', 'M', 19), ('Marvin', 'M', 22), ('Lucy', 'F', 19)]\n",
    "result == 20.5"
   ]
  },
  {
   "cell_type": "markdown",
   "metadata": {},
   "source": [
    "#### Add ('Marcy', 'F', 21) to students."
   ]
  },
  {
   "cell_type": "code",
   "execution_count": 21,
   "metadata": {
    "execution": {
     "iopub.execute_input": "2022-08-05T15:06:11.202675Z",
     "iopub.status.busy": "2022-08-05T15:06:11.202416Z",
     "iopub.status.idle": "2022-08-05T15:06:11.205889Z",
     "shell.execute_reply": "2022-08-05T15:06:11.205262Z"
    }
   },
   "outputs": [],
   "source": [
    "students = [('Jack', 'M', 19), ('Marvin', 'M', 20), ('Lucy', 'F', 19)]"
   ]
  },
  {
   "cell_type": "code",
   "execution_count": 22,
   "metadata": {
    "deletable": false,
    "editable": true,
    "execution": {
     "iopub.execute_input": "2022-08-05T15:06:11.208059Z",
     "iopub.status.busy": "2022-08-05T15:06:11.207786Z",
     "iopub.status.idle": "2022-08-05T15:06:11.211363Z",
     "shell.execute_reply": "2022-08-05T15:06:11.210705Z"
    }
   },
   "outputs": [],
   "source": [
    "%%assignment\n",
    "### ENTER YOUR CODE HERE"
   ]
  },
  {
   "cell_type": "code",
   "execution_count": 23,
   "metadata": {
    "deletable": false,
    "editable": false,
    "execution": {
     "iopub.execute_input": "2022-08-05T15:06:11.213351Z",
     "iopub.status.busy": "2022-08-05T15:06:11.213121Z",
     "iopub.status.idle": "2022-08-05T15:06:11.218160Z",
     "shell.execute_reply": "2022-08-05T15:06:11.217515Z"
    }
   },
   "outputs": [
    {
     "data": {
      "text/html": [
       "<table><tr style=\"background: red; color: white\"><td style=\"text-align:left\">The result for students should be [('Jack', 'M', 19), ('Marvin', 'M', 22), ('Marcy', 'F', 21)] for testcase students = [('Jack', 'M', 19), ('Marvin', 'M', 22)] </td></tr></table>"
      ],
      "text/plain": [
       "<IPython.core.display.HTML object>"
      ]
     },
     "metadata": {
      "text/html": {
       "username": "jeroen"
      }
     },
     "output_type": "display_data"
    }
   ],
   "source": [
    "%%check\n",
    "students = [('Jack', 'M', 19), ('Marvin', 'M', 22)]\n",
    "students == [('Jack', 'M', 19), ('Marvin', 'M', 22), ('Marcy', 'F', 21)]\n",
    "students = [('Jack', 'M', 19), ('Marvin', 'M', 22), ('Lucy', 'F', 19)]\n",
    "students == [('Jack', 'M', 19), ('Marvin', 'M', 22), ('Lucy', 'F', 19), ('Marcy', 'F', 21)]"
   ]
  }
 ],
 "metadata": {
  "celltoolbar": "Create Assignment",
  "kernelspec": {
   "display_name": "prog",
   "language": "python",
   "name": "prog"
  },
  "language_info": {
   "codemirror_mode": {
    "name": "ipython",
    "version": 3
   },
   "file_extension": ".py",
   "mimetype": "text/x-python",
   "name": "python",
   "nbconvert_exporter": "python",
   "pygments_lexer": "ipython3",
   "version": "3.9.12"
  }
 },
 "nbformat": 4,
 "nbformat_minor": 4
}
