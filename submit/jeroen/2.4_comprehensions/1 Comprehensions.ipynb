{
 "cells": [
  {
   "cell_type": "markdown",
   "metadata": {},
   "source": [
    "# List Comprehension\n",
    "\n",
    "A Comprehension is a concise and readable way to describe a collection of elements. It uses for-in loop, conditions and expressions. A List Comprehension is written in between `[]`, has at least one for-in loop and an expression, e.g.\n",
    "\n",
    "```\n",
    "a = [2, 3, 5, 7]\n",
    "```\n",
    "\n",
    "| Example      | result | Comment |\n",
    "|:-------------|:-------|:--------|\n",
    "| `[ i**2 for i in a ]` | `[ 4, 9, 25, 49 ]` | squares all the elements in a |\n",
    "| `[ i for i in a if i > 4 ]` | `[5, 7]` | uses only elements that meet the condition `> 4` |\n",
    "| `[ 1/i for i in a if i %% 2 == 1 ]` | `[1/3, 1/5, 1/7]` | uses only odd elements, and returns a List with 1/i for those elements |\n",
    "\n",
    "A comprehension consists of:\n",
    "\n",
    "| begin | expression | loop | condition | end |\n",
    "|:--:|:--:|:--:|:--:|:--:|\n",
    "| `[` | `1/i` | `for i in a` | `if i % 2 == 1` | `]` |\n",
    "| square<br>opening<br>bracket | an expression<br>that is used<br>to calculate<br>each element<br>of the new list | a `for` loop<br>that iterates<br>over a list | a condition<br>that determines<br>whether the element<br>is included<br>(can be omitted) | square<br>closing<br>bracket |\n"
   ]
  },
  {
   "cell_type": "markdown",
   "metadata": {},
   "source": [
    "# Assignments"
   ]
  },
  {
   "cell_type": "markdown",
   "metadata": {},
   "source": [
    "#### Create a comprehension to list only the salaries above 120"
   ]
  },
  {
   "cell_type": "code",
   "execution_count": 1,
   "metadata": {
    "execution": {
     "iopub.execute_input": "2022-08-05T15:05:12.019836Z",
     "iopub.status.busy": "2022-08-05T15:05:12.019313Z",
     "iopub.status.idle": "2022-08-05T15:05:12.031536Z",
     "shell.execute_reply": "2022-08-05T15:05:12.030439Z"
    }
   },
   "outputs": [],
   "source": [
    "salaries = [100, 200, 150]"
   ]
  },
  {
   "cell_type": "code",
   "execution_count": 2,
   "metadata": {
    "deletable": false,
    "editable": true,
    "execution": {
     "iopub.execute_input": "2022-08-05T15:05:12.035833Z",
     "iopub.status.busy": "2022-08-05T15:05:12.035464Z",
     "iopub.status.idle": "2022-08-05T15:05:12.039789Z",
     "shell.execute_reply": "2022-08-05T15:05:12.038801Z"
    }
   },
   "outputs": [],
   "source": [
    "%%assignment\n",
    "### ENTER YOUR CODE HERE"
   ]
  },
  {
   "cell_type": "code",
   "execution_count": 3,
   "metadata": {
    "deletable": false,
    "editable": false,
    "execution": {
     "iopub.execute_input": "2022-08-05T15:05:12.043866Z",
     "iopub.status.busy": "2022-08-05T15:05:12.043577Z",
     "iopub.status.idle": "2022-08-05T15:05:12.054829Z",
     "shell.execute_reply": "2022-08-05T15:05:12.054161Z"
    }
   },
   "outputs": [
    {
     "data": {
      "text/html": [
       "<table><tr style=\"background: red; color: white\"><td style=\"text-align:left\">The result should be [200, 150] for testcase salaries = [100, 200, 150] </td></tr></table>"
      ],
      "text/plain": [
       "<IPython.core.display.HTML object>"
      ]
     },
     "metadata": {
      "text/html": {
       "username": "jeroen"
      }
     },
     "output_type": "display_data"
    }
   ],
   "source": [
    "%%check\n",
    "salaries = [100, 200, 150]\n",
    "result == [200, 150]\n",
    "salaries = [121, 120, 100, 150]\n",
    "result == [121, 150]"
   ]
  },
  {
   "cell_type": "markdown",
   "metadata": {},
   "source": [
    "#### Create a comprehension to list only the names of length 4. \n",
    "\n",
    "You can get the length of a Text with the len() function, e.g. len('Jack')"
   ]
  },
  {
   "cell_type": "code",
   "execution_count": 4,
   "metadata": {
    "execution": {
     "iopub.execute_input": "2022-08-05T15:05:12.058394Z",
     "iopub.status.busy": "2022-08-05T15:05:12.058105Z",
     "iopub.status.idle": "2022-08-05T15:05:12.061852Z",
     "shell.execute_reply": "2022-08-05T15:05:12.061040Z"
    }
   },
   "outputs": [],
   "source": [
    "names = ['Allesandro', 'John', 'Jack', 'Eugene']"
   ]
  },
  {
   "cell_type": "code",
   "execution_count": 5,
   "metadata": {
    "deletable": false,
    "editable": true,
    "execution": {
     "iopub.execute_input": "2022-08-05T15:05:12.065483Z",
     "iopub.status.busy": "2022-08-05T15:05:12.064851Z",
     "iopub.status.idle": "2022-08-05T15:05:12.068894Z",
     "shell.execute_reply": "2022-08-05T15:05:12.068192Z"
    }
   },
   "outputs": [],
   "source": [
    "%%assignment\n",
    "### ENTER YOUR CODE HERE"
   ]
  },
  {
   "cell_type": "code",
   "execution_count": 6,
   "metadata": {
    "deletable": false,
    "editable": false,
    "execution": {
     "iopub.execute_input": "2022-08-05T15:05:12.071685Z",
     "iopub.status.busy": "2022-08-05T15:05:12.071375Z",
     "iopub.status.idle": "2022-08-05T15:05:12.076680Z",
     "shell.execute_reply": "2022-08-05T15:05:12.076032Z"
    }
   },
   "outputs": [
    {
     "data": {
      "text/html": [
       "<table><tr style=\"background: red; color: white\"><td style=\"text-align:left\">The result should be ['John', 'Jack'] for testcase names = ['Allesandro', 'John', 'Jack', 'Eugene'] </td></tr></table>"
      ],
      "text/plain": [
       "<IPython.core.display.HTML object>"
      ]
     },
     "metadata": {
      "text/html": {
       "username": "jeroen"
      }
     },
     "output_type": "display_data"
    }
   ],
   "source": [
    "%%check\n",
    "names = ['Allesandro', 'John', 'Jack', 'Eugene']\n",
    "result == ['John', 'Jack']\n",
    "names = ['Mary', 'Peter', 'Zack']\n",
    "result == ['Mary', 'Zack']"
   ]
  },
  {
   "cell_type": "markdown",
   "metadata": {},
   "source": [
    "#### Create a comprehension to list length of the each name in `names`. \n",
    "\n",
    "You can get the length of a Text with the len() function, e.g. len('Jack')"
   ]
  },
  {
   "cell_type": "code",
   "execution_count": 7,
   "metadata": {
    "execution": {
     "iopub.execute_input": "2022-08-05T15:05:12.079382Z",
     "iopub.status.busy": "2022-08-05T15:05:12.079090Z",
     "iopub.status.idle": "2022-08-05T15:05:12.082632Z",
     "shell.execute_reply": "2022-08-05T15:05:12.081964Z"
    }
   },
   "outputs": [],
   "source": [
    "names = ['Allesandro', 'John', 'Jack', 'Eugene']"
   ]
  },
  {
   "cell_type": "code",
   "execution_count": 8,
   "metadata": {
    "deletable": false,
    "editable": true,
    "execution": {
     "iopub.execute_input": "2022-08-05T15:05:12.085065Z",
     "iopub.status.busy": "2022-08-05T15:05:12.084798Z",
     "iopub.status.idle": "2022-08-05T15:05:12.088450Z",
     "shell.execute_reply": "2022-08-05T15:05:12.087735Z"
    }
   },
   "outputs": [],
   "source": [
    "%%assignment\n",
    "### ENTER YOUR CODE HERE"
   ]
  },
  {
   "cell_type": "code",
   "execution_count": 9,
   "metadata": {
    "deletable": false,
    "editable": false,
    "execution": {
     "iopub.execute_input": "2022-08-05T15:05:12.090825Z",
     "iopub.status.busy": "2022-08-05T15:05:12.090498Z",
     "iopub.status.idle": "2022-08-05T15:05:12.096050Z",
     "shell.execute_reply": "2022-08-05T15:05:12.095402Z"
    }
   },
   "outputs": [
    {
     "data": {
      "text/html": [
       "<table><tr style=\"background: red; color: white\"><td style=\"text-align:left\">The result should be [10, 4, 4, 6] for testcase names = ['Allesandro', 'John', 'Jack', 'Eugene'] </td></tr></table>"
      ],
      "text/plain": [
       "<IPython.core.display.HTML object>"
      ]
     },
     "metadata": {
      "text/html": {
       "username": "jeroen"
      }
     },
     "output_type": "display_data"
    }
   ],
   "source": [
    "%%check\n",
    "names = ['Allesandro', 'John', 'Jack', 'Eugene']\n",
    "result == [10, 4, 4, 6]\n",
    "names = ['Mary', 'Peter', 'Zack']\n",
    "result == [4, 5, 4]"
   ]
  },
  {
   "cell_type": "markdown",
   "metadata": {},
   "source": [
    "#### A person has a `hand` of 5 cards. Create a comprehension with only the cards of the hearts suit. \n",
    "\n",
    "You can get the suit of a card by indexing the last character, e.g. '10♥'[-1], if that last character equals '♥', it is a card in the heart suit."
   ]
  },
  {
   "cell_type": "code",
   "execution_count": 10,
   "metadata": {
    "execution": {
     "iopub.execute_input": "2022-08-05T15:05:12.098623Z",
     "iopub.status.busy": "2022-08-05T15:05:12.098328Z",
     "iopub.status.idle": "2022-08-05T15:05:12.101968Z",
     "shell.execute_reply": "2022-08-05T15:05:12.101299Z"
    }
   },
   "outputs": [],
   "source": [
    "hand = ['10♥', '5♣', '9♣', '10♦', 'Q♥']"
   ]
  },
  {
   "cell_type": "code",
   "execution_count": 11,
   "metadata": {
    "deletable": false,
    "editable": true,
    "execution": {
     "iopub.execute_input": "2022-08-05T15:05:12.104473Z",
     "iopub.status.busy": "2022-08-05T15:05:12.104207Z",
     "iopub.status.idle": "2022-08-05T15:05:12.107929Z",
     "shell.execute_reply": "2022-08-05T15:05:12.107238Z"
    }
   },
   "outputs": [],
   "source": [
    "%%assignment\n",
    "### ENTER YOUR CODE HERE"
   ]
  },
  {
   "cell_type": "code",
   "execution_count": 12,
   "metadata": {
    "deletable": false,
    "editable": false,
    "execution": {
     "iopub.execute_input": "2022-08-05T15:05:12.110485Z",
     "iopub.status.busy": "2022-08-05T15:05:12.110085Z",
     "iopub.status.idle": "2022-08-05T15:05:12.115756Z",
     "shell.execute_reply": "2022-08-05T15:05:12.115090Z"
    }
   },
   "outputs": [
    {
     "data": {
      "text/html": [
       "<table><tr style=\"background: red; color: white\"><td style=\"text-align:left\">The result should be ['10♥', 'Q♥'] for testcase hand = ['10♥', '5♣', '9♣', '10♦', 'Q♥'] </td></tr></table>"
      ],
      "text/plain": [
       "<IPython.core.display.HTML object>"
      ]
     },
     "metadata": {
      "text/html": {
       "username": "jeroen"
      }
     },
     "output_type": "display_data"
    }
   ],
   "source": [
    "%%check\n",
    "hand = ['10♥', '5♣', '9♣', '10♦', 'Q♥']\n",
    "result == ['10♥', 'Q♥']\n",
    "hand = ['10♠', '5♥', 'A♥', '10♦', 'Q♣']\n",
    "result == ['5♥', 'A♥']"
   ]
  },
  {
   "cell_type": "markdown",
   "metadata": {},
   "source": [
    "#### A person has a `hand` of 5 cards. How many cards do they hold in the hearts suit? \n",
    "In other words, count the number of heart cards."
   ]
  },
  {
   "cell_type": "code",
   "execution_count": 13,
   "metadata": {
    "execution": {
     "iopub.execute_input": "2022-08-05T15:05:12.118291Z",
     "iopub.status.busy": "2022-08-05T15:05:12.118003Z",
     "iopub.status.idle": "2022-08-05T15:05:12.121619Z",
     "shell.execute_reply": "2022-08-05T15:05:12.120968Z"
    }
   },
   "outputs": [],
   "source": [
    "hand = ['10♥', '5♣', '9♣', '10♦', 'Q♥']"
   ]
  },
  {
   "cell_type": "code",
   "execution_count": 14,
   "metadata": {
    "deletable": false,
    "editable": true,
    "execution": {
     "iopub.execute_input": "2022-08-05T15:05:12.124375Z",
     "iopub.status.busy": "2022-08-05T15:05:12.123766Z",
     "iopub.status.idle": "2022-08-05T15:05:12.127872Z",
     "shell.execute_reply": "2022-08-05T15:05:12.126984Z"
    }
   },
   "outputs": [],
   "source": [
    "%%assignment\n",
    "### ENTER YOUR CODE HERE"
   ]
  },
  {
   "cell_type": "code",
   "execution_count": 15,
   "metadata": {
    "deletable": false,
    "editable": false,
    "execution": {
     "iopub.execute_input": "2022-08-05T15:05:12.130324Z",
     "iopub.status.busy": "2022-08-05T15:05:12.130012Z",
     "iopub.status.idle": "2022-08-05T15:05:12.135644Z",
     "shell.execute_reply": "2022-08-05T15:05:12.134990Z"
    }
   },
   "outputs": [
    {
     "data": {
      "text/html": [
       "<table><tr style=\"background: red; color: white\"><td style=\"text-align:left\">The result should be 2 for testcase hand = ['10♥', '5♣', '9♣', '10♦', 'Q♥'] </td></tr></table>"
      ],
      "text/plain": [
       "<IPython.core.display.HTML object>"
      ]
     },
     "metadata": {
      "text/html": {
       "username": "jeroen"
      }
     },
     "output_type": "display_data"
    }
   ],
   "source": [
    "%%check\n",
    "hand = ['10♥', '5♣', '9♣', '10♦', 'Q♥']\n",
    "result == 2\n",
    "hand = ['10♥', '5♥', 'A♥', '2♥', 'Q♥']\n",
    "result == 5"
   ]
  },
  {
   "cell_type": "markdown",
   "metadata": {},
   "source": [
    "#### Convert the list `degrees` into a list of radians. \n",
    "\n",
    "To compute a radian from a degree, you can use the formula $\\frac{degree \\cdot \\pi}{180} $, and for $\\pi$ you can use `math.pi`."
   ]
  },
  {
   "cell_type": "code",
   "execution_count": 16,
   "metadata": {
    "execution": {
     "iopub.execute_input": "2022-08-05T15:05:12.138172Z",
     "iopub.status.busy": "2022-08-05T15:05:12.137929Z",
     "iopub.status.idle": "2022-08-05T15:05:12.141352Z",
     "shell.execute_reply": "2022-08-05T15:05:12.140692Z"
    }
   },
   "outputs": [],
   "source": [
    "degrees = [0, 90, 180, 270, 360]"
   ]
  },
  {
   "cell_type": "code",
   "execution_count": 17,
   "metadata": {
    "deletable": false,
    "editable": true,
    "execution": {
     "iopub.execute_input": "2022-08-05T15:05:12.143747Z",
     "iopub.status.busy": "2022-08-05T15:05:12.143460Z",
     "iopub.status.idle": "2022-08-05T15:05:12.147134Z",
     "shell.execute_reply": "2022-08-05T15:05:12.146458Z"
    }
   },
   "outputs": [],
   "source": [
    "%%assignment\n",
    "### ENTER YOUR CODE HERE"
   ]
  },
  {
   "cell_type": "code",
   "execution_count": 18,
   "metadata": {
    "deletable": false,
    "editable": false,
    "execution": {
     "iopub.execute_input": "2022-08-05T15:05:12.149443Z",
     "iopub.status.busy": "2022-08-05T15:05:12.149137Z",
     "iopub.status.idle": "2022-08-05T15:05:12.154418Z",
     "shell.execute_reply": "2022-08-05T15:05:12.153769Z"
    }
   },
   "outputs": [
    {
     "data": {
      "text/html": [
       "<table><tr style=\"background: red; color: white\"><td style=\"text-align:left\">The result should be [0, math.pi/2, math.pi, 3 * math.pi / 2, 2 * math.pi] for testcase degrees = [0, 90, 180, 270, 360] </td></tr></table>"
      ],
      "text/plain": [
       "<IPython.core.display.HTML object>"
      ]
     },
     "metadata": {
      "text/html": {
       "username": "jeroen"
      }
     },
     "output_type": "display_data"
    }
   ],
   "source": [
    "%%check\n",
    "degrees = [0, 90, 180, 270, 360]\n",
    "result == [0, math.pi/2, math.pi, 3 * math.pi / 2, 2 * math.pi]\n",
    "degrees = [0, 45, 270]\n",
    "result == [0, math.pi/4, 3 * math.pi / 2]"
   ]
  },
  {
   "cell_type": "markdown",
   "metadata": {},
   "source": [
    "#### What do you think is the result from\n",
    "\n",
    "```\n",
    "a = [2, 6, 7]\n",
    "sum([ i for i in a ])\n",
    "```"
   ]
  },
  {
   "cell_type": "code",
   "execution_count": 19,
   "metadata": {
    "execution": {
     "iopub.execute_input": "2022-08-05T15:05:12.156699Z",
     "iopub.status.busy": "2022-08-05T15:05:12.156406Z",
     "iopub.status.idle": "2022-08-05T15:05:12.165963Z",
     "shell.execute_reply": "2022-08-05T15:05:12.165350Z"
    },
    "nbgrader": {
     "grade": false,
     "grade_id": "cell-3a58136346e6002e",
     "locked": true,
     "schema_version": 3,
     "solution": false,
     "task": false
    }
   },
   "outputs": [
    {
     "data": {
      "application/vnd.jupyter.widget-view+json": {
       "model_id": "765da7d54e314ec3b75a20738de09604",
       "version_major": 2,
       "version_minor": 0
      },
      "text/plain": [
       "IntSlider(value=2, max=40, min=2)"
      ]
     },
     "metadata": {},
     "output_type": "display_data"
    }
   ],
   "source": [
    "%%slider comprehension1\n",
    "2 40"
   ]
  },
  {
   "cell_type": "code",
   "execution_count": 20,
   "metadata": {
    "deletable": false,
    "editable": false,
    "execution": {
     "iopub.execute_input": "2022-08-05T15:05:12.168526Z",
     "iopub.status.busy": "2022-08-05T15:05:12.168262Z",
     "iopub.status.idle": "2022-08-05T15:05:12.172892Z",
     "shell.execute_reply": "2022-08-05T15:05:12.172295Z"
    }
   },
   "outputs": [
    {
     "data": {
      "text/html": [
       "<table><tr style=\"background: red; color: white\"><td style=\"text-align:left\">That is the wrong answer</td></tr></table>"
      ],
      "text/plain": [
       "<IPython.core.display.HTML object>"
      ]
     },
     "metadata": {
      "text/html": {
       "username": "jeroen"
      }
     },
     "output_type": "display_data"
    }
   ],
   "source": [
    "%%check\n",
    "result == 6904699078127603"
   ]
  },
  {
   "cell_type": "markdown",
   "metadata": {},
   "source": [
    "#### What do you think is the result from\n",
    "\n",
    "```\n",
    "a = [2, 6, 7]\n",
    "sum([ i*2 + 1 for i in a ])\n",
    "```"
   ]
  },
  {
   "cell_type": "code",
   "execution_count": 21,
   "metadata": {
    "execution": {
     "iopub.execute_input": "2022-08-05T15:05:12.175354Z",
     "iopub.status.busy": "2022-08-05T15:05:12.175128Z",
     "iopub.status.idle": "2022-08-05T15:05:12.183620Z",
     "shell.execute_reply": "2022-08-05T15:05:12.182994Z"
    },
    "nbgrader": {
     "grade": false,
     "grade_id": "cell-1bbd7e14901754ab",
     "locked": true,
     "schema_version": 3,
     "solution": false,
     "task": false
    }
   },
   "outputs": [
    {
     "data": {
      "application/vnd.jupyter.widget-view+json": {
       "model_id": "dfa4107469c048ebb3f72d1954ff1ba2",
       "version_major": 2,
       "version_minor": 0
      },
      "text/plain": [
       "IntSlider(value=2, max=40, min=2)"
      ]
     },
     "metadata": {},
     "output_type": "display_data"
    }
   ],
   "source": [
    "%%slider comprehension2\n",
    "2 40"
   ]
  },
  {
   "cell_type": "code",
   "execution_count": 22,
   "metadata": {
    "deletable": false,
    "editable": false,
    "execution": {
     "iopub.execute_input": "2022-08-05T15:05:12.187832Z",
     "iopub.status.busy": "2022-08-05T15:05:12.187636Z",
     "iopub.status.idle": "2022-08-05T15:05:12.191811Z",
     "shell.execute_reply": "2022-08-05T15:05:12.191210Z"
    }
   },
   "outputs": [
    {
     "data": {
      "text/html": [
       "<table><tr style=\"background: red; color: white\"><td style=\"text-align:left\">That is the wrong answer</td></tr></table>"
      ],
      "text/plain": [
       "<IPython.core.display.HTML object>"
      ]
     },
     "metadata": {
      "text/html": {
       "username": "jeroen"
      }
     },
     "output_type": "display_data"
    }
   ],
   "source": [
    "%%check\n",
    "result == 3479265394572654"
   ]
  },
  {
   "cell_type": "markdown",
   "metadata": {},
   "source": [
    "#### What do you think is the result from\n",
    "\n",
    "```\n",
    "a = [2, 6, 7]\n",
    "sum([ i/2 for i in a if i < 7 ])\n",
    "```"
   ]
  },
  {
   "cell_type": "code",
   "execution_count": 23,
   "metadata": {
    "execution": {
     "iopub.execute_input": "2022-08-05T15:05:12.196588Z",
     "iopub.status.busy": "2022-08-05T15:05:12.196347Z",
     "iopub.status.idle": "2022-08-05T15:05:12.205929Z",
     "shell.execute_reply": "2022-08-05T15:05:12.205313Z"
    },
    "nbgrader": {
     "grade": false,
     "grade_id": "cell-9965d6fb7a93f153",
     "locked": true,
     "schema_version": 3,
     "solution": false,
     "task": false
    }
   },
   "outputs": [
    {
     "data": {
      "application/vnd.jupyter.widget-view+json": {
       "model_id": "6b47b0e11092404b9b88d8d1a42a898e",
       "version_major": 2,
       "version_minor": 0
      },
      "text/plain": [
       "IntSlider(value=2, max=40, min=2)"
      ]
     },
     "metadata": {},
     "output_type": "display_data"
    }
   ],
   "source": [
    "%%slider comprehension3\n",
    "2 40"
   ]
  },
  {
   "cell_type": "code",
   "execution_count": 24,
   "metadata": {
    "deletable": false,
    "editable": false,
    "execution": {
     "iopub.execute_input": "2022-08-05T15:05:12.208428Z",
     "iopub.status.busy": "2022-08-05T15:05:12.208210Z",
     "iopub.status.idle": "2022-08-05T15:05:12.212530Z",
     "shell.execute_reply": "2022-08-05T15:05:12.211929Z"
    }
   },
   "outputs": [
    {
     "data": {
      "text/html": [
       "<table><tr style=\"background: red; color: white\"><td style=\"text-align:left\">That is the wrong answer</td></tr></table>"
      ],
      "text/plain": [
       "<IPython.core.display.HTML object>"
      ]
     },
     "metadata": {
      "text/html": {
       "username": "jeroen"
      }
     },
     "output_type": "display_data"
    }
   ],
   "source": [
    "%%check\n",
    "result == 4320508706361900"
   ]
  }
 ],
 "metadata": {
  "celltoolbar": "Create Assignment",
  "kernelspec": {
   "display_name": "prog",
   "language": "python",
   "name": "prog"
  },
  "language_info": {
   "codemirror_mode": {
    "name": "ipython",
    "version": 3
   },
   "file_extension": ".py",
   "mimetype": "text/x-python",
   "name": "python",
   "nbconvert_exporter": "python",
   "pygments_lexer": "ipython3",
   "version": "3.9.12"
  },
  "widgets": {
   "application/vnd.jupyter.widget-state+json": {
    "state": {
     "1b22b5930f504103961e0b9bb86fe89d": {
      "model_module": "@jupyter-widgets/base",
      "model_module_version": "1.2.0",
      "model_name": "LayoutModel",
      "state": {
       "_model_module": "@jupyter-widgets/base",
       "_model_module_version": "1.2.0",
       "_model_name": "LayoutModel",
       "_view_count": null,
       "_view_module": "@jupyter-widgets/base",
       "_view_module_version": "1.2.0",
       "_view_name": "LayoutView",
       "align_content": null,
       "align_items": null,
       "align_self": null,
       "border": null,
       "bottom": null,
       "display": null,
       "flex": null,
       "flex_flow": null,
       "grid_area": null,
       "grid_auto_columns": null,
       "grid_auto_flow": null,
       "grid_auto_rows": null,
       "grid_column": null,
       "grid_gap": null,
       "grid_row": null,
       "grid_template_areas": null,
       "grid_template_columns": null,
       "grid_template_rows": null,
       "height": null,
       "justify_content": null,
       "justify_items": null,
       "left": null,
       "margin": null,
       "max_height": null,
       "max_width": null,
       "min_height": null,
       "min_width": null,
       "object_fit": null,
       "object_position": null,
       "order": null,
       "overflow": null,
       "overflow_x": null,
       "overflow_y": null,
       "padding": null,
       "right": null,
       "top": null,
       "visibility": null,
       "width": null
      }
     },
     "5f0023ce38474e3483030bc0966518f5": {
      "model_module": "@jupyter-widgets/base",
      "model_module_version": "1.2.0",
      "model_name": "LayoutModel",
      "state": {
       "_model_module": "@jupyter-widgets/base",
       "_model_module_version": "1.2.0",
       "_model_name": "LayoutModel",
       "_view_count": null,
       "_view_module": "@jupyter-widgets/base",
       "_view_module_version": "1.2.0",
       "_view_name": "LayoutView",
       "align_content": null,
       "align_items": null,
       "align_self": null,
       "border": null,
       "bottom": null,
       "display": null,
       "flex": null,
       "flex_flow": null,
       "grid_area": null,
       "grid_auto_columns": null,
       "grid_auto_flow": null,
       "grid_auto_rows": null,
       "grid_column": null,
       "grid_gap": null,
       "grid_row": null,
       "grid_template_areas": null,
       "grid_template_columns": null,
       "grid_template_rows": null,
       "height": null,
       "justify_content": null,
       "justify_items": null,
       "left": null,
       "margin": null,
       "max_height": null,
       "max_width": null,
       "min_height": null,
       "min_width": null,
       "object_fit": null,
       "object_position": null,
       "order": null,
       "overflow": null,
       "overflow_x": null,
       "overflow_y": null,
       "padding": null,
       "right": null,
       "top": null,
       "visibility": null,
       "width": null
      }
     },
     "6316ac651d404082bcf16ce3dc8aca5d": {
      "model_module": "@jupyter-widgets/base",
      "model_module_version": "1.2.0",
      "model_name": "LayoutModel",
      "state": {
       "_model_module": "@jupyter-widgets/base",
       "_model_module_version": "1.2.0",
       "_model_name": "LayoutModel",
       "_view_count": null,
       "_view_module": "@jupyter-widgets/base",
       "_view_module_version": "1.2.0",
       "_view_name": "LayoutView",
       "align_content": null,
       "align_items": null,
       "align_self": null,
       "border": null,
       "bottom": null,
       "display": null,
       "flex": null,
       "flex_flow": null,
       "grid_area": null,
       "grid_auto_columns": null,
       "grid_auto_flow": null,
       "grid_auto_rows": null,
       "grid_column": null,
       "grid_gap": null,
       "grid_row": null,
       "grid_template_areas": null,
       "grid_template_columns": null,
       "grid_template_rows": null,
       "height": null,
       "justify_content": null,
       "justify_items": null,
       "left": null,
       "margin": null,
       "max_height": null,
       "max_width": null,
       "min_height": null,
       "min_width": null,
       "object_fit": null,
       "object_position": null,
       "order": null,
       "overflow": null,
       "overflow_x": null,
       "overflow_y": null,
       "padding": null,
       "right": null,
       "top": null,
       "visibility": null,
       "width": null
      }
     },
     "6b47b0e11092404b9b88d8d1a42a898e": {
      "model_module": "@jupyter-widgets/controls",
      "model_module_version": "1.5.0",
      "model_name": "IntSliderModel",
      "state": {
       "_dom_classes": [],
       "_model_module": "@jupyter-widgets/controls",
       "_model_module_version": "1.5.0",
       "_model_name": "IntSliderModel",
       "_view_count": null,
       "_view_module": "@jupyter-widgets/controls",
       "_view_module_version": "1.5.0",
       "_view_name": "IntSliderView",
       "continuous_update": true,
       "description": "",
       "description_tooltip": null,
       "disabled": false,
       "layout": "IPY_MODEL_1b22b5930f504103961e0b9bb86fe89d",
       "max": 40,
       "min": 2,
       "orientation": "horizontal",
       "readout": true,
       "readout_format": "d",
       "step": 1,
       "style": "IPY_MODEL_746b55ba999747d9a34a68cc6c3f4583",
       "value": 2
      }
     },
     "746b55ba999747d9a34a68cc6c3f4583": {
      "model_module": "@jupyter-widgets/controls",
      "model_module_version": "1.5.0",
      "model_name": "SliderStyleModel",
      "state": {
       "_model_module": "@jupyter-widgets/controls",
       "_model_module_version": "1.5.0",
       "_model_name": "SliderStyleModel",
       "_view_count": null,
       "_view_module": "@jupyter-widgets/base",
       "_view_module_version": "1.2.0",
       "_view_name": "StyleView",
       "description_width": "",
       "handle_color": null
      }
     },
     "765da7d54e314ec3b75a20738de09604": {
      "model_module": "@jupyter-widgets/controls",
      "model_module_version": "1.5.0",
      "model_name": "IntSliderModel",
      "state": {
       "_dom_classes": [],
       "_model_module": "@jupyter-widgets/controls",
       "_model_module_version": "1.5.0",
       "_model_name": "IntSliderModel",
       "_view_count": null,
       "_view_module": "@jupyter-widgets/controls",
       "_view_module_version": "1.5.0",
       "_view_name": "IntSliderView",
       "continuous_update": true,
       "description": "",
       "description_tooltip": null,
       "disabled": false,
       "layout": "IPY_MODEL_6316ac651d404082bcf16ce3dc8aca5d",
       "max": 40,
       "min": 2,
       "orientation": "horizontal",
       "readout": true,
       "readout_format": "d",
       "step": 1,
       "style": "IPY_MODEL_b15c1725617a438fb0034a3b0ab5655b",
       "value": 2
      }
     },
     "b15c1725617a438fb0034a3b0ab5655b": {
      "model_module": "@jupyter-widgets/controls",
      "model_module_version": "1.5.0",
      "model_name": "SliderStyleModel",
      "state": {
       "_model_module": "@jupyter-widgets/controls",
       "_model_module_version": "1.5.0",
       "_model_name": "SliderStyleModel",
       "_view_count": null,
       "_view_module": "@jupyter-widgets/base",
       "_view_module_version": "1.2.0",
       "_view_name": "StyleView",
       "description_width": "",
       "handle_color": null
      }
     },
     "b3acccb5be394088826b971ce8bed6c7": {
      "model_module": "@jupyter-widgets/controls",
      "model_module_version": "1.5.0",
      "model_name": "SliderStyleModel",
      "state": {
       "_model_module": "@jupyter-widgets/controls",
       "_model_module_version": "1.5.0",
       "_model_name": "SliderStyleModel",
       "_view_count": null,
       "_view_module": "@jupyter-widgets/base",
       "_view_module_version": "1.2.0",
       "_view_name": "StyleView",
       "description_width": "",
       "handle_color": null
      }
     },
     "dfa4107469c048ebb3f72d1954ff1ba2": {
      "model_module": "@jupyter-widgets/controls",
      "model_module_version": "1.5.0",
      "model_name": "IntSliderModel",
      "state": {
       "_dom_classes": [],
       "_model_module": "@jupyter-widgets/controls",
       "_model_module_version": "1.5.0",
       "_model_name": "IntSliderModel",
       "_view_count": null,
       "_view_module": "@jupyter-widgets/controls",
       "_view_module_version": "1.5.0",
       "_view_name": "IntSliderView",
       "continuous_update": true,
       "description": "",
       "description_tooltip": null,
       "disabled": false,
       "layout": "IPY_MODEL_5f0023ce38474e3483030bc0966518f5",
       "max": 40,
       "min": 2,
       "orientation": "horizontal",
       "readout": true,
       "readout_format": "d",
       "step": 1,
       "style": "IPY_MODEL_b3acccb5be394088826b971ce8bed6c7",
       "value": 2
      }
     }
    },
    "version_major": 2,
    "version_minor": 0
   }
  }
 },
 "nbformat": 4,
 "nbformat_minor": 4
}
