{
 "cells": [
  {
   "cell_type": "markdown",
   "metadata": {},
   "source": [
    "# Set operations"
   ]
  },
  {
   "cell_type": "markdown",
   "metadata": {},
   "source": [
    "We can also use Mathematical Set operators like `issubset` $\\subset$, `union` $\\cup$, `intersect` $\\cap$ and `difference` $\\setminus$ on Python sets. These have been implemented as functions on sets. Typically, the union and intersect operators do not modify a set, but return a new set. Like on lists, we also have a function to `add` and `remove` elements."
   ]
  },
  {
   "cell_type": "code",
   "execution_count": 1,
   "metadata": {
    "execution": {
     "iopub.execute_input": "2022-08-05T15:06:58.134482Z",
     "iopub.status.busy": "2022-08-05T15:06:58.133861Z",
     "iopub.status.idle": "2022-08-05T15:06:58.145759Z",
     "shell.execute_reply": "2022-08-05T15:06:58.144850Z"
    }
   },
   "outputs": [],
   "source": [
    "a = {2, 5, 3, 5}\n",
    "b = {5, 4, 2}"
   ]
  },
  {
   "cell_type": "markdown",
   "metadata": {},
   "source": [
    "| code | result | comment |\n",
    "|:-----|:-------|:--------|\n",
    "| 2 in a | True | True is the given element is in the set |\n",
    "| a.add(9) | a == {2, 3, 5, 9} | adds an elemment to the set |\n",
    "| a.remove(2) | a == {3, 5} | removes an element from a set |\n",
    "| a.union(b) | {2, 3, 4, 5} | returns a union of two sets (a remains unchanged) |\n",
    "| a.intersect(b) | {2, 5} | returns the intersect between two sets |\n",
    "| b.issubset( a ) | False | because 4 is not in a |\n",
    "| a.difference(b) | {3} |"
   ]
  },
  {
   "cell_type": "markdown",
   "metadata": {},
   "source": [
    "# Assignments"
   ]
  },
  {
   "cell_type": "markdown",
   "metadata": {},
   "source": [
    "#### Return the union of `s` and `f`, being all the unique characters that appear in the words `science` and `fiction`"
   ]
  },
  {
   "cell_type": "code",
   "execution_count": 2,
   "metadata": {
    "execution": {
     "iopub.execute_input": "2022-08-05T15:06:58.149566Z",
     "iopub.status.busy": "2022-08-05T15:06:58.149232Z",
     "iopub.status.idle": "2022-08-05T15:06:58.153702Z",
     "shell.execute_reply": "2022-08-05T15:06:58.152979Z"
    }
   },
   "outputs": [],
   "source": [
    "s = set('science')\n",
    "f = set('fiction')"
   ]
  },
  {
   "cell_type": "code",
   "execution_count": 3,
   "metadata": {
    "deletable": false,
    "editable": true,
    "execution": {
     "iopub.execute_input": "2022-08-05T15:06:58.156833Z",
     "iopub.status.busy": "2022-08-05T15:06:58.156398Z",
     "iopub.status.idle": "2022-08-05T15:06:58.161279Z",
     "shell.execute_reply": "2022-08-05T15:06:58.160539Z"
    }
   },
   "outputs": [],
   "source": [
    "%%assignment\n",
    "### ENTER YOUR CODE HERE"
   ]
  },
  {
   "cell_type": "code",
   "execution_count": 4,
   "metadata": {
    "deletable": false,
    "editable": false,
    "execution": {
     "iopub.execute_input": "2022-08-05T15:06:58.164120Z",
     "iopub.status.busy": "2022-08-05T15:06:58.163473Z",
     "iopub.status.idle": "2022-08-05T15:06:58.173810Z",
     "shell.execute_reply": "2022-08-05T15:06:58.173165Z"
    }
   },
   "outputs": [
    {
     "data": {
      "text/html": [
       "<table><tr style=\"background: red; color: white\"><td style=\"text-align:left\">The result should be {'h', 'a', 'r', 'd', 'r', 'o', 'c', 'k'} for testcase s = set('hard') , f = set('rock') </td></tr></table>"
      ],
      "text/plain": [
       "<IPython.core.display.HTML object>"
      ]
     },
     "metadata": {
      "text/html": {
       "username": "jeroen"
      }
     },
     "output_type": "display_data"
    }
   ],
   "source": [
    "%%check\n",
    "s = set('hard')\n",
    "f = set('rock')\n",
    "result == {'h', 'a', 'r', 'd', 'r', 'o', 'c', 'k'}\n",
    "s = set('science')\n",
    "f = set('fiction')\n",
    "result == {'c', 'e', 'f', 'i', 'n', 'o', 's', 't'}"
   ]
  },
  {
   "cell_type": "markdown",
   "metadata": {},
   "source": [
    "#### How many unique letters appear in s that do not appear in f?"
   ]
  },
  {
   "cell_type": "code",
   "execution_count": 5,
   "metadata": {
    "execution": {
     "iopub.execute_input": "2022-08-05T15:06:58.176708Z",
     "iopub.status.busy": "2022-08-05T15:06:58.176271Z",
     "iopub.status.idle": "2022-08-05T15:06:58.179540Z",
     "shell.execute_reply": "2022-08-05T15:06:58.179058Z"
    }
   },
   "outputs": [],
   "source": [
    "s = set('science')\n",
    "f = set('fiction')"
   ]
  },
  {
   "cell_type": "code",
   "execution_count": 6,
   "metadata": {
    "deletable": false,
    "editable": true,
    "execution": {
     "iopub.execute_input": "2022-08-05T15:06:58.181778Z",
     "iopub.status.busy": "2022-08-05T15:06:58.181546Z",
     "iopub.status.idle": "2022-08-05T15:06:58.184715Z",
     "shell.execute_reply": "2022-08-05T15:06:58.184217Z"
    }
   },
   "outputs": [],
   "source": [
    "%%assignment\n",
    "### ENTER YOUR CODE HERE"
   ]
  },
  {
   "cell_type": "code",
   "execution_count": 7,
   "metadata": {
    "deletable": false,
    "editable": false,
    "execution": {
     "iopub.execute_input": "2022-08-05T15:06:58.187106Z",
     "iopub.status.busy": "2022-08-05T15:06:58.186838Z",
     "iopub.status.idle": "2022-08-05T15:06:58.191090Z",
     "shell.execute_reply": "2022-08-05T15:06:58.190643Z"
    }
   },
   "outputs": [
    {
     "data": {
      "text/html": [
       "<table><tr style=\"background: red; color: white\"><td style=\"text-align:left\">The result should be 3 for testcase s = set('hard') , f = set('rock') </td></tr></table>"
      ],
      "text/plain": [
       "<IPython.core.display.HTML object>"
      ]
     },
     "metadata": {
      "text/html": {
       "username": "jeroen"
      }
     },
     "output_type": "display_data"
    }
   ],
   "source": [
    "%%check\n",
    "s = set('hard')\n",
    "f = set('rock')\n",
    "result == 3\n",
    "s = set('science')\n",
    "f = set('fiction')\n",
    "result == 2"
   ]
  },
  {
   "cell_type": "markdown",
   "metadata": {},
   "source": [
    "#### How many letters appear in both s and f?"
   ]
  },
  {
   "cell_type": "code",
   "execution_count": 8,
   "metadata": {
    "execution": {
     "iopub.execute_input": "2022-08-05T15:06:58.193117Z",
     "iopub.status.busy": "2022-08-05T15:06:58.192890Z",
     "iopub.status.idle": "2022-08-05T15:06:58.195661Z",
     "shell.execute_reply": "2022-08-05T15:06:58.195226Z"
    }
   },
   "outputs": [],
   "source": [
    "s = set('science')\n",
    "f = set('fiction')"
   ]
  },
  {
   "cell_type": "code",
   "execution_count": 9,
   "metadata": {
    "deletable": false,
    "editable": true,
    "execution": {
     "iopub.execute_input": "2022-08-05T15:06:58.197527Z",
     "iopub.status.busy": "2022-08-05T15:06:58.197305Z",
     "iopub.status.idle": "2022-08-05T15:06:58.200155Z",
     "shell.execute_reply": "2022-08-05T15:06:58.199720Z"
    }
   },
   "outputs": [],
   "source": [
    "%%assignment\n",
    "### ENTER YOUR CODE HERE"
   ]
  },
  {
   "cell_type": "code",
   "execution_count": 10,
   "metadata": {
    "deletable": false,
    "editable": false,
    "execution": {
     "iopub.execute_input": "2022-08-05T15:06:58.202111Z",
     "iopub.status.busy": "2022-08-05T15:06:58.201891Z",
     "iopub.status.idle": "2022-08-05T15:06:58.205963Z",
     "shell.execute_reply": "2022-08-05T15:06:58.205547Z"
    }
   },
   "outputs": [
    {
     "data": {
      "text/html": [
       "<table><tr style=\"background: red; color: white\"><td style=\"text-align:left\">The result should be 1 for testcase s = set('hard') , f = set('rock') </td></tr></table>"
      ],
      "text/plain": [
       "<IPython.core.display.HTML object>"
      ]
     },
     "metadata": {
      "text/html": {
       "username": "jeroen"
      }
     },
     "output_type": "display_data"
    }
   ],
   "source": [
    "%%check\n",
    "s = set('hard')\n",
    "f = set('rock')\n",
    "result == 1\n",
    "s = set('science')\n",
    "f = set('fiction')\n",
    "result == 3"
   ]
  },
  {
   "cell_type": "markdown",
   "metadata": {},
   "source": [
    "#### Remove 'John' from `students`"
   ]
  },
  {
   "cell_type": "code",
   "execution_count": 11,
   "metadata": {
    "execution": {
     "iopub.execute_input": "2022-08-05T15:06:58.208005Z",
     "iopub.status.busy": "2022-08-05T15:06:58.207746Z",
     "iopub.status.idle": "2022-08-05T15:06:58.210441Z",
     "shell.execute_reply": "2022-08-05T15:06:58.210016Z"
    }
   },
   "outputs": [],
   "source": [
    "students = {'John', 'Lucy', 'Paul'}"
   ]
  },
  {
   "cell_type": "code",
   "execution_count": 12,
   "metadata": {
    "deletable": false,
    "editable": true,
    "execution": {
     "iopub.execute_input": "2022-08-05T15:06:58.212467Z",
     "iopub.status.busy": "2022-08-05T15:06:58.212210Z",
     "iopub.status.idle": "2022-08-05T15:06:58.215148Z",
     "shell.execute_reply": "2022-08-05T15:06:58.214705Z"
    }
   },
   "outputs": [],
   "source": [
    "%%assignment\n",
    "### ENTER YOUR CODE HERE"
   ]
  },
  {
   "cell_type": "code",
   "execution_count": 13,
   "metadata": {
    "deletable": false,
    "editable": false,
    "execution": {
     "iopub.execute_input": "2022-08-05T15:06:58.216987Z",
     "iopub.status.busy": "2022-08-05T15:06:58.216767Z",
     "iopub.status.idle": "2022-08-05T15:06:58.220659Z",
     "shell.execute_reply": "2022-08-05T15:06:58.220260Z"
    }
   },
   "outputs": [
    {
     "data": {
      "text/html": [
       "<table><tr style=\"background: red; color: white\"><td style=\"text-align:left\">The result for students should be {'Lucy'} for testcase students = {'John', 'Lucy'} </td></tr></table>"
      ],
      "text/plain": [
       "<IPython.core.display.HTML object>"
      ]
     },
     "metadata": {
      "text/html": {
       "username": "jeroen"
      }
     },
     "output_type": "display_data"
    }
   ],
   "source": [
    "%%check\n",
    "students = {'John', 'Lucy'}\n",
    "students == {'Lucy'}\n",
    "students = {'John', 'Lucy', 'Paul'}\n",
    "students == {'Lucy', 'Paul'}"
   ]
  },
  {
   "cell_type": "markdown",
   "metadata": {},
   "source": [
    "#### To students, add 'Nick' and 'Simon'?"
   ]
  },
  {
   "cell_type": "code",
   "execution_count": 14,
   "metadata": {
    "execution": {
     "iopub.execute_input": "2022-08-05T15:06:58.222902Z",
     "iopub.status.busy": "2022-08-05T15:06:58.222532Z",
     "iopub.status.idle": "2022-08-05T15:06:58.225485Z",
     "shell.execute_reply": "2022-08-05T15:06:58.225062Z"
    }
   },
   "outputs": [],
   "source": [
    "students = {'John', 'Lucy', 'Paul'}"
   ]
  },
  {
   "cell_type": "code",
   "execution_count": 15,
   "metadata": {
    "deletable": false,
    "editable": true,
    "execution": {
     "iopub.execute_input": "2022-08-05T15:06:58.227372Z",
     "iopub.status.busy": "2022-08-05T15:06:58.227168Z",
     "iopub.status.idle": "2022-08-05T15:06:58.229894Z",
     "shell.execute_reply": "2022-08-05T15:06:58.229481Z"
    }
   },
   "outputs": [],
   "source": [
    "%%assignment\n",
    "### ENTER YOUR CODE HERE"
   ]
  },
  {
   "cell_type": "code",
   "execution_count": 16,
   "metadata": {
    "deletable": false,
    "editable": false,
    "execution": {
     "iopub.execute_input": "2022-08-05T15:06:58.231740Z",
     "iopub.status.busy": "2022-08-05T15:06:58.231545Z",
     "iopub.status.idle": "2022-08-05T15:06:58.235314Z",
     "shell.execute_reply": "2022-08-05T15:06:58.234926Z"
    }
   },
   "outputs": [
    {
     "data": {
      "text/html": [
       "<table><tr style=\"background: red; color: white\"><td style=\"text-align:left\">The result for students should be {'John', 'Lucy', 'Nick', 'Simon'} for testcase students = {'John', 'Lucy'} </td></tr></table>"
      ],
      "text/plain": [
       "<IPython.core.display.HTML object>"
      ]
     },
     "metadata": {
      "text/html": {
       "username": "jeroen"
      }
     },
     "output_type": "display_data"
    }
   ],
   "source": [
    "%%check\n",
    "students = {'John', 'Lucy'}\n",
    "students == {'John', 'Lucy', 'Nick', 'Simon'}\n",
    "students = {'John', 'Lucy', 'Paul'}\n",
    "students == {'John', 'Lucy', 'Paul', 'Nick', 'Simon'}"
   ]
  }
 ],
 "metadata": {
  "celltoolbar": "Create Assignment",
  "kernelspec": {
   "display_name": "prog",
   "language": "python",
   "name": "prog"
  },
  "language_info": {
   "codemirror_mode": {
    "name": "ipython",
    "version": 3
   },
   "file_extension": ".py",
   "mimetype": "text/x-python",
   "name": "python",
   "nbconvert_exporter": "python",
   "pygments_lexer": "ipython3",
   "version": "3.9.12"
  }
 },
 "nbformat": 4,
 "nbformat_minor": 4
}
