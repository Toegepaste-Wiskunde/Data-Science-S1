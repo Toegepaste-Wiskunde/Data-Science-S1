{
 "cells": [
  {
   "cell_type": "markdown",
   "metadata": {},
   "source": [
    "# Set comprehension\n",
    "\n",
    "A Set Comprehension works just like a list or tuple comprehension, you just place the comprehension in between curly braces. The only difference is that the result is a Set, and therefore the elements are unique and you can only use Set operators and functions on it."
   ]
  },
  {
   "cell_type": "code",
   "execution_count": 1,
   "metadata": {
    "execution": {
     "iopub.execute_input": "2022-08-05T15:06:59.307039Z",
     "iopub.status.busy": "2022-08-05T15:06:59.306400Z",
     "iopub.status.idle": "2022-08-05T15:06:59.319656Z",
     "shell.execute_reply": "2022-08-05T15:06:59.318530Z"
    }
   },
   "outputs": [],
   "source": [
    "a = [ 3, 2, 3, 5, 2 ]"
   ]
  },
  {
   "cell_type": "code",
   "execution_count": 2,
   "metadata": {
    "execution": {
     "iopub.execute_input": "2022-08-05T15:06:59.323410Z",
     "iopub.status.busy": "2022-08-05T15:06:59.323067Z",
     "iopub.status.idle": "2022-08-05T15:06:59.336248Z",
     "shell.execute_reply": "2022-08-05T15:06:59.335577Z"
    }
   },
   "outputs": [
    {
     "data": {
      "text/plain": [
       "{2, 3}"
      ]
     },
     "execution_count": 2,
     "metadata": {},
     "output_type": "execute_result"
    }
   ],
   "source": [
    "{ v for v in a if v < 4 }"
   ]
  },
  {
   "cell_type": "markdown",
   "metadata": {},
   "source": [
    "# Assignments"
   ]
  },
  {
   "cell_type": "markdown",
   "metadata": {},
   "source": [
    "#### What is the result of the following comprehension?"
   ]
  },
  {
   "cell_type": "markdown",
   "metadata": {},
   "source": [
    "```\n",
    "len({ c for c in 'aardvark' })\n",
    "```"
   ]
  },
  {
   "cell_type": "code",
   "execution_count": 3,
   "metadata": {
    "execution": {
     "iopub.execute_input": "2022-08-05T15:06:59.340728Z",
     "iopub.status.busy": "2022-08-05T15:06:59.340434Z",
     "iopub.status.idle": "2022-08-05T15:06:59.349829Z",
     "shell.execute_reply": "2022-08-05T15:06:59.349165Z"
    },
    "nbgrader": {
     "grade": false,
     "grade_id": "cell-c871794c9a30045c",
     "locked": true,
     "schema_version": 3,
     "solution": false,
     "task": false
    }
   },
   "outputs": [
    {
     "data": {
      "application/vnd.jupyter.widget-view+json": {
       "model_id": "b8c24adc56db407a92058b943cc9a6d1",
       "version_major": 2,
       "version_minor": 0
      },
      "text/plain": [
       "IntSlider(value=1, max=10, min=1)"
      ]
     },
     "metadata": {},
     "output_type": "display_data"
    }
   ],
   "source": [
    "%%slider set_comprehension1\n",
    "1 10"
   ]
  },
  {
   "cell_type": "code",
   "execution_count": 4,
   "metadata": {
    "deletable": false,
    "editable": false,
    "execution": {
     "iopub.execute_input": "2022-08-05T15:06:59.352521Z",
     "iopub.status.busy": "2022-08-05T15:06:59.352236Z",
     "iopub.status.idle": "2022-08-05T15:06:59.357119Z",
     "shell.execute_reply": "2022-08-05T15:06:59.356453Z"
    }
   },
   "outputs": [
    {
     "data": {
      "text/html": [
       "<table><tr style=\"background: red; color: white\"><td style=\"text-align:left\">That is the wrong answer</td></tr></table>"
      ],
      "text/plain": [
       "<IPython.core.display.HTML object>"
      ]
     },
     "metadata": {
      "text/html": {
       "username": "jeroen"
      }
     },
     "output_type": "display_data"
    }
   ],
   "source": [
    "%%check\n",
    "result == 3853743770900693"
   ]
  },
  {
   "cell_type": "markdown",
   "metadata": {},
   "source": [
    "```\n",
    "len([ c for c in 'aardvark' ])\n",
    "```"
   ]
  },
  {
   "cell_type": "code",
   "execution_count": 5,
   "metadata": {
    "execution": {
     "iopub.execute_input": "2022-08-05T15:06:59.359576Z",
     "iopub.status.busy": "2022-08-05T15:06:59.359343Z",
     "iopub.status.idle": "2022-08-05T15:06:59.367814Z",
     "shell.execute_reply": "2022-08-05T15:06:59.367163Z"
    },
    "nbgrader": {
     "grade": false,
     "grade_id": "cell-1e7a3cb272b7555e",
     "locked": true,
     "schema_version": 3,
     "solution": false,
     "task": false
    }
   },
   "outputs": [
    {
     "data": {
      "application/vnd.jupyter.widget-view+json": {
       "model_id": "279ae26e6fab4b61a31125e9ea5aaadf",
       "version_major": 2,
       "version_minor": 0
      },
      "text/plain": [
       "IntSlider(value=1, max=10, min=1)"
      ]
     },
     "metadata": {},
     "output_type": "display_data"
    }
   ],
   "source": [
    "%%slider set_comprehension2\n",
    "1 10"
   ]
  },
  {
   "cell_type": "code",
   "execution_count": 6,
   "metadata": {
    "deletable": false,
    "editable": false,
    "execution": {
     "iopub.execute_input": "2022-08-05T15:06:59.370214Z",
     "iopub.status.busy": "2022-08-05T15:06:59.369854Z",
     "iopub.status.idle": "2022-08-05T15:06:59.374332Z",
     "shell.execute_reply": "2022-08-05T15:06:59.373688Z"
    }
   },
   "outputs": [
    {
     "data": {
      "text/html": [
       "<table><tr style=\"background: red; color: white\"><td style=\"text-align:left\">That is the wrong answer</td></tr></table>"
      ],
      "text/plain": [
       "<IPython.core.display.HTML object>"
      ]
     },
     "metadata": {
      "text/html": {
       "username": "jeroen"
      }
     },
     "output_type": "display_data"
    }
   ],
   "source": [
    "%%check\n",
    "result == 1598091001013101"
   ]
  },
  {
   "cell_type": "markdown",
   "metadata": {},
   "source": [
    "```\n",
    "sum( { c for c in [3, 2, 3, 4 ] } )\n",
    "```"
   ]
  },
  {
   "cell_type": "code",
   "execution_count": 7,
   "metadata": {
    "execution": {
     "iopub.execute_input": "2022-08-05T15:06:59.376649Z",
     "iopub.status.busy": "2022-08-05T15:06:59.376375Z",
     "iopub.status.idle": "2022-08-05T15:06:59.384675Z",
     "shell.execute_reply": "2022-08-05T15:06:59.384093Z"
    },
    "nbgrader": {
     "grade": false,
     "grade_id": "cell-e7e45a2145ec795f",
     "locked": true,
     "schema_version": 3,
     "solution": false,
     "task": false
    }
   },
   "outputs": [
    {
     "data": {
      "application/vnd.jupyter.widget-view+json": {
       "model_id": "1d9af82e2a2f44edab80a8dde89cf247",
       "version_major": 2,
       "version_minor": 0
      },
      "text/plain": [
       "IntSlider(value=1, max=20, min=1)"
      ]
     },
     "metadata": {},
     "output_type": "display_data"
    }
   ],
   "source": [
    "%%slider set_comprehension3\n",
    "1 20"
   ]
  },
  {
   "cell_type": "code",
   "execution_count": 8,
   "metadata": {
    "deletable": false,
    "editable": false,
    "execution": {
     "iopub.execute_input": "2022-08-05T15:06:59.386816Z",
     "iopub.status.busy": "2022-08-05T15:06:59.386527Z",
     "iopub.status.idle": "2022-08-05T15:06:59.391096Z",
     "shell.execute_reply": "2022-08-05T15:06:59.390458Z"
    }
   },
   "outputs": [
    {
     "data": {
      "text/html": [
       "<table><tr style=\"background: red; color: white\"><td style=\"text-align:left\">That is the wrong answer</td></tr></table>"
      ],
      "text/plain": [
       "<IPython.core.display.HTML object>"
      ]
     },
     "metadata": {
      "text/html": {
       "username": "jeroen"
      }
     },
     "output_type": "display_data"
    }
   ],
   "source": [
    "%%check\n",
    "result == 9119957797678374"
   ]
  },
  {
   "cell_type": "markdown",
   "metadata": {},
   "source": [
    "#### Count how many unique letters in 'word' are not vowels.\n",
    "\n",
    "Hint: unique means that duplicate consonants (opposite of a vowel) will only count as 1."
   ]
  },
  {
   "cell_type": "code",
   "execution_count": 9,
   "metadata": {
    "execution": {
     "iopub.execute_input": "2022-08-05T15:06:59.393113Z",
     "iopub.status.busy": "2022-08-05T15:06:59.392842Z",
     "iopub.status.idle": "2022-08-05T15:06:59.396387Z",
     "shell.execute_reply": "2022-08-05T15:06:59.395498Z"
    }
   },
   "outputs": [],
   "source": [
    "word = 'dazzling'"
   ]
  },
  {
   "cell_type": "code",
   "execution_count": 10,
   "metadata": {
    "deletable": false,
    "editable": true,
    "execution": {
     "iopub.execute_input": "2022-08-05T15:06:59.398501Z",
     "iopub.status.busy": "2022-08-05T15:06:59.398215Z",
     "iopub.status.idle": "2022-08-05T15:06:59.401705Z",
     "shell.execute_reply": "2022-08-05T15:06:59.401065Z"
    }
   },
   "outputs": [],
   "source": [
    "%%assignment\n",
    "### ENTER YOUR CODE HERE"
   ]
  },
  {
   "cell_type": "code",
   "execution_count": 11,
   "metadata": {
    "deletable": false,
    "editable": false,
    "execution": {
     "iopub.execute_input": "2022-08-05T15:06:59.403766Z",
     "iopub.status.busy": "2022-08-05T15:06:59.403498Z",
     "iopub.status.idle": "2022-08-05T15:06:59.408751Z",
     "shell.execute_reply": "2022-08-05T15:06:59.407761Z"
    }
   },
   "outputs": [
    {
     "data": {
      "text/html": [
       "<table><tr style=\"background: red; color: white\"><td style=\"text-align:left\">The result should be 5 for testcase word = 'dazzling' </td></tr></table>"
      ],
      "text/plain": [
       "<IPython.core.display.HTML object>"
      ]
     },
     "metadata": {
      "text/html": {
       "username": "jeroen"
      }
     },
     "output_type": "display_data"
    }
   ],
   "source": [
    "%%check\n",
    "word = 'dazzling'\n",
    "result == 5\n",
    "word = 'parallel'\n",
    "result == 3"
   ]
  },
  {
   "cell_type": "markdown",
   "metadata": {},
   "source": [
    "#### Count how many students have ever received a grade higher than 7.\n",
    "\n",
    "In `grades`, each tuples has the (unique) studentname, course and grade in that order.\n",
    "\n",
    "Hint: If John recieved more than one grade > 7, he should still count as one student."
   ]
  },
  {
   "cell_type": "code",
   "execution_count": 12,
   "metadata": {
    "execution": {
     "iopub.execute_input": "2022-08-05T15:06:59.411076Z",
     "iopub.status.busy": "2022-08-05T15:06:59.410815Z",
     "iopub.status.idle": "2022-08-05T15:06:59.414444Z",
     "shell.execute_reply": "2022-08-05T15:06:59.413806Z"
    }
   },
   "outputs": [],
   "source": [
    "grades = [('John', 'PROG', 8), ('John', 'ALGEBRA', 9), ('Lucy', 'ALGEBRA', 6), ('Lucy', 'INPRO', 10), ('Tim', 'INPRO', 7)]"
   ]
  },
  {
   "cell_type": "code",
   "execution_count": 13,
   "metadata": {
    "deletable": false,
    "editable": true,
    "execution": {
     "iopub.execute_input": "2022-08-05T15:06:59.416603Z",
     "iopub.status.busy": "2022-08-05T15:06:59.416326Z",
     "iopub.status.idle": "2022-08-05T15:06:59.420203Z",
     "shell.execute_reply": "2022-08-05T15:06:59.419226Z"
    }
   },
   "outputs": [],
   "source": [
    "%%assignment\n",
    "### ENTER YOUR CODE HERE"
   ]
  },
  {
   "cell_type": "code",
   "execution_count": 14,
   "metadata": {
    "deletable": false,
    "editable": false,
    "execution": {
     "iopub.execute_input": "2022-08-05T15:06:59.422237Z",
     "iopub.status.busy": "2022-08-05T15:06:59.421966Z",
     "iopub.status.idle": "2022-08-05T15:06:59.426917Z",
     "shell.execute_reply": "2022-08-05T15:06:59.426276Z"
    }
   },
   "outputs": [
    {
     "data": {
      "text/html": [
       "<table><tr style=\"background: red; color: white\"><td style=\"text-align:left\">The result should be 1 for testcase grades = [(1, 1, 8), (1, 1, 7), (2, 1, 6), (2, 1, 5)] </td></tr></table>"
      ],
      "text/plain": [
       "<IPython.core.display.HTML object>"
      ]
     },
     "metadata": {
      "text/html": {
       "username": "jeroen"
      }
     },
     "output_type": "display_data"
    }
   ],
   "source": [
    "%%check\n",
    "grades = [(1, 1, 8), (1, 1, 7), (2, 1, 6), (2, 1, 5)]\n",
    "result == 1\n",
    "grades = [('John', 'INPRO', 8), ('John', 'ALGEBRA', 9), ('Lucy', 'ALGEBRA', 6), ('Lucy', 'INPRO', 10), ('Tim', 'INPRO', 7)]\n",
    "result == 2"
   ]
  },
  {
   "cell_type": "markdown",
   "metadata": {},
   "source": [
    "#### Count how many students have NEVER received a grade higher than 7.\n",
    "\n",
    "Ok, this may be hard if you have never seen this before. The easiest way to solve this is in three steps:\n",
    "- a = set of all names\n",
    "- b = set of all names of the students that did receive a grade higher than 7 (previous assignment)\n",
    "- the answer is then a comprehension that iterates over the names `a` keeping only those that are `not in b`"
   ]
  },
  {
   "cell_type": "code",
   "execution_count": 15,
   "metadata": {
    "execution": {
     "iopub.execute_input": "2022-08-05T15:06:59.428955Z",
     "iopub.status.busy": "2022-08-05T15:06:59.428698Z",
     "iopub.status.idle": "2022-08-05T15:06:59.432251Z",
     "shell.execute_reply": "2022-08-05T15:06:59.431614Z"
    }
   },
   "outputs": [],
   "source": [
    "grades = [('John', 'INPRO', 8), ('John', 'ALGEBRA', 9), ('Lucy', 'ALGEBRA', 6), ('Lucy', 'INPRO', 10), ('Tim', 'INPRO', 7)]"
   ]
  },
  {
   "cell_type": "code",
   "execution_count": 16,
   "metadata": {
    "deletable": false,
    "editable": true,
    "execution": {
     "iopub.execute_input": "2022-08-05T15:06:59.434136Z",
     "iopub.status.busy": "2022-08-05T15:06:59.433922Z",
     "iopub.status.idle": "2022-08-05T15:06:59.437195Z",
     "shell.execute_reply": "2022-08-05T15:06:59.436579Z"
    }
   },
   "outputs": [],
   "source": [
    "%%assignment\n",
    "### ENTER YOUR CODE HERE"
   ]
  },
  {
   "cell_type": "code",
   "execution_count": 17,
   "metadata": {
    "deletable": false,
    "editable": false,
    "execution": {
     "iopub.execute_input": "2022-08-05T15:06:59.439356Z",
     "iopub.status.busy": "2022-08-05T15:06:59.438843Z",
     "iopub.status.idle": "2022-08-05T15:06:59.443643Z",
     "shell.execute_reply": "2022-08-05T15:06:59.443030Z"
    }
   },
   "outputs": [
    {
     "data": {
      "text/html": [
       "<table><tr style=\"background: red; color: white\"><td style=\"text-align:left\">The result should be 1 for testcase grades = [('John', 'INPRO', 8), ('John', 'ALGEBRA', 9), ('Lucy', 'ALGEBRA', 6), ('Lucy', 'INPRO', 10), ('Tim', 'INPRO', 7)] </td></tr></table>"
      ],
      "text/plain": [
       "<IPython.core.display.HTML object>"
      ]
     },
     "metadata": {
      "text/html": {
       "username": "jeroen"
      }
     },
     "output_type": "display_data"
    }
   ],
   "source": [
    "%%check\n",
    "grades = [('John', 'INPRO', 8), ('John', 'ALGEBRA', 9), ('Lucy', 'ALGEBRA', 6), ('Lucy', 'INPRO', 10), ('Tim', 'INPRO', 7)]\n",
    "result == 1\n",
    "grades = [('John', 'INPRO', 5), ('Achmed', 'ALGEBRA', 8), ('Lucy', 'ALGEBRA', 6), ('Lucy', 'INPRO', 10), ('Tim', 'INPRO', 7)]\n",
    "result == 2"
   ]
  }
 ],
 "metadata": {
  "celltoolbar": "Create Assignment",
  "kernelspec": {
   "display_name": "prog",
   "language": "python",
   "name": "prog"
  },
  "language_info": {
   "codemirror_mode": {
    "name": "ipython",
    "version": 3
   },
   "file_extension": ".py",
   "mimetype": "text/x-python",
   "name": "python",
   "nbconvert_exporter": "python",
   "pygments_lexer": "ipython3",
   "version": "3.9.12"
  },
  "widgets": {
   "application/vnd.jupyter.widget-state+json": {
    "state": {
     "07d8ce6122b640c1a594d0372f6f1eb3": {
      "model_module": "@jupyter-widgets/base",
      "model_module_version": "1.2.0",
      "model_name": "LayoutModel",
      "state": {
       "_model_module": "@jupyter-widgets/base",
       "_model_module_version": "1.2.0",
       "_model_name": "LayoutModel",
       "_view_count": null,
       "_view_module": "@jupyter-widgets/base",
       "_view_module_version": "1.2.0",
       "_view_name": "LayoutView",
       "align_content": null,
       "align_items": null,
       "align_self": null,
       "border": null,
       "bottom": null,
       "display": null,
       "flex": null,
       "flex_flow": null,
       "grid_area": null,
       "grid_auto_columns": null,
       "grid_auto_flow": null,
       "grid_auto_rows": null,
       "grid_column": null,
       "grid_gap": null,
       "grid_row": null,
       "grid_template_areas": null,
       "grid_template_columns": null,
       "grid_template_rows": null,
       "height": null,
       "justify_content": null,
       "justify_items": null,
       "left": null,
       "margin": null,
       "max_height": null,
       "max_width": null,
       "min_height": null,
       "min_width": null,
       "object_fit": null,
       "object_position": null,
       "order": null,
       "overflow": null,
       "overflow_x": null,
       "overflow_y": null,
       "padding": null,
       "right": null,
       "top": null,
       "visibility": null,
       "width": null
      }
     },
     "1d9af82e2a2f44edab80a8dde89cf247": {
      "model_module": "@jupyter-widgets/controls",
      "model_module_version": "1.5.0",
      "model_name": "IntSliderModel",
      "state": {
       "_dom_classes": [],
       "_model_module": "@jupyter-widgets/controls",
       "_model_module_version": "1.5.0",
       "_model_name": "IntSliderModel",
       "_view_count": null,
       "_view_module": "@jupyter-widgets/controls",
       "_view_module_version": "1.5.0",
       "_view_name": "IntSliderView",
       "continuous_update": true,
       "description": "",
       "description_tooltip": null,
       "disabled": false,
       "layout": "IPY_MODEL_07d8ce6122b640c1a594d0372f6f1eb3",
       "max": 20,
       "min": 1,
       "orientation": "horizontal",
       "readout": true,
       "readout_format": "d",
       "step": 1,
       "style": "IPY_MODEL_6de2f4d3e0964b51827289a5eed6df46",
       "value": 1
      }
     },
     "279ae26e6fab4b61a31125e9ea5aaadf": {
      "model_module": "@jupyter-widgets/controls",
      "model_module_version": "1.5.0",
      "model_name": "IntSliderModel",
      "state": {
       "_dom_classes": [],
       "_model_module": "@jupyter-widgets/controls",
       "_model_module_version": "1.5.0",
       "_model_name": "IntSliderModel",
       "_view_count": null,
       "_view_module": "@jupyter-widgets/controls",
       "_view_module_version": "1.5.0",
       "_view_name": "IntSliderView",
       "continuous_update": true,
       "description": "",
       "description_tooltip": null,
       "disabled": false,
       "layout": "IPY_MODEL_8a6ddc2d88594978aca4378c3cee9183",
       "max": 10,
       "min": 1,
       "orientation": "horizontal",
       "readout": true,
       "readout_format": "d",
       "step": 1,
       "style": "IPY_MODEL_698cb373ec144cb5a397322cacafe5c3",
       "value": 1
      }
     },
     "698cb373ec144cb5a397322cacafe5c3": {
      "model_module": "@jupyter-widgets/controls",
      "model_module_version": "1.5.0",
      "model_name": "SliderStyleModel",
      "state": {
       "_model_module": "@jupyter-widgets/controls",
       "_model_module_version": "1.5.0",
       "_model_name": "SliderStyleModel",
       "_view_count": null,
       "_view_module": "@jupyter-widgets/base",
       "_view_module_version": "1.2.0",
       "_view_name": "StyleView",
       "description_width": "",
       "handle_color": null
      }
     },
     "6de2f4d3e0964b51827289a5eed6df46": {
      "model_module": "@jupyter-widgets/controls",
      "model_module_version": "1.5.0",
      "model_name": "SliderStyleModel",
      "state": {
       "_model_module": "@jupyter-widgets/controls",
       "_model_module_version": "1.5.0",
       "_model_name": "SliderStyleModel",
       "_view_count": null,
       "_view_module": "@jupyter-widgets/base",
       "_view_module_version": "1.2.0",
       "_view_name": "StyleView",
       "description_width": "",
       "handle_color": null
      }
     },
     "7998675a183243f9b984801a86b46089": {
      "model_module": "@jupyter-widgets/controls",
      "model_module_version": "1.5.0",
      "model_name": "SliderStyleModel",
      "state": {
       "_model_module": "@jupyter-widgets/controls",
       "_model_module_version": "1.5.0",
       "_model_name": "SliderStyleModel",
       "_view_count": null,
       "_view_module": "@jupyter-widgets/base",
       "_view_module_version": "1.2.0",
       "_view_name": "StyleView",
       "description_width": "",
       "handle_color": null
      }
     },
     "81b274e4e0224734a63244661966a92c": {
      "model_module": "@jupyter-widgets/base",
      "model_module_version": "1.2.0",
      "model_name": "LayoutModel",
      "state": {
       "_model_module": "@jupyter-widgets/base",
       "_model_module_version": "1.2.0",
       "_model_name": "LayoutModel",
       "_view_count": null,
       "_view_module": "@jupyter-widgets/base",
       "_view_module_version": "1.2.0",
       "_view_name": "LayoutView",
       "align_content": null,
       "align_items": null,
       "align_self": null,
       "border": null,
       "bottom": null,
       "display": null,
       "flex": null,
       "flex_flow": null,
       "grid_area": null,
       "grid_auto_columns": null,
       "grid_auto_flow": null,
       "grid_auto_rows": null,
       "grid_column": null,
       "grid_gap": null,
       "grid_row": null,
       "grid_template_areas": null,
       "grid_template_columns": null,
       "grid_template_rows": null,
       "height": null,
       "justify_content": null,
       "justify_items": null,
       "left": null,
       "margin": null,
       "max_height": null,
       "max_width": null,
       "min_height": null,
       "min_width": null,
       "object_fit": null,
       "object_position": null,
       "order": null,
       "overflow": null,
       "overflow_x": null,
       "overflow_y": null,
       "padding": null,
       "right": null,
       "top": null,
       "visibility": null,
       "width": null
      }
     },
     "8a6ddc2d88594978aca4378c3cee9183": {
      "model_module": "@jupyter-widgets/base",
      "model_module_version": "1.2.0",
      "model_name": "LayoutModel",
      "state": {
       "_model_module": "@jupyter-widgets/base",
       "_model_module_version": "1.2.0",
       "_model_name": "LayoutModel",
       "_view_count": null,
       "_view_module": "@jupyter-widgets/base",
       "_view_module_version": "1.2.0",
       "_view_name": "LayoutView",
       "align_content": null,
       "align_items": null,
       "align_self": null,
       "border": null,
       "bottom": null,
       "display": null,
       "flex": null,
       "flex_flow": null,
       "grid_area": null,
       "grid_auto_columns": null,
       "grid_auto_flow": null,
       "grid_auto_rows": null,
       "grid_column": null,
       "grid_gap": null,
       "grid_row": null,
       "grid_template_areas": null,
       "grid_template_columns": null,
       "grid_template_rows": null,
       "height": null,
       "justify_content": null,
       "justify_items": null,
       "left": null,
       "margin": null,
       "max_height": null,
       "max_width": null,
       "min_height": null,
       "min_width": null,
       "object_fit": null,
       "object_position": null,
       "order": null,
       "overflow": null,
       "overflow_x": null,
       "overflow_y": null,
       "padding": null,
       "right": null,
       "top": null,
       "visibility": null,
       "width": null
      }
     },
     "b8c24adc56db407a92058b943cc9a6d1": {
      "model_module": "@jupyter-widgets/controls",
      "model_module_version": "1.5.0",
      "model_name": "IntSliderModel",
      "state": {
       "_dom_classes": [],
       "_model_module": "@jupyter-widgets/controls",
       "_model_module_version": "1.5.0",
       "_model_name": "IntSliderModel",
       "_view_count": null,
       "_view_module": "@jupyter-widgets/controls",
       "_view_module_version": "1.5.0",
       "_view_name": "IntSliderView",
       "continuous_update": true,
       "description": "",
       "description_tooltip": null,
       "disabled": false,
       "layout": "IPY_MODEL_81b274e4e0224734a63244661966a92c",
       "max": 10,
       "min": 1,
       "orientation": "horizontal",
       "readout": true,
       "readout_format": "d",
       "step": 1,
       "style": "IPY_MODEL_7998675a183243f9b984801a86b46089",
       "value": 1
      }
     }
    },
    "version_major": 2,
    "version_minor": 0
   }
  }
 },
 "nbformat": 4,
 "nbformat_minor": 4
}
