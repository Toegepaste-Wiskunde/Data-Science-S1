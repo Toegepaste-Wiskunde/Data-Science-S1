{
 "cells": [
  {
   "cell_type": "markdown",
   "metadata": {},
   "source": [
    "# Datatype conversion\n",
    "\n",
    "So we have learned that all primitive values are of a specific data type: string, int, float or boolean. When we work with values, sometimes we want to change their datatype. You can do that in Python using the `str()`, `int()` and `float()` functions, by placing the value in between the brackets. These functions return the value in the corresponding datatype.\n",
    "\n",
    "For completeness, there is also a `bool()` function to convert values to boolean (True/False), although we do not use that very often, the number 0, 0.0 and en empty String will convert to False and any other value to True."
   ]
  },
  {
   "cell_type": "markdown",
   "metadata": {},
   "source": [
    "# Examples"
   ]
  },
  {
   "cell_type": "code",
   "execution_count": 1,
   "metadata": {
    "execution": {
     "iopub.execute_input": "2022-08-05T15:05:18.003622Z",
     "iopub.status.busy": "2022-08-05T15:05:18.002992Z",
     "iopub.status.idle": "2022-08-05T15:05:18.022812Z",
     "shell.execute_reply": "2022-08-05T15:05:18.022107Z"
    }
   },
   "outputs": [
    {
     "data": {
      "text/plain": [
       "'12'"
      ]
     },
     "execution_count": 1,
     "metadata": {},
     "output_type": "execute_result"
    }
   ],
   "source": [
    "'12'"
   ]
  },
  {
   "cell_type": "code",
   "execution_count": 2,
   "metadata": {
    "execution": {
     "iopub.execute_input": "2022-08-05T15:05:18.027887Z",
     "iopub.status.busy": "2022-08-05T15:05:18.027599Z",
     "iopub.status.idle": "2022-08-05T15:05:18.032509Z",
     "shell.execute_reply": "2022-08-05T15:05:18.031842Z"
    }
   },
   "outputs": [
    {
     "data": {
      "text/plain": [
       "12"
      ]
     },
     "execution_count": 2,
     "metadata": {},
     "output_type": "execute_result"
    }
   ],
   "source": [
    "int('12')"
   ]
  },
  {
   "cell_type": "code",
   "execution_count": 3,
   "metadata": {
    "execution": {
     "iopub.execute_input": "2022-08-05T15:05:18.036519Z",
     "iopub.status.busy": "2022-08-05T15:05:18.036232Z",
     "iopub.status.idle": "2022-08-05T15:05:18.041018Z",
     "shell.execute_reply": "2022-08-05T15:05:18.040320Z"
    }
   },
   "outputs": [
    {
     "data": {
      "text/plain": [
       "'7'"
      ]
     },
     "execution_count": 3,
     "metadata": {},
     "output_type": "execute_result"
    }
   ],
   "source": [
    "str(2 + 5)"
   ]
  },
  {
   "cell_type": "code",
   "execution_count": 4,
   "metadata": {
    "execution": {
     "iopub.execute_input": "2022-08-05T15:05:18.043922Z",
     "iopub.status.busy": "2022-08-05T15:05:18.043588Z",
     "iopub.status.idle": "2022-08-05T15:05:18.048722Z",
     "shell.execute_reply": "2022-08-05T15:05:18.048027Z"
    }
   },
   "outputs": [
    {
     "data": {
      "text/plain": [
       "7.0"
      ]
     },
     "execution_count": 4,
     "metadata": {},
     "output_type": "execute_result"
    }
   ],
   "source": [
    "float(2 + 5)"
   ]
  },
  {
   "cell_type": "code",
   "execution_count": 5,
   "metadata": {
    "execution": {
     "iopub.execute_input": "2022-08-05T15:05:18.051011Z",
     "iopub.status.busy": "2022-08-05T15:05:18.050715Z",
     "iopub.status.idle": "2022-08-05T15:05:18.056119Z",
     "shell.execute_reply": "2022-08-05T15:05:18.055235Z"
    }
   },
   "outputs": [
    {
     "data": {
      "text/plain": [
       "True"
      ]
     },
     "execution_count": 5,
     "metadata": {},
     "output_type": "execute_result"
    }
   ],
   "source": [
    "bool(1)"
   ]
  },
  {
   "cell_type": "code",
   "execution_count": 6,
   "metadata": {
    "execution": {
     "iopub.execute_input": "2022-08-05T15:05:18.058516Z",
     "iopub.status.busy": "2022-08-05T15:05:18.058175Z",
     "iopub.status.idle": "2022-08-05T15:05:18.063599Z",
     "shell.execute_reply": "2022-08-05T15:05:18.062614Z"
    }
   },
   "outputs": [
    {
     "data": {
      "text/plain": [
       "False"
      ]
     },
     "execution_count": 6,
     "metadata": {},
     "output_type": "execute_result"
    }
   ],
   "source": [
    "bool(0)"
   ]
  },
  {
   "cell_type": "code",
   "execution_count": 7,
   "metadata": {
    "execution": {
     "iopub.execute_input": "2022-08-05T15:05:18.065637Z",
     "iopub.status.busy": "2022-08-05T15:05:18.065330Z",
     "iopub.status.idle": "2022-08-05T15:05:18.070260Z",
     "shell.execute_reply": "2022-08-05T15:05:18.069606Z"
    }
   },
   "outputs": [
    {
     "data": {
      "text/plain": [
       "True"
      ]
     },
     "execution_count": 7,
     "metadata": {},
     "output_type": "execute_result"
    }
   ],
   "source": [
    "bool('False')"
   ]
  },
  {
   "cell_type": "markdown",
   "metadata": {},
   "source": [
    "### Assignment: convert the following values to the indicated datatype"
   ]
  },
  {
   "cell_type": "code",
   "execution_count": 8,
   "metadata": {
    "deletable": false,
    "editable": true,
    "execution": {
     "iopub.execute_input": "2022-08-05T15:05:18.072479Z",
     "iopub.status.busy": "2022-08-05T15:05:18.072175Z",
     "iopub.status.idle": "2022-08-05T15:05:18.077387Z",
     "shell.execute_reply": "2022-08-05T15:05:18.076743Z"
    }
   },
   "outputs": [
    {
     "data": {
      "text/plain": [
       "23"
      ]
     },
     "execution_count": 8,
     "metadata": {},
     "output_type": "execute_result"
    }
   ],
   "source": [
    "%%assignment\n",
    "23 # convert to string\n",
    "### ENTER YOUR CODE HERE"
   ]
  },
  {
   "cell_type": "code",
   "execution_count": 9,
   "metadata": {
    "deletable": false,
    "editable": false,
    "execution": {
     "iopub.execute_input": "2022-08-05T15:05:18.079646Z",
     "iopub.status.busy": "2022-08-05T15:05:18.079331Z",
     "iopub.status.idle": "2022-08-05T15:05:18.084722Z",
     "shell.execute_reply": "2022-08-05T15:05:18.083750Z"
    }
   },
   "outputs": [
    {
     "data": {
      "text/html": [
       "<table><tr style=\"background: red; color: white\"><td style=\"text-align:left\">The result must be of type  str </td></tr></table>"
      ],
      "text/plain": [
       "<IPython.core.display.HTML object>"
      ]
     },
     "metadata": {
      "text/html": {
       "username": "jeroen"
      }
     },
     "output_type": "display_data"
    }
   ],
   "source": [
    "%%check\n",
    "str\n",
    "result == '23'\n",
    "forbidden \\' \""
   ]
  },
  {
   "cell_type": "code",
   "execution_count": 10,
   "metadata": {
    "deletable": false,
    "editable": true,
    "execution": {
     "iopub.execute_input": "2022-08-05T15:05:18.086803Z",
     "iopub.status.busy": "2022-08-05T15:05:18.086624Z",
     "iopub.status.idle": "2022-08-05T15:05:18.091998Z",
     "shell.execute_reply": "2022-08-05T15:05:18.091020Z"
    }
   },
   "outputs": [
    {
     "data": {
      "text/plain": [
       "12.5"
      ]
     },
     "execution_count": 10,
     "metadata": {},
     "output_type": "execute_result"
    }
   ],
   "source": [
    "%%assignment\n",
    "12.5 # convert to int\n",
    "### ENTER YOUR CODE HERE"
   ]
  },
  {
   "cell_type": "code",
   "execution_count": 11,
   "metadata": {
    "deletable": false,
    "editable": false,
    "execution": {
     "iopub.execute_input": "2022-08-05T15:05:18.094008Z",
     "iopub.status.busy": "2022-08-05T15:05:18.093735Z",
     "iopub.status.idle": "2022-08-05T15:05:18.098540Z",
     "shell.execute_reply": "2022-08-05T15:05:18.097918Z"
    }
   },
   "outputs": [
    {
     "data": {
      "text/html": [
       "<table><tr style=\"background: red; color: white\"><td style=\"text-align:left\">The result must be of type  int </td></tr></table>"
      ],
      "text/plain": [
       "<IPython.core.display.HTML object>"
      ]
     },
     "metadata": {
      "text/html": {
       "username": "jeroen"
      }
     },
     "output_type": "display_data"
    }
   ],
   "source": [
    "%%check\n",
    "int\n",
    "result == 12\n",
    "mandatory int ( ) 12.5"
   ]
  },
  {
   "cell_type": "code",
   "execution_count": 12,
   "metadata": {
    "deletable": false,
    "editable": true,
    "execution": {
     "iopub.execute_input": "2022-08-05T15:05:18.100523Z",
     "iopub.status.busy": "2022-08-05T15:05:18.100296Z",
     "iopub.status.idle": "2022-08-05T15:05:18.105164Z",
     "shell.execute_reply": "2022-08-05T15:05:18.104520Z"
    }
   },
   "outputs": [
    {
     "data": {
      "text/plain": [
       "'3.1415'"
      ]
     },
     "execution_count": 12,
     "metadata": {},
     "output_type": "execute_result"
    }
   ],
   "source": [
    "%%assignment\n",
    "'3.1415' # convert to float\n",
    "### ENTER YOUR CODE HERE"
   ]
  },
  {
   "cell_type": "code",
   "execution_count": 13,
   "metadata": {
    "deletable": false,
    "editable": false,
    "execution": {
     "iopub.execute_input": "2022-08-05T15:05:18.107248Z",
     "iopub.status.busy": "2022-08-05T15:05:18.107007Z",
     "iopub.status.idle": "2022-08-05T15:05:18.111765Z",
     "shell.execute_reply": "2022-08-05T15:05:18.111140Z"
    }
   },
   "outputs": [
    {
     "data": {
      "text/html": [
       "<table><tr style=\"background: red; color: white\"><td style=\"text-align:left\">The result should be 3.1415</td></tr></table>"
      ],
      "text/plain": [
       "<IPython.core.display.HTML object>"
      ]
     },
     "metadata": {
      "text/html": {
       "username": "jeroen"
      }
     },
     "output_type": "display_data"
    }
   ],
   "source": [
    "%%check\n",
    "result == 3.1415\n",
    "mandatory float (\\' ) 3.1415"
   ]
  },
  {
   "cell_type": "code",
   "execution_count": 14,
   "metadata": {
    "deletable": false,
    "editable": true,
    "execution": {
     "iopub.execute_input": "2022-08-05T15:05:18.113820Z",
     "iopub.status.busy": "2022-08-05T15:05:18.113552Z",
     "iopub.status.idle": "2022-08-05T15:05:18.118310Z",
     "shell.execute_reply": "2022-08-05T15:05:18.117680Z"
    }
   },
   "outputs": [
    {
     "data": {
      "text/plain": [
       "10"
      ]
     },
     "execution_count": 14,
     "metadata": {},
     "output_type": "execute_result"
    }
   ],
   "source": [
    "%%assignment\n",
    "3 + 7 # convert to float\n",
    "### ENTER YOUR CODE HERE"
   ]
  },
  {
   "cell_type": "code",
   "execution_count": 15,
   "metadata": {
    "deletable": false,
    "editable": false,
    "execution": {
     "iopub.execute_input": "2022-08-05T15:05:18.120368Z",
     "iopub.status.busy": "2022-08-05T15:05:18.120103Z",
     "iopub.status.idle": "2022-08-05T15:05:18.124918Z",
     "shell.execute_reply": "2022-08-05T15:05:18.124274Z"
    }
   },
   "outputs": [
    {
     "data": {
      "text/html": [
       "<table><tr style=\"background: green; color: white\"><td style=\"text-align:left\">Correct!</td></tr></table>"
      ],
      "text/plain": [
       "<IPython.core.display.HTML object>"
      ]
     },
     "metadata": {
      "text/html": {
       "username": "jeroen"
      }
     },
     "output_type": "display_data"
    }
   ],
   "source": [
    "%%check\n",
    "result == 10.0\n",
    "forbidden ."
   ]
  }
 ],
 "metadata": {
  "celltoolbar": "Create Assignment",
  "kernelspec": {
   "display_name": "prog",
   "language": "python",
   "name": "prog"
  },
  "language_info": {
   "codemirror_mode": {
    "name": "ipython",
    "version": 3
   },
   "file_extension": ".py",
   "mimetype": "text/x-python",
   "name": "python",
   "nbconvert_exporter": "python",
   "pygments_lexer": "ipython3",
   "version": "3.9.12"
  }
 },
 "nbformat": 4,
 "nbformat_minor": 4
}
