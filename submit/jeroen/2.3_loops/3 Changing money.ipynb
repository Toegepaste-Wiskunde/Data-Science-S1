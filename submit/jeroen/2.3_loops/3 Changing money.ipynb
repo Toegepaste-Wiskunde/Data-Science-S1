{
 "cells": [
  {
   "cell_type": "markdown",
   "metadata": {},
   "source": [
    "# Changing Money\n",
    "\n",
    "This is extension to a previous assignment to determine how change can be given in a shop using the minimum amount of coins. We will create a program for this in simple steps."
   ]
  },
  {
   "cell_type": "code",
   "execution_count": 1,
   "metadata": {
    "execution": {
     "iopub.execute_input": "2022-08-05T15:06:51.518854Z",
     "iopub.status.busy": "2022-08-05T15:06:51.517899Z",
     "iopub.status.idle": "2022-08-05T15:06:51.530984Z",
     "shell.execute_reply": "2022-08-05T15:06:51.530025Z"
    }
   },
   "outputs": [],
   "source": [
    "amount = 765   # amount to be paid in cents\n",
    "paid = 1000    # amount paid in cents (i.e. a E10 bill)"
   ]
  },
  {
   "cell_type": "code",
   "execution_count": 2,
   "metadata": {
    "execution": {
     "iopub.execute_input": "2022-08-05T15:06:51.535865Z",
     "iopub.status.busy": "2022-08-05T15:06:51.535515Z",
     "iopub.status.idle": "2022-08-05T15:06:51.539844Z",
     "shell.execute_reply": "2022-08-05T15:06:51.539101Z"
    }
   },
   "outputs": [],
   "source": [
    "change = paid - amount   # the amount of change to be returned"
   ]
  },
  {
   "cell_type": "markdown",
   "metadata": {},
   "source": [
    "#### Compute the minimum number of `total_coins ` that must be returned as change. You may use the coin values in the list `coins`.\n",
    "\n",
    "e.g. for change = 45 you should set total_coins to 3 (2 coins of 20 cents and 1 coin of 5 cents)\n",
    "\n",
    "Hint: one possible solution includes modulo and integer divisions."
   ]
  },
  {
   "cell_type": "code",
   "execution_count": 3,
   "metadata": {
    "execution": {
     "iopub.execute_input": "2022-08-05T15:06:51.543786Z",
     "iopub.status.busy": "2022-08-05T15:06:51.543459Z",
     "iopub.status.idle": "2022-08-05T15:06:51.547762Z",
     "shell.execute_reply": "2022-08-05T15:06:51.546803Z"
    }
   },
   "outputs": [],
   "source": [
    "coins = [200, 100, 50, 20, 10, 5]"
   ]
  },
  {
   "cell_type": "code",
   "execution_count": 4,
   "metadata": {
    "deletable": false,
    "editable": true,
    "execution": {
     "iopub.execute_input": "2022-08-05T15:06:51.551015Z",
     "iopub.status.busy": "2022-08-05T15:06:51.550608Z",
     "iopub.status.idle": "2022-08-05T15:06:51.561689Z",
     "shell.execute_reply": "2022-08-05T15:06:51.560999Z"
    }
   },
   "outputs": [
    {
     "data": {
      "text/plain": [
       "0"
      ]
     },
     "execution_count": 4,
     "metadata": {},
     "output_type": "execute_result"
    }
   ],
   "source": [
    "%%assignment\n",
    "total_coins = 0\n",
    "### ENTER YOUR CODE HERE\n",
    "total_coins"
   ]
  },
  {
   "cell_type": "code",
   "execution_count": 5,
   "metadata": {
    "deletable": false,
    "editable": false,
    "execution": {
     "iopub.execute_input": "2022-08-05T15:06:51.564812Z",
     "iopub.status.busy": "2022-08-05T15:06:51.564513Z",
     "iopub.status.idle": "2022-08-05T15:06:51.569992Z",
     "shell.execute_reply": "2022-08-05T15:06:51.569344Z"
    }
   },
   "outputs": [
    {
     "data": {
      "text/html": [
       "<table><tr style=\"background: red; color: white\"><td style=\"text-align:left\">The result for total_coins should be 4 for testcase change = 235 </td></tr></table>"
      ],
      "text/plain": [
       "<IPython.core.display.HTML object>"
      ]
     },
     "metadata": {
      "text/html": {
       "username": "jeroen"
      }
     },
     "output_type": "display_data"
    }
   ],
   "source": [
    "%%check\n",
    "change = 235\n",
    "total_coins == 4\n",
    "change = 45\n",
    "total_coins == 3\n",
    "coins = [250, 100, 25, 10, 5]\n",
    "change = 415\n",
    "total_coins == 6"
   ]
  }
 ],
 "metadata": {
  "celltoolbar": "Create Assignment",
  "kernelspec": {
   "display_name": "prog",
   "language": "python",
   "name": "prog"
  },
  "language_info": {
   "codemirror_mode": {
    "name": "ipython",
    "version": 3
   },
   "file_extension": ".py",
   "mimetype": "text/x-python",
   "name": "python",
   "nbconvert_exporter": "python",
   "pygments_lexer": "ipython3",
   "version": "3.9.12"
  }
 },
 "nbformat": 4,
 "nbformat_minor": 4
}
