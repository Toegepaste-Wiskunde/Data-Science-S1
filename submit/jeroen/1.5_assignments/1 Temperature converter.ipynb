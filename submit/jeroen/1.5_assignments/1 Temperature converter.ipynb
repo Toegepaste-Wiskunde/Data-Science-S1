{
 "cells": [
  {
   "cell_type": "markdown",
   "metadata": {},
   "source": [
    "# Temperature converter"
   ]
  },
  {
   "cell_type": "markdown",
   "metadata": {},
   "source": [
    "#### Write a Python program that converts the given temperature from derees in Celsius to degrees in Fahrenheit. \n",
    "\n",
    "The difference between celsius and Fahrenheit is that the freezing point for Celsius is 0 °C, and for Fahrenheit it is 32 °F. Furthermore, one degree in Celsius equals 9/5 degree in Fahrenheit. Take the variable `celsius` as input and simply write the expression to compute the temperature in fahrenheit (i.e. do not store it in a variable)."
   ]
  },
  {
   "cell_type": "code",
   "execution_count": 1,
   "metadata": {
    "execution": {
     "iopub.execute_input": "2022-08-05T15:05:03.220238Z",
     "iopub.status.busy": "2022-08-05T15:05:03.219605Z",
     "iopub.status.idle": "2022-08-05T15:05:03.232018Z",
     "shell.execute_reply": "2022-08-05T15:05:03.231002Z"
    }
   },
   "outputs": [],
   "source": [
    "celsius = 100"
   ]
  },
  {
   "cell_type": "code",
   "execution_count": 2,
   "metadata": {
    "deletable": false,
    "editable": true,
    "execution": {
     "iopub.execute_input": "2022-08-05T15:05:03.236158Z",
     "iopub.status.busy": "2022-08-05T15:05:03.235765Z",
     "iopub.status.idle": "2022-08-05T15:05:03.242182Z",
     "shell.execute_reply": "2022-08-05T15:05:03.240917Z"
    }
   },
   "outputs": [
    {
     "name": "stdout",
     "output_type": "stream",
     "text": [
      "The temperature in Fahrenheit is:\n"
     ]
    }
   ],
   "source": [
    "%%assignment\n",
    "print('The temperature in Fahrenheit is:')\n",
    "### ENTER YOUR CODE HERE"
   ]
  },
  {
   "cell_type": "code",
   "execution_count": 3,
   "metadata": {
    "deletable": false,
    "editable": false,
    "execution": {
     "iopub.execute_input": "2022-08-05T15:05:03.246766Z",
     "iopub.status.busy": "2022-08-05T15:05:03.245907Z",
     "iopub.status.idle": "2022-08-05T15:05:03.263421Z",
     "shell.execute_reply": "2022-08-05T15:05:03.262675Z"
    }
   },
   "outputs": [
    {
     "name": "stdout",
     "output_type": "stream",
     "text": [
      "The temperature in Fahrenheit is:\n",
      "The temperature in Fahrenheit is:\n"
     ]
    },
    {
     "data": {
      "text/html": [
       "<table><tr style=\"background: red; color: white\"><td style=\"text-align:left\">The result should be 212.0 for testcase celsius = 100 </td></tr></table>"
      ],
      "text/plain": [
       "<IPython.core.display.HTML object>"
      ]
     },
     "metadata": {
      "text/html": {
       "username": "jeroen"
      }
     },
     "output_type": "display_data"
    }
   ],
   "source": [
    "%%check\n",
    "celsius = 100\n",
    "result == 212.0\n",
    "celsius = 0\n",
    "result == 32"
   ]
  },
  {
   "cell_type": "markdown",
   "metadata": {},
   "source": [
    "#### Now convert the other way around, take a temperature in Fahrenheit and convert it to Celsius"
   ]
  },
  {
   "cell_type": "code",
   "execution_count": 4,
   "metadata": {
    "execution": {
     "iopub.execute_input": "2022-08-05T15:05:03.267475Z",
     "iopub.status.busy": "2022-08-05T15:05:03.267169Z",
     "iopub.status.idle": "2022-08-05T15:05:03.271029Z",
     "shell.execute_reply": "2022-08-05T15:05:03.270123Z"
    }
   },
   "outputs": [],
   "source": [
    "fahrenheit = 212"
   ]
  },
  {
   "cell_type": "code",
   "execution_count": 5,
   "metadata": {
    "deletable": false,
    "editable": true,
    "execution": {
     "iopub.execute_input": "2022-08-05T15:05:03.273950Z",
     "iopub.status.busy": "2022-08-05T15:05:03.273656Z",
     "iopub.status.idle": "2022-08-05T15:05:03.278580Z",
     "shell.execute_reply": "2022-08-05T15:05:03.277810Z"
    }
   },
   "outputs": [
    {
     "name": "stdout",
     "output_type": "stream",
     "text": [
      "The temperature in Celsius is:\n"
     ]
    }
   ],
   "source": [
    "%%assignment\n",
    "print('The temperature in Celsius is:')\n",
    "### ENTER YOUR CODE HERE"
   ]
  },
  {
   "cell_type": "code",
   "execution_count": 6,
   "metadata": {
    "deletable": false,
    "editable": false,
    "execution": {
     "iopub.execute_input": "2022-08-05T15:05:03.281183Z",
     "iopub.status.busy": "2022-08-05T15:05:03.280910Z",
     "iopub.status.idle": "2022-08-05T15:05:03.286960Z",
     "shell.execute_reply": "2022-08-05T15:05:03.286251Z"
    }
   },
   "outputs": [
    {
     "name": "stdout",
     "output_type": "stream",
     "text": [
      "The temperature in Celsius is:\n",
      "The temperature in Celsius is:\n"
     ]
    },
    {
     "data": {
      "text/html": [
       "<table><tr style=\"background: red; color: white\"><td style=\"text-align:left\">The result should be 100 for testcase fahrenheit = 212 </td></tr></table>"
      ],
      "text/plain": [
       "<IPython.core.display.HTML object>"
      ]
     },
     "metadata": {
      "text/html": {
       "username": "jeroen"
      }
     },
     "output_type": "display_data"
    }
   ],
   "source": [
    "%%check\n",
    "fahrenheit = 212\n",
    "result == 100\n",
    "fahrenheit = 32\n",
    "result == 0"
   ]
  },
  {
   "cell_type": "code",
   "execution_count": null,
   "metadata": {},
   "outputs": [],
   "source": []
  }
 ],
 "metadata": {
  "celltoolbar": "Create Assignment",
  "kernelspec": {
   "display_name": "prog",
   "language": "python",
   "name": "prog"
  },
  "language_info": {
   "codemirror_mode": {
    "name": "ipython",
    "version": 3
   },
   "file_extension": ".py",
   "mimetype": "text/x-python",
   "name": "python",
   "nbconvert_exporter": "python",
   "pygments_lexer": "ipython3",
   "version": "3.9.12"
  }
 },
 "nbformat": 4,
 "nbformat_minor": 4
}
