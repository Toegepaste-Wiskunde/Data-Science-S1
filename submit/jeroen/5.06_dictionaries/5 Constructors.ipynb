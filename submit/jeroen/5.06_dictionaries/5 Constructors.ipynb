{
 "cells": [
  {
   "cell_type": "markdown",
   "metadata": {},
   "source": [
    "# Consructors\n",
    "\n",
    "In Python, you can also create a `list`, `set`, `tuple` or `dictionary` with a constructor of the same name. You can pass any 'iterable' to it and it will populate the collection using the values in that iterable. The term 'iterable' refers to anything you can iterate over, so anything you could use in a for-in loop. This could be a list, set, tuple or dictionary, but it can also be a String for example.\n",
    "\n",
    "| code | result | comment |\n",
    "|:-----|:-------|:--------|\n",
    "| `list({2, 5})` | `[ 2, 5 ]` | Creates a list populated with the values in a set. Note that since sets are unordered, the result could also be the 2 and 5 in reverse order |\n",
    "| `set('aardvark')` | `{'a', 'r', 'd', 'v', 'k' }` | Creates a set of the characters in a word. Since sets have unique elements, duplicates are removed |\n",
    "| `tuple({2:'a', 3:'b'})` | `(2, 3)` | Creates a tuple. Since by default the iterator is over the keys, only those are listed |\n",
    "| `list({2:'a', 3:'b'}.items())` | `[(2, 'a'), (3, 'b')]` | Since items() on a dictionay iterates over (key, value) tuples, those are stored in the list |\n",
    "| `dict([(1, 'a'), (2, 'b')])` | `{'a':1, 'b':2}` | The elements of the list are (key, value) tuples. These are automatically transformed to key:value pairs in the dict |\n",
    "| `dict(zip( ('a', 'b'), [1, 2] ))` | `{'a':1, 'b':2}` | We could also use `zip` to construct tuples and then turn that into a dictionary | "
   ]
  },
  {
   "cell_type": "markdown",
   "metadata": {},
   "source": [
    "# Assignments"
   ]
  },
  {
   "cell_type": "markdown",
   "metadata": {},
   "source": [
    "# Convert the list `numbers` into a set."
   ]
  },
  {
   "cell_type": "code",
   "execution_count": 1,
   "metadata": {
    "execution": {
     "iopub.execute_input": "2022-08-05T15:06:24.689896Z",
     "iopub.status.busy": "2022-08-05T15:06:24.689279Z",
     "iopub.status.idle": "2022-08-05T15:06:24.702656Z",
     "shell.execute_reply": "2022-08-05T15:06:24.701543Z"
    }
   },
   "outputs": [],
   "source": [
    "numbers = [ 2, 3, 2, 4 ]"
   ]
  },
  {
   "cell_type": "code",
   "execution_count": 2,
   "metadata": {
    "deletable": false,
    "editable": true,
    "execution": {
     "iopub.execute_input": "2022-08-05T15:06:24.706898Z",
     "iopub.status.busy": "2022-08-05T15:06:24.706534Z",
     "iopub.status.idle": "2022-08-05T15:06:24.711263Z",
     "shell.execute_reply": "2022-08-05T15:06:24.710545Z"
    }
   },
   "outputs": [],
   "source": [
    "%%assignment\n",
    "### ENTER YOUR CODE HERE"
   ]
  },
  {
   "cell_type": "code",
   "execution_count": 3,
   "metadata": {
    "deletable": false,
    "editable": false,
    "execution": {
     "iopub.execute_input": "2022-08-05T15:06:24.714555Z",
     "iopub.status.busy": "2022-08-05T15:06:24.714293Z",
     "iopub.status.idle": "2022-08-05T15:06:24.723198Z",
     "shell.execute_reply": "2022-08-05T15:06:24.722542Z"
    }
   },
   "outputs": [
    {
     "data": {
      "text/html": [
       "<table><tr style=\"background: red; color: white\"><td style=\"text-align:left\">The result should be {1, 2} for testcase numbers = [ 1, 1, 2, 2 ] </td></tr></table>"
      ],
      "text/plain": [
       "<IPython.core.display.HTML object>"
      ]
     },
     "metadata": {
      "text/html": {
       "username": "jeroen"
      }
     },
     "output_type": "display_data"
    }
   ],
   "source": [
    "%%check\n",
    "numbers = [ 1, 1, 2, 2 ]\n",
    "result == {1, 2}\n",
    "numbers = [ 2, 3, 2, 4 ]\n",
    "result == {2, 3, 4}"
   ]
  },
  {
   "cell_type": "markdown",
   "metadata": {},
   "source": [
    "# Convert the list `numbers` into a tuple."
   ]
  },
  {
   "cell_type": "code",
   "execution_count": 4,
   "metadata": {
    "execution": {
     "iopub.execute_input": "2022-08-05T15:06:24.726372Z",
     "iopub.status.busy": "2022-08-05T15:06:24.726098Z",
     "iopub.status.idle": "2022-08-05T15:06:24.729630Z",
     "shell.execute_reply": "2022-08-05T15:06:24.728956Z"
    }
   },
   "outputs": [],
   "source": [
    "numbers = [ 2, 3, 2, 4 ]"
   ]
  },
  {
   "cell_type": "code",
   "execution_count": 5,
   "metadata": {
    "deletable": false,
    "editable": true,
    "execution": {
     "iopub.execute_input": "2022-08-05T15:06:24.732188Z",
     "iopub.status.busy": "2022-08-05T15:06:24.731915Z",
     "iopub.status.idle": "2022-08-05T15:06:24.735748Z",
     "shell.execute_reply": "2022-08-05T15:06:24.734969Z"
    }
   },
   "outputs": [],
   "source": [
    "%%assignment\n",
    "### ENTER YOUR CODE HERE"
   ]
  },
  {
   "cell_type": "code",
   "execution_count": 6,
   "metadata": {
    "deletable": false,
    "editable": false,
    "execution": {
     "iopub.execute_input": "2022-08-05T15:06:24.738280Z",
     "iopub.status.busy": "2022-08-05T15:06:24.738052Z",
     "iopub.status.idle": "2022-08-05T15:06:24.743154Z",
     "shell.execute_reply": "2022-08-05T15:06:24.742479Z"
    }
   },
   "outputs": [
    {
     "data": {
      "text/html": [
       "<table><tr style=\"background: red; color: white\"><td style=\"text-align:left\">The result should be (1, 1, 2, 2) for testcase numbers = [ 1, 1, 2, 2 ] </td></tr></table>"
      ],
      "text/plain": [
       "<IPython.core.display.HTML object>"
      ]
     },
     "metadata": {
      "text/html": {
       "username": "jeroen"
      }
     },
     "output_type": "display_data"
    }
   ],
   "source": [
    "%%check\n",
    "numbers = [ 1, 1, 2, 2 ]\n",
    "result == (1, 1, 2, 2)\n",
    "numbers = [ 2, 3, 2, 4 ]\n",
    "result == (2, 3, 2, 4)"
   ]
  },
  {
   "cell_type": "markdown",
   "metadata": {},
   "source": [
    "# Count how many unique letters there are in `word`.\n",
    "\n",
    "Consider that a word is just a collection of characters, you can turn that collection into a set and then count the number of unique letter (which is the same as the number of elements, since a set does not have doubles)."
   ]
  },
  {
   "cell_type": "code",
   "execution_count": 7,
   "metadata": {
    "execution": {
     "iopub.execute_input": "2022-08-05T15:06:24.745587Z",
     "iopub.status.busy": "2022-08-05T15:06:24.745281Z",
     "iopub.status.idle": "2022-08-05T15:06:24.748790Z",
     "shell.execute_reply": "2022-08-05T15:06:24.748099Z"
    }
   },
   "outputs": [],
   "source": [
    "word = 'parallelogram'"
   ]
  },
  {
   "cell_type": "code",
   "execution_count": 8,
   "metadata": {
    "deletable": false,
    "editable": true,
    "execution": {
     "iopub.execute_input": "2022-08-05T15:06:24.751044Z",
     "iopub.status.busy": "2022-08-05T15:06:24.750856Z",
     "iopub.status.idle": "2022-08-05T15:06:24.755225Z",
     "shell.execute_reply": "2022-08-05T15:06:24.754004Z"
    }
   },
   "outputs": [],
   "source": [
    "%%assignment\n",
    "### ENTER YOUR CODE HERE"
   ]
  },
  {
   "cell_type": "code",
   "execution_count": 9,
   "metadata": {
    "deletable": false,
    "editable": false,
    "execution": {
     "iopub.execute_input": "2022-08-05T15:06:24.757663Z",
     "iopub.status.busy": "2022-08-05T15:06:24.757364Z",
     "iopub.status.idle": "2022-08-05T15:06:24.762634Z",
     "shell.execute_reply": "2022-08-05T15:06:24.761982Z"
    }
   },
   "outputs": [
    {
     "data": {
      "text/html": [
       "<table><tr style=\"background: red; color: white\"><td style=\"text-align:left\">Your code should contain 'set'</td></tr></table>"
      ],
      "text/plain": [
       "<IPython.core.display.HTML object>"
      ]
     },
     "metadata": {
      "text/html": {
       "username": "jeroen"
      }
     },
     "output_type": "display_data"
    }
   ],
   "source": [
    "%%check\n",
    "mandatory set\n",
    "forbidden for   # you should do this without a for loop\n",
    "word = 'this'\n",
    "result == 4\n",
    "word = 'parallelogram'\n",
    "result == 8"
   ]
  },
  {
   "cell_type": "markdown",
   "metadata": {},
   "source": [
    "# Give the unique cities of these `students`\n",
    "\n",
    "Every element in the dictionary `students` has a name as its key and cityname as its value. The citynames are not necessarily unique in the dictionary."
   ]
  },
  {
   "cell_type": "code",
   "execution_count": 10,
   "metadata": {
    "execution": {
     "iopub.execute_input": "2022-08-05T15:06:24.764827Z",
     "iopub.status.busy": "2022-08-05T15:06:24.764582Z",
     "iopub.status.idle": "2022-08-05T15:06:24.768231Z",
     "shell.execute_reply": "2022-08-05T15:06:24.767432Z"
    }
   },
   "outputs": [],
   "source": [
    "students = {'Lucy':'Delft', 'James':'Rotterdam', 'Mary':'Delft'}"
   ]
  },
  {
   "cell_type": "code",
   "execution_count": 11,
   "metadata": {
    "deletable": false,
    "editable": true,
    "execution": {
     "iopub.execute_input": "2022-08-05T15:06:24.770648Z",
     "iopub.status.busy": "2022-08-05T15:06:24.770274Z",
     "iopub.status.idle": "2022-08-05T15:06:24.773848Z",
     "shell.execute_reply": "2022-08-05T15:06:24.773067Z"
    }
   },
   "outputs": [],
   "source": [
    "%%assignment\n",
    "### ENTER YOUR CODE HERE"
   ]
  },
  {
   "cell_type": "code",
   "execution_count": 12,
   "metadata": {
    "deletable": false,
    "editable": false,
    "execution": {
     "iopub.execute_input": "2022-08-05T15:06:24.776105Z",
     "iopub.status.busy": "2022-08-05T15:06:24.775817Z",
     "iopub.status.idle": "2022-08-05T15:06:24.781011Z",
     "shell.execute_reply": "2022-08-05T15:06:24.780387Z"
    }
   },
   "outputs": [
    {
     "data": {
      "text/html": [
       "<table><tr style=\"background: red; color: white\"><td style=\"text-align:left\">The result should be {'Delft', 'Rotterdam'} for testcase students = {'Lucy':'Delft', 'James':'Rotterdam', 'Mary':'Delft'} </td></tr></table>"
      ],
      "text/plain": [
       "<IPython.core.display.HTML object>"
      ]
     },
     "metadata": {
      "text/html": {
       "username": "jeroen"
      }
     },
     "output_type": "display_data"
    }
   ],
   "source": [
    "%%check\n",
    "students = {'Lucy':'Delft', 'James':'Rotterdam', 'Mary':'Delft'}\n",
    "result == {'Delft', 'Rotterdam'}\n",
    "students = {'Lucy':'Delft', 'James':'Delft', 'Mary':'Delft'}\n",
    "result == {'Delft'}"
   ]
  },
  {
   "cell_type": "markdown",
   "metadata": {},
   "source": [
    "# Consider a hand of 5 playing cards, count how many different suits there are.\n",
    "\n",
    "The suits are clubs (♣), diamonds (♦), hearts (♥), and spades (♠). The suit of a card is always at the end of the String.\n",
    "\n",
    "Hint: you can create a set comprehension that contains just the suits and then count the number of elements."
   ]
  },
  {
   "cell_type": "code",
   "execution_count": 13,
   "metadata": {
    "execution": {
     "iopub.execute_input": "2022-08-05T15:06:24.783356Z",
     "iopub.status.busy": "2022-08-05T15:06:24.783117Z",
     "iopub.status.idle": "2022-08-05T15:06:24.786528Z",
     "shell.execute_reply": "2022-08-05T15:06:24.785777Z"
    }
   },
   "outputs": [],
   "source": [
    "hand = ['10♥', '5♣', '9♣', '10♦', 'Q♥']"
   ]
  },
  {
   "cell_type": "code",
   "execution_count": 14,
   "metadata": {
    "deletable": false,
    "editable": true,
    "execution": {
     "iopub.execute_input": "2022-08-05T15:06:24.788589Z",
     "iopub.status.busy": "2022-08-05T15:06:24.788366Z",
     "iopub.status.idle": "2022-08-05T15:06:24.792035Z",
     "shell.execute_reply": "2022-08-05T15:06:24.791359Z"
    }
   },
   "outputs": [],
   "source": [
    "%%assignment\n",
    "### ENTER YOUR CODE HERE"
   ]
  },
  {
   "cell_type": "code",
   "execution_count": 15,
   "metadata": {
    "deletable": false,
    "editable": false,
    "execution": {
     "iopub.execute_input": "2022-08-05T15:06:24.794227Z",
     "iopub.status.busy": "2022-08-05T15:06:24.793938Z",
     "iopub.status.idle": "2022-08-05T15:06:24.799126Z",
     "shell.execute_reply": "2022-08-05T15:06:24.798468Z"
    }
   },
   "outputs": [
    {
     "data": {
      "text/html": [
       "<table><tr style=\"background: red; color: white\"><td style=\"text-align:left\">The result should be 1 for testcase hand = ['10♠', '5♠', '9♠', '10♠', 'Q♠'] </td></tr></table>"
      ],
      "text/plain": [
       "<IPython.core.display.HTML object>"
      ]
     },
     "metadata": {
      "text/html": {
       "username": "jeroen"
      }
     },
     "output_type": "display_data"
    }
   ],
   "source": [
    "%%check\n",
    "hand = ['10♠', '5♠', '9♠', '10♠', 'Q♠']\n",
    "result == 1\n",
    "hand = ['10♥', '5♣', '9♣', '10♦', 'Q♥']\n",
    "result == 3"
   ]
  }
 ],
 "metadata": {
  "celltoolbar": "Create Assignment",
  "kernelspec": {
   "display_name": "prog",
   "language": "python",
   "name": "prog"
  },
  "language_info": {
   "codemirror_mode": {
    "name": "ipython",
    "version": 3
   },
   "file_extension": ".py",
   "mimetype": "text/x-python",
   "name": "python",
   "nbconvert_exporter": "python",
   "pygments_lexer": "ipython3",
   "version": "3.9.12"
  }
 },
 "nbformat": 4,
 "nbformat_minor": 4
}
