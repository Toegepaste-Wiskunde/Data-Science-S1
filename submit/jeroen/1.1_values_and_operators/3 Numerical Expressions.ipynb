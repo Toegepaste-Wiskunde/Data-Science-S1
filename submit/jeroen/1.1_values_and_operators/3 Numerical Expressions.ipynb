{
 "cells": [
  {
   "cell_type": "markdown",
   "metadata": {},
   "source": [
    "# Numerical Expressions\n",
    "\n",
    "We can use numeric values in expressions to compute results. Writing expressions is very straightforward like `1 + 3 - 2`. However, Python sometimes uses different symbols from what you are used to in mathematics:\n",
    "\n",
    "| Mathemetics | Python         | Result          |\n",
    "| :-----------| :--------------| ---------------|\n",
    "| $2 + 3$     | `2 + 3`        | 5               |\n",
    "| $5 - 1$     | `5 - 1`        | 4 |\n",
    "| $5 \\cdot 2$ | `5 * 2` | 10|\n",
    "| $\\frac{5}{2}$ | `5 / 2` | 2.5 |\n",
    "| $5^2$ | `5 ** 2` | 25 |\n",
    "| $\\sqrt{4}$ | `4 ** 0.5` | 2.0 |\n",
    "| $3 \\cdot ( 4 + 2 )$ | `3 * (4 + 2)` | 18 | "
   ]
  },
  {
   "cell_type": "markdown",
   "metadata": {},
   "source": [
    "### Example\n",
    "\n",
    "$ 2 + 10 - \\frac{1}{2} $"
   ]
  },
  {
   "cell_type": "code",
   "execution_count": 1,
   "metadata": {
    "execution": {
     "iopub.execute_input": "2022-08-05T15:06:44.159424Z",
     "iopub.status.busy": "2022-08-05T15:06:44.158226Z",
     "iopub.status.idle": "2022-08-05T15:06:44.179458Z",
     "shell.execute_reply": "2022-08-05T15:06:44.178540Z"
    }
   },
   "outputs": [
    {
     "data": {
      "text/plain": [
       "11.5"
      ]
     },
     "execution_count": 1,
     "metadata": {},
     "output_type": "execute_result"
    }
   ],
   "source": [
    "2 + 10 - 1/2"
   ]
  },
  {
   "cell_type": "markdown",
   "metadata": {},
   "source": [
    "### Write $ 2 + 2.5 - 1 $"
   ]
  },
  {
   "cell_type": "code",
   "execution_count": 2,
   "metadata": {
    "execution": {
     "iopub.execute_input": "2022-08-05T15:06:44.183547Z",
     "iopub.status.busy": "2022-08-05T15:06:44.183283Z",
     "iopub.status.idle": "2022-08-05T15:06:44.188884Z",
     "shell.execute_reply": "2022-08-05T15:06:44.188188Z"
    },
    "nbgrader": {
     "grade": false,
     "grade_id": "cell-f6d0300e8fa7d253",
     "locked": false,
     "schema_version": 3,
     "solution": true,
     "task": false
    }
   },
   "outputs": [
    {
     "data": {
      "text/plain": [
       "3.5"
      ]
     },
     "execution_count": 2,
     "metadata": {},
     "output_type": "execute_result"
    }
   ],
   "source": [
    "%%assignment\n",
    "### BEGIN SOLUTION\n",
    "2 + 2.5 - 1\n",
    "### END SOLUTION"
   ]
  },
  {
   "cell_type": "code",
   "execution_count": 3,
   "metadata": {
    "execution": {
     "iopub.execute_input": "2022-08-05T15:06:44.192980Z",
     "iopub.status.busy": "2022-08-05T15:06:44.192704Z",
     "iopub.status.idle": "2022-08-05T15:06:44.197988Z",
     "shell.execute_reply": "2022-08-05T15:06:44.197315Z"
    },
    "nbgrader": {
     "grade": true,
     "grade_id": "cell-93e9c621bbf972e1",
     "locked": true,
     "points": 1,
     "schema_version": 3,
     "solution": false,
     "task": false
    }
   },
   "outputs": [
    {
     "data": {
      "text/html": [
       "<table><tr style=\"background: green; color: white\"><td style=\"text-align:left\">Correct!</td></tr></table>"
      ],
      "text/plain": [
       "<IPython.core.display.HTML object>"
      ]
     },
     "metadata": {
      "text/html": {
       "username": "jeroen"
      }
     },
     "output_type": "display_data"
    }
   ],
   "source": [
    "%%check\n",
    "result == 3.5\n",
    "mandatory 1 2 5 - + .\n",
    "forbidden 3.5"
   ]
  },
  {
   "cell_type": "markdown",
   "metadata": {},
   "source": [
    "### Write $ 10 - 2 - 1 $"
   ]
  },
  {
   "cell_type": "code",
   "execution_count": 4,
   "metadata": {
    "execution": {
     "iopub.execute_input": "2022-08-05T15:06:44.200851Z",
     "iopub.status.busy": "2022-08-05T15:06:44.200578Z",
     "iopub.status.idle": "2022-08-05T15:06:44.205579Z",
     "shell.execute_reply": "2022-08-05T15:06:44.204894Z"
    },
    "nbgrader": {
     "grade": false,
     "grade_id": "cell-7eb515009bd870fe",
     "locked": false,
     "schema_version": 3,
     "solution": true,
     "task": false
    }
   },
   "outputs": [
    {
     "data": {
      "text/plain": [
       "7"
      ]
     },
     "execution_count": 4,
     "metadata": {},
     "output_type": "execute_result"
    }
   ],
   "source": [
    "%%assignment\n",
    "### BEGIN SOLUTION\n",
    "10 - 2 - 1\n",
    "### END SOLUTION"
   ]
  },
  {
   "cell_type": "code",
   "execution_count": 5,
   "metadata": {
    "execution": {
     "iopub.execute_input": "2022-08-05T15:06:44.207975Z",
     "iopub.status.busy": "2022-08-05T15:06:44.207707Z",
     "iopub.status.idle": "2022-08-05T15:06:44.212609Z",
     "shell.execute_reply": "2022-08-05T15:06:44.211973Z"
    },
    "nbgrader": {
     "grade": true,
     "grade_id": "cell-2daa5510646f39e3",
     "locked": true,
     "points": 1,
     "schema_version": 3,
     "solution": false,
     "task": false
    }
   },
   "outputs": [
    {
     "data": {
      "text/html": [
       "<table><tr style=\"background: green; color: white\"><td style=\"text-align:left\">Correct!</td></tr></table>"
      ],
      "text/plain": [
       "<IPython.core.display.HTML object>"
      ]
     },
     "metadata": {
      "text/html": {
       "username": "jeroen"
      }
     },
     "output_type": "display_data"
    }
   ],
   "source": [
    "%%check\n",
    "result == 7\n",
    "mandatory 1 2 0 -\n",
    "forbidden 7"
   ]
  },
  {
   "cell_type": "markdown",
   "metadata": {},
   "source": [
    "### Write $ \\sqrt{6 + 3} $"
   ]
  },
  {
   "cell_type": "code",
   "execution_count": 6,
   "metadata": {
    "execution": {
     "iopub.execute_input": "2022-08-05T15:06:44.214908Z",
     "iopub.status.busy": "2022-08-05T15:06:44.214630Z",
     "iopub.status.idle": "2022-08-05T15:06:44.219446Z",
     "shell.execute_reply": "2022-08-05T15:06:44.218807Z"
    },
    "nbgrader": {
     "grade": false,
     "grade_id": "cell-50e42c28a3030774",
     "locked": false,
     "schema_version": 3,
     "solution": true,
     "task": false
    }
   },
   "outputs": [
    {
     "data": {
      "text/plain": [
       "3.0"
      ]
     },
     "execution_count": 6,
     "metadata": {},
     "output_type": "execute_result"
    }
   ],
   "source": [
    "%%assignment\n",
    "### BEGIN SOLUTION\n",
    "(6 + 3) ** 0.5\n",
    "### END SOLUTION"
   ]
  },
  {
   "cell_type": "code",
   "execution_count": 7,
   "metadata": {
    "execution": {
     "iopub.execute_input": "2022-08-05T15:06:44.221555Z",
     "iopub.status.busy": "2022-08-05T15:06:44.221300Z",
     "iopub.status.idle": "2022-08-05T15:06:44.226308Z",
     "shell.execute_reply": "2022-08-05T15:06:44.225662Z"
    },
    "nbgrader": {
     "grade": true,
     "grade_id": "cell-81e0b0dc15251dec",
     "locked": true,
     "points": 1,
     "schema_version": 3,
     "solution": false,
     "task": false
    }
   },
   "outputs": [
    {
     "data": {
      "text/html": [
       "<table><tr style=\"background: green; color: white\"><td style=\"text-align:left\">Correct!</td></tr></table>"
      ],
      "text/plain": [
       "<IPython.core.display.HTML object>"
      ]
     },
     "metadata": {
      "text/html": {
       "username": "jeroen"
      }
     },
     "output_type": "display_data"
    }
   ],
   "source": [
    "%%check\n",
    "result == 3.0\n",
    "mandatory 3 6 + ( )\n",
    "forbidden 9"
   ]
  },
  {
   "cell_type": "markdown",
   "metadata": {},
   "source": [
    "### Write $ 3 \\cdot 2^4 $"
   ]
  },
  {
   "cell_type": "code",
   "execution_count": 8,
   "metadata": {
    "execution": {
     "iopub.execute_input": "2022-08-05T15:06:44.229232Z",
     "iopub.status.busy": "2022-08-05T15:06:44.229003Z",
     "iopub.status.idle": "2022-08-05T15:06:44.233917Z",
     "shell.execute_reply": "2022-08-05T15:06:44.233270Z"
    },
    "nbgrader": {
     "grade": false,
     "grade_id": "cell-84285315a622d1ed",
     "locked": false,
     "schema_version": 3,
     "solution": true,
     "task": false
    }
   },
   "outputs": [
    {
     "data": {
      "text/plain": [
       "48"
      ]
     },
     "execution_count": 8,
     "metadata": {},
     "output_type": "execute_result"
    }
   ],
   "source": [
    "%%assignment\n",
    "### BEGIN SOLUTION\n",
    "3 * 2**4\n",
    "### END SOLUTION"
   ]
  },
  {
   "cell_type": "code",
   "execution_count": 9,
   "metadata": {
    "execution": {
     "iopub.execute_input": "2022-08-05T15:06:44.236565Z",
     "iopub.status.busy": "2022-08-05T15:06:44.236333Z",
     "iopub.status.idle": "2022-08-05T15:06:44.241092Z",
     "shell.execute_reply": "2022-08-05T15:06:44.240453Z"
    },
    "nbgrader": {
     "grade": true,
     "grade_id": "cell-4d9948fdb9f47ac5",
     "locked": true,
     "points": 1,
     "schema_version": 3,
     "solution": false,
     "task": false
    }
   },
   "outputs": [
    {
     "data": {
      "text/html": [
       "<table><tr style=\"background: green; color: white\"><td style=\"text-align:left\">Correct!</td></tr></table>"
      ],
      "text/plain": [
       "<IPython.core.display.HTML object>"
      ]
     },
     "metadata": {
      "text/html": {
       "username": "jeroen"
      }
     },
     "output_type": "display_data"
    }
   ],
   "source": [
    "%%check\n",
    "result == 48\n",
    "mandatory 2 3 4 * \n",
    "forbidden 8"
   ]
  },
  {
   "cell_type": "markdown",
   "metadata": {},
   "source": [
    "### Write $ \\frac{3.5 + 2.5}{6} $"
   ]
  },
  {
   "cell_type": "code",
   "execution_count": 10,
   "metadata": {
    "execution": {
     "iopub.execute_input": "2022-08-05T15:06:44.243394Z",
     "iopub.status.busy": "2022-08-05T15:06:44.243153Z",
     "iopub.status.idle": "2022-08-05T15:06:44.248006Z",
     "shell.execute_reply": "2022-08-05T15:06:44.247218Z"
    },
    "nbgrader": {
     "grade": false,
     "grade_id": "cell-63dfdbe051ee53fc",
     "locked": false,
     "schema_version": 3,
     "solution": true,
     "task": false
    }
   },
   "outputs": [
    {
     "data": {
      "text/plain": [
       "1.0"
      ]
     },
     "execution_count": 10,
     "metadata": {},
     "output_type": "execute_result"
    }
   ],
   "source": [
    "%%assignment\n",
    "### BEGIN SOLUTION\n",
    "(3.5 + 2.5) / 6\n",
    "### END SOLUTION"
   ]
  },
  {
   "cell_type": "code",
   "execution_count": 11,
   "metadata": {
    "execution": {
     "iopub.execute_input": "2022-08-05T15:06:44.250242Z",
     "iopub.status.busy": "2022-08-05T15:06:44.249989Z",
     "iopub.status.idle": "2022-08-05T15:06:44.254838Z",
     "shell.execute_reply": "2022-08-05T15:06:44.254194Z"
    },
    "nbgrader": {
     "grade": true,
     "grade_id": "cell-80fe7a205bf0b9cf",
     "locked": true,
     "points": 1,
     "schema_version": 3,
     "solution": false,
     "task": false
    }
   },
   "outputs": [
    {
     "data": {
      "text/html": [
       "<table><tr style=\"background: green; color: white\"><td style=\"text-align:left\">Correct!</td></tr></table>"
      ],
      "text/plain": [
       "<IPython.core.display.HTML object>"
      ]
     },
     "metadata": {
      "text/html": {
       "username": "jeroen"
      }
     },
     "output_type": "display_data"
    }
   ],
   "source": [
    "%%check\n",
    "result == 1\n",
    "mandatory 2 3 5 6 . + ( )\n",
    "forbidden 1"
   ]
  },
  {
   "cell_type": "markdown",
   "metadata": {},
   "source": [
    "### Write $ 2^{20 + 1} + 2^{20} $"
   ]
  },
  {
   "cell_type": "code",
   "execution_count": 12,
   "metadata": {
    "execution": {
     "iopub.execute_input": "2022-08-05T15:06:44.257005Z",
     "iopub.status.busy": "2022-08-05T15:06:44.256757Z",
     "iopub.status.idle": "2022-08-05T15:06:44.261419Z",
     "shell.execute_reply": "2022-08-05T15:06:44.260793Z"
    },
    "nbgrader": {
     "grade": false,
     "grade_id": "cell-a2d0f1a5194fa150",
     "locked": false,
     "schema_version": 3,
     "solution": true,
     "task": false
    }
   },
   "outputs": [
    {
     "data": {
      "text/plain": [
       "3145728"
      ]
     },
     "execution_count": 12,
     "metadata": {},
     "output_type": "execute_result"
    }
   ],
   "source": [
    "%%assignment\n",
    "### BEGIN SOLUTION\n",
    "2 ** (20 + 1) + 2 ** 20\n",
    "### END SOLUTION"
   ]
  },
  {
   "cell_type": "code",
   "execution_count": 13,
   "metadata": {
    "execution": {
     "iopub.execute_input": "2022-08-05T15:06:44.263459Z",
     "iopub.status.busy": "2022-08-05T15:06:44.263220Z",
     "iopub.status.idle": "2022-08-05T15:06:44.268111Z",
     "shell.execute_reply": "2022-08-05T15:06:44.267399Z"
    },
    "nbgrader": {
     "grade": true,
     "grade_id": "cell-18ef51e4f0e1db1e",
     "locked": true,
     "points": 1,
     "schema_version": 3,
     "solution": false,
     "task": false
    }
   },
   "outputs": [
    {
     "data": {
      "text/html": [
       "<table><tr style=\"background: green; color: white\"><td style=\"text-align:left\">Correct!</td></tr></table>"
      ],
      "text/plain": [
       "<IPython.core.display.HTML object>"
      ]
     },
     "metadata": {
      "text/html": {
       "username": "jeroen"
      }
     },
     "output_type": "display_data"
    }
   ],
   "source": [
    "%%check\n",
    "result == 3145728\n",
    "mandatory 1 2 0 + ** ( )\n",
    "forbidden 3 4 5 8"
   ]
  },
  {
   "cell_type": "markdown",
   "metadata": {},
   "source": [
    "# Done? Please close your notebook with Close And Halt!"
   ]
  }
 ],
 "metadata": {
  "celltoolbar": "Create Assignment",
  "kernelspec": {
   "display_name": "prog",
   "language": "python",
   "name": "prog"
  },
  "language_info": {
   "codemirror_mode": {
    "name": "ipython",
    "version": 3
   },
   "file_extension": ".py",
   "mimetype": "text/x-python",
   "name": "python",
   "nbconvert_exporter": "python",
   "pygments_lexer": "ipython3",
   "version": "3.9.12"
  }
 },
 "nbformat": 4,
 "nbformat_minor": 4
}
