{
 "cells": [
  {
   "cell_type": "markdown",
   "metadata": {},
   "source": [
    "# Datatypes\n",
    "\n",
    "In Python, any value that we work with is of some datatype. It is important to understand the differences, since operations may give different results for different datatypes. Python has four primitive datatypes, primitive because they are the smallest elements/building blocks that make up all other data types:\n",
    "- Integers (ints): whole numbers\n",
    "- Floating Points (floats): decimal numbers and scientific notation\n",
    "- Strings: text\n",
    "- Booleans: True or False\n",
    "\n",
    "In this notebook, we will focus on the numeric types int and float. We will address Strings and Booleans in a later notebook."
   ]
  },
  {
   "cell_type": "markdown",
   "metadata": {},
   "source": [
    "# Integers (ints)\n",
    "\n",
    "An int is any whole numbers, including negative and zero. In Phython, the precision of ints is unlimited. This means that you can make an int number as large (or as small for negative numbers) as you like. And there is no way to assign Infinity to an int. We can write down a literal int (an int value) just as a number without a decimal point."
   ]
  },
  {
   "cell_type": "markdown",
   "metadata": {},
   "source": [
    "### Example"
   ]
  },
  {
   "cell_type": "code",
   "execution_count": 1,
   "metadata": {
    "execution": {
     "iopub.execute_input": "2022-08-05T15:06:42.916147Z",
     "iopub.status.busy": "2022-08-05T15:06:42.915635Z",
     "iopub.status.idle": "2022-08-05T15:06:42.938930Z",
     "shell.execute_reply": "2022-08-05T15:06:42.937866Z"
    }
   },
   "outputs": [
    {
     "data": {
      "text/plain": [
       "123"
      ]
     },
     "execution_count": 1,
     "metadata": {},
     "output_type": "execute_result"
    }
   ],
   "source": [
    "123"
   ]
  },
  {
   "cell_type": "markdown",
   "metadata": {},
   "source": [
    "### Write down the number 2,100,555 (so two million, one hundred thousand, five hundred and fifty five)"
   ]
  },
  {
   "cell_type": "code",
   "execution_count": 2,
   "metadata": {
    "execution": {
     "iopub.execute_input": "2022-08-05T15:06:42.943762Z",
     "iopub.status.busy": "2022-08-05T15:06:42.943386Z",
     "iopub.status.idle": "2022-08-05T15:06:42.949912Z",
     "shell.execute_reply": "2022-08-05T15:06:42.948933Z"
    },
    "nbgrader": {
     "grade": false,
     "grade_id": "cell-b0844c00badc4b98",
     "locked": false,
     "schema_version": 3,
     "solution": true,
     "task": false
    }
   },
   "outputs": [
    {
     "data": {
      "text/plain": [
       "2100555"
      ]
     },
     "execution_count": 2,
     "metadata": {},
     "output_type": "execute_result"
    }
   ],
   "source": [
    "%%assignment\n",
    "### BEGIN SOLUTION\n",
    "2100555\n",
    "### END SOLUTION"
   ]
  },
  {
   "cell_type": "code",
   "execution_count": 3,
   "metadata": {
    "execution": {
     "iopub.execute_input": "2022-08-05T15:06:42.954219Z",
     "iopub.status.busy": "2022-08-05T15:06:42.953863Z",
     "iopub.status.idle": "2022-08-05T15:06:42.960180Z",
     "shell.execute_reply": "2022-08-05T15:06:42.959221Z"
    },
    "nbgrader": {
     "grade": true,
     "grade_id": "cell-1421bbeb09d740a6",
     "locked": true,
     "points": 1,
     "schema_version": 3,
     "solution": false,
     "task": false
    }
   },
   "outputs": [
    {
     "data": {
      "text/html": [
       "<table><tr style=\"background: green; color: white\"><td style=\"text-align:left\">Correct!</td></tr></table>"
      ],
      "text/plain": [
       "<IPython.core.display.HTML object>"
      ]
     },
     "metadata": {
      "text/html": {
       "username": "jeroen"
      }
     },
     "output_type": "display_data"
    }
   ],
   "source": [
    "%%check\n",
    "result == 2100555.\n",
    "type int"
   ]
  },
  {
   "cell_type": "markdown",
   "metadata": {},
   "source": [
    "### display negative twenty-three"
   ]
  },
  {
   "cell_type": "code",
   "execution_count": 4,
   "metadata": {
    "execution": {
     "iopub.execute_input": "2022-08-05T15:06:42.964048Z",
     "iopub.status.busy": "2022-08-05T15:06:42.963689Z",
     "iopub.status.idle": "2022-08-05T15:06:42.969890Z",
     "shell.execute_reply": "2022-08-05T15:06:42.968930Z"
    },
    "nbgrader": {
     "grade": false,
     "grade_id": "cell-431638c6206c9977",
     "locked": false,
     "schema_version": 3,
     "solution": true,
     "task": false
    }
   },
   "outputs": [
    {
     "data": {
      "text/plain": [
       "-23"
      ]
     },
     "execution_count": 4,
     "metadata": {},
     "output_type": "execute_result"
    }
   ],
   "source": [
    "%%assignment\n",
    "### BEGIN SOLUTION\n",
    "-23\n",
    "### END SOLUTION"
   ]
  },
  {
   "cell_type": "code",
   "execution_count": 5,
   "metadata": {
    "execution": {
     "iopub.execute_input": "2022-08-05T15:06:42.973016Z",
     "iopub.status.busy": "2022-08-05T15:06:42.972658Z",
     "iopub.status.idle": "2022-08-05T15:06:42.978903Z",
     "shell.execute_reply": "2022-08-05T15:06:42.977981Z"
    },
    "nbgrader": {
     "grade": true,
     "grade_id": "cell-60862f145491953d",
     "locked": true,
     "points": 1,
     "schema_version": 3,
     "solution": false,
     "task": false
    }
   },
   "outputs": [
    {
     "data": {
      "text/html": [
       "<table><tr style=\"background: green; color: white\"><td style=\"text-align:left\">Correct!</td></tr></table>"
      ],
      "text/plain": [
       "<IPython.core.display.HTML object>"
      ]
     },
     "metadata": {
      "text/html": {
       "username": "jeroen"
      }
     },
     "output_type": "display_data"
    }
   ],
   "source": [
    "%%check\n",
    "result == -23.\n",
    "type int"
   ]
  },
  {
   "cell_type": "markdown",
   "metadata": {},
   "source": [
    "### display a 1 with 90 zero's"
   ]
  },
  {
   "cell_type": "code",
   "execution_count": 6,
   "metadata": {
    "execution": {
     "iopub.execute_input": "2022-08-05T15:06:42.981694Z",
     "iopub.status.busy": "2022-08-05T15:06:42.981321Z",
     "iopub.status.idle": "2022-08-05T15:06:42.987274Z",
     "shell.execute_reply": "2022-08-05T15:06:42.986546Z"
    },
    "nbgrader": {
     "grade": false,
     "grade_id": "cell-cfa0909cef5bbc41",
     "locked": false,
     "schema_version": 3,
     "solution": true,
     "task": false
    }
   },
   "outputs": [
    {
     "data": {
      "text/plain": [
       "1000000000000000000000000000000000000000000000000000000000000000000000000000000000000000000"
      ]
     },
     "execution_count": 6,
     "metadata": {},
     "output_type": "execute_result"
    }
   ],
   "source": [
    "%%assignment\n",
    "### BEGIN SOLUTION\n",
    "1000000000000000000000000000000000000000000000000000000000000000000000000000000000000000000\n",
    "### END SOLUTION"
   ]
  },
  {
   "cell_type": "code",
   "execution_count": 7,
   "metadata": {
    "execution": {
     "iopub.execute_input": "2022-08-05T15:06:42.989894Z",
     "iopub.status.busy": "2022-08-05T15:06:42.989569Z",
     "iopub.status.idle": "2022-08-05T15:06:42.994817Z",
     "shell.execute_reply": "2022-08-05T15:06:42.994121Z"
    },
    "nbgrader": {
     "grade": true,
     "grade_id": "cell-6f25e10035bf1d67",
     "locked": true,
     "points": 1,
     "schema_version": 3,
     "solution": false,
     "task": false
    }
   },
   "outputs": [
    {
     "data": {
      "text/html": [
       "<table><tr style=\"background: green; color: white\"><td style=\"text-align:left\">Correct!</td></tr></table>"
      ],
      "text/plain": [
       "<IPython.core.display.HTML object>"
      ]
     },
     "metadata": {
      "text/html": {
       "username": "jeroen"
      }
     },
     "output_type": "display_data"
    }
   ],
   "source": [
    "%%check\n",
    "result == 10**90\n",
    "int"
   ]
  },
  {
   "cell_type": "markdown",
   "metadata": {},
   "source": [
    "# Floating points (floats)\n",
    "\n",
    "An float can be any decimal number. You write down a literal float as:\n",
    "- a number with a decimal point, e.g. 1.3, -253.598, 0.00013, 3.,  or\n",
    "- with scientific notation, e.g. 1.3e10 meaning $1.3 \\cdot 10^{10}$"
   ]
  },
  {
   "cell_type": "markdown",
   "metadata": {},
   "source": [
    "### Example (execute these cells)"
   ]
  },
  {
   "cell_type": "code",
   "execution_count": 8,
   "metadata": {
    "execution": {
     "iopub.execute_input": "2022-08-05T15:06:42.997629Z",
     "iopub.status.busy": "2022-08-05T15:06:42.997319Z",
     "iopub.status.idle": "2022-08-05T15:06:43.002035Z",
     "shell.execute_reply": "2022-08-05T15:06:43.001361Z"
    }
   },
   "outputs": [
    {
     "data": {
      "text/plain": [
       "1.3"
      ]
     },
     "execution_count": 8,
     "metadata": {},
     "output_type": "execute_result"
    }
   ],
   "source": [
    "1.3"
   ]
  },
  {
   "cell_type": "code",
   "execution_count": 9,
   "metadata": {
    "execution": {
     "iopub.execute_input": "2022-08-05T15:06:43.004422Z",
     "iopub.status.busy": "2022-08-05T15:06:43.004161Z",
     "iopub.status.idle": "2022-08-05T15:06:43.008760Z",
     "shell.execute_reply": "2022-08-05T15:06:43.008062Z"
    }
   },
   "outputs": [
    {
     "data": {
      "text/plain": [
       "-253.598"
      ]
     },
     "execution_count": 9,
     "metadata": {},
     "output_type": "execute_result"
    }
   ],
   "source": [
    "-253.598"
   ]
  },
  {
   "cell_type": "code",
   "execution_count": 10,
   "metadata": {
    "execution": {
     "iopub.execute_input": "2022-08-05T15:06:43.011218Z",
     "iopub.status.busy": "2022-08-05T15:06:43.010912Z",
     "iopub.status.idle": "2022-08-05T15:06:43.015610Z",
     "shell.execute_reply": "2022-08-05T15:06:43.014939Z"
    }
   },
   "outputs": [
    {
     "data": {
      "text/plain": [
       "3.0"
      ]
     },
     "execution_count": 10,
     "metadata": {},
     "output_type": "execute_result"
    }
   ],
   "source": [
    "3."
   ]
  },
  {
   "cell_type": "code",
   "execution_count": 11,
   "metadata": {
    "execution": {
     "iopub.execute_input": "2022-08-05T15:06:43.017694Z",
     "iopub.status.busy": "2022-08-05T15:06:43.017445Z",
     "iopub.status.idle": "2022-08-05T15:06:43.021924Z",
     "shell.execute_reply": "2022-08-05T15:06:43.021268Z"
    }
   },
   "outputs": [
    {
     "data": {
      "text/plain": [
       "13000000000.0"
      ]
     },
     "execution_count": 11,
     "metadata": {},
     "output_type": "execute_result"
    }
   ],
   "source": [
    "1.3e10"
   ]
  },
  {
   "cell_type": "markdown",
   "metadata": {},
   "source": [
    "### Write a float literal for the number 25"
   ]
  },
  {
   "cell_type": "code",
   "execution_count": 12,
   "metadata": {
    "execution": {
     "iopub.execute_input": "2022-08-05T15:06:43.024317Z",
     "iopub.status.busy": "2022-08-05T15:06:43.024014Z",
     "iopub.status.idle": "2022-08-05T15:06:43.028866Z",
     "shell.execute_reply": "2022-08-05T15:06:43.028225Z"
    },
    "nbgrader": {
     "grade": false,
     "grade_id": "cell-3871892cea839315",
     "locked": false,
     "schema_version": 3,
     "solution": true,
     "task": false
    }
   },
   "outputs": [
    {
     "data": {
      "text/plain": [
       "25.0"
      ]
     },
     "execution_count": 12,
     "metadata": {},
     "output_type": "execute_result"
    }
   ],
   "source": [
    "%%assignment\n",
    "### BEGIN SOLUTION\n",
    "25.\n",
    "### END SOLUTION"
   ]
  },
  {
   "cell_type": "code",
   "execution_count": 13,
   "metadata": {
    "execution": {
     "iopub.execute_input": "2022-08-05T15:06:43.031303Z",
     "iopub.status.busy": "2022-08-05T15:06:43.031004Z",
     "iopub.status.idle": "2022-08-05T15:06:43.035810Z",
     "shell.execute_reply": "2022-08-05T15:06:43.035184Z"
    },
    "nbgrader": {
     "grade": true,
     "grade_id": "cell-f01e49dc375e54c2",
     "locked": true,
     "points": 1,
     "schema_version": 3,
     "solution": false,
     "task": false
    }
   },
   "outputs": [
    {
     "data": {
      "text/html": [
       "<table><tr style=\"background: green; color: white\"><td style=\"text-align:left\">Correct!</td></tr></table>"
      ],
      "text/plain": [
       "<IPython.core.display.HTML object>"
      ]
     },
     "metadata": {
      "text/html": {
       "username": "jeroen"
      }
     },
     "output_type": "display_data"
    }
   ],
   "source": [
    "%%check\n",
    "result == 25\n",
    "float"
   ]
  },
  {
   "cell_type": "markdown",
   "metadata": {},
   "source": [
    "### Write a float literal for the first three digits of $\\pi$"
   ]
  },
  {
   "cell_type": "code",
   "execution_count": 14,
   "metadata": {
    "execution": {
     "iopub.execute_input": "2022-08-05T15:06:43.038311Z",
     "iopub.status.busy": "2022-08-05T15:06:43.038016Z",
     "iopub.status.idle": "2022-08-05T15:06:43.042794Z",
     "shell.execute_reply": "2022-08-05T15:06:43.042151Z"
    },
    "nbgrader": {
     "grade": false,
     "grade_id": "cell-c2ca59bbb617c0c2",
     "locked": false,
     "schema_version": 3,
     "solution": true,
     "task": false
    }
   },
   "outputs": [
    {
     "data": {
      "text/plain": [
       "3.14"
      ]
     },
     "execution_count": 14,
     "metadata": {},
     "output_type": "execute_result"
    }
   ],
   "source": [
    "%%assignment\n",
    "### BEGIN SOLUTION\n",
    "3.14\n",
    "### END SOLUTION"
   ]
  },
  {
   "cell_type": "code",
   "execution_count": 15,
   "metadata": {
    "execution": {
     "iopub.execute_input": "2022-08-05T15:06:43.044976Z",
     "iopub.status.busy": "2022-08-05T15:06:43.044728Z",
     "iopub.status.idle": "2022-08-05T15:06:43.049255Z",
     "shell.execute_reply": "2022-08-05T15:06:43.048638Z"
    },
    "nbgrader": {
     "grade": true,
     "grade_id": "cell-41d260f4522ef6b8",
     "locked": true,
     "points": 1,
     "schema_version": 3,
     "solution": false,
     "task": false
    }
   },
   "outputs": [
    {
     "data": {
      "text/html": [
       "<table><tr style=\"background: green; color: white\"><td style=\"text-align:left\">Correct!</td></tr></table>"
      ],
      "text/plain": [
       "<IPython.core.display.HTML object>"
      ]
     },
     "metadata": {
      "text/html": {
       "username": "jeroen"
      }
     },
     "output_type": "display_data"
    }
   ],
   "source": [
    "%%check\n",
    "result == 314/100\n",
    "float"
   ]
  },
  {
   "cell_type": "markdown",
   "metadata": {},
   "source": [
    "### Write a hundred million in scientific notation"
   ]
  },
  {
   "cell_type": "code",
   "execution_count": 16,
   "metadata": {
    "execution": {
     "iopub.execute_input": "2022-08-05T15:06:43.051571Z",
     "iopub.status.busy": "2022-08-05T15:06:43.051278Z",
     "iopub.status.idle": "2022-08-05T15:06:43.056112Z",
     "shell.execute_reply": "2022-08-05T15:06:43.055495Z"
    },
    "nbgrader": {
     "grade": false,
     "grade_id": "cell-03067b43e5dd2759",
     "locked": false,
     "schema_version": 3,
     "solution": true,
     "task": false
    }
   },
   "outputs": [
    {
     "data": {
      "text/plain": [
       "100000000.0"
      ]
     },
     "execution_count": 16,
     "metadata": {},
     "output_type": "execute_result"
    }
   ],
   "source": [
    "%%assignment\n",
    "### BEGIN SOLUTION\n",
    "1e8\n",
    "### END SOLUTION"
   ]
  },
  {
   "cell_type": "code",
   "execution_count": 17,
   "metadata": {
    "execution": {
     "iopub.execute_input": "2022-08-05T15:06:43.058248Z",
     "iopub.status.busy": "2022-08-05T15:06:43.058025Z",
     "iopub.status.idle": "2022-08-05T15:06:43.062906Z",
     "shell.execute_reply": "2022-08-05T15:06:43.061926Z"
    },
    "nbgrader": {
     "grade": true,
     "grade_id": "cell-52ec9f02ba973f91",
     "locked": true,
     "points": 1,
     "schema_version": 3,
     "solution": false,
     "task": false
    }
   },
   "outputs": [
    {
     "data": {
      "text/html": [
       "<table><tr style=\"background: green; color: white\"><td style=\"text-align:left\">Correct!</td></tr></table>"
      ],
      "text/plain": [
       "<IPython.core.display.HTML object>"
      ]
     },
     "metadata": {
      "text/html": {
       "username": "jeroen"
      }
     },
     "output_type": "display_data"
    }
   ],
   "source": [
    "%%check\n",
    "result == 100000000\n",
    "mandatory 1 e\n",
    "float"
   ]
  },
  {
   "cell_type": "markdown",
   "metadata": {},
   "source": [
    "# Done? Please close your notebook with Close And Halt!"
   ]
  },
  {
   "cell_type": "code",
   "execution_count": null,
   "metadata": {},
   "outputs": [],
   "source": []
  }
 ],
 "metadata": {
  "celltoolbar": "Create Assignment",
  "kernelspec": {
   "display_name": "prog",
   "language": "python",
   "name": "prog"
  },
  "language_info": {
   "codemirror_mode": {
    "name": "ipython",
    "version": 3
   },
   "file_extension": ".py",
   "mimetype": "text/x-python",
   "name": "python",
   "nbconvert_exporter": "python",
   "pygments_lexer": "ipython3",
   "version": "3.9.12"
  }
 },
 "nbformat": 4,
 "nbformat_minor": 4
}
