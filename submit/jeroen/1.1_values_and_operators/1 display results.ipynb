{
 "cells": [
  {
   "cell_type": "markdown",
   "metadata": {},
   "source": [
    "# Assignment Notebook\n",
    "\n",
    "Welcome to your first assignment notebook. In these notebooks, we will first give you a brief instruction, followed by an example and then a few assignments for your to complete. You can run any cell by selecting it and either clicking `Run` or pressing `Shift-Enter`. Run the example(s), fill in the assignments and run the assignment and the corresponding check right after eachother. Change your answer until you see a green Correct! message. "
   ]
  },
  {
   "cell_type": "markdown",
   "metadata": {},
   "source": [
    "# Displaying results\n",
    "\n",
    "Traditionally, the first thing you learn when learning a programming language, is how to display the text \"Hello, World!\". In a Python Notebook, we can literally type 'Hello, World!' inbetween single or double quotes. "
   ]
  },
  {
   "cell_type": "markdown",
   "metadata": {},
   "source": [
    "### Example\n",
    "\n",
    "You can run the following example by selecting the cell below and either clicking `Run` or pressing `Shift-Enter`."
   ]
  },
  {
   "cell_type": "code",
   "execution_count": 1,
   "metadata": {
    "execution": {
     "iopub.execute_input": "2022-08-05T15:06:45.348008Z",
     "iopub.status.busy": "2022-08-05T15:06:45.347375Z",
     "iopub.status.idle": "2022-08-05T15:06:45.371639Z",
     "shell.execute_reply": "2022-08-05T15:06:45.370891Z"
    }
   },
   "outputs": [
    {
     "data": {
      "text/plain": [
       "'Hello, World!'"
      ]
     },
     "execution_count": 1,
     "metadata": {},
     "output_type": "execute_result"
    }
   ],
   "source": [
    "'Hello, World!'"
   ]
  },
  {
   "cell_type": "markdown",
   "metadata": {},
   "source": [
    "### Show the text: 'Goodbye!'\n",
    "\n",
    "Note: for your assignment to pass the test, that texts are case-sensitive, e.g. 'G' is not the same as 'g'. There also should not be any whitespace in between."
   ]
  },
  {
   "cell_type": "code",
   "execution_count": 2,
   "metadata": {
    "execution": {
     "iopub.execute_input": "2022-08-05T15:06:45.376738Z",
     "iopub.status.busy": "2022-08-05T15:06:45.376414Z",
     "iopub.status.idle": "2022-08-05T15:06:45.382789Z",
     "shell.execute_reply": "2022-08-05T15:06:45.381858Z"
    },
    "nbgrader": {
     "grade": false,
     "grade_id": "cell-cfa0909cef5bbc41",
     "locked": false,
     "schema_version": 3,
     "solution": true,
     "task": false
    }
   },
   "outputs": [
    {
     "data": {
      "text/plain": [
       "'Goodbye!'"
      ]
     },
     "execution_count": 2,
     "metadata": {},
     "output_type": "execute_result"
    }
   ],
   "source": [
    "%%assignment\n",
    "### BEGIN SOLUTION\n",
    "'Goodbye!'\n",
    "### END SOLUTION"
   ]
  },
  {
   "cell_type": "code",
   "execution_count": 3,
   "metadata": {
    "execution": {
     "iopub.execute_input": "2022-08-05T15:06:45.387365Z",
     "iopub.status.busy": "2022-08-05T15:06:45.386469Z",
     "iopub.status.idle": "2022-08-05T15:06:45.394658Z",
     "shell.execute_reply": "2022-08-05T15:06:45.393640Z"
    },
    "nbgrader": {
     "grade": true,
     "grade_id": "cell-6f25e10035bf1d67",
     "locked": true,
     "points": 1,
     "schema_version": 3,
     "solution": false,
     "task": false
    }
   },
   "outputs": [
    {
     "data": {
      "text/html": [
       "<table><tr style=\"background: green; color: white\"><td style=\"text-align:left\">Correct!</td></tr></table>"
      ],
      "text/plain": [
       "<IPython.core.display.HTML object>"
      ]
     },
     "metadata": {
      "text/html": {
       "username": "jeroen"
      }
     },
     "output_type": "display_data"
    }
   ],
   "source": [
    "%%check\n",
    "result == 'Goodbye!'"
   ]
  },
  {
   "cell_type": "markdown",
   "metadata": {},
   "source": [
    "### Show the number 2\n",
    "\n",
    "Note: There is a difference between a text '2' (between quotes) and the number 2 (without quotes). For instance, you can do calculations on numbers but not on texts. So enter the number 2 here (Between ### BEGIN SOLUTION and ### END SOLUTION)."
   ]
  },
  {
   "cell_type": "code",
   "execution_count": 4,
   "metadata": {
    "execution": {
     "iopub.execute_input": "2022-08-05T15:06:45.398433Z",
     "iopub.status.busy": "2022-08-05T15:06:45.397770Z",
     "iopub.status.idle": "2022-08-05T15:06:45.405169Z",
     "shell.execute_reply": "2022-08-05T15:06:45.404315Z"
    },
    "nbgrader": {
     "grade": false,
     "grade_id": "cell-0771088871c0dc9f",
     "locked": false,
     "schema_version": 3,
     "solution": true,
     "task": false
    }
   },
   "outputs": [
    {
     "data": {
      "text/plain": [
       "2"
      ]
     },
     "execution_count": 4,
     "metadata": {},
     "output_type": "execute_result"
    }
   ],
   "source": [
    "%%assignment\n",
    "### BEGIN SOLUTION\n",
    "2\n",
    "### END SOLUTION"
   ]
  },
  {
   "cell_type": "code",
   "execution_count": 5,
   "metadata": {
    "execution": {
     "iopub.execute_input": "2022-08-05T15:06:45.408406Z",
     "iopub.status.busy": "2022-08-05T15:06:45.408108Z",
     "iopub.status.idle": "2022-08-05T15:06:45.415360Z",
     "shell.execute_reply": "2022-08-05T15:06:45.414311Z"
    },
    "nbgrader": {
     "grade": true,
     "grade_id": "cell-c7ae09e77b5c6d0a",
     "locked": true,
     "points": 1,
     "schema_version": 3,
     "solution": false,
     "task": false
    }
   },
   "outputs": [
    {
     "data": {
      "text/html": [
       "<table><tr style=\"background: green; color: white\"><td style=\"text-align:left\">Correct!</td></tr></table>"
      ],
      "text/plain": [
       "<IPython.core.display.HTML object>"
      ]
     },
     "metadata": {
      "text/html": {
       "username": "jeroen"
      }
     },
     "output_type": "display_data"
    }
   ],
   "source": [
    "%%check\n",
    "result == 2"
   ]
  },
  {
   "cell_type": "markdown",
   "metadata": {},
   "source": [
    "### Show the number 3.14\n",
    "Note that computers, like calculators, use English notation for the decimal separator, a dot."
   ]
  },
  {
   "cell_type": "code",
   "execution_count": 6,
   "metadata": {
    "execution": {
     "iopub.execute_input": "2022-08-05T15:06:45.419242Z",
     "iopub.status.busy": "2022-08-05T15:06:45.418643Z",
     "iopub.status.idle": "2022-08-05T15:06:45.426366Z",
     "shell.execute_reply": "2022-08-05T15:06:45.425468Z"
    },
    "nbgrader": {
     "grade": false,
     "grade_id": "cell-540de1c4f489423b",
     "locked": false,
     "schema_version": 3,
     "solution": true,
     "task": false
    }
   },
   "outputs": [
    {
     "data": {
      "text/plain": [
       "3.14"
      ]
     },
     "execution_count": 6,
     "metadata": {},
     "output_type": "execute_result"
    }
   ],
   "source": [
    "%%assignment\n",
    "### BEGIN SOLUTION\n",
    "3.14\n",
    "### END SOLUTION"
   ]
  },
  {
   "cell_type": "code",
   "execution_count": 7,
   "metadata": {
    "execution": {
     "iopub.execute_input": "2022-08-05T15:06:45.429869Z",
     "iopub.status.busy": "2022-08-05T15:06:45.429283Z",
     "iopub.status.idle": "2022-08-05T15:06:45.435892Z",
     "shell.execute_reply": "2022-08-05T15:06:45.435085Z"
    },
    "nbgrader": {
     "grade": true,
     "grade_id": "cell-5860aa6576b604ad",
     "locked": true,
     "points": 1,
     "schema_version": 3,
     "solution": false,
     "task": false
    }
   },
   "outputs": [
    {
     "data": {
      "text/html": [
       "<table><tr style=\"background: green; color: white\"><td style=\"text-align:left\">Correct!</td></tr></table>"
      ],
      "text/plain": [
       "<IPython.core.display.HTML object>"
      ]
     },
     "metadata": {
      "text/html": {
       "username": "jeroen"
      }
     },
     "output_type": "display_data"
    }
   ],
   "source": [
    "%%check\n",
    "result == 3.14"
   ]
  },
  {
   "cell_type": "markdown",
   "metadata": {},
   "source": [
    "## Print\n",
    "\n",
    "Notebooks cells with Python code will automatically display only the result of the last line. You can see that when you run the next cell. Sometimes, you will want to display more results. For this, you can use the `print()` statement. In between the parenthesis (), you can list multiple things you want printed.\n",
    "\n",
    "Note: in these notebook assignments, anything output by print() is ignored when grading. So you may use this for the purpose of finding mistakes in your code."
   ]
  },
  {
   "cell_type": "code",
   "execution_count": 8,
   "metadata": {
    "execution": {
     "iopub.execute_input": "2022-08-05T15:06:45.439077Z",
     "iopub.status.busy": "2022-08-05T15:06:45.438664Z",
     "iopub.status.idle": "2022-08-05T15:06:45.444452Z",
     "shell.execute_reply": "2022-08-05T15:06:45.443727Z"
    }
   },
   "outputs": [
    {
     "data": {
      "text/plain": [
       "3"
      ]
     },
     "execution_count": 8,
     "metadata": {},
     "output_type": "execute_result"
    }
   ],
   "source": [
    "2\n",
    "3"
   ]
  },
  {
   "cell_type": "code",
   "execution_count": 9,
   "metadata": {
    "execution": {
     "iopub.execute_input": "2022-08-05T15:06:45.447422Z",
     "iopub.status.busy": "2022-08-05T15:06:45.447074Z",
     "iopub.status.idle": "2022-08-05T15:06:45.452097Z",
     "shell.execute_reply": "2022-08-05T15:06:45.451180Z"
    }
   },
   "outputs": [
    {
     "name": "stdout",
     "output_type": "stream",
     "text": [
      "2\n",
      "3\n"
     ]
    }
   ],
   "source": [
    "print(2)\n",
    "print(3)"
   ]
  },
  {
   "cell_type": "code",
   "execution_count": 10,
   "metadata": {
    "execution": {
     "iopub.execute_input": "2022-08-05T15:06:45.454960Z",
     "iopub.status.busy": "2022-08-05T15:06:45.454456Z",
     "iopub.status.idle": "2022-08-05T15:06:45.459488Z",
     "shell.execute_reply": "2022-08-05T15:06:45.458573Z"
    }
   },
   "outputs": [
    {
     "name": "stdout",
     "output_type": "stream",
     "text": [
      "2 3\n",
      "Hello, World!\n",
      "3.14\n",
      "2 3 Hello, World! 3.14\n"
     ]
    }
   ],
   "source": [
    "print(2, 3)\n",
    "print('Hello, World!')\n",
    "print(3.14)\n",
    "print(2, 3, 'Hello, World!', 3.14)"
   ]
  },
  {
   "cell_type": "markdown",
   "metadata": {},
   "source": [
    "# Finished\n",
    "\n",
    "If you finished your notebook, you may press the `validate` button to run one last check and see if you did not make any mistakes. When you finished a **complete folder** of notebooks, you may `submit` this to your teacher for grading."
   ]
  },
  {
   "cell_type": "markdown",
   "metadata": {},
   "source": [
    "# Done? Please close your notebook with Close And Halt!"
   ]
  },
  {
   "cell_type": "code",
   "execution_count": null,
   "metadata": {},
   "outputs": [],
   "source": []
  }
 ],
 "metadata": {
  "celltoolbar": "Create Assignment",
  "kernelspec": {
   "display_name": "prog",
   "language": "python",
   "name": "prog"
  },
  "language_info": {
   "codemirror_mode": {
    "name": "ipython",
    "version": 3
   },
   "file_extension": ".py",
   "mimetype": "text/x-python",
   "name": "python",
   "nbconvert_exporter": "python",
   "pygments_lexer": "ipython3",
   "version": "3.9.12"
  }
 },
 "nbformat": 4,
 "nbformat_minor": 4
}
