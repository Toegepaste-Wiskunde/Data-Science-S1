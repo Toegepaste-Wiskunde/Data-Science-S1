{
 "cells": [
  {
   "cell_type": "markdown",
   "id": "77c0f02a",
   "metadata": {},
   "source": [
    "# Rules of logic"
   ]
  },
  {
   "cell_type": "markdown",
   "id": "02f03d40",
   "metadata": {},
   "source": [
    "#### Mathematical definition of the logical operators\n",
    "\n",
    "In notebook 1.4.1, Boolean operators, we have learned the truth tables of the logical operators. Here are those truth tables again:\n",
    "\n",
    "$p$ | not ($\\neg p$)\n",
    ":-----:|:-----:\n",
    "False | True\n",
    "True | False\n",
    "\n",
    "$p$ | $q$ | and $$p \\wedge q$$ | or $$p \\vee q$$ | implication $$p \\Rightarrow q$$ | equivalence $$p \\Leftrightarrow q$$\n",
    ":-----:|:-----:|:-----:|:-----:|:-----:|:-----:\n",
    "False | False | False | False | True | True\n",
    "False | True | False | True | True | False\n",
    "True | False | False | True | False | False\n",
    "True | True | True | True | True | True\n"
   ]
  },
  {
   "cell_type": "markdown",
   "id": "5fb64150",
   "metadata": {},
   "source": [
    "#### Operator names\n",
    "\n",
    "The operator have names, given in the table below.\n",
    "\n",
    "Mathematical name | Meaning                | Mathematical notation\n",
    ":----------------:|:----------------------:|:---------------------:\n",
    "Negation          | not $p$                | $\\neg p$\n",
    "Conjunction       | $p$ and $q$            | $p \\wedge q$\n",
    "Disjunction       | $p$ or $q$             | $p \\vee q$\n",
    "Implication       | if $p$, then $q$       | $p \\Rightarrow q$\n",
    "Equivalence       | $p$ if and only if $q$ | $p \\Leftrightarrow q$\n",
    "\n",
    "Although the programmatical `if` has some similarities with the mathematical implication, it is not the same operator. The disjunction results in a boolean value, but the `if` command controls the flow of the code.\n",
    "\n",
    "(The flow of a program - which commands are executed or not executed and in what order)."
   ]
  },
  {
   "cell_type": "markdown",
   "id": "a4b657c7",
   "metadata": {},
   "source": [
    "# Assignments"
   ]
  },
  {
   "cell_type": "markdown",
   "id": "d44b851f",
   "metadata": {},
   "source": [
    "#### Write code that performs an equivalence operation on the boolean variables `p` and `q`.\n",
    "Only use the `and`, `or` or 'not' operators. Do <b>not</b> use `==`.\n",
    "\n",
    "Note: You can use brackets in your expression, although there are precedenc rules in Python. `not` always goes first, 'and' goes next and 'or' is executed last."
   ]
  },
  {
   "cell_type": "code",
   "execution_count": 1,
   "id": "219e33d5",
   "metadata": {
    "execution": {
     "iopub.execute_input": "2022-08-05T15:06:15.551668Z",
     "iopub.status.busy": "2022-08-05T15:06:15.551145Z",
     "iopub.status.idle": "2022-08-05T15:06:15.564563Z",
     "shell.execute_reply": "2022-08-05T15:06:15.563725Z"
    }
   },
   "outputs": [],
   "source": [
    "p = True\n",
    "q = False"
   ]
  },
  {
   "cell_type": "code",
   "execution_count": 2,
   "id": "dd639f6c",
   "metadata": {
    "deletable": false,
    "editable": true,
    "execution": {
     "iopub.execute_input": "2022-08-05T15:06:15.568660Z",
     "iopub.status.busy": "2022-08-05T15:06:15.568314Z",
     "iopub.status.idle": "2022-08-05T15:06:15.573753Z",
     "shell.execute_reply": "2022-08-05T15:06:15.572706Z"
    }
   },
   "outputs": [],
   "source": [
    "%%assignment\n",
    "### ENTER YOUR CODE HERE"
   ]
  },
  {
   "cell_type": "code",
   "execution_count": 3,
   "id": "cd693869",
   "metadata": {
    "deletable": false,
    "editable": false,
    "execution": {
     "iopub.execute_input": "2022-08-05T15:06:15.577821Z",
     "iopub.status.busy": "2022-08-05T15:06:15.577506Z",
     "iopub.status.idle": "2022-08-05T15:06:15.587123Z",
     "shell.execute_reply": "2022-08-05T15:06:15.586360Z"
    }
   },
   "outputs": [
    {
     "data": {
      "text/html": [
       "<table><tr style=\"background: red; color: white\"><td style=\"text-align:left\">The result should be True for testcase p = False , q = False </td></tr></table>"
      ],
      "text/plain": [
       "<IPython.core.display.HTML object>"
      ]
     },
     "metadata": {
      "text/html": {
       "username": "jeroen"
      }
     },
     "output_type": "display_data"
    }
   ],
   "source": [
    "%%check\n",
    "forbidden ==\n",
    "p = False\n",
    "q = False\n",
    "result == True\n",
    "p = False\n",
    "q = True\n",
    "result == False\n",
    "p = True\n",
    "q = False\n",
    "result == False\n",
    "p = True\n",
    "q = True\n",
    "result == True\n"
   ]
  },
  {
   "cell_type": "markdown",
   "id": "e05e2796",
   "metadata": {},
   "source": [
    "# Calculation rules of logic"
   ]
  },
  {
   "cell_type": "markdown",
   "id": "b410eb81",
   "metadata": {},
   "source": [
    "We know eight calculation rules of logic. These can be used to simplify logic expressions.\n",
    "Here $F$ stands for False, $T$ stands for True and $\\equiv$ means that the two expressions are equivalent, they work interchangably.\n",
    "\n",
    "<!-- -->| <!-- --> | <!-- -->                                     | <!-- -->\n",
    ":--:|:------------:|:--------------------------------------------:|:--------------------------:\n",
    "1   | Idempotent   | $p \\vee p \\equiv p$                          | $p \\wedge p \\equiv p$\n",
    "2   | Associative  | $(p \\vee q) \\vee r \\equiv p \\vee (q \\vee r)$ | $(p \\wedge q) \\wedge r \\equiv p \\wedge (q \\wedge r)$ \n",
    "3   | Commutative  | $p \\vee q \\equiv q \\vee p$                   | $p \\wedge q \\equiv q \\wedge p$ \n",
    "4   | Distributive | $p \\vee (q \\wedge r) \\equiv (p \\vee q) \\wedge (p \\vee r)$ | $p \\wedge (q \\vee r) \\equiv (p \\wedge q) \\vee (p \\wedge r)$ \n",
    "5   | Identity     | $p \\vee F \\equiv p$ <br> $p \\vee T \\equiv T$ | $p \\wedge F \\equiv F$ <br> $p \\wedge T \\equiv p$ \n",
    "6   | Involution   | $\\neg \\neg p \\equiv p$ |  \n",
    "7   | Complement   | $p \\vee \\neg p \\equiv T$ <br> $\\neg T \\equiv F$ | $p \\wedge \\neg p \\equiv F$ <br> $\\neg F \\equiv T$ \n",
    "8   | De Morgan    | $\\neg (p \\vee q) \\equiv \\neg p \\wedge \\neg q$ | $\\neg (p \\wedge q) \\equiv \\neg p \\vee \\neg q$ \n",
    "\n",
    "Rule number 8 caries the name of Augustus De Morgan, a British mathematician."
   ]
  },
  {
   "cell_type": "markdown",
   "id": "89a96436",
   "metadata": {},
   "source": [
    "# Assignments"
   ]
  },
  {
   "cell_type": "markdown",
   "id": "090759eb",
   "metadata": {},
   "source": [
    "#### Simplify this logical expression\n",
    "\n",
    "$(p \\wedge q) \\vee (\\neg q \\wedge p)$\n",
    "\n",
    "Use the rules of logic to calculate a simpler expression and put the most simple expression in code as your solution."
   ]
  },
  {
   "cell_type": "code",
   "execution_count": 4,
   "id": "845219c5",
   "metadata": {
    "execution": {
     "iopub.execute_input": "2022-08-05T15:06:15.590740Z",
     "iopub.status.busy": "2022-08-05T15:06:15.590444Z",
     "iopub.status.idle": "2022-08-05T15:06:15.593545Z",
     "shell.execute_reply": "2022-08-05T15:06:15.593069Z"
    }
   },
   "outputs": [],
   "source": [
    "p = True\n",
    "q = False"
   ]
  },
  {
   "cell_type": "code",
   "execution_count": 5,
   "id": "989a7ed8",
   "metadata": {
    "deletable": false,
    "editable": true,
    "execution": {
     "iopub.execute_input": "2022-08-05T15:06:15.595802Z",
     "iopub.status.busy": "2022-08-05T15:06:15.595574Z",
     "iopub.status.idle": "2022-08-05T15:06:15.598706Z",
     "shell.execute_reply": "2022-08-05T15:06:15.598220Z"
    }
   },
   "outputs": [],
   "source": [
    "%%assignment\n",
    "### ENTER YOUR CODE HERE"
   ]
  },
  {
   "cell_type": "code",
   "execution_count": 6,
   "id": "1f230eeb",
   "metadata": {
    "deletable": false,
    "editable": false,
    "execution": {
     "iopub.execute_input": "2022-08-05T15:06:15.601192Z",
     "iopub.status.busy": "2022-08-05T15:06:15.600785Z",
     "iopub.status.idle": "2022-08-05T15:06:15.605390Z",
     "shell.execute_reply": "2022-08-05T15:06:15.604943Z"
    }
   },
   "outputs": [
    {
     "data": {
      "text/html": [
       "<table><tr style=\"background: red; color: white\"><td style=\"text-align:left\">The result should be (p and q) or (not q and p) for testcase p = False , q = False </td></tr></table>"
      ],
      "text/plain": [
       "<IPython.core.display.HTML object>"
      ]
     },
     "metadata": {
      "text/html": {
       "username": "jeroen"
      }
     },
     "output_type": "display_data"
    }
   ],
   "source": [
    "%%check\n",
    "p = False\n",
    "q = False\n",
    "result == (p and q) or (not q and p)\n",
    "p = False\n",
    "q = True\n",
    "result == (p and q) or (not q and p)\n",
    "p = True\n",
    "q = False\n",
    "result == (p and q) or (not q and p)\n",
    "p = True\n",
    "q = True\n",
    "result == (p and q) or (not q and p)\n",
    "forbidden ( ) and or not"
   ]
  },
  {
   "cell_type": "markdown",
   "id": "74524ca5",
   "metadata": {},
   "source": [
    "#### Write the following expression in another form\n",
    "\n",
    "$\\neg (p \\vee \\neg q)$"
   ]
  },
  {
   "cell_type": "code",
   "execution_count": 7,
   "id": "a7aa5c8c",
   "metadata": {
    "execution": {
     "iopub.execute_input": "2022-08-05T15:06:15.607546Z",
     "iopub.status.busy": "2022-08-05T15:06:15.607298Z",
     "iopub.status.idle": "2022-08-05T15:06:15.610242Z",
     "shell.execute_reply": "2022-08-05T15:06:15.609642Z"
    }
   },
   "outputs": [],
   "source": [
    "p = False\n",
    "q = False"
   ]
  },
  {
   "cell_type": "code",
   "execution_count": 8,
   "id": "758f5ff9",
   "metadata": {
    "deletable": false,
    "editable": true,
    "execution": {
     "iopub.execute_input": "2022-08-05T15:06:15.612532Z",
     "iopub.status.busy": "2022-08-05T15:06:15.612104Z",
     "iopub.status.idle": "2022-08-05T15:06:15.615792Z",
     "shell.execute_reply": "2022-08-05T15:06:15.614797Z"
    }
   },
   "outputs": [],
   "source": [
    "%%assignment\n",
    "### ENTER YOUR CODE HERE"
   ]
  },
  {
   "cell_type": "code",
   "execution_count": 9,
   "id": "5fc2f460",
   "metadata": {
    "deletable": false,
    "editable": false,
    "execution": {
     "iopub.execute_input": "2022-08-05T15:06:15.617794Z",
     "iopub.status.busy": "2022-08-05T15:06:15.617525Z",
     "iopub.status.idle": "2022-08-05T15:06:15.621963Z",
     "shell.execute_reply": "2022-08-05T15:06:15.621551Z"
    }
   },
   "outputs": [
    {
     "data": {
      "text/html": [
       "<table><tr style=\"background: red; color: white\"><td style=\"text-align:left\">The result should be (not (p or not q)) for testcase p = False , q = False </td></tr></table>"
      ],
      "text/plain": [
       "<IPython.core.display.HTML object>"
      ]
     },
     "metadata": {
      "text/html": {
       "username": "jeroen"
      }
     },
     "output_type": "display_data"
    }
   ],
   "source": [
    "%%check\n",
    "p = False\n",
    "q = False\n",
    "result == (not (p or not q))\n",
    "p = False\n",
    "q = True\n",
    "result == (not (p or not q))\n",
    "p = True\n",
    "q = False\n",
    "result == (not (p or not q))\n",
    "p = True\n",
    "q = True\n",
    "result == (not (p or not q))\n",
    "forbidden ( )"
   ]
  }
 ],
 "metadata": {
  "kernelspec": {
   "display_name": "prog",
   "language": "python",
   "name": "prog"
  },
  "language_info": {
   "codemirror_mode": {
    "name": "ipython",
    "version": 3
   },
   "file_extension": ".py",
   "mimetype": "text/x-python",
   "name": "python",
   "nbconvert_exporter": "python",
   "pygments_lexer": "ipython3",
   "version": "3.9.12"
  }
 },
 "nbformat": 4,
 "nbformat_minor": 5
}
