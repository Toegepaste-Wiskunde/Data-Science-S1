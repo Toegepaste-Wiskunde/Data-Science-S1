{
 "cells": [
  {
   "cell_type": "markdown",
   "metadata": {},
   "source": [
    "# Functions\n",
    "\n",
    "The tools we can use in our programs are not limited to variables and operator. Python also contains a great number of functions that each perform a well defined operation. These functions have a `name` we can use to call them, and we can pass `arguments` in between brackets.\n",
    "\n",
    "The first two functions we will look at are `min` and `max`. The `min` function takes any number of comparable values as arguments and simply returns the lowest of these values. The `max` function returns the highest value.\n",
    "\n",
    "It is also possible to provide a list of values (e.g. `[3, 2, 5]`) to min or max, then it will return the highest or lowest value from that list."
   ]
  },
  {
   "cell_type": "markdown",
   "metadata": {},
   "source": [
    "# Examples"
   ]
  },
  {
   "cell_type": "code",
   "execution_count": 1,
   "metadata": {
    "execution": {
     "iopub.execute_input": "2022-08-05T15:07:29.554572Z",
     "iopub.status.busy": "2022-08-05T15:07:29.553941Z",
     "iopub.status.idle": "2022-08-05T15:07:29.574121Z",
     "shell.execute_reply": "2022-08-05T15:07:29.573187Z"
    }
   },
   "outputs": [
    {
     "data": {
      "text/plain": [
       "2"
      ]
     },
     "execution_count": 1,
     "metadata": {},
     "output_type": "execute_result"
    }
   ],
   "source": [
    "min(3, 2, 6)"
   ]
  },
  {
   "cell_type": "code",
   "execution_count": 2,
   "metadata": {
    "execution": {
     "iopub.execute_input": "2022-08-05T15:07:29.578718Z",
     "iopub.status.busy": "2022-08-05T15:07:29.578427Z",
     "iopub.status.idle": "2022-08-05T15:07:29.583321Z",
     "shell.execute_reply": "2022-08-05T15:07:29.582660Z"
    }
   },
   "outputs": [
    {
     "data": {
      "text/plain": [
       "1"
      ]
     },
     "execution_count": 2,
     "metadata": {},
     "output_type": "execute_result"
    }
   ],
   "source": [
    "a = 6\n",
    "b = 1\n",
    "min(a, b)"
   ]
  },
  {
   "cell_type": "code",
   "execution_count": 3,
   "metadata": {
    "execution": {
     "iopub.execute_input": "2022-08-05T15:07:29.587109Z",
     "iopub.status.busy": "2022-08-05T15:07:29.586846Z",
     "iopub.status.idle": "2022-08-05T15:07:29.591750Z",
     "shell.execute_reply": "2022-08-05T15:07:29.591077Z"
    }
   },
   "outputs": [
    {
     "data": {
      "text/plain": [
       "1"
      ]
     },
     "execution_count": 3,
     "metadata": {},
     "output_type": "execute_result"
    }
   ],
   "source": [
    "min(3, 1, 5, 6)"
   ]
  },
  {
   "cell_type": "code",
   "execution_count": 4,
   "metadata": {
    "execution": {
     "iopub.execute_input": "2022-08-05T15:07:29.594542Z",
     "iopub.status.busy": "2022-08-05T15:07:29.594218Z",
     "iopub.status.idle": "2022-08-05T15:07:29.599299Z",
     "shell.execute_reply": "2022-08-05T15:07:29.598590Z"
    }
   },
   "outputs": [
    {
     "data": {
      "text/plain": [
       "6"
      ]
     },
     "execution_count": 4,
     "metadata": {},
     "output_type": "execute_result"
    }
   ],
   "source": [
    "max(3, 1, 5, 6)"
   ]
  },
  {
   "cell_type": "code",
   "execution_count": 5,
   "metadata": {
    "execution": {
     "iopub.execute_input": "2022-08-05T15:07:29.601784Z",
     "iopub.status.busy": "2022-08-05T15:07:29.601437Z",
     "iopub.status.idle": "2022-08-05T15:07:29.605279Z",
     "shell.execute_reply": "2022-08-05T15:07:29.604544Z"
    }
   },
   "outputs": [],
   "source": [
    "ages = [23, 68, 30]"
   ]
  },
  {
   "cell_type": "code",
   "execution_count": 6,
   "metadata": {
    "execution": {
     "iopub.execute_input": "2022-08-05T15:07:29.607622Z",
     "iopub.status.busy": "2022-08-05T15:07:29.607340Z",
     "iopub.status.idle": "2022-08-05T15:07:29.612134Z",
     "shell.execute_reply": "2022-08-05T15:07:29.611459Z"
    }
   },
   "outputs": [
    {
     "data": {
      "text/plain": [
       "68"
      ]
     },
     "execution_count": 6,
     "metadata": {},
     "output_type": "execute_result"
    }
   ],
   "source": [
    "max(ages)"
   ]
  },
  {
   "cell_type": "code",
   "execution_count": 7,
   "metadata": {
    "execution": {
     "iopub.execute_input": "2022-08-05T15:07:29.614420Z",
     "iopub.status.busy": "2022-08-05T15:07:29.614108Z",
     "iopub.status.idle": "2022-08-05T15:07:29.619721Z",
     "shell.execute_reply": "2022-08-05T15:07:29.618731Z"
    }
   },
   "outputs": [
    {
     "data": {
      "text/plain": [
       "23"
      ]
     },
     "execution_count": 7,
     "metadata": {},
     "output_type": "execute_result"
    }
   ],
   "source": [
    "min(ages)"
   ]
  },
  {
   "cell_type": "markdown",
   "metadata": {},
   "source": [
    "# Assignment"
   ]
  },
  {
   "cell_type": "markdown",
   "metadata": {},
   "source": [
    "#### Give the smallest value of x and y"
   ]
  },
  {
   "cell_type": "code",
   "execution_count": 8,
   "metadata": {
    "execution": {
     "iopub.execute_input": "2022-08-05T15:07:29.623314Z",
     "iopub.status.busy": "2022-08-05T15:07:29.622550Z",
     "iopub.status.idle": "2022-08-05T15:07:29.627570Z",
     "shell.execute_reply": "2022-08-05T15:07:29.626529Z"
    }
   },
   "outputs": [],
   "source": [
    "x = 20\n",
    "y = 10"
   ]
  },
  {
   "cell_type": "code",
   "execution_count": 9,
   "metadata": {
    "deletable": false,
    "editable": true,
    "execution": {
     "iopub.execute_input": "2022-08-05T15:07:29.630847Z",
     "iopub.status.busy": "2022-08-05T15:07:29.630187Z",
     "iopub.status.idle": "2022-08-05T15:07:29.636000Z",
     "shell.execute_reply": "2022-08-05T15:07:29.634814Z"
    }
   },
   "outputs": [],
   "source": [
    "%%assignment\n",
    "### ENTER YOUR CODE HERE ###"
   ]
  },
  {
   "cell_type": "code",
   "execution_count": 10,
   "metadata": {
    "deletable": false,
    "editable": false,
    "execution": {
     "iopub.execute_input": "2022-08-05T15:07:29.638944Z",
     "iopub.status.busy": "2022-08-05T15:07:29.638582Z",
     "iopub.status.idle": "2022-08-05T15:07:29.644871Z",
     "shell.execute_reply": "2022-08-05T15:07:29.644113Z"
    }
   },
   "outputs": [
    {
     "data": {
      "text/html": [
       "<table><tr style=\"background: red; color: white\"><td style=\"text-align:left\">The result should be 10 for testcase x, y = 20, 10 </td></tr></table>"
      ],
      "text/plain": [
       "<IPython.core.display.HTML object>"
      ]
     },
     "metadata": {
      "text/html": {
       "username": "jeroen"
      }
     },
     "output_type": "display_data"
    }
   ],
   "source": [
    "%%check\n",
    "x, y = 20, 10\n",
    "result == 10\n",
    "x, y = 30, 20\n",
    "result == 20"
   ]
  },
  {
   "cell_type": "markdown",
   "metadata": {},
   "source": [
    "#### Give the smallest value of x, y and z"
   ]
  },
  {
   "cell_type": "code",
   "execution_count": 11,
   "metadata": {
    "execution": {
     "iopub.execute_input": "2022-08-05T15:07:29.647943Z",
     "iopub.status.busy": "2022-08-05T15:07:29.647627Z",
     "iopub.status.idle": "2022-08-05T15:07:29.651459Z",
     "shell.execute_reply": "2022-08-05T15:07:29.650721Z"
    }
   },
   "outputs": [],
   "source": [
    "x = 20\n",
    "y = 10\n",
    "z = 5"
   ]
  },
  {
   "cell_type": "code",
   "execution_count": 12,
   "metadata": {
    "deletable": false,
    "editable": true,
    "execution": {
     "iopub.execute_input": "2022-08-05T15:07:29.654289Z",
     "iopub.status.busy": "2022-08-05T15:07:29.653968Z",
     "iopub.status.idle": "2022-08-05T15:07:29.658410Z",
     "shell.execute_reply": "2022-08-05T15:07:29.657427Z"
    }
   },
   "outputs": [],
   "source": [
    "%%assignment\n",
    "### ENTER YOUR CODE HERE ###"
   ]
  },
  {
   "cell_type": "code",
   "execution_count": 13,
   "metadata": {
    "deletable": false,
    "editable": false,
    "execution": {
     "iopub.execute_input": "2022-08-05T15:07:29.661084Z",
     "iopub.status.busy": "2022-08-05T15:07:29.660802Z",
     "iopub.status.idle": "2022-08-05T15:07:29.666311Z",
     "shell.execute_reply": "2022-08-05T15:07:29.665620Z"
    }
   },
   "outputs": [
    {
     "data": {
      "text/html": [
       "<table><tr style=\"background: red; color: white\"><td style=\"text-align:left\">The result should be 5 for testcase x, y, z = 20, 10, 5 </td></tr></table>"
      ],
      "text/plain": [
       "<IPython.core.display.HTML object>"
      ]
     },
     "metadata": {
      "text/html": {
       "username": "jeroen"
      }
     },
     "output_type": "display_data"
    }
   ],
   "source": [
    "%%check\n",
    "forbidden 5\n",
    "x, y, z = 20, 10, 5\n",
    "result == 5\n",
    "x, y, z = 20, 10, 25\n",
    "result == 10\n",
    "x, y, z = 2, 10, 25\n",
    "result == 2"
   ]
  },
  {
   "cell_type": "markdown",
   "metadata": {},
   "source": [
    "#### Give the highest value in weights"
   ]
  },
  {
   "cell_type": "code",
   "execution_count": 14,
   "metadata": {
    "execution": {
     "iopub.execute_input": "2022-08-05T15:07:29.669143Z",
     "iopub.status.busy": "2022-08-05T15:07:29.668740Z",
     "iopub.status.idle": "2022-08-05T15:07:29.672395Z",
     "shell.execute_reply": "2022-08-05T15:07:29.671570Z"
    }
   },
   "outputs": [],
   "source": [
    "weights = [3, 2, 29]"
   ]
  },
  {
   "cell_type": "code",
   "execution_count": 15,
   "metadata": {
    "deletable": false,
    "editable": true,
    "execution": {
     "iopub.execute_input": "2022-08-05T15:07:29.674716Z",
     "iopub.status.busy": "2022-08-05T15:07:29.674388Z",
     "iopub.status.idle": "2022-08-05T15:07:29.678216Z",
     "shell.execute_reply": "2022-08-05T15:07:29.677518Z"
    }
   },
   "outputs": [],
   "source": [
    "%%assignment\n",
    "### ENTER YOUR CODE HERE ###"
   ]
  },
  {
   "cell_type": "code",
   "execution_count": 16,
   "metadata": {
    "deletable": false,
    "editable": false,
    "execution": {
     "iopub.execute_input": "2022-08-05T15:07:29.680763Z",
     "iopub.status.busy": "2022-08-05T15:07:29.680492Z",
     "iopub.status.idle": "2022-08-05T15:07:29.685745Z",
     "shell.execute_reply": "2022-08-05T15:07:29.685065Z"
    }
   },
   "outputs": [
    {
     "data": {
      "text/html": [
       "<table><tr style=\"background: red; color: white\"><td style=\"text-align:left\">The result should be 29 for testcase weights = [3, 2, 29] </td></tr></table>"
      ],
      "text/plain": [
       "<IPython.core.display.HTML object>"
      ]
     },
     "metadata": {
      "text/html": {
       "username": "jeroen"
      }
     },
     "output_type": "display_data"
    }
   ],
   "source": [
    "%%check\n",
    "forbidden 29\n",
    "weights = [3, 2, 29]\n",
    "result == 29\n",
    "weights = [3, 2, 1]\n",
    "result == 3"
   ]
  },
  {
   "cell_type": "markdown",
   "metadata": {},
   "source": [
    "#### Give the length of the shortest person, whose sizes are in `length`"
   ]
  },
  {
   "cell_type": "code",
   "execution_count": 17,
   "metadata": {
    "execution": {
     "iopub.execute_input": "2022-08-05T15:07:29.688309Z",
     "iopub.status.busy": "2022-08-05T15:07:29.688000Z",
     "iopub.status.idle": "2022-08-05T15:07:29.691625Z",
     "shell.execute_reply": "2022-08-05T15:07:29.690934Z"
    }
   },
   "outputs": [],
   "source": [
    "length = [1.80, 1.65, 2.02, 1.85]"
   ]
  },
  {
   "cell_type": "code",
   "execution_count": 18,
   "metadata": {
    "deletable": false,
    "editable": true,
    "execution": {
     "iopub.execute_input": "2022-08-05T15:07:29.694074Z",
     "iopub.status.busy": "2022-08-05T15:07:29.693768Z",
     "iopub.status.idle": "2022-08-05T15:07:29.697733Z",
     "shell.execute_reply": "2022-08-05T15:07:29.697059Z"
    }
   },
   "outputs": [],
   "source": [
    "%%assignment\n",
    "### ENTER YOUR CODE HERE ###"
   ]
  },
  {
   "cell_type": "code",
   "execution_count": 19,
   "metadata": {
    "deletable": false,
    "editable": false,
    "execution": {
     "iopub.execute_input": "2022-08-05T15:07:29.700083Z",
     "iopub.status.busy": "2022-08-05T15:07:29.699796Z",
     "iopub.status.idle": "2022-08-05T15:07:29.704856Z",
     "shell.execute_reply": "2022-08-05T15:07:29.704215Z"
    }
   },
   "outputs": [
    {
     "data": {
      "text/html": [
       "<table><tr style=\"background: red; color: white\"><td style=\"text-align:left\">The result should be 1.65 for testcase length = [1.80, 1.65, 2.02, 1.85] </td></tr></table>"
      ],
      "text/plain": [
       "<IPython.core.display.HTML object>"
      ]
     },
     "metadata": {
      "text/html": {
       "username": "jeroen"
      }
     },
     "output_type": "display_data"
    }
   ],
   "source": [
    "%%check\n",
    "forbidden 1.65\n",
    "length = [1.80, 1.65, 2.02, 1.85]\n",
    "result == 1.65\n",
    "length = [1.80, 2.02, 1.85]\n",
    "result == 1.80"
   ]
  },
  {
   "cell_type": "markdown",
   "metadata": {},
   "source": [
    "#### Give the difference between the tallest and the shortest person, whose sizes are in `length`\n",
    "Note that the difference is equal to the maximum "
   ]
  },
  {
   "cell_type": "code",
   "execution_count": 20,
   "metadata": {
    "execution": {
     "iopub.execute_input": "2022-08-05T15:07:29.707417Z",
     "iopub.status.busy": "2022-08-05T15:07:29.707121Z",
     "iopub.status.idle": "2022-08-05T15:07:29.710862Z",
     "shell.execute_reply": "2022-08-05T15:07:29.710050Z"
    }
   },
   "outputs": [],
   "source": [
    "length = [1.80, 1.75, 2.00, 1.85]"
   ]
  },
  {
   "cell_type": "code",
   "execution_count": 21,
   "metadata": {
    "deletable": false,
    "editable": true,
    "execution": {
     "iopub.execute_input": "2022-08-05T15:07:29.713196Z",
     "iopub.status.busy": "2022-08-05T15:07:29.712892Z",
     "iopub.status.idle": "2022-08-05T15:07:29.716618Z",
     "shell.execute_reply": "2022-08-05T15:07:29.715944Z"
    }
   },
   "outputs": [],
   "source": [
    "%%assignment\n",
    "### ENTER YOUR CODE HERE ###"
   ]
  },
  {
   "cell_type": "code",
   "execution_count": 22,
   "metadata": {
    "deletable": false,
    "editable": false,
    "execution": {
     "iopub.execute_input": "2022-08-05T15:07:29.718871Z",
     "iopub.status.busy": "2022-08-05T15:07:29.718544Z",
     "iopub.status.idle": "2022-08-05T15:07:29.724019Z",
     "shell.execute_reply": "2022-08-05T15:07:29.723350Z"
    }
   },
   "outputs": [
    {
     "data": {
      "text/html": [
       "<table><tr style=\"background: red; color: white\"><td style=\"text-align:left\">The result should be 0.25 for testcase length = [1.80, 1.75, 2.00, 1.85] </td></tr></table>"
      ],
      "text/plain": [
       "<IPython.core.display.HTML object>"
      ]
     },
     "metadata": {
      "text/html": {
       "username": "jeroen"
      }
     },
     "output_type": "display_data"
    }
   ],
   "source": [
    "%%check\n",
    "forbidden 0.25\n",
    "length = [1.80, 1.75, 2.00, 1.85]\n",
    "result == 0.25\n",
    "length = [1.50, 2.00]\n",
    "result == 0.50"
   ]
  }
 ],
 "metadata": {
  "celltoolbar": "Create Assignment",
  "kernelspec": {
   "display_name": "prog",
   "language": "python",
   "name": "prog"
  },
  "language_info": {
   "codemirror_mode": {
    "name": "ipython",
    "version": 3
   },
   "file_extension": ".py",
   "mimetype": "text/x-python",
   "name": "python",
   "nbconvert_exporter": "python",
   "pygments_lexer": "ipython3",
   "version": "3.9.12"
  }
 },
 "nbformat": 4,
 "nbformat_minor": 4
}
