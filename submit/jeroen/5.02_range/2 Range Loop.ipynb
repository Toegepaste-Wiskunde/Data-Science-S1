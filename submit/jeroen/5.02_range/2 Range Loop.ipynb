{
 "cells": [
  {
   "cell_type": "markdown",
   "metadata": {},
   "source": [
    "# Range Loop\n",
    "\n",
    "Most common is that we use `range` within a loop. The index that we obtain can be used to point to elements in a List."
   ]
  },
  {
   "cell_type": "markdown",
   "metadata": {},
   "source": [
    "# Example"
   ]
  },
  {
   "cell_type": "code",
   "execution_count": 1,
   "metadata": {
    "execution": {
     "iopub.execute_input": "2022-08-05T15:06:37.119904Z",
     "iopub.status.busy": "2022-08-05T15:06:37.118966Z",
     "iopub.status.idle": "2022-08-05T15:06:37.133789Z",
     "shell.execute_reply": "2022-08-05T15:06:37.132614Z"
    }
   },
   "outputs": [
    {
     "name": "stdout",
     "output_type": "stream",
     "text": [
      "c\n",
      "d\n",
      "e\n"
     ]
    }
   ],
   "source": [
    "text = 'abcdefg'\n",
    "for i in range (2, 5):\n",
    "    print(text[i])"
   ]
  },
  {
   "cell_type": "markdown",
   "metadata": {},
   "source": [
    "# Assignments"
   ]
  },
  {
   "cell_type": "markdown",
   "metadata": {},
   "source": [
    "Consider two Lists from a round at a speed dating event between `male`s and `female`s. The males and females are paired by index, so male[0] had a one-minute meet with female[0], and so on. In the List, each participants submitted whether they would like to go on a date with the other person (True, False). Of course, that will only happen if both of them are positive."
   ]
  },
  {
   "cell_type": "code",
   "execution_count": 2,
   "metadata": {
    "execution": {
     "iopub.execute_input": "2022-08-05T15:06:37.138306Z",
     "iopub.status.busy": "2022-08-05T15:06:37.138089Z",
     "iopub.status.idle": "2022-08-05T15:06:37.142916Z",
     "shell.execute_reply": "2022-08-05T15:06:37.141844Z"
    }
   },
   "outputs": [],
   "source": [
    "male = [ True, False, False, True, True, False, False, False, True, False ]\n",
    "female = [ False, False, True, True, False, False, False, True, True, False ]"
   ]
  },
  {
   "cell_type": "markdown",
   "metadata": {},
   "source": [
    "#### Write an expression to see if pair 0 is a match. The expression should be True or False, do not use print."
   ]
  },
  {
   "cell_type": "code",
   "execution_count": 3,
   "metadata": {
    "deletable": false,
    "editable": true,
    "execution": {
     "iopub.execute_input": "2022-08-05T15:06:37.146531Z",
     "iopub.status.busy": "2022-08-05T15:06:37.146188Z",
     "iopub.status.idle": "2022-08-05T15:06:37.150991Z",
     "shell.execute_reply": "2022-08-05T15:06:37.150180Z"
    }
   },
   "outputs": [],
   "source": [
    "%%assignment\n",
    "### ENTER YOUR CODE HERE"
   ]
  },
  {
   "cell_type": "code",
   "execution_count": 4,
   "metadata": {
    "deletable": false,
    "editable": false,
    "execution": {
     "iopub.execute_input": "2022-08-05T15:06:37.154101Z",
     "iopub.status.busy": "2022-08-05T15:06:37.153736Z",
     "iopub.status.idle": "2022-08-05T15:06:37.164423Z",
     "shell.execute_reply": "2022-08-05T15:06:37.163730Z"
    }
   },
   "outputs": [
    {
     "data": {
      "text/html": [
       "<table><tr style=\"background: red; color: white\"><td style=\"text-align:left\">The result should be True for testcase male, female = [ True ], [ True ] </td></tr></table>"
      ],
      "text/plain": [
       "<IPython.core.display.HTML object>"
      ]
     },
     "metadata": {
      "text/html": {
       "username": "jeroen"
      }
     },
     "output_type": "display_data"
    }
   ],
   "source": [
    "%%check\n",
    "male, female = [ True ], [ True ]\n",
    "result == True\n",
    "male = [ True, False, False, True, True, False, False, False, True, False ]\n",
    "female = [ False, False, True, True, False, False, False, True, True, False ]\n",
    "result == False"
   ]
  },
  {
   "cell_type": "markdown",
   "metadata": {},
   "source": [
    "#### Write an expression to determine how many males would like to take their speed date on an actual date.\n",
    "\n",
    "Hint: you can make use of the fact that Booleans are internally stored as 0 (False) and 1 (True). So True + True == 2. In other words, you can add them up."
   ]
  },
  {
   "cell_type": "code",
   "execution_count": 5,
   "metadata": {
    "deletable": false,
    "editable": true,
    "execution": {
     "iopub.execute_input": "2022-08-05T15:06:37.167480Z",
     "iopub.status.busy": "2022-08-05T15:06:37.167229Z",
     "iopub.status.idle": "2022-08-05T15:06:37.170879Z",
     "shell.execute_reply": "2022-08-05T15:06:37.170168Z"
    }
   },
   "outputs": [],
   "source": [
    "%%assignment\n",
    "### ENTER YOUR CODE HERE"
   ]
  },
  {
   "cell_type": "code",
   "execution_count": 6,
   "metadata": {
    "deletable": false,
    "editable": false,
    "execution": {
     "iopub.execute_input": "2022-08-05T15:06:37.173362Z",
     "iopub.status.busy": "2022-08-05T15:06:37.173129Z",
     "iopub.status.idle": "2022-08-05T15:06:37.178161Z",
     "shell.execute_reply": "2022-08-05T15:06:37.177495Z"
    }
   },
   "outputs": [
    {
     "data": {
      "text/html": [
       "<table><tr style=\"background: red; color: white\"><td style=\"text-align:left\">The result should be 1 for testcase male = [ True ] </td></tr></table>"
      ],
      "text/plain": [
       "<IPython.core.display.HTML object>"
      ]
     },
     "metadata": {
      "text/html": {
       "username": "jeroen"
      }
     },
     "output_type": "display_data"
    }
   ],
   "source": [
    "%%check\n",
    "male = [ True ]\n",
    "result == 1\n",
    "male = [ True, False, False, True, True, False, False, False, True, False ]\n",
    "result == 4"
   ]
  },
  {
   "cell_type": "markdown",
   "metadata": {},
   "source": [
    "#### Write an expression to determine the percentage of males that would like to take their speed date on an actual date.\n",
    "\n",
    "In this case, the output should be 40."
   ]
  },
  {
   "cell_type": "code",
   "execution_count": 7,
   "metadata": {
    "deletable": false,
    "editable": true,
    "execution": {
     "iopub.execute_input": "2022-08-05T15:06:37.180888Z",
     "iopub.status.busy": "2022-08-05T15:06:37.180590Z",
     "iopub.status.idle": "2022-08-05T15:06:37.184385Z",
     "shell.execute_reply": "2022-08-05T15:06:37.183683Z"
    }
   },
   "outputs": [],
   "source": [
    "%%assignment\n",
    "### ENTER YOUR CODE HERE"
   ]
  },
  {
   "cell_type": "code",
   "execution_count": 8,
   "metadata": {
    "deletable": false,
    "editable": false,
    "execution": {
     "iopub.execute_input": "2022-08-05T15:06:37.186641Z",
     "iopub.status.busy": "2022-08-05T15:06:37.186379Z",
     "iopub.status.idle": "2022-08-05T15:06:37.191766Z",
     "shell.execute_reply": "2022-08-05T15:06:37.191076Z"
    }
   },
   "outputs": [
    {
     "data": {
      "text/html": [
       "<table><tr style=\"background: red; color: white\"><td style=\"text-align:left\">The result should be 100.0 for testcase male = [ True ] </td></tr></table>"
      ],
      "text/plain": [
       "<IPython.core.display.HTML object>"
      ]
     },
     "metadata": {
      "text/html": {
       "username": "jeroen"
      }
     },
     "output_type": "display_data"
    }
   ],
   "source": [
    "%%check\n",
    "male = [ True ]\n",
    "result == 100.0\n",
    "male = [ True, False, False, True, True, False, False, False, True, False ]\n",
    "result == 40.0"
   ]
  },
  {
   "cell_type": "markdown",
   "metadata": {},
   "source": [
    "Working with `sum` and `len` is rather limited. We have more options if we write a for-loop to go over the list.\n",
    "\n",
    "#### Write a loop with a range to count in `male` how many `eager_males` would like to take their speed date on an actual date.\n",
    "\n",
    "Use `range` to iterate over the indices. Since the list males can vary in length, you will also need the `len` function."
   ]
  },
  {
   "cell_type": "code",
   "execution_count": 9,
   "metadata": {
    "deletable": false,
    "editable": true,
    "execution": {
     "iopub.execute_input": "2022-08-05T15:06:37.194001Z",
     "iopub.status.busy": "2022-08-05T15:06:37.193766Z",
     "iopub.status.idle": "2022-08-05T15:06:37.198602Z",
     "shell.execute_reply": "2022-08-05T15:06:37.197937Z"
    }
   },
   "outputs": [
    {
     "data": {
      "text/plain": [
       "0"
      ]
     },
     "execution_count": 9,
     "metadata": {},
     "output_type": "execute_result"
    }
   ],
   "source": [
    "%%assignment\n",
    "eager_males = 0    # increase this for every male that wants to go on a date\n",
    "### ENTER YOUR CODE HERE\n",
    "eager_males"
   ]
  },
  {
   "cell_type": "code",
   "execution_count": 10,
   "metadata": {
    "deletable": false,
    "editable": false,
    "execution": {
     "iopub.execute_input": "2022-08-05T15:06:37.200851Z",
     "iopub.status.busy": "2022-08-05T15:06:37.200559Z",
     "iopub.status.idle": "2022-08-05T15:06:37.205720Z",
     "shell.execute_reply": "2022-08-05T15:06:37.205065Z"
    }
   },
   "outputs": [
    {
     "data": {
      "text/html": [
       "<table><tr style=\"background: red; color: white\"><td style=\"text-align:left\">Your code should contain 'range'</td></tr></table>"
      ],
      "text/plain": [
       "<IPython.core.display.HTML object>"
      ]
     },
     "metadata": {
      "text/html": {
       "username": "jeroen"
      }
     },
     "output_type": "display_data"
    }
   ],
   "source": [
    "%%check\n",
    "mandatory for in range len male\n",
    "forbidden sum\n",
    "male = [ True ]\n",
    "eager_males == 1\n",
    "male = [ True, False, False, True, True, False, False, False, True, False ]\n",
    "eager_males == 4"
   ]
  },
  {
   "cell_type": "markdown",
   "metadata": {},
   "source": [
    "#### Write a loop with a range to count how many `matches` there are in `male` and `female` (i.e. both answered True) would like to take their speed date on an actual date."
   ]
  },
  {
   "cell_type": "code",
   "execution_count": 11,
   "metadata": {
    "deletable": false,
    "editable": true,
    "execution": {
     "iopub.execute_input": "2022-08-05T15:06:37.207948Z",
     "iopub.status.busy": "2022-08-05T15:06:37.207659Z",
     "iopub.status.idle": "2022-08-05T15:06:37.212555Z",
     "shell.execute_reply": "2022-08-05T15:06:37.211907Z"
    }
   },
   "outputs": [
    {
     "data": {
      "text/plain": [
       "0"
      ]
     },
     "execution_count": 11,
     "metadata": {},
     "output_type": "execute_result"
    }
   ],
   "source": [
    "%%assignment\n",
    "matches = 0    # increase this for every male that wants to go on a date\n",
    "### ENTER YOUR CODE HERE\n",
    "matches"
   ]
  },
  {
   "cell_type": "code",
   "execution_count": 12,
   "metadata": {
    "deletable": false,
    "editable": false,
    "execution": {
     "iopub.execute_input": "2022-08-05T15:06:37.214700Z",
     "iopub.status.busy": "2022-08-05T15:06:37.214467Z",
     "iopub.status.idle": "2022-08-05T15:06:37.219870Z",
     "shell.execute_reply": "2022-08-05T15:06:37.218984Z"
    }
   },
   "outputs": [
    {
     "data": {
      "text/html": [
       "<table><tr style=\"background: red; color: white\"><td style=\"text-align:left\">Your code should contain 'range'</td></tr></table>"
      ],
      "text/plain": [
       "<IPython.core.display.HTML object>"
      ]
     },
     "metadata": {
      "text/html": {
       "username": "jeroen"
      }
     },
     "output_type": "display_data"
    }
   ],
   "source": [
    "%%check\n",
    "mandatory for in range len male female\n",
    "male, female = [ True ], [ True ]\n",
    "matches == 1\n",
    "male = [ True, False, False, True, True, False, False, False, True, False ]\n",
    "female = [ False, False, True, True, False, False, False, True, True, False ]\n",
    "matches == 2"
   ]
  }
 ],
 "metadata": {
  "celltoolbar": "Create Assignment",
  "kernelspec": {
   "display_name": "prog",
   "language": "python",
   "name": "prog"
  },
  "language_info": {
   "codemirror_mode": {
    "name": "ipython",
    "version": 3
   },
   "file_extension": ".py",
   "mimetype": "text/x-python",
   "name": "python",
   "nbconvert_exporter": "python",
   "pygments_lexer": "ipython3",
   "version": "3.9.12"
  }
 },
 "nbformat": 4,
 "nbformat_minor": 4
}
