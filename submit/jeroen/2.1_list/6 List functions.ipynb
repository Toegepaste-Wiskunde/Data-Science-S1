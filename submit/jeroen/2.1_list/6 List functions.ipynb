{
 "cells": [
  {
   "cell_type": "markdown",
   "metadata": {},
   "source": [
    "# List functions\n",
    "\n",
    "There are several functions we can apply to a List to modify the List or perform some operation.\n",
    "\n",
    "These functions are called methods. A method belongs to a list, therefore they are connected to a list with a dot; `list.method()`. The method only works on the list it is attachted to.\n",
    "\n",
    "| Index | 0 | 1 | 2 |   |\n",
    "|-------|---|---|---|---|\n",
    "| a = [ | 2 | 3 | 7 | ] |\n",
    "| b = [ | 3 | 8 | 5 | ] |\n",
    "\n",
    "\n",
    "| Example | Result | Comment |\n",
    "|:--------|:-------|:--------|\n",
    "| a.append( 4 ) | a = [ 2, 3, 7, 4 ] | appends a value to the end of the list |\n",
    "| a.index(3)    | 1 | returns the index of the first element with value 3 |\n",
    "| a.insert(1, 9) | a = [ 2, 9, 3, 7 ] | inserts an element with value 9 in the list between the indices 0 and 1 |\n",
    "| a.extend(b) | a = [ 2, 3, 7, 3, 8, 5 ] | appends all elements from list b to list a, note that elements do not have to be unique |\n",
    "| b.sort() | b = [ 3, 5, 8 ] | sorts the elements in the List |\n",
    "| a.reverse() | a = [ 7, 3, 2 ] | reverses the order of the elements |\n"
   ]
  },
  {
   "cell_type": "markdown",
   "metadata": {},
   "source": [
    "# Assignments"
   ]
  },
  {
   "cell_type": "markdown",
   "metadata": {},
   "source": [
    "#### Insert the name 'Jeff' in `hero` at index 1."
   ]
  },
  {
   "cell_type": "code",
   "execution_count": 1,
   "metadata": {
    "execution": {
     "iopub.execute_input": "2022-08-05T15:05:53.704491Z",
     "iopub.status.busy": "2022-08-05T15:05:53.703987Z",
     "iopub.status.idle": "2022-08-05T15:05:53.717148Z",
     "shell.execute_reply": "2022-08-05T15:05:53.716125Z"
    }
   },
   "outputs": [],
   "source": [
    "hero = ['John', 'Jack', 'James']"
   ]
  },
  {
   "cell_type": "code",
   "execution_count": 2,
   "metadata": {
    "deletable": false,
    "editable": true,
    "execution": {
     "iopub.execute_input": "2022-08-05T15:05:53.722564Z",
     "iopub.status.busy": "2022-08-05T15:05:53.722049Z",
     "iopub.status.idle": "2022-08-05T15:05:53.728017Z",
     "shell.execute_reply": "2022-08-05T15:05:53.726879Z"
    }
   },
   "outputs": [],
   "source": [
    "%%assignment\n",
    "### ENTER YOUR CODE HERE"
   ]
  },
  {
   "cell_type": "code",
   "execution_count": 3,
   "metadata": {
    "deletable": false,
    "editable": false,
    "execution": {
     "iopub.execute_input": "2022-08-05T15:05:53.731383Z",
     "iopub.status.busy": "2022-08-05T15:05:53.730936Z",
     "iopub.status.idle": "2022-08-05T15:05:53.743425Z",
     "shell.execute_reply": "2022-08-05T15:05:53.742677Z"
    }
   },
   "outputs": [
    {
     "data": {
      "text/html": [
       "<table><tr style=\"background: red; color: white\"><td style=\"text-align:left\">The result for hero should be ['John', 'Jeff', 'Jack', 'James'] for testcase hero = ['John', 'Jack', 'James'] </td></tr></table>"
      ],
      "text/plain": [
       "<IPython.core.display.HTML object>"
      ]
     },
     "metadata": {
      "text/html": {
       "username": "jeroen"
      }
     },
     "output_type": "display_data"
    }
   ],
   "source": [
    "%%check\n",
    "hero = ['John', 'Jack', 'James']\n",
    "hero == ['John', 'Jeff', 'Jack', 'James']\n",
    "hero = ['Kyle', 'Kevin']\n",
    "hero == ['Kyle', 'Jeff', 'Kevin']"
   ]
  },
  {
   "cell_type": "markdown",
   "metadata": {},
   "source": [
    "#### Insert the name 'Jeff' in `hero` just before 'Jack'. Beware that Jack is not necessarily at index 1, so you have to first get the index of Jack."
   ]
  },
  {
   "cell_type": "code",
   "execution_count": 4,
   "metadata": {
    "execution": {
     "iopub.execute_input": "2022-08-05T15:05:53.746409Z",
     "iopub.status.busy": "2022-08-05T15:05:53.746105Z",
     "iopub.status.idle": "2022-08-05T15:05:53.749783Z",
     "shell.execute_reply": "2022-08-05T15:05:53.749090Z"
    }
   },
   "outputs": [],
   "source": [
    "hero = ['John', 'Jack', 'James']"
   ]
  },
  {
   "cell_type": "code",
   "execution_count": 5,
   "metadata": {
    "deletable": false,
    "editable": true,
    "execution": {
     "iopub.execute_input": "2022-08-05T15:05:53.752807Z",
     "iopub.status.busy": "2022-08-05T15:05:53.752185Z",
     "iopub.status.idle": "2022-08-05T15:05:53.756181Z",
     "shell.execute_reply": "2022-08-05T15:05:53.755348Z"
    }
   },
   "outputs": [],
   "source": [
    "%%assignment\n",
    "### ENTER YOUR CODE HERE"
   ]
  },
  {
   "cell_type": "code",
   "execution_count": 6,
   "metadata": {
    "deletable": false,
    "editable": false,
    "execution": {
     "iopub.execute_input": "2022-08-05T15:05:53.758674Z",
     "iopub.status.busy": "2022-08-05T15:05:53.758381Z",
     "iopub.status.idle": "2022-08-05T15:05:53.763723Z",
     "shell.execute_reply": "2022-08-05T15:05:53.763065Z"
    }
   },
   "outputs": [
    {
     "data": {
      "text/html": [
       "<table><tr style=\"background: red; color: white\"><td style=\"text-align:left\">The result for hero should be ['John', 'Jeff', 'Jack', 'James'] for testcase hero = ['John', 'Jack', 'James'] </td></tr></table>"
      ],
      "text/plain": [
       "<IPython.core.display.HTML object>"
      ]
     },
     "metadata": {
      "text/html": {
       "username": "jeroen"
      }
     },
     "output_type": "display_data"
    }
   ],
   "source": [
    "%%check\n",
    "hero = ['John', 'Jack', 'James']\n",
    "hero == ['John', 'Jeff', 'Jack', 'James']\n",
    "hero = ['Jack', 'James']\n",
    "hero == ['Jeff', 'Jack', 'James']"
   ]
  },
  {
   "cell_type": "markdown",
   "metadata": {},
   "source": [
    "#### What is the second smallest temperature in `temperatures`."
   ]
  },
  {
   "cell_type": "code",
   "execution_count": 7,
   "metadata": {
    "execution": {
     "iopub.execute_input": "2022-08-05T15:05:53.766277Z",
     "iopub.status.busy": "2022-08-05T15:05:53.766026Z",
     "iopub.status.idle": "2022-08-05T15:05:53.769680Z",
     "shell.execute_reply": "2022-08-05T15:05:53.768990Z"
    }
   },
   "outputs": [],
   "source": [
    "temperatures = [20, 9, 15, 30, 31]"
   ]
  },
  {
   "cell_type": "code",
   "execution_count": 8,
   "metadata": {
    "deletable": false,
    "editable": true,
    "execution": {
     "iopub.execute_input": "2022-08-05T15:05:53.772011Z",
     "iopub.status.busy": "2022-08-05T15:05:53.771768Z",
     "iopub.status.idle": "2022-08-05T15:05:53.775503Z",
     "shell.execute_reply": "2022-08-05T15:05:53.774654Z"
    }
   },
   "outputs": [],
   "source": [
    "%%assignment\n",
    "### ENTER YOUR CODE HERE"
   ]
  },
  {
   "cell_type": "code",
   "execution_count": 9,
   "metadata": {
    "deletable": false,
    "editable": false,
    "execution": {
     "iopub.execute_input": "2022-08-05T15:05:53.777845Z",
     "iopub.status.busy": "2022-08-05T15:05:53.777556Z",
     "iopub.status.idle": "2022-08-05T15:05:53.782828Z",
     "shell.execute_reply": "2022-08-05T15:05:53.782160Z"
    }
   },
   "outputs": [
    {
     "data": {
      "text/html": [
       "<table><tr style=\"background: red; color: white\"><td style=\"text-align:left\">The result should be 15 for testcase temperatures = [20, 9, 15, 30, 31] </td></tr></table>"
      ],
      "text/plain": [
       "<IPython.core.display.HTML object>"
      ]
     },
     "metadata": {
      "text/html": {
       "username": "jeroen"
      }
     },
     "output_type": "display_data"
    }
   ],
   "source": [
    "%%check\n",
    "temperatures = [20, 9, 15, 30, 31]\n",
    "result == 15\n",
    "temperatures = [2.5, 3.5, 4.5, 1.2]\n",
    "result == 2.5"
   ]
  },
  {
   "cell_type": "markdown",
   "metadata": {},
   "source": [
    "#### Replace the highest temperature with 40.\n",
    "Hint: Find the index of the maximum."
   ]
  },
  {
   "cell_type": "code",
   "execution_count": 10,
   "metadata": {
    "execution": {
     "iopub.execute_input": "2022-08-05T15:05:53.785330Z",
     "iopub.status.busy": "2022-08-05T15:05:53.785038Z",
     "iopub.status.idle": "2022-08-05T15:05:53.788728Z",
     "shell.execute_reply": "2022-08-05T15:05:53.787941Z"
    }
   },
   "outputs": [],
   "source": [
    "temperatures = [20, 9, 15, 31, 30]"
   ]
  },
  {
   "cell_type": "code",
   "execution_count": 11,
   "metadata": {
    "deletable": false,
    "editable": true,
    "execution": {
     "iopub.execute_input": "2022-08-05T15:05:53.790953Z",
     "iopub.status.busy": "2022-08-05T15:05:53.790718Z",
     "iopub.status.idle": "2022-08-05T15:05:53.794268Z",
     "shell.execute_reply": "2022-08-05T15:05:53.793492Z"
    }
   },
   "outputs": [],
   "source": [
    "%%assignment\n",
    "### ENTER YOUR CODE HERE"
   ]
  },
  {
   "cell_type": "code",
   "execution_count": 12,
   "metadata": {
    "deletable": false,
    "editable": false,
    "execution": {
     "iopub.execute_input": "2022-08-05T15:05:53.796365Z",
     "iopub.status.busy": "2022-08-05T15:05:53.796143Z",
     "iopub.status.idle": "2022-08-05T15:05:53.801242Z",
     "shell.execute_reply": "2022-08-05T15:05:53.800509Z"
    }
   },
   "outputs": [
    {
     "data": {
      "text/html": [
       "<table><tr style=\"background: red; color: white\"><td style=\"text-align:left\">The result for temperatures should be [20, 9, 15, 30, 40] for testcase temperatures = [20, 9, 15, 30, 31] </td></tr></table>"
      ],
      "text/plain": [
       "<IPython.core.display.HTML object>"
      ]
     },
     "metadata": {
      "text/html": {
       "username": "jeroen"
      }
     },
     "output_type": "display_data"
    }
   ],
   "source": [
    "%%check\n",
    "temperatures = [20, 9, 15, 30, 31]\n",
    "temperatures == [20, 9, 15, 30, 40]\n",
    "temperatures = [2.5, 3.5, 3.2, 1.2]\n",
    "temperatures == [2.5, 40, 3.2, 1.2]"
   ]
  },
  {
   "cell_type": "markdown",
   "metadata": {},
   "source": [
    "#### Swap the position of the lowest value in temperatures with position of the highest temperature\n",
    "You likely need multiple variables and multiple lines of code."
   ]
  },
  {
   "cell_type": "code",
   "execution_count": 13,
   "metadata": {
    "execution": {
     "iopub.execute_input": "2022-08-05T15:05:53.803623Z",
     "iopub.status.busy": "2022-08-05T15:05:53.803321Z",
     "iopub.status.idle": "2022-08-05T15:05:53.807090Z",
     "shell.execute_reply": "2022-08-05T15:05:53.806258Z"
    }
   },
   "outputs": [],
   "source": [
    "temperatures = [20, 9, 15, 31, 30]\n",
    "# i.e. should become [ 20, 31, 15, 9, 30 ]"
   ]
  },
  {
   "cell_type": "code",
   "execution_count": 14,
   "metadata": {
    "deletable": false,
    "editable": true,
    "execution": {
     "iopub.execute_input": "2022-08-05T15:05:53.809283Z",
     "iopub.status.busy": "2022-08-05T15:05:53.809039Z",
     "iopub.status.idle": "2022-08-05T15:05:53.812561Z",
     "shell.execute_reply": "2022-08-05T15:05:53.811892Z"
    }
   },
   "outputs": [],
   "source": [
    "%%assignment\n",
    "### ENTER YOUR CODE HERE"
   ]
  },
  {
   "cell_type": "code",
   "execution_count": 15,
   "metadata": {
    "deletable": false,
    "editable": false,
    "execution": {
     "iopub.execute_input": "2022-08-05T15:05:53.814710Z",
     "iopub.status.busy": "2022-08-05T15:05:53.814471Z",
     "iopub.status.idle": "2022-08-05T15:05:53.819421Z",
     "shell.execute_reply": "2022-08-05T15:05:53.818778Z"
    }
   },
   "outputs": [
    {
     "data": {
      "text/html": [
       "<table><tr style=\"background: red; color: white\"><td style=\"text-align:left\">The result for temperatures should be [20, 31, 15, 30, 9] for testcase temperatures = [20, 9, 15, 30, 31] </td></tr></table>"
      ],
      "text/plain": [
       "<IPython.core.display.HTML object>"
      ]
     },
     "metadata": {
      "text/html": {
       "username": "jeroen"
      }
     },
     "output_type": "display_data"
    }
   ],
   "source": [
    "%%check\n",
    "temperatures = [20, 9, 15, 30, 31]\n",
    "temperatures == [20, 31, 15, 30, 9]\n",
    "temperatures = [3.5, 2.5, 3.2, 1.2]\n",
    "temperatures == [1.2, 2.5, 3.2, 3.5]"
   ]
  },
  {
   "cell_type": "code",
   "execution_count": null,
   "metadata": {},
   "outputs": [],
   "source": []
  }
 ],
 "metadata": {
  "celltoolbar": "Create Assignment",
  "kernelspec": {
   "display_name": "prog",
   "language": "python",
   "name": "prog"
  },
  "language_info": {
   "codemirror_mode": {
    "name": "ipython",
    "version": 3
   },
   "file_extension": ".py",
   "mimetype": "text/x-python",
   "name": "python",
   "nbconvert_exporter": "python",
   "pygments_lexer": "ipython3",
   "version": "3.9.12"
  }
 },
 "nbformat": 4,
 "nbformat_minor": 4
}
