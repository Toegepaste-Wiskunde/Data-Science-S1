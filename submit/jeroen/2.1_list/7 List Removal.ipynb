{
 "cells": [
  {
   "cell_type": "markdown",
   "metadata": {},
   "source": [
    "# Removing an element from a List\n",
    "\n",
    "You can remove an element from a List by either\n",
    "\n",
    "| Index | 0 | 1 | 2 | 3 | 4 |   |\n",
    "|-------|---|---|---|---|---|---|\n",
    "| a = [ | 2 | 3 | 7 | 5 | 6 | ] |\n",
    "\n",
    "\n",
    "| code | result | comment |\n",
    "|:-----|:-------|:--------|\n",
    "| a.remove(3) | a = [ 2, 7, 5, 6 ] | removes by value, the first element that is equal to 3 |\n",
    "| del a[2] | a = [ 2, 3, 5, 6 ] | removes by index, in this case the thirds element |\n",
    "\n",
    "Note that after removal, it will be as of the index is reset to start from 0 without any gaps."
   ]
  },
  {
   "cell_type": "markdown",
   "metadata": {},
   "source": [
    "# Examples\n"
   ]
  },
  {
   "cell_type": "markdown",
   "metadata": {},
   "source": [
    "Remove the element at index 1"
   ]
  },
  {
   "cell_type": "code",
   "execution_count": 1,
   "metadata": {
    "execution": {
     "iopub.execute_input": "2022-08-05T15:05:51.295892Z",
     "iopub.status.busy": "2022-08-05T15:05:51.294905Z",
     "iopub.status.idle": "2022-08-05T15:05:51.309162Z",
     "shell.execute_reply": "2022-08-05T15:05:51.308176Z"
    }
   },
   "outputs": [],
   "source": [
    "a = [ 2, 3, 7, 2 ]"
   ]
  },
  {
   "cell_type": "code",
   "execution_count": 2,
   "metadata": {
    "execution": {
     "iopub.execute_input": "2022-08-05T15:05:51.313484Z",
     "iopub.status.busy": "2022-08-05T15:05:51.313130Z",
     "iopub.status.idle": "2022-08-05T15:05:51.317780Z",
     "shell.execute_reply": "2022-08-05T15:05:51.316776Z"
    }
   },
   "outputs": [],
   "source": [
    "del a[1]"
   ]
  },
  {
   "cell_type": "code",
   "execution_count": 3,
   "metadata": {
    "execution": {
     "iopub.execute_input": "2022-08-05T15:05:51.322357Z",
     "iopub.status.busy": "2022-08-05T15:05:51.321991Z",
     "iopub.status.idle": "2022-08-05T15:05:51.332181Z",
     "shell.execute_reply": "2022-08-05T15:05:51.331498Z"
    }
   },
   "outputs": [
    {
     "data": {
      "text/plain": [
       "[2, 7, 2]"
      ]
     },
     "execution_count": 3,
     "metadata": {},
     "output_type": "execute_result"
    }
   ],
   "source": [
    "a"
   ]
  },
  {
   "cell_type": "markdown",
   "metadata": {},
   "source": [
    "Remove the first value that equals 2"
   ]
  },
  {
   "cell_type": "code",
   "execution_count": 4,
   "metadata": {
    "execution": {
     "iopub.execute_input": "2022-08-05T15:05:51.337169Z",
     "iopub.status.busy": "2022-08-05T15:05:51.336871Z",
     "iopub.status.idle": "2022-08-05T15:05:51.340697Z",
     "shell.execute_reply": "2022-08-05T15:05:51.339821Z"
    }
   },
   "outputs": [],
   "source": [
    "a = [ 2, 3, 7, 2 ]"
   ]
  },
  {
   "cell_type": "code",
   "execution_count": 5,
   "metadata": {
    "execution": {
     "iopub.execute_input": "2022-08-05T15:05:51.343985Z",
     "iopub.status.busy": "2022-08-05T15:05:51.343424Z",
     "iopub.status.idle": "2022-08-05T15:05:51.347253Z",
     "shell.execute_reply": "2022-08-05T15:05:51.346517Z"
    }
   },
   "outputs": [],
   "source": [
    "a.remove(2)"
   ]
  },
  {
   "cell_type": "code",
   "execution_count": 6,
   "metadata": {
    "execution": {
     "iopub.execute_input": "2022-08-05T15:05:51.350067Z",
     "iopub.status.busy": "2022-08-05T15:05:51.349732Z",
     "iopub.status.idle": "2022-08-05T15:05:51.354833Z",
     "shell.execute_reply": "2022-08-05T15:05:51.354105Z"
    }
   },
   "outputs": [
    {
     "data": {
      "text/plain": [
       "[3, 7, 2]"
      ]
     },
     "execution_count": 6,
     "metadata": {},
     "output_type": "execute_result"
    }
   ],
   "source": [
    "a"
   ]
  },
  {
   "cell_type": "markdown",
   "metadata": {},
   "source": [
    "The index is always numerbered from 0 without gaps"
   ]
  },
  {
   "cell_type": "code",
   "execution_count": 7,
   "metadata": {
    "execution": {
     "iopub.execute_input": "2022-08-05T15:05:51.357629Z",
     "iopub.status.busy": "2022-08-05T15:05:51.357347Z",
     "iopub.status.idle": "2022-08-05T15:05:51.362289Z",
     "shell.execute_reply": "2022-08-05T15:05:51.361580Z"
    }
   },
   "outputs": [
    {
     "data": {
      "text/plain": [
       "2"
      ]
     },
     "execution_count": 7,
     "metadata": {},
     "output_type": "execute_result"
    }
   ],
   "source": [
    "a[2]"
   ]
  },
  {
   "cell_type": "markdown",
   "metadata": {},
   "source": [
    "# Assignments"
   ]
  },
  {
   "cell_type": "markdown",
   "metadata": {},
   "source": [
    "#### Remove 'Jack' from the List `names`"
   ]
  },
  {
   "cell_type": "code",
   "execution_count": 8,
   "metadata": {
    "execution": {
     "iopub.execute_input": "2022-08-05T15:05:51.364877Z",
     "iopub.status.busy": "2022-08-05T15:05:51.364544Z",
     "iopub.status.idle": "2022-08-05T15:05:51.368352Z",
     "shell.execute_reply": "2022-08-05T15:05:51.367621Z"
    }
   },
   "outputs": [],
   "source": [
    "names = ['John', 'Jack', 'John', 'Philip']"
   ]
  },
  {
   "cell_type": "code",
   "execution_count": 9,
   "metadata": {
    "deletable": false,
    "editable": true,
    "execution": {
     "iopub.execute_input": "2022-08-05T15:05:51.370741Z",
     "iopub.status.busy": "2022-08-05T15:05:51.370419Z",
     "iopub.status.idle": "2022-08-05T15:05:51.374575Z",
     "shell.execute_reply": "2022-08-05T15:05:51.373860Z"
    }
   },
   "outputs": [],
   "source": [
    "%%assignment\n",
    "### ENTER YOUR CODE HERE"
   ]
  },
  {
   "cell_type": "code",
   "execution_count": 10,
   "metadata": {
    "deletable": false,
    "editable": false,
    "execution": {
     "iopub.execute_input": "2022-08-05T15:05:51.376875Z",
     "iopub.status.busy": "2022-08-05T15:05:51.376557Z",
     "iopub.status.idle": "2022-08-05T15:05:51.382001Z",
     "shell.execute_reply": "2022-08-05T15:05:51.381348Z"
    }
   },
   "outputs": [
    {
     "data": {
      "text/html": [
       "<table><tr style=\"background: red; color: white\"><td style=\"text-align:left\">The result for names should be ['John', 'John', 'Philip'] for testcase names = ['John', 'Jack', 'John', 'Philip'] </td></tr></table>"
      ],
      "text/plain": [
       "<IPython.core.display.HTML object>"
      ]
     },
     "metadata": {
      "text/html": {
       "username": "jeroen"
      }
     },
     "output_type": "display_data"
    }
   ],
   "source": [
    "%%check\n",
    "names = ['John', 'Jack', 'John', 'Philip']\n",
    "names == ['John', 'John', 'Philip']\n",
    "names = ['Jack']\n",
    "names == []"
   ]
  },
  {
   "cell_type": "markdown",
   "metadata": {},
   "source": [
    "#### Remove the element at index 2 from the List `names`"
   ]
  },
  {
   "cell_type": "code",
   "execution_count": 11,
   "metadata": {
    "execution": {
     "iopub.execute_input": "2022-08-05T15:05:51.384313Z",
     "iopub.status.busy": "2022-08-05T15:05:51.384030Z",
     "iopub.status.idle": "2022-08-05T15:05:51.387557Z",
     "shell.execute_reply": "2022-08-05T15:05:51.386864Z"
    }
   },
   "outputs": [],
   "source": [
    "names = ['John', 'Jack', 'John', 'Philip']"
   ]
  },
  {
   "cell_type": "code",
   "execution_count": 12,
   "metadata": {
    "deletable": false,
    "editable": true,
    "execution": {
     "iopub.execute_input": "2022-08-05T15:05:51.389726Z",
     "iopub.status.busy": "2022-08-05T15:05:51.389437Z",
     "iopub.status.idle": "2022-08-05T15:05:51.393025Z",
     "shell.execute_reply": "2022-08-05T15:05:51.392355Z"
    }
   },
   "outputs": [],
   "source": [
    "%%assignment\n",
    "### ENTER YOUR CODE HERE"
   ]
  },
  {
   "cell_type": "code",
   "execution_count": 13,
   "metadata": {
    "deletable": false,
    "editable": false,
    "execution": {
     "iopub.execute_input": "2022-08-05T15:05:51.395260Z",
     "iopub.status.busy": "2022-08-05T15:05:51.394970Z",
     "iopub.status.idle": "2022-08-05T15:05:51.400064Z",
     "shell.execute_reply": "2022-08-05T15:05:51.399434Z"
    }
   },
   "outputs": [
    {
     "data": {
      "text/html": [
       "<table><tr style=\"background: red; color: white\"><td style=\"text-align:left\">The result for names should be ['John', 'Jack', 'Philip'] for testcase names = ['John', 'Jack', 'John', 'Philip'] </td></tr></table>"
      ],
      "text/plain": [
       "<IPython.core.display.HTML object>"
      ]
     },
     "metadata": {
      "text/html": {
       "username": "jeroen"
      }
     },
     "output_type": "display_data"
    }
   ],
   "source": [
    "%%check\n",
    "names = ['John', 'Jack', 'John', 'Philip']\n",
    "names == ['John', 'Jack', 'Philip']\n",
    "names = [ 1, 2, 3, 4 ]\n",
    "names == [ 1, 2, 4 ]"
   ]
  },
  {
   "cell_type": "markdown",
   "metadata": {},
   "source": [
    "#### What is the index of 'Philip' after executing the code below?"
   ]
  },
  {
   "cell_type": "code",
   "execution_count": 14,
   "metadata": {
    "execution": {
     "iopub.execute_input": "2022-08-05T15:05:51.402455Z",
     "iopub.status.busy": "2022-08-05T15:05:51.402228Z",
     "iopub.status.idle": "2022-08-05T15:05:51.405640Z",
     "shell.execute_reply": "2022-08-05T15:05:51.404989Z"
    }
   },
   "outputs": [],
   "source": [
    "names = ['John', 'Jack', 'John', 'Philip']\n",
    "del names[0]"
   ]
  },
  {
   "cell_type": "code",
   "execution_count": 15,
   "metadata": {
    "execution": {
     "iopub.execute_input": "2022-08-05T15:05:51.407694Z",
     "iopub.status.busy": "2022-08-05T15:05:51.407475Z",
     "iopub.status.idle": "2022-08-05T15:05:51.416633Z",
     "shell.execute_reply": "2022-08-05T15:05:51.415990Z"
    },
    "nbgrader": {
     "grade": false,
     "grade_id": "cell-0bda489b1c5079f6",
     "locked": true,
     "schema_version": 3,
     "solution": false,
     "task": false
    }
   },
   "outputs": [
    {
     "data": {
      "application/vnd.jupyter.widget-view+json": {
       "model_id": "06eace0898cd450fbdaa3cebb53581f9",
       "version_major": 2,
       "version_minor": 0
      },
      "text/plain": [
       "RadioButtons(layout=Layout(width='max-content'), options=('0', '1', '2', '3'), value='0')"
      ]
     },
     "metadata": {},
     "output_type": "display_data"
    }
   ],
   "source": [
    "%%mc indexofphilip\n",
    "0\n",
    "1\n",
    "2\n",
    "3"
   ]
  },
  {
   "cell_type": "code",
   "execution_count": 16,
   "metadata": {
    "deletable": false,
    "editable": false,
    "execution": {
     "iopub.execute_input": "2022-08-05T15:05:51.418922Z",
     "iopub.status.busy": "2022-08-05T15:05:51.418665Z",
     "iopub.status.idle": "2022-08-05T15:05:51.423315Z",
     "shell.execute_reply": "2022-08-05T15:05:51.422679Z"
    }
   },
   "outputs": [
    {
     "data": {
      "text/html": [
       "<table><tr style=\"background: red; color: white\"><td style=\"text-align:left\">That is the wrong answer</td></tr></table>"
      ],
      "text/plain": [
       "<IPython.core.display.HTML object>"
      ]
     },
     "metadata": {
      "text/html": {
       "username": "jeroen"
      }
     },
     "output_type": "display_data"
    }
   ],
   "source": [
    "%%check\n",
    "result == 1725417809479212"
   ]
  },
  {
   "cell_type": "code",
   "execution_count": null,
   "metadata": {},
   "outputs": [],
   "source": []
  }
 ],
 "metadata": {
  "celltoolbar": "Create Assignment",
  "kernelspec": {
   "display_name": "prog",
   "language": "python",
   "name": "prog"
  },
  "language_info": {
   "codemirror_mode": {
    "name": "ipython",
    "version": 3
   },
   "file_extension": ".py",
   "mimetype": "text/x-python",
   "name": "python",
   "nbconvert_exporter": "python",
   "pygments_lexer": "ipython3",
   "version": "3.9.12"
  },
  "widgets": {
   "application/vnd.jupyter.widget-state+json": {
    "state": {
     "06eace0898cd450fbdaa3cebb53581f9": {
      "model_module": "@jupyter-widgets/controls",
      "model_module_version": "1.5.0",
      "model_name": "RadioButtonsModel",
      "state": {
       "_dom_classes": [],
       "_model_module": "@jupyter-widgets/controls",
       "_model_module_version": "1.5.0",
       "_model_name": "RadioButtonsModel",
       "_options_labels": [
        "0",
        "1",
        "2",
        "3"
       ],
       "_view_count": null,
       "_view_module": "@jupyter-widgets/controls",
       "_view_module_version": "1.5.0",
       "_view_name": "RadioButtonsView",
       "description": "",
       "description_tooltip": null,
       "disabled": false,
       "index": 0,
       "layout": "IPY_MODEL_42e87e59893a4680886019e3bd93999b",
       "style": "IPY_MODEL_5b12e54264db4761bf6582648e9bd692"
      }
     },
     "42e87e59893a4680886019e3bd93999b": {
      "model_module": "@jupyter-widgets/base",
      "model_module_version": "1.2.0",
      "model_name": "LayoutModel",
      "state": {
       "_model_module": "@jupyter-widgets/base",
       "_model_module_version": "1.2.0",
       "_model_name": "LayoutModel",
       "_view_count": null,
       "_view_module": "@jupyter-widgets/base",
       "_view_module_version": "1.2.0",
       "_view_name": "LayoutView",
       "align_content": null,
       "align_items": null,
       "align_self": null,
       "border": null,
       "bottom": null,
       "display": null,
       "flex": null,
       "flex_flow": null,
       "grid_area": null,
       "grid_auto_columns": null,
       "grid_auto_flow": null,
       "grid_auto_rows": null,
       "grid_column": null,
       "grid_gap": null,
       "grid_row": null,
       "grid_template_areas": null,
       "grid_template_columns": null,
       "grid_template_rows": null,
       "height": null,
       "justify_content": null,
       "justify_items": null,
       "left": null,
       "margin": null,
       "max_height": null,
       "max_width": null,
       "min_height": null,
       "min_width": null,
       "object_fit": null,
       "object_position": null,
       "order": null,
       "overflow": null,
       "overflow_x": null,
       "overflow_y": null,
       "padding": null,
       "right": null,
       "top": null,
       "visibility": null,
       "width": "max-content"
      }
     },
     "5b12e54264db4761bf6582648e9bd692": {
      "model_module": "@jupyter-widgets/controls",
      "model_module_version": "1.5.0",
      "model_name": "DescriptionStyleModel",
      "state": {
       "_model_module": "@jupyter-widgets/controls",
       "_model_module_version": "1.5.0",
       "_model_name": "DescriptionStyleModel",
       "_view_count": null,
       "_view_module": "@jupyter-widgets/base",
       "_view_module_version": "1.2.0",
       "_view_name": "StyleView",
       "description_width": ""
      }
     }
    },
    "version_major": 2,
    "version_minor": 0
   }
  }
 },
 "nbformat": 4,
 "nbformat_minor": 4
}
