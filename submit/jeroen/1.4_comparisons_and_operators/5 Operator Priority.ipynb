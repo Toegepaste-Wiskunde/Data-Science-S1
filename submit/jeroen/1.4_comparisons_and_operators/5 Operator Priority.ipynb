{
 "cells": [
  {
   "cell_type": "markdown",
   "metadata": {},
   "source": [
    "# Operator precedence\n",
    "\n",
    "Just like in mathematics, operators in programming languages are subject to precedence rules that determine which operator goes first. If we did not have operator precedences, there would be confusion when we see an expression like $ 1 + 2 \\times 3 $, is the answer $7$ or $9$? Because we have a rule that says multiplication take precedence over addition, we know that we should first multiply and then add, so the unambiguous answer is $7$. Whenever we want to bypass predence rules, we can used brackets to make sure that the part within brackets is computed first, e.g. $ (1 + 2) \\times 3$ gives $9$.\n",
    "\n",
    "Python uses a set of precedence rules that correspond to what you are used to in mathematics, albeit a bit more extensive:\n",
    "\n",
    "| Operator  | Description |\n",
    "| :-------- | :---------- |\n",
    "| () | Parentheses (grouping)|\n",
    "function() | Function call (will be discussed later)\n",
    "** | Exponentiation\n",
    "+x, -x | Unary positive/negative\n",
    "*, /, % | Multiplication, division, remainder\n",
    "+, - | Addition, subtraction\n",
    "in, not in, is, is not, <, <=,  >,  >=, <>, !=, == | Comparisons\n",
    "not x | Boolean NOT\n",
    "and\t| Boolean AND\n",
    "or | Boolean OR\n",
    "\n",
    "If an operator is above another it takes precedence. If two operators have the same priority (e.g. + and -) the left-most operator goes first."
   ]
  },
  {
   "cell_type": "markdown",
   "metadata": {},
   "source": [
    "# Examples"
   ]
  },
  {
   "cell_type": "markdown",
   "metadata": {},
   "source": [
    "$ 2 ^ 2 + 2 \\cdot 3 $, the exponent goes first, then multiply, finally add."
   ]
  },
  {
   "cell_type": "code",
   "execution_count": 1,
   "metadata": {
    "execution": {
     "iopub.execute_input": "2022-08-05T15:05:43.565397Z",
     "iopub.status.busy": "2022-08-05T15:05:43.564896Z",
     "iopub.status.idle": "2022-08-05T15:05:43.585331Z",
     "shell.execute_reply": "2022-08-05T15:05:43.584594Z"
    }
   },
   "outputs": [
    {
     "data": {
      "text/plain": [
       "10"
      ]
     },
     "execution_count": 1,
     "metadata": {},
     "output_type": "execute_result"
    }
   ],
   "source": [
    "2 ** 2 + 2 * 3"
   ]
  },
  {
   "cell_type": "markdown",
   "metadata": {},
   "source": [
    "$ \\neg True \\lor True $, since the NOT goes before an OR, we do not need braces"
   ]
  },
  {
   "cell_type": "code",
   "execution_count": 2,
   "metadata": {
    "execution": {
     "iopub.execute_input": "2022-08-05T15:05:43.590592Z",
     "iopub.status.busy": "2022-08-05T15:05:43.590255Z",
     "iopub.status.idle": "2022-08-05T15:05:43.595299Z",
     "shell.execute_reply": "2022-08-05T15:05:43.594629Z"
    }
   },
   "outputs": [
    {
     "data": {
      "text/plain": [
       "True"
      ]
     },
     "execution_count": 2,
     "metadata": {},
     "output_type": "execute_result"
    }
   ],
   "source": [
    "not True or True"
   ]
  },
  {
   "cell_type": "markdown",
   "metadata": {},
   "source": [
    "$ (1 + 2) ^{1 + 3} $, the part within braces go first. Even it no braces are written in the exponent, clearly the intention is to first add the 1 and 3 and then use the result as an exponent."
   ]
  },
  {
   "cell_type": "code",
   "execution_count": 3,
   "metadata": {
    "execution": {
     "iopub.execute_input": "2022-08-05T15:05:43.598745Z",
     "iopub.status.busy": "2022-08-05T15:05:43.598462Z",
     "iopub.status.idle": "2022-08-05T15:05:43.603096Z",
     "shell.execute_reply": "2022-08-05T15:05:43.602395Z"
    }
   },
   "outputs": [
    {
     "data": {
      "text/plain": [
       "81"
      ]
     },
     "execution_count": 3,
     "metadata": {},
     "output_type": "execute_result"
    }
   ],
   "source": [
    "(1 + 2) ** (1 + 3)"
   ]
  },
  {
   "cell_type": "markdown",
   "metadata": {},
   "source": [
    "$ \\sqrt{10 + 15} $, we can write the square root using the function `math.sqrt()`"
   ]
  },
  {
   "cell_type": "code",
   "execution_count": 4,
   "metadata": {
    "execution": {
     "iopub.execute_input": "2022-08-05T15:05:43.605802Z",
     "iopub.status.busy": "2022-08-05T15:05:43.605415Z",
     "iopub.status.idle": "2022-08-05T15:05:43.609180Z",
     "shell.execute_reply": "2022-08-05T15:05:43.608722Z"
    }
   },
   "outputs": [
    {
     "data": {
      "text/plain": [
       "5.0"
      ]
     },
     "execution_count": 4,
     "metadata": {},
     "output_type": "execute_result"
    }
   ],
   "source": [
    "math.sqrt(10 + 15)"
   ]
  },
  {
   "cell_type": "markdown",
   "metadata": {},
   "source": [
    "# Assignments"
   ]
  },
  {
   "cell_type": "markdown",
   "metadata": {},
   "source": [
    "#### Write $ 2 - 3 \\cdot 2 + 2 ^ 3$"
   ]
  },
  {
   "cell_type": "code",
   "execution_count": 5,
   "metadata": {
    "deletable": false,
    "editable": true,
    "execution": {
     "iopub.execute_input": "2022-08-05T15:05:43.611705Z",
     "iopub.status.busy": "2022-08-05T15:05:43.611463Z",
     "iopub.status.idle": "2022-08-05T15:05:43.614656Z",
     "shell.execute_reply": "2022-08-05T15:05:43.614196Z"
    }
   },
   "outputs": [],
   "source": [
    "%%assignment \n",
    "### ENTER YOUR CODE HERE"
   ]
  },
  {
   "cell_type": "code",
   "execution_count": 6,
   "metadata": {
    "deletable": false,
    "editable": false,
    "execution": {
     "iopub.execute_input": "2022-08-05T15:05:43.616790Z",
     "iopub.status.busy": "2022-08-05T15:05:43.616496Z",
     "iopub.status.idle": "2022-08-05T15:05:43.620810Z",
     "shell.execute_reply": "2022-08-05T15:05:43.620353Z"
    }
   },
   "outputs": [
    {
     "data": {
      "text/html": [
       "<table><tr style=\"background: red; color: white\"><td style=\"text-align:left\">The result should be 4</td></tr></table>"
      ],
      "text/plain": [
       "<IPython.core.display.HTML object>"
      ]
     },
     "metadata": {
      "text/html": {
       "username": "jeroen"
      }
     },
     "output_type": "display_data"
    }
   ],
   "source": [
    "%%check\n",
    "result == 4\n",
    "mandatory 2 3 - + * **\n",
    "forbidden 1 4 5 6 7 8 9 0"
   ]
  },
  {
   "cell_type": "markdown",
   "metadata": {},
   "source": [
    "#### Write: $ 2 \\cdot 2 ^ 3$"
   ]
  },
  {
   "cell_type": "code",
   "execution_count": 7,
   "metadata": {
    "deletable": false,
    "editable": true,
    "execution": {
     "iopub.execute_input": "2022-08-05T15:05:43.622865Z",
     "iopub.status.busy": "2022-08-05T15:05:43.622682Z",
     "iopub.status.idle": "2022-08-05T15:05:43.625534Z",
     "shell.execute_reply": "2022-08-05T15:05:43.625125Z"
    }
   },
   "outputs": [],
   "source": [
    "%%assignment \n",
    "### ENTER YOUR CODE HERE"
   ]
  },
  {
   "cell_type": "code",
   "execution_count": 8,
   "metadata": {
    "deletable": false,
    "editable": false,
    "execution": {
     "iopub.execute_input": "2022-08-05T15:05:43.627511Z",
     "iopub.status.busy": "2022-08-05T15:05:43.627287Z",
     "iopub.status.idle": "2022-08-05T15:05:43.630922Z",
     "shell.execute_reply": "2022-08-05T15:05:43.630506Z"
    }
   },
   "outputs": [
    {
     "data": {
      "text/html": [
       "<table><tr style=\"background: red; color: white\"><td style=\"text-align:left\">The result should be 16</td></tr></table>"
      ],
      "text/plain": [
       "<IPython.core.display.HTML object>"
      ]
     },
     "metadata": {
      "text/html": {
       "username": "jeroen"
      }
     },
     "output_type": "display_data"
    }
   ],
   "source": [
    "%%check\n",
    "result == 16\n",
    "mandatory 2 3 * **\n",
    "forbidden 1 4 5 6 7 8 9 0 + -"
   ]
  },
  {
   "cell_type": "markdown",
   "metadata": {},
   "source": [
    "#### Write: $ (2 + 3) \\cdot 2 ^ {2 + 3} $"
   ]
  },
  {
   "cell_type": "code",
   "execution_count": 9,
   "metadata": {
    "deletable": false,
    "editable": true,
    "execution": {
     "iopub.execute_input": "2022-08-05T15:05:43.633113Z",
     "iopub.status.busy": "2022-08-05T15:05:43.632749Z",
     "iopub.status.idle": "2022-08-05T15:05:43.635682Z",
     "shell.execute_reply": "2022-08-05T15:05:43.635285Z"
    }
   },
   "outputs": [],
   "source": [
    "%%assignment \n",
    "### ENTER YOUR CODE HERE"
   ]
  },
  {
   "cell_type": "code",
   "execution_count": 10,
   "metadata": {
    "deletable": false,
    "editable": false,
    "execution": {
     "iopub.execute_input": "2022-08-05T15:05:43.637608Z",
     "iopub.status.busy": "2022-08-05T15:05:43.637388Z",
     "iopub.status.idle": "2022-08-05T15:05:43.640955Z",
     "shell.execute_reply": "2022-08-05T15:05:43.640553Z"
    }
   },
   "outputs": [
    {
     "data": {
      "text/html": [
       "<table><tr style=\"background: red; color: white\"><td style=\"text-align:left\">The result should be 160</td></tr></table>"
      ],
      "text/plain": [
       "<IPython.core.display.HTML object>"
      ]
     },
     "metadata": {
      "text/html": {
       "username": "jeroen"
      }
     },
     "output_type": "display_data"
    }
   ],
   "source": [
    "%%check\n",
    "result == 160\n",
    "mandatory 2 3 * ** + \n",
    "forbidden 1 4 5 6 7 8 9 0 -"
   ]
  },
  {
   "cell_type": "markdown",
   "metadata": {},
   "source": [
    "#### Consider a triangle with a right angle ($90^\\circ$). The adjacent sides are 5 and 12, give the expression to compute the length of the third side (the hypotenuse)."
   ]
  },
  {
   "cell_type": "code",
   "execution_count": 11,
   "metadata": {
    "deletable": false,
    "editable": true,
    "execution": {
     "iopub.execute_input": "2022-08-05T15:05:43.642933Z",
     "iopub.status.busy": "2022-08-05T15:05:43.642718Z",
     "iopub.status.idle": "2022-08-05T15:05:43.645366Z",
     "shell.execute_reply": "2022-08-05T15:05:43.644974Z"
    }
   },
   "outputs": [],
   "source": [
    "%%assignment \n",
    "### ENTER YOUR CODE HERE"
   ]
  },
  {
   "cell_type": "code",
   "execution_count": 12,
   "metadata": {
    "deletable": false,
    "editable": false,
    "execution": {
     "iopub.execute_input": "2022-08-05T15:05:43.647506Z",
     "iopub.status.busy": "2022-08-05T15:05:43.647063Z",
     "iopub.status.idle": "2022-08-05T15:05:43.650821Z",
     "shell.execute_reply": "2022-08-05T15:05:43.650424Z"
    }
   },
   "outputs": [
    {
     "data": {
      "text/html": [
       "<table><tr style=\"background: red; color: white\"><td style=\"text-align:left\">The result should be 13.0</td></tr></table>"
      ],
      "text/plain": [
       "<IPython.core.display.HTML object>"
      ]
     },
     "metadata": {
      "text/html": {
       "username": "jeroen"
      }
     },
     "output_type": "display_data"
    }
   ],
   "source": [
    "%%check\n",
    "result == 13.0\n",
    "mandatory 2 5 12 + ( ) sqrt\n",
    "forbidden 0 3 4 6 7 8 9 10 11 13"
   ]
  },
  {
   "cell_type": "markdown",
   "metadata": {},
   "source": [
    "#### What is the order in which the operators are computed in `2 - 3 ** 2 * 2 + 2`"
   ]
  },
  {
   "cell_type": "code",
   "execution_count": 13,
   "metadata": {
    "execution": {
     "iopub.execute_input": "2022-08-05T15:05:43.652905Z",
     "iopub.status.busy": "2022-08-05T15:05:43.652574Z",
     "iopub.status.idle": "2022-08-05T15:05:43.660124Z",
     "shell.execute_reply": "2022-08-05T15:05:43.659742Z"
    },
    "nbgrader": {
     "grade": false,
     "grade_id": "cell-6d11fbc8d7419b39",
     "locked": true,
     "schema_version": 3,
     "solution": false,
     "task": false
    }
   },
   "outputs": [
    {
     "data": {
      "application/vnd.jupyter.widget-view+json": {
       "model_id": "b0bbfae49863460d8e93d980244d85dc",
       "version_major": 2,
       "version_minor": 0
      },
      "text/plain": [
       "RadioButtons(layout=Layout(width='max-content'), options=('* ** + -', '** * - + ', '- + * **', '+ * ** -'), va…"
      ]
     },
     "metadata": {},
     "output_type": "display_data"
    }
   ],
   "source": [
    "%%mc precedence1\n",
    "* ** + -\n",
    "** * - + \n",
    "- + * **\n",
    "+ * ** -"
   ]
  },
  {
   "cell_type": "code",
   "execution_count": 14,
   "metadata": {
    "deletable": false,
    "editable": false,
    "execution": {
     "iopub.execute_input": "2022-08-05T15:05:43.662205Z",
     "iopub.status.busy": "2022-08-05T15:05:43.661848Z",
     "iopub.status.idle": "2022-08-05T15:05:43.665396Z",
     "shell.execute_reply": "2022-08-05T15:05:43.665019Z"
    }
   },
   "outputs": [
    {
     "data": {
      "text/html": [
       "<table><tr style=\"background: red; color: white\"><td style=\"text-align:left\">That is the wrong answer</td></tr></table>"
      ],
      "text/plain": [
       "<IPython.core.display.HTML object>"
      ]
     },
     "metadata": {
      "text/html": {
       "username": "jeroen"
      }
     },
     "output_type": "display_data"
    }
   ],
   "source": [
    "%%check\n",
    "hashresult == 2001155512"
   ]
  },
  {
   "cell_type": "markdown",
   "metadata": {},
   "source": [
    "#### What is the order that the operators are computed in `2 * -2 + 3`"
   ]
  },
  {
   "cell_type": "code",
   "execution_count": 15,
   "metadata": {
    "execution": {
     "iopub.execute_input": "2022-08-05T15:05:43.667397Z",
     "iopub.status.busy": "2022-08-05T15:05:43.667183Z",
     "iopub.status.idle": "2022-08-05T15:05:43.674055Z",
     "shell.execute_reply": "2022-08-05T15:05:43.673675Z"
    },
    "nbgrader": {
     "grade": false,
     "grade_id": "cell-5b5280f2bb3ec0b9",
     "locked": true,
     "schema_version": 3,
     "solution": false,
     "task": false
    }
   },
   "outputs": [
    {
     "data": {
      "application/vnd.jupyter.widget-view+json": {
       "model_id": "993b7d6a47084b7e85225b42d76e3539",
       "version_major": 2,
       "version_minor": 0
      },
      "text/plain": [
       "RadioButtons(layout=Layout(width='max-content'), options=('- + *', '+ - *', '* - +', '- * +'), value='- + *')"
      ]
     },
     "metadata": {},
     "output_type": "display_data"
    }
   ],
   "source": [
    "%%mc precedence2\n",
    "- + *\n",
    "+ - *\n",
    "* - +\n",
    "- * +"
   ]
  },
  {
   "cell_type": "code",
   "execution_count": 16,
   "metadata": {
    "deletable": false,
    "editable": false,
    "execution": {
     "iopub.execute_input": "2022-08-05T15:05:43.676690Z",
     "iopub.status.busy": "2022-08-05T15:05:43.676336Z",
     "iopub.status.idle": "2022-08-05T15:05:43.679953Z",
     "shell.execute_reply": "2022-08-05T15:05:43.679575Z"
    }
   },
   "outputs": [
    {
     "data": {
      "text/html": [
       "<table><tr style=\"background: red; color: white\"><td style=\"text-align:left\">That is the wrong answer</td></tr></table>"
      ],
      "text/plain": [
       "<IPython.core.display.HTML object>"
      ]
     },
     "metadata": {
      "text/html": {
       "username": "jeroen"
      }
     },
     "output_type": "display_data"
    }
   ],
   "source": [
    "%%check\n",
    "hashresult == 2142369314"
   ]
  },
  {
   "cell_type": "code",
   "execution_count": null,
   "metadata": {},
   "outputs": [],
   "source": []
  }
 ],
 "metadata": {
  "celltoolbar": "Create Assignment",
  "kernelspec": {
   "display_name": "prog",
   "language": "python",
   "name": "prog"
  },
  "language_info": {
   "codemirror_mode": {
    "name": "ipython",
    "version": 3
   },
   "file_extension": ".py",
   "mimetype": "text/x-python",
   "name": "python",
   "nbconvert_exporter": "python",
   "pygments_lexer": "ipython3",
   "version": "3.9.12"
  },
  "widgets": {
   "application/vnd.jupyter.widget-state+json": {
    "state": {
     "17ef022428a348f39b7fd866032ab4f1": {
      "model_module": "@jupyter-widgets/base",
      "model_module_version": "1.2.0",
      "model_name": "LayoutModel",
      "state": {
       "_model_module": "@jupyter-widgets/base",
       "_model_module_version": "1.2.0",
       "_model_name": "LayoutModel",
       "_view_count": null,
       "_view_module": "@jupyter-widgets/base",
       "_view_module_version": "1.2.0",
       "_view_name": "LayoutView",
       "align_content": null,
       "align_items": null,
       "align_self": null,
       "border": null,
       "bottom": null,
       "display": null,
       "flex": null,
       "flex_flow": null,
       "grid_area": null,
       "grid_auto_columns": null,
       "grid_auto_flow": null,
       "grid_auto_rows": null,
       "grid_column": null,
       "grid_gap": null,
       "grid_row": null,
       "grid_template_areas": null,
       "grid_template_columns": null,
       "grid_template_rows": null,
       "height": null,
       "justify_content": null,
       "justify_items": null,
       "left": null,
       "margin": null,
       "max_height": null,
       "max_width": null,
       "min_height": null,
       "min_width": null,
       "object_fit": null,
       "object_position": null,
       "order": null,
       "overflow": null,
       "overflow_x": null,
       "overflow_y": null,
       "padding": null,
       "right": null,
       "top": null,
       "visibility": null,
       "width": "max-content"
      }
     },
     "8b8e1ccac0fe4e55b4dc48ba977d2b8b": {
      "model_module": "@jupyter-widgets/base",
      "model_module_version": "1.2.0",
      "model_name": "LayoutModel",
      "state": {
       "_model_module": "@jupyter-widgets/base",
       "_model_module_version": "1.2.0",
       "_model_name": "LayoutModel",
       "_view_count": null,
       "_view_module": "@jupyter-widgets/base",
       "_view_module_version": "1.2.0",
       "_view_name": "LayoutView",
       "align_content": null,
       "align_items": null,
       "align_self": null,
       "border": null,
       "bottom": null,
       "display": null,
       "flex": null,
       "flex_flow": null,
       "grid_area": null,
       "grid_auto_columns": null,
       "grid_auto_flow": null,
       "grid_auto_rows": null,
       "grid_column": null,
       "grid_gap": null,
       "grid_row": null,
       "grid_template_areas": null,
       "grid_template_columns": null,
       "grid_template_rows": null,
       "height": null,
       "justify_content": null,
       "justify_items": null,
       "left": null,
       "margin": null,
       "max_height": null,
       "max_width": null,
       "min_height": null,
       "min_width": null,
       "object_fit": null,
       "object_position": null,
       "order": null,
       "overflow": null,
       "overflow_x": null,
       "overflow_y": null,
       "padding": null,
       "right": null,
       "top": null,
       "visibility": null,
       "width": "max-content"
      }
     },
     "993b7d6a47084b7e85225b42d76e3539": {
      "model_module": "@jupyter-widgets/controls",
      "model_module_version": "1.5.0",
      "model_name": "RadioButtonsModel",
      "state": {
       "_dom_classes": [],
       "_model_module": "@jupyter-widgets/controls",
       "_model_module_version": "1.5.0",
       "_model_name": "RadioButtonsModel",
       "_options_labels": [
        "- + *",
        "+ - *",
        "* - +",
        "- * +"
       ],
       "_view_count": null,
       "_view_module": "@jupyter-widgets/controls",
       "_view_module_version": "1.5.0",
       "_view_name": "RadioButtonsView",
       "description": "",
       "description_tooltip": null,
       "disabled": false,
       "index": 0,
       "layout": "IPY_MODEL_8b8e1ccac0fe4e55b4dc48ba977d2b8b",
       "style": "IPY_MODEL_df400d79a41949eda778b820f81fe3ea"
      }
     },
     "b0bbfae49863460d8e93d980244d85dc": {
      "model_module": "@jupyter-widgets/controls",
      "model_module_version": "1.5.0",
      "model_name": "RadioButtonsModel",
      "state": {
       "_dom_classes": [],
       "_model_module": "@jupyter-widgets/controls",
       "_model_module_version": "1.5.0",
       "_model_name": "RadioButtonsModel",
       "_options_labels": [
        "* ** + -",
        "** * - + ",
        "- + * **",
        "+ * ** -"
       ],
       "_view_count": null,
       "_view_module": "@jupyter-widgets/controls",
       "_view_module_version": "1.5.0",
       "_view_name": "RadioButtonsView",
       "description": "",
       "description_tooltip": null,
       "disabled": false,
       "index": 0,
       "layout": "IPY_MODEL_17ef022428a348f39b7fd866032ab4f1",
       "style": "IPY_MODEL_e47ced1939ac4400b5f40a8a1dc3eeeb"
      }
     },
     "df400d79a41949eda778b820f81fe3ea": {
      "model_module": "@jupyter-widgets/controls",
      "model_module_version": "1.5.0",
      "model_name": "DescriptionStyleModel",
      "state": {
       "_model_module": "@jupyter-widgets/controls",
       "_model_module_version": "1.5.0",
       "_model_name": "DescriptionStyleModel",
       "_view_count": null,
       "_view_module": "@jupyter-widgets/base",
       "_view_module_version": "1.2.0",
       "_view_name": "StyleView",
       "description_width": ""
      }
     },
     "e47ced1939ac4400b5f40a8a1dc3eeeb": {
      "model_module": "@jupyter-widgets/controls",
      "model_module_version": "1.5.0",
      "model_name": "DescriptionStyleModel",
      "state": {
       "_model_module": "@jupyter-widgets/controls",
       "_model_module_version": "1.5.0",
       "_model_name": "DescriptionStyleModel",
       "_view_count": null,
       "_view_module": "@jupyter-widgets/base",
       "_view_module_version": "1.2.0",
       "_view_name": "StyleView",
       "description_width": ""
      }
     }
    },
    "version_major": 2,
    "version_minor": 0
   }
  }
 },
 "nbformat": 4,
 "nbformat_minor": 4
}
