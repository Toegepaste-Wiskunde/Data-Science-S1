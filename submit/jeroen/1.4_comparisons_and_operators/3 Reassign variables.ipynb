{
 "cells": [
  {
   "cell_type": "markdown",
   "metadata": {},
   "source": [
    "# Reassign variables\n",
    "\n",
    "We can store a value in a variable so that we can reuse that value later. Each variable can only contain a single value, so if we already stored a value in a variable and assign a new value, the old one is forgotten. We can use that principle to increase a value several times."
   ]
  },
  {
   "cell_type": "markdown",
   "metadata": {},
   "source": [
    "# Example"
   ]
  },
  {
   "cell_type": "markdown",
   "metadata": {},
   "source": [
    "When we assign a value to a variable `x`, Python remembers that value. So whenever we type `x` it will be the value that we stored in `x`."
   ]
  },
  {
   "cell_type": "code",
   "execution_count": 1,
   "metadata": {
    "execution": {
     "iopub.execute_input": "2022-08-05T15:05:46.060517Z",
     "iopub.status.busy": "2022-08-05T15:05:46.060016Z",
     "iopub.status.idle": "2022-08-05T15:05:46.073394Z",
     "shell.execute_reply": "2022-08-05T15:05:46.072476Z"
    }
   },
   "outputs": [],
   "source": [
    "x = 5"
   ]
  },
  {
   "cell_type": "code",
   "execution_count": 2,
   "metadata": {
    "execution": {
     "iopub.execute_input": "2022-08-05T15:05:46.077380Z",
     "iopub.status.busy": "2022-08-05T15:05:46.077051Z",
     "iopub.status.idle": "2022-08-05T15:05:46.087222Z",
     "shell.execute_reply": "2022-08-05T15:05:46.086210Z"
    }
   },
   "outputs": [
    {
     "data": {
      "text/plain": [
       "5"
      ]
     },
     "execution_count": 2,
     "metadata": {},
     "output_type": "execute_result"
    }
   ],
   "source": [
    "x"
   ]
  },
  {
   "cell_type": "markdown",
   "metadata": {},
   "source": [
    "When we assign a new value to `x`, the old value is forgotten."
   ]
  },
  {
   "cell_type": "code",
   "execution_count": 3,
   "metadata": {
    "execution": {
     "iopub.execute_input": "2022-08-05T15:05:46.092320Z",
     "iopub.status.busy": "2022-08-05T15:05:46.091880Z",
     "iopub.status.idle": "2022-08-05T15:05:46.096671Z",
     "shell.execute_reply": "2022-08-05T15:05:46.095815Z"
    }
   },
   "outputs": [],
   "source": [
    "x = 10"
   ]
  },
  {
   "cell_type": "code",
   "execution_count": 4,
   "metadata": {
    "execution": {
     "iopub.execute_input": "2022-08-05T15:05:46.099882Z",
     "iopub.status.busy": "2022-08-05T15:05:46.099574Z",
     "iopub.status.idle": "2022-08-05T15:05:46.105470Z",
     "shell.execute_reply": "2022-08-05T15:05:46.104464Z"
    }
   },
   "outputs": [
    {
     "data": {
      "text/plain": [
       "10"
      ]
     },
     "execution_count": 4,
     "metadata": {},
     "output_type": "execute_result"
    }
   ],
   "source": [
    "x"
   ]
  },
  {
   "cell_type": "markdown",
   "metadata": {},
   "source": [
    "However, we can also change the value of `x` by assigning the outcome of an expression with `x` as a new value. Let's say that we want to increase `x` by 5:"
   ]
  },
  {
   "cell_type": "code",
   "execution_count": 5,
   "metadata": {
    "execution": {
     "iopub.execute_input": "2022-08-05T15:05:46.109332Z",
     "iopub.status.busy": "2022-08-05T15:05:46.108776Z",
     "iopub.status.idle": "2022-08-05T15:05:46.114101Z",
     "shell.execute_reply": "2022-08-05T15:05:46.113073Z"
    }
   },
   "outputs": [],
   "source": [
    "x = x + 5"
   ]
  },
  {
   "cell_type": "code",
   "execution_count": 6,
   "metadata": {
    "execution": {
     "iopub.execute_input": "2022-08-05T15:05:46.117770Z",
     "iopub.status.busy": "2022-08-05T15:05:46.117122Z",
     "iopub.status.idle": "2022-08-05T15:05:46.123912Z",
     "shell.execute_reply": "2022-08-05T15:05:46.122888Z"
    }
   },
   "outputs": [
    {
     "data": {
      "text/plain": [
       "15"
      ]
     },
     "execution_count": 6,
     "metadata": {},
     "output_type": "execute_result"
    }
   ],
   "source": [
    "x"
   ]
  },
  {
   "cell_type": "markdown",
   "metadata": {},
   "source": [
    "You can read `x = x + 5` as: the new value of `x` becomes the old value of `x` plus `5`."
   ]
  },
  {
   "cell_type": "code",
   "execution_count": 7,
   "metadata": {
    "execution": {
     "iopub.execute_input": "2022-08-05T15:05:46.127430Z",
     "iopub.status.busy": "2022-08-05T15:05:46.127152Z",
     "iopub.status.idle": "2022-08-05T15:05:46.131808Z",
     "shell.execute_reply": "2022-08-05T15:05:46.130804Z"
    }
   },
   "outputs": [],
   "source": [
    "x = x + 5"
   ]
  },
  {
   "cell_type": "code",
   "execution_count": 8,
   "metadata": {
    "execution": {
     "iopub.execute_input": "2022-08-05T15:05:46.135150Z",
     "iopub.status.busy": "2022-08-05T15:05:46.134554Z",
     "iopub.status.idle": "2022-08-05T15:05:46.140525Z",
     "shell.execute_reply": "2022-08-05T15:05:46.139531Z"
    }
   },
   "outputs": [
    {
     "data": {
      "text/plain": [
       "20"
      ]
     },
     "execution_count": 8,
     "metadata": {},
     "output_type": "execute_result"
    }
   ],
   "source": [
    "x"
   ]
  },
  {
   "cell_type": "markdown",
   "metadata": {},
   "source": [
    "Likewise, you can subtract, multiply, literally assign any expression to a variable."
   ]
  },
  {
   "cell_type": "code",
   "execution_count": 9,
   "metadata": {
    "execution": {
     "iopub.execute_input": "2022-08-05T15:05:46.143523Z",
     "iopub.status.busy": "2022-08-05T15:05:46.143141Z",
     "iopub.status.idle": "2022-08-05T15:05:46.147283Z",
     "shell.execute_reply": "2022-08-05T15:05:46.146477Z"
    }
   },
   "outputs": [],
   "source": [
    "x = x * 2 + 2"
   ]
  },
  {
   "cell_type": "code",
   "execution_count": 10,
   "metadata": {
    "execution": {
     "iopub.execute_input": "2022-08-05T15:05:46.150371Z",
     "iopub.status.busy": "2022-08-05T15:05:46.149885Z",
     "iopub.status.idle": "2022-08-05T15:05:46.155029Z",
     "shell.execute_reply": "2022-08-05T15:05:46.154280Z"
    }
   },
   "outputs": [
    {
     "data": {
      "text/plain": [
       "42"
      ]
     },
     "execution_count": 10,
     "metadata": {},
     "output_type": "execute_result"
    }
   ],
   "source": [
    "x"
   ]
  },
  {
   "cell_type": "markdown",
   "metadata": {},
   "source": [
    "# Assignments"
   ]
  },
  {
   "cell_type": "markdown",
   "metadata": {},
   "source": [
    "#### decrease `y` by 2"
   ]
  },
  {
   "cell_type": "code",
   "execution_count": 11,
   "metadata": {
    "execution": {
     "iopub.execute_input": "2022-08-05T15:05:46.157661Z",
     "iopub.status.busy": "2022-08-05T15:05:46.157299Z",
     "iopub.status.idle": "2022-08-05T15:05:46.161236Z",
     "shell.execute_reply": "2022-08-05T15:05:46.160483Z"
    }
   },
   "outputs": [],
   "source": [
    "y = 100"
   ]
  },
  {
   "cell_type": "code",
   "execution_count": 12,
   "metadata": {
    "deletable": false,
    "editable": true,
    "execution": {
     "iopub.execute_input": "2022-08-05T15:05:46.163781Z",
     "iopub.status.busy": "2022-08-05T15:05:46.163347Z",
     "iopub.status.idle": "2022-08-05T15:05:46.167662Z",
     "shell.execute_reply": "2022-08-05T15:05:46.166639Z"
    }
   },
   "outputs": [],
   "source": [
    "%%assignment\n",
    "### ENTER YOUR CODE HERE"
   ]
  },
  {
   "cell_type": "code",
   "execution_count": 13,
   "metadata": {
    "deletable": false,
    "editable": false,
    "execution": {
     "iopub.execute_input": "2022-08-05T15:05:46.170260Z",
     "iopub.status.busy": "2022-08-05T15:05:46.169930Z",
     "iopub.status.idle": "2022-08-05T15:05:46.175380Z",
     "shell.execute_reply": "2022-08-05T15:05:46.174713Z"
    }
   },
   "outputs": [
    {
     "data": {
      "text/html": [
       "<table><tr style=\"background: red; color: white\"><td style=\"text-align:left\">The result for y should be 28 for testcase y = 30 </td></tr></table>"
      ],
      "text/plain": [
       "<IPython.core.display.HTML object>"
      ]
     },
     "metadata": {
      "text/html": {
       "username": "jeroen"
      }
     },
     "output_type": "display_data"
    }
   ],
   "source": [
    "%%check\n",
    "y = 30\n",
    "y == 28\n",
    "y = 28\n",
    "y == 26"
   ]
  },
  {
   "cell_type": "markdown",
   "metadata": {},
   "source": [
    "#### Add `bonus` to `salary`"
   ]
  },
  {
   "cell_type": "code",
   "execution_count": 14,
   "metadata": {
    "execution": {
     "iopub.execute_input": "2022-08-05T15:05:46.177967Z",
     "iopub.status.busy": "2022-08-05T15:05:46.177661Z",
     "iopub.status.idle": "2022-08-05T15:05:46.181275Z",
     "shell.execute_reply": "2022-08-05T15:05:46.180580Z"
    }
   },
   "outputs": [],
   "source": [
    "bonus = 100\n",
    "salary = 2000"
   ]
  },
  {
   "cell_type": "code",
   "execution_count": 15,
   "metadata": {
    "deletable": false,
    "editable": true,
    "execution": {
     "iopub.execute_input": "2022-08-05T15:05:46.183698Z",
     "iopub.status.busy": "2022-08-05T15:05:46.183450Z",
     "iopub.status.idle": "2022-08-05T15:05:46.186963Z",
     "shell.execute_reply": "2022-08-05T15:05:46.186268Z"
    }
   },
   "outputs": [],
   "source": [
    "%%assignment\n",
    "### ENTER YOUR CODE HERE"
   ]
  },
  {
   "cell_type": "code",
   "execution_count": 16,
   "metadata": {
    "deletable": false,
    "editable": false,
    "execution": {
     "iopub.execute_input": "2022-08-05T15:05:46.189367Z",
     "iopub.status.busy": "2022-08-05T15:05:46.189067Z",
     "iopub.status.idle": "2022-08-05T15:05:46.194109Z",
     "shell.execute_reply": "2022-08-05T15:05:46.193487Z"
    }
   },
   "outputs": [
    {
     "data": {
      "text/html": [
       "<table><tr style=\"background: red; color: white\"><td style=\"text-align:left\">The result for salary should be 2100</td></tr></table>"
      ],
      "text/plain": [
       "<IPython.core.display.HTML object>"
      ]
     },
     "metadata": {
      "text/html": {
       "username": "jeroen"
      }
     },
     "output_type": "display_data"
    }
   ],
   "source": [
    "%%check\n",
    "salary == 2100\n",
    "salary = 2000\n",
    "bonus = 20\n",
    "salary == 2020\n",
    "salary = 2020\n",
    "salary == 2040"
   ]
  }
 ],
 "metadata": {
  "celltoolbar": "Create Assignment",
  "kernelspec": {
   "display_name": "prog",
   "language": "python",
   "name": "prog"
  },
  "language_info": {
   "codemirror_mode": {
    "name": "ipython",
    "version": 3
   },
   "file_extension": ".py",
   "mimetype": "text/x-python",
   "name": "python",
   "nbconvert_exporter": "python",
   "pygments_lexer": "ipython3",
   "version": "3.9.12"
  }
 },
 "nbformat": 4,
 "nbformat_minor": 4
}
