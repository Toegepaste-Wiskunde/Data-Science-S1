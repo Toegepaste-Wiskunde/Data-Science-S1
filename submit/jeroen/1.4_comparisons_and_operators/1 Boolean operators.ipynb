{
 "cells": [
  {
   "cell_type": "markdown",
   "metadata": {},
   "source": [
    "# Boolean operators"
   ]
  },
  {
   "cell_type": "markdown",
   "metadata": {},
   "source": [
    "In programming languages, it is really important to be able to work with booleans (True/False). As we will see later, in bigger programs booleans are used to decide which blocks of programming code to execute. The three most basic operators from proposition logic are `and`, `or` and `not`. We can combine these operators with comparison operators (e.g. `>`, `<`, `==`) to create to create advanced boolean expressions. "
   ]
  },
  {
   "cell_type": "markdown",
   "metadata": {},
   "source": [
    "In mathematics, proposition logic is the topic that deals with calculations with boolean values.\n",
    "\n",
    "Mathematical notation | Python notation\n",
    ":-----:|:-----:\n",
    "∧ | `and`\n",
    "∨ | `or`\n",
    "$\\neg$ | `not`\n",
    "=  (compare) | ==\n",
    "> | >\n",
    "< | <\n",
    "$\\ge$ | >=\n",
    "$\\le$ | <=\n",
    "$\\ne$ | !="
   ]
  },
  {
   "cell_type": "markdown",
   "metadata": {},
   "source": [
    "### Truth tables\n",
    "To define a boolean operator, often a truth table (NL waarheidstabel) is used. A truth table defines the result of a boolean operator, relating the input to the output.\n",
    "\n",
    "$p$ | not ($\\neg p$)\n",
    ":-----:|:-----:\n",
    "False | True\n",
    "True | False\n",
    "\n",
    "$p$ | $q$ | and $$p \\wedge q$$ | or $$p \\vee q$$\n",
    ":-----:|:-----:|:-----:|:-----:\n",
    "False | False | False | False\n",
    "False | True | False | True\n",
    "True | False | False | True\n",
    "True | True | True | True"
   ]
  },
  {
   "cell_type": "markdown",
   "metadata": {},
   "source": [
    "In mathematics, we know two other logical operators, but these are not available in Python.\n",
    "\n",
    "$p$ | $q$ | implication $$p \\Rightarrow q$$ | equivalence $$p \\Leftrightarrow q$$\n",
    ":-----:|:-----:|:-----:|:-----:\n",
    "False | False | True | True\n",
    "False | True | True | False\n",
    "True | False | False | False\n",
    "True | True | True | True\n",
    "\n",
    "In practise though, the equivalence is the same as `==` with boolean arguments.\n",
    "\n",
    "An equivalence is only True if the arguments on both sides of the operator are the same.\n",
    "The implication can be interpreted as an if ... then ...\n",
    "\n",
    "For example, consider the proposition \"If you've cleaned up, then it's neat\". When is this assertion true?\n",
    "\n",
    "You've cleaned up | It's neat | You've cleaned up $\\Rightarrow$ It's neat\n",
    ":-----|:-----|:-----\n",
    "I have not cleaned up (False) | It is a mess (False) | the assertion above is valid (True)\n",
    "I have not cleaned up (False) | It's neat (True) | the assertion above is valid, maybe someone else cleaned up (True)\n",
    "I have cleaned up (True) | It is a mess (False) | this is not possible, after cleaning up it always is neat (False)\n",
    "I have cleaned up (True) | It's neat (True) | the assertion above obviously is valid (True)"
   ]
  },
  {
   "cell_type": "markdown",
   "metadata": {},
   "source": [
    "### Example\n",
    "\n",
    "Compute $\\text{True} \\land \\text{False}$"
   ]
  },
  {
   "cell_type": "code",
   "execution_count": 1,
   "metadata": {
    "execution": {
     "iopub.execute_input": "2022-08-05T15:05:42.323550Z",
     "iopub.status.busy": "2022-08-05T15:05:42.322914Z",
     "iopub.status.idle": "2022-08-05T15:05:42.348560Z",
     "shell.execute_reply": "2022-08-05T15:05:42.347351Z"
    }
   },
   "outputs": [
    {
     "data": {
      "text/plain": [
       "False"
      ]
     },
     "execution_count": 1,
     "metadata": {},
     "output_type": "execute_result"
    }
   ],
   "source": [
    "True and False"
   ]
  },
  {
   "cell_type": "markdown",
   "metadata": {},
   "source": [
    "True $\\vee$ $\\neg$False"
   ]
  },
  {
   "cell_type": "code",
   "execution_count": 2,
   "metadata": {
    "execution": {
     "iopub.execute_input": "2022-08-05T15:05:42.354340Z",
     "iopub.status.busy": "2022-08-05T15:05:42.353895Z",
     "iopub.status.idle": "2022-08-05T15:05:42.361726Z",
     "shell.execute_reply": "2022-08-05T15:05:42.360704Z"
    }
   },
   "outputs": [
    {
     "data": {
      "text/plain": [
       "True"
      ]
     },
     "execution_count": 2,
     "metadata": {},
     "output_type": "execute_result"
    }
   ],
   "source": [
    "True or not False"
   ]
  },
  {
   "cell_type": "markdown",
   "metadata": {},
   "source": [
    "`age` is greater or equal to 25. You can try different values for age"
   ]
  },
  {
   "cell_type": "code",
   "execution_count": 3,
   "metadata": {
    "execution": {
     "iopub.execute_input": "2022-08-05T15:05:42.366029Z",
     "iopub.status.busy": "2022-08-05T15:05:42.365558Z",
     "iopub.status.idle": "2022-08-05T15:05:42.370978Z",
     "shell.execute_reply": "2022-08-05T15:05:42.369658Z"
    }
   },
   "outputs": [],
   "source": [
    "age = 30"
   ]
  },
  {
   "cell_type": "code",
   "execution_count": 4,
   "metadata": {
    "execution": {
     "iopub.execute_input": "2022-08-05T15:05:42.374505Z",
     "iopub.status.busy": "2022-08-05T15:05:42.374204Z",
     "iopub.status.idle": "2022-08-05T15:05:42.380740Z",
     "shell.execute_reply": "2022-08-05T15:05:42.379699Z"
    }
   },
   "outputs": [
    {
     "data": {
      "text/plain": [
       "True"
      ]
     },
     "execution_count": 4,
     "metadata": {},
     "output_type": "execute_result"
    }
   ],
   "source": [
    "age >= 25"
   ]
  },
  {
   "cell_type": "markdown",
   "metadata": {},
   "source": [
    "### Assignments"
   ]
  },
  {
   "cell_type": "markdown",
   "metadata": {},
   "source": [
    "age is smaller than 65"
   ]
  },
  {
   "cell_type": "code",
   "execution_count": 5,
   "metadata": {
    "execution": {
     "iopub.execute_input": "2022-08-05T15:05:42.384520Z",
     "iopub.status.busy": "2022-08-05T15:05:42.384119Z",
     "iopub.status.idle": "2022-08-05T15:05:42.388443Z",
     "shell.execute_reply": "2022-08-05T15:05:42.387583Z"
    }
   },
   "outputs": [],
   "source": [
    "age = 30"
   ]
  },
  {
   "cell_type": "code",
   "execution_count": 6,
   "metadata": {
    "deletable": false,
    "editable": true,
    "execution": {
     "iopub.execute_input": "2022-08-05T15:05:42.391599Z",
     "iopub.status.busy": "2022-08-05T15:05:42.391323Z",
     "iopub.status.idle": "2022-08-05T15:05:42.396242Z",
     "shell.execute_reply": "2022-08-05T15:05:42.395435Z"
    }
   },
   "outputs": [],
   "source": [
    "%%assignment\n",
    "### ENTER YOUR CODE HERE"
   ]
  },
  {
   "cell_type": "code",
   "execution_count": 7,
   "metadata": {
    "deletable": false,
    "editable": false,
    "execution": {
     "iopub.execute_input": "2022-08-05T15:05:42.399261Z",
     "iopub.status.busy": "2022-08-05T15:05:42.398888Z",
     "iopub.status.idle": "2022-08-05T15:05:42.405186Z",
     "shell.execute_reply": "2022-08-05T15:05:42.404266Z"
    }
   },
   "outputs": [
    {
     "data": {
      "text/html": [
       "<table><tr style=\"background: red; color: white\"><td style=\"text-align:left\"> When age is 64 the result has to be True</td></tr></table>"
      ],
      "text/plain": [
       "<IPython.core.display.HTML object>"
      ]
     },
     "metadata": {
      "text/html": {
       "username": "jeroen"
      }
     },
     "output_type": "display_data"
    }
   ],
   "source": [
    "%%check\n",
    "age = 64\n",
    "result == True # When age is 64 the result has to be True\n",
    "age = 65\n",
    "result == False # When age is 65 the result has to be False"
   ]
  },
  {
   "cell_type": "markdown",
   "metadata": {},
   "source": [
    "`age` is between 25 and 65\n",
    "\n",
    "NB in programming it is common that when we say between the lower bound is inclusive (>=) and the upper bound is exclusive (<)."
   ]
  },
  {
   "cell_type": "code",
   "execution_count": 8,
   "metadata": {
    "execution": {
     "iopub.execute_input": "2022-08-05T15:05:42.408252Z",
     "iopub.status.busy": "2022-08-05T15:05:42.407919Z",
     "iopub.status.idle": "2022-08-05T15:05:42.412019Z",
     "shell.execute_reply": "2022-08-05T15:05:42.411019Z"
    }
   },
   "outputs": [],
   "source": [
    "age = 30"
   ]
  },
  {
   "cell_type": "code",
   "execution_count": 9,
   "metadata": {
    "deletable": false,
    "editable": true,
    "execution": {
     "iopub.execute_input": "2022-08-05T15:05:42.414913Z",
     "iopub.status.busy": "2022-08-05T15:05:42.414600Z",
     "iopub.status.idle": "2022-08-05T15:05:42.418785Z",
     "shell.execute_reply": "2022-08-05T15:05:42.418008Z"
    }
   },
   "outputs": [],
   "source": [
    "%%assignment\n",
    "# Hint: use a combination of comparison and proposition logic\n",
    "### ENTER YOUR CODE HERE"
   ]
  },
  {
   "cell_type": "code",
   "execution_count": 10,
   "metadata": {
    "deletable": false,
    "editable": false,
    "execution": {
     "iopub.execute_input": "2022-08-05T15:05:42.421504Z",
     "iopub.status.busy": "2022-08-05T15:05:42.421202Z",
     "iopub.status.idle": "2022-08-05T15:05:42.427017Z",
     "shell.execute_reply": "2022-08-05T15:05:42.426279Z"
    }
   },
   "outputs": [
    {
     "data": {
      "text/html": [
       "<table><tr style=\"background: red; color: white\"><td style=\"text-align:left\"> When age is 24 the result has to be False</td></tr></table>"
      ],
      "text/plain": [
       "<IPython.core.display.HTML object>"
      ]
     },
     "metadata": {
      "text/html": {
       "username": "jeroen"
      }
     },
     "output_type": "display_data"
    }
   ],
   "source": [
    "%%check\n",
    "age = 24\n",
    "result == False # When age is 24 the result has to be False\n",
    "age = 25\n",
    "result == True # When age is 25 the result has to be True\n",
    "age = 64\n",
    "result == True # When age is 64 the result has to be True\n",
    "age = 65\n",
    "result == False # When age is 65 the result has to be False"
   ]
  },
  {
   "cell_type": "markdown",
   "metadata": {},
   "source": [
    "age is greater than 18 or length is smaller than 180"
   ]
  },
  {
   "cell_type": "code",
   "execution_count": 11,
   "metadata": {
    "execution": {
     "iopub.execute_input": "2022-08-05T15:05:42.429598Z",
     "iopub.status.busy": "2022-08-05T15:05:42.429278Z",
     "iopub.status.idle": "2022-08-05T15:05:42.432976Z",
     "shell.execute_reply": "2022-08-05T15:05:42.432253Z"
    }
   },
   "outputs": [],
   "source": [
    "age = 18\n",
    "length = 180"
   ]
  },
  {
   "cell_type": "code",
   "execution_count": 12,
   "metadata": {
    "deletable": false,
    "editable": true,
    "execution": {
     "iopub.execute_input": "2022-08-05T15:05:42.435575Z",
     "iopub.status.busy": "2022-08-05T15:05:42.435253Z",
     "iopub.status.idle": "2022-08-05T15:05:42.439342Z",
     "shell.execute_reply": "2022-08-05T15:05:42.438460Z"
    }
   },
   "outputs": [],
   "source": [
    "%%assignment\n",
    "### ENTER YOUR CODE HERE"
   ]
  },
  {
   "cell_type": "code",
   "execution_count": 13,
   "metadata": {
    "deletable": false,
    "editable": false,
    "execution": {
     "iopub.execute_input": "2022-08-05T15:05:42.441877Z",
     "iopub.status.busy": "2022-08-05T15:05:42.441564Z",
     "iopub.status.idle": "2022-08-05T15:05:42.447022Z",
     "shell.execute_reply": "2022-08-05T15:05:42.446336Z"
    }
   },
   "outputs": [
    {
     "data": {
      "text/html": [
       "<table><tr style=\"background: red; color: white\"><td style=\"text-align:left\">The result should be True for testcase age, length = 17, 179 </td></tr></table>"
      ],
      "text/plain": [
       "<IPython.core.display.HTML object>"
      ]
     },
     "metadata": {
      "text/html": {
       "username": "jeroen"
      }
     },
     "output_type": "display_data"
    }
   ],
   "source": [
    "%%check\n",
    "age, length = 17, 179\n",
    "result == True\n",
    "age, length = 17, 180\n",
    "result == False\n",
    "age, length = 18, 0\n",
    "result == True"
   ]
  },
  {
   "cell_type": "markdown",
   "metadata": {},
   "source": [
    "age is at least 18 or drink is not 'beer'"
   ]
  },
  {
   "cell_type": "code",
   "execution_count": 14,
   "metadata": {
    "execution": {
     "iopub.execute_input": "2022-08-05T15:05:42.449441Z",
     "iopub.status.busy": "2022-08-05T15:05:42.449136Z",
     "iopub.status.idle": "2022-08-05T15:05:42.452812Z",
     "shell.execute_reply": "2022-08-05T15:05:42.452126Z"
    }
   },
   "outputs": [],
   "source": [
    "age = 17\n",
    "drink = 'beer'"
   ]
  },
  {
   "cell_type": "code",
   "execution_count": 15,
   "metadata": {
    "deletable": false,
    "editable": true,
    "execution": {
     "iopub.execute_input": "2022-08-05T15:05:42.455387Z",
     "iopub.status.busy": "2022-08-05T15:05:42.455085Z",
     "iopub.status.idle": "2022-08-05T15:05:42.458861Z",
     "shell.execute_reply": "2022-08-05T15:05:42.458158Z"
    }
   },
   "outputs": [],
   "source": [
    "%%assignment\n",
    "### ENTER YOUR CODE HERE"
   ]
  },
  {
   "cell_type": "code",
   "execution_count": 16,
   "metadata": {
    "deletable": false,
    "editable": false,
    "execution": {
     "iopub.execute_input": "2022-08-05T15:05:42.461186Z",
     "iopub.status.busy": "2022-08-05T15:05:42.460915Z",
     "iopub.status.idle": "2022-08-05T15:05:42.466842Z",
     "shell.execute_reply": "2022-08-05T15:05:42.465654Z"
    }
   },
   "outputs": [
    {
     "data": {
      "text/html": [
       "<table><tr style=\"background: red; color: white\"><td style=\"text-align:left\">The result should be False for testcase age = 17 , drink = 'beer' </td></tr></table>"
      ],
      "text/plain": [
       "<IPython.core.display.HTML object>"
      ]
     },
     "metadata": {
      "text/html": {
       "username": "jeroen"
      }
     },
     "output_type": "display_data"
    }
   ],
   "source": [
    "%%check\n",
    "age = 17\n",
    "drink = 'beer'\n",
    "result == False\n",
    "age = 18\n",
    "result == True\n",
    "age = 17\n",
    "drink = 'cola'\n",
    "result == True"
   ]
  },
  {
   "cell_type": "markdown",
   "metadata": {},
   "source": [
    "### Implication\n",
    "Write code that acts as an implication. You can only use two logical operators!"
   ]
  },
  {
   "cell_type": "code",
   "execution_count": 17,
   "metadata": {
    "execution": {
     "iopub.execute_input": "2022-08-05T15:05:42.469027Z",
     "iopub.status.busy": "2022-08-05T15:05:42.468749Z",
     "iopub.status.idle": "2022-08-05T15:05:42.472242Z",
     "shell.execute_reply": "2022-08-05T15:05:42.471573Z"
    }
   },
   "outputs": [],
   "source": [
    "p = True\n",
    "q = False"
   ]
  },
  {
   "cell_type": "code",
   "execution_count": 18,
   "metadata": {
    "deletable": false,
    "editable": true,
    "execution": {
     "iopub.execute_input": "2022-08-05T15:05:42.474488Z",
     "iopub.status.busy": "2022-08-05T15:05:42.474196Z",
     "iopub.status.idle": "2022-08-05T15:05:42.477904Z",
     "shell.execute_reply": "2022-08-05T15:05:42.477252Z"
    }
   },
   "outputs": [],
   "source": [
    "%%assignment\n",
    "### ENTER YOUR CODE HERE"
   ]
  },
  {
   "cell_type": "code",
   "execution_count": 19,
   "metadata": {
    "deletable": false,
    "editable": false,
    "execution": {
     "iopub.execute_input": "2022-08-05T15:05:42.480107Z",
     "iopub.status.busy": "2022-08-05T15:05:42.479817Z",
     "iopub.status.idle": "2022-08-05T15:05:42.485090Z",
     "shell.execute_reply": "2022-08-05T15:05:42.484448Z"
    }
   },
   "outputs": [
    {
     "data": {
      "text/html": [
       "<table><tr style=\"background: red; color: white\"><td style=\"text-align:left\">The result should be False for testcase p = True , q = False </td></tr></table>"
      ],
      "text/plain": [
       "<IPython.core.display.HTML object>"
      ]
     },
     "metadata": {
      "text/html": {
       "username": "jeroen"
      }
     },
     "output_type": "display_data"
    }
   ],
   "source": [
    "%%check\n",
    "p = True\n",
    "q = False\n",
    "result == False\n",
    "q = True\n",
    "result == True\n",
    "p = False\n",
    "result == True\n",
    "q = False\n",
    "result == True\n",
    "mandatory not or"
   ]
  }
 ],
 "metadata": {
  "celltoolbar": "Create Assignment",
  "kernelspec": {
   "display_name": "prog",
   "language": "python",
   "name": "prog"
  },
  "language_info": {
   "codemirror_mode": {
    "name": "ipython",
    "version": 3
   },
   "file_extension": ".py",
   "mimetype": "text/x-python",
   "name": "python",
   "nbconvert_exporter": "python",
   "pygments_lexer": "ipython3",
   "version": "3.9.12"
  }
 },
 "nbformat": 4,
 "nbformat_minor": 4
}
