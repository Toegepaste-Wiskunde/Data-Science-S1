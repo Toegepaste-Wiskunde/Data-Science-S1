{
 "cells": [
  {
   "cell_type": "markdown",
   "metadata": {},
   "source": [
    "# Comparison operators\n",
    "\n",
    "In Python, we can compare values using comparisons. The operators for comparison are written a little different from what we use in Mathematics:\n",
    "\n",
    "| operator | name |\n",
    "| :--------| :----|\n",
    "| x == y   | x equals y |\n",
    "| x > y    | x is greater than y |\n",
    "| x <= y   | x is smaller or equal than y |\n",
    "| x != y   | x is not equal to y |\n",
    "\n",
    "The outcome of a comparison is a Boolean value: True or False."
   ]
  },
  {
   "cell_type": "markdown",
   "metadata": {},
   "source": [
    "# Examples"
   ]
  },
  {
   "cell_type": "code",
   "execution_count": 1,
   "metadata": {
    "execution": {
     "iopub.execute_input": "2022-08-05T15:05:47.264052Z",
     "iopub.status.busy": "2022-08-05T15:05:47.263423Z",
     "iopub.status.idle": "2022-08-05T15:05:47.282593Z",
     "shell.execute_reply": "2022-08-05T15:05:47.281934Z"
    }
   },
   "outputs": [
    {
     "data": {
      "text/plain": [
       "True"
      ]
     },
     "execution_count": 1,
     "metadata": {},
     "output_type": "execute_result"
    }
   ],
   "source": [
    "10 == 10"
   ]
  },
  {
   "cell_type": "code",
   "execution_count": 2,
   "metadata": {
    "execution": {
     "iopub.execute_input": "2022-08-05T15:05:47.287244Z",
     "iopub.status.busy": "2022-08-05T15:05:47.286958Z",
     "iopub.status.idle": "2022-08-05T15:05:47.291593Z",
     "shell.execute_reply": "2022-08-05T15:05:47.290929Z"
    }
   },
   "outputs": [
    {
     "data": {
      "text/plain": [
       "True"
      ]
     },
     "execution_count": 2,
     "metadata": {},
     "output_type": "execute_result"
    }
   ],
   "source": [
    "10 > 5"
   ]
  },
  {
   "cell_type": "code",
   "execution_count": 3,
   "metadata": {
    "execution": {
     "iopub.execute_input": "2022-08-05T15:05:47.295131Z",
     "iopub.status.busy": "2022-08-05T15:05:47.294884Z",
     "iopub.status.idle": "2022-08-05T15:05:47.299338Z",
     "shell.execute_reply": "2022-08-05T15:05:47.298666Z"
    }
   },
   "outputs": [
    {
     "data": {
      "text/plain": [
       "False"
      ]
     },
     "execution_count": 3,
     "metadata": {},
     "output_type": "execute_result"
    }
   ],
   "source": [
    "10 < 5"
   ]
  },
  {
   "cell_type": "markdown",
   "metadata": {},
   "source": [
    "Suppose we want to check whether x is greater than 5"
   ]
  },
  {
   "cell_type": "code",
   "execution_count": 4,
   "metadata": {
    "execution": {
     "iopub.execute_input": "2022-08-05T15:05:47.301922Z",
     "iopub.status.busy": "2022-08-05T15:05:47.301604Z",
     "iopub.status.idle": "2022-08-05T15:05:47.306420Z",
     "shell.execute_reply": "2022-08-05T15:05:47.305750Z"
    }
   },
   "outputs": [
    {
     "data": {
      "text/plain": [
       "True"
      ]
     },
     "execution_count": 4,
     "metadata": {},
     "output_type": "execute_result"
    }
   ],
   "source": [
    "x = 10\n",
    "x > 5"
   ]
  },
  {
   "cell_type": "markdown",
   "metadata": {},
   "source": [
    "However, if `x` had been assigned a different value, the outcome could be different"
   ]
  },
  {
   "cell_type": "code",
   "execution_count": 5,
   "metadata": {
    "execution": {
     "iopub.execute_input": "2022-08-05T15:05:47.308890Z",
     "iopub.status.busy": "2022-08-05T15:05:47.308567Z",
     "iopub.status.idle": "2022-08-05T15:05:47.313306Z",
     "shell.execute_reply": "2022-08-05T15:05:47.312650Z"
    }
   },
   "outputs": [
    {
     "data": {
      "text/plain": [
       "False"
      ]
     },
     "execution_count": 5,
     "metadata": {},
     "output_type": "execute_result"
    }
   ],
   "source": [
    "x = 2\n",
    "x > 5"
   ]
  },
  {
   "cell_type": "markdown",
   "metadata": {},
   "source": [
    "# Assignments"
   ]
  },
  {
   "cell_type": "markdown",
   "metadata": {},
   "source": [
    "Compare if we have enough money to buy 2 soda's"
   ]
  },
  {
   "cell_type": "code",
   "execution_count": 6,
   "metadata": {
    "execution": {
     "iopub.execute_input": "2022-08-05T15:05:47.315717Z",
     "iopub.status.busy": "2022-08-05T15:05:47.315407Z",
     "iopub.status.idle": "2022-08-05T15:05:47.319177Z",
     "shell.execute_reply": "2022-08-05T15:05:47.318276Z"
    }
   },
   "outputs": [],
   "source": [
    "money = 7\n",
    "price_soda = 4"
   ]
  },
  {
   "cell_type": "code",
   "execution_count": 7,
   "metadata": {
    "deletable": false,
    "editable": true,
    "execution": {
     "iopub.execute_input": "2022-08-05T15:05:47.321235Z",
     "iopub.status.busy": "2022-08-05T15:05:47.320928Z",
     "iopub.status.idle": "2022-08-05T15:05:47.324852Z",
     "shell.execute_reply": "2022-08-05T15:05:47.324190Z"
    }
   },
   "outputs": [],
   "source": [
    "%%assignment\n",
    "### ENTER YOUR CODE HERE"
   ]
  },
  {
   "cell_type": "code",
   "execution_count": 8,
   "metadata": {
    "deletable": false,
    "editable": false,
    "execution": {
     "iopub.execute_input": "2022-08-05T15:05:47.326973Z",
     "iopub.status.busy": "2022-08-05T15:05:47.326662Z",
     "iopub.status.idle": "2022-08-05T15:05:47.331788Z",
     "shell.execute_reply": "2022-08-05T15:05:47.331170Z"
    }
   },
   "outputs": [
    {
     "data": {
      "text/html": [
       "<table><tr style=\"background: red; color: white\"><td style=\"text-align:left\">The result should be False for testcase money = 7 , price_soda = 4 </td></tr></table>"
      ],
      "text/plain": [
       "<IPython.core.display.HTML object>"
      ]
     },
     "metadata": {
      "text/html": {
       "username": "jeroen"
      }
     },
     "output_type": "display_data"
    }
   ],
   "source": [
    "%%check\n",
    "money = 7\n",
    "price_soda = 4\n",
    "result == False\n",
    "money = 8\n",
    "price_soda = 4\n",
    "result == True"
   ]
  },
  {
   "cell_type": "markdown",
   "metadata": {},
   "source": [
    "#### check if our money and bonus add up to 100"
   ]
  },
  {
   "cell_type": "code",
   "execution_count": 9,
   "metadata": {
    "execution": {
     "iopub.execute_input": "2022-08-05T15:05:47.334082Z",
     "iopub.status.busy": "2022-08-05T15:05:47.333810Z",
     "iopub.status.idle": "2022-08-05T15:05:47.337119Z",
     "shell.execute_reply": "2022-08-05T15:05:47.336481Z"
    }
   },
   "outputs": [],
   "source": [
    "money = 70\n",
    "bonus = 40"
   ]
  },
  {
   "cell_type": "code",
   "execution_count": 10,
   "metadata": {
    "deletable": false,
    "editable": true,
    "execution": {
     "iopub.execute_input": "2022-08-05T15:05:47.339191Z",
     "iopub.status.busy": "2022-08-05T15:05:47.338919Z",
     "iopub.status.idle": "2022-08-05T15:05:47.342398Z",
     "shell.execute_reply": "2022-08-05T15:05:47.341740Z"
    }
   },
   "outputs": [],
   "source": [
    "%%assignment\n",
    "### ENTER YOUR CODE HERE"
   ]
  },
  {
   "cell_type": "code",
   "execution_count": 11,
   "metadata": {
    "deletable": false,
    "editable": false,
    "execution": {
     "iopub.execute_input": "2022-08-05T15:05:47.344419Z",
     "iopub.status.busy": "2022-08-05T15:05:47.344137Z",
     "iopub.status.idle": "2022-08-05T15:05:47.348997Z",
     "shell.execute_reply": "2022-08-05T15:05:47.348371Z"
    }
   },
   "outputs": [
    {
     "data": {
      "text/html": [
       "<table><tr style=\"background: red; color: white\"><td style=\"text-align:left\">The result should be False for testcase money = 70 , bonus = 40 </td></tr></table>"
      ],
      "text/plain": [
       "<IPython.core.display.HTML object>"
      ]
     },
     "metadata": {
      "text/html": {
       "username": "jeroen"
      }
     },
     "output_type": "display_data"
    }
   ],
   "source": [
    "%%check\n",
    "money = 70\n",
    "bonus = 40\n",
    "result == False\n",
    "money = 70\n",
    "bonus = 30\n",
    "result == True\n",
    "money = 60\n",
    "bonus = 40\n",
    "result == True"
   ]
  }
 ],
 "metadata": {
  "celltoolbar": "Create Assignment",
  "kernelspec": {
   "display_name": "prog",
   "language": "python",
   "name": "prog"
  },
  "language_info": {
   "codemirror_mode": {
    "name": "ipython",
    "version": 3
   },
   "file_extension": ".py",
   "mimetype": "text/x-python",
   "name": "python",
   "nbconvert_exporter": "python",
   "pygments_lexer": "ipython3",
   "version": "3.9.12"
  }
 },
 "nbformat": 4,
 "nbformat_minor": 4
}
