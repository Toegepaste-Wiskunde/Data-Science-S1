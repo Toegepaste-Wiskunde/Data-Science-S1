{
 "cells": [
  {
   "cell_type": "markdown",
   "metadata": {},
   "source": [
    "# Counter\n",
    "\n",
    "A Counter is a specific type of dictionary. The key:value elements always have numeric values. A Counter counts how many times each key has been added. You can also add Counters together with `+`.\n",
    "\n",
    "Python does not recognize Counter by default, we will have to import it from the collections library. Every Python program that uses a Counter will only need to do the import once, usually at the top."
   ]
  },
  {
   "cell_type": "markdown",
   "metadata": {},
   "source": [
    "# Examples"
   ]
  },
  {
   "cell_type": "code",
   "execution_count": 1,
   "metadata": {
    "execution": {
     "iopub.execute_input": "2022-08-05T15:05:40.673923Z",
     "iopub.status.busy": "2022-08-05T15:05:40.673424Z",
     "iopub.status.idle": "2022-08-05T15:05:40.685672Z",
     "shell.execute_reply": "2022-08-05T15:05:40.684593Z"
    }
   },
   "outputs": [],
   "source": [
    "from collections import Counter"
   ]
  },
  {
   "cell_type": "code",
   "execution_count": 2,
   "metadata": {
    "execution": {
     "iopub.execute_input": "2022-08-05T15:05:40.689939Z",
     "iopub.status.busy": "2022-08-05T15:05:40.689595Z",
     "iopub.status.idle": "2022-08-05T15:05:40.700351Z",
     "shell.execute_reply": "2022-08-05T15:05:40.699618Z"
    }
   },
   "outputs": [
    {
     "data": {
      "text/plain": [
       "Counter({'a': 3, 'r': 2, 'd': 1, 'v': 1, 'k': 1})"
      ]
     },
     "execution_count": 2,
     "metadata": {},
     "output_type": "execute_result"
    }
   ],
   "source": [
    "Counter('aardvark')"
   ]
  },
  {
   "cell_type": "code",
   "execution_count": 3,
   "metadata": {
    "execution": {
     "iopub.execute_input": "2022-08-05T15:05:40.703930Z",
     "iopub.status.busy": "2022-08-05T15:05:40.703645Z",
     "iopub.status.idle": "2022-08-05T15:05:40.708579Z",
     "shell.execute_reply": "2022-08-05T15:05:40.707931Z"
    }
   },
   "outputs": [
    {
     "data": {
      "text/plain": [
       "Counter({2: 3, 1: 1, 3: 1})"
      ]
     },
     "execution_count": 3,
     "metadata": {},
     "output_type": "execute_result"
    }
   ],
   "source": [
    "Counter([2, 1, 2, 2, 3])"
   ]
  },
  {
   "cell_type": "code",
   "execution_count": 4,
   "metadata": {
    "execution": {
     "iopub.execute_input": "2022-08-05T15:05:40.711656Z",
     "iopub.status.busy": "2022-08-05T15:05:40.711399Z",
     "iopub.status.idle": "2022-08-05T15:05:40.716438Z",
     "shell.execute_reply": "2022-08-05T15:05:40.715770Z"
    }
   },
   "outputs": [
    {
     "data": {
      "text/plain": [
       "Counter({'milk': 2.0, 'coffee': 5.75})"
      ]
     },
     "execution_count": 4,
     "metadata": {},
     "output_type": "execute_result"
    }
   ],
   "source": [
    "Counter({'milk':2.00, 'coffee':2.50}) + Counter({'coffee':3.25})"
   ]
  },
  {
   "cell_type": "markdown",
   "metadata": {},
   "source": [
    "# Assignments"
   ]
  },
  {
   "cell_type": "markdown",
   "metadata": {},
   "source": [
    "# How often has each item been `ordered`?"
   ]
  },
  {
   "cell_type": "code",
   "execution_count": 5,
   "metadata": {
    "execution": {
     "iopub.execute_input": "2022-08-05T15:05:40.719144Z",
     "iopub.status.busy": "2022-08-05T15:05:40.718903Z",
     "iopub.status.idle": "2022-08-05T15:05:40.722347Z",
     "shell.execute_reply": "2022-08-05T15:05:40.721649Z"
    }
   },
   "outputs": [],
   "source": [
    "ordered = ['coffee', 'tea', 'coffee', 'orange juice']"
   ]
  },
  {
   "cell_type": "code",
   "execution_count": 6,
   "metadata": {
    "deletable": false,
    "editable": true,
    "execution": {
     "iopub.execute_input": "2022-08-05T15:05:40.724688Z",
     "iopub.status.busy": "2022-08-05T15:05:40.724431Z",
     "iopub.status.idle": "2022-08-05T15:05:40.728543Z",
     "shell.execute_reply": "2022-08-05T15:05:40.727720Z"
    }
   },
   "outputs": [],
   "source": [
    "%%assignment\n",
    "### ENTER YOUR CODE HERE"
   ]
  },
  {
   "cell_type": "code",
   "execution_count": 7,
   "metadata": {
    "deletable": false,
    "editable": false,
    "execution": {
     "iopub.execute_input": "2022-08-05T15:05:40.731119Z",
     "iopub.status.busy": "2022-08-05T15:05:40.730821Z",
     "iopub.status.idle": "2022-08-05T15:05:40.736226Z",
     "shell.execute_reply": "2022-08-05T15:05:40.735565Z"
    }
   },
   "outputs": [
    {
     "data": {
      "text/html": [
       "<table><tr style=\"background: red; color: white\"><td style=\"text-align:left\">The result should be Counter({'coffee': 3}) for testcase ordered = ['coffee', 'coffee', 'coffee'] </td></tr></table>"
      ],
      "text/plain": [
       "<IPython.core.display.HTML object>"
      ]
     },
     "metadata": {
      "text/html": {
       "username": "jeroen"
      }
     },
     "output_type": "display_data"
    }
   ],
   "source": [
    "%%check\n",
    "ordered = ['coffee', 'coffee', 'coffee']\n",
    "result == Counter({'coffee': 3})\n",
    "ordered = ['coffee', 'tea', 'coffee', 'orange juice']\n",
    "result == Counter({'coffee': 2, 'tea': 1, 'orange juice': 1})"
   ]
  },
  {
   "cell_type": "markdown",
   "metadata": {},
   "source": [
    "# How many `students` live in each city?"
   ]
  },
  {
   "cell_type": "code",
   "execution_count": 8,
   "metadata": {
    "execution": {
     "iopub.execute_input": "2022-08-05T15:05:40.738721Z",
     "iopub.status.busy": "2022-08-05T15:05:40.738464Z",
     "iopub.status.idle": "2022-08-05T15:05:40.741934Z",
     "shell.execute_reply": "2022-08-05T15:05:40.741273Z"
    }
   },
   "outputs": [],
   "source": [
    "students = [('Lucy', 'Delft'), ('James', 'Rotterdam'), ('Mary', 'Delft')]"
   ]
  },
  {
   "cell_type": "code",
   "execution_count": 9,
   "metadata": {
    "deletable": false,
    "editable": true,
    "execution": {
     "iopub.execute_input": "2022-08-05T15:05:40.744298Z",
     "iopub.status.busy": "2022-08-05T15:05:40.744010Z",
     "iopub.status.idle": "2022-08-05T15:05:40.747636Z",
     "shell.execute_reply": "2022-08-05T15:05:40.746969Z"
    }
   },
   "outputs": [],
   "source": [
    "%%assignment\n",
    "### ENTER YOUR CODE HERE"
   ]
  },
  {
   "cell_type": "code",
   "execution_count": 10,
   "metadata": {
    "deletable": false,
    "editable": false,
    "execution": {
     "iopub.execute_input": "2022-08-05T15:05:40.749738Z",
     "iopub.status.busy": "2022-08-05T15:05:40.749497Z",
     "iopub.status.idle": "2022-08-05T15:05:40.754654Z",
     "shell.execute_reply": "2022-08-05T15:05:40.754005Z"
    }
   },
   "outputs": [
    {
     "data": {
      "text/html": [
       "<table><tr style=\"background: red; color: white\"><td style=\"text-align:left\">The result should be Counter({'Delft': 1}) for testcase students = [('Lucy', 'Delft')] </td></tr></table>"
      ],
      "text/plain": [
       "<IPython.core.display.HTML object>"
      ]
     },
     "metadata": {
      "text/html": {
       "username": "jeroen"
      }
     },
     "output_type": "display_data"
    }
   ],
   "source": [
    "%%check\n",
    "students = [('Lucy', 'Delft')]\n",
    "result == Counter({'Delft': 1})\n",
    "students = [('Lucy', 'Delft'), ('James', 'Rotterdam'), ('Mary', 'Delft')]\n",
    "result == Counter({'Delft': 2, 'Rotterdam': 1})"
   ]
  },
  {
   "cell_type": "markdown",
   "metadata": {},
   "source": [
    "# Count how often every unique letter appears in `word`"
   ]
  },
  {
   "cell_type": "code",
   "execution_count": 11,
   "metadata": {
    "execution": {
     "iopub.execute_input": "2022-08-05T15:05:40.756897Z",
     "iopub.status.busy": "2022-08-05T15:05:40.756601Z",
     "iopub.status.idle": "2022-08-05T15:05:40.760227Z",
     "shell.execute_reply": "2022-08-05T15:05:40.759420Z"
    }
   },
   "outputs": [],
   "source": [
    "word = 'hippopotamus'"
   ]
  },
  {
   "cell_type": "code",
   "execution_count": 12,
   "metadata": {
    "deletable": false,
    "editable": true,
    "execution": {
     "iopub.execute_input": "2022-08-05T15:05:40.762370Z",
     "iopub.status.busy": "2022-08-05T15:05:40.762135Z",
     "iopub.status.idle": "2022-08-05T15:05:40.765539Z",
     "shell.execute_reply": "2022-08-05T15:05:40.764897Z"
    }
   },
   "outputs": [],
   "source": [
    "%%assignment\n",
    "### ENTER YOUR CODE HERE"
   ]
  },
  {
   "cell_type": "code",
   "execution_count": 13,
   "metadata": {
    "deletable": false,
    "editable": false,
    "execution": {
     "iopub.execute_input": "2022-08-05T15:05:40.767768Z",
     "iopub.status.busy": "2022-08-05T15:05:40.767493Z",
     "iopub.status.idle": "2022-08-05T15:05:40.772448Z",
     "shell.execute_reply": "2022-08-05T15:05:40.771846Z"
    }
   },
   "outputs": [
    {
     "data": {
      "text/html": [
       "<table><tr style=\"background: red; color: white\"><td style=\"text-align:left\">The result should be Counter({'b':1, 'e':2}) for testcase word = 'bee' </td></tr></table>"
      ],
      "text/plain": [
       "<IPython.core.display.HTML object>"
      ]
     },
     "metadata": {
      "text/html": {
       "username": "jeroen"
      }
     },
     "output_type": "display_data"
    }
   ],
   "source": [
    "%%check\n",
    "word = 'bee'\n",
    "result == Counter({'b':1, 'e':2})\n",
    "word = 'hippopotamus'\n",
    "result == Counter({'h': 1, 'i': 1, 'p': 3,'o': 2,'t': 1,'a': 1,'m': 1,'u': 1,'s': 1})"
   ]
  },
  {
   "cell_type": "markdown",
   "metadata": {},
   "source": [
    "# How often does the most frequently appearing letter in `word` appear?\n",
    "\n",
    "Hint: a Counter is a Dictionary, so anthing you can do with a dictionary you can do with a counter. Therefore, you can simply take the highest value."
   ]
  },
  {
   "cell_type": "code",
   "execution_count": 14,
   "metadata": {
    "execution": {
     "iopub.execute_input": "2022-08-05T15:05:40.774803Z",
     "iopub.status.busy": "2022-08-05T15:05:40.774646Z",
     "iopub.status.idle": "2022-08-05T15:05:40.777917Z",
     "shell.execute_reply": "2022-08-05T15:05:40.777257Z"
    }
   },
   "outputs": [],
   "source": [
    "word = 'hippopotamus'"
   ]
  },
  {
   "cell_type": "code",
   "execution_count": 15,
   "metadata": {
    "deletable": false,
    "editable": true,
    "execution": {
     "iopub.execute_input": "2022-08-05T15:05:40.780306Z",
     "iopub.status.busy": "2022-08-05T15:05:40.780020Z",
     "iopub.status.idle": "2022-08-05T15:05:40.783717Z",
     "shell.execute_reply": "2022-08-05T15:05:40.783027Z"
    }
   },
   "outputs": [],
   "source": [
    "%%assignment\n",
    "### ENTER YOUR CODE HERE"
   ]
  },
  {
   "cell_type": "code",
   "execution_count": 16,
   "metadata": {
    "deletable": false,
    "editable": false,
    "execution": {
     "iopub.execute_input": "2022-08-05T15:05:40.786068Z",
     "iopub.status.busy": "2022-08-05T15:05:40.785769Z",
     "iopub.status.idle": "2022-08-05T15:05:40.790886Z",
     "shell.execute_reply": "2022-08-05T15:05:40.790224Z"
    }
   },
   "outputs": [
    {
     "data": {
      "text/html": [
       "<table><tr style=\"background: red; color: white\"><td style=\"text-align:left\">The result should be 2 for testcase word = 'bee' </td></tr></table>"
      ],
      "text/plain": [
       "<IPython.core.display.HTML object>"
      ]
     },
     "metadata": {
      "text/html": {
       "username": "jeroen"
      }
     },
     "output_type": "display_data"
    }
   ],
   "source": [
    "%%check\n",
    "word = 'bee'\n",
    "result == 2\n",
    "word = 'hippopotamus'\n",
    "result == 3"
   ]
  },
  {
   "cell_type": "markdown",
   "metadata": {},
   "source": [
    "# What is the most frequently appearing letter in `word`?\n",
    "\n",
    "Note: there could be a tie for first place, so you will have to return a collection (e.g. a list) of letters.\n",
    "\n",
    "With the tools you have learned now, it may be easiest to first assign the Counter of the word to a variable. Then assign the highest count to another variable, and finally create a List comprehension  to list only the chacters whose count equals the highest count."
   ]
  },
  {
   "cell_type": "code",
   "execution_count": 17,
   "metadata": {
    "execution": {
     "iopub.execute_input": "2022-08-05T15:05:40.793075Z",
     "iopub.status.busy": "2022-08-05T15:05:40.792794Z",
     "iopub.status.idle": "2022-08-05T15:05:40.796153Z",
     "shell.execute_reply": "2022-08-05T15:05:40.795513Z"
    }
   },
   "outputs": [],
   "source": [
    "word = 'hippopotamus'"
   ]
  },
  {
   "cell_type": "code",
   "execution_count": 18,
   "metadata": {
    "deletable": false,
    "editable": true,
    "execution": {
     "iopub.execute_input": "2022-08-05T15:05:40.798212Z",
     "iopub.status.busy": "2022-08-05T15:05:40.797930Z",
     "iopub.status.idle": "2022-08-05T15:05:40.801485Z",
     "shell.execute_reply": "2022-08-05T15:05:40.800843Z"
    }
   },
   "outputs": [],
   "source": [
    "%%assignment\n",
    "### ENTER YOUR CODE HERE"
   ]
  },
  {
   "cell_type": "code",
   "execution_count": 19,
   "metadata": {
    "deletable": false,
    "editable": false,
    "execution": {
     "iopub.execute_input": "2022-08-05T15:05:40.803649Z",
     "iopub.status.busy": "2022-08-05T15:05:40.803406Z",
     "iopub.status.idle": "2022-08-05T15:05:41.173295Z",
     "shell.execute_reply": "2022-08-05T15:05:41.172623Z"
    }
   },
   "outputs": [
    {
     "ename": "TypeError",
     "evalue": "'NoneType' object is not iterable",
     "output_type": "error",
     "traceback": [
      "\u001b[0;31m---------------------------------------------------------------------------\u001b[0m",
      "\u001b[0;31mTypeError\u001b[0m                                 Traceback (most recent call last)",
      "Input \u001b[0;32mIn [19]\u001b[0m, in \u001b[0;36m<cell line: 1>\u001b[0;34m()\u001b[0m\n\u001b[0;32m----> 1\u001b[0m \u001b[43mget_ipython\u001b[49m\u001b[43m(\u001b[49m\u001b[43m)\u001b[49m\u001b[38;5;241;43m.\u001b[39;49m\u001b[43mrun_cell_magic\u001b[49m\u001b[43m(\u001b[49m\u001b[38;5;124;43m'\u001b[39;49m\u001b[38;5;124;43mcheck\u001b[39;49m\u001b[38;5;124;43m'\u001b[39;49m\u001b[43m,\u001b[49m\u001b[43m \u001b[49m\u001b[38;5;124;43m'\u001b[39;49m\u001b[38;5;124;43m'\u001b[39;49m\u001b[43m,\u001b[49m\u001b[43m \u001b[49m\u001b[38;5;124;43m\"\u001b[39;49m\u001b[38;5;124;43mword = \u001b[39;49m\u001b[38;5;124;43m'\u001b[39;49m\u001b[38;5;124;43mbeebo\u001b[39;49m\u001b[38;5;124;43m'\u001b[39;49m\u001b[38;5;130;43;01m\\n\u001b[39;49;00m\u001b[38;5;124;43mset(result) == \u001b[39;49m\u001b[38;5;124;43m{\u001b[39;49m\u001b[38;5;124;43m'\u001b[39;49m\u001b[38;5;124;43mb\u001b[39;49m\u001b[38;5;124;43m'\u001b[39;49m\u001b[38;5;124;43m, \u001b[39;49m\u001b[38;5;124;43m'\u001b[39;49m\u001b[38;5;124;43me\u001b[39;49m\u001b[38;5;124;43m'\u001b[39;49m\u001b[38;5;124;43m}\u001b[39;49m\u001b[38;5;130;43;01m\\n\u001b[39;49;00m\u001b[38;5;124;43mword = \u001b[39;49m\u001b[38;5;124;43m'\u001b[39;49m\u001b[38;5;124;43mhippopotamus\u001b[39;49m\u001b[38;5;124;43m'\u001b[39;49m\u001b[38;5;130;43;01m\\n\u001b[39;49;00m\u001b[38;5;124;43mset(result) == \u001b[39;49m\u001b[38;5;124;43m{\u001b[39;49m\u001b[38;5;124;43m'\u001b[39;49m\u001b[38;5;124;43mp\u001b[39;49m\u001b[38;5;124;43m'\u001b[39;49m\u001b[38;5;124;43m}\u001b[39;49m\u001b[38;5;130;43;01m\\n\u001b[39;49;00m\u001b[38;5;124;43m\"\u001b[39;49m\u001b[43m)\u001b[49m\n",
      "File \u001b[0;32m/opt/jupyterhub/anaconda/lib/python3.9/site-packages/IPython/core/interactiveshell.py:2358\u001b[0m, in \u001b[0;36mInteractiveShell.run_cell_magic\u001b[0;34m(self, magic_name, line, cell)\u001b[0m\n\u001b[1;32m   2356\u001b[0m \u001b[38;5;28;01mwith\u001b[39;00m \u001b[38;5;28mself\u001b[39m\u001b[38;5;241m.\u001b[39mbuiltin_trap:\n\u001b[1;32m   2357\u001b[0m     args \u001b[38;5;241m=\u001b[39m (magic_arg_s, cell)\n\u001b[0;32m-> 2358\u001b[0m     result \u001b[38;5;241m=\u001b[39m \u001b[43mfn\u001b[49m\u001b[43m(\u001b[49m\u001b[38;5;241;43m*\u001b[39;49m\u001b[43margs\u001b[49m\u001b[43m,\u001b[49m\u001b[43m \u001b[49m\u001b[38;5;241;43m*\u001b[39;49m\u001b[38;5;241;43m*\u001b[39;49m\u001b[43mkwargs\u001b[49m\u001b[43m)\u001b[49m\n\u001b[1;32m   2359\u001b[0m \u001b[38;5;28;01mreturn\u001b[39;00m result\n",
      "File \u001b[0;32m<string>:199\u001b[0m, in \u001b[0;36mcheck\u001b[0;34m(self, nr, checks)\u001b[0m\n",
      "File \u001b[0;32m<string>:231\u001b[0m, in \u001b[0;36mcheck2\u001b[0;34m(self)\u001b[0m\n",
      "File \u001b[0;32m<string>:150\u001b[0m, in \u001b[0;36meval\u001b[0;34m(self, script, prelude)\u001b[0m\n",
      "File \u001b[0;32m/opt/jupyterhub/anaconda/lib/python3.9/site-packages/IPython/core/interactiveshell.py:2684\u001b[0m, in \u001b[0;36mInteractiveShell.ex\u001b[0;34m(self, cmd)\u001b[0m\n\u001b[1;32m   2682\u001b[0m \u001b[38;5;124;03m\"\"\"Execute a normal python statement in user namespace.\"\"\"\u001b[39;00m\n\u001b[1;32m   2683\u001b[0m \u001b[38;5;28;01mwith\u001b[39;00m \u001b[38;5;28mself\u001b[39m\u001b[38;5;241m.\u001b[39mbuiltin_trap:\n\u001b[0;32m-> 2684\u001b[0m     \u001b[43mexec\u001b[49m\u001b[43m(\u001b[49m\u001b[43mcmd\u001b[49m\u001b[43m,\u001b[49m\u001b[43m \u001b[49m\u001b[38;5;28;43mself\u001b[39;49m\u001b[38;5;241;43m.\u001b[39;49m\u001b[43muser_global_ns\u001b[49m\u001b[43m,\u001b[49m\u001b[43m \u001b[49m\u001b[38;5;28;43mself\u001b[39;49m\u001b[38;5;241;43m.\u001b[39;49m\u001b[43muser_ns\u001b[49m\u001b[43m)\u001b[49m\n",
      "File \u001b[0;32m<string>:1\u001b[0m, in \u001b[0;36m<module>\u001b[0;34m\u001b[0m\n",
      "\u001b[0;31mTypeError\u001b[0m: 'NoneType' object is not iterable"
     ]
    }
   ],
   "source": [
    "%%check\n",
    "word = 'beebo'\n",
    "set(result) == {'b', 'e'}\n",
    "word = 'hippopotamus'\n",
    "set(result) == {'p'}"
   ]
  },
  {
   "cell_type": "markdown",
   "metadata": {},
   "source": [
    "# How many OTHER `drinks` have got the same price as 'coffee'?\n",
    "\n",
    "Note: You can use a counter, to count how often every price appears. But since coffee is also in there, and the assignment is how many OTHER drinks, you should lower the result by 1."
   ]
  },
  {
   "cell_type": "code",
   "execution_count": 20,
   "metadata": {
    "execution": {
     "iopub.execute_input": "2022-08-05T15:05:41.178417Z",
     "iopub.status.busy": "2022-08-05T15:05:41.178139Z",
     "iopub.status.idle": "2022-08-05T15:05:41.181845Z",
     "shell.execute_reply": "2022-08-05T15:05:41.181061Z"
    }
   },
   "outputs": [],
   "source": [
    "drinks = {'coffee':2.00, 'tea':1.50, 'orange juice':2.00}"
   ]
  },
  {
   "cell_type": "code",
   "execution_count": 21,
   "metadata": {
    "deletable": false,
    "editable": true,
    "execution": {
     "iopub.execute_input": "2022-08-05T15:05:41.185345Z",
     "iopub.status.busy": "2022-08-05T15:05:41.185086Z",
     "iopub.status.idle": "2022-08-05T15:05:41.188737Z",
     "shell.execute_reply": "2022-08-05T15:05:41.188080Z"
    }
   },
   "outputs": [],
   "source": [
    "%%assignment\n",
    "### ENTER YOUR CODE HERE"
   ]
  },
  {
   "cell_type": "code",
   "execution_count": 22,
   "metadata": {
    "deletable": false,
    "editable": false,
    "execution": {
     "iopub.execute_input": "2022-08-05T15:05:41.191506Z",
     "iopub.status.busy": "2022-08-05T15:05:41.191219Z",
     "iopub.status.idle": "2022-08-05T15:05:41.196444Z",
     "shell.execute_reply": "2022-08-05T15:05:41.195811Z"
    }
   },
   "outputs": [
    {
     "data": {
      "text/html": [
       "<table><tr style=\"background: red; color: white\"><td style=\"text-align:left\">The result should be 2 for testcase drinks = {'coffee':3.00, 'tea':3.00, 'orange juice':3.00} </td></tr></table>"
      ],
      "text/plain": [
       "<IPython.core.display.HTML object>"
      ]
     },
     "metadata": {
      "text/html": {
       "username": "jeroen"
      }
     },
     "output_type": "display_data"
    }
   ],
   "source": [
    "%%check\n",
    "drinks = {'coffee':3.00, 'tea':3.00, 'orange juice':3.00}\n",
    "result == 2\n",
    "drinks = {'coffee':2.00, 'tea':1.50, 'orange juice':2.00}\n",
    "result == 1"
   ]
  },
  {
   "cell_type": "markdown",
   "metadata": {},
   "source": [
    "# Count how often the different suits appear in `hand`"
   ]
  },
  {
   "cell_type": "code",
   "execution_count": 23,
   "metadata": {
    "execution": {
     "iopub.execute_input": "2022-08-05T15:05:41.201119Z",
     "iopub.status.busy": "2022-08-05T15:05:41.200845Z",
     "iopub.status.idle": "2022-08-05T15:05:41.204519Z",
     "shell.execute_reply": "2022-08-05T15:05:41.203677Z"
    }
   },
   "outputs": [],
   "source": [
    "hand = ['10♥', '5♣', '9♣', '10♦', 'Q♥']"
   ]
  },
  {
   "cell_type": "code",
   "execution_count": 24,
   "metadata": {
    "deletable": false,
    "editable": true,
    "execution": {
     "iopub.execute_input": "2022-08-05T15:05:41.208157Z",
     "iopub.status.busy": "2022-08-05T15:05:41.207910Z",
     "iopub.status.idle": "2022-08-05T15:05:41.211491Z",
     "shell.execute_reply": "2022-08-05T15:05:41.210817Z"
    }
   },
   "outputs": [],
   "source": [
    "%%assignment\n",
    "### ENTER YOUR CODE HERE"
   ]
  },
  {
   "cell_type": "code",
   "execution_count": 25,
   "metadata": {
    "deletable": false,
    "editable": false,
    "execution": {
     "iopub.execute_input": "2022-08-05T15:05:41.215103Z",
     "iopub.status.busy": "2022-08-05T15:05:41.214759Z",
     "iopub.status.idle": "2022-08-05T15:05:41.221125Z",
     "shell.execute_reply": "2022-08-05T15:05:41.220213Z"
    }
   },
   "outputs": [
    {
     "data": {
      "text/html": [
       "<table><tr style=\"background: red; color: white\"><td style=\"text-align:left\">The result should be Counter({'♠': 5}) for testcase hand = ['10♠', '5♠', '9♠', '10♠', 'Q♠'] </td></tr></table>"
      ],
      "text/plain": [
       "<IPython.core.display.HTML object>"
      ]
     },
     "metadata": {
      "text/html": {
       "username": "jeroen"
      }
     },
     "output_type": "display_data"
    }
   ],
   "source": [
    "%%check\n",
    "hand = ['10♠', '5♠', '9♠', '10♠', 'Q♠']\n",
    "result == Counter({'♠': 5})\n",
    "hand = ['10♥', '5♣', '9♣', '10♦', 'Q♥']\n",
    "result == Counter({'♥': 2, '♣': 2, '♦': 1})"
   ]
  },
  {
   "cell_type": "markdown",
   "metadata": {},
   "source": [
    "# How many card are there of the most frequent suit in `hand`"
   ]
  },
  {
   "cell_type": "code",
   "execution_count": 26,
   "metadata": {
    "execution": {
     "iopub.execute_input": "2022-08-05T15:05:41.224054Z",
     "iopub.status.busy": "2022-08-05T15:05:41.223724Z",
     "iopub.status.idle": "2022-08-05T15:05:41.228032Z",
     "shell.execute_reply": "2022-08-05T15:05:41.227099Z"
    }
   },
   "outputs": [],
   "source": [
    "hand = ['10♥', '5♣', '9♣', '10♦', 'Q♥']"
   ]
  },
  {
   "cell_type": "code",
   "execution_count": 27,
   "metadata": {
    "deletable": false,
    "editable": true,
    "execution": {
     "iopub.execute_input": "2022-08-05T15:05:41.230439Z",
     "iopub.status.busy": "2022-08-05T15:05:41.230149Z",
     "iopub.status.idle": "2022-08-05T15:05:41.234212Z",
     "shell.execute_reply": "2022-08-05T15:05:41.233453Z"
    }
   },
   "outputs": [],
   "source": [
    "%%assignment\n",
    "### ENTER YOUR CODE HERE"
   ]
  },
  {
   "cell_type": "code",
   "execution_count": 28,
   "metadata": {
    "deletable": false,
    "editable": false,
    "execution": {
     "iopub.execute_input": "2022-08-05T15:05:41.236795Z",
     "iopub.status.busy": "2022-08-05T15:05:41.236538Z",
     "iopub.status.idle": "2022-08-05T15:05:41.241759Z",
     "shell.execute_reply": "2022-08-05T15:05:41.241094Z"
    }
   },
   "outputs": [
    {
     "data": {
      "text/html": [
       "<table><tr style=\"background: red; color: white\"><td style=\"text-align:left\">The result should be 5 for testcase hand = ['10♠', '5♠', '9♠', '10♠', 'Q♠'] </td></tr></table>"
      ],
      "text/plain": [
       "<IPython.core.display.HTML object>"
      ]
     },
     "metadata": {
      "text/html": {
       "username": "jeroen"
      }
     },
     "output_type": "display_data"
    }
   ],
   "source": [
    "%%check\n",
    "hand = ['10♠', '5♠', '9♠', '10♠', 'Q♠']\n",
    "result == 5\n",
    "hand = ['10♥', '5♣', '9♣', '10♦', 'Q♥']\n",
    "result == 2"
   ]
  }
 ],
 "metadata": {
  "celltoolbar": "Create Assignment",
  "kernelspec": {
   "display_name": "prog",
   "language": "python",
   "name": "prog"
  },
  "language_info": {
   "codemirror_mode": {
    "name": "ipython",
    "version": 3
   },
   "file_extension": ".py",
   "mimetype": "text/x-python",
   "name": "python",
   "nbconvert_exporter": "python",
   "pygments_lexer": "ipython3",
   "version": "3.9.12"
  }
 },
 "nbformat": 4,
 "nbformat_minor": 4
}
