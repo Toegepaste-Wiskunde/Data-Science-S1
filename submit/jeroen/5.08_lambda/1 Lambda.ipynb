{
 "cells": [
  {
   "cell_type": "markdown",
   "metadata": {},
   "source": [
    "# Lambda expression\n",
    "\n",
    "In many programming languages, we can define simple anonymous functions that have no name. The idea is that sometimes, you just want to apply a function one time, so there is really no need to assign it to a variable for reuse. Such an anonymous function is formally called a 'lambda expression'. Lambda expressions cannot contain an entire code block, but only define what the input parameters are and what the returned result is."
   ]
  },
  {
   "cell_type": "markdown",
   "metadata": {},
   "source": [
    "A lambda expression contains the word 'lambda', followed by the input parameters (if any), then a colon (:) and then the expression that is returned. So the lambda to compute the area of a rectangle of size `x` by `y` could be:"
   ]
  },
  {
   "cell_type": "code",
   "execution_count": 1,
   "metadata": {
    "execution": {
     "iopub.execute_input": "2022-08-05T15:05:02.045718Z",
     "iopub.status.busy": "2022-08-05T15:05:02.045080Z",
     "iopub.status.idle": "2022-08-05T15:05:02.062485Z",
     "shell.execute_reply": "2022-08-05T15:05:02.062053Z"
    }
   },
   "outputs": [
    {
     "data": {
      "text/plain": [
       "<function __main__.<lambda>(x, y)>"
      ]
     },
     "execution_count": 1,
     "metadata": {},
     "output_type": "execute_result"
    }
   ],
   "source": [
    "lambda x, y: x*y"
   ]
  },
  {
   "cell_type": "markdown",
   "metadata": {},
   "source": [
    "Since the lambda is not stored, we cannot use it. To demonstrate how it works, we can assign it to a variable."
   ]
  },
  {
   "cell_type": "code",
   "execution_count": 2,
   "metadata": {
    "execution": {
     "iopub.execute_input": "2022-08-05T15:05:02.067708Z",
     "iopub.status.busy": "2022-08-05T15:05:02.067417Z",
     "iopub.status.idle": "2022-08-05T15:05:02.070428Z",
     "shell.execute_reply": "2022-08-05T15:05:02.069883Z"
    }
   },
   "outputs": [],
   "source": [
    "area = lambda x, y: x*y"
   ]
  },
  {
   "cell_type": "code",
   "execution_count": 3,
   "metadata": {
    "execution": {
     "iopub.execute_input": "2022-08-05T15:05:02.073600Z",
     "iopub.status.busy": "2022-08-05T15:05:02.073326Z",
     "iopub.status.idle": "2022-08-05T15:05:02.076753Z",
     "shell.execute_reply": "2022-08-05T15:05:02.076361Z"
    }
   },
   "outputs": [
    {
     "data": {
      "text/plain": [
       "20"
      ]
     },
     "execution_count": 3,
     "metadata": {},
     "output_type": "execute_result"
    }
   ],
   "source": [
    "area(5, 4)"
   ]
  },
  {
   "cell_type": "markdown",
   "metadata": {},
   "source": [
    "Note that this is the exact equivalent of:"
   ]
  },
  {
   "cell_type": "code",
   "execution_count": 4,
   "metadata": {
    "execution": {
     "iopub.execute_input": "2022-08-05T15:05:02.080319Z",
     "iopub.status.busy": "2022-08-05T15:05:02.080032Z",
     "iopub.status.idle": "2022-08-05T15:05:02.083071Z",
     "shell.execute_reply": "2022-08-05T15:05:02.082490Z"
    }
   },
   "outputs": [],
   "source": [
    "def area(x, y):\n",
    "    return x * y"
   ]
  },
  {
   "cell_type": "code",
   "execution_count": 5,
   "metadata": {
    "execution": {
     "iopub.execute_input": "2022-08-05T15:05:02.085344Z",
     "iopub.status.busy": "2022-08-05T15:05:02.085105Z",
     "iopub.status.idle": "2022-08-05T15:05:02.088553Z",
     "shell.execute_reply": "2022-08-05T15:05:02.088131Z"
    }
   },
   "outputs": [
    {
     "data": {
      "text/plain": [
       "20"
      ]
     },
     "execution_count": 5,
     "metadata": {},
     "output_type": "execute_result"
    }
   ],
   "source": [
    "area(5, 4)"
   ]
  },
  {
   "cell_type": "markdown",
   "metadata": {},
   "source": [
    "So what are lambda's useful for? We can pass a function as a function parameter. Consider a few examples:"
   ]
  },
  {
   "cell_type": "code",
   "execution_count": 6,
   "metadata": {
    "execution": {
     "iopub.execute_input": "2022-08-05T15:05:02.090802Z",
     "iopub.status.busy": "2022-08-05T15:05:02.090502Z",
     "iopub.status.idle": "2022-08-05T15:05:02.093413Z",
     "shell.execute_reply": "2022-08-05T15:05:02.092981Z"
    }
   },
   "outputs": [],
   "source": [
    "a = [5, 3, 2, 8]"
   ]
  },
  {
   "cell_type": "markdown",
   "metadata": {},
   "source": [
    "| code | result | comment |\n",
    "|:-----|:-------|:--------|\n",
    "| sorted(a) | [2, 3, 5, 8] | returns a sorted list of any iterable |\n",
    "| sorted(a, key=lambda x:-x) | [8, 5, 3, 2] | when we pass a function as key, the elements are sorted by the value that functions returns for them. In this case `-x` reversed the sort order |\n",
    "| sorted(a, key=lambda x: x % 2) | [2, 8, 5, 3] | because even numbers evaluate to 0 and odd numbers to 1, this changes the order so that the even numbers come before the odd numbers |\n",
    "| filter( lambda x: x < 5, a ) | [2, 3] | filter returns only the values in `a` for which the lambda returns True |"
   ]
  },
  {
   "cell_type": "markdown",
   "metadata": {},
   "source": [
    "By passing functions to functions, it becomes possible to write more generic function. For example, a sort function that can sort any list of elements, using a passed function/lambda that returns the value to sort it by."
   ]
  },
  {
   "cell_type": "markdown",
   "metadata": {},
   "source": [
    "# Assignments"
   ]
  },
  {
   "cell_type": "markdown",
   "metadata": {},
   "source": [
    "Consider the generic function `smallest` that returns the smallest of a set of rectangles given some measure.\n",
    "\n",
    "The way smallest works, is by constructing a list of (measure, value) tuples. When you sort these values using that function, the first value is the smallest."
   ]
  },
  {
   "cell_type": "code",
   "execution_count": 7,
   "metadata": {
    "execution": {
     "iopub.execute_input": "2022-08-05T15:05:02.095678Z",
     "iopub.status.busy": "2022-08-05T15:05:02.095398Z",
     "iopub.status.idle": "2022-08-05T15:05:02.098502Z",
     "shell.execute_reply": "2022-08-05T15:05:02.097943Z"
    }
   },
   "outputs": [],
   "source": [
    "def smallest( values, measure):\n",
    "    return sorted(values, key=measure)[0]"
   ]
  },
  {
   "cell_type": "code",
   "execution_count": 8,
   "metadata": {
    "execution": {
     "iopub.execute_input": "2022-08-05T15:05:02.100462Z",
     "iopub.status.busy": "2022-08-05T15:05:02.100186Z",
     "iopub.status.idle": "2022-08-05T15:05:02.103153Z",
     "shell.execute_reply": "2022-08-05T15:05:02.102735Z"
    }
   },
   "outputs": [],
   "source": [
    "rectangles = [(4, 10), (3, 6), (4, 4)]"
   ]
  },
  {
   "cell_type": "markdown",
   "metadata": {},
   "source": [
    "When we call this function with `min` as measure, it will use the minimum of the height and width of each rectangle as value to sort on."
   ]
  },
  {
   "cell_type": "code",
   "execution_count": 9,
   "metadata": {
    "execution": {
     "iopub.execute_input": "2022-08-05T15:05:02.105047Z",
     "iopub.status.busy": "2022-08-05T15:05:02.104817Z",
     "iopub.status.idle": "2022-08-05T15:05:02.108230Z",
     "shell.execute_reply": "2022-08-05T15:05:02.107822Z"
    }
   },
   "outputs": [
    {
     "data": {
      "text/plain": [
       "(3, 6)"
      ]
     },
     "execution_count": 9,
     "metadata": {},
     "output_type": "execute_result"
    }
   ],
   "source": [
    "smallest(rectangles, min)"
   ]
  },
  {
   "cell_type": "markdown",
   "metadata": {},
   "source": [
    "# Use `smallest` with a lambda to get the rectangle with the smallest area.\n",
    "\n",
    "Note: you can not use unpacking here, you have to use a single parameter like in `lambda x: ...`, therefore you will have to write the lambda to compute the area different than the version above."
   ]
  },
  {
   "cell_type": "code",
   "execution_count": 10,
   "metadata": {
    "deletable": false,
    "execution": {
     "iopub.execute_input": "2022-08-05T15:05:02.110354Z",
     "iopub.status.busy": "2022-08-05T15:05:02.110086Z",
     "iopub.status.idle": "2022-08-05T15:05:02.112990Z",
     "shell.execute_reply": "2022-08-05T15:05:02.112605Z"
    }
   },
   "outputs": [],
   "source": [
    "%%assignment\n",
    "### ENTER YOUR CODE HERE"
   ]
  },
  {
   "cell_type": "code",
   "execution_count": 11,
   "metadata": {
    "deletable": false,
    "editable": false,
    "execution": {
     "iopub.execute_input": "2022-08-05T15:05:02.114840Z",
     "iopub.status.busy": "2022-08-05T15:05:02.114678Z",
     "iopub.status.idle": "2022-08-05T15:05:02.118589Z",
     "shell.execute_reply": "2022-08-05T15:05:02.118207Z"
    }
   },
   "outputs": [
    {
     "data": {
      "text/html": [
       "<table><tr style=\"background: red; color: white\"><td style=\"text-align:left\">The result should be (2, 2) for testcase rectangles = [(9, 1), (1, 8), (2, 2)] </td></tr></table>"
      ],
      "text/plain": [
       "<IPython.core.display.HTML object>"
      ]
     },
     "metadata": {
      "text/html": {
       "username": "jeroen"
      }
     },
     "output_type": "display_data"
    }
   ],
   "source": [
    "%%check\n",
    "rectangles = [(9, 1), (1, 8), (2, 2)]\n",
    "result == (2, 2)\n",
    "rectangles = [(4, 10), (3, 6), (4, 4)]\n",
    "result == (4, 4)"
   ]
  },
  {
   "cell_type": "markdown",
   "metadata": {},
   "source": [
    "# Use `smallest` with a lambda to get the rectangle with the longest edge.\n",
    "\n",
    "An 'edge' could either by the height or width, whichever is longest."
   ]
  },
  {
   "cell_type": "code",
   "execution_count": 12,
   "metadata": {
    "deletable": false,
    "execution": {
     "iopub.execute_input": "2022-08-05T15:05:02.120491Z",
     "iopub.status.busy": "2022-08-05T15:05:02.120271Z",
     "iopub.status.idle": "2022-08-05T15:05:02.123079Z",
     "shell.execute_reply": "2022-08-05T15:05:02.122567Z"
    }
   },
   "outputs": [],
   "source": [
    "%%assignment\n",
    "### ENTER YOUR CODE HERE"
   ]
  },
  {
   "cell_type": "code",
   "execution_count": 13,
   "metadata": {
    "deletable": false,
    "editable": false,
    "execution": {
     "iopub.execute_input": "2022-08-05T15:05:02.124962Z",
     "iopub.status.busy": "2022-08-05T15:05:02.124696Z",
     "iopub.status.idle": "2022-08-05T15:05:02.128535Z",
     "shell.execute_reply": "2022-08-05T15:05:02.128153Z"
    }
   },
   "outputs": [
    {
     "data": {
      "text/html": [
       "<table><tr style=\"background: red; color: white\"><td style=\"text-align:left\">The result should be (1, 9) for testcase rectangles = [(8, 1), (1, 9), (2, 2)] </td></tr></table>"
      ],
      "text/plain": [
       "<IPython.core.display.HTML object>"
      ]
     },
     "metadata": {
      "text/html": {
       "username": "jeroen"
      }
     },
     "output_type": "display_data"
    }
   ],
   "source": [
    "%%check\n",
    "rectangles = [(8, 1), (1, 9), (2, 2)]\n",
    "result == (1, 9)\n",
    "rectangles = [(4, 10), (3, 6), (4, 4)]\n",
    "result == (4, 10)"
   ]
  },
  {
   "cell_type": "markdown",
   "metadata": {},
   "source": [
    "# Sort `names` by the length of the strings.\n",
    "\n",
    "In other words, the shortest name should come first and the longest name last."
   ]
  },
  {
   "cell_type": "code",
   "execution_count": 14,
   "metadata": {
    "execution": {
     "iopub.execute_input": "2022-08-05T15:05:02.130484Z",
     "iopub.status.busy": "2022-08-05T15:05:02.130223Z",
     "iopub.status.idle": "2022-08-05T15:05:02.132911Z",
     "shell.execute_reply": "2022-08-05T15:05:02.132529Z"
    }
   },
   "outputs": [],
   "source": [
    "names = ['Isabelle', 'Jack', 'James', 'Abe' ]"
   ]
  },
  {
   "cell_type": "code",
   "execution_count": 15,
   "metadata": {
    "deletable": false,
    "execution": {
     "iopub.execute_input": "2022-08-05T15:05:02.134776Z",
     "iopub.status.busy": "2022-08-05T15:05:02.134510Z",
     "iopub.status.idle": "2022-08-05T15:05:02.137241Z",
     "shell.execute_reply": "2022-08-05T15:05:02.136856Z"
    }
   },
   "outputs": [],
   "source": [
    "%%assignment\n",
    "### ENTER YOUR CODE HERE"
   ]
  },
  {
   "cell_type": "code",
   "execution_count": 16,
   "metadata": {
    "deletable": false,
    "editable": false,
    "execution": {
     "iopub.execute_input": "2022-08-05T15:05:02.139408Z",
     "iopub.status.busy": "2022-08-05T15:05:02.138855Z",
     "iopub.status.idle": "2022-08-05T15:05:02.142543Z",
     "shell.execute_reply": "2022-08-05T15:05:02.142166Z"
    }
   },
   "outputs": [
    {
     "data": {
      "text/html": [
       "<table><tr style=\"background: red; color: white\"><td style=\"text-align:left\">The result should be ['Abe', 'James', 'Isabelle'] for testcase names = ['Isabelle', 'James', 'Abe' ] </td></tr></table>"
      ],
      "text/plain": [
       "<IPython.core.display.HTML object>"
      ]
     },
     "metadata": {
      "text/html": {
       "username": "jeroen"
      }
     },
     "output_type": "display_data"
    }
   ],
   "source": [
    "%%check\n",
    "names = ['Isabelle', 'James', 'Abe' ]\n",
    "result == ['Abe', 'James', 'Isabelle']\n",
    "names = ['Isabelle', 'Jack', 'James', 'Abe' ]\n",
    "result == ['Abe', 'Jack', 'James', 'Isabelle']"
   ]
  }
 ],
 "metadata": {
  "celltoolbar": "Create Assignment",
  "kernelspec": {
   "display_name": "prog",
   "language": "python",
   "name": "prog"
  },
  "language_info": {
   "codemirror_mode": {
    "name": "ipython",
    "version": 3
   },
   "file_extension": ".py",
   "mimetype": "text/x-python",
   "name": "python",
   "nbconvert_exporter": "python",
   "pygments_lexer": "ipython3",
   "version": "3.9.12"
  }
 },
 "nbformat": 4,
 "nbformat_minor": 4
}
