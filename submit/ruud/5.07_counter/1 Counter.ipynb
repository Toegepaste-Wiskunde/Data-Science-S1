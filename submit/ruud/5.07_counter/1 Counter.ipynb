{
 "cells": [
  {
   "cell_type": "markdown",
   "metadata": {},
   "source": [
    "# Counter\n",
    "\n",
    "A Counter is a specific type of dictionary. The key:value elements always have numeric values. A Counter counts how many times each key has been added. You can also add Counters together with `+`.\n",
    "\n",
    "Python does not recognize Counter by default, we will have to import it from the collections library. Every Python program that uses a Counter will only need to do the import once, usually at the top."
   ]
  },
  {
   "cell_type": "markdown",
   "metadata": {},
   "source": [
    "# Examples"
   ]
  },
  {
   "cell_type": "code",
   "execution_count": 1,
   "metadata": {
    "execution": {
     "iopub.execute_input": "2022-08-22T09:45:03.405627Z",
     "iopub.status.busy": "2022-08-22T09:45:03.404390Z",
     "iopub.status.idle": "2022-08-22T09:45:03.417541Z",
     "shell.execute_reply": "2022-08-22T09:45:03.416106Z"
    }
   },
   "outputs": [],
   "source": [
    "from collections import Counter"
   ]
  },
  {
   "cell_type": "code",
   "execution_count": 2,
   "metadata": {
    "execution": {
     "iopub.execute_input": "2022-08-22T09:45:03.423421Z",
     "iopub.status.busy": "2022-08-22T09:45:03.422957Z",
     "iopub.status.idle": "2022-08-22T09:45:03.436416Z",
     "shell.execute_reply": "2022-08-22T09:45:03.435454Z"
    }
   },
   "outputs": [
    {
     "data": {
      "text/plain": [
       "Counter({'a': 3, 'r': 2, 'd': 1, 'v': 1, 'k': 1})"
      ]
     },
     "execution_count": 2,
     "metadata": {},
     "output_type": "execute_result"
    }
   ],
   "source": [
    "Counter('aardvark')"
   ]
  },
  {
   "cell_type": "code",
   "execution_count": 3,
   "metadata": {
    "execution": {
     "iopub.execute_input": "2022-08-22T09:45:03.441739Z",
     "iopub.status.busy": "2022-08-22T09:45:03.441393Z",
     "iopub.status.idle": "2022-08-22T09:45:03.447364Z",
     "shell.execute_reply": "2022-08-22T09:45:03.446429Z"
    }
   },
   "outputs": [
    {
     "data": {
      "text/plain": [
       "Counter({2: 3, 1: 1, 3: 1})"
      ]
     },
     "execution_count": 3,
     "metadata": {},
     "output_type": "execute_result"
    }
   ],
   "source": [
    "Counter([2, 1, 2, 2, 3])"
   ]
  },
  {
   "cell_type": "code",
   "execution_count": 4,
   "metadata": {
    "execution": {
     "iopub.execute_input": "2022-08-22T09:45:03.450851Z",
     "iopub.status.busy": "2022-08-22T09:45:03.450612Z",
     "iopub.status.idle": "2022-08-22T09:45:03.456381Z",
     "shell.execute_reply": "2022-08-22T09:45:03.455632Z"
    }
   },
   "outputs": [
    {
     "data": {
      "text/plain": [
       "Counter({'milk': 2.0, 'coffee': 5.75})"
      ]
     },
     "execution_count": 4,
     "metadata": {},
     "output_type": "execute_result"
    }
   ],
   "source": [
    "Counter({'milk':2.00, 'coffee':2.50}) + Counter({'coffee':3.25})"
   ]
  },
  {
   "cell_type": "markdown",
   "metadata": {},
   "source": [
    "# Assignments"
   ]
  },
  {
   "cell_type": "markdown",
   "metadata": {},
   "source": [
    "# How often has each item been `ordered`?"
   ]
  },
  {
   "cell_type": "code",
   "execution_count": 5,
   "metadata": {
    "execution": {
     "iopub.execute_input": "2022-08-22T09:45:03.459694Z",
     "iopub.status.busy": "2022-08-22T09:45:03.459333Z",
     "iopub.status.idle": "2022-08-22T09:45:03.463385Z",
     "shell.execute_reply": "2022-08-22T09:45:03.462624Z"
    }
   },
   "outputs": [],
   "source": [
    "ordered = ['coffee', 'tea', 'coffee', 'orange juice']"
   ]
  },
  {
   "cell_type": "code",
   "execution_count": 6,
   "metadata": {
    "deletable": false,
    "editable": true,
    "execution": {
     "iopub.execute_input": "2022-08-22T09:45:03.467085Z",
     "iopub.status.busy": "2022-08-22T09:45:03.466796Z",
     "iopub.status.idle": "2022-08-22T09:45:03.471575Z",
     "shell.execute_reply": "2022-08-22T09:45:03.470320Z"
    }
   },
   "outputs": [],
   "source": [
    "%%assignment\n",
    "### ENTER YOUR CODE HERE"
   ]
  },
  {
   "cell_type": "code",
   "execution_count": 7,
   "metadata": {
    "deletable": false,
    "editable": false,
    "execution": {
     "iopub.execute_input": "2022-08-22T09:45:03.475382Z",
     "iopub.status.busy": "2022-08-22T09:45:03.475043Z",
     "iopub.status.idle": "2022-08-22T09:45:03.480993Z",
     "shell.execute_reply": "2022-08-22T09:45:03.480269Z"
    }
   },
   "outputs": [
    {
     "data": {
      "text/html": [
       "<table><tr style=\"background: red; color: white\"><td style=\"text-align:left\">The result should be Counter({'coffee': 3}) for testcase ordered = ['coffee', 'coffee', 'coffee'] </td></tr></table>"
      ],
      "text/plain": [
       "<IPython.core.display.HTML object>"
      ]
     },
     "metadata": {
      "text/html": {
       "username": "ruud"
      }
     },
     "output_type": "display_data"
    }
   ],
   "source": [
    "%%check\n",
    "ordered = ['coffee', 'coffee', 'coffee']\n",
    "result == Counter({'coffee': 3})\n",
    "ordered = ['coffee', 'tea', 'coffee', 'orange juice']\n",
    "result == Counter({'coffee': 2, 'tea': 1, 'orange juice': 1})"
   ]
  },
  {
   "cell_type": "markdown",
   "metadata": {},
   "source": [
    "# How many `students` live in each city?"
   ]
  },
  {
   "cell_type": "code",
   "execution_count": 8,
   "metadata": {
    "execution": {
     "iopub.execute_input": "2022-08-22T09:45:03.484704Z",
     "iopub.status.busy": "2022-08-22T09:45:03.484373Z",
     "iopub.status.idle": "2022-08-22T09:45:03.488335Z",
     "shell.execute_reply": "2022-08-22T09:45:03.487611Z"
    }
   },
   "outputs": [],
   "source": [
    "students = [('Lucy', 'Delft'), ('James', 'Rotterdam'), ('Mary', 'Delft')]"
   ]
  },
  {
   "cell_type": "code",
   "execution_count": 9,
   "metadata": {
    "deletable": false,
    "editable": true,
    "execution": {
     "iopub.execute_input": "2022-08-22T09:45:03.490587Z",
     "iopub.status.busy": "2022-08-22T09:45:03.490289Z",
     "iopub.status.idle": "2022-08-22T09:45:03.494576Z",
     "shell.execute_reply": "2022-08-22T09:45:03.493806Z"
    }
   },
   "outputs": [],
   "source": [
    "%%assignment\n",
    "### ENTER YOUR CODE HERE"
   ]
  },
  {
   "cell_type": "code",
   "execution_count": 10,
   "metadata": {
    "deletable": false,
    "editable": false,
    "execution": {
     "iopub.execute_input": "2022-08-22T09:45:03.529269Z",
     "iopub.status.busy": "2022-08-22T09:45:03.528682Z",
     "iopub.status.idle": "2022-08-22T09:45:03.538003Z",
     "shell.execute_reply": "2022-08-22T09:45:03.536983Z"
    }
   },
   "outputs": [
    {
     "data": {
      "text/html": [
       "<table><tr style=\"background: red; color: white\"><td style=\"text-align:left\">The result should be Counter({'Delft': 1}) for testcase students = [('Lucy', 'Delft')] </td></tr></table>"
      ],
      "text/plain": [
       "<IPython.core.display.HTML object>"
      ]
     },
     "metadata": {
      "text/html": {
       "username": "ruud"
      }
     },
     "output_type": "display_data"
    }
   ],
   "source": [
    "%%check\n",
    "students = [('Lucy', 'Delft')]\n",
    "result == Counter({'Delft': 1})\n",
    "students = [('Lucy', 'Delft'), ('James', 'Rotterdam'), ('Mary', 'Delft')]\n",
    "result == Counter({'Delft': 2, 'Rotterdam': 1})"
   ]
  },
  {
   "cell_type": "markdown",
   "metadata": {},
   "source": [
    "# Count how often every unique letter appears in `word`"
   ]
  },
  {
   "cell_type": "code",
   "execution_count": 11,
   "metadata": {
    "execution": {
     "iopub.execute_input": "2022-08-22T09:45:03.543165Z",
     "iopub.status.busy": "2022-08-22T09:45:03.542672Z",
     "iopub.status.idle": "2022-08-22T09:45:03.548035Z",
     "shell.execute_reply": "2022-08-22T09:45:03.546640Z"
    }
   },
   "outputs": [],
   "source": [
    "word = 'hippopotamus'"
   ]
  },
  {
   "cell_type": "code",
   "execution_count": 12,
   "metadata": {
    "deletable": false,
    "editable": true,
    "execution": {
     "iopub.execute_input": "2022-08-22T09:45:03.551921Z",
     "iopub.status.busy": "2022-08-22T09:45:03.551459Z",
     "iopub.status.idle": "2022-08-22T09:45:03.556564Z",
     "shell.execute_reply": "2022-08-22T09:45:03.555630Z"
    }
   },
   "outputs": [],
   "source": [
    "%%assignment\n",
    "### ENTER YOUR CODE HERE"
   ]
  },
  {
   "cell_type": "code",
   "execution_count": 13,
   "metadata": {
    "deletable": false,
    "editable": false,
    "execution": {
     "iopub.execute_input": "2022-08-22T09:45:03.561130Z",
     "iopub.status.busy": "2022-08-22T09:45:03.560720Z",
     "iopub.status.idle": "2022-08-22T09:45:03.568178Z",
     "shell.execute_reply": "2022-08-22T09:45:03.566985Z"
    }
   },
   "outputs": [
    {
     "data": {
      "text/html": [
       "<table><tr style=\"background: red; color: white\"><td style=\"text-align:left\">The result should be Counter({'b':1, 'e':2}) for testcase word = 'bee' </td></tr></table>"
      ],
      "text/plain": [
       "<IPython.core.display.HTML object>"
      ]
     },
     "metadata": {
      "text/html": {
       "username": "ruud"
      }
     },
     "output_type": "display_data"
    }
   ],
   "source": [
    "%%check\n",
    "word = 'bee'\n",
    "result == Counter({'b':1, 'e':2})\n",
    "word = 'hippopotamus'\n",
    "result == Counter({'h': 1, 'i': 1, 'p': 3,'o': 2,'t': 1,'a': 1,'m': 1,'u': 1,'s': 1})"
   ]
  },
  {
   "cell_type": "markdown",
   "metadata": {},
   "source": [
    "# How often does the most frequently appearing letter in `word` appear?\n",
    "\n",
    "Hint: a Counter is a Dictionary, so anthing you can do with a dictionary you can do with a counter. Therefore, you can simply take the highest value."
   ]
  },
  {
   "cell_type": "code",
   "execution_count": 14,
   "metadata": {
    "execution": {
     "iopub.execute_input": "2022-08-22T09:45:03.572293Z",
     "iopub.status.busy": "2022-08-22T09:45:03.571914Z",
     "iopub.status.idle": "2022-08-22T09:45:03.576051Z",
     "shell.execute_reply": "2022-08-22T09:45:03.575236Z"
    }
   },
   "outputs": [],
   "source": [
    "word = 'hippopotamus'"
   ]
  },
  {
   "cell_type": "code",
   "execution_count": 15,
   "metadata": {
    "deletable": false,
    "editable": true,
    "execution": {
     "iopub.execute_input": "2022-08-22T09:45:03.579434Z",
     "iopub.status.busy": "2022-08-22T09:45:03.579060Z",
     "iopub.status.idle": "2022-08-22T09:45:03.583761Z",
     "shell.execute_reply": "2022-08-22T09:45:03.582719Z"
    }
   },
   "outputs": [],
   "source": [
    "%%assignment\n",
    "### ENTER YOUR CODE HERE"
   ]
  },
  {
   "cell_type": "code",
   "execution_count": 16,
   "metadata": {
    "deletable": false,
    "editable": false,
    "execution": {
     "iopub.execute_input": "2022-08-22T09:45:03.587011Z",
     "iopub.status.busy": "2022-08-22T09:45:03.586659Z",
     "iopub.status.idle": "2022-08-22T09:45:03.592595Z",
     "shell.execute_reply": "2022-08-22T09:45:03.591637Z"
    }
   },
   "outputs": [
    {
     "data": {
      "text/html": [
       "<table><tr style=\"background: red; color: white\"><td style=\"text-align:left\">The result should be 2 for testcase word = 'bee' </td></tr></table>"
      ],
      "text/plain": [
       "<IPython.core.display.HTML object>"
      ]
     },
     "metadata": {
      "text/html": {
       "username": "ruud"
      }
     },
     "output_type": "display_data"
    }
   ],
   "source": [
    "%%check\n",
    "word = 'bee'\n",
    "result == 2\n",
    "word = 'hippopotamus'\n",
    "result == 3"
   ]
  },
  {
   "cell_type": "markdown",
   "metadata": {},
   "source": [
    "# What is the most frequently appearing letter in `word`?\n",
    "\n",
    "Note: there could be a tie for first place, so you will have to return a collection (e.g. a list) of letters.\n",
    "\n",
    "With the tools you have learned now, it may be easiest to first assign the Counter of the word to a variable. Then assign the highest count to another variable, and finally create a List comprehension  to list only the chacters whose count equals the highest count."
   ]
  },
  {
   "cell_type": "code",
   "execution_count": 17,
   "metadata": {
    "execution": {
     "iopub.execute_input": "2022-08-22T09:45:03.595965Z",
     "iopub.status.busy": "2022-08-22T09:45:03.595609Z",
     "iopub.status.idle": "2022-08-22T09:45:03.599795Z",
     "shell.execute_reply": "2022-08-22T09:45:03.598747Z"
    }
   },
   "outputs": [],
   "source": [
    "word = 'hippopotamus'"
   ]
  },
  {
   "cell_type": "code",
   "execution_count": 18,
   "metadata": {
    "deletable": false,
    "editable": true,
    "execution": {
     "iopub.execute_input": "2022-08-22T09:45:03.602834Z",
     "iopub.status.busy": "2022-08-22T09:45:03.602593Z",
     "iopub.status.idle": "2022-08-22T09:45:03.607078Z",
     "shell.execute_reply": "2022-08-22T09:45:03.606088Z"
    }
   },
   "outputs": [],
   "source": [
    "%%assignment\n",
    "### ENTER YOUR CODE HERE"
   ]
  },
  {
   "cell_type": "code",
   "execution_count": 19,
   "metadata": {
    "deletable": false,
    "editable": false,
    "execution": {
     "iopub.execute_input": "2022-08-22T09:45:03.611538Z",
     "iopub.status.busy": "2022-08-22T09:45:03.611128Z",
     "iopub.status.idle": "2022-08-22T09:45:03.985500Z",
     "shell.execute_reply": "2022-08-22T09:45:03.984212Z"
    }
   },
   "outputs": [
    {
     "ename": "TypeError",
     "evalue": "'NoneType' object is not iterable",
     "output_type": "error",
     "traceback": [
      "\u001b[0;31m---------------------------------------------------------------------------\u001b[0m",
      "\u001b[0;31mTypeError\u001b[0m                                 Traceback (most recent call last)",
      "Input \u001b[0;32mIn [19]\u001b[0m, in \u001b[0;36m<cell line: 1>\u001b[0;34m()\u001b[0m\n\u001b[0;32m----> 1\u001b[0m \u001b[43mget_ipython\u001b[49m\u001b[43m(\u001b[49m\u001b[43m)\u001b[49m\u001b[38;5;241;43m.\u001b[39;49m\u001b[43mrun_cell_magic\u001b[49m\u001b[43m(\u001b[49m\u001b[38;5;124;43m'\u001b[39;49m\u001b[38;5;124;43mcheck\u001b[39;49m\u001b[38;5;124;43m'\u001b[39;49m\u001b[43m,\u001b[49m\u001b[43m \u001b[49m\u001b[38;5;124;43m'\u001b[39;49m\u001b[38;5;124;43m'\u001b[39;49m\u001b[43m,\u001b[49m\u001b[43m \u001b[49m\u001b[38;5;124;43m\"\u001b[39;49m\u001b[38;5;124;43mword = \u001b[39;49m\u001b[38;5;124;43m'\u001b[39;49m\u001b[38;5;124;43mbeebo\u001b[39;49m\u001b[38;5;124;43m'\u001b[39;49m\u001b[38;5;130;43;01m\\n\u001b[39;49;00m\u001b[38;5;124;43mset(result) == \u001b[39;49m\u001b[38;5;124;43m{\u001b[39;49m\u001b[38;5;124;43m'\u001b[39;49m\u001b[38;5;124;43mb\u001b[39;49m\u001b[38;5;124;43m'\u001b[39;49m\u001b[38;5;124;43m, \u001b[39;49m\u001b[38;5;124;43m'\u001b[39;49m\u001b[38;5;124;43me\u001b[39;49m\u001b[38;5;124;43m'\u001b[39;49m\u001b[38;5;124;43m}\u001b[39;49m\u001b[38;5;130;43;01m\\n\u001b[39;49;00m\u001b[38;5;124;43mword = \u001b[39;49m\u001b[38;5;124;43m'\u001b[39;49m\u001b[38;5;124;43mhippopotamus\u001b[39;49m\u001b[38;5;124;43m'\u001b[39;49m\u001b[38;5;130;43;01m\\n\u001b[39;49;00m\u001b[38;5;124;43mset(result) == \u001b[39;49m\u001b[38;5;124;43m{\u001b[39;49m\u001b[38;5;124;43m'\u001b[39;49m\u001b[38;5;124;43mp\u001b[39;49m\u001b[38;5;124;43m'\u001b[39;49m\u001b[38;5;124;43m}\u001b[39;49m\u001b[38;5;130;43;01m\\n\u001b[39;49;00m\u001b[38;5;124;43m\"\u001b[39;49m\u001b[43m)\u001b[49m\n",
      "File \u001b[0;32m/opt/jupyterhub/anaconda/lib/python3.9/site-packages/IPython/core/interactiveshell.py:2358\u001b[0m, in \u001b[0;36mInteractiveShell.run_cell_magic\u001b[0;34m(self, magic_name, line, cell)\u001b[0m\n\u001b[1;32m   2356\u001b[0m \u001b[38;5;28;01mwith\u001b[39;00m \u001b[38;5;28mself\u001b[39m\u001b[38;5;241m.\u001b[39mbuiltin_trap:\n\u001b[1;32m   2357\u001b[0m     args \u001b[38;5;241m=\u001b[39m (magic_arg_s, cell)\n\u001b[0;32m-> 2358\u001b[0m     result \u001b[38;5;241m=\u001b[39m \u001b[43mfn\u001b[49m\u001b[43m(\u001b[49m\u001b[38;5;241;43m*\u001b[39;49m\u001b[43margs\u001b[49m\u001b[43m,\u001b[49m\u001b[43m \u001b[49m\u001b[38;5;241;43m*\u001b[39;49m\u001b[38;5;241;43m*\u001b[39;49m\u001b[43mkwargs\u001b[49m\u001b[43m)\u001b[49m\n\u001b[1;32m   2359\u001b[0m \u001b[38;5;28;01mreturn\u001b[39;00m result\n",
      "File \u001b[0;32m<string>:199\u001b[0m, in \u001b[0;36mcheck\u001b[0;34m(self, nr, checks)\u001b[0m\n",
      "File \u001b[0;32m<string>:231\u001b[0m, in \u001b[0;36mcheck2\u001b[0;34m(self)\u001b[0m\n",
      "File \u001b[0;32m<string>:150\u001b[0m, in \u001b[0;36meval\u001b[0;34m(self, script, prelude)\u001b[0m\n",
      "File \u001b[0;32m/opt/jupyterhub/anaconda/lib/python3.9/site-packages/IPython/core/interactiveshell.py:2684\u001b[0m, in \u001b[0;36mInteractiveShell.ex\u001b[0;34m(self, cmd)\u001b[0m\n\u001b[1;32m   2682\u001b[0m \u001b[38;5;124;03m\"\"\"Execute a normal python statement in user namespace.\"\"\"\u001b[39;00m\n\u001b[1;32m   2683\u001b[0m \u001b[38;5;28;01mwith\u001b[39;00m \u001b[38;5;28mself\u001b[39m\u001b[38;5;241m.\u001b[39mbuiltin_trap:\n\u001b[0;32m-> 2684\u001b[0m     \u001b[43mexec\u001b[49m\u001b[43m(\u001b[49m\u001b[43mcmd\u001b[49m\u001b[43m,\u001b[49m\u001b[43m \u001b[49m\u001b[38;5;28;43mself\u001b[39;49m\u001b[38;5;241;43m.\u001b[39;49m\u001b[43muser_global_ns\u001b[49m\u001b[43m,\u001b[49m\u001b[43m \u001b[49m\u001b[38;5;28;43mself\u001b[39;49m\u001b[38;5;241;43m.\u001b[39;49m\u001b[43muser_ns\u001b[49m\u001b[43m)\u001b[49m\n",
      "File \u001b[0;32m<string>:1\u001b[0m, in \u001b[0;36m<module>\u001b[0;34m\u001b[0m\n",
      "\u001b[0;31mTypeError\u001b[0m: 'NoneType' object is not iterable"
     ]
    }
   ],
   "source": [
    "%%check\n",
    "word = 'beebo'\n",
    "set(result) == {'b', 'e'}\n",
    "word = 'hippopotamus'\n",
    "set(result) == {'p'}"
   ]
  },
  {
   "cell_type": "markdown",
   "metadata": {},
   "source": [
    "# How many OTHER `drinks` have got the same price as 'coffee'?\n",
    "\n",
    "Note: You can use a counter, to count how often every price appears. But since coffee is also in there, and the assignment is how many OTHER drinks, you should lower the result by 1."
   ]
  },
  {
   "cell_type": "code",
   "execution_count": 20,
   "metadata": {
    "execution": {
     "iopub.execute_input": "2022-08-22T09:45:03.990230Z",
     "iopub.status.busy": "2022-08-22T09:45:03.989943Z",
     "iopub.status.idle": "2022-08-22T09:45:03.993639Z",
     "shell.execute_reply": "2022-08-22T09:45:03.992870Z"
    }
   },
   "outputs": [],
   "source": [
    "drinks = {'coffee':2.00, 'tea':1.50, 'orange juice':2.00}"
   ]
  },
  {
   "cell_type": "code",
   "execution_count": 21,
   "metadata": {
    "deletable": false,
    "editable": true,
    "execution": {
     "iopub.execute_input": "2022-08-22T09:45:03.997705Z",
     "iopub.status.busy": "2022-08-22T09:45:03.997470Z",
     "iopub.status.idle": "2022-08-22T09:45:04.000944Z",
     "shell.execute_reply": "2022-08-22T09:45:04.000306Z"
    }
   },
   "outputs": [],
   "source": [
    "%%assignment\n",
    "### ENTER YOUR CODE HERE"
   ]
  },
  {
   "cell_type": "code",
   "execution_count": 22,
   "metadata": {
    "deletable": false,
    "editable": false,
    "execution": {
     "iopub.execute_input": "2022-08-22T09:45:04.003820Z",
     "iopub.status.busy": "2022-08-22T09:45:04.003542Z",
     "iopub.status.idle": "2022-08-22T09:45:04.008960Z",
     "shell.execute_reply": "2022-08-22T09:45:04.008270Z"
    }
   },
   "outputs": [
    {
     "data": {
      "text/html": [
       "<table><tr style=\"background: red; color: white\"><td style=\"text-align:left\">The result should be 2 for testcase drinks = {'coffee':3.00, 'tea':3.00, 'orange juice':3.00} </td></tr></table>"
      ],
      "text/plain": [
       "<IPython.core.display.HTML object>"
      ]
     },
     "metadata": {
      "text/html": {
       "username": "ruud"
      }
     },
     "output_type": "display_data"
    }
   ],
   "source": [
    "%%check\n",
    "drinks = {'coffee':3.00, 'tea':3.00, 'orange juice':3.00}\n",
    "result == 2\n",
    "drinks = {'coffee':2.00, 'tea':1.50, 'orange juice':2.00}\n",
    "result == 1"
   ]
  },
  {
   "cell_type": "markdown",
   "metadata": {},
   "source": [
    "# Count how often the different suits appear in `hand`"
   ]
  },
  {
   "cell_type": "code",
   "execution_count": 23,
   "metadata": {
    "execution": {
     "iopub.execute_input": "2022-08-22T09:45:04.012715Z",
     "iopub.status.busy": "2022-08-22T09:45:04.012390Z",
     "iopub.status.idle": "2022-08-22T09:45:04.016311Z",
     "shell.execute_reply": "2022-08-22T09:45:04.015608Z"
    }
   },
   "outputs": [],
   "source": [
    "hand = ['10♥', '5♣', '9♣', '10♦', 'Q♥']"
   ]
  },
  {
   "cell_type": "code",
   "execution_count": 24,
   "metadata": {
    "deletable": false,
    "editable": true,
    "execution": {
     "iopub.execute_input": "2022-08-22T09:45:04.019416Z",
     "iopub.status.busy": "2022-08-22T09:45:04.019152Z",
     "iopub.status.idle": "2022-08-22T09:45:04.022743Z",
     "shell.execute_reply": "2022-08-22T09:45:04.022052Z"
    }
   },
   "outputs": [],
   "source": [
    "%%assignment\n",
    "### ENTER YOUR CODE HERE"
   ]
  },
  {
   "cell_type": "code",
   "execution_count": 25,
   "metadata": {
    "deletable": false,
    "editable": false,
    "execution": {
     "iopub.execute_input": "2022-08-22T09:45:04.025679Z",
     "iopub.status.busy": "2022-08-22T09:45:04.025346Z",
     "iopub.status.idle": "2022-08-22T09:45:04.031684Z",
     "shell.execute_reply": "2022-08-22T09:45:04.030983Z"
    }
   },
   "outputs": [
    {
     "data": {
      "text/html": [
       "<table><tr style=\"background: red; color: white\"><td style=\"text-align:left\">The result should be Counter({'♠': 5}) for testcase hand = ['10♠', '5♠', '9♠', '10♠', 'Q♠'] </td></tr></table>"
      ],
      "text/plain": [
       "<IPython.core.display.HTML object>"
      ]
     },
     "metadata": {
      "text/html": {
       "username": "ruud"
      }
     },
     "output_type": "display_data"
    }
   ],
   "source": [
    "%%check\n",
    "hand = ['10♠', '5♠', '9♠', '10♠', 'Q♠']\n",
    "result == Counter({'♠': 5})\n",
    "hand = ['10♥', '5♣', '9♣', '10♦', 'Q♥']\n",
    "result == Counter({'♥': 2, '♣': 2, '♦': 1})"
   ]
  },
  {
   "cell_type": "markdown",
   "metadata": {},
   "source": [
    "# How many card are there of the most frequent suit in `hand`"
   ]
  },
  {
   "cell_type": "code",
   "execution_count": 26,
   "metadata": {
    "execution": {
     "iopub.execute_input": "2022-08-22T09:45:04.035547Z",
     "iopub.status.busy": "2022-08-22T09:45:04.035211Z",
     "iopub.status.idle": "2022-08-22T09:45:04.039391Z",
     "shell.execute_reply": "2022-08-22T09:45:04.038383Z"
    }
   },
   "outputs": [],
   "source": [
    "hand = ['10♥', '5♣', '9♣', '10♦', 'Q♥']"
   ]
  },
  {
   "cell_type": "code",
   "execution_count": 27,
   "metadata": {
    "deletable": false,
    "editable": true,
    "execution": {
     "iopub.execute_input": "2022-08-22T09:45:04.042646Z",
     "iopub.status.busy": "2022-08-22T09:45:04.042357Z",
     "iopub.status.idle": "2022-08-22T09:45:04.046518Z",
     "shell.execute_reply": "2022-08-22T09:45:04.045809Z"
    }
   },
   "outputs": [],
   "source": [
    "%%assignment\n",
    "### ENTER YOUR CODE HERE"
   ]
  },
  {
   "cell_type": "code",
   "execution_count": 28,
   "metadata": {
    "deletable": false,
    "editable": false,
    "execution": {
     "iopub.execute_input": "2022-08-22T09:45:04.049597Z",
     "iopub.status.busy": "2022-08-22T09:45:04.049315Z",
     "iopub.status.idle": "2022-08-22T09:45:04.054678Z",
     "shell.execute_reply": "2022-08-22T09:45:04.053994Z"
    }
   },
   "outputs": [
    {
     "data": {
      "text/html": [
       "<table><tr style=\"background: red; color: white\"><td style=\"text-align:left\">The result should be 5 for testcase hand = ['10♠', '5♠', '9♠', '10♠', 'Q♠'] </td></tr></table>"
      ],
      "text/plain": [
       "<IPython.core.display.HTML object>"
      ]
     },
     "metadata": {
      "text/html": {
       "username": "ruud"
      }
     },
     "output_type": "display_data"
    }
   ],
   "source": [
    "%%check\n",
    "hand = ['10♠', '5♠', '9♠', '10♠', 'Q♠']\n",
    "result == 5\n",
    "hand = ['10♥', '5♣', '9♣', '10♦', 'Q♥']\n",
    "result == 2"
   ]
  }
 ],
 "metadata": {
  "celltoolbar": "Create Assignment",
  "kernelspec": {
   "display_name": "prog",
   "language": "python",
   "name": "prog"
  },
  "language_info": {
   "codemirror_mode": {
    "name": "ipython",
    "version": 3
   },
   "file_extension": ".py",
   "mimetype": "text/x-python",
   "name": "python",
   "nbconvert_exporter": "python",
   "pygments_lexer": "ipython3",
   "version": "3.9.12"
  }
 },
 "nbformat": 4,
 "nbformat_minor": 4
}
