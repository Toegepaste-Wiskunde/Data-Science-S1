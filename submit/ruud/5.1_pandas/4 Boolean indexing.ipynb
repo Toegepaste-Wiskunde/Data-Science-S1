{
 "cells": [
  {
   "cell_type": "markdown",
   "metadata": {},
   "source": [
    "## Boolean indexing"
   ]
  },
  {
   "cell_type": "markdown",
   "metadata": {},
   "source": [
    "Boolean indexing selects rows by applying a \"mask\" to the DataFrame. The mask consists of `True` or `False` values and should match the length of the DataFrame it's applied to. Applying the mask only selects the rows that have a `True` value in the mask. \n",
    "\n",
    "This is useful for selecting only the rows that match a certain condition:"
   ]
  },
  {
   "cell_type": "code",
   "execution_count": 1,
   "metadata": {
    "execution": {
     "iopub.execute_input": "2022-08-22T14:55:03.165892Z",
     "iopub.status.busy": "2022-08-22T14:55:03.165376Z",
     "iopub.status.idle": "2022-08-22T14:55:03.182616Z",
     "shell.execute_reply": "2022-08-22T14:55:03.181846Z"
    }
   },
   "outputs": [
    {
     "name": "stdout",
     "output_type": "stream",
     "text": [
      "        A   B\n",
      "obj1  1.1  12\n",
      "obj2  2.1  22\n",
      "obj3  3.1  32\n"
     ]
    }
   ],
   "source": [
    "example_df = pd.DataFrame({\"A\":[1.1,2.1,3.1],\"B\":[12,22,32]},\n",
    "                    index=['obj1','obj2','obj3']) #example DataFrame\n",
    "print(example_df)"
   ]
  },
  {
   "cell_type": "code",
   "execution_count": 2,
   "metadata": {
    "execution": {
     "iopub.execute_input": "2022-08-22T14:55:03.187808Z",
     "iopub.status.busy": "2022-08-22T14:55:03.187488Z",
     "iopub.status.idle": "2022-08-22T14:55:03.192744Z",
     "shell.execute_reply": "2022-08-22T14:55:03.192013Z"
    }
   },
   "outputs": [
    {
     "name": "stdout",
     "output_type": "stream",
     "text": [
      "obj1    False\n",
      "obj2     True\n",
      "obj3     True\n",
      "Name: A, dtype: bool\n"
     ]
    }
   ],
   "source": [
    "mask = example_df['A'] > 2  # determine with rows have a larger value than 2 in column A\n",
    "print(mask)"
   ]
  },
  {
   "cell_type": "code",
   "execution_count": 3,
   "metadata": {
    "execution": {
     "iopub.execute_input": "2022-08-22T14:55:03.195985Z",
     "iopub.status.busy": "2022-08-22T14:55:03.195714Z",
     "iopub.status.idle": "2022-08-22T14:55:03.207173Z",
     "shell.execute_reply": "2022-08-22T14:55:03.206503Z"
    }
   },
   "outputs": [
    {
     "data": {
      "text/html": [
       "<div>\n",
       "<style scoped>\n",
       "    .dataframe tbody tr th:only-of-type {\n",
       "        vertical-align: middle;\n",
       "    }\n",
       "\n",
       "    .dataframe tbody tr th {\n",
       "        vertical-align: top;\n",
       "    }\n",
       "\n",
       "    .dataframe thead th {\n",
       "        text-align: right;\n",
       "    }\n",
       "</style>\n",
       "<table border=\"1\" class=\"dataframe\">\n",
       "  <thead>\n",
       "    <tr style=\"text-align: right;\">\n",
       "      <th></th>\n",
       "      <th>A</th>\n",
       "      <th>B</th>\n",
       "    </tr>\n",
       "  </thead>\n",
       "  <tbody>\n",
       "    <tr>\n",
       "      <th>obj2</th>\n",
       "      <td>2.1</td>\n",
       "      <td>22</td>\n",
       "    </tr>\n",
       "    <tr>\n",
       "      <th>obj3</th>\n",
       "      <td>3.1</td>\n",
       "      <td>32</td>\n",
       "    </tr>\n",
       "  </tbody>\n",
       "</table>\n",
       "</div>"
      ],
      "text/plain": [
       "        A   B\n",
       "obj2  2.1  22\n",
       "obj3  3.1  32"
      ]
     },
     "execution_count": 3,
     "metadata": {},
     "output_type": "execute_result"
    }
   ],
   "source": [
    "example_df[mask] # select the rows that have True in the mask"
   ]
  },
  {
   "cell_type": "markdown",
   "metadata": {},
   "source": [
    "You can of course combine conditions as you learned in the first week with Boolean operators:"
   ]
  },
  {
   "cell_type": "code",
   "execution_count": 4,
   "metadata": {
    "execution": {
     "iopub.execute_input": "2022-08-22T14:55:03.210532Z",
     "iopub.status.busy": "2022-08-22T14:55:03.210249Z",
     "iopub.status.idle": "2022-08-22T14:55:03.215184Z",
     "shell.execute_reply": "2022-08-22T14:55:03.214494Z"
    }
   },
   "outputs": [
    {
     "name": "stdout",
     "output_type": "stream",
     "text": [
      "obj1    False\n",
      "obj2     True\n",
      "obj3    False\n",
      "dtype: bool\n"
     ]
    }
   ],
   "source": [
    "mask = (example_df['A'] > 2) & (example_df['B'] < 30)\n",
    "print(mask)"
   ]
  },
  {
   "cell_type": "code",
   "execution_count": 5,
   "metadata": {
    "execution": {
     "iopub.execute_input": "2022-08-22T14:55:03.218400Z",
     "iopub.status.busy": "2022-08-22T14:55:03.218150Z",
     "iopub.status.idle": "2022-08-22T14:55:03.223367Z",
     "shell.execute_reply": "2022-08-22T14:55:03.222645Z"
    }
   },
   "outputs": [
    {
     "name": "stdout",
     "output_type": "stream",
     "text": [
      "        A   B\n",
      "obj2  2.1  22\n"
     ]
    }
   ],
   "source": [
    "print(example_df[mask])"
   ]
  },
  {
   "cell_type": "markdown",
   "metadata": {},
   "source": [
    "By using the negate symbol `~`, you can flip `True` and `False` values:"
   ]
  },
  {
   "cell_type": "code",
   "execution_count": 6,
   "metadata": {
    "execution": {
     "iopub.execute_input": "2022-08-22T14:55:03.225912Z",
     "iopub.status.busy": "2022-08-22T14:55:03.225615Z",
     "iopub.status.idle": "2022-08-22T14:55:03.230246Z",
     "shell.execute_reply": "2022-08-22T14:55:03.229566Z"
    }
   },
   "outputs": [
    {
     "name": "stdout",
     "output_type": "stream",
     "text": [
      "obj1     True\n",
      "obj2    False\n",
      "obj3     True\n",
      "dtype: bool\n"
     ]
    }
   ],
   "source": [
    "print(~mask)"
   ]
  },
  {
   "cell_type": "code",
   "execution_count": 7,
   "metadata": {
    "execution": {
     "iopub.execute_input": "2022-08-22T14:55:03.232702Z",
     "iopub.status.busy": "2022-08-22T14:55:03.232477Z",
     "iopub.status.idle": "2022-08-22T14:55:03.237465Z",
     "shell.execute_reply": "2022-08-22T14:55:03.236782Z"
    }
   },
   "outputs": [
    {
     "name": "stdout",
     "output_type": "stream",
     "text": [
      "        A   B\n",
      "obj1  1.1  12\n",
      "obj3  3.1  32\n"
     ]
    }
   ],
   "source": [
    "print(example_df[~mask])"
   ]
  },
  {
   "cell_type": "markdown",
   "metadata": {},
   "source": [
    "Let's rehearse the Boolean indexing:\n",
    "\n",
    "#### Which of the below statements selects both the first and the third row?"
   ]
  },
  {
   "cell_type": "code",
   "execution_count": 8,
   "metadata": {
    "execution": {
     "iopub.execute_input": "2022-08-22T14:55:03.256102Z",
     "iopub.status.busy": "2022-08-22T14:55:03.255777Z",
     "iopub.status.idle": "2022-08-22T14:55:03.269267Z",
     "shell.execute_reply": "2022-08-22T14:55:03.268303Z"
    }
   },
   "outputs": [
    {
     "data": {
      "application/vnd.jupyter.widget-view+json": {
       "model_id": "39457686513941c4b99f4a41e53a0527",
       "version_major": 2,
       "version_minor": 0
      },
      "text/plain": [
       "RadioButtons(layout=Layout(width='max-content'), options=(\"mask = example_df['A'] >= 3.1\", \"mask = example_df[…"
      ]
     },
     "metadata": {},
     "output_type": "display_data"
    }
   ],
   "source": [
    "%%mc\n",
    "mask = example_df['A'] >= 3.1\n",
    "mask = example_df['B'] < 20\n",
    "mask = (example_df['A'] >= 3.1) & (example_df['B'] < 20)\n",
    "mask = (example_df['A'] >= 3.1) | (example_df['B'] < 20)"
   ]
  },
  {
   "cell_type": "code",
   "execution_count": 9,
   "metadata": {
    "deletable": false,
    "editable": false,
    "execution": {
     "iopub.execute_input": "2022-08-22T14:55:03.272742Z",
     "iopub.status.busy": "2022-08-22T14:55:03.272457Z",
     "iopub.status.idle": "2022-08-22T14:55:03.277645Z",
     "shell.execute_reply": "2022-08-22T14:55:03.276990Z"
    }
   },
   "outputs": [
    {
     "data": {
      "text/html": [
       "<table><tr style=\"background: red; color: white\"><td style=\"text-align:left\">That is the wrong answer</td></tr></table>"
      ],
      "text/plain": [
       "<IPython.core.display.HTML object>"
      ]
     },
     "metadata": {
      "text/html": {
       "username": "ruud"
      }
     },
     "output_type": "display_data"
    }
   ],
   "source": [
    "%%check \n",
    "hashresult == 292691022 "
   ]
  },
  {
   "cell_type": "markdown",
   "metadata": {},
   "source": [
    "#### Create a mask that determines the rows where B > 20 and assign it to `mask`. Then use it to select these rows."
   ]
  },
  {
   "cell_type": "code",
   "execution_count": 10,
   "metadata": {
    "deletable": false,
    "editable": true,
    "execution": {
     "iopub.execute_input": "2022-08-22T14:55:03.280548Z",
     "iopub.status.busy": "2022-08-22T14:55:03.280301Z",
     "iopub.status.idle": "2022-08-22T14:55:03.283824Z",
     "shell.execute_reply": "2022-08-22T14:55:03.283146Z"
    }
   },
   "outputs": [],
   "source": [
    "%%assignment\n",
    "### ENTER YOUR CODE HERE\n"
   ]
  },
  {
   "cell_type": "code",
   "execution_count": 11,
   "metadata": {
    "deletable": false,
    "editable": false,
    "execution": {
     "iopub.execute_input": "2022-08-22T14:55:03.286397Z",
     "iopub.status.busy": "2022-08-22T14:55:03.286107Z",
     "iopub.status.idle": "2022-08-22T14:55:03.291434Z",
     "shell.execute_reply": "2022-08-22T14:55:03.290802Z"
    }
   },
   "outputs": [
    {
     "data": {
      "text/html": [
       "<table><tr style=\"background: red; color: white\"><td style=\"text-align:left\">The answer is wrong</td></tr></table>"
      ],
      "text/plain": [
       "<IPython.core.display.HTML object>"
      ]
     },
     "metadata": {
      "text/html": {
       "username": "ruud"
      }
     },
     "output_type": "display_data"
    }
   ],
   "source": [
    "%%check\n",
    "hashresult == 3593389503\n",
    "mask.dtype == 'bool'\n",
    "3.1 in example_df[mask].values "
   ]
  }
 ],
 "metadata": {
  "kernelspec": {
   "display_name": "Python 3.6.9 64-bit",
   "language": "python",
   "name": "python3"
  },
  "language_info": {
   "codemirror_mode": {
    "name": "ipython",
    "version": 3
   },
   "file_extension": ".py",
   "mimetype": "text/x-python",
   "name": "python",
   "nbconvert_exporter": "python",
   "pygments_lexer": "ipython3",
   "version": "3.9.12"
  },
  "vscode": {
   "interpreter": {
    "hash": "31f2aee4e71d21fbe5cf8b01ff0e069b9275f58929596ceb00d14d90e3e16cd6"
   }
  },
  "widgets": {
   "application/vnd.jupyter.widget-state+json": {
    "state": {
     "39457686513941c4b99f4a41e53a0527": {
      "model_module": "@jupyter-widgets/controls",
      "model_module_version": "1.5.0",
      "model_name": "RadioButtonsModel",
      "state": {
       "_dom_classes": [],
       "_model_module": "@jupyter-widgets/controls",
       "_model_module_version": "1.5.0",
       "_model_name": "RadioButtonsModel",
       "_options_labels": [
        "mask = example_df['A'] >= 3.1",
        "mask = example_df['B'] < 20",
        "mask = (example_df['A'] >= 3.1) & (example_df['B'] < 20)",
        "mask = (example_df['A'] >= 3.1) | (example_df['B'] < 20)"
       ],
       "_view_count": null,
       "_view_module": "@jupyter-widgets/controls",
       "_view_module_version": "1.5.0",
       "_view_name": "RadioButtonsView",
       "description": "",
       "description_tooltip": null,
       "disabled": false,
       "index": 0,
       "layout": "IPY_MODEL_6f6b845d39984d06b5711f3f865c4f49",
       "style": "IPY_MODEL_bad7d01d76364b49bf8f1b550eb65eba"
      }
     },
     "6f6b845d39984d06b5711f3f865c4f49": {
      "model_module": "@jupyter-widgets/base",
      "model_module_version": "1.2.0",
      "model_name": "LayoutModel",
      "state": {
       "_model_module": "@jupyter-widgets/base",
       "_model_module_version": "1.2.0",
       "_model_name": "LayoutModel",
       "_view_count": null,
       "_view_module": "@jupyter-widgets/base",
       "_view_module_version": "1.2.0",
       "_view_name": "LayoutView",
       "align_content": null,
       "align_items": null,
       "align_self": null,
       "border": null,
       "bottom": null,
       "display": null,
       "flex": null,
       "flex_flow": null,
       "grid_area": null,
       "grid_auto_columns": null,
       "grid_auto_flow": null,
       "grid_auto_rows": null,
       "grid_column": null,
       "grid_gap": null,
       "grid_row": null,
       "grid_template_areas": null,
       "grid_template_columns": null,
       "grid_template_rows": null,
       "height": null,
       "justify_content": null,
       "justify_items": null,
       "left": null,
       "margin": null,
       "max_height": null,
       "max_width": null,
       "min_height": null,
       "min_width": null,
       "object_fit": null,
       "object_position": null,
       "order": null,
       "overflow": null,
       "overflow_x": null,
       "overflow_y": null,
       "padding": null,
       "right": null,
       "top": null,
       "visibility": null,
       "width": "max-content"
      }
     },
     "bad7d01d76364b49bf8f1b550eb65eba": {
      "model_module": "@jupyter-widgets/controls",
      "model_module_version": "1.5.0",
      "model_name": "DescriptionStyleModel",
      "state": {
       "_model_module": "@jupyter-widgets/controls",
       "_model_module_version": "1.5.0",
       "_model_name": "DescriptionStyleModel",
       "_view_count": null,
       "_view_module": "@jupyter-widgets/base",
       "_view_module_version": "1.2.0",
       "_view_name": "StyleView",
       "description_width": ""
      }
     }
    },
    "version_major": 2,
    "version_minor": 0
   }
  }
 },
 "nbformat": 4,
 "nbformat_minor": 2
}
