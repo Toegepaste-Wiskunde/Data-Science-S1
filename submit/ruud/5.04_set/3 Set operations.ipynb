{
 "cells": [
  {
   "cell_type": "markdown",
   "metadata": {},
   "source": [
    "# Set operations"
   ]
  },
  {
   "cell_type": "markdown",
   "metadata": {},
   "source": [
    "We can also use Mathematical Set operators like `issubset` $\\subset$, `union` $\\cup$, `intersect` $\\cap$ and `difference` $\\setminus$ on Python sets. These have been implemented as functions on sets. Typically, the union and intersect operators do not modify a set, but return a new set. Like on lists, we also have a function to `add` and `remove` elements."
   ]
  },
  {
   "cell_type": "code",
   "execution_count": 1,
   "metadata": {
    "execution": {
     "iopub.execute_input": "2022-08-22T14:05:03.097451Z",
     "iopub.status.busy": "2022-08-22T14:05:03.096820Z",
     "iopub.status.idle": "2022-08-22T14:05:03.109383Z",
     "shell.execute_reply": "2022-08-22T14:05:03.108315Z"
    }
   },
   "outputs": [],
   "source": [
    "a = {2, 5, 3, 5}\n",
    "b = {5, 4, 2}"
   ]
  },
  {
   "cell_type": "markdown",
   "metadata": {},
   "source": [
    "| code | result | comment |\n",
    "|:-----|:-------|:--------|\n",
    "| 2 in a | True | True is the given element is in the set |\n",
    "| a.add(9) | a == {2, 3, 5, 9} | adds an elemment to the set |\n",
    "| a.remove(2) | a == {3, 5} | removes an element from a set |\n",
    "| a.union(b) | {2, 3, 4, 5} | returns a union of two sets (a remains unchanged) |\n",
    "| a.intersect(b) | {2, 5} | returns the intersect between two sets |\n",
    "| b.issubset( a ) | False | because 4 is not in a |\n",
    "| a.difference(b) | {3} |"
   ]
  },
  {
   "cell_type": "markdown",
   "metadata": {},
   "source": [
    "# Assignments"
   ]
  },
  {
   "cell_type": "markdown",
   "metadata": {},
   "source": [
    "#### Return the union of `s` and `f`, being all the unique characters that appear in the words `science` and `fiction`"
   ]
  },
  {
   "cell_type": "code",
   "execution_count": 2,
   "metadata": {
    "execution": {
     "iopub.execute_input": "2022-08-22T14:05:03.114887Z",
     "iopub.status.busy": "2022-08-22T14:05:03.114556Z",
     "iopub.status.idle": "2022-08-22T14:05:03.118904Z",
     "shell.execute_reply": "2022-08-22T14:05:03.117864Z"
    }
   },
   "outputs": [],
   "source": [
    "s = set('science')\n",
    "f = set('fiction')"
   ]
  },
  {
   "cell_type": "code",
   "execution_count": 3,
   "metadata": {
    "deletable": false,
    "editable": true,
    "execution": {
     "iopub.execute_input": "2022-08-22T14:05:03.122323Z",
     "iopub.status.busy": "2022-08-22T14:05:03.121946Z",
     "iopub.status.idle": "2022-08-22T14:05:03.127279Z",
     "shell.execute_reply": "2022-08-22T14:05:03.126189Z"
    }
   },
   "outputs": [],
   "source": [
    "%%assignment\n",
    "### ENTER YOUR CODE HERE"
   ]
  },
  {
   "cell_type": "code",
   "execution_count": 4,
   "metadata": {
    "deletable": false,
    "editable": false,
    "execution": {
     "iopub.execute_input": "2022-08-22T14:05:03.130827Z",
     "iopub.status.busy": "2022-08-22T14:05:03.130431Z",
     "iopub.status.idle": "2022-08-22T14:05:03.143090Z",
     "shell.execute_reply": "2022-08-22T14:05:03.142389Z"
    }
   },
   "outputs": [
    {
     "data": {
      "text/html": [
       "<table><tr style=\"background: red; color: white\"><td style=\"text-align:left\">The result should be {'h', 'a', 'r', 'd', 'r', 'o', 'c', 'k'} for testcase s = set('hard') , f = set('rock') </td></tr></table>"
      ],
      "text/plain": [
       "<IPython.core.display.HTML object>"
      ]
     },
     "metadata": {
      "text/html": {
       "username": "ruud"
      }
     },
     "output_type": "display_data"
    }
   ],
   "source": [
    "%%check\n",
    "s = set('hard')\n",
    "f = set('rock')\n",
    "result == {'h', 'a', 'r', 'd', 'r', 'o', 'c', 'k'}\n",
    "s = set('science')\n",
    "f = set('fiction')\n",
    "result == {'c', 'e', 'f', 'i', 'n', 'o', 's', 't'}"
   ]
  },
  {
   "cell_type": "markdown",
   "metadata": {},
   "source": [
    "#### How many unique letters appear in s that do not appear in f?"
   ]
  },
  {
   "cell_type": "code",
   "execution_count": 5,
   "metadata": {
    "execution": {
     "iopub.execute_input": "2022-08-22T14:05:03.146192Z",
     "iopub.status.busy": "2022-08-22T14:05:03.145907Z",
     "iopub.status.idle": "2022-08-22T14:05:03.149524Z",
     "shell.execute_reply": "2022-08-22T14:05:03.148848Z"
    }
   },
   "outputs": [],
   "source": [
    "s = set('science')\n",
    "f = set('fiction')"
   ]
  },
  {
   "cell_type": "code",
   "execution_count": 6,
   "metadata": {
    "deletable": false,
    "editable": true,
    "execution": {
     "iopub.execute_input": "2022-08-22T14:05:03.152274Z",
     "iopub.status.busy": "2022-08-22T14:05:03.152027Z",
     "iopub.status.idle": "2022-08-22T14:05:03.155771Z",
     "shell.execute_reply": "2022-08-22T14:05:03.154953Z"
    }
   },
   "outputs": [],
   "source": [
    "%%assignment\n",
    "### ENTER YOUR CODE HERE"
   ]
  },
  {
   "cell_type": "code",
   "execution_count": 7,
   "metadata": {
    "deletable": false,
    "editable": false,
    "execution": {
     "iopub.execute_input": "2022-08-22T14:05:03.176557Z",
     "iopub.status.busy": "2022-08-22T14:05:03.176152Z",
     "iopub.status.idle": "2022-08-22T14:05:03.183292Z",
     "shell.execute_reply": "2022-08-22T14:05:03.182409Z"
    }
   },
   "outputs": [
    {
     "data": {
      "text/html": [
       "<table><tr style=\"background: red; color: white\"><td style=\"text-align:left\">The result should be 3 for testcase s = set('hard') , f = set('rock') </td></tr></table>"
      ],
      "text/plain": [
       "<IPython.core.display.HTML object>"
      ]
     },
     "metadata": {
      "text/html": {
       "username": "ruud"
      }
     },
     "output_type": "display_data"
    }
   ],
   "source": [
    "%%check\n",
    "s = set('hard')\n",
    "f = set('rock')\n",
    "result == 3\n",
    "s = set('science')\n",
    "f = set('fiction')\n",
    "result == 2"
   ]
  },
  {
   "cell_type": "markdown",
   "metadata": {},
   "source": [
    "#### How many letters appear in both s and f?"
   ]
  },
  {
   "cell_type": "code",
   "execution_count": 8,
   "metadata": {
    "execution": {
     "iopub.execute_input": "2022-08-22T14:05:03.188472Z",
     "iopub.status.busy": "2022-08-22T14:05:03.188137Z",
     "iopub.status.idle": "2022-08-22T14:05:03.193535Z",
     "shell.execute_reply": "2022-08-22T14:05:03.192189Z"
    }
   },
   "outputs": [],
   "source": [
    "s = set('science')\n",
    "f = set('fiction')"
   ]
  },
  {
   "cell_type": "code",
   "execution_count": 9,
   "metadata": {
    "deletable": false,
    "editable": true,
    "execution": {
     "iopub.execute_input": "2022-08-22T14:05:03.197270Z",
     "iopub.status.busy": "2022-08-22T14:05:03.196916Z",
     "iopub.status.idle": "2022-08-22T14:05:03.202498Z",
     "shell.execute_reply": "2022-08-22T14:05:03.201310Z"
    }
   },
   "outputs": [],
   "source": [
    "%%assignment\n",
    "### ENTER YOUR CODE HERE"
   ]
  },
  {
   "cell_type": "code",
   "execution_count": 10,
   "metadata": {
    "deletable": false,
    "editable": false,
    "execution": {
     "iopub.execute_input": "2022-08-22T14:05:03.207248Z",
     "iopub.status.busy": "2022-08-22T14:05:03.206805Z",
     "iopub.status.idle": "2022-08-22T14:05:03.213984Z",
     "shell.execute_reply": "2022-08-22T14:05:03.213179Z"
    }
   },
   "outputs": [
    {
     "data": {
      "text/html": [
       "<table><tr style=\"background: red; color: white\"><td style=\"text-align:left\">The result should be 1 for testcase s = set('hard') , f = set('rock') </td></tr></table>"
      ],
      "text/plain": [
       "<IPython.core.display.HTML object>"
      ]
     },
     "metadata": {
      "text/html": {
       "username": "ruud"
      }
     },
     "output_type": "display_data"
    }
   ],
   "source": [
    "%%check\n",
    "s = set('hard')\n",
    "f = set('rock')\n",
    "result == 1\n",
    "s = set('science')\n",
    "f = set('fiction')\n",
    "result == 3"
   ]
  },
  {
   "cell_type": "markdown",
   "metadata": {},
   "source": [
    "#### Remove 'John' from `students`"
   ]
  },
  {
   "cell_type": "code",
   "execution_count": 11,
   "metadata": {
    "execution": {
     "iopub.execute_input": "2022-08-22T14:05:03.218044Z",
     "iopub.status.busy": "2022-08-22T14:05:03.217643Z",
     "iopub.status.idle": "2022-08-22T14:05:03.222259Z",
     "shell.execute_reply": "2022-08-22T14:05:03.221226Z"
    }
   },
   "outputs": [],
   "source": [
    "students = {'John', 'Lucy', 'Paul'}"
   ]
  },
  {
   "cell_type": "code",
   "execution_count": 12,
   "metadata": {
    "deletable": false,
    "editable": true,
    "execution": {
     "iopub.execute_input": "2022-08-22T14:05:03.226249Z",
     "iopub.status.busy": "2022-08-22T14:05:03.225741Z",
     "iopub.status.idle": "2022-08-22T14:05:03.230585Z",
     "shell.execute_reply": "2022-08-22T14:05:03.229542Z"
    }
   },
   "outputs": [],
   "source": [
    "%%assignment\n",
    "### ENTER YOUR CODE HERE"
   ]
  },
  {
   "cell_type": "code",
   "execution_count": 13,
   "metadata": {
    "deletable": false,
    "editable": false,
    "execution": {
     "iopub.execute_input": "2022-08-22T14:05:03.233934Z",
     "iopub.status.busy": "2022-08-22T14:05:03.233554Z",
     "iopub.status.idle": "2022-08-22T14:05:03.240374Z",
     "shell.execute_reply": "2022-08-22T14:05:03.239392Z"
    }
   },
   "outputs": [
    {
     "data": {
      "text/html": [
       "<table><tr style=\"background: red; color: white\"><td style=\"text-align:left\">The result for students should be {'Lucy'} for testcase students = {'John', 'Lucy'} </td></tr></table>"
      ],
      "text/plain": [
       "<IPython.core.display.HTML object>"
      ]
     },
     "metadata": {
      "text/html": {
       "username": "ruud"
      }
     },
     "output_type": "display_data"
    }
   ],
   "source": [
    "%%check\n",
    "students = {'John', 'Lucy'}\n",
    "students == {'Lucy'}\n",
    "students = {'John', 'Lucy', 'Paul'}\n",
    "students == {'Lucy', 'Paul'}"
   ]
  },
  {
   "cell_type": "markdown",
   "metadata": {},
   "source": [
    "#### To students, add 'Nick' and 'Simon'?"
   ]
  },
  {
   "cell_type": "code",
   "execution_count": 14,
   "metadata": {
    "execution": {
     "iopub.execute_input": "2022-08-22T14:05:03.243611Z",
     "iopub.status.busy": "2022-08-22T14:05:03.243288Z",
     "iopub.status.idle": "2022-08-22T14:05:03.247479Z",
     "shell.execute_reply": "2022-08-22T14:05:03.246642Z"
    }
   },
   "outputs": [],
   "source": [
    "students = {'John', 'Lucy', 'Paul'}"
   ]
  },
  {
   "cell_type": "code",
   "execution_count": 15,
   "metadata": {
    "deletable": false,
    "editable": true,
    "execution": {
     "iopub.execute_input": "2022-08-22T14:05:03.250576Z",
     "iopub.status.busy": "2022-08-22T14:05:03.250213Z",
     "iopub.status.idle": "2022-08-22T14:05:03.255040Z",
     "shell.execute_reply": "2022-08-22T14:05:03.253956Z"
    }
   },
   "outputs": [],
   "source": [
    "%%assignment\n",
    "### ENTER YOUR CODE HERE"
   ]
  },
  {
   "cell_type": "code",
   "execution_count": 16,
   "metadata": {
    "deletable": false,
    "editable": false,
    "execution": {
     "iopub.execute_input": "2022-08-22T14:05:03.257814Z",
     "iopub.status.busy": "2022-08-22T14:05:03.257512Z",
     "iopub.status.idle": "2022-08-22T14:05:03.263686Z",
     "shell.execute_reply": "2022-08-22T14:05:03.262734Z"
    }
   },
   "outputs": [
    {
     "data": {
      "text/html": [
       "<table><tr style=\"background: red; color: white\"><td style=\"text-align:left\">The result for students should be {'John', 'Lucy', 'Nick', 'Simon'} for testcase students = {'John', 'Lucy'} </td></tr></table>"
      ],
      "text/plain": [
       "<IPython.core.display.HTML object>"
      ]
     },
     "metadata": {
      "text/html": {
       "username": "ruud"
      }
     },
     "output_type": "display_data"
    }
   ],
   "source": [
    "%%check\n",
    "students = {'John', 'Lucy'}\n",
    "students == {'John', 'Lucy', 'Nick', 'Simon'}\n",
    "students = {'John', 'Lucy', 'Paul'}\n",
    "students == {'John', 'Lucy', 'Paul', 'Nick', 'Simon'}"
   ]
  }
 ],
 "metadata": {
  "celltoolbar": "Create Assignment",
  "kernelspec": {
   "display_name": "prog",
   "language": "python",
   "name": "prog"
  },
  "language_info": {
   "codemirror_mode": {
    "name": "ipython",
    "version": 3
   },
   "file_extension": ".py",
   "mimetype": "text/x-python",
   "name": "python",
   "nbconvert_exporter": "python",
   "pygments_lexer": "ipython3",
   "version": "3.9.12"
  }
 },
 "nbformat": 4,
 "nbformat_minor": 4
}
