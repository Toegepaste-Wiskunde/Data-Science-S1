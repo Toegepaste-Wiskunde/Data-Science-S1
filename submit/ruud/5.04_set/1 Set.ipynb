{
 "cells": [
  {
   "cell_type": "markdown",
   "metadata": {},
   "source": [
    "# Set\n",
    "\n",
    "So far, we have covered two types of collections in Python: list and tuple. The advantage of a tuple is that it is immutable and of a list that it is sortable. The disadvantage of lists and tuples is that they are very slow when you need to find a specific value. For this purpose, Python has a 'set'. A set is a collection in which all elements are unique. The values are not stored at indices but by a smart way that allows to find elements very efficiently.\n",
    "\n",
    "A literal set is created by summing up elements between curly braces `{}`. It is allowed to add duplicates, but as you can see, the end result is that every value only appears once. "
   ]
  },
  {
   "cell_type": "code",
   "execution_count": 1,
   "metadata": {
    "execution": {
     "iopub.execute_input": "2022-08-22T14:15:02.626433Z",
     "iopub.status.busy": "2022-08-22T14:15:02.625789Z",
     "iopub.status.idle": "2022-08-22T14:15:02.638844Z",
     "shell.execute_reply": "2022-08-22T14:15:02.638019Z"
    }
   },
   "outputs": [],
   "source": [
    "places = {'Delft', 'Amsterdam', 'Delft', 'Leiden'}"
   ]
  },
  {
   "cell_type": "code",
   "execution_count": 2,
   "metadata": {
    "execution": {
     "iopub.execute_input": "2022-08-22T14:15:02.642920Z",
     "iopub.status.busy": "2022-08-22T14:15:02.642521Z",
     "iopub.status.idle": "2022-08-22T14:15:02.652323Z",
     "shell.execute_reply": "2022-08-22T14:15:02.651617Z"
    }
   },
   "outputs": [
    {
     "data": {
      "text/plain": [
       "{'Amsterdam', 'Delft', 'Leiden'}"
      ]
     },
     "execution_count": 2,
     "metadata": {},
     "output_type": "execute_result"
    }
   ],
   "source": [
    "places"
   ]
  },
  {
   "cell_type": "markdown",
   "metadata": {},
   "source": [
    "Typical use of sets is to efficiently maintain a collection of unique values, quickly check if a value is in a set and to iterate over a set. The following table lists common operations on sets:"
   ]
  },
  {
   "cell_type": "code",
   "execution_count": 3,
   "metadata": {
    "execution": {
     "iopub.execute_input": "2022-08-22T14:15:02.656253Z",
     "iopub.status.busy": "2022-08-22T14:15:02.655994Z",
     "iopub.status.idle": "2022-08-22T14:15:02.659597Z",
     "shell.execute_reply": "2022-08-22T14:15:02.658906Z"
    }
   },
   "outputs": [],
   "source": [
    "a = {2, 5, 3, 5}\n",
    "b = {5, 4, 2}"
   ]
  },
  {
   "cell_type": "markdown",
   "metadata": {},
   "source": [
    "| code | result | comment | mathematical notation |\n",
    "|:-----|:-------|:--------|:--------|\n",
    "| 2 in a | True | True is the given element is in the set | $2\\in a$<br>$x$ is an element of $a$|\n",
    "| a.add(9) | a == {2, 3, 5, 9} | adds an elemment to the set | $a$ becomes $a\\cup\\{9\\}$<br>$a$ becomes the union of set a and the set $\\{9\\}$, <br>note that in mathematics we only have notation to unite sets,<br>there is no notation to add a single element to a set |\n",
    "| a.remove(2) | a == {3, 5} | removes an element from a set | $a$ becomes $a\\setminus \\{2\\}$<br>$a$ becomes the set difference of set $a$ and the set $\\{2\\}$ |\n",
    "| len(a) | 3 | A set is just like any iterable collection, <br>however, note that all elements are unique | $|a|$<br> this is the count of elements in $a$ |\n",
    "| sum(a) | 10 |  | no math notation |\n",
    "| set([1, 1, 2]) | {1, 2} | creates a set from the unique elements in a list | no math notation |\n",
    "| a.union(b) | {2, 3, 4, 5} | returns a union of two sets (a remains unchanged) | $ a\\cup b $ <br> set $a$ united with set $b$|\n",
    "| a.intersect(b) | {2, 5} | returns the intersect between two sets | $a\\cap b$ <br> set $a$ intersected with set $b$ |\n",
    "\n",
    "In mathematics it is custom to use capitals for set ($A, B, C$). When programming we can use lowercase letters if we like."
   ]
  },
  {
   "cell_type": "markdown",
   "metadata": {},
   "source": [
    "The last few examples show that we can apply set-operations on sets, therefore there are also function to check `issubset` and to get the `difference` between two sets. \n",
    "\n",
    "There are also some operations on lists that cannot be applied to sets: indexing, slicing, sorting, inserting at a position. Note that although it may seem that sets are sorted, there is no guarantee that they are. "
   ]
  },
  {
   "cell_type": "markdown",
   "metadata": {},
   "source": [
    "Note that set difference is not symmetrical, just as normal subtraction is not symmetrical ($5-3\\neq 3-5$).\n",
    "\n",
    "$\\{0, 1, 3, 8\\}\\setminus\\{3,8\\}={0, 1}$\n",
    "\n",
    "$\\{3,8\\}\\setminus\\{0, 1, 3, 8\\} = \\{\\} = \\emptyset$\n",
    "\n",
    "This last symbol is the empty set symbol. This is a set with no elements in it. Theoretically there exists only one empty set."
   ]
  },
  {
   "cell_type": "markdown",
   "metadata": {},
   "source": [
    "# Assignments"
   ]
  },
  {
   "cell_type": "markdown",
   "metadata": {},
   "source": [
    "#### Check if the value 3 and 5 are in `b`, in one expression"
   ]
  },
  {
   "cell_type": "code",
   "execution_count": 4,
   "metadata": {
    "execution": {
     "iopub.execute_input": "2022-08-22T14:15:02.681339Z",
     "iopub.status.busy": "2022-08-22T14:15:02.680781Z",
     "iopub.status.idle": "2022-08-22T14:15:02.685202Z",
     "shell.execute_reply": "2022-08-22T14:15:02.684346Z"
    }
   },
   "outputs": [],
   "source": [
    "b = {3, 5, 7}"
   ]
  },
  {
   "cell_type": "code",
   "execution_count": 5,
   "metadata": {
    "deletable": false,
    "editable": true,
    "execution": {
     "iopub.execute_input": "2022-08-22T14:15:02.689825Z",
     "iopub.status.busy": "2022-08-22T14:15:02.689321Z",
     "iopub.status.idle": "2022-08-22T14:15:02.695339Z",
     "shell.execute_reply": "2022-08-22T14:15:02.694209Z"
    }
   },
   "outputs": [],
   "source": [
    "%%assignment\n",
    "### ENTER YOUR CODE HERE"
   ]
  },
  {
   "cell_type": "code",
   "execution_count": 6,
   "metadata": {
    "deletable": false,
    "editable": false,
    "execution": {
     "iopub.execute_input": "2022-08-22T14:15:02.699367Z",
     "iopub.status.busy": "2022-08-22T14:15:02.699047Z",
     "iopub.status.idle": "2022-08-22T14:15:02.706552Z",
     "shell.execute_reply": "2022-08-22T14:15:02.705576Z"
    }
   },
   "outputs": [
    {
     "data": {
      "text/html": [
       "<table><tr style=\"background: red; color: white\"><td style=\"text-align:left\">warning: cannot use assignment in test 'result ', use == instead</td></tr></table>"
      ],
      "text/plain": [
       "<IPython.core.display.HTML object>"
      ]
     },
     "metadata": {
      "text/html": {
       "username": "ruud"
      }
     },
     "output_type": "display_data"
    }
   ],
   "source": [
    "%%check\n",
    "b = {3, 7, 8}\n",
    "not result\n",
    "b = {5, 7, 9}\n",
    "not result\n",
    "b = {3, 5, 7}\n",
    "result"
   ]
  },
  {
   "cell_type": "markdown",
   "metadata": {},
   "source": [
    "#### Create a literal set `vowel`, with the vowels 'a', 'e', 'i', 'o', 'u'."
   ]
  },
  {
   "cell_type": "code",
   "execution_count": 7,
   "metadata": {
    "deletable": false,
    "editable": true,
    "execution": {
     "iopub.execute_input": "2022-08-22T14:15:02.710224Z",
     "iopub.status.busy": "2022-08-22T14:15:02.709837Z",
     "iopub.status.idle": "2022-08-22T14:15:02.714770Z",
     "shell.execute_reply": "2022-08-22T14:15:02.713645Z"
    }
   },
   "outputs": [],
   "source": [
    "%%assignment\n",
    "### ENTER YOUR CODE HERE"
   ]
  },
  {
   "cell_type": "code",
   "execution_count": 8,
   "metadata": {
    "deletable": false,
    "editable": false,
    "execution": {
     "iopub.execute_input": "2022-08-22T14:15:02.717721Z",
     "iopub.status.busy": "2022-08-22T14:15:02.717375Z",
     "iopub.status.idle": "2022-08-22T14:15:03.093412Z",
     "shell.execute_reply": "2022-08-22T14:15:03.092732Z"
    }
   },
   "outputs": [
    {
     "ename": "NameError",
     "evalue": "name 'vowel' is not defined",
     "output_type": "error",
     "traceback": [
      "\u001b[0;31m---------------------------------------------------------------------------\u001b[0m",
      "\u001b[0;31mNameError\u001b[0m                                 Traceback (most recent call last)",
      "Input \u001b[0;32mIn [8]\u001b[0m, in \u001b[0;36m<cell line: 1>\u001b[0;34m()\u001b[0m\n\u001b[0;32m----> 1\u001b[0m \u001b[43mget_ipython\u001b[49m\u001b[43m(\u001b[49m\u001b[43m)\u001b[49m\u001b[38;5;241;43m.\u001b[39;49m\u001b[43mrun_cell_magic\u001b[49m\u001b[43m(\u001b[49m\u001b[38;5;124;43m'\u001b[39;49m\u001b[38;5;124;43mcheck\u001b[39;49m\u001b[38;5;124;43m'\u001b[39;49m\u001b[43m,\u001b[49m\u001b[43m \u001b[49m\u001b[38;5;124;43m'\u001b[39;49m\u001b[38;5;124;43m'\u001b[39;49m\u001b[43m,\u001b[49m\u001b[43m \u001b[49m\u001b[38;5;124;43m\"\u001b[39;49m\u001b[38;5;124;43mlen(vowel) == 5\u001b[39;49m\u001b[38;5;130;43;01m\\n\u001b[39;49;00m\u001b[38;5;124;43m'\u001b[39;49m\u001b[38;5;124;43maeiou\u001b[39;49m\u001b[38;5;124;43m'\u001b[39;49m\u001b[38;5;124;43m == \u001b[39;49m\u001b[38;5;124;43m'\u001b[39;49m\u001b[38;5;124;43m'\u001b[39;49m\u001b[38;5;124;43m.join(sorted(vowel))\u001b[39;49m\u001b[38;5;130;43;01m\\n\u001b[39;49;00m\u001b[38;5;124;43m\"\u001b[39;49m\u001b[43m)\u001b[49m\n",
      "File \u001b[0;32m/opt/jupyterhub/anaconda/lib/python3.9/site-packages/IPython/core/interactiveshell.py:2358\u001b[0m, in \u001b[0;36mInteractiveShell.run_cell_magic\u001b[0;34m(self, magic_name, line, cell)\u001b[0m\n\u001b[1;32m   2356\u001b[0m \u001b[38;5;28;01mwith\u001b[39;00m \u001b[38;5;28mself\u001b[39m\u001b[38;5;241m.\u001b[39mbuiltin_trap:\n\u001b[1;32m   2357\u001b[0m     args \u001b[38;5;241m=\u001b[39m (magic_arg_s, cell)\n\u001b[0;32m-> 2358\u001b[0m     result \u001b[38;5;241m=\u001b[39m \u001b[43mfn\u001b[49m\u001b[43m(\u001b[49m\u001b[38;5;241;43m*\u001b[39;49m\u001b[43margs\u001b[49m\u001b[43m,\u001b[49m\u001b[43m \u001b[49m\u001b[38;5;241;43m*\u001b[39;49m\u001b[38;5;241;43m*\u001b[39;49m\u001b[43mkwargs\u001b[49m\u001b[43m)\u001b[49m\n\u001b[1;32m   2359\u001b[0m \u001b[38;5;28;01mreturn\u001b[39;00m result\n",
      "File \u001b[0;32m<string>:199\u001b[0m, in \u001b[0;36mcheck\u001b[0;34m(self, nr, checks)\u001b[0m\n",
      "File \u001b[0;32m<string>:231\u001b[0m, in \u001b[0;36mcheck2\u001b[0;34m(self)\u001b[0m\n",
      "File \u001b[0;32m<string>:150\u001b[0m, in \u001b[0;36meval\u001b[0;34m(self, script, prelude)\u001b[0m\n",
      "File \u001b[0;32m/opt/jupyterhub/anaconda/lib/python3.9/site-packages/IPython/core/interactiveshell.py:2684\u001b[0m, in \u001b[0;36mInteractiveShell.ex\u001b[0;34m(self, cmd)\u001b[0m\n\u001b[1;32m   2682\u001b[0m \u001b[38;5;124;03m\"\"\"Execute a normal python statement in user namespace.\"\"\"\u001b[39;00m\n\u001b[1;32m   2683\u001b[0m \u001b[38;5;28;01mwith\u001b[39;00m \u001b[38;5;28mself\u001b[39m\u001b[38;5;241m.\u001b[39mbuiltin_trap:\n\u001b[0;32m-> 2684\u001b[0m     \u001b[43mexec\u001b[49m\u001b[43m(\u001b[49m\u001b[43mcmd\u001b[49m\u001b[43m,\u001b[49m\u001b[43m \u001b[49m\u001b[38;5;28;43mself\u001b[39;49m\u001b[38;5;241;43m.\u001b[39;49m\u001b[43muser_global_ns\u001b[49m\u001b[43m,\u001b[49m\u001b[43m \u001b[49m\u001b[38;5;28;43mself\u001b[39;49m\u001b[38;5;241;43m.\u001b[39;49m\u001b[43muser_ns\u001b[49m\u001b[43m)\u001b[49m\n",
      "File \u001b[0;32m<string>:1\u001b[0m, in \u001b[0;36m<module>\u001b[0;34m\u001b[0m\n",
      "\u001b[0;31mNameError\u001b[0m: name 'vowel' is not defined"
     ]
    }
   ],
   "source": [
    "%%check\n",
    "len(vowel) == 5\n",
    "'aeiou' == ''.join(sorted(vowel))"
   ]
  },
  {
   "cell_type": "markdown",
   "metadata": {},
   "source": [
    "#### Write a function `check_vowel`, that takes a `character` and returns True if the character is a vowel, or False otherwise.\n",
    "\n",
    "Note, you do not need use an `if` and return a True/False, since a comparison is already a Boolean, you can just return the result of a comparison."
   ]
  },
  {
   "cell_type": "code",
   "execution_count": 9,
   "metadata": {
    "deletable": false,
    "editable": true,
    "execution": {
     "iopub.execute_input": "2022-08-22T14:15:03.098297Z",
     "iopub.status.busy": "2022-08-22T14:15:03.098009Z",
     "iopub.status.idle": "2022-08-22T14:15:03.101805Z",
     "shell.execute_reply": "2022-08-22T14:15:03.101024Z"
    }
   },
   "outputs": [],
   "source": [
    "%%assignment\n",
    "### ENTER YOUR CODE HERE"
   ]
  },
  {
   "cell_type": "code",
   "execution_count": 10,
   "metadata": {
    "deletable": false,
    "editable": false,
    "execution": {
     "iopub.execute_input": "2022-08-22T14:15:03.105607Z",
     "iopub.status.busy": "2022-08-22T14:15:03.105379Z",
     "iopub.status.idle": "2022-08-22T14:15:03.126833Z",
     "shell.execute_reply": "2022-08-22T14:15:03.126166Z"
    }
   },
   "outputs": [
    {
     "ename": "NameError",
     "evalue": "name 'check_vowel' is not defined",
     "output_type": "error",
     "traceback": [
      "\u001b[0;31m---------------------------------------------------------------------------\u001b[0m",
      "\u001b[0;31mNameError\u001b[0m                                 Traceback (most recent call last)",
      "Input \u001b[0;32mIn [10]\u001b[0m, in \u001b[0;36m<cell line: 1>\u001b[0;34m()\u001b[0m\n\u001b[0;32m----> 1\u001b[0m \u001b[43mget_ipython\u001b[49m\u001b[43m(\u001b[49m\u001b[43m)\u001b[49m\u001b[38;5;241;43m.\u001b[39;49m\u001b[43mrun_cell_magic\u001b[49m\u001b[43m(\u001b[49m\u001b[38;5;124;43m'\u001b[39;49m\u001b[38;5;124;43mcheck\u001b[39;49m\u001b[38;5;124;43m'\u001b[39;49m\u001b[43m,\u001b[49m\u001b[43m \u001b[49m\u001b[38;5;124;43m'\u001b[39;49m\u001b[38;5;124;43m'\u001b[39;49m\u001b[43m,\u001b[49m\u001b[43m \u001b[49m\u001b[38;5;124;43m\"\u001b[39;49m\u001b[38;5;124;43msignature check_vowel character\u001b[39;49m\u001b[38;5;130;43;01m\\n\u001b[39;49;00m\u001b[38;5;124;43mvowel = \u001b[39;49m\u001b[38;5;124;43m'\u001b[39;49m\u001b[38;5;124;43maeiou\u001b[39;49m\u001b[38;5;124;43m'\u001b[39;49m\u001b[38;5;130;43;01m\\n\u001b[39;49;00m\u001b[38;5;124;43mall(map(check_vowel, \u001b[39;49m\u001b[38;5;124;43m'\u001b[39;49m\u001b[38;5;124;43maeiou\u001b[39;49m\u001b[38;5;124;43m'\u001b[39;49m\u001b[38;5;124;43m)) # Your check_vowel function does not return True for every vowel\u001b[39;49m\u001b[38;5;130;43;01m\\n\u001b[39;49;00m\u001b[38;5;124;43mimport string\u001b[39;49m\u001b[38;5;130;43;01m\\n\u001b[39;49;00m\u001b[38;5;124;43msum(map(check_vowel, string.ascii_lowercase)) == 5\u001b[39;49m\u001b[38;5;130;43;01m\\n\u001b[39;49;00m\u001b[38;5;124;43m\"\u001b[39;49m\u001b[43m)\u001b[49m\n",
      "File \u001b[0;32m/opt/jupyterhub/anaconda/lib/python3.9/site-packages/IPython/core/interactiveshell.py:2358\u001b[0m, in \u001b[0;36mInteractiveShell.run_cell_magic\u001b[0;34m(self, magic_name, line, cell)\u001b[0m\n\u001b[1;32m   2356\u001b[0m \u001b[38;5;28;01mwith\u001b[39;00m \u001b[38;5;28mself\u001b[39m\u001b[38;5;241m.\u001b[39mbuiltin_trap:\n\u001b[1;32m   2357\u001b[0m     args \u001b[38;5;241m=\u001b[39m (magic_arg_s, cell)\n\u001b[0;32m-> 2358\u001b[0m     result \u001b[38;5;241m=\u001b[39m \u001b[43mfn\u001b[49m\u001b[43m(\u001b[49m\u001b[38;5;241;43m*\u001b[39;49m\u001b[43margs\u001b[49m\u001b[43m,\u001b[49m\u001b[43m \u001b[49m\u001b[38;5;241;43m*\u001b[39;49m\u001b[38;5;241;43m*\u001b[39;49m\u001b[43mkwargs\u001b[49m\u001b[43m)\u001b[49m\n\u001b[1;32m   2359\u001b[0m \u001b[38;5;28;01mreturn\u001b[39;00m result\n",
      "File \u001b[0;32m<string>:199\u001b[0m, in \u001b[0;36mcheck\u001b[0;34m(self, nr, checks)\u001b[0m\n",
      "File \u001b[0;32m<string>:231\u001b[0m, in \u001b[0;36mcheck2\u001b[0;34m(self)\u001b[0m\n",
      "File \u001b[0;32m<string>:150\u001b[0m, in \u001b[0;36meval\u001b[0;34m(self, script, prelude)\u001b[0m\n",
      "File \u001b[0;32m/opt/jupyterhub/anaconda/lib/python3.9/site-packages/IPython/core/interactiveshell.py:2684\u001b[0m, in \u001b[0;36mInteractiveShell.ex\u001b[0;34m(self, cmd)\u001b[0m\n\u001b[1;32m   2682\u001b[0m \u001b[38;5;124;03m\"\"\"Execute a normal python statement in user namespace.\"\"\"\u001b[39;00m\n\u001b[1;32m   2683\u001b[0m \u001b[38;5;28;01mwith\u001b[39;00m \u001b[38;5;28mself\u001b[39m\u001b[38;5;241m.\u001b[39mbuiltin_trap:\n\u001b[0;32m-> 2684\u001b[0m     \u001b[43mexec\u001b[49m\u001b[43m(\u001b[49m\u001b[43mcmd\u001b[49m\u001b[43m,\u001b[49m\u001b[43m \u001b[49m\u001b[38;5;28;43mself\u001b[39;49m\u001b[38;5;241;43m.\u001b[39;49m\u001b[43muser_global_ns\u001b[49m\u001b[43m,\u001b[49m\u001b[43m \u001b[49m\u001b[38;5;28;43mself\u001b[39;49m\u001b[38;5;241;43m.\u001b[39;49m\u001b[43muser_ns\u001b[49m\u001b[43m)\u001b[49m\n",
      "File \u001b[0;32m<string>:1\u001b[0m, in \u001b[0;36m<module>\u001b[0;34m\u001b[0m\n",
      "\u001b[0;31mNameError\u001b[0m: name 'check_vowel' is not defined"
     ]
    }
   ],
   "source": [
    "%%check\n",
    "signature check_vowel character\n",
    "vowel = 'aeiou'\n",
    "all(map(check_vowel, 'aeiou')) # Your check_vowel function does not return True for every vowel\n",
    "import string\n",
    "sum(map(check_vowel, string.ascii_lowercase)) == 5"
   ]
  },
  {
   "cell_type": "markdown",
   "metadata": {},
   "source": [
    "# Set vs List\n",
    "\n",
    "Note that for this last assignment, we could have used a `list` instead of a `set`. However, the lookup done with the `in` operator in a `set` is a magnitude faster. Therefore, for large collections, you will prefer to use sets to do lookups.\n",
    "\n",
    "We will do a little experiment, we will use a set and list that are populated with all even numbers smaller than 1 million."
   ]
  },
  {
   "cell_type": "code",
   "execution_count": 11,
   "metadata": {
    "execution": {
     "iopub.execute_input": "2022-08-22T14:15:03.131198Z",
     "iopub.status.busy": "2022-08-22T14:15:03.130933Z",
     "iopub.status.idle": "2022-08-22T14:15:03.196601Z",
     "shell.execute_reply": "2022-08-22T14:15:03.195869Z"
    }
   },
   "outputs": [],
   "source": [
    "numbers_set = { i for i in range(1000000) if i % 2 == 0 }"
   ]
  },
  {
   "cell_type": "code",
   "execution_count": 12,
   "metadata": {
    "execution": {
     "iopub.execute_input": "2022-08-22T14:15:03.201023Z",
     "iopub.status.busy": "2022-08-22T14:15:03.200724Z",
     "iopub.status.idle": "2022-08-22T14:15:03.252649Z",
     "shell.execute_reply": "2022-08-22T14:15:03.251972Z"
    }
   },
   "outputs": [],
   "source": [
    "numbers_list = [ i for i in range(1000000) if i % 2 == 0 ]"
   ]
  },
  {
   "cell_type": "markdown",
   "metadata": {},
   "source": [
    "Then we do a hundred lookups in each of them. The %%time reports the time it takes to execute a cell."
   ]
  },
  {
   "cell_type": "code",
   "execution_count": 13,
   "metadata": {
    "execution": {
     "iopub.execute_input": "2022-08-22T14:15:03.257087Z",
     "iopub.status.busy": "2022-08-22T14:15:03.256806Z",
     "iopub.status.idle": "2022-08-22T14:15:03.261861Z",
     "shell.execute_reply": "2022-08-22T14:15:03.261060Z"
    }
   },
   "outputs": [
    {
     "name": "stdout",
     "output_type": "stream",
     "text": [
      "CPU times: user 25 µs, sys: 39 µs, total: 64 µs\n",
      "Wall time: 67.5 µs\n"
     ]
    }
   ],
   "source": [
    "%%time\n",
    "for i in range(1000):\n",
    "    if i in numbers_set:\n",
    "        pass"
   ]
  },
  {
   "cell_type": "code",
   "execution_count": 14,
   "metadata": {
    "execution": {
     "iopub.execute_input": "2022-08-22T14:15:03.265479Z",
     "iopub.status.busy": "2022-08-22T14:15:03.265244Z",
     "iopub.status.idle": "2022-08-22T14:15:05.245056Z",
     "shell.execute_reply": "2022-08-22T14:15:05.244192Z"
    }
   },
   "outputs": [
    {
     "name": "stdout",
     "output_type": "stream",
     "text": [
      "CPU times: user 1.98 s, sys: 0 ns, total: 1.98 s\n",
      "Wall time: 1.97 s\n"
     ]
    }
   ],
   "source": [
    "%%time\n",
    "for i in range(1000):\n",
    "    if i in numbers_list:\n",
    "        pass"
   ]
  },
  {
   "cell_type": "markdown",
   "metadata": {},
   "source": [
    "Since a µs is $10^{-6}$s, it is easy to see why we use sets, the lookups are around 40.000 times faster."
   ]
  },
  {
   "cell_type": "markdown",
   "metadata": {},
   "source": [
    "# A perculiar mathematical result\n",
    "In mathematics, we define two sets $A$ and $B$ of the same size, whe we can find a function that transforms an element of $A$ in an element of $B$ in such a way that we have an exact one-to-one correspondence.\n",
    "\n",
    "So, what do you think is a larger set, the set of all numbers or the set of even numbers?"
   ]
  },
  {
   "cell_type": "markdown",
   "metadata": {},
   "source": [
    "# Assignment\n",
    "Write a function `get_evens` that returns a set where each element is double the value of an element in `numbers`. The function receives `numbers` as an argument."
   ]
  },
  {
   "cell_type": "code",
   "execution_count": 15,
   "metadata": {
    "deletable": false,
    "editable": true,
    "execution": {
     "iopub.execute_input": "2022-08-22T14:15:05.250555Z",
     "iopub.status.busy": "2022-08-22T14:15:05.250371Z",
     "iopub.status.idle": "2022-08-22T14:15:05.255010Z",
     "shell.execute_reply": "2022-08-22T14:15:05.254185Z"
    }
   },
   "outputs": [],
   "source": [
    "%%assignment\n",
    "### ENTER YOUR CODE HERE"
   ]
  },
  {
   "cell_type": "code",
   "execution_count": 16,
   "metadata": {
    "deletable": false,
    "editable": false,
    "execution": {
     "iopub.execute_input": "2022-08-22T14:15:05.258065Z",
     "iopub.status.busy": "2022-08-22T14:15:05.257790Z",
     "iopub.status.idle": "2022-08-22T14:15:05.300681Z",
     "shell.execute_reply": "2022-08-22T14:15:05.300009Z"
    }
   },
   "outputs": [
    {
     "ename": "NameError",
     "evalue": "name 'get_evens' is not defined",
     "output_type": "error",
     "traceback": [
      "\u001b[0;31m---------------------------------------------------------------------------\u001b[0m",
      "\u001b[0;31mNameError\u001b[0m                                 Traceback (most recent call last)",
      "Input \u001b[0;32mIn [16]\u001b[0m, in \u001b[0;36m<cell line: 1>\u001b[0;34m()\u001b[0m\n\u001b[0;32m----> 1\u001b[0m \u001b[43mget_ipython\u001b[49m\u001b[43m(\u001b[49m\u001b[43m)\u001b[49m\u001b[38;5;241;43m.\u001b[39;49m\u001b[43mrun_cell_magic\u001b[49m\u001b[43m(\u001b[49m\u001b[38;5;124;43m'\u001b[39;49m\u001b[38;5;124;43mcheck\u001b[39;49m\u001b[38;5;124;43m'\u001b[39;49m\u001b[43m,\u001b[49m\u001b[43m \u001b[49m\u001b[38;5;124;43m'\u001b[39;49m\u001b[38;5;124;43m'\u001b[39;49m\u001b[43m,\u001b[49m\u001b[43m \u001b[49m\u001b[38;5;124;43m'\u001b[39;49m\u001b[38;5;124;43mnumbers = set(range(20))\u001b[39;49m\u001b[38;5;130;43;01m\\n\u001b[39;49;00m\u001b[38;5;124;43mevens = get_evens(numbers)\u001b[39;49m\u001b[38;5;130;43;01m\\n\u001b[39;49;00m\u001b[38;5;124;43mlen(numbers) == len(evens)\u001b[39;49m\u001b[38;5;130;43;01m\\n\u001b[39;49;00m\u001b[38;5;124;43m2 in evens\u001b[39;49m\u001b[38;5;130;43;01m\\n\u001b[39;49;00m\u001b[38;5;124;43mnot 3 in evens\u001b[39;49m\u001b[38;5;130;43;01m\\n\u001b[39;49;00m\u001b[38;5;124;43mnumbers = set(range(5))\u001b[39;49m\u001b[38;5;130;43;01m\\n\u001b[39;49;00m\u001b[38;5;124;43mevens = get_evens(numbers)\u001b[39;49m\u001b[38;5;130;43;01m\\n\u001b[39;49;00m\u001b[38;5;124;43mlen(evens) == 5\u001b[39;49m\u001b[38;5;130;43;01m\\n\u001b[39;49;00m\u001b[38;5;124;43m'\u001b[39;49m\u001b[43m)\u001b[49m\n",
      "File \u001b[0;32m/opt/jupyterhub/anaconda/lib/python3.9/site-packages/IPython/core/interactiveshell.py:2358\u001b[0m, in \u001b[0;36mInteractiveShell.run_cell_magic\u001b[0;34m(self, magic_name, line, cell)\u001b[0m\n\u001b[1;32m   2356\u001b[0m \u001b[38;5;28;01mwith\u001b[39;00m \u001b[38;5;28mself\u001b[39m\u001b[38;5;241m.\u001b[39mbuiltin_trap:\n\u001b[1;32m   2357\u001b[0m     args \u001b[38;5;241m=\u001b[39m (magic_arg_s, cell)\n\u001b[0;32m-> 2358\u001b[0m     result \u001b[38;5;241m=\u001b[39m \u001b[43mfn\u001b[49m\u001b[43m(\u001b[49m\u001b[38;5;241;43m*\u001b[39;49m\u001b[43margs\u001b[49m\u001b[43m,\u001b[49m\u001b[43m \u001b[49m\u001b[38;5;241;43m*\u001b[39;49m\u001b[38;5;241;43m*\u001b[39;49m\u001b[43mkwargs\u001b[49m\u001b[43m)\u001b[49m\n\u001b[1;32m   2359\u001b[0m \u001b[38;5;28;01mreturn\u001b[39;00m result\n",
      "File \u001b[0;32m<string>:199\u001b[0m, in \u001b[0;36mcheck\u001b[0;34m(self, nr, checks)\u001b[0m\n",
      "File \u001b[0;32m<string>:231\u001b[0m, in \u001b[0;36mcheck2\u001b[0;34m(self)\u001b[0m\n",
      "File \u001b[0;32m<string>:150\u001b[0m, in \u001b[0;36meval\u001b[0;34m(self, script, prelude)\u001b[0m\n",
      "File \u001b[0;32m/opt/jupyterhub/anaconda/lib/python3.9/site-packages/IPython/core/interactiveshell.py:2684\u001b[0m, in \u001b[0;36mInteractiveShell.ex\u001b[0;34m(self, cmd)\u001b[0m\n\u001b[1;32m   2682\u001b[0m \u001b[38;5;124;03m\"\"\"Execute a normal python statement in user namespace.\"\"\"\u001b[39;00m\n\u001b[1;32m   2683\u001b[0m \u001b[38;5;28;01mwith\u001b[39;00m \u001b[38;5;28mself\u001b[39m\u001b[38;5;241m.\u001b[39mbuiltin_trap:\n\u001b[0;32m-> 2684\u001b[0m     \u001b[43mexec\u001b[49m\u001b[43m(\u001b[49m\u001b[43mcmd\u001b[49m\u001b[43m,\u001b[49m\u001b[43m \u001b[49m\u001b[38;5;28;43mself\u001b[39;49m\u001b[38;5;241;43m.\u001b[39;49m\u001b[43muser_global_ns\u001b[49m\u001b[43m,\u001b[49m\u001b[43m \u001b[49m\u001b[38;5;28;43mself\u001b[39;49m\u001b[38;5;241;43m.\u001b[39;49m\u001b[43muser_ns\u001b[49m\u001b[43m)\u001b[49m\n",
      "File \u001b[0;32m<string>:1\u001b[0m, in \u001b[0;36m<module>\u001b[0;34m\u001b[0m\n",
      "\u001b[0;31mNameError\u001b[0m: name 'get_evens' is not defined"
     ]
    }
   ],
   "source": [
    "%%check\n",
    "numbers = set(range(20))\n",
    "evens = get_evens(numbers)\n",
    "len(numbers) == len(evens)\n",
    "2 in evens\n",
    "not 3 in evens\n",
    "numbers = set(range(5))\n",
    "evens = get_evens(numbers)\n",
    "len(evens) == 5"
   ]
  },
  {
   "cell_type": "markdown",
   "metadata": {},
   "source": [
    "Execute your function with a set of the numbers 1 to 1000. Assign the result to the variable `evens`. Check if the number of numbers is the same as the number of evens. Assign the (boolean) result to the variable `same_length`."
   ]
  },
  {
   "cell_type": "code",
   "execution_count": 17,
   "metadata": {
    "deletable": false,
    "editable": true,
    "execution": {
     "iopub.execute_input": "2022-08-22T14:15:05.304634Z",
     "iopub.status.busy": "2022-08-22T14:15:05.304357Z",
     "iopub.status.idle": "2022-08-22T14:15:05.325719Z",
     "shell.execute_reply": "2022-08-22T14:15:05.325060Z"
    }
   },
   "outputs": [
    {
     "ename": "NameError",
     "evalue": "name 'same_length' is not defined",
     "output_type": "error",
     "traceback": [
      "\u001b[0;31m---------------------------------------------------------------------------\u001b[0m",
      "\u001b[0;31mNameError\u001b[0m                                 Traceback (most recent call last)",
      "Input \u001b[0;32mIn [17]\u001b[0m, in \u001b[0;36m<cell line: 1>\u001b[0;34m()\u001b[0m\n\u001b[0;32m----> 1\u001b[0m \u001b[43mget_ipython\u001b[49m\u001b[43m(\u001b[49m\u001b[43m)\u001b[49m\u001b[38;5;241;43m.\u001b[39;49m\u001b[43mrun_cell_magic\u001b[49m\u001b[43m(\u001b[49m\u001b[38;5;124;43m'\u001b[39;49m\u001b[38;5;124;43massignment\u001b[39;49m\u001b[38;5;124;43m'\u001b[39;49m\u001b[43m,\u001b[49m\u001b[43m \u001b[49m\u001b[38;5;124;43m'\u001b[39;49m\u001b[38;5;124;43m'\u001b[39;49m\u001b[43m,\u001b[49m\u001b[43m \u001b[49m\u001b[38;5;124;43m'\u001b[39;49m\u001b[38;5;124;43mnumbers = set(range(1, 1000))\u001b[39;49m\u001b[38;5;130;43;01m\\n\u001b[39;49;00m\u001b[38;5;124;43m### ENTER YOUR CODE HERE\u001b[39;49m\u001b[38;5;130;43;01m\\n\u001b[39;49;00m\u001b[38;5;124;43msame_length\u001b[39;49m\u001b[38;5;130;43;01m\\n\u001b[39;49;00m\u001b[38;5;124;43m'\u001b[39;49m\u001b[43m)\u001b[49m\n",
      "File \u001b[0;32m/opt/jupyterhub/anaconda/lib/python3.9/site-packages/IPython/core/interactiveshell.py:2358\u001b[0m, in \u001b[0;36mInteractiveShell.run_cell_magic\u001b[0;34m(self, magic_name, line, cell)\u001b[0m\n\u001b[1;32m   2356\u001b[0m \u001b[38;5;28;01mwith\u001b[39;00m \u001b[38;5;28mself\u001b[39m\u001b[38;5;241m.\u001b[39mbuiltin_trap:\n\u001b[1;32m   2357\u001b[0m     args \u001b[38;5;241m=\u001b[39m (magic_arg_s, cell)\n\u001b[0;32m-> 2358\u001b[0m     result \u001b[38;5;241m=\u001b[39m \u001b[43mfn\u001b[49m\u001b[43m(\u001b[49m\u001b[38;5;241;43m*\u001b[39;49m\u001b[43margs\u001b[49m\u001b[43m,\u001b[49m\u001b[43m \u001b[49m\u001b[38;5;241;43m*\u001b[39;49m\u001b[38;5;241;43m*\u001b[39;49m\u001b[43mkwargs\u001b[49m\u001b[43m)\u001b[49m\n\u001b[1;32m   2359\u001b[0m \u001b[38;5;28;01mreturn\u001b[39;00m result\n",
      "File \u001b[0;32m<string>:181\u001b[0m, in \u001b[0;36massignment\u001b[0;34m(self, nr, cell)\u001b[0m\n",
      "File \u001b[0;32m<string>:150\u001b[0m, in \u001b[0;36meval\u001b[0;34m(self, script, prelude)\u001b[0m\n",
      "File \u001b[0;32m/opt/jupyterhub/anaconda/lib/python3.9/site-packages/IPython/core/interactiveshell.py:2684\u001b[0m, in \u001b[0;36mInteractiveShell.ex\u001b[0;34m(self, cmd)\u001b[0m\n\u001b[1;32m   2682\u001b[0m \u001b[38;5;124;03m\"\"\"Execute a normal python statement in user namespace.\"\"\"\u001b[39;00m\n\u001b[1;32m   2683\u001b[0m \u001b[38;5;28;01mwith\u001b[39;00m \u001b[38;5;28mself\u001b[39m\u001b[38;5;241m.\u001b[39mbuiltin_trap:\n\u001b[0;32m-> 2684\u001b[0m     \u001b[43mexec\u001b[49m\u001b[43m(\u001b[49m\u001b[43mcmd\u001b[49m\u001b[43m,\u001b[49m\u001b[43m \u001b[49m\u001b[38;5;28;43mself\u001b[39;49m\u001b[38;5;241;43m.\u001b[39;49m\u001b[43muser_global_ns\u001b[49m\u001b[43m,\u001b[49m\u001b[43m \u001b[49m\u001b[38;5;28;43mself\u001b[39;49m\u001b[38;5;241;43m.\u001b[39;49m\u001b[43muser_ns\u001b[49m\u001b[43m)\u001b[49m\n",
      "File \u001b[0;32m<string>:2\u001b[0m, in \u001b[0;36m<module>\u001b[0;34m\u001b[0m\n",
      "\u001b[0;31mNameError\u001b[0m: name 'same_length' is not defined"
     ]
    }
   ],
   "source": [
    "%%assignment\n",
    "numbers = set(range(1, 1000))\n",
    "### ENTER YOUR CODE HERE\n",
    "same_length"
   ]
  },
  {
   "cell_type": "code",
   "execution_count": 18,
   "metadata": {
    "deletable": false,
    "editable": false,
    "execution": {
     "iopub.execute_input": "2022-08-22T14:15:05.330389Z",
     "iopub.status.busy": "2022-08-22T14:15:05.330119Z",
     "iopub.status.idle": "2022-08-22T14:15:05.350852Z",
     "shell.execute_reply": "2022-08-22T14:15:05.350182Z"
    }
   },
   "outputs": [
    {
     "ename": "NameError",
     "evalue": "name 'same_length' is not defined",
     "output_type": "error",
     "traceback": [
      "\u001b[0;31m---------------------------------------------------------------------------\u001b[0m",
      "\u001b[0;31mNameError\u001b[0m                                 Traceback (most recent call last)",
      "Input \u001b[0;32mIn [18]\u001b[0m, in \u001b[0;36m<cell line: 1>\u001b[0;34m()\u001b[0m\n\u001b[0;32m----> 1\u001b[0m \u001b[43mget_ipython\u001b[49m\u001b[43m(\u001b[49m\u001b[43m)\u001b[49m\u001b[38;5;241;43m.\u001b[39;49m\u001b[43mrun_cell_magic\u001b[49m\u001b[43m(\u001b[49m\u001b[38;5;124;43m'\u001b[39;49m\u001b[38;5;124;43mcheck\u001b[39;49m\u001b[38;5;124;43m'\u001b[39;49m\u001b[43m,\u001b[49m\u001b[43m \u001b[49m\u001b[38;5;124;43m'\u001b[39;49m\u001b[38;5;124;43m'\u001b[39;49m\u001b[43m,\u001b[49m\u001b[43m \u001b[49m\u001b[38;5;124;43m'\u001b[39;49m\u001b[38;5;124;43mmandatory get_evens len\u001b[39;49m\u001b[38;5;130;43;01m\\n\u001b[39;49;00m\u001b[38;5;124;43msame_length == True\u001b[39;49m\u001b[38;5;130;43;01m\\n\u001b[39;49;00m\u001b[38;5;124;43m'\u001b[39;49m\u001b[43m)\u001b[49m\n",
      "File \u001b[0;32m/opt/jupyterhub/anaconda/lib/python3.9/site-packages/IPython/core/interactiveshell.py:2358\u001b[0m, in \u001b[0;36mInteractiveShell.run_cell_magic\u001b[0;34m(self, magic_name, line, cell)\u001b[0m\n\u001b[1;32m   2356\u001b[0m \u001b[38;5;28;01mwith\u001b[39;00m \u001b[38;5;28mself\u001b[39m\u001b[38;5;241m.\u001b[39mbuiltin_trap:\n\u001b[1;32m   2357\u001b[0m     args \u001b[38;5;241m=\u001b[39m (magic_arg_s, cell)\n\u001b[0;32m-> 2358\u001b[0m     result \u001b[38;5;241m=\u001b[39m \u001b[43mfn\u001b[49m\u001b[43m(\u001b[49m\u001b[38;5;241;43m*\u001b[39;49m\u001b[43margs\u001b[49m\u001b[43m,\u001b[49m\u001b[43m \u001b[49m\u001b[38;5;241;43m*\u001b[39;49m\u001b[38;5;241;43m*\u001b[39;49m\u001b[43mkwargs\u001b[49m\u001b[43m)\u001b[49m\n\u001b[1;32m   2359\u001b[0m \u001b[38;5;28;01mreturn\u001b[39;00m result\n",
      "File \u001b[0;32m<string>:199\u001b[0m, in \u001b[0;36mcheck\u001b[0;34m(self, nr, checks)\u001b[0m\n",
      "File \u001b[0;32m<string>:231\u001b[0m, in \u001b[0;36mcheck2\u001b[0;34m(self)\u001b[0m\n",
      "File \u001b[0;32m<string>:150\u001b[0m, in \u001b[0;36meval\u001b[0;34m(self, script, prelude)\u001b[0m\n",
      "File \u001b[0;32m/opt/jupyterhub/anaconda/lib/python3.9/site-packages/IPython/core/interactiveshell.py:2684\u001b[0m, in \u001b[0;36mInteractiveShell.ex\u001b[0;34m(self, cmd)\u001b[0m\n\u001b[1;32m   2682\u001b[0m \u001b[38;5;124;03m\"\"\"Execute a normal python statement in user namespace.\"\"\"\u001b[39;00m\n\u001b[1;32m   2683\u001b[0m \u001b[38;5;28;01mwith\u001b[39;00m \u001b[38;5;28mself\u001b[39m\u001b[38;5;241m.\u001b[39mbuiltin_trap:\n\u001b[0;32m-> 2684\u001b[0m     \u001b[43mexec\u001b[49m\u001b[43m(\u001b[49m\u001b[43mcmd\u001b[49m\u001b[43m,\u001b[49m\u001b[43m \u001b[49m\u001b[38;5;28;43mself\u001b[39;49m\u001b[38;5;241;43m.\u001b[39;49m\u001b[43muser_global_ns\u001b[49m\u001b[43m,\u001b[49m\u001b[43m \u001b[49m\u001b[38;5;28;43mself\u001b[39;49m\u001b[38;5;241;43m.\u001b[39;49m\u001b[43muser_ns\u001b[49m\u001b[43m)\u001b[49m\n",
      "File \u001b[0;32m<string>:1\u001b[0m, in \u001b[0;36m<module>\u001b[0;34m\u001b[0m\n",
      "\u001b[0;31mNameError\u001b[0m: name 'same_length' is not defined"
     ]
    }
   ],
   "source": [
    "%%check\n",
    "mandatory get_evens len\n",
    "same_length == True"
   ]
  },
  {
   "cell_type": "markdown",
   "metadata": {},
   "source": [
    "Note that the maximum of 1000 for the set numbers is chosen arbitrary. With every size of this set, we would have got the same result. The set `numbers` is always of equal size as the set `evens`.\n",
    "\n",
    "Programmatically we cannot extend this until infinity, but in mathematics we can. Thus a perculiar mathematical result is that there are as much (positive) numbers as there are positive even numbers!\n",
    "\n",
    "$|\\{1, 2, 3, ...\\}|=|\\{2, 4, 6, ...\\}|$"
   ]
  }
 ],
 "metadata": {
  "celltoolbar": "Create Assignment",
  "kernelspec": {
   "display_name": "prog",
   "language": "python",
   "name": "prog"
  },
  "language_info": {
   "codemirror_mode": {
    "name": "ipython",
    "version": 3
   },
   "file_extension": ".py",
   "mimetype": "text/x-python",
   "name": "python",
   "nbconvert_exporter": "python",
   "pygments_lexer": "ipython3",
   "version": "3.9.12"
  }
 },
 "nbformat": 4,
 "nbformat_minor": 4
}
