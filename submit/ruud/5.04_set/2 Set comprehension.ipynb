{
 "cells": [
  {
   "cell_type": "markdown",
   "metadata": {},
   "source": [
    "# Set comprehension\n",
    "\n",
    "A Set Comprehension works just like a list or tuple comprehension, you just place the comprehension in between curly braces. The only difference is that the result is a Set, and therefore the elements are unique and you can only use Set operators and functions on it."
   ]
  },
  {
   "cell_type": "code",
   "execution_count": 1,
   "metadata": {
    "execution": {
     "iopub.execute_input": "2022-08-22T14:10:02.857088Z",
     "iopub.status.busy": "2022-08-22T14:10:02.856466Z",
     "iopub.status.idle": "2022-08-22T14:10:02.869376Z",
     "shell.execute_reply": "2022-08-22T14:10:02.868245Z"
    }
   },
   "outputs": [],
   "source": [
    "a = [ 3, 2, 3, 5, 2 ]"
   ]
  },
  {
   "cell_type": "code",
   "execution_count": 2,
   "metadata": {
    "execution": {
     "iopub.execute_input": "2022-08-22T14:10:02.873447Z",
     "iopub.status.busy": "2022-08-22T14:10:02.873100Z",
     "iopub.status.idle": "2022-08-22T14:10:02.882991Z",
     "shell.execute_reply": "2022-08-22T14:10:02.882294Z"
    }
   },
   "outputs": [
    {
     "data": {
      "text/plain": [
       "{2, 3}"
      ]
     },
     "execution_count": 2,
     "metadata": {},
     "output_type": "execute_result"
    }
   ],
   "source": [
    "{ v for v in a if v < 4 }"
   ]
  },
  {
   "cell_type": "markdown",
   "metadata": {},
   "source": [
    "# Assignments"
   ]
  },
  {
   "cell_type": "markdown",
   "metadata": {},
   "source": [
    "#### What is the result of the following comprehension?"
   ]
  },
  {
   "cell_type": "markdown",
   "metadata": {},
   "source": [
    "```\n",
    "len({ c for c in 'aardvark' })\n",
    "```"
   ]
  },
  {
   "cell_type": "code",
   "execution_count": 3,
   "metadata": {
    "execution": {
     "iopub.execute_input": "2022-08-22T14:10:02.886998Z",
     "iopub.status.busy": "2022-08-22T14:10:02.886751Z",
     "iopub.status.idle": "2022-08-22T14:10:02.902357Z",
     "shell.execute_reply": "2022-08-22T14:10:02.901543Z"
    },
    "nbgrader": {
     "grade": false,
     "grade_id": "cell-c871794c9a30045c",
     "locked": true,
     "schema_version": 3,
     "solution": false,
     "task": false
    }
   },
   "outputs": [
    {
     "data": {
      "application/vnd.jupyter.widget-view+json": {
       "model_id": "8a16dcc4c1de4494b200cc7c6635bf53",
       "version_major": 2,
       "version_minor": 0
      },
      "text/plain": [
       "IntSlider(value=1, max=10, min=1)"
      ]
     },
     "metadata": {},
     "output_type": "display_data"
    }
   ],
   "source": [
    "%%slider set_comprehension1\n",
    "1 10"
   ]
  },
  {
   "cell_type": "code",
   "execution_count": 4,
   "metadata": {
    "deletable": false,
    "editable": false,
    "execution": {
     "iopub.execute_input": "2022-08-22T14:10:02.905996Z",
     "iopub.status.busy": "2022-08-22T14:10:02.905693Z",
     "iopub.status.idle": "2022-08-22T14:10:02.911744Z",
     "shell.execute_reply": "2022-08-22T14:10:02.910830Z"
    }
   },
   "outputs": [
    {
     "data": {
      "text/html": [
       "<table><tr style=\"background: red; color: white\"><td style=\"text-align:left\">That is the wrong answer</td></tr></table>"
      ],
      "text/plain": [
       "<IPython.core.display.HTML object>"
      ]
     },
     "metadata": {
      "text/html": {
       "username": "ruud"
      }
     },
     "output_type": "display_data"
    }
   ],
   "source": [
    "%%check\n",
    "result == 3853743770900693"
   ]
  },
  {
   "cell_type": "markdown",
   "metadata": {},
   "source": [
    "```\n",
    "len([ c for c in 'aardvark' ])\n",
    "```"
   ]
  },
  {
   "cell_type": "code",
   "execution_count": 5,
   "metadata": {
    "execution": {
     "iopub.execute_input": "2022-08-22T14:10:02.932966Z",
     "iopub.status.busy": "2022-08-22T14:10:02.932517Z",
     "iopub.status.idle": "2022-08-22T14:10:02.951043Z",
     "shell.execute_reply": "2022-08-22T14:10:02.950065Z"
    },
    "nbgrader": {
     "grade": false,
     "grade_id": "cell-1e7a3cb272b7555e",
     "locked": true,
     "schema_version": 3,
     "solution": false,
     "task": false
    }
   },
   "outputs": [
    {
     "data": {
      "application/vnd.jupyter.widget-view+json": {
       "model_id": "1044e040469a47dbbf414b07ccc8b72a",
       "version_major": 2,
       "version_minor": 0
      },
      "text/plain": [
       "IntSlider(value=1, max=10, min=1)"
      ]
     },
     "metadata": {},
     "output_type": "display_data"
    }
   ],
   "source": [
    "%%slider set_comprehension2\n",
    "1 10"
   ]
  },
  {
   "cell_type": "code",
   "execution_count": 6,
   "metadata": {
    "deletable": false,
    "editable": false,
    "execution": {
     "iopub.execute_input": "2022-08-22T14:10:02.956355Z",
     "iopub.status.busy": "2022-08-22T14:10:02.956001Z",
     "iopub.status.idle": "2022-08-22T14:10:02.961992Z",
     "shell.execute_reply": "2022-08-22T14:10:02.961217Z"
    }
   },
   "outputs": [
    {
     "data": {
      "text/html": [
       "<table><tr style=\"background: red; color: white\"><td style=\"text-align:left\">That is the wrong answer</td></tr></table>"
      ],
      "text/plain": [
       "<IPython.core.display.HTML object>"
      ]
     },
     "metadata": {
      "text/html": {
       "username": "ruud"
      }
     },
     "output_type": "display_data"
    }
   ],
   "source": [
    "%%check\n",
    "result == 1598091001013101"
   ]
  },
  {
   "cell_type": "markdown",
   "metadata": {},
   "source": [
    "```\n",
    "sum( { c for c in [3, 2, 3, 4 ] } )\n",
    "```"
   ]
  },
  {
   "cell_type": "code",
   "execution_count": 7,
   "metadata": {
    "execution": {
     "iopub.execute_input": "2022-08-22T14:10:02.965414Z",
     "iopub.status.busy": "2022-08-22T14:10:02.965032Z",
     "iopub.status.idle": "2022-08-22T14:10:02.976479Z",
     "shell.execute_reply": "2022-08-22T14:10:02.975747Z"
    },
    "nbgrader": {
     "grade": false,
     "grade_id": "cell-e7e45a2145ec795f",
     "locked": true,
     "schema_version": 3,
     "solution": false,
     "task": false
    }
   },
   "outputs": [
    {
     "data": {
      "application/vnd.jupyter.widget-view+json": {
       "model_id": "4b50d3f56b214414a9f4fced24830414",
       "version_major": 2,
       "version_minor": 0
      },
      "text/plain": [
       "IntSlider(value=1, max=20, min=1)"
      ]
     },
     "metadata": {},
     "output_type": "display_data"
    }
   ],
   "source": [
    "%%slider set_comprehension3\n",
    "1 20"
   ]
  },
  {
   "cell_type": "code",
   "execution_count": 8,
   "metadata": {
    "deletable": false,
    "editable": false,
    "execution": {
     "iopub.execute_input": "2022-08-22T14:10:02.979243Z",
     "iopub.status.busy": "2022-08-22T14:10:02.978942Z",
     "iopub.status.idle": "2022-08-22T14:10:02.984307Z",
     "shell.execute_reply": "2022-08-22T14:10:02.983189Z"
    }
   },
   "outputs": [
    {
     "data": {
      "text/html": [
       "<table><tr style=\"background: red; color: white\"><td style=\"text-align:left\">That is the wrong answer</td></tr></table>"
      ],
      "text/plain": [
       "<IPython.core.display.HTML object>"
      ]
     },
     "metadata": {
      "text/html": {
       "username": "ruud"
      }
     },
     "output_type": "display_data"
    }
   ],
   "source": [
    "%%check\n",
    "result == 9119957797678374"
   ]
  },
  {
   "cell_type": "markdown",
   "metadata": {},
   "source": [
    "#### Count how many unique letters in 'word' are not vowels.\n",
    "\n",
    "Hint: unique means that duplicate consonants (opposite of a vowel) will only count as 1."
   ]
  },
  {
   "cell_type": "code",
   "execution_count": 9,
   "metadata": {
    "execution": {
     "iopub.execute_input": "2022-08-22T14:10:02.988227Z",
     "iopub.status.busy": "2022-08-22T14:10:02.987646Z",
     "iopub.status.idle": "2022-08-22T14:10:02.993306Z",
     "shell.execute_reply": "2022-08-22T14:10:02.992248Z"
    }
   },
   "outputs": [],
   "source": [
    "word = 'dazzling'"
   ]
  },
  {
   "cell_type": "code",
   "execution_count": 10,
   "metadata": {
    "deletable": false,
    "editable": true,
    "execution": {
     "iopub.execute_input": "2022-08-22T14:10:02.996912Z",
     "iopub.status.busy": "2022-08-22T14:10:02.996391Z",
     "iopub.status.idle": "2022-08-22T14:10:03.002223Z",
     "shell.execute_reply": "2022-08-22T14:10:03.001065Z"
    }
   },
   "outputs": [],
   "source": [
    "%%assignment\n",
    "### ENTER YOUR CODE HERE"
   ]
  },
  {
   "cell_type": "code",
   "execution_count": 11,
   "metadata": {
    "deletable": false,
    "editable": false,
    "execution": {
     "iopub.execute_input": "2022-08-22T14:10:03.005593Z",
     "iopub.status.busy": "2022-08-22T14:10:03.005093Z",
     "iopub.status.idle": "2022-08-22T14:10:03.012236Z",
     "shell.execute_reply": "2022-08-22T14:10:03.011246Z"
    }
   },
   "outputs": [
    {
     "data": {
      "text/html": [
       "<table><tr style=\"background: red; color: white\"><td style=\"text-align:left\">The result should be 5 for testcase word = 'dazzling' </td></tr></table>"
      ],
      "text/plain": [
       "<IPython.core.display.HTML object>"
      ]
     },
     "metadata": {
      "text/html": {
       "username": "ruud"
      }
     },
     "output_type": "display_data"
    }
   ],
   "source": [
    "%%check\n",
    "word = 'dazzling'\n",
    "result == 5\n",
    "word = 'parallel'\n",
    "result == 3"
   ]
  },
  {
   "cell_type": "markdown",
   "metadata": {},
   "source": [
    "#### Count how many students have ever received a grade higher than 7.\n",
    "\n",
    "In `grades`, each tuples has the (unique) studentname, course and grade in that order.\n",
    "\n",
    "Hint: If John recieved more than one grade > 7, he should still count as one student."
   ]
  },
  {
   "cell_type": "code",
   "execution_count": 12,
   "metadata": {
    "execution": {
     "iopub.execute_input": "2022-08-22T14:10:03.015767Z",
     "iopub.status.busy": "2022-08-22T14:10:03.015372Z",
     "iopub.status.idle": "2022-08-22T14:10:03.020539Z",
     "shell.execute_reply": "2022-08-22T14:10:03.019459Z"
    }
   },
   "outputs": [],
   "source": [
    "grades = [('John', 'PROG', 8), ('John', 'ALGEBRA', 9), ('Lucy', 'ALGEBRA', 6), ('Lucy', 'INPRO', 10), ('Tim', 'INPRO', 7)]"
   ]
  },
  {
   "cell_type": "code",
   "execution_count": 13,
   "metadata": {
    "deletable": false,
    "editable": true,
    "execution": {
     "iopub.execute_input": "2022-08-22T14:10:03.023725Z",
     "iopub.status.busy": "2022-08-22T14:10:03.023414Z",
     "iopub.status.idle": "2022-08-22T14:10:03.027961Z",
     "shell.execute_reply": "2022-08-22T14:10:03.026999Z"
    }
   },
   "outputs": [],
   "source": [
    "%%assignment\n",
    "### ENTER YOUR CODE HERE"
   ]
  },
  {
   "cell_type": "code",
   "execution_count": 14,
   "metadata": {
    "deletable": false,
    "editable": false,
    "execution": {
     "iopub.execute_input": "2022-08-22T14:10:03.031147Z",
     "iopub.status.busy": "2022-08-22T14:10:03.030795Z",
     "iopub.status.idle": "2022-08-22T14:10:03.037179Z",
     "shell.execute_reply": "2022-08-22T14:10:03.036226Z"
    }
   },
   "outputs": [
    {
     "data": {
      "text/html": [
       "<table><tr style=\"background: red; color: white\"><td style=\"text-align:left\">The result should be 1 for testcase grades = [(1, 1, 8), (1, 1, 7), (2, 1, 6), (2, 1, 5)] </td></tr></table>"
      ],
      "text/plain": [
       "<IPython.core.display.HTML object>"
      ]
     },
     "metadata": {
      "text/html": {
       "username": "ruud"
      }
     },
     "output_type": "display_data"
    }
   ],
   "source": [
    "%%check\n",
    "grades = [(1, 1, 8), (1, 1, 7), (2, 1, 6), (2, 1, 5)]\n",
    "result == 1\n",
    "grades = [('John', 'INPRO', 8), ('John', 'ALGEBRA', 9), ('Lucy', 'ALGEBRA', 6), ('Lucy', 'INPRO', 10), ('Tim', 'INPRO', 7)]\n",
    "result == 2"
   ]
  },
  {
   "cell_type": "markdown",
   "metadata": {},
   "source": [
    "#### Count how many students have NEVER received a grade higher than 7.\n",
    "\n",
    "Ok, this may be hard if you have never seen this before. The easiest way to solve this is in three steps:\n",
    "- a = set of all names\n",
    "- b = set of all names of the students that did receive a grade higher than 7 (previous assignment)\n",
    "- the answer is then a comprehension that iterates over the names `a` keeping only those that are `not in b`"
   ]
  },
  {
   "cell_type": "code",
   "execution_count": 15,
   "metadata": {
    "execution": {
     "iopub.execute_input": "2022-08-22T14:10:03.040153Z",
     "iopub.status.busy": "2022-08-22T14:10:03.039809Z",
     "iopub.status.idle": "2022-08-22T14:10:03.044360Z",
     "shell.execute_reply": "2022-08-22T14:10:03.043586Z"
    }
   },
   "outputs": [],
   "source": [
    "grades = [('John', 'INPRO', 8), ('John', 'ALGEBRA', 9), ('Lucy', 'ALGEBRA', 6), ('Lucy', 'INPRO', 10), ('Tim', 'INPRO', 7)]"
   ]
  },
  {
   "cell_type": "code",
   "execution_count": 16,
   "metadata": {
    "deletable": false,
    "editable": true,
    "execution": {
     "iopub.execute_input": "2022-08-22T14:10:03.047281Z",
     "iopub.status.busy": "2022-08-22T14:10:03.046932Z",
     "iopub.status.idle": "2022-08-22T14:10:03.051188Z",
     "shell.execute_reply": "2022-08-22T14:10:03.050415Z"
    }
   },
   "outputs": [],
   "source": [
    "%%assignment\n",
    "### ENTER YOUR CODE HERE"
   ]
  },
  {
   "cell_type": "code",
   "execution_count": 17,
   "metadata": {
    "deletable": false,
    "editable": false,
    "execution": {
     "iopub.execute_input": "2022-08-22T14:10:03.053772Z",
     "iopub.status.busy": "2022-08-22T14:10:03.053471Z",
     "iopub.status.idle": "2022-08-22T14:10:03.059492Z",
     "shell.execute_reply": "2022-08-22T14:10:03.058848Z"
    }
   },
   "outputs": [
    {
     "data": {
      "text/html": [
       "<table><tr style=\"background: red; color: white\"><td style=\"text-align:left\">The result should be 1 for testcase grades = [('John', 'INPRO', 8), ('John', 'ALGEBRA', 9), ('Lucy', 'ALGEBRA', 6), ('Lucy', 'INPRO', 10), ('Tim', 'INPRO', 7)] </td></tr></table>"
      ],
      "text/plain": [
       "<IPython.core.display.HTML object>"
      ]
     },
     "metadata": {
      "text/html": {
       "username": "ruud"
      }
     },
     "output_type": "display_data"
    }
   ],
   "source": [
    "%%check\n",
    "grades = [('John', 'INPRO', 8), ('John', 'ALGEBRA', 9), ('Lucy', 'ALGEBRA', 6), ('Lucy', 'INPRO', 10), ('Tim', 'INPRO', 7)]\n",
    "result == 1\n",
    "grades = [('John', 'INPRO', 5), ('Achmed', 'ALGEBRA', 8), ('Lucy', 'ALGEBRA', 6), ('Lucy', 'INPRO', 10), ('Tim', 'INPRO', 7)]\n",
    "result == 2"
   ]
  }
 ],
 "metadata": {
  "celltoolbar": "Create Assignment",
  "kernelspec": {
   "display_name": "prog",
   "language": "python",
   "name": "prog"
  },
  "language_info": {
   "codemirror_mode": {
    "name": "ipython",
    "version": 3
   },
   "file_extension": ".py",
   "mimetype": "text/x-python",
   "name": "python",
   "nbconvert_exporter": "python",
   "pygments_lexer": "ipython3",
   "version": "3.9.12"
  },
  "widgets": {
   "application/vnd.jupyter.widget-state+json": {
    "state": {
     "083cdc9acdae4c9aa6efe157917bba6a": {
      "model_module": "@jupyter-widgets/controls",
      "model_module_version": "1.5.0",
      "model_name": "SliderStyleModel",
      "state": {
       "_model_module": "@jupyter-widgets/controls",
       "_model_module_version": "1.5.0",
       "_model_name": "SliderStyleModel",
       "_view_count": null,
       "_view_module": "@jupyter-widgets/base",
       "_view_module_version": "1.2.0",
       "_view_name": "StyleView",
       "description_width": "",
       "handle_color": null
      }
     },
     "1044e040469a47dbbf414b07ccc8b72a": {
      "model_module": "@jupyter-widgets/controls",
      "model_module_version": "1.5.0",
      "model_name": "IntSliderModel",
      "state": {
       "_dom_classes": [],
       "_model_module": "@jupyter-widgets/controls",
       "_model_module_version": "1.5.0",
       "_model_name": "IntSliderModel",
       "_view_count": null,
       "_view_module": "@jupyter-widgets/controls",
       "_view_module_version": "1.5.0",
       "_view_name": "IntSliderView",
       "continuous_update": true,
       "description": "",
       "description_tooltip": null,
       "disabled": false,
       "layout": "IPY_MODEL_523706e0ae844abcb9584afa836dc90d",
       "max": 10,
       "min": 1,
       "orientation": "horizontal",
       "readout": true,
       "readout_format": "d",
       "step": 1,
       "style": "IPY_MODEL_4a55aee6687a45849bd89e3d0628bb8f",
       "value": 1
      }
     },
     "4a55aee6687a45849bd89e3d0628bb8f": {
      "model_module": "@jupyter-widgets/controls",
      "model_module_version": "1.5.0",
      "model_name": "SliderStyleModel",
      "state": {
       "_model_module": "@jupyter-widgets/controls",
       "_model_module_version": "1.5.0",
       "_model_name": "SliderStyleModel",
       "_view_count": null,
       "_view_module": "@jupyter-widgets/base",
       "_view_module_version": "1.2.0",
       "_view_name": "StyleView",
       "description_width": "",
       "handle_color": null
      }
     },
     "4b50d3f56b214414a9f4fced24830414": {
      "model_module": "@jupyter-widgets/controls",
      "model_module_version": "1.5.0",
      "model_name": "IntSliderModel",
      "state": {
       "_dom_classes": [],
       "_model_module": "@jupyter-widgets/controls",
       "_model_module_version": "1.5.0",
       "_model_name": "IntSliderModel",
       "_view_count": null,
       "_view_module": "@jupyter-widgets/controls",
       "_view_module_version": "1.5.0",
       "_view_name": "IntSliderView",
       "continuous_update": true,
       "description": "",
       "description_tooltip": null,
       "disabled": false,
       "layout": "IPY_MODEL_5d955b17fffc40e9aee7bc0e5852c6d8",
       "max": 20,
       "min": 1,
       "orientation": "horizontal",
       "readout": true,
       "readout_format": "d",
       "step": 1,
       "style": "IPY_MODEL_93bfaa98c02245a79fb5fb121afc45c0",
       "value": 1
      }
     },
     "523706e0ae844abcb9584afa836dc90d": {
      "model_module": "@jupyter-widgets/base",
      "model_module_version": "1.2.0",
      "model_name": "LayoutModel",
      "state": {
       "_model_module": "@jupyter-widgets/base",
       "_model_module_version": "1.2.0",
       "_model_name": "LayoutModel",
       "_view_count": null,
       "_view_module": "@jupyter-widgets/base",
       "_view_module_version": "1.2.0",
       "_view_name": "LayoutView",
       "align_content": null,
       "align_items": null,
       "align_self": null,
       "border": null,
       "bottom": null,
       "display": null,
       "flex": null,
       "flex_flow": null,
       "grid_area": null,
       "grid_auto_columns": null,
       "grid_auto_flow": null,
       "grid_auto_rows": null,
       "grid_column": null,
       "grid_gap": null,
       "grid_row": null,
       "grid_template_areas": null,
       "grid_template_columns": null,
       "grid_template_rows": null,
       "height": null,
       "justify_content": null,
       "justify_items": null,
       "left": null,
       "margin": null,
       "max_height": null,
       "max_width": null,
       "min_height": null,
       "min_width": null,
       "object_fit": null,
       "object_position": null,
       "order": null,
       "overflow": null,
       "overflow_x": null,
       "overflow_y": null,
       "padding": null,
       "right": null,
       "top": null,
       "visibility": null,
       "width": null
      }
     },
     "5d955b17fffc40e9aee7bc0e5852c6d8": {
      "model_module": "@jupyter-widgets/base",
      "model_module_version": "1.2.0",
      "model_name": "LayoutModel",
      "state": {
       "_model_module": "@jupyter-widgets/base",
       "_model_module_version": "1.2.0",
       "_model_name": "LayoutModel",
       "_view_count": null,
       "_view_module": "@jupyter-widgets/base",
       "_view_module_version": "1.2.0",
       "_view_name": "LayoutView",
       "align_content": null,
       "align_items": null,
       "align_self": null,
       "border": null,
       "bottom": null,
       "display": null,
       "flex": null,
       "flex_flow": null,
       "grid_area": null,
       "grid_auto_columns": null,
       "grid_auto_flow": null,
       "grid_auto_rows": null,
       "grid_column": null,
       "grid_gap": null,
       "grid_row": null,
       "grid_template_areas": null,
       "grid_template_columns": null,
       "grid_template_rows": null,
       "height": null,
       "justify_content": null,
       "justify_items": null,
       "left": null,
       "margin": null,
       "max_height": null,
       "max_width": null,
       "min_height": null,
       "min_width": null,
       "object_fit": null,
       "object_position": null,
       "order": null,
       "overflow": null,
       "overflow_x": null,
       "overflow_y": null,
       "padding": null,
       "right": null,
       "top": null,
       "visibility": null,
       "width": null
      }
     },
     "8a16dcc4c1de4494b200cc7c6635bf53": {
      "model_module": "@jupyter-widgets/controls",
      "model_module_version": "1.5.0",
      "model_name": "IntSliderModel",
      "state": {
       "_dom_classes": [],
       "_model_module": "@jupyter-widgets/controls",
       "_model_module_version": "1.5.0",
       "_model_name": "IntSliderModel",
       "_view_count": null,
       "_view_module": "@jupyter-widgets/controls",
       "_view_module_version": "1.5.0",
       "_view_name": "IntSliderView",
       "continuous_update": true,
       "description": "",
       "description_tooltip": null,
       "disabled": false,
       "layout": "IPY_MODEL_b86991d43da848c0841092a4e89c973b",
       "max": 10,
       "min": 1,
       "orientation": "horizontal",
       "readout": true,
       "readout_format": "d",
       "step": 1,
       "style": "IPY_MODEL_083cdc9acdae4c9aa6efe157917bba6a",
       "value": 1
      }
     },
     "93bfaa98c02245a79fb5fb121afc45c0": {
      "model_module": "@jupyter-widgets/controls",
      "model_module_version": "1.5.0",
      "model_name": "SliderStyleModel",
      "state": {
       "_model_module": "@jupyter-widgets/controls",
       "_model_module_version": "1.5.0",
       "_model_name": "SliderStyleModel",
       "_view_count": null,
       "_view_module": "@jupyter-widgets/base",
       "_view_module_version": "1.2.0",
       "_view_name": "StyleView",
       "description_width": "",
       "handle_color": null
      }
     },
     "b86991d43da848c0841092a4e89c973b": {
      "model_module": "@jupyter-widgets/base",
      "model_module_version": "1.2.0",
      "model_name": "LayoutModel",
      "state": {
       "_model_module": "@jupyter-widgets/base",
       "_model_module_version": "1.2.0",
       "_model_name": "LayoutModel",
       "_view_count": null,
       "_view_module": "@jupyter-widgets/base",
       "_view_module_version": "1.2.0",
       "_view_name": "LayoutView",
       "align_content": null,
       "align_items": null,
       "align_self": null,
       "border": null,
       "bottom": null,
       "display": null,
       "flex": null,
       "flex_flow": null,
       "grid_area": null,
       "grid_auto_columns": null,
       "grid_auto_flow": null,
       "grid_auto_rows": null,
       "grid_column": null,
       "grid_gap": null,
       "grid_row": null,
       "grid_template_areas": null,
       "grid_template_columns": null,
       "grid_template_rows": null,
       "height": null,
       "justify_content": null,
       "justify_items": null,
       "left": null,
       "margin": null,
       "max_height": null,
       "max_width": null,
       "min_height": null,
       "min_width": null,
       "object_fit": null,
       "object_position": null,
       "order": null,
       "overflow": null,
       "overflow_x": null,
       "overflow_y": null,
       "padding": null,
       "right": null,
       "top": null,
       "visibility": null,
       "width": null
      }
     }
    },
    "version_major": 2,
    "version_minor": 0
   }
  }
 },
 "nbformat": 4,
 "nbformat_minor": 4
}
