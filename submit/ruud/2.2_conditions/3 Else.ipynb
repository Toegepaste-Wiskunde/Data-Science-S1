{
 "cells": [
  {
   "cell_type": "markdown",
   "metadata": {},
   "source": [
    "# Else\n",
    "\n",
    "We can extend an if-statement with an `else`-clause:\n",
    "\n",
    "```\n",
    "if condition:\n",
    "    code block\n",
    "    with conditional statements\n",
    "else:\n",
    "    code block\n",
    "    with statements that are executed if the\n",
    "    condition is not met\n",
    "this is after the if-else\n",
    "so these lines will be executed regardless of the condition\n",
    "but after the if or else code block\n",
    "```\n",
    "\n",
    "Semantically this is almost the same as:\n",
    "```\n",
    "if condition:\n",
    "    code block\n",
    "    with conditional statements\n",
    "if not condition:\n",
    "    code block\n",
    "    with statements that are executed if the\n",
    "    condition is not met\n",
    "this is after the if-else\n",
    "so these lines will be executed regardless of the condition\n",
    "but after the if or else code block\n",
    "```\n",
    "\n",
    "Except when in the second example, the if conditional statements affect the outcome of the condition.\n"
   ]
  },
  {
   "cell_type": "markdown",
   "metadata": {},
   "source": [
    "# Examples"
   ]
  },
  {
   "cell_type": "markdown",
   "metadata": {},
   "source": [
    "Try the example here, with different values for `a`"
   ]
  },
  {
   "cell_type": "code",
   "execution_count": 1,
   "metadata": {
    "execution": {
     "iopub.execute_input": "2022-08-22T14:00:03.049302Z",
     "iopub.status.busy": "2022-08-22T14:00:03.048326Z",
     "iopub.status.idle": "2022-08-22T14:00:03.068626Z",
     "shell.execute_reply": "2022-08-22T14:00:03.067964Z"
    }
   },
   "outputs": [
    {
     "data": {
      "text/plain": [
       "'a=9 b=21'"
      ]
     },
     "execution_count": 1,
     "metadata": {},
     "output_type": "execute_result"
    }
   ],
   "source": [
    "a = 10\n",
    "b = 20\n",
    "if a > 10:\n",
    "    a = a + 10\n",
    "    b = b - 5\n",
    "else:\n",
    "    a = a - 1\n",
    "    b = b + 1\n",
    "f'a={a} b={b}'"
   ]
  },
  {
   "cell_type": "markdown",
   "metadata": {},
   "source": [
    "# Assignments"
   ]
  },
  {
   "cell_type": "markdown",
   "metadata": {},
   "source": [
    "#### Write code to increase the speed by 5 if the number of `road_users` < 5"
   ]
  },
  {
   "cell_type": "code",
   "execution_count": 2,
   "metadata": {
    "execution": {
     "iopub.execute_input": "2022-08-22T14:00:03.074141Z",
     "iopub.status.busy": "2022-08-22T14:00:03.073893Z",
     "iopub.status.idle": "2022-08-22T14:00:03.077484Z",
     "shell.execute_reply": "2022-08-22T14:00:03.076777Z"
    }
   },
   "outputs": [],
   "source": [
    "speed = 50\n",
    "road_users = 3"
   ]
  },
  {
   "cell_type": "code",
   "execution_count": 3,
   "metadata": {
    "deletable": false,
    "editable": true,
    "execution": {
     "iopub.execute_input": "2022-08-22T14:00:03.080448Z",
     "iopub.status.busy": "2022-08-22T14:00:03.080181Z",
     "iopub.status.idle": "2022-08-22T14:00:03.084384Z",
     "shell.execute_reply": "2022-08-22T14:00:03.083689Z"
    }
   },
   "outputs": [],
   "source": [
    "%%assignment\n",
    "### ENTER YOUR CODE HERE"
   ]
  },
  {
   "cell_type": "code",
   "execution_count": 4,
   "metadata": {
    "deletable": false,
    "editable": false,
    "execution": {
     "iopub.execute_input": "2022-08-22T14:00:03.087392Z",
     "iopub.status.busy": "2022-08-22T14:00:03.087104Z",
     "iopub.status.idle": "2022-08-22T14:00:03.092883Z",
     "shell.execute_reply": "2022-08-22T14:00:03.091969Z"
    }
   },
   "outputs": [
    {
     "data": {
      "text/html": [
       "<table><tr style=\"background: red; color: white\"><td style=\"text-align:left\">The result for speed should be 55 for testcase speed, road_users = 50, 4 </td></tr></table>"
      ],
      "text/plain": [
       "<IPython.core.display.HTML object>"
      ]
     },
     "metadata": {
      "text/html": {
       "username": "ruud"
      }
     },
     "output_type": "display_data"
    }
   ],
   "source": [
    "%%check\n",
    "speed, road_users = 50, 4\n",
    "speed == 55\n",
    "speed, road_users = 40, 5\n",
    "speed == 40"
   ]
  },
  {
   "cell_type": "markdown",
   "metadata": {},
   "source": [
    "#### Increase the speed by 5 if the number of `road_users` < 5 or otherwise decrease the speed by 1"
   ]
  },
  {
   "cell_type": "code",
   "execution_count": 5,
   "metadata": {
    "execution": {
     "iopub.execute_input": "2022-08-22T14:00:03.095604Z",
     "iopub.status.busy": "2022-08-22T14:00:03.095307Z",
     "iopub.status.idle": "2022-08-22T14:00:03.099283Z",
     "shell.execute_reply": "2022-08-22T14:00:03.098329Z"
    }
   },
   "outputs": [],
   "source": [
    "speed = 50\n",
    "road_users = 3"
   ]
  },
  {
   "cell_type": "code",
   "execution_count": 6,
   "metadata": {
    "deletable": false,
    "editable": true,
    "execution": {
     "iopub.execute_input": "2022-08-22T14:00:03.101700Z",
     "iopub.status.busy": "2022-08-22T14:00:03.101412Z",
     "iopub.status.idle": "2022-08-22T14:00:03.105460Z",
     "shell.execute_reply": "2022-08-22T14:00:03.104741Z"
    }
   },
   "outputs": [],
   "source": [
    "%%assignment\n",
    "### ENTER YOUR CODE HERE"
   ]
  },
  {
   "cell_type": "code",
   "execution_count": 7,
   "metadata": {
    "deletable": false,
    "editable": false,
    "execution": {
     "iopub.execute_input": "2022-08-22T14:00:03.133082Z",
     "iopub.status.busy": "2022-08-22T14:00:03.132636Z",
     "iopub.status.idle": "2022-08-22T14:00:03.141694Z",
     "shell.execute_reply": "2022-08-22T14:00:03.140490Z"
    }
   },
   "outputs": [
    {
     "data": {
      "text/html": [
       "<table><tr style=\"background: red; color: white\"><td style=\"text-align:left\">The result for speed should be 55 for testcase speed, road_users = 50, 4 </td></tr></table>"
      ],
      "text/plain": [
       "<IPython.core.display.HTML object>"
      ]
     },
     "metadata": {
      "text/html": {
       "username": "ruud"
      }
     },
     "output_type": "display_data"
    }
   ],
   "source": [
    "%%check\n",
    "speed, road_users = 50, 4\n",
    "speed == 55\n",
    "speed, road_users = 40, 5\n",
    "speed == 39"
   ]
  },
  {
   "cell_type": "markdown",
   "metadata": {},
   "source": [
    "#### The variable `price` specifies how much one drink costs. The normal price is \\$3. However, John should receive a special discount. When he buys more than 4 `drinks`, they are \\$2 each. Otherwise he pays the normal fee. Compute the `bill` (which must be the name of the variable) on the order by multiplying `price` with the number of drinks (specified by `drinks`)."
   ]
  },
  {
   "cell_type": "code",
   "execution_count": 8,
   "metadata": {
    "execution": {
     "iopub.execute_input": "2022-08-22T14:00:03.147367Z",
     "iopub.status.busy": "2022-08-22T14:00:03.146787Z",
     "iopub.status.idle": "2022-08-22T14:00:03.152745Z",
     "shell.execute_reply": "2022-08-22T14:00:03.151376Z"
    }
   },
   "outputs": [],
   "source": [
    "name = 'John'\n",
    "drinks = 5"
   ]
  },
  {
   "cell_type": "code",
   "execution_count": 9,
   "metadata": {
    "deletable": false,
    "editable": true,
    "execution": {
     "iopub.execute_input": "2022-08-22T14:00:03.156744Z",
     "iopub.status.busy": "2022-08-22T14:00:03.156290Z",
     "iopub.status.idle": "2022-08-22T14:00:03.161831Z",
     "shell.execute_reply": "2022-08-22T14:00:03.160588Z"
    }
   },
   "outputs": [],
   "source": [
    "%%assignment\n",
    "### ENTER YOUR CODE HERE"
   ]
  },
  {
   "cell_type": "code",
   "execution_count": 10,
   "metadata": {
    "deletable": false,
    "editable": false,
    "execution": {
     "iopub.execute_input": "2022-08-22T14:00:03.165535Z",
     "iopub.status.busy": "2022-08-22T14:00:03.165078Z",
     "iopub.status.idle": "2022-08-22T14:00:03.542679Z",
     "shell.execute_reply": "2022-08-22T14:00:03.542012Z"
    }
   },
   "outputs": [
    {
     "ename": "NameError",
     "evalue": "name 'bill' is not defined",
     "output_type": "error",
     "traceback": [
      "\u001b[0;31m---------------------------------------------------------------------------\u001b[0m",
      "\u001b[0;31mNameError\u001b[0m                                 Traceback (most recent call last)",
      "Input \u001b[0;32mIn [10]\u001b[0m, in \u001b[0;36m<cell line: 1>\u001b[0;34m()\u001b[0m\n\u001b[0;32m----> 1\u001b[0m \u001b[43mget_ipython\u001b[49m\u001b[43m(\u001b[49m\u001b[43m)\u001b[49m\u001b[38;5;241;43m.\u001b[39;49m\u001b[43mrun_cell_magic\u001b[49m\u001b[43m(\u001b[49m\u001b[38;5;124;43m'\u001b[39;49m\u001b[38;5;124;43mcheck\u001b[39;49m\u001b[38;5;124;43m'\u001b[39;49m\u001b[43m,\u001b[49m\u001b[43m \u001b[49m\u001b[38;5;124;43m'\u001b[39;49m\u001b[38;5;124;43m'\u001b[39;49m\u001b[43m,\u001b[49m\u001b[43m \u001b[49m\u001b[38;5;124;43m\"\u001b[39;49m\u001b[38;5;124;43mname, drinks=\u001b[39;49m\u001b[38;5;124;43m'\u001b[39;49m\u001b[38;5;124;43mJohn\u001b[39;49m\u001b[38;5;124;43m'\u001b[39;49m\u001b[38;5;124;43m, 5\u001b[39;49m\u001b[38;5;130;43;01m\\n\u001b[39;49;00m\u001b[38;5;124;43mbill == 10\u001b[39;49m\u001b[38;5;130;43;01m\\n\u001b[39;49;00m\u001b[38;5;124;43mname, drinks=\u001b[39;49m\u001b[38;5;124;43m'\u001b[39;49m\u001b[38;5;124;43mJohn\u001b[39;49m\u001b[38;5;124;43m'\u001b[39;49m\u001b[38;5;124;43m, 4\u001b[39;49m\u001b[38;5;130;43;01m\\n\u001b[39;49;00m\u001b[38;5;124;43mbill == 12\u001b[39;49m\u001b[38;5;130;43;01m\\n\u001b[39;49;00m\u001b[38;5;124;43mname, drinks=\u001b[39;49m\u001b[38;5;124;43m'\u001b[39;49m\u001b[38;5;124;43mJack\u001b[39;49m\u001b[38;5;124;43m'\u001b[39;49m\u001b[38;5;124;43m, 5\u001b[39;49m\u001b[38;5;130;43;01m\\n\u001b[39;49;00m\u001b[38;5;124;43mbill == 15\u001b[39;49m\u001b[38;5;130;43;01m\\n\u001b[39;49;00m\u001b[38;5;124;43m\"\u001b[39;49m\u001b[43m)\u001b[49m\n",
      "File \u001b[0;32m/opt/jupyterhub/anaconda/lib/python3.9/site-packages/IPython/core/interactiveshell.py:2358\u001b[0m, in \u001b[0;36mInteractiveShell.run_cell_magic\u001b[0;34m(self, magic_name, line, cell)\u001b[0m\n\u001b[1;32m   2356\u001b[0m \u001b[38;5;28;01mwith\u001b[39;00m \u001b[38;5;28mself\u001b[39m\u001b[38;5;241m.\u001b[39mbuiltin_trap:\n\u001b[1;32m   2357\u001b[0m     args \u001b[38;5;241m=\u001b[39m (magic_arg_s, cell)\n\u001b[0;32m-> 2358\u001b[0m     result \u001b[38;5;241m=\u001b[39m \u001b[43mfn\u001b[49m\u001b[43m(\u001b[49m\u001b[38;5;241;43m*\u001b[39;49m\u001b[43margs\u001b[49m\u001b[43m,\u001b[49m\u001b[43m \u001b[49m\u001b[38;5;241;43m*\u001b[39;49m\u001b[38;5;241;43m*\u001b[39;49m\u001b[43mkwargs\u001b[49m\u001b[43m)\u001b[49m\n\u001b[1;32m   2359\u001b[0m \u001b[38;5;28;01mreturn\u001b[39;00m result\n",
      "File \u001b[0;32m<string>:199\u001b[0m, in \u001b[0;36mcheck\u001b[0;34m(self, nr, checks)\u001b[0m\n",
      "File \u001b[0;32m<string>:231\u001b[0m, in \u001b[0;36mcheck2\u001b[0;34m(self)\u001b[0m\n",
      "File \u001b[0;32m<string>:150\u001b[0m, in \u001b[0;36meval\u001b[0;34m(self, script, prelude)\u001b[0m\n",
      "File \u001b[0;32m/opt/jupyterhub/anaconda/lib/python3.9/site-packages/IPython/core/interactiveshell.py:2684\u001b[0m, in \u001b[0;36mInteractiveShell.ex\u001b[0;34m(self, cmd)\u001b[0m\n\u001b[1;32m   2682\u001b[0m \u001b[38;5;124;03m\"\"\"Execute a normal python statement in user namespace.\"\"\"\u001b[39;00m\n\u001b[1;32m   2683\u001b[0m \u001b[38;5;28;01mwith\u001b[39;00m \u001b[38;5;28mself\u001b[39m\u001b[38;5;241m.\u001b[39mbuiltin_trap:\n\u001b[0;32m-> 2684\u001b[0m     \u001b[43mexec\u001b[49m\u001b[43m(\u001b[49m\u001b[43mcmd\u001b[49m\u001b[43m,\u001b[49m\u001b[43m \u001b[49m\u001b[38;5;28;43mself\u001b[39;49m\u001b[38;5;241;43m.\u001b[39;49m\u001b[43muser_global_ns\u001b[49m\u001b[43m,\u001b[49m\u001b[43m \u001b[49m\u001b[38;5;28;43mself\u001b[39;49m\u001b[38;5;241;43m.\u001b[39;49m\u001b[43muser_ns\u001b[49m\u001b[43m)\u001b[49m\n",
      "File \u001b[0;32m<string>:1\u001b[0m, in \u001b[0;36m<module>\u001b[0;34m\u001b[0m\n",
      "\u001b[0;31mNameError\u001b[0m: name 'bill' is not defined"
     ]
    }
   ],
   "source": [
    "%%check\n",
    "name, drinks='John', 5\n",
    "bill == 10\n",
    "name, drinks='John', 4\n",
    "bill == 12\n",
    "name, drinks='Jack', 5\n",
    "bill == 15"
   ]
  }
 ],
 "metadata": {
  "celltoolbar": "Create Assignment",
  "kernelspec": {
   "display_name": "prog",
   "language": "python",
   "name": "prog"
  },
  "language_info": {
   "codemirror_mode": {
    "name": "ipython",
    "version": 3
   },
   "file_extension": ".py",
   "mimetype": "text/x-python",
   "name": "python",
   "nbconvert_exporter": "python",
   "pygments_lexer": "ipython3",
   "version": "3.9.12"
  }
 },
 "nbformat": 4,
 "nbformat_minor": 4
}
