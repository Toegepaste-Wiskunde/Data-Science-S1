{
 "cells": [
  {
   "cell_type": "markdown",
   "metadata": {},
   "source": [
    "# List\n",
    "\n",
    "When we wish to compute the average using multiple values, we can add them up and divide the sum by the number of values. Although this is doable for three values, what would happen if you need the average over 100 values? Right, your code would become long, repetitive and hard to handle.\n",
    "\n",
    "Therefore, we can organize values in a List. In this notebook, we will see how we can create literal lists and check if a value is in a list."
   ]
  },
  {
   "cell_type": "markdown",
   "metadata": {},
   "source": [
    "# Example\n",
    "\n",
    "Create a list `l` with the values 2, 4 and 6."
   ]
  },
  {
   "cell_type": "code",
   "execution_count": 1,
   "metadata": {
    "execution": {
     "iopub.execute_input": "2022-08-22T10:40:03.189220Z",
     "iopub.status.busy": "2022-08-22T10:40:03.188204Z",
     "iopub.status.idle": "2022-08-22T10:40:03.200309Z",
     "shell.execute_reply": "2022-08-22T10:40:03.199417Z"
    }
   },
   "outputs": [],
   "source": [
    "l = [ 2, 4, 6 ]"
   ]
  },
  {
   "cell_type": "code",
   "execution_count": 2,
   "metadata": {
    "execution": {
     "iopub.execute_input": "2022-08-22T10:40:03.205989Z",
     "iopub.status.busy": "2022-08-22T10:40:03.205571Z",
     "iopub.status.idle": "2022-08-22T10:40:03.218095Z",
     "shell.execute_reply": "2022-08-22T10:40:03.217546Z"
    }
   },
   "outputs": [
    {
     "data": {
      "text/plain": [
       "[2, 4, 6]"
      ]
     },
     "execution_count": 2,
     "metadata": {},
     "output_type": "execute_result"
    }
   ],
   "source": [
    "l"
   ]
  },
  {
   "cell_type": "markdown",
   "metadata": {},
   "source": [
    "# in\n",
    "\n",
    "Check if the values 3 and 4 are in the list `l`. Note that you can only ask if one element is in a list with the `in` operator, of you want to check multiple elements, you would need multiple `in`s and combine them for instance with an `and` or `or` operator."
   ]
  },
  {
   "cell_type": "code",
   "execution_count": 3,
   "metadata": {
    "execution": {
     "iopub.execute_input": "2022-08-22T10:40:03.224475Z",
     "iopub.status.busy": "2022-08-22T10:40:03.224194Z",
     "iopub.status.idle": "2022-08-22T10:40:03.229874Z",
     "shell.execute_reply": "2022-08-22T10:40:03.228748Z"
    }
   },
   "outputs": [
    {
     "data": {
      "text/plain": [
       "False"
      ]
     },
     "execution_count": 3,
     "metadata": {},
     "output_type": "execute_result"
    }
   ],
   "source": [
    "3 in l"
   ]
  },
  {
   "cell_type": "code",
   "execution_count": 4,
   "metadata": {
    "execution": {
     "iopub.execute_input": "2022-08-22T10:40:03.233079Z",
     "iopub.status.busy": "2022-08-22T10:40:03.232745Z",
     "iopub.status.idle": "2022-08-22T10:40:03.237802Z",
     "shell.execute_reply": "2022-08-22T10:40:03.237098Z"
    }
   },
   "outputs": [
    {
     "data": {
      "text/plain": [
       "True"
      ]
     },
     "execution_count": 4,
     "metadata": {},
     "output_type": "execute_result"
    }
   ],
   "source": [
    "4 in l"
   ]
  },
  {
   "cell_type": "markdown",
   "metadata": {},
   "source": [
    "You may also check if an element in `not in` a list."
   ]
  },
  {
   "cell_type": "code",
   "execution_count": 5,
   "metadata": {
    "execution": {
     "iopub.execute_input": "2022-08-22T10:40:03.241542Z",
     "iopub.status.busy": "2022-08-22T10:40:03.241253Z",
     "iopub.status.idle": "2022-08-22T10:40:03.246259Z",
     "shell.execute_reply": "2022-08-22T10:40:03.245532Z"
    }
   },
   "outputs": [
    {
     "data": {
      "text/plain": [
       "True"
      ]
     },
     "execution_count": 5,
     "metadata": {},
     "output_type": "execute_result"
    }
   ],
   "source": [
    "3 not in l"
   ]
  },
  {
   "cell_type": "markdown",
   "metadata": {},
   "source": [
    "# Assignments\n",
    "\n",
    "create a list `a` with the values 1.2, 1.8 and 3.1."
   ]
  },
  {
   "cell_type": "code",
   "execution_count": 6,
   "metadata": {
    "deletable": false,
    "editable": true,
    "execution": {
     "iopub.execute_input": "2022-08-22T10:40:03.249892Z",
     "iopub.status.busy": "2022-08-22T10:40:03.249550Z",
     "iopub.status.idle": "2022-08-22T10:40:03.254182Z",
     "shell.execute_reply": "2022-08-22T10:40:03.253128Z"
    }
   },
   "outputs": [],
   "source": [
    "%%assignment\n",
    "### ENTER YOUR CODE HERE"
   ]
  },
  {
   "cell_type": "code",
   "execution_count": 7,
   "metadata": {
    "deletable": false,
    "editable": false,
    "execution": {
     "iopub.execute_input": "2022-08-22T10:40:03.257157Z",
     "iopub.status.busy": "2022-08-22T10:40:03.256800Z",
     "iopub.status.idle": "2022-08-22T10:40:03.631244Z",
     "shell.execute_reply": "2022-08-22T10:40:03.630327Z"
    }
   },
   "outputs": [
    {
     "ename": "NameError",
     "evalue": "name 'a' is not defined",
     "output_type": "error",
     "traceback": [
      "\u001b[0;31m---------------------------------------------------------------------------\u001b[0m",
      "\u001b[0;31mNameError\u001b[0m                                 Traceback (most recent call last)",
      "Input \u001b[0;32mIn [7]\u001b[0m, in \u001b[0;36m<cell line: 1>\u001b[0;34m()\u001b[0m\n\u001b[0;32m----> 1\u001b[0m \u001b[43mget_ipython\u001b[49m\u001b[43m(\u001b[49m\u001b[43m)\u001b[49m\u001b[38;5;241;43m.\u001b[39;49m\u001b[43mrun_cell_magic\u001b[49m\u001b[43m(\u001b[49m\u001b[38;5;124;43m'\u001b[39;49m\u001b[38;5;124;43mcheck\u001b[39;49m\u001b[38;5;124;43m'\u001b[39;49m\u001b[43m,\u001b[49m\u001b[43m \u001b[49m\u001b[38;5;124;43m'\u001b[39;49m\u001b[38;5;124;43m'\u001b[39;49m\u001b[43m,\u001b[49m\u001b[43m \u001b[49m\u001b[38;5;124;43m'\u001b[39;49m\u001b[38;5;124;43m1.2 in a\u001b[39;49m\u001b[38;5;130;43;01m\\n\u001b[39;49;00m\u001b[38;5;124;43m1.8 in a\u001b[39;49m\u001b[38;5;130;43;01m\\n\u001b[39;49;00m\u001b[38;5;124;43m3.1 in a\u001b[39;49m\u001b[38;5;130;43;01m\\n\u001b[39;49;00m\u001b[38;5;124;43mlen(a) == 3\u001b[39;49m\u001b[38;5;130;43;01m\\n\u001b[39;49;00m\u001b[38;5;124;43m'\u001b[39;49m\u001b[43m)\u001b[49m\n",
      "File \u001b[0;32m/opt/jupyterhub/anaconda/lib/python3.9/site-packages/IPython/core/interactiveshell.py:2358\u001b[0m, in \u001b[0;36mInteractiveShell.run_cell_magic\u001b[0;34m(self, magic_name, line, cell)\u001b[0m\n\u001b[1;32m   2356\u001b[0m \u001b[38;5;28;01mwith\u001b[39;00m \u001b[38;5;28mself\u001b[39m\u001b[38;5;241m.\u001b[39mbuiltin_trap:\n\u001b[1;32m   2357\u001b[0m     args \u001b[38;5;241m=\u001b[39m (magic_arg_s, cell)\n\u001b[0;32m-> 2358\u001b[0m     result \u001b[38;5;241m=\u001b[39m \u001b[43mfn\u001b[49m\u001b[43m(\u001b[49m\u001b[38;5;241;43m*\u001b[39;49m\u001b[43margs\u001b[49m\u001b[43m,\u001b[49m\u001b[43m \u001b[49m\u001b[38;5;241;43m*\u001b[39;49m\u001b[38;5;241;43m*\u001b[39;49m\u001b[43mkwargs\u001b[49m\u001b[43m)\u001b[49m\n\u001b[1;32m   2359\u001b[0m \u001b[38;5;28;01mreturn\u001b[39;00m result\n",
      "File \u001b[0;32m<string>:199\u001b[0m, in \u001b[0;36mcheck\u001b[0;34m(self, nr, checks)\u001b[0m\n",
      "File \u001b[0;32m<string>:231\u001b[0m, in \u001b[0;36mcheck2\u001b[0;34m(self)\u001b[0m\n",
      "File \u001b[0;32m<string>:150\u001b[0m, in \u001b[0;36meval\u001b[0;34m(self, script, prelude)\u001b[0m\n",
      "File \u001b[0;32m/opt/jupyterhub/anaconda/lib/python3.9/site-packages/IPython/core/interactiveshell.py:2684\u001b[0m, in \u001b[0;36mInteractiveShell.ex\u001b[0;34m(self, cmd)\u001b[0m\n\u001b[1;32m   2682\u001b[0m \u001b[38;5;124;03m\"\"\"Execute a normal python statement in user namespace.\"\"\"\u001b[39;00m\n\u001b[1;32m   2683\u001b[0m \u001b[38;5;28;01mwith\u001b[39;00m \u001b[38;5;28mself\u001b[39m\u001b[38;5;241m.\u001b[39mbuiltin_trap:\n\u001b[0;32m-> 2684\u001b[0m     \u001b[43mexec\u001b[49m\u001b[43m(\u001b[49m\u001b[43mcmd\u001b[49m\u001b[43m,\u001b[49m\u001b[43m \u001b[49m\u001b[38;5;28;43mself\u001b[39;49m\u001b[38;5;241;43m.\u001b[39;49m\u001b[43muser_global_ns\u001b[49m\u001b[43m,\u001b[49m\u001b[43m \u001b[49m\u001b[38;5;28;43mself\u001b[39;49m\u001b[38;5;241;43m.\u001b[39;49m\u001b[43muser_ns\u001b[49m\u001b[43m)\u001b[49m\n",
      "File \u001b[0;32m<string>:1\u001b[0m, in \u001b[0;36m<module>\u001b[0;34m\u001b[0m\n",
      "\u001b[0;31mNameError\u001b[0m: name 'a' is not defined"
     ]
    }
   ],
   "source": [
    "%%check\n",
    "1.2 in a\n",
    "1.8 in a\n",
    "3.1 in a\n",
    "len(a) == 3"
   ]
  },
  {
   "cell_type": "markdown",
   "metadata": {},
   "source": [
    "Check if the name 'Jack' in in de list `names`"
   ]
  },
  {
   "cell_type": "code",
   "execution_count": 8,
   "metadata": {
    "execution": {
     "iopub.execute_input": "2022-08-22T10:40:03.657368Z",
     "iopub.status.busy": "2022-08-22T10:40:03.656800Z",
     "iopub.status.idle": "2022-08-22T10:40:03.662913Z",
     "shell.execute_reply": "2022-08-22T10:40:03.661559Z"
    }
   },
   "outputs": [],
   "source": [
    "names = [ 'John', 'Cindy', 'Paul' ]"
   ]
  },
  {
   "cell_type": "code",
   "execution_count": 9,
   "metadata": {
    "deletable": false,
    "editable": true,
    "execution": {
     "iopub.execute_input": "2022-08-22T10:40:03.668472Z",
     "iopub.status.busy": "2022-08-22T10:40:03.667662Z",
     "iopub.status.idle": "2022-08-22T10:40:03.673472Z",
     "shell.execute_reply": "2022-08-22T10:40:03.672222Z"
    }
   },
   "outputs": [],
   "source": [
    "%%assignment\n",
    "### ENTER YOUR CODE HERE"
   ]
  },
  {
   "cell_type": "code",
   "execution_count": 10,
   "metadata": {
    "deletable": false,
    "editable": false,
    "execution": {
     "iopub.execute_input": "2022-08-22T10:40:03.677874Z",
     "iopub.status.busy": "2022-08-22T10:40:03.677360Z",
     "iopub.status.idle": "2022-08-22T10:40:03.685412Z",
     "shell.execute_reply": "2022-08-22T10:40:03.684271Z"
    }
   },
   "outputs": [
    {
     "data": {
      "text/html": [
       "<table><tr style=\"background: red; color: white\"><td style=\"text-align:left\">The result should be False for testcase names = [ 'John', 'Cindy', 'Paul' ] </td></tr></table>"
      ],
      "text/plain": [
       "<IPython.core.display.HTML object>"
      ]
     },
     "metadata": {
      "text/html": {
       "username": "ruud"
      }
     },
     "output_type": "display_data"
    }
   ],
   "source": [
    "%%check\n",
    "names = [ 'John', 'Cindy', 'Paul' ]\n",
    "result == False\n",
    "names = [ 'John', 'Jack', 'Paul' ]\n",
    "result == True"
   ]
  },
  {
   "cell_type": "markdown",
   "metadata": {},
   "source": [
    "Check if 2 and 4 are both in the list ages"
   ]
  },
  {
   "cell_type": "code",
   "execution_count": 11,
   "metadata": {
    "execution": {
     "iopub.execute_input": "2022-08-22T10:40:03.690235Z",
     "iopub.status.busy": "2022-08-22T10:40:03.689871Z",
     "iopub.status.idle": "2022-08-22T10:40:03.694299Z",
     "shell.execute_reply": "2022-08-22T10:40:03.693504Z"
    }
   },
   "outputs": [],
   "source": [
    "ages = [ 1, 2, 4 ]"
   ]
  },
  {
   "cell_type": "code",
   "execution_count": 12,
   "metadata": {
    "deletable": false,
    "editable": true,
    "execution": {
     "iopub.execute_input": "2022-08-22T10:40:03.697670Z",
     "iopub.status.busy": "2022-08-22T10:40:03.697328Z",
     "iopub.status.idle": "2022-08-22T10:40:03.702088Z",
     "shell.execute_reply": "2022-08-22T10:40:03.700796Z"
    }
   },
   "outputs": [],
   "source": [
    "%%assignment\n",
    "### ENTER YOUR CODE HERE"
   ]
  },
  {
   "cell_type": "code",
   "execution_count": 13,
   "metadata": {
    "deletable": false,
    "editable": false,
    "execution": {
     "iopub.execute_input": "2022-08-22T10:40:03.706039Z",
     "iopub.status.busy": "2022-08-22T10:40:03.705677Z",
     "iopub.status.idle": "2022-08-22T10:40:03.712167Z",
     "shell.execute_reply": "2022-08-22T10:40:03.711183Z"
    }
   },
   "outputs": [
    {
     "data": {
      "text/html": [
       "<table><tr style=\"background: red; color: white\"><td style=\"text-align:left\">The result should be True for testcase ages = [ 2, 4 ] </td></tr></table>"
      ],
      "text/plain": [
       "<IPython.core.display.HTML object>"
      ]
     },
     "metadata": {
      "text/html": {
       "username": "ruud"
      }
     },
     "output_type": "display_data"
    }
   ],
   "source": [
    "%%check\n",
    "ages = [ 2, 4 ]\n",
    "result == True\n",
    "ages = [ 2, 5 ]\n",
    "result == False\n",
    "ages = [ 1, 4 ]\n",
    "result == False"
   ]
  },
  {
   "cell_type": "markdown",
   "metadata": {},
   "source": [
    "Check if 3 is in the list dice_values, but 5 is not."
   ]
  },
  {
   "cell_type": "code",
   "execution_count": 14,
   "metadata": {
    "execution": {
     "iopub.execute_input": "2022-08-22T10:40:03.715128Z",
     "iopub.status.busy": "2022-08-22T10:40:03.714831Z",
     "iopub.status.idle": "2022-08-22T10:40:03.718940Z",
     "shell.execute_reply": "2022-08-22T10:40:03.717912Z"
    }
   },
   "outputs": [],
   "source": [
    "dice_values = [ 1, 6, 3 ]"
   ]
  },
  {
   "cell_type": "code",
   "execution_count": 15,
   "metadata": {
    "deletable": false,
    "editable": true,
    "execution": {
     "iopub.execute_input": "2022-08-22T10:40:03.722281Z",
     "iopub.status.busy": "2022-08-22T10:40:03.721954Z",
     "iopub.status.idle": "2022-08-22T10:40:03.726346Z",
     "shell.execute_reply": "2022-08-22T10:40:03.725575Z"
    }
   },
   "outputs": [],
   "source": [
    "%%assignment\n",
    "### ENTER YOUR CODE HERE"
   ]
  },
  {
   "cell_type": "code",
   "execution_count": 16,
   "metadata": {
    "deletable": false,
    "editable": false,
    "execution": {
     "iopub.execute_input": "2022-08-22T10:40:03.728726Z",
     "iopub.status.busy": "2022-08-22T10:40:03.728381Z",
     "iopub.status.idle": "2022-08-22T10:40:03.734756Z",
     "shell.execute_reply": "2022-08-22T10:40:03.733985Z"
    }
   },
   "outputs": [
    {
     "data": {
      "text/html": [
       "<table><tr style=\"background: red; color: white\"><td style=\"text-align:left\">The result should be True for testcase dice_values = [ 1, 6, 3 ] </td></tr></table>"
      ],
      "text/plain": [
       "<IPython.core.display.HTML object>"
      ]
     },
     "metadata": {
      "text/html": {
       "username": "ruud"
      }
     },
     "output_type": "display_data"
    }
   ],
   "source": [
    "%%check\n",
    "dice_values = [ 1, 6, 3 ]\n",
    "result == True\n",
    "dice_values = [ 1, 5, 3 ]\n",
    "result == False\n",
    "dice_values = [ 1, 6, 2 ]\n",
    "result == False"
   ]
  }
 ],
 "metadata": {
  "celltoolbar": "Create Assignment",
  "kernelspec": {
   "display_name": "prog",
   "language": "python",
   "name": "prog"
  },
  "language_info": {
   "codemirror_mode": {
    "name": "ipython",
    "version": 3
   },
   "file_extension": ".py",
   "mimetype": "text/x-python",
   "name": "python",
   "nbconvert_exporter": "python",
   "pygments_lexer": "ipython3",
   "version": "3.9.12"
  }
 },
 "nbformat": 4,
 "nbformat_minor": 4
}
