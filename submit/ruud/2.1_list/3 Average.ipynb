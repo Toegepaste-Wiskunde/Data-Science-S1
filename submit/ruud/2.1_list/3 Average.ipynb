{
 "cells": [
  {
   "cell_type": "markdown",
   "metadata": {},
   "source": [
    "# Average\n",
    "\n",
    "If you want to compute the average of a set of 5 numbers, without a List, you would have to assign every number to a separate variable, add them together and then divide their sum by the number of variables. If the number of values is big, this requires a lot of code. It is also less flexible; when you want to include a sixth number, you have to change the code."
   ]
  },
  {
   "cell_type": "markdown",
   "metadata": {},
   "source": [
    "# Assigments"
   ]
  },
  {
   "cell_type": "markdown",
   "metadata": {},
   "source": [
    "#### Compute the average over the variables number1, ... number5"
   ]
  },
  {
   "cell_type": "code",
   "execution_count": 1,
   "metadata": {
    "execution": {
     "iopub.execute_input": "2022-08-22T10:55:03.400255Z",
     "iopub.status.busy": "2022-08-22T10:55:03.399637Z",
     "iopub.status.idle": "2022-08-22T10:55:03.412384Z",
     "shell.execute_reply": "2022-08-22T10:55:03.411296Z"
    }
   },
   "outputs": [],
   "source": [
    "number1 = 2\n",
    "number2 = 3\n",
    "number3 = 7\n",
    "number4 = 6\n",
    "number5 = 5"
   ]
  },
  {
   "cell_type": "code",
   "execution_count": 2,
   "metadata": {
    "deletable": false,
    "editable": true,
    "execution": {
     "iopub.execute_input": "2022-08-22T10:55:03.416174Z",
     "iopub.status.busy": "2022-08-22T10:55:03.415808Z",
     "iopub.status.idle": "2022-08-22T10:55:03.420646Z",
     "shell.execute_reply": "2022-08-22T10:55:03.419938Z"
    }
   },
   "outputs": [],
   "source": [
    "%%assignment\n",
    "### ENTER YOUR CODE HERE"
   ]
  },
  {
   "cell_type": "code",
   "execution_count": 3,
   "metadata": {
    "deletable": false,
    "editable": false,
    "execution": {
     "iopub.execute_input": "2022-08-22T10:55:03.423878Z",
     "iopub.status.busy": "2022-08-22T10:55:03.423561Z",
     "iopub.status.idle": "2022-08-22T10:55:03.432862Z",
     "shell.execute_reply": "2022-08-22T10:55:03.432199Z"
    }
   },
   "outputs": [
    {
     "data": {
      "text/html": [
       "<table><tr style=\"background: red; color: white\"><td style=\"text-align:left\">The result should be 4.6 for testcase number1, number2, number3, number4, number5 = 2, 3, 7, 6, 5 </td></tr></table>"
      ],
      "text/plain": [
       "<IPython.core.display.HTML object>"
      ]
     },
     "metadata": {
      "text/html": {
       "username": "ruud"
      }
     },
     "output_type": "display_data"
    }
   ],
   "source": [
    "%%check\n",
    "number1, number2, number3, number4, number5 = 2, 3, 7, 6, 5\n",
    "result == 4.6\n",
    "number1, number2, number3, number4, number5 = 1, 2, 3, 4, 5\n",
    "result == 3.0"
   ]
  },
  {
   "cell_type": "markdown",
   "metadata": {},
   "source": [
    "#### Compute the average over the list numbers"
   ]
  },
  {
   "cell_type": "code",
   "execution_count": 4,
   "metadata": {
    "execution": {
     "iopub.execute_input": "2022-08-22T10:55:03.435957Z",
     "iopub.status.busy": "2022-08-22T10:55:03.435669Z",
     "iopub.status.idle": "2022-08-22T10:55:03.439310Z",
     "shell.execute_reply": "2022-08-22T10:55:03.438514Z"
    }
   },
   "outputs": [],
   "source": [
    "numbers = [2, 3, 7, 6, 5]"
   ]
  },
  {
   "cell_type": "code",
   "execution_count": 5,
   "metadata": {
    "deletable": false,
    "editable": true,
    "execution": {
     "iopub.execute_input": "2022-08-22T10:55:03.441686Z",
     "iopub.status.busy": "2022-08-22T10:55:03.441452Z",
     "iopub.status.idle": "2022-08-22T10:55:03.445043Z",
     "shell.execute_reply": "2022-08-22T10:55:03.444369Z"
    }
   },
   "outputs": [],
   "source": [
    "%%assignment\n",
    "### ENTER YOUR CODE HERE"
   ]
  },
  {
   "cell_type": "code",
   "execution_count": 6,
   "metadata": {
    "deletable": false,
    "editable": false,
    "execution": {
     "iopub.execute_input": "2022-08-22T10:55:03.447547Z",
     "iopub.status.busy": "2022-08-22T10:55:03.447271Z",
     "iopub.status.idle": "2022-08-22T10:55:03.452215Z",
     "shell.execute_reply": "2022-08-22T10:55:03.451555Z"
    }
   },
   "outputs": [
    {
     "data": {
      "text/html": [
       "<table><tr style=\"background: red; color: white\"><td style=\"text-align:left\">The result should be 4.6 for testcase numbers = [2, 3, 7, 6, 5] </td></tr></table>"
      ],
      "text/plain": [
       "<IPython.core.display.HTML object>"
      ]
     },
     "metadata": {
      "text/html": {
       "username": "ruud"
      }
     },
     "output_type": "display_data"
    }
   ],
   "source": [
    "%%check\n",
    "numbers = [2, 3, 7, 6, 5]\n",
    "result == 4.6\n",
    "numbers = [1, 2, 3]\n",
    "result == 2.0"
   ]
  },
  {
   "cell_type": "markdown",
   "metadata": {},
   "source": [
    "#### Compute the average over the list numbers"
   ]
  },
  {
   "cell_type": "code",
   "execution_count": 7,
   "metadata": {
    "execution": {
     "iopub.execute_input": "2022-08-22T10:55:03.473070Z",
     "iopub.status.busy": "2022-08-22T10:55:03.472612Z",
     "iopub.status.idle": "2022-08-22T10:55:03.478393Z",
     "shell.execute_reply": "2022-08-22T10:55:03.477352Z"
    }
   },
   "outputs": [],
   "source": [
    "numbers = [1, 2, 3]"
   ]
  },
  {
   "cell_type": "code",
   "execution_count": 8,
   "metadata": {
    "deletable": false,
    "editable": true,
    "execution": {
     "iopub.execute_input": "2022-08-22T10:55:03.483570Z",
     "iopub.status.busy": "2022-08-22T10:55:03.483133Z",
     "iopub.status.idle": "2022-08-22T10:55:03.489201Z",
     "shell.execute_reply": "2022-08-22T10:55:03.487922Z"
    }
   },
   "outputs": [],
   "source": [
    "%%assignment\n",
    "### ENTER YOUR CODE HERE"
   ]
  },
  {
   "cell_type": "code",
   "execution_count": 9,
   "metadata": {
    "deletable": false,
    "editable": false,
    "execution": {
     "iopub.execute_input": "2022-08-22T10:55:03.493223Z",
     "iopub.status.busy": "2022-08-22T10:55:03.492747Z",
     "iopub.status.idle": "2022-08-22T10:55:03.500561Z",
     "shell.execute_reply": "2022-08-22T10:55:03.499607Z"
    }
   },
   "outputs": [
    {
     "data": {
      "text/html": [
       "<table><tr style=\"background: red; color: white\"><td style=\"text-align:left\">The result should be 4.6 for testcase numbers = [2, 3, 7, 6, 5] </td></tr></table>"
      ],
      "text/plain": [
       "<IPython.core.display.HTML object>"
      ]
     },
     "metadata": {
      "text/html": {
       "username": "ruud"
      }
     },
     "output_type": "display_data"
    }
   ],
   "source": [
    "%%check\n",
    "numbers = [2, 3, 7, 6, 5]\n",
    "result == 4.6\n",
    "numbers = [1, 2, 3]\n",
    "result == 2.0"
   ]
  },
  {
   "cell_type": "markdown",
   "metadata": {},
   "source": [
    "Notice how the code is exactly the same for the last two assignments?"
   ]
  }
 ],
 "metadata": {
  "celltoolbar": "Create Assignment",
  "kernelspec": {
   "display_name": "prog",
   "language": "python",
   "name": "prog"
  },
  "language_info": {
   "codemirror_mode": {
    "name": "ipython",
    "version": 3
   },
   "file_extension": ".py",
   "mimetype": "text/x-python",
   "name": "python",
   "nbconvert_exporter": "python",
   "pygments_lexer": "ipython3",
   "version": "3.9.12"
  }
 },
 "nbformat": 4,
 "nbformat_minor": 4
}
