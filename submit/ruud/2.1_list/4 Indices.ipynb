{
 "cells": [
  {
   "cell_type": "markdown",
   "metadata": {},
   "source": [
    "# Indices\n",
    "\n",
    "A List in Python stores data sequentially. Each element of a List is assigned a number - its position or index. The first index is zero, the second index is one, and so forth.\n",
    "\n",
    "| Index | 0 | 1 | 2 | 3 | 4 |   |\n",
    "|-------|---|---|---|---|---|---|\n",
    "| a = [ | 2 | 3 | 7 | 5 | 6 | ] |\n",
    "\n",
    "You can use `[index]`, where index is the index number to point to a specific element. Indices are always numbered from 0. A negative index counts back from the end of the List.\n",
    "\n",
    "|       | result | comment |\n",
    "|:------|:-------|:--------|\n",
    "| a[0]  | 2      | the first element in the list (indices always start at 0) |\n",
    "| a[3]  | 5      | the fourth element in the list |\n",
    "| a[-1] | 6      | negative indices count back from the end, -1 being the last value |\n",
    "| a[-3] | 7      ||\n",
    "| a[1] = 9 | a = [2, **9**, 7, 5, 6] | you can also assign a new value to a specific position |\n",
    "\n",
    "You can also use indices to point to a range of elements. For this we can take a 'slice' from the List by specifiying a begin and end in between squared brackets, i.e. `[begin:end]`. The slice taken contains all elements from the `begin` position until the `end` position. An important detail is that the element at the `begin` position is included but the element at the `end` position is excluded. If you do not specify `begin` 0 is used, e.g. `[:2]`. If you do not specify `end` all element from begin until the end of the list are taken. \n",
    "\n",
    "|       | result | comment |\n",
    "|:------|:-------|:--------|\n",
    "| a[1:3]  | [ 3, 7 ]      | A slice is taken from index 1 until index 3, the last index excluded  |\n",
    "| a[:2]  | [ 2, 9 ]      | Leaving out `begin` means 0 is used |\n",
    "| a[0:-2] | [ 2, 3, 7 ]      | Negative indices countback from the end |\n",
    "| a[-3:] | [ 7, 5 6 ]      | |\n",
    "\n",
    "\n"
   ]
  },
  {
   "cell_type": "markdown",
   "metadata": {},
   "source": [
    "# Assignments"
   ]
  },
  {
   "cell_type": "markdown",
   "metadata": {},
   "source": [
    "#### Give the time of the last lap in lap_times"
   ]
  },
  {
   "cell_type": "code",
   "execution_count": 1,
   "metadata": {
    "execution": {
     "iopub.execute_input": "2022-08-22T10:30:02.820553Z",
     "iopub.status.busy": "2022-08-22T10:30:02.820051Z",
     "iopub.status.idle": "2022-08-22T10:30:02.832398Z",
     "shell.execute_reply": "2022-08-22T10:30:02.831473Z"
    }
   },
   "outputs": [],
   "source": [
    "lap_times = [ 20.3, 23.5, 21.2, 21.3 ]"
   ]
  },
  {
   "cell_type": "code",
   "execution_count": 2,
   "metadata": {
    "deletable": false,
    "editable": true,
    "execution": {
     "iopub.execute_input": "2022-08-22T10:30:02.837065Z",
     "iopub.status.busy": "2022-08-22T10:30:02.836753Z",
     "iopub.status.idle": "2022-08-22T10:30:02.841329Z",
     "shell.execute_reply": "2022-08-22T10:30:02.840487Z"
    }
   },
   "outputs": [],
   "source": [
    "%%assignment\n",
    "### ENTER YOUR CODE HERE"
   ]
  },
  {
   "cell_type": "code",
   "execution_count": 3,
   "metadata": {
    "deletable": false,
    "editable": false,
    "execution": {
     "iopub.execute_input": "2022-08-22T10:30:02.845328Z",
     "iopub.status.busy": "2022-08-22T10:30:02.845033Z",
     "iopub.status.idle": "2022-08-22T10:30:02.855527Z",
     "shell.execute_reply": "2022-08-22T10:30:02.854868Z"
    }
   },
   "outputs": [
    {
     "data": {
      "text/html": [
       "<table><tr style=\"background: red; color: white\"><td style=\"text-align:left\">The result should be 21.3 for testcase lap_times = [ 20.3, 23.5, 21.2, 21.3 ] </td></tr></table>"
      ],
      "text/plain": [
       "<IPython.core.display.HTML object>"
      ]
     },
     "metadata": {
      "text/html": {
       "username": "ruud"
      }
     },
     "output_type": "display_data"
    }
   ],
   "source": [
    "%%check\n",
    "lap_times = [ 20.3, 23.5, 21.2, 21.3 ]\n",
    "result == 21.3\n",
    "lap_times = [ 20.3, 23.5, 21.2 ]\n",
    "result == 21.2"
   ]
  },
  {
   "cell_type": "markdown",
   "metadata": {},
   "source": [
    "#### Give the time of the second lap in lap_times"
   ]
  },
  {
   "cell_type": "code",
   "execution_count": 4,
   "metadata": {
    "execution": {
     "iopub.execute_input": "2022-08-22T10:30:02.859779Z",
     "iopub.status.busy": "2022-08-22T10:30:02.859494Z",
     "iopub.status.idle": "2022-08-22T10:30:02.863152Z",
     "shell.execute_reply": "2022-08-22T10:30:02.862346Z"
    }
   },
   "outputs": [],
   "source": [
    "lap_times = [ 20.3, 23.5, 21.2, 21.3 ]"
   ]
  },
  {
   "cell_type": "code",
   "execution_count": 5,
   "metadata": {
    "deletable": false,
    "editable": true,
    "execution": {
     "iopub.execute_input": "2022-08-22T10:30:02.897248Z",
     "iopub.status.busy": "2022-08-22T10:30:02.896680Z",
     "iopub.status.idle": "2022-08-22T10:30:02.903151Z",
     "shell.execute_reply": "2022-08-22T10:30:02.901765Z"
    }
   },
   "outputs": [],
   "source": [
    "%%assignment\n",
    "### ENTER YOUR CODE HERE"
   ]
  },
  {
   "cell_type": "code",
   "execution_count": 6,
   "metadata": {
    "deletable": false,
    "editable": false,
    "execution": {
     "iopub.execute_input": "2022-08-22T10:30:02.908161Z",
     "iopub.status.busy": "2022-08-22T10:30:02.907653Z",
     "iopub.status.idle": "2022-08-22T10:30:02.915758Z",
     "shell.execute_reply": "2022-08-22T10:30:02.914927Z"
    }
   },
   "outputs": [
    {
     "data": {
      "text/html": [
       "<table><tr style=\"background: red; color: white\"><td style=\"text-align:left\">The result should be 23.5 for testcase lap_times = [ 20.3, 23.5, 21.2, 21.3 ] </td></tr></table>"
      ],
      "text/plain": [
       "<IPython.core.display.HTML object>"
      ]
     },
     "metadata": {
      "text/html": {
       "username": "ruud"
      }
     },
     "output_type": "display_data"
    }
   ],
   "source": [
    "%%check\n",
    "lap_times = [ 20.3, 23.5, 21.2, 21.3 ]\n",
    "result == 23.5\n",
    "lap_times = [ 23.5, 21.2, 21.3 ]\n",
    "result == 21.2"
   ]
  },
  {
   "cell_type": "markdown",
   "metadata": {},
   "source": [
    "#### Give the times all lap_times except the first\n",
    "(Not one by one, but as a list)."
   ]
  },
  {
   "cell_type": "code",
   "execution_count": 7,
   "metadata": {
    "execution": {
     "iopub.execute_input": "2022-08-22T10:30:02.920150Z",
     "iopub.status.busy": "2022-08-22T10:30:02.919738Z",
     "iopub.status.idle": "2022-08-22T10:30:02.924567Z",
     "shell.execute_reply": "2022-08-22T10:30:02.923391Z"
    }
   },
   "outputs": [],
   "source": [
    "lap_times = [ 20.3, 23.5, 21.2, 21.3 ]"
   ]
  },
  {
   "cell_type": "code",
   "execution_count": 8,
   "metadata": {
    "deletable": false,
    "editable": true,
    "execution": {
     "iopub.execute_input": "2022-08-22T10:30:02.927974Z",
     "iopub.status.busy": "2022-08-22T10:30:02.927564Z",
     "iopub.status.idle": "2022-08-22T10:30:02.932819Z",
     "shell.execute_reply": "2022-08-22T10:30:02.931639Z"
    }
   },
   "outputs": [],
   "source": [
    "%%assignment\n",
    "### ENTER YOUR CODE HERE"
   ]
  },
  {
   "cell_type": "code",
   "execution_count": 9,
   "metadata": {
    "deletable": false,
    "editable": false,
    "execution": {
     "iopub.execute_input": "2022-08-22T10:30:02.936122Z",
     "iopub.status.busy": "2022-08-22T10:30:02.935733Z",
     "iopub.status.idle": "2022-08-22T10:30:02.942369Z",
     "shell.execute_reply": "2022-08-22T10:30:02.941562Z"
    }
   },
   "outputs": [
    {
     "data": {
      "text/html": [
       "<table><tr style=\"background: red; color: white\"><td style=\"text-align:left\">The result should be [ 23.5, 21.2, 21.3 ] for testcase lap_times = [ 20.3, 23.5, 21.2, 21.3 ] </td></tr></table>"
      ],
      "text/plain": [
       "<IPython.core.display.HTML object>"
      ]
     },
     "metadata": {
      "text/html": {
       "username": "ruud"
      }
     },
     "output_type": "display_data"
    }
   ],
   "source": [
    "%%check\n",
    "lap_times = [ 20.3, 23.5, 21.2, 21.3 ]\n",
    "result == [ 23.5, 21.2, 21.3 ]\n",
    "lap_times = [ 23.5, 21.2, 21.3 ]\n",
    "result == [ 21.2, 21.3 ]"
   ]
  },
  {
   "cell_type": "markdown",
   "metadata": {},
   "source": [
    "#### Give the average of all lap_times except the last two laps"
   ]
  },
  {
   "cell_type": "code",
   "execution_count": 10,
   "metadata": {
    "execution": {
     "iopub.execute_input": "2022-08-22T10:30:02.945550Z",
     "iopub.status.busy": "2022-08-22T10:30:02.945192Z",
     "iopub.status.idle": "2022-08-22T10:30:02.949371Z",
     "shell.execute_reply": "2022-08-22T10:30:02.948561Z"
    }
   },
   "outputs": [],
   "source": [
    "lap_times = [ 20.3, 23.5, 21.2, 21.3 ]"
   ]
  },
  {
   "cell_type": "code",
   "execution_count": 11,
   "metadata": {
    "deletable": false,
    "editable": true,
    "execution": {
     "iopub.execute_input": "2022-08-22T10:30:02.952548Z",
     "iopub.status.busy": "2022-08-22T10:30:02.951816Z",
     "iopub.status.idle": "2022-08-22T10:30:02.956240Z",
     "shell.execute_reply": "2022-08-22T10:30:02.955368Z"
    }
   },
   "outputs": [],
   "source": [
    "%%assignment\n",
    "### ENTER YOUR CODE HERE"
   ]
  },
  {
   "cell_type": "code",
   "execution_count": 12,
   "metadata": {
    "deletable": false,
    "editable": false,
    "execution": {
     "iopub.execute_input": "2022-08-22T10:30:02.959134Z",
     "iopub.status.busy": "2022-08-22T10:30:02.958806Z",
     "iopub.status.idle": "2022-08-22T10:30:02.964407Z",
     "shell.execute_reply": "2022-08-22T10:30:02.963697Z"
    }
   },
   "outputs": [
    {
     "data": {
      "text/html": [
       "<table><tr style=\"background: red; color: white\"><td style=\"text-align:left\">The result should be 21.9 for testcase lap_times = [ 20.3, 23.5, 21.2, 21.3 ] </td></tr></table>"
      ],
      "text/plain": [
       "<IPython.core.display.HTML object>"
      ]
     },
     "metadata": {
      "text/html": {
       "username": "ruud"
      }
     },
     "output_type": "display_data"
    }
   ],
   "source": [
    "%%check\n",
    "lap_times = [ 20.3, 23.5, 21.2, 21.3 ]\n",
    "result == 21.9\n",
    "lap_times = [ 1.0, 2.0, 4.0, 6.0, 21.2, 21.3 ]\n",
    "result == 3.25"
   ]
  },
  {
   "cell_type": "markdown",
   "metadata": {},
   "source": [
    "#### change the second lap_time to 22.6"
   ]
  },
  {
   "cell_type": "code",
   "execution_count": 13,
   "metadata": {
    "execution": {
     "iopub.execute_input": "2022-08-22T10:30:02.967235Z",
     "iopub.status.busy": "2022-08-22T10:30:02.966941Z",
     "iopub.status.idle": "2022-08-22T10:30:02.970616Z",
     "shell.execute_reply": "2022-08-22T10:30:02.969886Z"
    }
   },
   "outputs": [],
   "source": [
    "lap_times = [ 20.3, 23.5, 21.2, 21.3 ]"
   ]
  },
  {
   "cell_type": "code",
   "execution_count": 14,
   "metadata": {
    "deletable": false,
    "editable": true,
    "execution": {
     "iopub.execute_input": "2022-08-22T10:30:02.973278Z",
     "iopub.status.busy": "2022-08-22T10:30:02.972958Z",
     "iopub.status.idle": "2022-08-22T10:30:02.977031Z",
     "shell.execute_reply": "2022-08-22T10:30:02.976179Z"
    }
   },
   "outputs": [],
   "source": [
    "%%assignment\n",
    "### ENTER YOUR CODE HERE"
   ]
  },
  {
   "cell_type": "code",
   "execution_count": 15,
   "metadata": {
    "deletable": false,
    "editable": false,
    "execution": {
     "iopub.execute_input": "2022-08-22T10:30:02.979645Z",
     "iopub.status.busy": "2022-08-22T10:30:02.979377Z",
     "iopub.status.idle": "2022-08-22T10:30:02.984935Z",
     "shell.execute_reply": "2022-08-22T10:30:02.983921Z"
    }
   },
   "outputs": [
    {
     "data": {
      "text/html": [
       "<table><tr style=\"background: red; color: white\"><td style=\"text-align:left\">The result for lap_times should be [ 20.3, 22.6, 21.2, 21.3 ] for testcase lap_times = [ 20.3, 23.5, 21.2, 21.3 ] </td></tr></table>"
      ],
      "text/plain": [
       "<IPython.core.display.HTML object>"
      ]
     },
     "metadata": {
      "text/html": {
       "username": "ruud"
      }
     },
     "output_type": "display_data"
    }
   ],
   "source": [
    "%%check\n",
    "lap_times = [ 20.3, 23.5, 21.2, 21.3 ]\n",
    "lap_times == [ 20.3, 22.6, 21.2, 21.3 ]\n",
    "lap_times = [ 1.0, 2.0 ]\n",
    "lap_times == [ 1.0, 22.6 ]"
   ]
  }
 ],
 "metadata": {
  "celltoolbar": "Create Assignment",
  "kernelspec": {
   "display_name": "prog",
   "language": "python",
   "name": "prog"
  },
  "language_info": {
   "codemirror_mode": {
    "name": "ipython",
    "version": 3
   },
   "file_extension": ".py",
   "mimetype": "text/x-python",
   "name": "python",
   "nbconvert_exporter": "python",
   "pygments_lexer": "ipython3",
   "version": "3.9.12"
  }
 },
 "nbformat": 4,
 "nbformat_minor": 4
}
