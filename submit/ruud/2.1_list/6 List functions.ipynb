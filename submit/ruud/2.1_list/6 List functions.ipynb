{
 "cells": [
  {
   "cell_type": "markdown",
   "metadata": {},
   "source": [
    "# List functions\n",
    "\n",
    "There are several functions we can apply to a List to modify the List or perform some operation.\n",
    "\n",
    "These functions are called methods. A method belongs to a list, therefore they are connected to a list with a dot; `list.method()`. The method only works on the list it is attachted to.\n",
    "\n",
    "| Index | 0 | 1 | 2 |   |\n",
    "|-------|---|---|---|---|\n",
    "| a = [ | 2 | 3 | 7 | ] |\n",
    "| b = [ | 3 | 8 | 5 | ] |\n",
    "\n",
    "\n",
    "| Example | Result | Comment |\n",
    "|:--------|:-------|:--------|\n",
    "| a.append( 4 ) | a = [ 2, 3, 7, 4 ] | appends a value to the end of the list |\n",
    "| a.index(3)    | 1 | returns the index of the first element with value 3 |\n",
    "| a.insert(1, 9) | a = [ 2, 9, 3, 7 ] | inserts an element with value 9 in the list between the indices 0 and 1 |\n",
    "| a.extend(b) | a = [ 2, 3, 7, 3, 8, 5 ] | appends all elements from list b to list a, note that elements do not have to be unique |\n",
    "| b.sort() | b = [ 3, 5, 8 ] | sorts the elements in the List |\n",
    "| a.reverse() | a = [ 7, 3, 2 ] | reverses the order of the elements |\n"
   ]
  },
  {
   "cell_type": "markdown",
   "metadata": {},
   "source": [
    "# Assignments"
   ]
  },
  {
   "cell_type": "markdown",
   "metadata": {},
   "source": [
    "#### Insert the name 'Jeff' in `hero` at index 1."
   ]
  },
  {
   "cell_type": "code",
   "execution_count": 1,
   "metadata": {
    "execution": {
     "iopub.execute_input": "2022-08-22T10:35:03.514372Z",
     "iopub.status.busy": "2022-08-22T10:35:03.513727Z",
     "iopub.status.idle": "2022-08-22T10:35:03.526468Z",
     "shell.execute_reply": "2022-08-22T10:35:03.525358Z"
    }
   },
   "outputs": [],
   "source": [
    "hero = ['John', 'Jack', 'James']"
   ]
  },
  {
   "cell_type": "code",
   "execution_count": 2,
   "metadata": {
    "deletable": false,
    "editable": true,
    "execution": {
     "iopub.execute_input": "2022-08-22T10:35:03.531287Z",
     "iopub.status.busy": "2022-08-22T10:35:03.530966Z",
     "iopub.status.idle": "2022-08-22T10:35:03.536193Z",
     "shell.execute_reply": "2022-08-22T10:35:03.534918Z"
    }
   },
   "outputs": [],
   "source": [
    "%%assignment\n",
    "### ENTER YOUR CODE HERE"
   ]
  },
  {
   "cell_type": "code",
   "execution_count": 3,
   "metadata": {
    "deletable": false,
    "editable": false,
    "execution": {
     "iopub.execute_input": "2022-08-22T10:35:03.541030Z",
     "iopub.status.busy": "2022-08-22T10:35:03.540106Z",
     "iopub.status.idle": "2022-08-22T10:35:03.555971Z",
     "shell.execute_reply": "2022-08-22T10:35:03.554930Z"
    }
   },
   "outputs": [
    {
     "data": {
      "text/html": [
       "<table><tr style=\"background: red; color: white\"><td style=\"text-align:left\">The result for hero should be ['John', 'Jeff', 'Jack', 'James'] for testcase hero = ['John', 'Jack', 'James'] </td></tr></table>"
      ],
      "text/plain": [
       "<IPython.core.display.HTML object>"
      ]
     },
     "metadata": {
      "text/html": {
       "username": "ruud"
      }
     },
     "output_type": "display_data"
    }
   ],
   "source": [
    "%%check\n",
    "hero = ['John', 'Jack', 'James']\n",
    "hero == ['John', 'Jeff', 'Jack', 'James']\n",
    "hero = ['Kyle', 'Kevin']\n",
    "hero == ['Kyle', 'Jeff', 'Kevin']"
   ]
  },
  {
   "cell_type": "markdown",
   "metadata": {},
   "source": [
    "#### Insert the name 'Jeff' in `hero` just before 'Jack'. Beware that Jack is not necessarily at index 1, so you have to first get the index of Jack."
   ]
  },
  {
   "cell_type": "code",
   "execution_count": 4,
   "metadata": {
    "execution": {
     "iopub.execute_input": "2022-08-22T10:35:03.559770Z",
     "iopub.status.busy": "2022-08-22T10:35:03.559462Z",
     "iopub.status.idle": "2022-08-22T10:35:03.563265Z",
     "shell.execute_reply": "2022-08-22T10:35:03.562564Z"
    }
   },
   "outputs": [],
   "source": [
    "hero = ['John', 'Jack', 'James']"
   ]
  },
  {
   "cell_type": "code",
   "execution_count": 5,
   "metadata": {
    "deletable": false,
    "editable": true,
    "execution": {
     "iopub.execute_input": "2022-08-22T10:35:03.566649Z",
     "iopub.status.busy": "2022-08-22T10:35:03.566390Z",
     "iopub.status.idle": "2022-08-22T10:35:03.570038Z",
     "shell.execute_reply": "2022-08-22T10:35:03.569322Z"
    }
   },
   "outputs": [],
   "source": [
    "%%assignment\n",
    "### ENTER YOUR CODE HERE"
   ]
  },
  {
   "cell_type": "code",
   "execution_count": 6,
   "metadata": {
    "deletable": false,
    "editable": false,
    "execution": {
     "iopub.execute_input": "2022-08-22T10:35:03.572991Z",
     "iopub.status.busy": "2022-08-22T10:35:03.572656Z",
     "iopub.status.idle": "2022-08-22T10:35:03.578225Z",
     "shell.execute_reply": "2022-08-22T10:35:03.577543Z"
    }
   },
   "outputs": [
    {
     "data": {
      "text/html": [
       "<table><tr style=\"background: red; color: white\"><td style=\"text-align:left\">The result for hero should be ['John', 'Jeff', 'Jack', 'James'] for testcase hero = ['John', 'Jack', 'James'] </td></tr></table>"
      ],
      "text/plain": [
       "<IPython.core.display.HTML object>"
      ]
     },
     "metadata": {
      "text/html": {
       "username": "ruud"
      }
     },
     "output_type": "display_data"
    }
   ],
   "source": [
    "%%check\n",
    "hero = ['John', 'Jack', 'James']\n",
    "hero == ['John', 'Jeff', 'Jack', 'James']\n",
    "hero = ['Jack', 'James']\n",
    "hero == ['Jeff', 'Jack', 'James']"
   ]
  },
  {
   "cell_type": "markdown",
   "metadata": {},
   "source": [
    "#### What is the second smallest temperature in `temperatures`."
   ]
  },
  {
   "cell_type": "code",
   "execution_count": 7,
   "metadata": {
    "execution": {
     "iopub.execute_input": "2022-08-22T10:35:03.581390Z",
     "iopub.status.busy": "2022-08-22T10:35:03.580755Z",
     "iopub.status.idle": "2022-08-22T10:35:03.584638Z",
     "shell.execute_reply": "2022-08-22T10:35:03.583933Z"
    }
   },
   "outputs": [],
   "source": [
    "temperatures = [20, 9, 15, 30, 31]"
   ]
  },
  {
   "cell_type": "code",
   "execution_count": 8,
   "metadata": {
    "deletable": false,
    "editable": true,
    "execution": {
     "iopub.execute_input": "2022-08-22T10:35:03.587448Z",
     "iopub.status.busy": "2022-08-22T10:35:03.587107Z",
     "iopub.status.idle": "2022-08-22T10:35:03.591376Z",
     "shell.execute_reply": "2022-08-22T10:35:03.590438Z"
    }
   },
   "outputs": [],
   "source": [
    "%%assignment\n",
    "### ENTER YOUR CODE HERE"
   ]
  },
  {
   "cell_type": "code",
   "execution_count": 9,
   "metadata": {
    "deletable": false,
    "editable": false,
    "execution": {
     "iopub.execute_input": "2022-08-22T10:35:03.593930Z",
     "iopub.status.busy": "2022-08-22T10:35:03.593640Z",
     "iopub.status.idle": "2022-08-22T10:35:03.599080Z",
     "shell.execute_reply": "2022-08-22T10:35:03.598396Z"
    }
   },
   "outputs": [
    {
     "data": {
      "text/html": [
       "<table><tr style=\"background: red; color: white\"><td style=\"text-align:left\">The result should be 15 for testcase temperatures = [20, 9, 15, 30, 31] </td></tr></table>"
      ],
      "text/plain": [
       "<IPython.core.display.HTML object>"
      ]
     },
     "metadata": {
      "text/html": {
       "username": "ruud"
      }
     },
     "output_type": "display_data"
    }
   ],
   "source": [
    "%%check\n",
    "temperatures = [20, 9, 15, 30, 31]\n",
    "result == 15\n",
    "temperatures = [2.5, 3.5, 4.5, 1.2]\n",
    "result == 2.5"
   ]
  },
  {
   "cell_type": "markdown",
   "metadata": {},
   "source": [
    "#### Replace the highest temperature with 40.\n",
    "Hint: Find the index of the maximum."
   ]
  },
  {
   "cell_type": "code",
   "execution_count": 10,
   "metadata": {
    "execution": {
     "iopub.execute_input": "2022-08-22T10:35:03.616239Z",
     "iopub.status.busy": "2022-08-22T10:35:03.615893Z",
     "iopub.status.idle": "2022-08-22T10:35:03.620319Z",
     "shell.execute_reply": "2022-08-22T10:35:03.619458Z"
    }
   },
   "outputs": [],
   "source": [
    "temperatures = [20, 9, 15, 31, 30]"
   ]
  },
  {
   "cell_type": "code",
   "execution_count": 11,
   "metadata": {
    "deletable": false,
    "editable": true,
    "execution": {
     "iopub.execute_input": "2022-08-22T10:35:03.624367Z",
     "iopub.status.busy": "2022-08-22T10:35:03.623946Z",
     "iopub.status.idle": "2022-08-22T10:35:03.629044Z",
     "shell.execute_reply": "2022-08-22T10:35:03.627981Z"
    }
   },
   "outputs": [],
   "source": [
    "%%assignment\n",
    "### ENTER YOUR CODE HERE"
   ]
  },
  {
   "cell_type": "code",
   "execution_count": 12,
   "metadata": {
    "deletable": false,
    "editable": false,
    "execution": {
     "iopub.execute_input": "2022-08-22T10:35:03.632967Z",
     "iopub.status.busy": "2022-08-22T10:35:03.632420Z",
     "iopub.status.idle": "2022-08-22T10:35:03.639684Z",
     "shell.execute_reply": "2022-08-22T10:35:03.638718Z"
    }
   },
   "outputs": [
    {
     "data": {
      "text/html": [
       "<table><tr style=\"background: red; color: white\"><td style=\"text-align:left\">The result for temperatures should be [20, 9, 15, 30, 40] for testcase temperatures = [20, 9, 15, 30, 31] </td></tr></table>"
      ],
      "text/plain": [
       "<IPython.core.display.HTML object>"
      ]
     },
     "metadata": {
      "text/html": {
       "username": "ruud"
      }
     },
     "output_type": "display_data"
    }
   ],
   "source": [
    "%%check\n",
    "temperatures = [20, 9, 15, 30, 31]\n",
    "temperatures == [20, 9, 15, 30, 40]\n",
    "temperatures = [2.5, 3.5, 3.2, 1.2]\n",
    "temperatures == [2.5, 40, 3.2, 1.2]"
   ]
  },
  {
   "cell_type": "markdown",
   "metadata": {},
   "source": [
    "#### Swap the position of the lowest value in temperatures with position of the highest temperature\n",
    "You likely need multiple variables and multiple lines of code."
   ]
  },
  {
   "cell_type": "code",
   "execution_count": 13,
   "metadata": {
    "execution": {
     "iopub.execute_input": "2022-08-22T10:35:03.643015Z",
     "iopub.status.busy": "2022-08-22T10:35:03.642622Z",
     "iopub.status.idle": "2022-08-22T10:35:03.647045Z",
     "shell.execute_reply": "2022-08-22T10:35:03.646029Z"
    }
   },
   "outputs": [],
   "source": [
    "temperatures = [20, 9, 15, 31, 30]\n",
    "# i.e. should become [ 20, 31, 15, 9, 30 ]"
   ]
  },
  {
   "cell_type": "code",
   "execution_count": 14,
   "metadata": {
    "deletable": false,
    "editable": true,
    "execution": {
     "iopub.execute_input": "2022-08-22T10:35:03.650104Z",
     "iopub.status.busy": "2022-08-22T10:35:03.649727Z",
     "iopub.status.idle": "2022-08-22T10:35:03.654583Z",
     "shell.execute_reply": "2022-08-22T10:35:03.653588Z"
    }
   },
   "outputs": [],
   "source": [
    "%%assignment\n",
    "### ENTER YOUR CODE HERE"
   ]
  },
  {
   "cell_type": "code",
   "execution_count": 15,
   "metadata": {
    "deletable": false,
    "editable": false,
    "execution": {
     "iopub.execute_input": "2022-08-22T10:35:03.657594Z",
     "iopub.status.busy": "2022-08-22T10:35:03.657214Z",
     "iopub.status.idle": "2022-08-22T10:35:03.663770Z",
     "shell.execute_reply": "2022-08-22T10:35:03.663009Z"
    }
   },
   "outputs": [
    {
     "data": {
      "text/html": [
       "<table><tr style=\"background: red; color: white\"><td style=\"text-align:left\">The result for temperatures should be [20, 31, 15, 30, 9] for testcase temperatures = [20, 9, 15, 30, 31] </td></tr></table>"
      ],
      "text/plain": [
       "<IPython.core.display.HTML object>"
      ]
     },
     "metadata": {
      "text/html": {
       "username": "ruud"
      }
     },
     "output_type": "display_data"
    }
   ],
   "source": [
    "%%check\n",
    "temperatures = [20, 9, 15, 30, 31]\n",
    "temperatures == [20, 31, 15, 30, 9]\n",
    "temperatures = [3.5, 2.5, 3.2, 1.2]\n",
    "temperatures == [1.2, 2.5, 3.2, 3.5]"
   ]
  },
  {
   "cell_type": "code",
   "execution_count": null,
   "metadata": {},
   "outputs": [],
   "source": []
  }
 ],
 "metadata": {
  "celltoolbar": "Create Assignment",
  "kernelspec": {
   "display_name": "prog",
   "language": "python",
   "name": "prog"
  },
  "language_info": {
   "codemirror_mode": {
    "name": "ipython",
    "version": 3
   },
   "file_extension": ".py",
   "mimetype": "text/x-python",
   "name": "python",
   "nbconvert_exporter": "python",
   "pygments_lexer": "ipython3",
   "version": "3.9.12"
  }
 },
 "nbformat": 4,
 "nbformat_minor": 4
}
