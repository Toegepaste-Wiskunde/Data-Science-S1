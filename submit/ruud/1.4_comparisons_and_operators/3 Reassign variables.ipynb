{
 "cells": [
  {
   "cell_type": "markdown",
   "metadata": {},
   "source": [
    "# Reassign variables\n",
    "\n",
    "We can store a value in a variable so that we can reuse that value later. Each variable can only contain a single value, so if we already stored a value in a variable and assign a new value, the old one is forgotten. We can use that principle to increase a value several times."
   ]
  },
  {
   "cell_type": "markdown",
   "metadata": {},
   "source": [
    "# Example"
   ]
  },
  {
   "cell_type": "markdown",
   "metadata": {},
   "source": [
    "When we assign a value to a variable `x`, Python remembers that value. So whenever we type `x` it will be the value that we stored in `x`."
   ]
  },
  {
   "cell_type": "code",
   "execution_count": 1,
   "metadata": {
    "execution": {
     "iopub.execute_input": "2022-08-22T10:05:02.868224Z",
     "iopub.status.busy": "2022-08-22T10:05:02.867603Z",
     "iopub.status.idle": "2022-08-22T10:05:02.880118Z",
     "shell.execute_reply": "2022-08-22T10:05:02.879315Z"
    }
   },
   "outputs": [],
   "source": [
    "x = 5"
   ]
  },
  {
   "cell_type": "code",
   "execution_count": 2,
   "metadata": {
    "execution": {
     "iopub.execute_input": "2022-08-22T10:05:02.885328Z",
     "iopub.status.busy": "2022-08-22T10:05:02.885024Z",
     "iopub.status.idle": "2022-08-22T10:05:02.898919Z",
     "shell.execute_reply": "2022-08-22T10:05:02.898152Z"
    }
   },
   "outputs": [
    {
     "data": {
      "text/plain": [
       "5"
      ]
     },
     "execution_count": 2,
     "metadata": {},
     "output_type": "execute_result"
    }
   ],
   "source": [
    "x"
   ]
  },
  {
   "cell_type": "markdown",
   "metadata": {},
   "source": [
    "When we assign a new value to `x`, the old value is forgotten."
   ]
  },
  {
   "cell_type": "code",
   "execution_count": 3,
   "metadata": {
    "execution": {
     "iopub.execute_input": "2022-08-22T10:05:02.905097Z",
     "iopub.status.busy": "2022-08-22T10:05:02.904805Z",
     "iopub.status.idle": "2022-08-22T10:05:02.908619Z",
     "shell.execute_reply": "2022-08-22T10:05:02.907682Z"
    }
   },
   "outputs": [],
   "source": [
    "x = 10"
   ]
  },
  {
   "cell_type": "code",
   "execution_count": 4,
   "metadata": {
    "execution": {
     "iopub.execute_input": "2022-08-22T10:05:02.911527Z",
     "iopub.status.busy": "2022-08-22T10:05:02.911249Z",
     "iopub.status.idle": "2022-08-22T10:05:02.916116Z",
     "shell.execute_reply": "2022-08-22T10:05:02.915418Z"
    }
   },
   "outputs": [
    {
     "data": {
      "text/plain": [
       "10"
      ]
     },
     "execution_count": 4,
     "metadata": {},
     "output_type": "execute_result"
    }
   ],
   "source": [
    "x"
   ]
  },
  {
   "cell_type": "markdown",
   "metadata": {},
   "source": [
    "However, we can also change the value of `x` by assigning the outcome of an expression with `x` as a new value. Let's say that we want to increase `x` by 5:"
   ]
  },
  {
   "cell_type": "code",
   "execution_count": 5,
   "metadata": {
    "execution": {
     "iopub.execute_input": "2022-08-22T10:05:02.918996Z",
     "iopub.status.busy": "2022-08-22T10:05:02.918612Z",
     "iopub.status.idle": "2022-08-22T10:05:02.923199Z",
     "shell.execute_reply": "2022-08-22T10:05:02.922023Z"
    }
   },
   "outputs": [],
   "source": [
    "x = x + 5"
   ]
  },
  {
   "cell_type": "code",
   "execution_count": 6,
   "metadata": {
    "execution": {
     "iopub.execute_input": "2022-08-22T10:05:02.925888Z",
     "iopub.status.busy": "2022-08-22T10:05:02.925525Z",
     "iopub.status.idle": "2022-08-22T10:05:02.930681Z",
     "shell.execute_reply": "2022-08-22T10:05:02.929925Z"
    }
   },
   "outputs": [
    {
     "data": {
      "text/plain": [
       "15"
      ]
     },
     "execution_count": 6,
     "metadata": {},
     "output_type": "execute_result"
    }
   ],
   "source": [
    "x"
   ]
  },
  {
   "cell_type": "markdown",
   "metadata": {},
   "source": [
    "You can read `x = x + 5` as: the new value of `x` becomes the old value of `x` plus `5`."
   ]
  },
  {
   "cell_type": "code",
   "execution_count": 7,
   "metadata": {
    "execution": {
     "iopub.execute_input": "2022-08-22T10:05:02.949566Z",
     "iopub.status.busy": "2022-08-22T10:05:02.948857Z",
     "iopub.status.idle": "2022-08-22T10:05:02.954543Z",
     "shell.execute_reply": "2022-08-22T10:05:02.953189Z"
    }
   },
   "outputs": [],
   "source": [
    "x = x + 5"
   ]
  },
  {
   "cell_type": "code",
   "execution_count": 8,
   "metadata": {
    "execution": {
     "iopub.execute_input": "2022-08-22T10:05:02.959299Z",
     "iopub.status.busy": "2022-08-22T10:05:02.958797Z",
     "iopub.status.idle": "2022-08-22T10:05:02.965661Z",
     "shell.execute_reply": "2022-08-22T10:05:02.964537Z"
    }
   },
   "outputs": [
    {
     "data": {
      "text/plain": [
       "20"
      ]
     },
     "execution_count": 8,
     "metadata": {},
     "output_type": "execute_result"
    }
   ],
   "source": [
    "x"
   ]
  },
  {
   "cell_type": "markdown",
   "metadata": {},
   "source": [
    "Likewise, you can subtract, multiply, literally assign any expression to a variable."
   ]
  },
  {
   "cell_type": "code",
   "execution_count": 9,
   "metadata": {
    "execution": {
     "iopub.execute_input": "2022-08-22T10:05:02.970380Z",
     "iopub.status.busy": "2022-08-22T10:05:02.969939Z",
     "iopub.status.idle": "2022-08-22T10:05:02.974911Z",
     "shell.execute_reply": "2022-08-22T10:05:02.973972Z"
    }
   },
   "outputs": [],
   "source": [
    "x = x * 2 + 2"
   ]
  },
  {
   "cell_type": "code",
   "execution_count": 10,
   "metadata": {
    "execution": {
     "iopub.execute_input": "2022-08-22T10:05:02.979025Z",
     "iopub.status.busy": "2022-08-22T10:05:02.978570Z",
     "iopub.status.idle": "2022-08-22T10:05:02.984637Z",
     "shell.execute_reply": "2022-08-22T10:05:02.983774Z"
    }
   },
   "outputs": [
    {
     "data": {
      "text/plain": [
       "42"
      ]
     },
     "execution_count": 10,
     "metadata": {},
     "output_type": "execute_result"
    }
   ],
   "source": [
    "x"
   ]
  },
  {
   "cell_type": "markdown",
   "metadata": {},
   "source": [
    "# Assignments"
   ]
  },
  {
   "cell_type": "markdown",
   "metadata": {},
   "source": [
    "#### decrease `y` by 2"
   ]
  },
  {
   "cell_type": "code",
   "execution_count": 11,
   "metadata": {
    "execution": {
     "iopub.execute_input": "2022-08-22T10:05:02.988653Z",
     "iopub.status.busy": "2022-08-22T10:05:02.988238Z",
     "iopub.status.idle": "2022-08-22T10:05:02.992972Z",
     "shell.execute_reply": "2022-08-22T10:05:02.991899Z"
    }
   },
   "outputs": [],
   "source": [
    "y = 100"
   ]
  },
  {
   "cell_type": "code",
   "execution_count": 12,
   "metadata": {
    "deletable": false,
    "editable": true,
    "execution": {
     "iopub.execute_input": "2022-08-22T10:05:02.996552Z",
     "iopub.status.busy": "2022-08-22T10:05:02.996188Z",
     "iopub.status.idle": "2022-08-22T10:05:03.001456Z",
     "shell.execute_reply": "2022-08-22T10:05:03.000375Z"
    }
   },
   "outputs": [],
   "source": [
    "%%assignment\n",
    "### ENTER YOUR CODE HERE"
   ]
  },
  {
   "cell_type": "code",
   "execution_count": 13,
   "metadata": {
    "deletable": false,
    "editable": false,
    "execution": {
     "iopub.execute_input": "2022-08-22T10:05:03.004737Z",
     "iopub.status.busy": "2022-08-22T10:05:03.004316Z",
     "iopub.status.idle": "2022-08-22T10:05:03.010839Z",
     "shell.execute_reply": "2022-08-22T10:05:03.010085Z"
    }
   },
   "outputs": [
    {
     "data": {
      "text/html": [
       "<table><tr style=\"background: red; color: white\"><td style=\"text-align:left\">The result for y should be 28 for testcase y = 30 </td></tr></table>"
      ],
      "text/plain": [
       "<IPython.core.display.HTML object>"
      ]
     },
     "metadata": {
      "text/html": {
       "username": "ruud"
      }
     },
     "output_type": "display_data"
    }
   ],
   "source": [
    "%%check\n",
    "y = 30\n",
    "y == 28\n",
    "y = 28\n",
    "y == 26"
   ]
  },
  {
   "cell_type": "markdown",
   "metadata": {},
   "source": [
    "#### Add `bonus` to `salary`"
   ]
  },
  {
   "cell_type": "code",
   "execution_count": 14,
   "metadata": {
    "execution": {
     "iopub.execute_input": "2022-08-22T10:05:03.015586Z",
     "iopub.status.busy": "2022-08-22T10:05:03.015255Z",
     "iopub.status.idle": "2022-08-22T10:05:03.019343Z",
     "shell.execute_reply": "2022-08-22T10:05:03.018396Z"
    }
   },
   "outputs": [],
   "source": [
    "bonus = 100\n",
    "salary = 2000"
   ]
  },
  {
   "cell_type": "code",
   "execution_count": 15,
   "metadata": {
    "deletable": false,
    "editable": true,
    "execution": {
     "iopub.execute_input": "2022-08-22T10:05:03.022840Z",
     "iopub.status.busy": "2022-08-22T10:05:03.022365Z",
     "iopub.status.idle": "2022-08-22T10:05:03.026846Z",
     "shell.execute_reply": "2022-08-22T10:05:03.025820Z"
    }
   },
   "outputs": [],
   "source": [
    "%%assignment\n",
    "### ENTER YOUR CODE HERE"
   ]
  },
  {
   "cell_type": "code",
   "execution_count": 16,
   "metadata": {
    "deletable": false,
    "editable": false,
    "execution": {
     "iopub.execute_input": "2022-08-22T10:05:03.030487Z",
     "iopub.status.busy": "2022-08-22T10:05:03.030115Z",
     "iopub.status.idle": "2022-08-22T10:05:03.036460Z",
     "shell.execute_reply": "2022-08-22T10:05:03.035700Z"
    }
   },
   "outputs": [
    {
     "data": {
      "text/html": [
       "<table><tr style=\"background: red; color: white\"><td style=\"text-align:left\">The result for salary should be 2100</td></tr></table>"
      ],
      "text/plain": [
       "<IPython.core.display.HTML object>"
      ]
     },
     "metadata": {
      "text/html": {
       "username": "ruud"
      }
     },
     "output_type": "display_data"
    }
   ],
   "source": [
    "%%check\n",
    "salary == 2100\n",
    "salary = 2000\n",
    "bonus = 20\n",
    "salary == 2020\n",
    "salary = 2020\n",
    "salary == 2040"
   ]
  }
 ],
 "metadata": {
  "celltoolbar": "Create Assignment",
  "kernelspec": {
   "display_name": "prog",
   "language": "python",
   "name": "prog"
  },
  "language_info": {
   "codemirror_mode": {
    "name": "ipython",
    "version": 3
   },
   "file_extension": ".py",
   "mimetype": "text/x-python",
   "name": "python",
   "nbconvert_exporter": "python",
   "pygments_lexer": "ipython3",
   "version": "3.9.12"
  }
 },
 "nbformat": 4,
 "nbformat_minor": 4
}
