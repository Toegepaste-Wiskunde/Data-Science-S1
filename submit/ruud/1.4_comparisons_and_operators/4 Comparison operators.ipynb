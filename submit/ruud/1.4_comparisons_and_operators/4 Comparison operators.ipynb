{
 "cells": [
  {
   "cell_type": "markdown",
   "metadata": {},
   "source": [
    "# Comparison operators\n",
    "\n",
    "In Python, we can compare values using comparisons. The operators for comparison are written a little different from what we use in Mathematics:\n",
    "\n",
    "| operator | name |\n",
    "| :--------| :----|\n",
    "| x == y   | x equals y |\n",
    "| x > y    | x is greater than y |\n",
    "| x <= y   | x is smaller or equal than y |\n",
    "| x != y   | x is not equal to y |\n",
    "\n",
    "The outcome of a comparison is a Boolean value: True or False."
   ]
  },
  {
   "cell_type": "markdown",
   "metadata": {},
   "source": [
    "# Examples"
   ]
  },
  {
   "cell_type": "code",
   "execution_count": 1,
   "metadata": {
    "execution": {
     "iopub.execute_input": "2022-08-22T10:10:02.593195Z",
     "iopub.status.busy": "2022-08-22T10:10:02.592562Z",
     "iopub.status.idle": "2022-08-22T10:10:02.616019Z",
     "shell.execute_reply": "2022-08-22T10:10:02.614922Z"
    }
   },
   "outputs": [
    {
     "data": {
      "text/plain": [
       "True"
      ]
     },
     "execution_count": 1,
     "metadata": {},
     "output_type": "execute_result"
    }
   ],
   "source": [
    "10 == 10"
   ]
  },
  {
   "cell_type": "code",
   "execution_count": 2,
   "metadata": {
    "execution": {
     "iopub.execute_input": "2022-08-22T10:10:02.621005Z",
     "iopub.status.busy": "2022-08-22T10:10:02.620665Z",
     "iopub.status.idle": "2022-08-22T10:10:02.626530Z",
     "shell.execute_reply": "2022-08-22T10:10:02.625598Z"
    }
   },
   "outputs": [
    {
     "data": {
      "text/plain": [
       "True"
      ]
     },
     "execution_count": 2,
     "metadata": {},
     "output_type": "execute_result"
    }
   ],
   "source": [
    "10 > 5"
   ]
  },
  {
   "cell_type": "code",
   "execution_count": 3,
   "metadata": {
    "execution": {
     "iopub.execute_input": "2022-08-22T10:10:02.630204Z",
     "iopub.status.busy": "2022-08-22T10:10:02.629890Z",
     "iopub.status.idle": "2022-08-22T10:10:02.635685Z",
     "shell.execute_reply": "2022-08-22T10:10:02.634717Z"
    }
   },
   "outputs": [
    {
     "data": {
      "text/plain": [
       "False"
      ]
     },
     "execution_count": 3,
     "metadata": {},
     "output_type": "execute_result"
    }
   ],
   "source": [
    "10 < 5"
   ]
  },
  {
   "cell_type": "markdown",
   "metadata": {},
   "source": [
    "Suppose we want to check whether x is greater than 5"
   ]
  },
  {
   "cell_type": "code",
   "execution_count": 4,
   "metadata": {
    "execution": {
     "iopub.execute_input": "2022-08-22T10:10:02.639186Z",
     "iopub.status.busy": "2022-08-22T10:10:02.638840Z",
     "iopub.status.idle": "2022-08-22T10:10:02.644483Z",
     "shell.execute_reply": "2022-08-22T10:10:02.643704Z"
    }
   },
   "outputs": [
    {
     "data": {
      "text/plain": [
       "True"
      ]
     },
     "execution_count": 4,
     "metadata": {},
     "output_type": "execute_result"
    }
   ],
   "source": [
    "x = 10\n",
    "x > 5"
   ]
  },
  {
   "cell_type": "markdown",
   "metadata": {},
   "source": [
    "However, if `x` had been assigned a different value, the outcome could be different"
   ]
  },
  {
   "cell_type": "code",
   "execution_count": 5,
   "metadata": {
    "execution": {
     "iopub.execute_input": "2022-08-22T10:10:02.647581Z",
     "iopub.status.busy": "2022-08-22T10:10:02.647186Z",
     "iopub.status.idle": "2022-08-22T10:10:02.652683Z",
     "shell.execute_reply": "2022-08-22T10:10:02.651944Z"
    }
   },
   "outputs": [
    {
     "data": {
      "text/plain": [
       "False"
      ]
     },
     "execution_count": 5,
     "metadata": {},
     "output_type": "execute_result"
    }
   ],
   "source": [
    "x = 2\n",
    "x > 5"
   ]
  },
  {
   "cell_type": "markdown",
   "metadata": {},
   "source": [
    "# Assignments"
   ]
  },
  {
   "cell_type": "markdown",
   "metadata": {},
   "source": [
    "Compare if we have enough money to buy 2 soda's"
   ]
  },
  {
   "cell_type": "code",
   "execution_count": 6,
   "metadata": {
    "execution": {
     "iopub.execute_input": "2022-08-22T10:10:02.677184Z",
     "iopub.status.busy": "2022-08-22T10:10:02.676802Z",
     "iopub.status.idle": "2022-08-22T10:10:02.682421Z",
     "shell.execute_reply": "2022-08-22T10:10:02.681336Z"
    }
   },
   "outputs": [],
   "source": [
    "money = 7\n",
    "price_soda = 4"
   ]
  },
  {
   "cell_type": "code",
   "execution_count": 7,
   "metadata": {
    "deletable": false,
    "editable": true,
    "execution": {
     "iopub.execute_input": "2022-08-22T10:10:02.687544Z",
     "iopub.status.busy": "2022-08-22T10:10:02.687090Z",
     "iopub.status.idle": "2022-08-22T10:10:02.693692Z",
     "shell.execute_reply": "2022-08-22T10:10:02.692497Z"
    }
   },
   "outputs": [],
   "source": [
    "%%assignment\n",
    "### ENTER YOUR CODE HERE"
   ]
  },
  {
   "cell_type": "code",
   "execution_count": 8,
   "metadata": {
    "deletable": false,
    "editable": false,
    "execution": {
     "iopub.execute_input": "2022-08-22T10:10:02.698134Z",
     "iopub.status.busy": "2022-08-22T10:10:02.697612Z",
     "iopub.status.idle": "2022-08-22T10:10:02.705844Z",
     "shell.execute_reply": "2022-08-22T10:10:02.704769Z"
    }
   },
   "outputs": [
    {
     "data": {
      "text/html": [
       "<table><tr style=\"background: red; color: white\"><td style=\"text-align:left\">The result should be False for testcase money = 7 , price_soda = 4 </td></tr></table>"
      ],
      "text/plain": [
       "<IPython.core.display.HTML object>"
      ]
     },
     "metadata": {
      "text/html": {
       "username": "ruud"
      }
     },
     "output_type": "display_data"
    }
   ],
   "source": [
    "%%check\n",
    "money = 7\n",
    "price_soda = 4\n",
    "result == False\n",
    "money = 8\n",
    "price_soda = 4\n",
    "result == True"
   ]
  },
  {
   "cell_type": "markdown",
   "metadata": {},
   "source": [
    "#### check if our money and bonus add up to 100"
   ]
  },
  {
   "cell_type": "code",
   "execution_count": 9,
   "metadata": {
    "execution": {
     "iopub.execute_input": "2022-08-22T10:10:02.709742Z",
     "iopub.status.busy": "2022-08-22T10:10:02.709346Z",
     "iopub.status.idle": "2022-08-22T10:10:02.713806Z",
     "shell.execute_reply": "2022-08-22T10:10:02.712939Z"
    }
   },
   "outputs": [],
   "source": [
    "money = 70\n",
    "bonus = 40"
   ]
  },
  {
   "cell_type": "code",
   "execution_count": 10,
   "metadata": {
    "deletable": false,
    "editable": true,
    "execution": {
     "iopub.execute_input": "2022-08-22T10:10:02.717486Z",
     "iopub.status.busy": "2022-08-22T10:10:02.716932Z",
     "iopub.status.idle": "2022-08-22T10:10:02.721618Z",
     "shell.execute_reply": "2022-08-22T10:10:02.720801Z"
    }
   },
   "outputs": [],
   "source": [
    "%%assignment\n",
    "### ENTER YOUR CODE HERE"
   ]
  },
  {
   "cell_type": "code",
   "execution_count": 11,
   "metadata": {
    "deletable": false,
    "editable": false,
    "execution": {
     "iopub.execute_input": "2022-08-22T10:10:02.724829Z",
     "iopub.status.busy": "2022-08-22T10:10:02.724371Z",
     "iopub.status.idle": "2022-08-22T10:10:02.730332Z",
     "shell.execute_reply": "2022-08-22T10:10:02.729604Z"
    }
   },
   "outputs": [
    {
     "data": {
      "text/html": [
       "<table><tr style=\"background: red; color: white\"><td style=\"text-align:left\">The result should be False for testcase money = 70 , bonus = 40 </td></tr></table>"
      ],
      "text/plain": [
       "<IPython.core.display.HTML object>"
      ]
     },
     "metadata": {
      "text/html": {
       "username": "ruud"
      }
     },
     "output_type": "display_data"
    }
   ],
   "source": [
    "%%check\n",
    "money = 70\n",
    "bonus = 40\n",
    "result == False\n",
    "money = 70\n",
    "bonus = 30\n",
    "result == True\n",
    "money = 60\n",
    "bonus = 40\n",
    "result == True"
   ]
  }
 ],
 "metadata": {
  "celltoolbar": "Create Assignment",
  "kernelspec": {
   "display_name": "prog",
   "language": "python",
   "name": "prog"
  },
  "language_info": {
   "codemirror_mode": {
    "name": "ipython",
    "version": 3
   },
   "file_extension": ".py",
   "mimetype": "text/x-python",
   "name": "python",
   "nbconvert_exporter": "python",
   "pygments_lexer": "ipython3",
   "version": "3.9.12"
  }
 },
 "nbformat": 4,
 "nbformat_minor": 4
}
