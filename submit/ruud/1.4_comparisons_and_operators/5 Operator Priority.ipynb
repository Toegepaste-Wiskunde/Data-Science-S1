{
 "cells": [
  {
   "cell_type": "markdown",
   "metadata": {},
   "source": [
    "# Operator precedence\n",
    "\n",
    "Just like in mathematics, operators in programming languages are subject to precedence rules that determine which operator goes first. If we did not have operator precedences, there would be confusion when we see an expression like $ 1 + 2 \\times 3 $, is the answer $7$ or $9$? Because we have a rule that says multiplication take precedence over addition, we know that we should first multiply and then add, so the unambiguous answer is $7$. Whenever we want to bypass predence rules, we can used brackets to make sure that the part within brackets is computed first, e.g. $ (1 + 2) \\times 3$ gives $9$.\n",
    "\n",
    "Python uses a set of precedence rules that correspond to what you are used to in mathematics, albeit a bit more extensive:\n",
    "\n",
    "| Operator  | Description |\n",
    "| :-------- | :---------- |\n",
    "| () | Parentheses (grouping)|\n",
    "function() | Function call (will be discussed later)\n",
    "** | Exponentiation\n",
    "+x, -x | Unary positive/negative\n",
    "*, /, % | Multiplication, division, remainder\n",
    "+, - | Addition, subtraction\n",
    "in, not in, is, is not, <, <=,  >,  >=, <>, !=, == | Comparisons\n",
    "not x | Boolean NOT\n",
    "and\t| Boolean AND\n",
    "or | Boolean OR\n",
    "\n",
    "If an operator is above another it takes precedence. If two operators have the same priority (e.g. + and -) the left-most operator goes first."
   ]
  },
  {
   "cell_type": "markdown",
   "metadata": {},
   "source": [
    "# Examples"
   ]
  },
  {
   "cell_type": "markdown",
   "metadata": {},
   "source": [
    "$ 2 ^ 2 + 2 \\cdot 3 $, the exponent goes first, then multiply, finally add."
   ]
  },
  {
   "cell_type": "code",
   "execution_count": 1,
   "metadata": {
    "execution": {
     "iopub.execute_input": "2022-08-22T09:55:03.341810Z",
     "iopub.status.busy": "2022-08-22T09:55:03.341180Z",
     "iopub.status.idle": "2022-08-22T09:55:03.360941Z",
     "shell.execute_reply": "2022-08-22T09:55:03.360279Z"
    }
   },
   "outputs": [
    {
     "data": {
      "text/plain": [
       "10"
      ]
     },
     "execution_count": 1,
     "metadata": {},
     "output_type": "execute_result"
    }
   ],
   "source": [
    "2 ** 2 + 2 * 3"
   ]
  },
  {
   "cell_type": "markdown",
   "metadata": {},
   "source": [
    "$ \\neg True \\lor True $, since the NOT goes before an OR, we do not need braces"
   ]
  },
  {
   "cell_type": "code",
   "execution_count": 2,
   "metadata": {
    "execution": {
     "iopub.execute_input": "2022-08-22T09:55:03.367278Z",
     "iopub.status.busy": "2022-08-22T09:55:03.366990Z",
     "iopub.status.idle": "2022-08-22T09:55:03.372572Z",
     "shell.execute_reply": "2022-08-22T09:55:03.371461Z"
    }
   },
   "outputs": [
    {
     "data": {
      "text/plain": [
       "True"
      ]
     },
     "execution_count": 2,
     "metadata": {},
     "output_type": "execute_result"
    }
   ],
   "source": [
    "not True or True"
   ]
  },
  {
   "cell_type": "markdown",
   "metadata": {},
   "source": [
    "$ (1 + 2) ^{1 + 3} $, the part within braces go first. Even it no braces are written in the exponent, clearly the intention is to first add the 1 and 3 and then use the result as an exponent."
   ]
  },
  {
   "cell_type": "code",
   "execution_count": 3,
   "metadata": {
    "execution": {
     "iopub.execute_input": "2022-08-22T09:55:03.376721Z",
     "iopub.status.busy": "2022-08-22T09:55:03.376136Z",
     "iopub.status.idle": "2022-08-22T09:55:03.383538Z",
     "shell.execute_reply": "2022-08-22T09:55:03.382558Z"
    }
   },
   "outputs": [
    {
     "data": {
      "text/plain": [
       "81"
      ]
     },
     "execution_count": 3,
     "metadata": {},
     "output_type": "execute_result"
    }
   ],
   "source": [
    "(1 + 2) ** (1 + 3)"
   ]
  },
  {
   "cell_type": "markdown",
   "metadata": {},
   "source": [
    "$ \\sqrt{10 + 15} $, we can write the square root using the function `math.sqrt()`"
   ]
  },
  {
   "cell_type": "code",
   "execution_count": 4,
   "metadata": {
    "execution": {
     "iopub.execute_input": "2022-08-22T09:55:03.387374Z",
     "iopub.status.busy": "2022-08-22T09:55:03.386830Z",
     "iopub.status.idle": "2022-08-22T09:55:03.393288Z",
     "shell.execute_reply": "2022-08-22T09:55:03.392405Z"
    }
   },
   "outputs": [
    {
     "data": {
      "text/plain": [
       "5.0"
      ]
     },
     "execution_count": 4,
     "metadata": {},
     "output_type": "execute_result"
    }
   ],
   "source": [
    "math.sqrt(10 + 15)"
   ]
  },
  {
   "cell_type": "markdown",
   "metadata": {},
   "source": [
    "# Assignments"
   ]
  },
  {
   "cell_type": "markdown",
   "metadata": {},
   "source": [
    "#### Write $ 2 - 3 \\cdot 2 + 2 ^ 3$"
   ]
  },
  {
   "cell_type": "code",
   "execution_count": 5,
   "metadata": {
    "deletable": false,
    "editable": true,
    "execution": {
     "iopub.execute_input": "2022-08-22T09:55:03.413129Z",
     "iopub.status.busy": "2022-08-22T09:55:03.412675Z",
     "iopub.status.idle": "2022-08-22T09:55:03.419518Z",
     "shell.execute_reply": "2022-08-22T09:55:03.418245Z"
    }
   },
   "outputs": [],
   "source": [
    "%%assignment \n",
    "### ENTER YOUR CODE HERE"
   ]
  },
  {
   "cell_type": "code",
   "execution_count": 6,
   "metadata": {
    "deletable": false,
    "editable": false,
    "execution": {
     "iopub.execute_input": "2022-08-22T09:55:03.424928Z",
     "iopub.status.busy": "2022-08-22T09:55:03.424240Z",
     "iopub.status.idle": "2022-08-22T09:55:03.432625Z",
     "shell.execute_reply": "2022-08-22T09:55:03.431552Z"
    }
   },
   "outputs": [
    {
     "data": {
      "text/html": [
       "<table><tr style=\"background: red; color: white\"><td style=\"text-align:left\">The result should be 4</td></tr></table>"
      ],
      "text/plain": [
       "<IPython.core.display.HTML object>"
      ]
     },
     "metadata": {
      "text/html": {
       "username": "ruud"
      }
     },
     "output_type": "display_data"
    }
   ],
   "source": [
    "%%check\n",
    "result == 4\n",
    "mandatory 2 3 - + * **\n",
    "forbidden 1 4 5 6 7 8 9 0"
   ]
  },
  {
   "cell_type": "markdown",
   "metadata": {},
   "source": [
    "#### Write: $ 2 \\cdot 2 ^ 3$"
   ]
  },
  {
   "cell_type": "code",
   "execution_count": 7,
   "metadata": {
    "deletable": false,
    "editable": true,
    "execution": {
     "iopub.execute_input": "2022-08-22T09:55:03.437246Z",
     "iopub.status.busy": "2022-08-22T09:55:03.436794Z",
     "iopub.status.idle": "2022-08-22T09:55:03.442508Z",
     "shell.execute_reply": "2022-08-22T09:55:03.441253Z"
    }
   },
   "outputs": [],
   "source": [
    "%%assignment \n",
    "### ENTER YOUR CODE HERE"
   ]
  },
  {
   "cell_type": "code",
   "execution_count": 8,
   "metadata": {
    "deletable": false,
    "editable": false,
    "execution": {
     "iopub.execute_input": "2022-08-22T09:55:03.445918Z",
     "iopub.status.busy": "2022-08-22T09:55:03.445483Z",
     "iopub.status.idle": "2022-08-22T09:55:03.452640Z",
     "shell.execute_reply": "2022-08-22T09:55:03.451531Z"
    }
   },
   "outputs": [
    {
     "data": {
      "text/html": [
       "<table><tr style=\"background: red; color: white\"><td style=\"text-align:left\">The result should be 16</td></tr></table>"
      ],
      "text/plain": [
       "<IPython.core.display.HTML object>"
      ]
     },
     "metadata": {
      "text/html": {
       "username": "ruud"
      }
     },
     "output_type": "display_data"
    }
   ],
   "source": [
    "%%check\n",
    "result == 16\n",
    "mandatory 2 3 * **\n",
    "forbidden 1 4 5 6 7 8 9 0 + -"
   ]
  },
  {
   "cell_type": "markdown",
   "metadata": {},
   "source": [
    "#### Write: $ (2 + 3) \\cdot 2 ^ {2 + 3} $"
   ]
  },
  {
   "cell_type": "code",
   "execution_count": 9,
   "metadata": {
    "deletable": false,
    "editable": true,
    "execution": {
     "iopub.execute_input": "2022-08-22T09:55:03.456016Z",
     "iopub.status.busy": "2022-08-22T09:55:03.455645Z",
     "iopub.status.idle": "2022-08-22T09:55:03.460058Z",
     "shell.execute_reply": "2022-08-22T09:55:03.459238Z"
    }
   },
   "outputs": [],
   "source": [
    "%%assignment \n",
    "### ENTER YOUR CODE HERE"
   ]
  },
  {
   "cell_type": "code",
   "execution_count": 10,
   "metadata": {
    "deletable": false,
    "editable": false,
    "execution": {
     "iopub.execute_input": "2022-08-22T09:55:03.463135Z",
     "iopub.status.busy": "2022-08-22T09:55:03.462771Z",
     "iopub.status.idle": "2022-08-22T09:55:03.469102Z",
     "shell.execute_reply": "2022-08-22T09:55:03.468130Z"
    }
   },
   "outputs": [
    {
     "data": {
      "text/html": [
       "<table><tr style=\"background: red; color: white\"><td style=\"text-align:left\">The result should be 160</td></tr></table>"
      ],
      "text/plain": [
       "<IPython.core.display.HTML object>"
      ]
     },
     "metadata": {
      "text/html": {
       "username": "ruud"
      }
     },
     "output_type": "display_data"
    }
   ],
   "source": [
    "%%check\n",
    "result == 160\n",
    "mandatory 2 3 * ** + \n",
    "forbidden 1 4 5 6 7 8 9 0 -"
   ]
  },
  {
   "cell_type": "markdown",
   "metadata": {},
   "source": [
    "#### Consider a triangle with a right angle ($90^\\circ$). The adjacent sides are 5 and 12, give the expression to compute the length of the third side (the hypotenuse)."
   ]
  },
  {
   "cell_type": "code",
   "execution_count": 11,
   "metadata": {
    "deletable": false,
    "editable": true,
    "execution": {
     "iopub.execute_input": "2022-08-22T09:55:03.471868Z",
     "iopub.status.busy": "2022-08-22T09:55:03.471566Z",
     "iopub.status.idle": "2022-08-22T09:55:03.475755Z",
     "shell.execute_reply": "2022-08-22T09:55:03.474792Z"
    }
   },
   "outputs": [],
   "source": [
    "%%assignment \n",
    "### ENTER YOUR CODE HERE"
   ]
  },
  {
   "cell_type": "code",
   "execution_count": 12,
   "metadata": {
    "deletable": false,
    "editable": false,
    "execution": {
     "iopub.execute_input": "2022-08-22T09:55:03.478424Z",
     "iopub.status.busy": "2022-08-22T09:55:03.478061Z",
     "iopub.status.idle": "2022-08-22T09:55:03.484186Z",
     "shell.execute_reply": "2022-08-22T09:55:03.483445Z"
    }
   },
   "outputs": [
    {
     "data": {
      "text/html": [
       "<table><tr style=\"background: red; color: white\"><td style=\"text-align:left\">The result should be 13.0</td></tr></table>"
      ],
      "text/plain": [
       "<IPython.core.display.HTML object>"
      ]
     },
     "metadata": {
      "text/html": {
       "username": "ruud"
      }
     },
     "output_type": "display_data"
    }
   ],
   "source": [
    "%%check\n",
    "result == 13.0\n",
    "mandatory 2 5 12 + ( ) sqrt\n",
    "forbidden 0 3 4 6 7 8 9 10 11 13"
   ]
  },
  {
   "cell_type": "markdown",
   "metadata": {},
   "source": [
    "#### What is the order in which the operators are computed in `2 - 3 ** 2 * 2 + 2`"
   ]
  },
  {
   "cell_type": "code",
   "execution_count": 13,
   "metadata": {
    "execution": {
     "iopub.execute_input": "2022-08-22T09:55:03.486976Z",
     "iopub.status.busy": "2022-08-22T09:55:03.486614Z",
     "iopub.status.idle": "2022-08-22T09:55:03.496586Z",
     "shell.execute_reply": "2022-08-22T09:55:03.495903Z"
    },
    "nbgrader": {
     "grade": false,
     "grade_id": "cell-6d11fbc8d7419b39",
     "locked": true,
     "schema_version": 3,
     "solution": false,
     "task": false
    }
   },
   "outputs": [
    {
     "data": {
      "application/vnd.jupyter.widget-view+json": {
       "model_id": "be8130d274464c4e83bdbd99b60af12f",
       "version_major": 2,
       "version_minor": 0
      },
      "text/plain": [
       "RadioButtons(layout=Layout(width='max-content'), options=('* ** + -', '** * - + ', '- + * **', '+ * ** -'), va…"
      ]
     },
     "metadata": {},
     "output_type": "display_data"
    }
   ],
   "source": [
    "%%mc precedence1\n",
    "* ** + -\n",
    "** * - + \n",
    "- + * **\n",
    "+ * ** -"
   ]
  },
  {
   "cell_type": "code",
   "execution_count": 14,
   "metadata": {
    "deletable": false,
    "editable": false,
    "execution": {
     "iopub.execute_input": "2022-08-22T09:55:03.501046Z",
     "iopub.status.busy": "2022-08-22T09:55:03.500780Z",
     "iopub.status.idle": "2022-08-22T09:55:03.505619Z",
     "shell.execute_reply": "2022-08-22T09:55:03.504956Z"
    }
   },
   "outputs": [
    {
     "data": {
      "text/html": [
       "<table><tr style=\"background: red; color: white\"><td style=\"text-align:left\">That is the wrong answer</td></tr></table>"
      ],
      "text/plain": [
       "<IPython.core.display.HTML object>"
      ]
     },
     "metadata": {
      "text/html": {
       "username": "ruud"
      }
     },
     "output_type": "display_data"
    }
   ],
   "source": [
    "%%check\n",
    "hashresult == 2001155512"
   ]
  },
  {
   "cell_type": "markdown",
   "metadata": {},
   "source": [
    "#### What is the order that the operators are computed in `2 * -2 + 3`"
   ]
  },
  {
   "cell_type": "code",
   "execution_count": 15,
   "metadata": {
    "execution": {
     "iopub.execute_input": "2022-08-22T09:55:03.508891Z",
     "iopub.status.busy": "2022-08-22T09:55:03.508570Z",
     "iopub.status.idle": "2022-08-22T09:55:03.518919Z",
     "shell.execute_reply": "2022-08-22T09:55:03.518211Z"
    },
    "nbgrader": {
     "grade": false,
     "grade_id": "cell-5b5280f2bb3ec0b9",
     "locked": true,
     "schema_version": 3,
     "solution": false,
     "task": false
    }
   },
   "outputs": [
    {
     "data": {
      "application/vnd.jupyter.widget-view+json": {
       "model_id": "6b7681626e7d47d88a0b451f4c9b8944",
       "version_major": 2,
       "version_minor": 0
      },
      "text/plain": [
       "RadioButtons(layout=Layout(width='max-content'), options=('- + *', '+ - *', '* - +', '- * +'), value='- + *')"
      ]
     },
     "metadata": {},
     "output_type": "display_data"
    }
   ],
   "source": [
    "%%mc precedence2\n",
    "- + *\n",
    "+ - *\n",
    "* - +\n",
    "- * +"
   ]
  },
  {
   "cell_type": "code",
   "execution_count": 16,
   "metadata": {
    "deletable": false,
    "editable": false,
    "execution": {
     "iopub.execute_input": "2022-08-22T09:55:03.521374Z",
     "iopub.status.busy": "2022-08-22T09:55:03.521091Z",
     "iopub.status.idle": "2022-08-22T09:55:03.525868Z",
     "shell.execute_reply": "2022-08-22T09:55:03.525207Z"
    }
   },
   "outputs": [
    {
     "data": {
      "text/html": [
       "<table><tr style=\"background: red; color: white\"><td style=\"text-align:left\">That is the wrong answer</td></tr></table>"
      ],
      "text/plain": [
       "<IPython.core.display.HTML object>"
      ]
     },
     "metadata": {
      "text/html": {
       "username": "ruud"
      }
     },
     "output_type": "display_data"
    }
   ],
   "source": [
    "%%check\n",
    "hashresult == 2142369314"
   ]
  },
  {
   "cell_type": "code",
   "execution_count": null,
   "metadata": {},
   "outputs": [],
   "source": []
  }
 ],
 "metadata": {
  "celltoolbar": "Create Assignment",
  "kernelspec": {
   "display_name": "prog",
   "language": "python",
   "name": "prog"
  },
  "language_info": {
   "codemirror_mode": {
    "name": "ipython",
    "version": 3
   },
   "file_extension": ".py",
   "mimetype": "text/x-python",
   "name": "python",
   "nbconvert_exporter": "python",
   "pygments_lexer": "ipython3",
   "version": "3.9.12"
  },
  "widgets": {
   "application/vnd.jupyter.widget-state+json": {
    "state": {
     "0c31a326edef4dd5b7079bbdce69906c": {
      "model_module": "@jupyter-widgets/controls",
      "model_module_version": "1.5.0",
      "model_name": "DescriptionStyleModel",
      "state": {
       "_model_module": "@jupyter-widgets/controls",
       "_model_module_version": "1.5.0",
       "_model_name": "DescriptionStyleModel",
       "_view_count": null,
       "_view_module": "@jupyter-widgets/base",
       "_view_module_version": "1.2.0",
       "_view_name": "StyleView",
       "description_width": ""
      }
     },
     "0f8f243ed70444b7bcfe3382ea8241f4": {
      "model_module": "@jupyter-widgets/controls",
      "model_module_version": "1.5.0",
      "model_name": "DescriptionStyleModel",
      "state": {
       "_model_module": "@jupyter-widgets/controls",
       "_model_module_version": "1.5.0",
       "_model_name": "DescriptionStyleModel",
       "_view_count": null,
       "_view_module": "@jupyter-widgets/base",
       "_view_module_version": "1.2.0",
       "_view_name": "StyleView",
       "description_width": ""
      }
     },
     "6b7681626e7d47d88a0b451f4c9b8944": {
      "model_module": "@jupyter-widgets/controls",
      "model_module_version": "1.5.0",
      "model_name": "RadioButtonsModel",
      "state": {
       "_dom_classes": [],
       "_model_module": "@jupyter-widgets/controls",
       "_model_module_version": "1.5.0",
       "_model_name": "RadioButtonsModel",
       "_options_labels": [
        "- + *",
        "+ - *",
        "* - +",
        "- * +"
       ],
       "_view_count": null,
       "_view_module": "@jupyter-widgets/controls",
       "_view_module_version": "1.5.0",
       "_view_name": "RadioButtonsView",
       "description": "",
       "description_tooltip": null,
       "disabled": false,
       "index": 0,
       "layout": "IPY_MODEL_b91095e3fb594f549cc43f04be3a4c6b",
       "style": "IPY_MODEL_0f8f243ed70444b7bcfe3382ea8241f4"
      }
     },
     "b91095e3fb594f549cc43f04be3a4c6b": {
      "model_module": "@jupyter-widgets/base",
      "model_module_version": "1.2.0",
      "model_name": "LayoutModel",
      "state": {
       "_model_module": "@jupyter-widgets/base",
       "_model_module_version": "1.2.0",
       "_model_name": "LayoutModel",
       "_view_count": null,
       "_view_module": "@jupyter-widgets/base",
       "_view_module_version": "1.2.0",
       "_view_name": "LayoutView",
       "align_content": null,
       "align_items": null,
       "align_self": null,
       "border": null,
       "bottom": null,
       "display": null,
       "flex": null,
       "flex_flow": null,
       "grid_area": null,
       "grid_auto_columns": null,
       "grid_auto_flow": null,
       "grid_auto_rows": null,
       "grid_column": null,
       "grid_gap": null,
       "grid_row": null,
       "grid_template_areas": null,
       "grid_template_columns": null,
       "grid_template_rows": null,
       "height": null,
       "justify_content": null,
       "justify_items": null,
       "left": null,
       "margin": null,
       "max_height": null,
       "max_width": null,
       "min_height": null,
       "min_width": null,
       "object_fit": null,
       "object_position": null,
       "order": null,
       "overflow": null,
       "overflow_x": null,
       "overflow_y": null,
       "padding": null,
       "right": null,
       "top": null,
       "visibility": null,
       "width": "max-content"
      }
     },
     "be8130d274464c4e83bdbd99b60af12f": {
      "model_module": "@jupyter-widgets/controls",
      "model_module_version": "1.5.0",
      "model_name": "RadioButtonsModel",
      "state": {
       "_dom_classes": [],
       "_model_module": "@jupyter-widgets/controls",
       "_model_module_version": "1.5.0",
       "_model_name": "RadioButtonsModel",
       "_options_labels": [
        "* ** + -",
        "** * - + ",
        "- + * **",
        "+ * ** -"
       ],
       "_view_count": null,
       "_view_module": "@jupyter-widgets/controls",
       "_view_module_version": "1.5.0",
       "_view_name": "RadioButtonsView",
       "description": "",
       "description_tooltip": null,
       "disabled": false,
       "index": 0,
       "layout": "IPY_MODEL_d31e21347ad34af6a01e475553ede6be",
       "style": "IPY_MODEL_0c31a326edef4dd5b7079bbdce69906c"
      }
     },
     "d31e21347ad34af6a01e475553ede6be": {
      "model_module": "@jupyter-widgets/base",
      "model_module_version": "1.2.0",
      "model_name": "LayoutModel",
      "state": {
       "_model_module": "@jupyter-widgets/base",
       "_model_module_version": "1.2.0",
       "_model_name": "LayoutModel",
       "_view_count": null,
       "_view_module": "@jupyter-widgets/base",
       "_view_module_version": "1.2.0",
       "_view_name": "LayoutView",
       "align_content": null,
       "align_items": null,
       "align_self": null,
       "border": null,
       "bottom": null,
       "display": null,
       "flex": null,
       "flex_flow": null,
       "grid_area": null,
       "grid_auto_columns": null,
       "grid_auto_flow": null,
       "grid_auto_rows": null,
       "grid_column": null,
       "grid_gap": null,
       "grid_row": null,
       "grid_template_areas": null,
       "grid_template_columns": null,
       "grid_template_rows": null,
       "height": null,
       "justify_content": null,
       "justify_items": null,
       "left": null,
       "margin": null,
       "max_height": null,
       "max_width": null,
       "min_height": null,
       "min_width": null,
       "object_fit": null,
       "object_position": null,
       "order": null,
       "overflow": null,
       "overflow_x": null,
       "overflow_y": null,
       "padding": null,
       "right": null,
       "top": null,
       "visibility": null,
       "width": "max-content"
      }
     }
    },
    "version_major": 2,
    "version_minor": 0
   }
  }
 },
 "nbformat": 4,
 "nbformat_minor": 4
}
