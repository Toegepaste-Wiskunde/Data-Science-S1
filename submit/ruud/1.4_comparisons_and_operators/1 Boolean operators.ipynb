{
 "cells": [
  {
   "cell_type": "markdown",
   "metadata": {},
   "source": [
    "# Boolean operators"
   ]
  },
  {
   "cell_type": "markdown",
   "metadata": {},
   "source": [
    "In programming languages, it is really important to be able to work with booleans (True/False). As we will see later, in bigger programs booleans are used to decide which blocks of programming code to execute. The three most basic operators from proposition logic are `and`, `or` and `not`. We can combine these operators with comparison operators (e.g. `>`, `<`, `==`) to create to create advanced boolean expressions. "
   ]
  },
  {
   "cell_type": "markdown",
   "metadata": {},
   "source": [
    "In mathematics, proposition logic is the topic that deals with calculations with boolean values.\n",
    "\n",
    "Mathematical notation | Python notation\n",
    ":-----:|:-----:\n",
    "∧ | `and`\n",
    "∨ | `or`\n",
    "$\\neg$ | `not`\n",
    "=  (compare) | ==\n",
    "> | >\n",
    "< | <\n",
    "$\\ge$ | >=\n",
    "$\\le$ | <=\n",
    "$\\ne$ | !="
   ]
  },
  {
   "cell_type": "markdown",
   "metadata": {},
   "source": [
    "### Truth tables\n",
    "To define a boolean operator, often a truth table (NL waarheidstabel) is used. A truth table defines the result of a boolean operator, relating the input to the output.\n",
    "\n",
    "$p$ | not ($\\neg p$)\n",
    ":-----:|:-----:\n",
    "False | True\n",
    "True | False\n",
    "\n",
    "$p$ | $q$ | and $$p \\wedge q$$ | or $$p \\vee q$$\n",
    ":-----:|:-----:|:-----:|:-----:\n",
    "False | False | False | False\n",
    "False | True | False | True\n",
    "True | False | False | True\n",
    "True | True | True | True"
   ]
  },
  {
   "cell_type": "markdown",
   "metadata": {},
   "source": [
    "In mathematics, we know two other logical operators, but these are not available in Python.\n",
    "\n",
    "$p$ | $q$ | implication $$p \\Rightarrow q$$ | equivalence $$p \\Leftrightarrow q$$\n",
    ":-----:|:-----:|:-----:|:-----:\n",
    "False | False | True | True\n",
    "False | True | True | False\n",
    "True | False | False | False\n",
    "True | True | True | True\n",
    "\n",
    "In practise though, the equivalence is the same as `==` with boolean arguments.\n",
    "\n",
    "An equivalence is only True if the arguments on both sides of the operator are the same.\n",
    "The implication can be interpreted as an if ... then ...\n",
    "\n",
    "For example, consider the proposition \"If you've cleaned up, then it's neat\". When is this assertion true?\n",
    "\n",
    "You've cleaned up | It's neat | You've cleaned up $\\Rightarrow$ It's neat\n",
    ":-----|:-----|:-----\n",
    "I have not cleaned up (False) | It is a mess (False) | the assertion above is valid (True)\n",
    "I have not cleaned up (False) | It's neat (True) | the assertion above is valid, maybe someone else cleaned up (True)\n",
    "I have cleaned up (True) | It is a mess (False) | this is not possible, after cleaning up it always is neat (False)\n",
    "I have cleaned up (True) | It's neat (True) | the assertion above obviously is valid (True)"
   ]
  },
  {
   "cell_type": "markdown",
   "metadata": {},
   "source": [
    "### Example\n",
    "\n",
    "Compute $\\text{True} \\land \\text{False}$"
   ]
  },
  {
   "cell_type": "code",
   "execution_count": 1,
   "metadata": {
    "execution": {
     "iopub.execute_input": "2022-08-22T09:50:02.618618Z",
     "iopub.status.busy": "2022-08-22T09:50:02.618110Z",
     "iopub.status.idle": "2022-08-22T09:50:02.638533Z",
     "shell.execute_reply": "2022-08-22T09:50:02.637858Z"
    }
   },
   "outputs": [
    {
     "data": {
      "text/plain": [
       "False"
      ]
     },
     "execution_count": 1,
     "metadata": {},
     "output_type": "execute_result"
    }
   ],
   "source": [
    "True and False"
   ]
  },
  {
   "cell_type": "markdown",
   "metadata": {},
   "source": [
    "True $\\vee$ $\\neg$False"
   ]
  },
  {
   "cell_type": "code",
   "execution_count": 2,
   "metadata": {
    "execution": {
     "iopub.execute_input": "2022-08-22T09:50:02.657102Z",
     "iopub.status.busy": "2022-08-22T09:50:02.656651Z",
     "iopub.status.idle": "2022-08-22T09:50:02.664773Z",
     "shell.execute_reply": "2022-08-22T09:50:02.663545Z"
    }
   },
   "outputs": [
    {
     "data": {
      "text/plain": [
       "True"
      ]
     },
     "execution_count": 2,
     "metadata": {},
     "output_type": "execute_result"
    }
   ],
   "source": [
    "True or not False"
   ]
  },
  {
   "cell_type": "markdown",
   "metadata": {},
   "source": [
    "`age` is greater or equal to 25. You can try different values for age"
   ]
  },
  {
   "cell_type": "code",
   "execution_count": 3,
   "metadata": {
    "execution": {
     "iopub.execute_input": "2022-08-22T09:50:02.669335Z",
     "iopub.status.busy": "2022-08-22T09:50:02.668872Z",
     "iopub.status.idle": "2022-08-22T09:50:02.673883Z",
     "shell.execute_reply": "2022-08-22T09:50:02.672903Z"
    }
   },
   "outputs": [],
   "source": [
    "age = 30"
   ]
  },
  {
   "cell_type": "code",
   "execution_count": 4,
   "metadata": {
    "execution": {
     "iopub.execute_input": "2022-08-22T09:50:02.677685Z",
     "iopub.status.busy": "2022-08-22T09:50:02.677247Z",
     "iopub.status.idle": "2022-08-22T09:50:02.683929Z",
     "shell.execute_reply": "2022-08-22T09:50:02.682872Z"
    }
   },
   "outputs": [
    {
     "data": {
      "text/plain": [
       "True"
      ]
     },
     "execution_count": 4,
     "metadata": {},
     "output_type": "execute_result"
    }
   ],
   "source": [
    "age >= 25"
   ]
  },
  {
   "cell_type": "markdown",
   "metadata": {},
   "source": [
    "### Assignments"
   ]
  },
  {
   "cell_type": "markdown",
   "metadata": {},
   "source": [
    "age is smaller than 65"
   ]
  },
  {
   "cell_type": "code",
   "execution_count": 5,
   "metadata": {
    "execution": {
     "iopub.execute_input": "2022-08-22T09:50:02.687581Z",
     "iopub.status.busy": "2022-08-22T09:50:02.687178Z",
     "iopub.status.idle": "2022-08-22T09:50:02.691690Z",
     "shell.execute_reply": "2022-08-22T09:50:02.690816Z"
    }
   },
   "outputs": [],
   "source": [
    "age = 30"
   ]
  },
  {
   "cell_type": "code",
   "execution_count": 6,
   "metadata": {
    "deletable": false,
    "editable": true,
    "execution": {
     "iopub.execute_input": "2022-08-22T09:50:02.695096Z",
     "iopub.status.busy": "2022-08-22T09:50:02.694679Z",
     "iopub.status.idle": "2022-08-22T09:50:02.699751Z",
     "shell.execute_reply": "2022-08-22T09:50:02.698873Z"
    }
   },
   "outputs": [],
   "source": [
    "%%assignment\n",
    "### ENTER YOUR CODE HERE"
   ]
  },
  {
   "cell_type": "code",
   "execution_count": 7,
   "metadata": {
    "deletable": false,
    "editable": false,
    "execution": {
     "iopub.execute_input": "2022-08-22T09:50:02.702832Z",
     "iopub.status.busy": "2022-08-22T09:50:02.702448Z",
     "iopub.status.idle": "2022-08-22T09:50:02.709395Z",
     "shell.execute_reply": "2022-08-22T09:50:02.708458Z"
    }
   },
   "outputs": [
    {
     "data": {
      "text/html": [
       "<table><tr style=\"background: red; color: white\"><td style=\"text-align:left\"> When age is 64 the result has to be True</td></tr></table>"
      ],
      "text/plain": [
       "<IPython.core.display.HTML object>"
      ]
     },
     "metadata": {
      "text/html": {
       "username": "ruud"
      }
     },
     "output_type": "display_data"
    }
   ],
   "source": [
    "%%check\n",
    "age = 64\n",
    "result == True # When age is 64 the result has to be True\n",
    "age = 65\n",
    "result == False # When age is 65 the result has to be False"
   ]
  },
  {
   "cell_type": "markdown",
   "metadata": {},
   "source": [
    "`age` is between 25 and 65\n",
    "\n",
    "NB in programming it is common that when we say between the lower bound is inclusive (>=) and the upper bound is exclusive (<)."
   ]
  },
  {
   "cell_type": "code",
   "execution_count": 8,
   "metadata": {
    "execution": {
     "iopub.execute_input": "2022-08-22T09:50:02.712568Z",
     "iopub.status.busy": "2022-08-22T09:50:02.712234Z",
     "iopub.status.idle": "2022-08-22T09:50:02.716561Z",
     "shell.execute_reply": "2022-08-22T09:50:02.715563Z"
    }
   },
   "outputs": [],
   "source": [
    "age = 30"
   ]
  },
  {
   "cell_type": "code",
   "execution_count": 9,
   "metadata": {
    "deletable": false,
    "editable": true,
    "execution": {
     "iopub.execute_input": "2022-08-22T09:50:02.719466Z",
     "iopub.status.busy": "2022-08-22T09:50:02.719168Z",
     "iopub.status.idle": "2022-08-22T09:50:02.723488Z",
     "shell.execute_reply": "2022-08-22T09:50:02.722501Z"
    }
   },
   "outputs": [],
   "source": [
    "%%assignment\n",
    "# Hint: use a combination of comparison and proposition logic\n",
    "### ENTER YOUR CODE HERE"
   ]
  },
  {
   "cell_type": "code",
   "execution_count": 10,
   "metadata": {
    "deletable": false,
    "editable": false,
    "execution": {
     "iopub.execute_input": "2022-08-22T09:50:02.726427Z",
     "iopub.status.busy": "2022-08-22T09:50:02.726064Z",
     "iopub.status.idle": "2022-08-22T09:50:02.732911Z",
     "shell.execute_reply": "2022-08-22T09:50:02.731673Z"
    }
   },
   "outputs": [
    {
     "data": {
      "text/html": [
       "<table><tr style=\"background: red; color: white\"><td style=\"text-align:left\"> When age is 24 the result has to be False</td></tr></table>"
      ],
      "text/plain": [
       "<IPython.core.display.HTML object>"
      ]
     },
     "metadata": {
      "text/html": {
       "username": "ruud"
      }
     },
     "output_type": "display_data"
    }
   ],
   "source": [
    "%%check\n",
    "age = 24\n",
    "result == False # When age is 24 the result has to be False\n",
    "age = 25\n",
    "result == True # When age is 25 the result has to be True\n",
    "age = 64\n",
    "result == True # When age is 64 the result has to be True\n",
    "age = 65\n",
    "result == False # When age is 65 the result has to be False"
   ]
  },
  {
   "cell_type": "markdown",
   "metadata": {},
   "source": [
    "age is greater than 18 or length is smaller than 180"
   ]
  },
  {
   "cell_type": "code",
   "execution_count": 11,
   "metadata": {
    "execution": {
     "iopub.execute_input": "2022-08-22T09:50:02.735791Z",
     "iopub.status.busy": "2022-08-22T09:50:02.735450Z",
     "iopub.status.idle": "2022-08-22T09:50:02.739543Z",
     "shell.execute_reply": "2022-08-22T09:50:02.738803Z"
    }
   },
   "outputs": [],
   "source": [
    "age = 18\n",
    "length = 180"
   ]
  },
  {
   "cell_type": "code",
   "execution_count": 12,
   "metadata": {
    "deletable": false,
    "editable": true,
    "execution": {
     "iopub.execute_input": "2022-08-22T09:50:02.742316Z",
     "iopub.status.busy": "2022-08-22T09:50:02.741987Z",
     "iopub.status.idle": "2022-08-22T09:50:02.746139Z",
     "shell.execute_reply": "2022-08-22T09:50:02.745386Z"
    }
   },
   "outputs": [],
   "source": [
    "%%assignment\n",
    "### ENTER YOUR CODE HERE"
   ]
  },
  {
   "cell_type": "code",
   "execution_count": 13,
   "metadata": {
    "deletable": false,
    "editable": false,
    "execution": {
     "iopub.execute_input": "2022-08-22T09:50:02.748993Z",
     "iopub.status.busy": "2022-08-22T09:50:02.748670Z",
     "iopub.status.idle": "2022-08-22T09:50:02.754643Z",
     "shell.execute_reply": "2022-08-22T09:50:02.753749Z"
    }
   },
   "outputs": [
    {
     "data": {
      "text/html": [
       "<table><tr style=\"background: red; color: white\"><td style=\"text-align:left\">The result should be True for testcase age, length = 17, 179 </td></tr></table>"
      ],
      "text/plain": [
       "<IPython.core.display.HTML object>"
      ]
     },
     "metadata": {
      "text/html": {
       "username": "ruud"
      }
     },
     "output_type": "display_data"
    }
   ],
   "source": [
    "%%check\n",
    "age, length = 17, 179\n",
    "result == True\n",
    "age, length = 17, 180\n",
    "result == False\n",
    "age, length = 18, 0\n",
    "result == True"
   ]
  },
  {
   "cell_type": "markdown",
   "metadata": {},
   "source": [
    "age is at least 18 or drink is not 'beer'"
   ]
  },
  {
   "cell_type": "code",
   "execution_count": 14,
   "metadata": {
    "execution": {
     "iopub.execute_input": "2022-08-22T09:50:02.757285Z",
     "iopub.status.busy": "2022-08-22T09:50:02.756980Z",
     "iopub.status.idle": "2022-08-22T09:50:02.760589Z",
     "shell.execute_reply": "2022-08-22T09:50:02.759869Z"
    }
   },
   "outputs": [],
   "source": [
    "age = 17\n",
    "drink = 'beer'"
   ]
  },
  {
   "cell_type": "code",
   "execution_count": 15,
   "metadata": {
    "deletable": false,
    "editable": true,
    "execution": {
     "iopub.execute_input": "2022-08-22T09:50:02.763268Z",
     "iopub.status.busy": "2022-08-22T09:50:02.762970Z",
     "iopub.status.idle": "2022-08-22T09:50:02.766834Z",
     "shell.execute_reply": "2022-08-22T09:50:02.766122Z"
    }
   },
   "outputs": [],
   "source": [
    "%%assignment\n",
    "### ENTER YOUR CODE HERE"
   ]
  },
  {
   "cell_type": "code",
   "execution_count": 16,
   "metadata": {
    "deletable": false,
    "editable": false,
    "execution": {
     "iopub.execute_input": "2022-08-22T09:50:02.769302Z",
     "iopub.status.busy": "2022-08-22T09:50:02.769000Z",
     "iopub.status.idle": "2022-08-22T09:50:02.774609Z",
     "shell.execute_reply": "2022-08-22T09:50:02.773648Z"
    }
   },
   "outputs": [
    {
     "data": {
      "text/html": [
       "<table><tr style=\"background: red; color: white\"><td style=\"text-align:left\">The result should be False for testcase age = 17 , drink = 'beer' </td></tr></table>"
      ],
      "text/plain": [
       "<IPython.core.display.HTML object>"
      ]
     },
     "metadata": {
      "text/html": {
       "username": "ruud"
      }
     },
     "output_type": "display_data"
    }
   ],
   "source": [
    "%%check\n",
    "age = 17\n",
    "drink = 'beer'\n",
    "result == False\n",
    "age = 18\n",
    "result == True\n",
    "age = 17\n",
    "drink = 'cola'\n",
    "result == True"
   ]
  },
  {
   "cell_type": "markdown",
   "metadata": {},
   "source": [
    "### Implication\n",
    "Write code that acts as an implication. You can only use two logical operators!"
   ]
  },
  {
   "cell_type": "code",
   "execution_count": 17,
   "metadata": {
    "execution": {
     "iopub.execute_input": "2022-08-22T09:50:02.777123Z",
     "iopub.status.busy": "2022-08-22T09:50:02.776837Z",
     "iopub.status.idle": "2022-08-22T09:50:02.780528Z",
     "shell.execute_reply": "2022-08-22T09:50:02.779700Z"
    }
   },
   "outputs": [],
   "source": [
    "p = True\n",
    "q = False"
   ]
  },
  {
   "cell_type": "code",
   "execution_count": 18,
   "metadata": {
    "deletable": false,
    "editable": true,
    "execution": {
     "iopub.execute_input": "2022-08-22T09:50:02.782984Z",
     "iopub.status.busy": "2022-08-22T09:50:02.782742Z",
     "iopub.status.idle": "2022-08-22T09:50:02.786643Z",
     "shell.execute_reply": "2022-08-22T09:50:02.785779Z"
    }
   },
   "outputs": [],
   "source": [
    "%%assignment\n",
    "### ENTER YOUR CODE HERE"
   ]
  },
  {
   "cell_type": "code",
   "execution_count": 19,
   "metadata": {
    "deletable": false,
    "editable": false,
    "execution": {
     "iopub.execute_input": "2022-08-22T09:50:02.789059Z",
     "iopub.status.busy": "2022-08-22T09:50:02.788759Z",
     "iopub.status.idle": "2022-08-22T09:50:02.794398Z",
     "shell.execute_reply": "2022-08-22T09:50:02.793537Z"
    }
   },
   "outputs": [
    {
     "data": {
      "text/html": [
       "<table><tr style=\"background: red; color: white\"><td style=\"text-align:left\">The result should be False for testcase p = True , q = False </td></tr></table>"
      ],
      "text/plain": [
       "<IPython.core.display.HTML object>"
      ]
     },
     "metadata": {
      "text/html": {
       "username": "ruud"
      }
     },
     "output_type": "display_data"
    }
   ],
   "source": [
    "%%check\n",
    "p = True\n",
    "q = False\n",
    "result == False\n",
    "q = True\n",
    "result == True\n",
    "p = False\n",
    "result == True\n",
    "q = False\n",
    "result == True\n",
    "mandatory not or"
   ]
  }
 ],
 "metadata": {
  "celltoolbar": "Create Assignment",
  "kernelspec": {
   "display_name": "prog",
   "language": "python",
   "name": "prog"
  },
  "language_info": {
   "codemirror_mode": {
    "name": "ipython",
    "version": 3
   },
   "file_extension": ".py",
   "mimetype": "text/x-python",
   "name": "python",
   "nbconvert_exporter": "python",
   "pygments_lexer": "ipython3",
   "version": "3.9.12"
  }
 },
 "nbformat": 4,
 "nbformat_minor": 4
}
