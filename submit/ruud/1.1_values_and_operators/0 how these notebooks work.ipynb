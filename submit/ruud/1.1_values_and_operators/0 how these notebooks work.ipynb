{
 "cells": [
  {
   "cell_type": "markdown",
   "metadata": {},
   "source": [
    "# Working on notebook assignments\n",
    "\n",
    "The examples and assignments are printed in bold. Underneath are cells for you to execute and to complete. The assignments are mostly scored automatically, and if you fail on an assignment hopefully you receive some useful feedback. \n",
    "\n",
    "Here is how it works (examples are numbered below):\n",
    "1. You can run (execute) a cell by selecting it and either clicking `Run` in the toolbar or pressing `Shift-Enter`.\n",
    "2. There may be a cell that does not start with `%%`. Run that cell first. This could be an example that demonstrates how something works, or for an asignment some code that we provide to setup something you need to do the assignent.\n",
    "3. Next, there could be a cell that starts wil %%assignment. You have to fill in your code below the %%assignment and run the cell. If you get an error or the answer is not what you think it should be, you can change the code and run the second cell again.\n",
    "4. Or you could have a cell that starts with `%%` and something else. These are often cells that generate a multiple choice question. Run the cell and answer the question\n",
    "5. Then you see a cell containing `%%check`. This cell automatically checks your answer, provides feedback and helps to grade your work. Don't pay too much attention to what is in that cell, rather focus on the assignment itself. And don't change the contents of this cell, because then you cannot submit it anymore to receive a grade.\n",
    "6. If you get it right you will see a green `Correct!` sign. Well done! \n",
    "7. If you get it wrong, try to change your solution in the second cell, run the second cell again and then the third cell again."
   ]
  },
  {
   "cell_type": "markdown",
   "metadata": {},
   "source": [
    "# demonstrate how assignments work\n",
    "\n",
    "This is not a lesson yet, this is just for you to understand how this learning environment works. So do not focus on the code, but rather just follow the instruction and notice the numbers (1-7) to see which of the above steps we are demonstrating.\n",
    "\n",
    "Let's go!"
   ]
  },
  {
   "cell_type": "markdown",
   "metadata": {},
   "source": [
    "### Example\n",
    "\n",
    "(2) So this is an example, it contains just a cell of code that you should inspect and run to see what it does. (1) You run (execute) the cell below by selecting it and either clicking `Run` in the toolbar or pressing `Shift-Enter`."
   ]
  },
  {
   "cell_type": "code",
   "execution_count": 1,
   "metadata": {
    "execution": {
     "iopub.execute_input": "2022-08-22T13:05:03.174571Z",
     "iopub.status.busy": "2022-08-22T13:05:03.173941Z",
     "iopub.status.idle": "2022-08-22T13:05:03.192559Z",
     "shell.execute_reply": "2022-08-22T13:05:03.191878Z"
    }
   },
   "outputs": [
    {
     "data": {
      "text/plain": [
       "'Hi there! We are excited that you are joinig our online Python class.'"
      ]
     },
     "execution_count": 1,
     "metadata": {},
     "output_type": "execute_result"
    }
   ],
   "source": [
    "'Hi there! We are excited that you are joinig our online Python class.'"
   ]
  },
  {
   "cell_type": "markdown",
   "metadata": {},
   "source": [
    "### Assignment: display the text 'Wonderful!'\n",
    "\n",
    "(3) so above is a text description of what you should do. Below is a cell with `%%assignment`. Replace the `### PUT YOUR CODE HERE` line with the exact text `'Wonderful!'` and run the cell."
   ]
  },
  {
   "cell_type": "code",
   "execution_count": 2,
   "metadata": {
    "deletable": false,
    "editable": true,
    "execution": {
     "iopub.execute_input": "2022-08-22T13:05:03.198855Z",
     "iopub.status.busy": "2022-08-22T13:05:03.198668Z",
     "iopub.status.idle": "2022-08-22T13:05:03.202779Z",
     "shell.execute_reply": "2022-08-22T13:05:03.201963Z"
    }
   },
   "outputs": [],
   "source": [
    "%%assignment\n",
    "### ENTER YOUR CODE HERE"
   ]
  },
  {
   "cell_type": "markdown",
   "metadata": {},
   "source": [
    "(5) the next cell autmatically checks whether you gave the right answer. This will only work if you run the check right after you run the cell with your solution to the assignment. (6) In this case, you should see a green `Correct!` sign."
   ]
  },
  {
   "cell_type": "code",
   "execution_count": 3,
   "metadata": {
    "deletable": false,
    "editable": false,
    "execution": {
     "iopub.execute_input": "2022-08-22T13:05:03.206074Z",
     "iopub.status.busy": "2022-08-22T13:05:03.205779Z",
     "iopub.status.idle": "2022-08-22T13:05:03.210775Z",
     "shell.execute_reply": "2022-08-22T13:05:03.210092Z"
    }
   },
   "outputs": [
    {
     "data": {
      "text/html": [
       "<table><tr style=\"background: red; color: white\"><td style=\"text-align:left\">The result should be 'Wonderful!'</td></tr></table>"
      ],
      "text/plain": [
       "<IPython.core.display.HTML object>"
      ]
     },
     "metadata": {
      "text/html": {
       "username": "ruud"
      }
     },
     "output_type": "display_data"
    }
   ],
   "source": [
    "%%check\n",
    "result == 'Wonderful!'"
   ]
  },
  {
   "cell_type": "markdown",
   "metadata": {},
   "source": [
    "### Another Assignment: add the values for salary and bonus to get income\n",
    "\n",
    "(2) In this assignment, we have setup an example and give you values for salary and bonus to work with. (1) Execute the cell below first."
   ]
  },
  {
   "cell_type": "code",
   "execution_count": 4,
   "metadata": {
    "execution": {
     "iopub.execute_input": "2022-08-22T13:05:03.213557Z",
     "iopub.status.busy": "2022-08-22T13:05:03.213267Z",
     "iopub.status.idle": "2022-08-22T13:05:03.216860Z",
     "shell.execute_reply": "2022-08-22T13:05:03.216062Z"
    }
   },
   "outputs": [],
   "source": [
    "salary = 1000\n",
    "bonus = 200"
   ]
  },
  {
   "cell_type": "markdown",
   "metadata": {},
   "source": [
    "(3) then complete the assignment by replacing the `### PUT YOUR CODE HERE` line with the exact text:\n",
    "\n",
    "`income = salary + bonus` \n",
    "\n",
    "and (1) run the cell."
   ]
  },
  {
   "cell_type": "code",
   "execution_count": 5,
   "metadata": {
    "deletable": false,
    "editable": true,
    "execution": {
     "iopub.execute_input": "2022-08-22T13:05:03.219654Z",
     "iopub.status.busy": "2022-08-22T13:05:03.219388Z",
     "iopub.status.idle": "2022-08-22T13:05:03.223267Z",
     "shell.execute_reply": "2022-08-22T13:05:03.222351Z"
    }
   },
   "outputs": [],
   "source": [
    "%%assignment\n",
    "### ENTER YOUR CODE HERE"
   ]
  },
  {
   "cell_type": "markdown",
   "metadata": {},
   "source": [
    "(5) Run the next cell to automatically check whether you gave the right answer. This will only work if you run the check right after you run the cell with your solution to the assignment. (6) In this case, you should see a green `Correct!` sign."
   ]
  },
  {
   "cell_type": "code",
   "execution_count": 6,
   "metadata": {
    "deletable": false,
    "editable": false,
    "execution": {
     "iopub.execute_input": "2022-08-22T13:05:03.241179Z",
     "iopub.status.busy": "2022-08-22T13:05:03.240614Z",
     "iopub.status.idle": "2022-08-22T13:05:03.620299Z",
     "shell.execute_reply": "2022-08-22T13:05:03.619630Z"
    }
   },
   "outputs": [
    {
     "ename": "NameError",
     "evalue": "name 'income' is not defined",
     "output_type": "error",
     "traceback": [
      "\u001b[0;31m---------------------------------------------------------------------------\u001b[0m",
      "\u001b[0;31mNameError\u001b[0m                                 Traceback (most recent call last)",
      "Input \u001b[0;32mIn [6]\u001b[0m, in \u001b[0;36m<cell line: 1>\u001b[0;34m()\u001b[0m\n\u001b[0;32m----> 1\u001b[0m \u001b[43mget_ipython\u001b[49m\u001b[43m(\u001b[49m\u001b[43m)\u001b[49m\u001b[38;5;241;43m.\u001b[39;49m\u001b[43mrun_cell_magic\u001b[49m\u001b[43m(\u001b[49m\u001b[38;5;124;43m'\u001b[39;49m\u001b[38;5;124;43mcheck\u001b[39;49m\u001b[38;5;124;43m'\u001b[39;49m\u001b[43m,\u001b[49m\u001b[43m \u001b[49m\u001b[38;5;124;43m'\u001b[39;49m\u001b[38;5;124;43m'\u001b[39;49m\u001b[43m,\u001b[49m\u001b[43m \u001b[49m\u001b[38;5;124;43m'\u001b[39;49m\u001b[38;5;124;43msalary,bonus = 1000,200\u001b[39;49m\u001b[38;5;130;43;01m\\n\u001b[39;49;00m\u001b[38;5;124;43mincome == 1200\u001b[39;49m\u001b[38;5;130;43;01m\\n\u001b[39;49;00m\u001b[38;5;124;43msalary,bonus = 100,300\u001b[39;49m\u001b[38;5;130;43;01m\\n\u001b[39;49;00m\u001b[38;5;124;43mincome == 400\u001b[39;49m\u001b[38;5;130;43;01m\\n\u001b[39;49;00m\u001b[38;5;124;43m'\u001b[39;49m\u001b[43m)\u001b[49m\n",
      "File \u001b[0;32m/opt/jupyterhub/anaconda/lib/python3.9/site-packages/IPython/core/interactiveshell.py:2358\u001b[0m, in \u001b[0;36mInteractiveShell.run_cell_magic\u001b[0;34m(self, magic_name, line, cell)\u001b[0m\n\u001b[1;32m   2356\u001b[0m \u001b[38;5;28;01mwith\u001b[39;00m \u001b[38;5;28mself\u001b[39m\u001b[38;5;241m.\u001b[39mbuiltin_trap:\n\u001b[1;32m   2357\u001b[0m     args \u001b[38;5;241m=\u001b[39m (magic_arg_s, cell)\n\u001b[0;32m-> 2358\u001b[0m     result \u001b[38;5;241m=\u001b[39m \u001b[43mfn\u001b[49m\u001b[43m(\u001b[49m\u001b[38;5;241;43m*\u001b[39;49m\u001b[43margs\u001b[49m\u001b[43m,\u001b[49m\u001b[43m \u001b[49m\u001b[38;5;241;43m*\u001b[39;49m\u001b[38;5;241;43m*\u001b[39;49m\u001b[43mkwargs\u001b[49m\u001b[43m)\u001b[49m\n\u001b[1;32m   2359\u001b[0m \u001b[38;5;28;01mreturn\u001b[39;00m result\n",
      "File \u001b[0;32m<string>:199\u001b[0m, in \u001b[0;36mcheck\u001b[0;34m(self, nr, checks)\u001b[0m\n",
      "File \u001b[0;32m<string>:231\u001b[0m, in \u001b[0;36mcheck2\u001b[0;34m(self)\u001b[0m\n",
      "File \u001b[0;32m<string>:150\u001b[0m, in \u001b[0;36meval\u001b[0;34m(self, script, prelude)\u001b[0m\n",
      "File \u001b[0;32m/opt/jupyterhub/anaconda/lib/python3.9/site-packages/IPython/core/interactiveshell.py:2684\u001b[0m, in \u001b[0;36mInteractiveShell.ex\u001b[0;34m(self, cmd)\u001b[0m\n\u001b[1;32m   2682\u001b[0m \u001b[38;5;124;03m\"\"\"Execute a normal python statement in user namespace.\"\"\"\u001b[39;00m\n\u001b[1;32m   2683\u001b[0m \u001b[38;5;28;01mwith\u001b[39;00m \u001b[38;5;28mself\u001b[39m\u001b[38;5;241m.\u001b[39mbuiltin_trap:\n\u001b[0;32m-> 2684\u001b[0m     \u001b[43mexec\u001b[49m\u001b[43m(\u001b[49m\u001b[43mcmd\u001b[49m\u001b[43m,\u001b[49m\u001b[43m \u001b[49m\u001b[38;5;28;43mself\u001b[39;49m\u001b[38;5;241;43m.\u001b[39;49m\u001b[43muser_global_ns\u001b[49m\u001b[43m,\u001b[49m\u001b[43m \u001b[49m\u001b[38;5;28;43mself\u001b[39;49m\u001b[38;5;241;43m.\u001b[39;49m\u001b[43muser_ns\u001b[49m\u001b[43m)\u001b[49m\n",
      "File \u001b[0;32m<string>:1\u001b[0m, in \u001b[0;36m<module>\u001b[0;34m\u001b[0m\n",
      "\u001b[0;31mNameError\u001b[0m: name 'income' is not defined"
     ]
    }
   ],
   "source": [
    "%%check\n",
    "salary,bonus = 1000,200\n",
    "income == 1200\n",
    "salary,bonus = 100,300\n",
    "income == 400"
   ]
  },
  {
   "cell_type": "markdown",
   "metadata": {},
   "source": [
    "(3) Now for the same assignment, we will have made a mistake. (1) Run the cell to see what the mistake is."
   ]
  },
  {
   "cell_type": "code",
   "execution_count": 7,
   "metadata": {
    "deletable": false,
    "editable": true,
    "execution": {
     "iopub.execute_input": "2022-08-22T13:05:03.625140Z",
     "iopub.status.busy": "2022-08-22T13:05:03.624865Z",
     "iopub.status.idle": "2022-08-22T13:05:03.628589Z",
     "shell.execute_reply": "2022-08-22T13:05:03.627833Z"
    }
   },
   "outputs": [],
   "source": [
    "%%assignment\n",
    "income = 1000 + 200"
   ]
  },
  {
   "cell_type": "markdown",
   "metadata": {},
   "source": [
    "(5) the next cell autmatically checks if you gave the right answer. (7) In this case, you should see a red sign with the feedback `The result for income should be 400 for testcase salary,bonus = 100,300`. We actually gave the right answer when the salary is 1000 and bonus is 200, but if either takes on a different value it will not. If you get a red sign, change the code to make it work. So for the record, we will not count this assignment, because we made you make a mistake 😉."
   ]
  },
  {
   "cell_type": "code",
   "execution_count": 8,
   "metadata": {
    "deletable": false,
    "editable": false,
    "execution": {
     "iopub.execute_input": "2022-08-22T13:05:03.632507Z",
     "iopub.status.busy": "2022-08-22T13:05:03.632206Z",
     "iopub.status.idle": "2022-08-22T13:05:03.637742Z",
     "shell.execute_reply": "2022-08-22T13:05:03.636891Z"
    }
   },
   "outputs": [
    {
     "data": {
      "text/html": [
       "<table><tr style=\"background: red; color: white\"><td style=\"text-align:left\">The result for income should be 400 for testcase salary,bonus = 100,300 </td></tr></table>"
      ],
      "text/plain": [
       "<IPython.core.display.HTML object>"
      ]
     },
     "metadata": {
      "text/html": {
       "username": "ruud"
      }
     },
     "output_type": "display_data"
    }
   ],
   "source": [
    "%%check\n",
    "salary,bonus = 1000,200\n",
    "income == 1200\n",
    "salary,bonus = 100,300\n",
    "income == 400"
   ]
  },
  {
   "cell_type": "markdown",
   "metadata": {},
   "source": [
    "### In what country is The Hague University of Applied Sciences located?\n",
    "\n",
    "(4) Ok, so this is a multiple choice question. (1) Run the cell below to get an answer form and input the right answer."
   ]
  },
  {
   "cell_type": "code",
   "execution_count": 9,
   "metadata": {
    "execution": {
     "iopub.execute_input": "2022-08-22T13:05:03.640737Z",
     "iopub.status.busy": "2022-08-22T13:05:03.640439Z",
     "iopub.status.idle": "2022-08-22T13:05:03.651291Z",
     "shell.execute_reply": "2022-08-22T13:05:03.650409Z"
    },
    "nbgrader": {
     "grade": false,
     "grade_id": "cell-587f529fef011477",
     "locked": true,
     "schema_version": 3,
     "solution": false,
     "task": false
    }
   },
   "outputs": [
    {
     "data": {
      "application/vnd.jupyter.widget-view+json": {
       "model_id": "eb7f260d356e40c9bd1bffa73d52b53f",
       "version_major": 2,
       "version_minor": 0
      },
      "text/plain": [
       "RadioButtons(layout=Layout(width='max-content'), options=('Belgium', 'The Netherlands', 'The Hague', 'Germany'…"
      ]
     },
     "metadata": {},
     "output_type": "display_data"
    }
   ],
   "source": [
    "%%mc location\n",
    "Belgium\n",
    "The Netherlands\n",
    "The Hague\n",
    "Germany"
   ]
  },
  {
   "cell_type": "markdown",
   "metadata": {},
   "source": [
    "(5) Then run the check to see if you correctly anwered this question. If you get it wrong, think about your answer for a second and try again. The objective here is not to get answers correctly, because you can try as often as you want, but rather take a moment and think about why that is the correct answer! It's about learning after all."
   ]
  },
  {
   "cell_type": "code",
   "execution_count": 10,
   "metadata": {
    "deletable": false,
    "editable": false,
    "execution": {
     "iopub.execute_input": "2022-08-22T13:05:03.655350Z",
     "iopub.status.busy": "2022-08-22T13:05:03.655114Z",
     "iopub.status.idle": "2022-08-22T13:05:03.659563Z",
     "shell.execute_reply": "2022-08-22T13:05:03.658945Z"
    }
   },
   "outputs": [
    {
     "data": {
      "text/html": [
       "<table><tr style=\"background: red; color: white\"><td style=\"text-align:left\">That is the wrong answer</td></tr></table>"
      ],
      "text/plain": [
       "<IPython.core.display.HTML object>"
      ]
     },
     "metadata": {
      "text/html": {
       "username": "ruud"
      }
     },
     "output_type": "display_data"
    }
   ],
   "source": [
    "%%check\n",
    "result == 6241262291673162"
   ]
  },
  {
   "cell_type": "markdown",
   "metadata": {},
   "source": [
    "# Validate\n",
    "\n",
    "So that is our brief introduction of how to work on this online course. A few last tips:\n",
    "- if you struggle with an assignment, sometimes it is better to move on to the next. After doing a few other assignments you may get a new insight and it will be easier to complete an assignment you were stuck on. Remember to run all cells for the assignment.\n",
    "- do not wait to work on these assignments until your scheduled class, rather work ahead. Skipping the questions that you struggle with. When you that, you will be more alert to the difficult bits and ask the questions that help you most.\n",
    "- don't get behind on the lecture schedule!\n",
    "- we encourage you to add your own notes and experiments in these notebooks. You can add a cell from the menu and this will not affect the autograding for the notebook. You can change the cell type to `Markdown` to enter text. Google a Markdown tutorial to see how you can markup your text, you can even write formulas in Latex.\n",
    "\n",
    "If you have finished a notebook, you may press the `Validate` button to check if you have all answered all assignments correctly. When you finished a block of assigments, in the assignments page `Submit` them to your teacher for grading."
   ]
  },
  {
   "cell_type": "markdown",
   "metadata": {},
   "source": [
    "# Done? Please close your notebook with Close And Halt!\n",
    "\n",
    "Apologies, this is due to shared resources, if many many keep a lot of notebooks open at the same time, our server may become less responsive."
   ]
  },
  {
   "cell_type": "code",
   "execution_count": null,
   "metadata": {},
   "outputs": [],
   "source": []
  }
 ],
 "metadata": {
  "celltoolbar": "Create Assignment",
  "kernelspec": {
   "display_name": "prog",
   "language": "python",
   "name": "prog"
  },
  "language_info": {
   "codemirror_mode": {
    "name": "ipython",
    "version": 3
   },
   "file_extension": ".py",
   "mimetype": "text/x-python",
   "name": "python",
   "nbconvert_exporter": "python",
   "pygments_lexer": "ipython3",
   "version": "3.9.12"
  },
  "widgets": {
   "application/vnd.jupyter.widget-state+json": {
    "state": {
     "092bd7fe289c470293d3fdec20b68144": {
      "model_module": "@jupyter-widgets/base",
      "model_module_version": "1.2.0",
      "model_name": "LayoutModel",
      "state": {
       "_model_module": "@jupyter-widgets/base",
       "_model_module_version": "1.2.0",
       "_model_name": "LayoutModel",
       "_view_count": null,
       "_view_module": "@jupyter-widgets/base",
       "_view_module_version": "1.2.0",
       "_view_name": "LayoutView",
       "align_content": null,
       "align_items": null,
       "align_self": null,
       "border": null,
       "bottom": null,
       "display": null,
       "flex": null,
       "flex_flow": null,
       "grid_area": null,
       "grid_auto_columns": null,
       "grid_auto_flow": null,
       "grid_auto_rows": null,
       "grid_column": null,
       "grid_gap": null,
       "grid_row": null,
       "grid_template_areas": null,
       "grid_template_columns": null,
       "grid_template_rows": null,
       "height": null,
       "justify_content": null,
       "justify_items": null,
       "left": null,
       "margin": null,
       "max_height": null,
       "max_width": null,
       "min_height": null,
       "min_width": null,
       "object_fit": null,
       "object_position": null,
       "order": null,
       "overflow": null,
       "overflow_x": null,
       "overflow_y": null,
       "padding": null,
       "right": null,
       "top": null,
       "visibility": null,
       "width": "max-content"
      }
     },
     "8fb3048da7fe40169f708891f92f332e": {
      "model_module": "@jupyter-widgets/controls",
      "model_module_version": "1.5.0",
      "model_name": "DescriptionStyleModel",
      "state": {
       "_model_module": "@jupyter-widgets/controls",
       "_model_module_version": "1.5.0",
       "_model_name": "DescriptionStyleModel",
       "_view_count": null,
       "_view_module": "@jupyter-widgets/base",
       "_view_module_version": "1.2.0",
       "_view_name": "StyleView",
       "description_width": ""
      }
     },
     "eb7f260d356e40c9bd1bffa73d52b53f": {
      "model_module": "@jupyter-widgets/controls",
      "model_module_version": "1.5.0",
      "model_name": "RadioButtonsModel",
      "state": {
       "_dom_classes": [],
       "_model_module": "@jupyter-widgets/controls",
       "_model_module_version": "1.5.0",
       "_model_name": "RadioButtonsModel",
       "_options_labels": [
        "Belgium",
        "The Netherlands",
        "The Hague",
        "Germany"
       ],
       "_view_count": null,
       "_view_module": "@jupyter-widgets/controls",
       "_view_module_version": "1.5.0",
       "_view_name": "RadioButtonsView",
       "description": "",
       "description_tooltip": null,
       "disabled": false,
       "index": 0,
       "layout": "IPY_MODEL_092bd7fe289c470293d3fdec20b68144",
       "style": "IPY_MODEL_8fb3048da7fe40169f708891f92f332e"
      }
     }
    },
    "version_major": 2,
    "version_minor": 0
   }
  }
 },
 "nbformat": 4,
 "nbformat_minor": 4
}
