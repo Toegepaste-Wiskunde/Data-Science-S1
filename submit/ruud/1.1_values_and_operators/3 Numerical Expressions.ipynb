{
 "cells": [
  {
   "cell_type": "markdown",
   "metadata": {},
   "source": [
    "# Numerical Expressions\n",
    "\n",
    "We can use numeric values in expressions to compute results. Writing expressions is very straightforward like `1 + 3 - 2`. However, Python sometimes uses different symbols from what you are used to in mathematics:\n",
    "\n",
    "| Mathemetics | Python         | Result          |\n",
    "| :-----------| :--------------| ---------------|\n",
    "| $2 + 3$     | `2 + 3`        | 5               |\n",
    "| $5 - 1$     | `5 - 1`        | 4 |\n",
    "| $5 \\cdot 2$ | `5 * 2` | 10|\n",
    "| $\\frac{5}{2}$ | `5 / 2` | 2.5 |\n",
    "| $5^2$ | `5 ** 2` | 25 |\n",
    "| $\\sqrt{4}$ | `4 ** 0.5` | 2.0 |\n",
    "| $3 \\cdot ( 4 + 2 )$ | `3 * (4 + 2)` | 18 | "
   ]
  },
  {
   "cell_type": "markdown",
   "metadata": {},
   "source": [
    "### Example\n",
    "\n",
    "$ 2 + 10 - \\frac{1}{2} $"
   ]
  },
  {
   "cell_type": "code",
   "execution_count": 1,
   "metadata": {
    "execution": {
     "iopub.execute_input": "2022-08-22T13:15:03.014151Z",
     "iopub.status.busy": "2022-08-22T13:15:03.013525Z",
     "iopub.status.idle": "2022-08-22T13:15:03.032598Z",
     "shell.execute_reply": "2022-08-22T13:15:03.031938Z"
    }
   },
   "outputs": [
    {
     "data": {
      "text/plain": [
       "11.5"
      ]
     },
     "execution_count": 1,
     "metadata": {},
     "output_type": "execute_result"
    }
   ],
   "source": [
    "2 + 10 - 1/2"
   ]
  },
  {
   "cell_type": "markdown",
   "metadata": {},
   "source": [
    "### Write $ 2 + 2.5 - 1 $"
   ]
  },
  {
   "cell_type": "code",
   "execution_count": 2,
   "metadata": {
    "deletable": false,
    "editable": true,
    "execution": {
     "iopub.execute_input": "2022-08-22T13:15:03.037953Z",
     "iopub.status.busy": "2022-08-22T13:15:03.037667Z",
     "iopub.status.idle": "2022-08-22T13:15:03.041784Z",
     "shell.execute_reply": "2022-08-22T13:15:03.041092Z"
    }
   },
   "outputs": [],
   "source": [
    "%%assignment\n",
    "### ENTER YOUR CODE HERE"
   ]
  },
  {
   "cell_type": "code",
   "execution_count": 3,
   "metadata": {
    "deletable": false,
    "editable": false,
    "execution": {
     "iopub.execute_input": "2022-08-22T13:15:03.044883Z",
     "iopub.status.busy": "2022-08-22T13:15:03.044588Z",
     "iopub.status.idle": "2022-08-22T13:15:03.049693Z",
     "shell.execute_reply": "2022-08-22T13:15:03.048949Z"
    }
   },
   "outputs": [
    {
     "data": {
      "text/html": [
       "<table><tr style=\"background: red; color: white\"><td style=\"text-align:left\">The result should be 3.5</td></tr></table>"
      ],
      "text/plain": [
       "<IPython.core.display.HTML object>"
      ]
     },
     "metadata": {
      "text/html": {
       "username": "ruud"
      }
     },
     "output_type": "display_data"
    }
   ],
   "source": [
    "%%check\n",
    "result == 3.5\n",
    "mandatory 1 2 5 - + .\n",
    "forbidden 3.5"
   ]
  },
  {
   "cell_type": "markdown",
   "metadata": {},
   "source": [
    "### Write $ 10 - 2 - 1 $"
   ]
  },
  {
   "cell_type": "code",
   "execution_count": 4,
   "metadata": {
    "deletable": false,
    "editable": true,
    "execution": {
     "iopub.execute_input": "2022-08-22T13:15:03.052602Z",
     "iopub.status.busy": "2022-08-22T13:15:03.052281Z",
     "iopub.status.idle": "2022-08-22T13:15:03.056563Z",
     "shell.execute_reply": "2022-08-22T13:15:03.055492Z"
    }
   },
   "outputs": [],
   "source": [
    "%%assignment\n",
    "### ENTER YOUR CODE HERE"
   ]
  },
  {
   "cell_type": "code",
   "execution_count": 5,
   "metadata": {
    "deletable": false,
    "editable": false,
    "execution": {
     "iopub.execute_input": "2022-08-22T13:15:03.059185Z",
     "iopub.status.busy": "2022-08-22T13:15:03.058927Z",
     "iopub.status.idle": "2022-08-22T13:15:03.064047Z",
     "shell.execute_reply": "2022-08-22T13:15:03.063348Z"
    }
   },
   "outputs": [
    {
     "data": {
      "text/html": [
       "<table><tr style=\"background: red; color: white\"><td style=\"text-align:left\">The result should be 7</td></tr></table>"
      ],
      "text/plain": [
       "<IPython.core.display.HTML object>"
      ]
     },
     "metadata": {
      "text/html": {
       "username": "ruud"
      }
     },
     "output_type": "display_data"
    }
   ],
   "source": [
    "%%check\n",
    "result == 7\n",
    "mandatory 1 2 0 -\n",
    "forbidden 7"
   ]
  },
  {
   "cell_type": "markdown",
   "metadata": {},
   "source": [
    "### Write $ \\sqrt{6 + 3} $"
   ]
  },
  {
   "cell_type": "code",
   "execution_count": 6,
   "metadata": {
    "deletable": false,
    "editable": true,
    "execution": {
     "iopub.execute_input": "2022-08-22T13:15:03.082208Z",
     "iopub.status.busy": "2022-08-22T13:15:03.080961Z",
     "iopub.status.idle": "2022-08-22T13:15:03.088338Z",
     "shell.execute_reply": "2022-08-22T13:15:03.086861Z"
    }
   },
   "outputs": [],
   "source": [
    "%%assignment\n",
    "### ENTER YOUR CODE HERE"
   ]
  },
  {
   "cell_type": "code",
   "execution_count": 7,
   "metadata": {
    "deletable": false,
    "editable": false,
    "execution": {
     "iopub.execute_input": "2022-08-22T13:15:03.092729Z",
     "iopub.status.busy": "2022-08-22T13:15:03.092282Z",
     "iopub.status.idle": "2022-08-22T13:15:03.100068Z",
     "shell.execute_reply": "2022-08-22T13:15:03.098873Z"
    }
   },
   "outputs": [
    {
     "data": {
      "text/html": [
       "<table><tr style=\"background: red; color: white\"><td style=\"text-align:left\">The result should be 3.0</td></tr></table>"
      ],
      "text/plain": [
       "<IPython.core.display.HTML object>"
      ]
     },
     "metadata": {
      "text/html": {
       "username": "ruud"
      }
     },
     "output_type": "display_data"
    }
   ],
   "source": [
    "%%check\n",
    "result == 3.0\n",
    "mandatory 3 6 + ( )\n",
    "forbidden 9"
   ]
  },
  {
   "cell_type": "markdown",
   "metadata": {},
   "source": [
    "### Write $ 3 \\cdot 2^4 $"
   ]
  },
  {
   "cell_type": "code",
   "execution_count": 8,
   "metadata": {
    "deletable": false,
    "editable": true,
    "execution": {
     "iopub.execute_input": "2022-08-22T13:15:03.103470Z",
     "iopub.status.busy": "2022-08-22T13:15:03.103094Z",
     "iopub.status.idle": "2022-08-22T13:15:03.107544Z",
     "shell.execute_reply": "2022-08-22T13:15:03.106723Z"
    }
   },
   "outputs": [],
   "source": [
    "%%assignment\n",
    "### ENTER YOUR CODE HERE"
   ]
  },
  {
   "cell_type": "code",
   "execution_count": 9,
   "metadata": {
    "deletable": false,
    "editable": false,
    "execution": {
     "iopub.execute_input": "2022-08-22T13:15:03.110662Z",
     "iopub.status.busy": "2022-08-22T13:15:03.110332Z",
     "iopub.status.idle": "2022-08-22T13:15:03.116266Z",
     "shell.execute_reply": "2022-08-22T13:15:03.115313Z"
    }
   },
   "outputs": [
    {
     "data": {
      "text/html": [
       "<table><tr style=\"background: red; color: white\"><td style=\"text-align:left\">The result should be 48</td></tr></table>"
      ],
      "text/plain": [
       "<IPython.core.display.HTML object>"
      ]
     },
     "metadata": {
      "text/html": {
       "username": "ruud"
      }
     },
     "output_type": "display_data"
    }
   ],
   "source": [
    "%%check\n",
    "result == 48\n",
    "mandatory 2 3 4 * \n",
    "forbidden 8"
   ]
  },
  {
   "cell_type": "markdown",
   "metadata": {},
   "source": [
    "### Write $ \\frac{3.5 + 2.5}{6} $"
   ]
  },
  {
   "cell_type": "code",
   "execution_count": 10,
   "metadata": {
    "deletable": false,
    "editable": true,
    "execution": {
     "iopub.execute_input": "2022-08-22T13:15:03.119078Z",
     "iopub.status.busy": "2022-08-22T13:15:03.118785Z",
     "iopub.status.idle": "2022-08-22T13:15:03.122606Z",
     "shell.execute_reply": "2022-08-22T13:15:03.121893Z"
    }
   },
   "outputs": [],
   "source": [
    "%%assignment\n",
    "### ENTER YOUR CODE HERE"
   ]
  },
  {
   "cell_type": "code",
   "execution_count": 11,
   "metadata": {
    "deletable": false,
    "editable": false,
    "execution": {
     "iopub.execute_input": "2022-08-22T13:15:03.124880Z",
     "iopub.status.busy": "2022-08-22T13:15:03.124584Z",
     "iopub.status.idle": "2022-08-22T13:15:03.129733Z",
     "shell.execute_reply": "2022-08-22T13:15:03.129049Z"
    }
   },
   "outputs": [
    {
     "data": {
      "text/html": [
       "<table><tr style=\"background: red; color: white\"><td style=\"text-align:left\">The result should be 1</td></tr></table>"
      ],
      "text/plain": [
       "<IPython.core.display.HTML object>"
      ]
     },
     "metadata": {
      "text/html": {
       "username": "ruud"
      }
     },
     "output_type": "display_data"
    }
   ],
   "source": [
    "%%check\n",
    "result == 1\n",
    "mandatory 2 3 5 6 . + ( )\n",
    "forbidden 1"
   ]
  },
  {
   "cell_type": "markdown",
   "metadata": {},
   "source": [
    "### Write $ 2^{20 + 1} + 2^{20} $"
   ]
  },
  {
   "cell_type": "code",
   "execution_count": 12,
   "metadata": {
    "deletable": false,
    "editable": true,
    "execution": {
     "iopub.execute_input": "2022-08-22T13:15:03.132105Z",
     "iopub.status.busy": "2022-08-22T13:15:03.131816Z",
     "iopub.status.idle": "2022-08-22T13:15:03.135663Z",
     "shell.execute_reply": "2022-08-22T13:15:03.134961Z"
    }
   },
   "outputs": [],
   "source": [
    "%%assignment\n",
    "### ENTER YOUR CODE HERE"
   ]
  },
  {
   "cell_type": "code",
   "execution_count": 13,
   "metadata": {
    "deletable": false,
    "editable": false,
    "execution": {
     "iopub.execute_input": "2022-08-22T13:15:03.137966Z",
     "iopub.status.busy": "2022-08-22T13:15:03.137722Z",
     "iopub.status.idle": "2022-08-22T13:15:03.142690Z",
     "shell.execute_reply": "2022-08-22T13:15:03.142017Z"
    }
   },
   "outputs": [
    {
     "data": {
      "text/html": [
       "<table><tr style=\"background: red; color: white\"><td style=\"text-align:left\">The result should be 3145728</td></tr></table>"
      ],
      "text/plain": [
       "<IPython.core.display.HTML object>"
      ]
     },
     "metadata": {
      "text/html": {
       "username": "ruud"
      }
     },
     "output_type": "display_data"
    }
   ],
   "source": [
    "%%check\n",
    "result == 3145728\n",
    "mandatory 1 2 0 + ** ( )\n",
    "forbidden 3 4 5 8"
   ]
  },
  {
   "cell_type": "markdown",
   "metadata": {},
   "source": [
    "# Done? Please close your notebook with Close And Halt!"
   ]
  }
 ],
 "metadata": {
  "celltoolbar": "Create Assignment",
  "kernelspec": {
   "display_name": "prog",
   "language": "python",
   "name": "prog"
  },
  "language_info": {
   "codemirror_mode": {
    "name": "ipython",
    "version": 3
   },
   "file_extension": ".py",
   "mimetype": "text/x-python",
   "name": "python",
   "nbconvert_exporter": "python",
   "pygments_lexer": "ipython3",
   "version": "3.9.12"
  }
 },
 "nbformat": 4,
 "nbformat_minor": 4
}
