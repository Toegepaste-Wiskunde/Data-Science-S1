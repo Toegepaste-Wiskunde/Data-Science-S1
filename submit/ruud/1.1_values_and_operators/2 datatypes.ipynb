{
 "cells": [
  {
   "cell_type": "markdown",
   "metadata": {},
   "source": [
    "# Datatypes\n",
    "\n",
    "In Python, any value that we work with is of some datatype. It is important to understand the differences, since operations may give different results for different datatypes. Python has four primitive datatypes, primitive because they are the smallest elements/building blocks that make up all other data types:\n",
    "- Integers (ints): whole numbers\n",
    "- Floating Points (floats): decimal numbers and scientific notation\n",
    "- Strings: text\n",
    "- Booleans: True or False\n",
    "\n",
    "In this notebook, we will focus on the numeric types int and float. We will address Strings and Booleans in a later notebook."
   ]
  },
  {
   "cell_type": "markdown",
   "metadata": {},
   "source": [
    "# Integers (ints)\n",
    "\n",
    "An int is any whole numbers, including negative and zero. In Phython, the precision of ints is unlimited. This means that you can make an int number as large (or as small for negative numbers) as you like. And there is no way to assign Infinity to an int. We can write down a literal int (an int value) just as a number without a decimal point."
   ]
  },
  {
   "cell_type": "markdown",
   "metadata": {},
   "source": [
    "### Example"
   ]
  },
  {
   "cell_type": "code",
   "execution_count": 1,
   "metadata": {
    "execution": {
     "iopub.execute_input": "2022-08-22T13:10:03.227186Z",
     "iopub.status.busy": "2022-08-22T13:10:03.226524Z",
     "iopub.status.idle": "2022-08-22T13:10:03.246417Z",
     "shell.execute_reply": "2022-08-22T13:10:03.245739Z"
    }
   },
   "outputs": [
    {
     "data": {
      "text/plain": [
       "123"
      ]
     },
     "execution_count": 1,
     "metadata": {},
     "output_type": "execute_result"
    }
   ],
   "source": [
    "123"
   ]
  },
  {
   "cell_type": "markdown",
   "metadata": {},
   "source": [
    "### Write down the number 2,100,555 (so two million, one hundred thousand, five hundred and fifty five)"
   ]
  },
  {
   "cell_type": "code",
   "execution_count": 2,
   "metadata": {
    "deletable": false,
    "editable": true,
    "execution": {
     "iopub.execute_input": "2022-08-22T13:10:03.252379Z",
     "iopub.status.busy": "2022-08-22T13:10:03.252088Z",
     "iopub.status.idle": "2022-08-22T13:10:03.256014Z",
     "shell.execute_reply": "2022-08-22T13:10:03.255305Z"
    }
   },
   "outputs": [],
   "source": [
    "%%assignment\n",
    "### ENTER YOUR CODE HERE"
   ]
  },
  {
   "cell_type": "code",
   "execution_count": 3,
   "metadata": {
    "deletable": false,
    "editable": false,
    "execution": {
     "iopub.execute_input": "2022-08-22T13:10:03.259884Z",
     "iopub.status.busy": "2022-08-22T13:10:03.259619Z",
     "iopub.status.idle": "2022-08-22T13:10:03.264632Z",
     "shell.execute_reply": "2022-08-22T13:10:03.263891Z"
    }
   },
   "outputs": [
    {
     "data": {
      "text/html": [
       "<table><tr style=\"background: red; color: white\"><td style=\"text-align:left\">The result should be 2100555.</td></tr></table>"
      ],
      "text/plain": [
       "<IPython.core.display.HTML object>"
      ]
     },
     "metadata": {
      "text/html": {
       "username": "ruud"
      }
     },
     "output_type": "display_data"
    }
   ],
   "source": [
    "%%check\n",
    "result == 2100555.\n",
    "type int"
   ]
  },
  {
   "cell_type": "markdown",
   "metadata": {},
   "source": [
    "### display negative twenty-three"
   ]
  },
  {
   "cell_type": "code",
   "execution_count": 4,
   "metadata": {
    "deletable": false,
    "editable": true,
    "execution": {
     "iopub.execute_input": "2022-08-22T13:10:03.267942Z",
     "iopub.status.busy": "2022-08-22T13:10:03.267610Z",
     "iopub.status.idle": "2022-08-22T13:10:03.272076Z",
     "shell.execute_reply": "2022-08-22T13:10:03.270895Z"
    }
   },
   "outputs": [],
   "source": [
    "%%assignment\n",
    "### ENTER YOUR CODE HERE"
   ]
  },
  {
   "cell_type": "code",
   "execution_count": 5,
   "metadata": {
    "deletable": false,
    "editable": false,
    "execution": {
     "iopub.execute_input": "2022-08-22T13:10:03.276078Z",
     "iopub.status.busy": "2022-08-22T13:10:03.275720Z",
     "iopub.status.idle": "2022-08-22T13:10:03.281240Z",
     "shell.execute_reply": "2022-08-22T13:10:03.280504Z"
    }
   },
   "outputs": [
    {
     "data": {
      "text/html": [
       "<table><tr style=\"background: red; color: white\"><td style=\"text-align:left\">The result should be -23.</td></tr></table>"
      ],
      "text/plain": [
       "<IPython.core.display.HTML object>"
      ]
     },
     "metadata": {
      "text/html": {
       "username": "ruud"
      }
     },
     "output_type": "display_data"
    }
   ],
   "source": [
    "%%check\n",
    "result == -23.\n",
    "type int"
   ]
  },
  {
   "cell_type": "markdown",
   "metadata": {},
   "source": [
    "### display a 1 with 90 zero's"
   ]
  },
  {
   "cell_type": "code",
   "execution_count": 6,
   "metadata": {
    "deletable": false,
    "editable": true,
    "execution": {
     "iopub.execute_input": "2022-08-22T13:10:03.317282Z",
     "iopub.status.busy": "2022-08-22T13:10:03.316690Z",
     "iopub.status.idle": "2022-08-22T13:10:03.323243Z",
     "shell.execute_reply": "2022-08-22T13:10:03.321804Z"
    }
   },
   "outputs": [],
   "source": [
    "%%assignment\n",
    "### ENTER YOUR CODE HERE"
   ]
  },
  {
   "cell_type": "code",
   "execution_count": 7,
   "metadata": {
    "deletable": false,
    "editable": false,
    "execution": {
     "iopub.execute_input": "2022-08-22T13:10:03.328418Z",
     "iopub.status.busy": "2022-08-22T13:10:03.327916Z",
     "iopub.status.idle": "2022-08-22T13:10:03.335601Z",
     "shell.execute_reply": "2022-08-22T13:10:03.334493Z"
    }
   },
   "outputs": [
    {
     "data": {
      "text/html": [
       "<table><tr style=\"background: red; color: white\"><td style=\"text-align:left\">The result should be 10**90</td></tr></table>"
      ],
      "text/plain": [
       "<IPython.core.display.HTML object>"
      ]
     },
     "metadata": {
      "text/html": {
       "username": "ruud"
      }
     },
     "output_type": "display_data"
    }
   ],
   "source": [
    "%%check\n",
    "result == 10**90\n",
    "int"
   ]
  },
  {
   "cell_type": "markdown",
   "metadata": {},
   "source": [
    "# Floating points (floats)\n",
    "\n",
    "An float can be any decimal number. You write down a literal float as:\n",
    "- a number with a decimal point, e.g. 1.3, -253.598, 0.00013, 3.,  or\n",
    "- with scientific notation, e.g. 1.3e10 meaning $1.3 \\cdot 10^{10}$"
   ]
  },
  {
   "cell_type": "markdown",
   "metadata": {},
   "source": [
    "### Example (execute these cells)"
   ]
  },
  {
   "cell_type": "code",
   "execution_count": 8,
   "metadata": {
    "execution": {
     "iopub.execute_input": "2022-08-22T13:10:03.339929Z",
     "iopub.status.busy": "2022-08-22T13:10:03.339543Z",
     "iopub.status.idle": "2022-08-22T13:10:03.345800Z",
     "shell.execute_reply": "2022-08-22T13:10:03.344778Z"
    }
   },
   "outputs": [
    {
     "data": {
      "text/plain": [
       "1.3"
      ]
     },
     "execution_count": 8,
     "metadata": {},
     "output_type": "execute_result"
    }
   ],
   "source": [
    "1.3"
   ]
  },
  {
   "cell_type": "code",
   "execution_count": 9,
   "metadata": {
    "execution": {
     "iopub.execute_input": "2022-08-22T13:10:03.349911Z",
     "iopub.status.busy": "2022-08-22T13:10:03.349502Z",
     "iopub.status.idle": "2022-08-22T13:10:03.355584Z",
     "shell.execute_reply": "2022-08-22T13:10:03.354776Z"
    }
   },
   "outputs": [
    {
     "data": {
      "text/plain": [
       "-253.598"
      ]
     },
     "execution_count": 9,
     "metadata": {},
     "output_type": "execute_result"
    }
   ],
   "source": [
    "-253.598"
   ]
  },
  {
   "cell_type": "code",
   "execution_count": 10,
   "metadata": {
    "execution": {
     "iopub.execute_input": "2022-08-22T13:10:03.359721Z",
     "iopub.status.busy": "2022-08-22T13:10:03.359361Z",
     "iopub.status.idle": "2022-08-22T13:10:03.365296Z",
     "shell.execute_reply": "2022-08-22T13:10:03.364292Z"
    }
   },
   "outputs": [
    {
     "data": {
      "text/plain": [
       "3.0"
      ]
     },
     "execution_count": 10,
     "metadata": {},
     "output_type": "execute_result"
    }
   ],
   "source": [
    "3."
   ]
  },
  {
   "cell_type": "code",
   "execution_count": 11,
   "metadata": {
    "execution": {
     "iopub.execute_input": "2022-08-22T13:10:03.369426Z",
     "iopub.status.busy": "2022-08-22T13:10:03.369024Z",
     "iopub.status.idle": "2022-08-22T13:10:03.374881Z",
     "shell.execute_reply": "2022-08-22T13:10:03.374061Z"
    }
   },
   "outputs": [
    {
     "data": {
      "text/plain": [
       "13000000000.0"
      ]
     },
     "execution_count": 11,
     "metadata": {},
     "output_type": "execute_result"
    }
   ],
   "source": [
    "1.3e10"
   ]
  },
  {
   "cell_type": "markdown",
   "metadata": {},
   "source": [
    "### Write a float literal for the number 25"
   ]
  },
  {
   "cell_type": "code",
   "execution_count": 12,
   "metadata": {
    "deletable": false,
    "editable": true,
    "execution": {
     "iopub.execute_input": "2022-08-22T13:10:03.379003Z",
     "iopub.status.busy": "2022-08-22T13:10:03.378594Z",
     "iopub.status.idle": "2022-08-22T13:10:03.383369Z",
     "shell.execute_reply": "2022-08-22T13:10:03.382518Z"
    }
   },
   "outputs": [],
   "source": [
    "%%assignment\n",
    "### ENTER YOUR CODE HERE"
   ]
  },
  {
   "cell_type": "code",
   "execution_count": 13,
   "metadata": {
    "deletable": false,
    "editable": false,
    "execution": {
     "iopub.execute_input": "2022-08-22T13:10:03.387007Z",
     "iopub.status.busy": "2022-08-22T13:10:03.386645Z",
     "iopub.status.idle": "2022-08-22T13:10:03.392895Z",
     "shell.execute_reply": "2022-08-22T13:10:03.391903Z"
    }
   },
   "outputs": [
    {
     "data": {
      "text/html": [
       "<table><tr style=\"background: red; color: white\"><td style=\"text-align:left\">The result should be 25</td></tr></table>"
      ],
      "text/plain": [
       "<IPython.core.display.HTML object>"
      ]
     },
     "metadata": {
      "text/html": {
       "username": "ruud"
      }
     },
     "output_type": "display_data"
    }
   ],
   "source": [
    "%%check\n",
    "result == 25\n",
    "float"
   ]
  },
  {
   "cell_type": "markdown",
   "metadata": {},
   "source": [
    "### Write a float literal for the first three digits of $\\pi$"
   ]
  },
  {
   "cell_type": "code",
   "execution_count": 14,
   "metadata": {
    "deletable": false,
    "editable": true,
    "execution": {
     "iopub.execute_input": "2022-08-22T13:10:03.396796Z",
     "iopub.status.busy": "2022-08-22T13:10:03.396369Z",
     "iopub.status.idle": "2022-08-22T13:10:03.401155Z",
     "shell.execute_reply": "2022-08-22T13:10:03.400120Z"
    }
   },
   "outputs": [],
   "source": [
    "%%assignment\n",
    "### ENTER YOUR CODE HERE"
   ]
  },
  {
   "cell_type": "code",
   "execution_count": 15,
   "metadata": {
    "deletable": false,
    "editable": false,
    "execution": {
     "iopub.execute_input": "2022-08-22T13:10:03.403624Z",
     "iopub.status.busy": "2022-08-22T13:10:03.403238Z",
     "iopub.status.idle": "2022-08-22T13:10:03.409076Z",
     "shell.execute_reply": "2022-08-22T13:10:03.408120Z"
    }
   },
   "outputs": [
    {
     "data": {
      "text/html": [
       "<table><tr style=\"background: red; color: white\"><td style=\"text-align:left\">The result should be 314/100</td></tr></table>"
      ],
      "text/plain": [
       "<IPython.core.display.HTML object>"
      ]
     },
     "metadata": {
      "text/html": {
       "username": "ruud"
      }
     },
     "output_type": "display_data"
    }
   ],
   "source": [
    "%%check\n",
    "result == 314/100\n",
    "float"
   ]
  },
  {
   "cell_type": "markdown",
   "metadata": {},
   "source": [
    "### Write a hundred million in scientific notation"
   ]
  },
  {
   "cell_type": "code",
   "execution_count": 16,
   "metadata": {
    "deletable": false,
    "editable": true,
    "execution": {
     "iopub.execute_input": "2022-08-22T13:10:03.411820Z",
     "iopub.status.busy": "2022-08-22T13:10:03.411467Z",
     "iopub.status.idle": "2022-08-22T13:10:03.415661Z",
     "shell.execute_reply": "2022-08-22T13:10:03.414882Z"
    }
   },
   "outputs": [],
   "source": [
    "%%assignment\n",
    "### ENTER YOUR CODE HERE"
   ]
  },
  {
   "cell_type": "code",
   "execution_count": 17,
   "metadata": {
    "deletable": false,
    "editable": false,
    "execution": {
     "iopub.execute_input": "2022-08-22T13:10:03.418565Z",
     "iopub.status.busy": "2022-08-22T13:10:03.418271Z",
     "iopub.status.idle": "2022-08-22T13:10:03.424159Z",
     "shell.execute_reply": "2022-08-22T13:10:03.423209Z"
    }
   },
   "outputs": [
    {
     "data": {
      "text/html": [
       "<table><tr style=\"background: red; color: white\"><td style=\"text-align:left\">The result should be 100000000</td></tr></table>"
      ],
      "text/plain": [
       "<IPython.core.display.HTML object>"
      ]
     },
     "metadata": {
      "text/html": {
       "username": "ruud"
      }
     },
     "output_type": "display_data"
    }
   ],
   "source": [
    "%%check\n",
    "result == 100000000\n",
    "mandatory 1 e\n",
    "float"
   ]
  },
  {
   "cell_type": "markdown",
   "metadata": {},
   "source": [
    "# Done? Please close your notebook with Close And Halt!"
   ]
  },
  {
   "cell_type": "code",
   "execution_count": null,
   "metadata": {},
   "outputs": [],
   "source": []
  }
 ],
 "metadata": {
  "celltoolbar": "Create Assignment",
  "kernelspec": {
   "display_name": "prog",
   "language": "python",
   "name": "prog"
  },
  "language_info": {
   "codemirror_mode": {
    "name": "ipython",
    "version": 3
   },
   "file_extension": ".py",
   "mimetype": "text/x-python",
   "name": "python",
   "nbconvert_exporter": "python",
   "pygments_lexer": "ipython3",
   "version": "3.9.12"
  }
 },
 "nbformat": 4,
 "nbformat_minor": 4
}
