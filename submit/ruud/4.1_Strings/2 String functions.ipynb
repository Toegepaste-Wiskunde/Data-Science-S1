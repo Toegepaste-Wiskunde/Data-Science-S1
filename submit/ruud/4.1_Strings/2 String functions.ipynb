{
 "cells": [
  {
   "cell_type": "markdown",
   "metadata": {},
   "source": [
    "# String functions\n",
    "\n",
    "We can apply some functions on Strings that we can also apply on Lists, and also some additional ones.\n",
    "\n",
    "| code | result | comment |\n",
    "|:-----|:-------|:--------|\n",
    "| `'a' in 'Ardvark'` | `True` | like the `in` operator for Lists, this returns True when 'a' is in 'ArdVark' |\n",
    "| `'va' in 'Ardvark'` | `True` | different from Lists, we can also check if a sequence of characters is present |\n",
    "| `'ard' in 'Ardvark'` | `False` | however, Strings are case sensitive 'ard' $\\neq$ 'Ard' |\n",
    "| `'Ardvark'.index('a')` | `4` | returns the first index at which (lowercase) 'a' appears |\n",
    "| `len('a and b')` | `7` | the number of characters in the string, including spaces, dots, commas and other symbols |\n",
    "| `int('23')` | `23` | converts a string value to an int. This only works if the string is only an int, otherwise you get an error|\n",
    "| `'a and b'.split()` | `['a', 'and', 'b']` | Splits a List on whitespaces and returns a List of words |\n",
    "| `'30-12-2020'.split('-')` | `['30', '12', '2020']` | Splits a List on the '-' character/delimiter and returns a List of 'words' |\n",
    "| `'His name is Jack'.lower()` | `'his name is jack'` | Returns a String with all characters in lower case |\n",
    "| `'His name is Jack'.upper()` | `'HIS NAME IS JACK'` | Returns a String with all characters in upper case |\n",
    "\n"
   ]
  },
  {
   "cell_type": "markdown",
   "metadata": {},
   "source": [
    "# Assignments"
   ]
  },
  {
   "cell_type": "markdown",
   "metadata": {},
   "source": [
    "#### what is the first position of 'be' in `text`"
   ]
  },
  {
   "cell_type": "code",
   "execution_count": 1,
   "metadata": {
    "execution": {
     "iopub.execute_input": "2022-08-22T09:15:03.427020Z",
     "iopub.status.busy": "2022-08-22T09:15:03.426381Z",
     "iopub.status.idle": "2022-08-22T09:15:03.438947Z",
     "shell.execute_reply": "2022-08-22T09:15:03.437867Z"
    }
   },
   "outputs": [],
   "source": [
    "text = 'To be or not to be, that is the question'"
   ]
  },
  {
   "cell_type": "code",
   "execution_count": 2,
   "metadata": {
    "deletable": false,
    "editable": true,
    "execution": {
     "iopub.execute_input": "2022-08-22T09:15:03.442915Z",
     "iopub.status.busy": "2022-08-22T09:15:03.442581Z",
     "iopub.status.idle": "2022-08-22T09:15:03.447549Z",
     "shell.execute_reply": "2022-08-22T09:15:03.446274Z"
    }
   },
   "outputs": [],
   "source": [
    "%%assignment\n",
    "### ENTER YOUR CODE HERE"
   ]
  },
  {
   "cell_type": "code",
   "execution_count": 3,
   "metadata": {
    "deletable": false,
    "editable": false,
    "execution": {
     "iopub.execute_input": "2022-08-22T09:15:03.452164Z",
     "iopub.status.busy": "2022-08-22T09:15:03.451732Z",
     "iopub.status.idle": "2022-08-22T09:15:03.467595Z",
     "shell.execute_reply": "2022-08-22T09:15:03.466870Z"
    }
   },
   "outputs": [
    {
     "data": {
      "text/html": [
       "<table><tr style=\"background: red; color: white\"><td style=\"text-align:left\">The result should be 3 for testcase text = 'To be or not to be, that is the question' </td></tr></table>"
      ],
      "text/plain": [
       "<IPython.core.display.HTML object>"
      ]
     },
     "metadata": {
      "text/html": {
       "username": "ruud"
      }
     },
     "output_type": "display_data"
    }
   ],
   "source": [
    "%%check\n",
    "text = 'To be or not to be, that is the question'\n",
    "result == 3\n",
    "text = 'The globe'\n",
    "result == 7"
   ]
  },
  {
   "cell_type": "markdown",
   "metadata": {},
   "source": [
    "#### Check if 'be' is in `text`, case insensitive (e.g. B is the same as b)"
   ]
  },
  {
   "cell_type": "code",
   "execution_count": 4,
   "metadata": {
    "execution": {
     "iopub.execute_input": "2022-08-22T09:15:03.471882Z",
     "iopub.status.busy": "2022-08-22T09:15:03.471601Z",
     "iopub.status.idle": "2022-08-22T09:15:03.475046Z",
     "shell.execute_reply": "2022-08-22T09:15:03.474348Z"
    }
   },
   "outputs": [],
   "source": [
    "text = 'To be or not to be, that is the question'"
   ]
  },
  {
   "cell_type": "code",
   "execution_count": 5,
   "metadata": {
    "deletable": false,
    "editable": true,
    "execution": {
     "iopub.execute_input": "2022-08-22T09:15:03.477875Z",
     "iopub.status.busy": "2022-08-22T09:15:03.477604Z",
     "iopub.status.idle": "2022-08-22T09:15:03.481122Z",
     "shell.execute_reply": "2022-08-22T09:15:03.480447Z"
    }
   },
   "outputs": [],
   "source": [
    "%%assignment\n",
    "### ENTER YOUR CODE HERE"
   ]
  },
  {
   "cell_type": "code",
   "execution_count": 6,
   "metadata": {
    "deletable": false,
    "editable": false,
    "execution": {
     "iopub.execute_input": "2022-08-22T09:15:03.483553Z",
     "iopub.status.busy": "2022-08-22T09:15:03.483299Z",
     "iopub.status.idle": "2022-08-22T09:15:03.488152Z",
     "shell.execute_reply": "2022-08-22T09:15:03.487514Z"
    }
   },
   "outputs": [
    {
     "data": {
      "text/html": [
       "<table><tr style=\"background: red; color: white\"><td style=\"text-align:left\">warning: cannot use assignment in test 'result ', use == instead</td></tr></table>"
      ],
      "text/plain": [
       "<IPython.core.display.HTML object>"
      ]
     },
     "metadata": {
      "text/html": {
       "username": "ruud"
      }
     },
     "output_type": "display_data"
    }
   ],
   "source": [
    "%%check\n",
    "text = 'To be or not to be, that is the question'\n",
    "result\n",
    "text = 'Be who you want BE'\n",
    "result\n",
    "text = 'B3 who you want'\n",
    "not result"
   ]
  },
  {
   "cell_type": "markdown",
   "metadata": {},
   "source": [
    "#### How long is the second word in `text`\n",
    "Hint: create a list of single words and get the length of the second word in the list"
   ]
  },
  {
   "cell_type": "code",
   "execution_count": 7,
   "metadata": {
    "execution": {
     "iopub.execute_input": "2022-08-22T09:15:03.490727Z",
     "iopub.status.busy": "2022-08-22T09:15:03.490474Z",
     "iopub.status.idle": "2022-08-22T09:15:03.493694Z",
     "shell.execute_reply": "2022-08-22T09:15:03.493043Z"
    }
   },
   "outputs": [],
   "source": [
    "text = 'To be or not to be, that is the question'"
   ]
  },
  {
   "cell_type": "code",
   "execution_count": 8,
   "metadata": {
    "deletable": false,
    "editable": true,
    "execution": {
     "iopub.execute_input": "2022-08-22T09:15:03.496109Z",
     "iopub.status.busy": "2022-08-22T09:15:03.495870Z",
     "iopub.status.idle": "2022-08-22T09:15:03.499189Z",
     "shell.execute_reply": "2022-08-22T09:15:03.498554Z"
    }
   },
   "outputs": [],
   "source": [
    "%%assignment\n",
    "### ENTER YOUR CODE HERE"
   ]
  },
  {
   "cell_type": "code",
   "execution_count": 9,
   "metadata": {
    "deletable": false,
    "editable": false,
    "execution": {
     "iopub.execute_input": "2022-08-22T09:15:03.501355Z",
     "iopub.status.busy": "2022-08-22T09:15:03.501119Z",
     "iopub.status.idle": "2022-08-22T09:15:03.505809Z",
     "shell.execute_reply": "2022-08-22T09:15:03.505171Z"
    }
   },
   "outputs": [
    {
     "data": {
      "text/html": [
       "<table><tr style=\"background: red; color: white\"><td style=\"text-align:left\">The result should be 2 for testcase text = 'To be or not to be, that is the question' </td></tr></table>"
      ],
      "text/plain": [
       "<IPython.core.display.HTML object>"
      ]
     },
     "metadata": {
      "text/html": {
       "username": "ruud"
      }
     },
     "output_type": "display_data"
    }
   ],
   "source": [
    "%%check\n",
    "text = 'To be or not to be, that is the question'\n",
    "result == 2\n",
    "text = 'Be who you want BE'\n",
    "result == 3"
   ]
  },
  {
   "cell_type": "markdown",
   "metadata": {},
   "source": [
    "#### How long are all the words in `text`.\n",
    "\n",
    "Hint: you can use a List comprension to list the all the lengths of the words.\n",
    "For example: [2, 2, 2, 3, 2, 3, 4, 2, 3, 8]"
   ]
  },
  {
   "cell_type": "code",
   "execution_count": 10,
   "metadata": {
    "execution": {
     "iopub.execute_input": "2022-08-22T09:15:03.525301Z",
     "iopub.status.busy": "2022-08-22T09:15:03.524857Z",
     "iopub.status.idle": "2022-08-22T09:15:03.530348Z",
     "shell.execute_reply": "2022-08-22T09:15:03.529290Z"
    }
   },
   "outputs": [],
   "source": [
    "text = 'To be or not to be, that is the question'"
   ]
  },
  {
   "cell_type": "code",
   "execution_count": 11,
   "metadata": {
    "deletable": false,
    "editable": true,
    "execution": {
     "iopub.execute_input": "2022-08-22T09:15:03.535426Z",
     "iopub.status.busy": "2022-08-22T09:15:03.534925Z",
     "iopub.status.idle": "2022-08-22T09:15:03.540164Z",
     "shell.execute_reply": "2022-08-22T09:15:03.539220Z"
    }
   },
   "outputs": [],
   "source": [
    "%%assignment\n",
    "### ENTER YOUR CODE HERE"
   ]
  },
  {
   "cell_type": "code",
   "execution_count": 12,
   "metadata": {
    "deletable": false,
    "editable": false,
    "execution": {
     "iopub.execute_input": "2022-08-22T09:15:03.544183Z",
     "iopub.status.busy": "2022-08-22T09:15:03.543885Z",
     "iopub.status.idle": "2022-08-22T09:15:03.550749Z",
     "shell.execute_reply": "2022-08-22T09:15:03.549903Z"
    }
   },
   "outputs": [
    {
     "data": {
      "text/html": [
       "<table><tr style=\"background: red; color: white\"><td style=\"text-align:left\">The result should be [2, 2, 2, 3, 2, 3, 4, 2, 3, 8] for testcase text = 'To be or not to be, that is the question' </td></tr></table>"
      ],
      "text/plain": [
       "<IPython.core.display.HTML object>"
      ]
     },
     "metadata": {
      "text/html": {
       "username": "ruud"
      }
     },
     "output_type": "display_data"
    }
   ],
   "source": [
    "%%check\n",
    "text = 'To be or not to be, that is the question'\n",
    "result == [2, 2, 2, 3, 2, 3, 4, 2, 3, 8]\n",
    "text = 'Be who you want BE'\n",
    "result == [2, 3, 3, 4, 2]"
   ]
  },
  {
   "cell_type": "markdown",
   "metadata": {},
   "source": [
    "#### How long is the longest word in `text`.\n",
    "\n",
    "Hint: Using the List of word lengths, with what function can you get the highest value?"
   ]
  },
  {
   "cell_type": "code",
   "execution_count": 13,
   "metadata": {
    "execution": {
     "iopub.execute_input": "2022-08-22T09:15:03.554150Z",
     "iopub.status.busy": "2022-08-22T09:15:03.553814Z",
     "iopub.status.idle": "2022-08-22T09:15:03.557678Z",
     "shell.execute_reply": "2022-08-22T09:15:03.556797Z"
    }
   },
   "outputs": [],
   "source": [
    "text = 'To be or not to be, that is the question'"
   ]
  },
  {
   "cell_type": "code",
   "execution_count": 14,
   "metadata": {
    "deletable": false,
    "editable": true,
    "execution": {
     "iopub.execute_input": "2022-08-22T09:15:03.560781Z",
     "iopub.status.busy": "2022-08-22T09:15:03.560414Z",
     "iopub.status.idle": "2022-08-22T09:15:03.564764Z",
     "shell.execute_reply": "2022-08-22T09:15:03.563895Z"
    }
   },
   "outputs": [],
   "source": [
    "%%assignment\n",
    "### ENTER YOUR CODE HERE"
   ]
  },
  {
   "cell_type": "code",
   "execution_count": 15,
   "metadata": {
    "deletable": false,
    "editable": false,
    "execution": {
     "iopub.execute_input": "2022-08-22T09:15:03.567474Z",
     "iopub.status.busy": "2022-08-22T09:15:03.567163Z",
     "iopub.status.idle": "2022-08-22T09:15:03.572695Z",
     "shell.execute_reply": "2022-08-22T09:15:03.572010Z"
    }
   },
   "outputs": [
    {
     "data": {
      "text/html": [
       "<table><tr style=\"background: red; color: white\"><td style=\"text-align:left\">The result should be 8 for testcase text = 'To be or not to be, that is the question' </td></tr></table>"
      ],
      "text/plain": [
       "<IPython.core.display.HTML object>"
      ]
     },
     "metadata": {
      "text/html": {
       "username": "ruud"
      }
     },
     "output_type": "display_data"
    }
   ],
   "source": [
    "%%check\n",
    "text = 'To be or not to be, that is the question'\n",
    "result == 8\n",
    "text = 'Be who you want BE'\n",
    "result == 4"
   ]
  }
 ],
 "metadata": {
  "celltoolbar": "Create Assignment",
  "kernelspec": {
   "display_name": "prog",
   "language": "python",
   "name": "prog"
  },
  "language_info": {
   "codemirror_mode": {
    "name": "ipython",
    "version": 3
   },
   "file_extension": ".py",
   "mimetype": "text/x-python",
   "name": "python",
   "nbconvert_exporter": "python",
   "pygments_lexer": "ipython3",
   "version": "3.9.12"
  }
 },
 "nbformat": 4,
 "nbformat_minor": 4
}
