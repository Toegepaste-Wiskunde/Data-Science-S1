{
 "cells": [
  {
   "cell_type": "markdown",
   "metadata": {},
   "source": [
    "# Libraries\n",
    "\n",
    "Many functionalities have already been programmed in Python. Often these are implemented better than you could yourself. So before you start writing big programs, it is better to look what is already available in so-called libraries. \n",
    "\n",
    "It will be impossible to go over all libraries that are written for Python; there may be hundeds of thousands. But to name a few interesting ones:\n",
    "- math: basic math functions\n",
    "- pandas: handling tables with data\n",
    "- sql: working with data in databases\n",
    "- matplotlib: drawing functions and figures\n",
    "- numpy: linear algebra\n",
    "- statsmodels: statistical models and functions\n",
    "- sklearn: machine learning models (predictive analytics)\n",
    "\n",
    "Often these libraries are not written in Python, but in a faster language. Also making them much more efficient than when you write them yourself.\n",
    "\n",
    "# Import\n",
    "\n",
    "These libraries are not readily available, because including all of them all the time would be very inefficient. You have to explicitly import the ones you want to use. You can do that with either the `import` or the `from ... import` statements."
   ]
  },
  {
   "cell_type": "markdown",
   "metadata": {},
   "source": [
    "# Example"
   ]
  },
  {
   "cell_type": "markdown",
   "metadata": {},
   "source": [
    "If you want to plot a function $ y = x^2 + 2 \\cdot x $, you can use matplotlib's `plot` function."
   ]
  },
  {
   "cell_type": "code",
   "execution_count": 1,
   "metadata": {
    "execution": {
     "iopub.execute_input": "2022-08-22T07:55:03.255452Z",
     "iopub.status.busy": "2022-08-22T07:55:03.254460Z",
     "iopub.status.idle": "2022-08-22T07:55:03.681744Z",
     "shell.execute_reply": "2022-08-22T07:55:03.680526Z"
    }
   },
   "outputs": [],
   "source": [
    "from matplotlib import pyplot as plt"
   ]
  },
  {
   "cell_type": "code",
   "execution_count": 2,
   "metadata": {
    "execution": {
     "iopub.execute_input": "2022-08-22T07:55:03.687486Z",
     "iopub.status.busy": "2022-08-22T07:55:03.687084Z",
     "iopub.status.idle": "2022-08-22T07:55:03.691694Z",
     "shell.execute_reply": "2022-08-22T07:55:03.690711Z"
    }
   },
   "outputs": [],
   "source": [
    "x = range(-10, 10)\n",
    "y = [ x**2 + 2* x for x in x ]"
   ]
  },
  {
   "cell_type": "code",
   "execution_count": 3,
   "metadata": {
    "execution": {
     "iopub.execute_input": "2022-08-22T07:55:03.695889Z",
     "iopub.status.busy": "2022-08-22T07:55:03.695557Z",
     "iopub.status.idle": "2022-08-22T07:55:03.777765Z",
     "shell.execute_reply": "2022-08-22T07:55:03.777141Z"
    }
   },
   "outputs": [
    {
     "data": {
      "image/png": "[encoded data removed]",
      "text/plain": [
       "<Figure size 432x288 with 1 Axes>"
      ]
     },
     "metadata": {
      "needs_background": "light"
     },
     "output_type": "display_data"
    }
   ],
   "source": [
    "plt.plot(x, y)\n",
    "plt.show()"
   ]
  },
  {
   "cell_type": "markdown",
   "metadata": {},
   "source": [
    "If you want to compute the factorial of a number $ n! $, in the `math` libary, there is a `factorial` function."
   ]
  },
  {
   "cell_type": "code",
   "execution_count": 4,
   "metadata": {
    "execution": {
     "iopub.execute_input": "2022-08-22T07:55:03.815947Z",
     "iopub.status.busy": "2022-08-22T07:55:03.815601Z",
     "iopub.status.idle": "2022-08-22T07:55:03.819869Z",
     "shell.execute_reply": "2022-08-22T07:55:03.819086Z"
    }
   },
   "outputs": [],
   "source": [
    "import math"
   ]
  },
  {
   "cell_type": "code",
   "execution_count": 5,
   "metadata": {
    "execution": {
     "iopub.execute_input": "2022-08-22T07:55:03.823117Z",
     "iopub.status.busy": "2022-08-22T07:55:03.822554Z",
     "iopub.status.idle": "2022-08-22T07:55:03.828972Z",
     "shell.execute_reply": "2022-08-22T07:55:03.827969Z"
    }
   },
   "outputs": [
    {
     "data": {
      "text/plain": [
       "120"
      ]
     },
     "execution_count": 5,
     "metadata": {},
     "output_type": "execute_result"
    }
   ],
   "source": [
    "math.factorial(5)"
   ]
  },
  {
   "cell_type": "markdown",
   "metadata": {},
   "source": [
    "# Assignments"
   ]
  },
  {
   "cell_type": "markdown",
   "metadata": {},
   "source": [
    "The binomial coefficient function is written as $ \\binom{N}{k} $, equals the number of combinations that from $N$ possible events, $k$ events without replacement happen in any order. E.g. using a deck of 52 playing cards, the number of combinations to draw 5 $\\heartsuit$ cards is $\\binom{13}{5}$. The binomial coefficient $ \\binom{N}{k} = \\frac{N!}{k! \\cdot (N-k)!}$"
   ]
  },
  {
   "cell_type": "markdown",
   "metadata": {},
   "source": [
    "#### The math library does not contain a binomial coefficient function. Google which of these 4 libraries has a Binomial Coefficient function that you can use.\n",
    "\n",
    "Hint: Often you do not need to search in the official Python documentation. Sites such as Stackoverflow contain question-answer like forums, on which many question already have answers with small code examples. Looking at the results from these sites is a very efficient way to find the information you are looking for with working examples of how you can use it."
   ]
  },
  {
   "cell_type": "code",
   "execution_count": 6,
   "metadata": {
    "execution": {
     "iopub.execute_input": "2022-08-22T07:55:03.834587Z",
     "iopub.status.busy": "2022-08-22T07:55:03.834177Z",
     "iopub.status.idle": "2022-08-22T07:55:03.847724Z",
     "shell.execute_reply": "2022-08-22T07:55:03.846901Z"
    },
    "nbgrader": {
     "grade": false,
     "grade_id": "cell-681674ce27c7b486",
     "locked": true,
     "schema_version": 3,
     "solution": false,
     "task": false
    }
   },
   "outputs": [
    {
     "data": {
      "application/vnd.jupyter.widget-view+json": {
       "model_id": "b529e65fda774781a29baa8db35d2278",
       "version_major": 2,
       "version_minor": 0
      },
      "text/plain": [
       "RadioButtons(layout=Layout(width='max-content'), options=('pandas', 'numpy', 'spicy.special', 'sql'), value='p…"
      ]
     },
     "metadata": {},
     "output_type": "display_data"
    }
   ],
   "source": [
    "%%mc import1\n",
    "pandas\n",
    "numpy\n",
    "spicy.special\n",
    "sql"
   ]
  },
  {
   "cell_type": "code",
   "execution_count": 7,
   "metadata": {
    "deletable": false,
    "editable": false,
    "execution": {
     "iopub.execute_input": "2022-08-22T07:55:03.868566Z",
     "iopub.status.busy": "2022-08-22T07:55:03.868218Z",
     "iopub.status.idle": "2022-08-22T07:55:03.876148Z",
     "shell.execute_reply": "2022-08-22T07:55:03.874988Z"
    }
   },
   "outputs": [
    {
     "data": {
      "text/html": [
       "<table><tr style=\"background: red; color: white\"><td style=\"text-align:left\">That is the wrong answer</td></tr></table>"
      ],
      "text/plain": [
       "<IPython.core.display.HTML object>"
      ]
     },
     "metadata": {
      "text/html": {
       "username": "ruud"
      }
     },
     "output_type": "display_data"
    }
   ],
   "source": [
    "%%check\n",
    "result == 265054803844041"
   ]
  },
  {
   "cell_type": "markdown",
   "metadata": {},
   "source": [
    "#### Import this library and compute $\\binom{13}{5}$"
   ]
  },
  {
   "cell_type": "code",
   "execution_count": 8,
   "metadata": {
    "deletable": false,
    "editable": true,
    "execution": {
     "iopub.execute_input": "2022-08-22T07:55:03.880974Z",
     "iopub.status.busy": "2022-08-22T07:55:03.880423Z",
     "iopub.status.idle": "2022-08-22T07:55:03.886273Z",
     "shell.execute_reply": "2022-08-22T07:55:03.885223Z"
    }
   },
   "outputs": [],
   "source": [
    "%%assignment\n",
    "### ENTER YOUR CODE HERE"
   ]
  },
  {
   "cell_type": "code",
   "execution_count": 9,
   "metadata": {
    "deletable": false,
    "editable": false,
    "execution": {
     "iopub.execute_input": "2022-08-22T07:55:03.890200Z",
     "iopub.status.busy": "2022-08-22T07:55:03.889628Z",
     "iopub.status.idle": "2022-08-22T07:55:03.896558Z",
     "shell.execute_reply": "2022-08-22T07:55:03.895605Z"
    }
   },
   "outputs": [
    {
     "data": {
      "text/html": [
       "<table><tr style=\"background: red; color: white\"><td style=\"text-align:left\">The result for inthashresult should be 3776866514</td></tr></table>"
      ],
      "text/plain": [
       "<IPython.core.display.HTML object>"
      ]
     },
     "metadata": {
      "text/html": {
       "username": "ruud"
      }
     },
     "output_type": "display_data"
    }
   ],
   "source": [
    "%%check\n",
    "inthashresult==3776866514"
   ]
  },
  {
   "cell_type": "markdown",
   "metadata": {},
   "source": [
    "#### Now compute the number of combinations for the given values of N and k."
   ]
  },
  {
   "cell_type": "code",
   "execution_count": 10,
   "metadata": {
    "execution": {
     "iopub.execute_input": "2022-08-22T07:55:03.900042Z",
     "iopub.status.busy": "2022-08-22T07:55:03.899663Z",
     "iopub.status.idle": "2022-08-22T07:55:03.904008Z",
     "shell.execute_reply": "2022-08-22T07:55:03.903023Z"
    }
   },
   "outputs": [],
   "source": [
    "N = 52\n",
    "k = 4"
   ]
  },
  {
   "cell_type": "code",
   "execution_count": 11,
   "metadata": {
    "deletable": false,
    "editable": true,
    "execution": {
     "iopub.execute_input": "2022-08-22T07:55:03.907164Z",
     "iopub.status.busy": "2022-08-22T07:55:03.906782Z",
     "iopub.status.idle": "2022-08-22T07:55:03.911326Z",
     "shell.execute_reply": "2022-08-22T07:55:03.910526Z"
    }
   },
   "outputs": [],
   "source": [
    "%%assignment\n",
    "### ENTER YOUR CODE HERE"
   ]
  },
  {
   "cell_type": "code",
   "execution_count": 12,
   "metadata": {
    "deletable": false,
    "editable": false,
    "execution": {
     "iopub.execute_input": "2022-08-22T07:55:03.914306Z",
     "iopub.status.busy": "2022-08-22T07:55:03.913935Z",
     "iopub.status.idle": "2022-08-22T07:55:03.920799Z",
     "shell.execute_reply": "2022-08-22T07:55:03.919657Z"
    }
   },
   "outputs": [
    {
     "data": {
      "text/html": [
       "<table><tr style=\"background: red; color: white\"><td style=\"text-align:left\">The result should be 270725.0 for testcase N, k = 52, 4 </td></tr></table>"
      ],
      "text/plain": [
       "<IPython.core.display.HTML object>"
      ]
     },
     "metadata": {
      "text/html": {
       "username": "ruud"
      }
     },
     "output_type": "display_data"
    }
   ],
   "source": [
    "%%check\n",
    "N, k = 52, 4\n",
    "result== 270725.0\n",
    "N, k = 52, 2\n",
    "result== 52 * 51 / 2"
   ]
  },
  {
   "cell_type": "markdown",
   "metadata": {},
   "source": [
    "#### Search online for a library that has a function to compute the median of a List of values. Which of these 4 libraries has a median function that you can use?"
   ]
  },
  {
   "cell_type": "code",
   "execution_count": 13,
   "metadata": {
    "execution": {
     "iopub.execute_input": "2022-08-22T07:55:03.925581Z",
     "iopub.status.busy": "2022-08-22T07:55:03.925233Z",
     "iopub.status.idle": "2022-08-22T07:55:03.936700Z",
     "shell.execute_reply": "2022-08-22T07:55:03.936040Z"
    },
    "nbgrader": {
     "grade": false,
     "grade_id": "cell-7a35b178ac006de7",
     "locked": true,
     "schema_version": 3,
     "solution": false,
     "task": false
    }
   },
   "outputs": [
    {
     "data": {
      "application/vnd.jupyter.widget-view+json": {
       "model_id": "ff4ff938fb5644f3bf616d58f9786602",
       "version_major": 2,
       "version_minor": 0
      },
      "text/plain": [
       "RadioButtons(layout=Layout(width='max-content'), options=('math', 'numpy', 'sklearn', 'statistics'), value='ma…"
      ]
     },
     "metadata": {},
     "output_type": "display_data"
    }
   ],
   "source": [
    "%%mc import2\n",
    "math\n",
    "numpy\n",
    "sklearn\n",
    "statistics"
   ]
  },
  {
   "cell_type": "code",
   "execution_count": 14,
   "metadata": {
    "deletable": false,
    "editable": false,
    "execution": {
     "iopub.execute_input": "2022-08-22T07:55:03.939467Z",
     "iopub.status.busy": "2022-08-22T07:55:03.939224Z",
     "iopub.status.idle": "2022-08-22T07:55:03.944085Z",
     "shell.execute_reply": "2022-08-22T07:55:03.943287Z"
    }
   },
   "outputs": [
    {
     "data": {
      "text/html": [
       "<table><tr style=\"background: red; color: white\"><td style=\"text-align:left\">That is the wrong answer</td></tr></table>"
      ],
      "text/plain": [
       "<IPython.core.display.HTML object>"
      ]
     },
     "metadata": {
      "text/html": {
       "username": "ruud"
      }
     },
     "output_type": "display_data"
    }
   ],
   "source": [
    "%%check\n",
    "result == 8990634646709615"
   ]
  },
  {
   "cell_type": "markdown",
   "metadata": {},
   "source": [
    "#### Import the library and compute the median of `numbers`"
   ]
  },
  {
   "cell_type": "code",
   "execution_count": 15,
   "metadata": {
    "execution": {
     "iopub.execute_input": "2022-08-22T07:55:03.947143Z",
     "iopub.status.busy": "2022-08-22T07:55:03.946844Z",
     "iopub.status.idle": "2022-08-22T07:55:03.950606Z",
     "shell.execute_reply": "2022-08-22T07:55:03.949823Z"
    }
   },
   "outputs": [],
   "source": [
    "numbers = [ 20, 12, 4, 29, 28, 10, 6 , 14, 18 ]"
   ]
  },
  {
   "cell_type": "code",
   "execution_count": 16,
   "metadata": {
    "deletable": false,
    "editable": true,
    "execution": {
     "iopub.execute_input": "2022-08-22T07:55:03.952895Z",
     "iopub.status.busy": "2022-08-22T07:55:03.952651Z",
     "iopub.status.idle": "2022-08-22T07:55:03.956152Z",
     "shell.execute_reply": "2022-08-22T07:55:03.955474Z"
    }
   },
   "outputs": [],
   "source": [
    "%%assignment\n",
    "### ENTER YOUR CODE HERE\n"
   ]
  },
  {
   "cell_type": "code",
   "execution_count": 17,
   "metadata": {
    "deletable": false,
    "editable": false,
    "execution": {
     "iopub.execute_input": "2022-08-22T07:55:03.959969Z",
     "iopub.status.busy": "2022-08-22T07:55:03.959669Z",
     "iopub.status.idle": "2022-08-22T07:55:03.964926Z",
     "shell.execute_reply": "2022-08-22T07:55:03.964271Z"
    }
   },
   "outputs": [
    {
     "data": {
      "text/html": [
       "<table><tr style=\"background: red; color: white\"><td style=\"text-align:left\">The result should be 14 for testcase numbers = [ 20, 12, 4, 29, 28, 10, 6 , 14, 18 ] </td></tr></table>"
      ],
      "text/plain": [
       "<IPython.core.display.HTML object>"
      ]
     },
     "metadata": {
      "text/html": {
       "username": "ruud"
      }
     },
     "output_type": "display_data"
    }
   ],
   "source": [
    "%%check\n",
    "numbers = [ 20, 12, 4, 29, 28, 10, 6 , 14, 18 ]\n",
    "result == 14\n",
    "numbers = [ 20, 12, 4, 29, 28, 10, 6 , 14, 18, 19, 27 ]\n",
    "result == 18"
   ]
  }
 ],
 "metadata": {
  "celltoolbar": "Create Assignment",
  "kernelspec": {
   "display_name": "prog",
   "language": "python",
   "name": "prog"
  },
  "language_info": {
   "codemirror_mode": {
    "name": "ipython",
    "version": 3
   },
   "file_extension": ".py",
   "mimetype": "text/x-python",
   "name": "python",
   "nbconvert_exporter": "python",
   "pygments_lexer": "ipython3",
   "version": "3.9.12"
  },
  "widgets": {
   "application/vnd.jupyter.widget-state+json": {
    "state": {
     "92a3e90f23b04039a924e637e8fab249": {
      "model_module": "@jupyter-widgets/base",
      "model_module_version": "1.2.0",
      "model_name": "LayoutModel",
      "state": {
       "_model_module": "@jupyter-widgets/base",
       "_model_module_version": "1.2.0",
       "_model_name": "LayoutModel",
       "_view_count": null,
       "_view_module": "@jupyter-widgets/base",
       "_view_module_version": "1.2.0",
       "_view_name": "LayoutView",
       "align_content": null,
       "align_items": null,
       "align_self": null,
       "border": null,
       "bottom": null,
       "display": null,
       "flex": null,
       "flex_flow": null,
       "grid_area": null,
       "grid_auto_columns": null,
       "grid_auto_flow": null,
       "grid_auto_rows": null,
       "grid_column": null,
       "grid_gap": null,
       "grid_row": null,
       "grid_template_areas": null,
       "grid_template_columns": null,
       "grid_template_rows": null,
       "height": null,
       "justify_content": null,
       "justify_items": null,
       "left": null,
       "margin": null,
       "max_height": null,
       "max_width": null,
       "min_height": null,
       "min_width": null,
       "object_fit": null,
       "object_position": null,
       "order": null,
       "overflow": null,
       "overflow_x": null,
       "overflow_y": null,
       "padding": null,
       "right": null,
       "top": null,
       "visibility": null,
       "width": "max-content"
      }
     },
     "b3e171e117754ed39c35fddb812a7e73": {
      "model_module": "@jupyter-widgets/controls",
      "model_module_version": "1.5.0",
      "model_name": "DescriptionStyleModel",
      "state": {
       "_model_module": "@jupyter-widgets/controls",
       "_model_module_version": "1.5.0",
       "_model_name": "DescriptionStyleModel",
       "_view_count": null,
       "_view_module": "@jupyter-widgets/base",
       "_view_module_version": "1.2.0",
       "_view_name": "StyleView",
       "description_width": ""
      }
     },
     "b529e65fda774781a29baa8db35d2278": {
      "model_module": "@jupyter-widgets/controls",
      "model_module_version": "1.5.0",
      "model_name": "RadioButtonsModel",
      "state": {
       "_dom_classes": [],
       "_model_module": "@jupyter-widgets/controls",
       "_model_module_version": "1.5.0",
       "_model_name": "RadioButtonsModel",
       "_options_labels": [
        "pandas",
        "numpy",
        "spicy.special",
        "sql"
       ],
       "_view_count": null,
       "_view_module": "@jupyter-widgets/controls",
       "_view_module_version": "1.5.0",
       "_view_name": "RadioButtonsView",
       "description": "",
       "description_tooltip": null,
       "disabled": false,
       "index": 0,
       "layout": "IPY_MODEL_deb471e7f0164188891c183a549e55b7",
       "style": "IPY_MODEL_d4a36eba05514d4698c4219dfca3a726"
      }
     },
     "d4a36eba05514d4698c4219dfca3a726": {
      "model_module": "@jupyter-widgets/controls",
      "model_module_version": "1.5.0",
      "model_name": "DescriptionStyleModel",
      "state": {
       "_model_module": "@jupyter-widgets/controls",
       "_model_module_version": "1.5.0",
       "_model_name": "DescriptionStyleModel",
       "_view_count": null,
       "_view_module": "@jupyter-widgets/base",
       "_view_module_version": "1.2.0",
       "_view_name": "StyleView",
       "description_width": ""
      }
     },
     "deb471e7f0164188891c183a549e55b7": {
      "model_module": "@jupyter-widgets/base",
      "model_module_version": "1.2.0",
      "model_name": "LayoutModel",
      "state": {
       "_model_module": "@jupyter-widgets/base",
       "_model_module_version": "1.2.0",
       "_model_name": "LayoutModel",
       "_view_count": null,
       "_view_module": "@jupyter-widgets/base",
       "_view_module_version": "1.2.0",
       "_view_name": "LayoutView",
       "align_content": null,
       "align_items": null,
       "align_self": null,
       "border": null,
       "bottom": null,
       "display": null,
       "flex": null,
       "flex_flow": null,
       "grid_area": null,
       "grid_auto_columns": null,
       "grid_auto_flow": null,
       "grid_auto_rows": null,
       "grid_column": null,
       "grid_gap": null,
       "grid_row": null,
       "grid_template_areas": null,
       "grid_template_columns": null,
       "grid_template_rows": null,
       "height": null,
       "justify_content": null,
       "justify_items": null,
       "left": null,
       "margin": null,
       "max_height": null,
       "max_width": null,
       "min_height": null,
       "min_width": null,
       "object_fit": null,
       "object_position": null,
       "order": null,
       "overflow": null,
       "overflow_x": null,
       "overflow_y": null,
       "padding": null,
       "right": null,
       "top": null,
       "visibility": null,
       "width": "max-content"
      }
     },
     "ff4ff938fb5644f3bf616d58f9786602": {
      "model_module": "@jupyter-widgets/controls",
      "model_module_version": "1.5.0",
      "model_name": "RadioButtonsModel",
      "state": {
       "_dom_classes": [],
       "_model_module": "@jupyter-widgets/controls",
       "_model_module_version": "1.5.0",
       "_model_name": "RadioButtonsModel",
       "_options_labels": [
        "math",
        "numpy",
        "sklearn",
        "statistics"
       ],
       "_view_count": null,
       "_view_module": "@jupyter-widgets/controls",
       "_view_module_version": "1.5.0",
       "_view_name": "RadioButtonsView",
       "description": "",
       "description_tooltip": null,
       "disabled": false,
       "index": 0,
       "layout": "IPY_MODEL_92a3e90f23b04039a924e637e8fab249",
       "style": "IPY_MODEL_b3e171e117754ed39c35fddb812a7e73"
      }
     }
    },
    "version_major": 2,
    "version_minor": 0
   }
  }
 },
 "nbformat": 4,
 "nbformat_minor": 4
}
