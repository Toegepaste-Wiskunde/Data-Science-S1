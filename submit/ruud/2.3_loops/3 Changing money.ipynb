{
 "cells": [
  {
   "cell_type": "markdown",
   "metadata": {},
   "source": [
    "# Changing Money\n",
    "\n",
    "This is extension to a previous assignment to determine how change can be given in a shop using the minimum amount of coins. We will create a program for this in simple steps."
   ]
  },
  {
   "cell_type": "code",
   "execution_count": 1,
   "metadata": {
    "execution": {
     "iopub.execute_input": "2022-08-22T13:40:02.953539Z",
     "iopub.status.busy": "2022-08-22T13:40:02.952899Z",
     "iopub.status.idle": "2022-08-22T13:40:02.965178Z",
     "shell.execute_reply": "2022-08-22T13:40:02.964193Z"
    }
   },
   "outputs": [],
   "source": [
    "amount = 765   # amount to be paid in cents\n",
    "paid = 1000    # amount paid in cents (i.e. a E10 bill)"
   ]
  },
  {
   "cell_type": "code",
   "execution_count": 2,
   "metadata": {
    "execution": {
     "iopub.execute_input": "2022-08-22T13:40:02.969329Z",
     "iopub.status.busy": "2022-08-22T13:40:02.968934Z",
     "iopub.status.idle": "2022-08-22T13:40:02.973334Z",
     "shell.execute_reply": "2022-08-22T13:40:02.972373Z"
    }
   },
   "outputs": [],
   "source": [
    "change = paid - amount   # the amount of change to be returned"
   ]
  },
  {
   "cell_type": "markdown",
   "metadata": {},
   "source": [
    "#### Compute the minimum number of `total_coins ` that must be returned as change. You may use the coin values in the list `coins`.\n",
    "\n",
    "e.g. for change = 45 you should set total_coins to 3 (2 coins of 20 cents and 1 coin of 5 cents)\n",
    "\n",
    "Hint: one possible solution includes modulo and integer divisions."
   ]
  },
  {
   "cell_type": "code",
   "execution_count": 3,
   "metadata": {
    "execution": {
     "iopub.execute_input": "2022-08-22T13:40:02.976707Z",
     "iopub.status.busy": "2022-08-22T13:40:02.976361Z",
     "iopub.status.idle": "2022-08-22T13:40:02.980648Z",
     "shell.execute_reply": "2022-08-22T13:40:02.979634Z"
    }
   },
   "outputs": [],
   "source": [
    "coins = [200, 100, 50, 20, 10, 5]"
   ]
  },
  {
   "cell_type": "code",
   "execution_count": 4,
   "metadata": {
    "deletable": false,
    "editable": true,
    "execution": {
     "iopub.execute_input": "2022-08-22T13:40:02.983724Z",
     "iopub.status.busy": "2022-08-22T13:40:02.983445Z",
     "iopub.status.idle": "2022-08-22T13:40:02.993179Z",
     "shell.execute_reply": "2022-08-22T13:40:02.992526Z"
    }
   },
   "outputs": [
    {
     "data": {
      "text/plain": [
       "0"
      ]
     },
     "execution_count": 4,
     "metadata": {},
     "output_type": "execute_result"
    }
   ],
   "source": [
    "%%assignment\n",
    "total_coins = 0\n",
    "### ENTER YOUR CODE HERE\n",
    "total_coins"
   ]
  },
  {
   "cell_type": "code",
   "execution_count": 5,
   "metadata": {
    "deletable": false,
    "editable": false,
    "execution": {
     "iopub.execute_input": "2022-08-22T13:40:02.996324Z",
     "iopub.status.busy": "2022-08-22T13:40:02.996039Z",
     "iopub.status.idle": "2022-08-22T13:40:03.001164Z",
     "shell.execute_reply": "2022-08-22T13:40:03.000539Z"
    }
   },
   "outputs": [
    {
     "data": {
      "text/html": [
       "<table><tr style=\"background: red; color: white\"><td style=\"text-align:left\">The result for total_coins should be 4 for testcase change = 235 </td></tr></table>"
      ],
      "text/plain": [
       "<IPython.core.display.HTML object>"
      ]
     },
     "metadata": {
      "text/html": {
       "username": "ruud"
      }
     },
     "output_type": "display_data"
    }
   ],
   "source": [
    "%%check\n",
    "change = 235\n",
    "total_coins == 4\n",
    "change = 45\n",
    "total_coins == 3\n",
    "coins = [250, 100, 25, 10, 5]\n",
    "change = 415\n",
    "total_coins == 6"
   ]
  }
 ],
 "metadata": {
  "celltoolbar": "Create Assignment",
  "kernelspec": {
   "display_name": "prog",
   "language": "python",
   "name": "prog"
  },
  "language_info": {
   "codemirror_mode": {
    "name": "ipython",
    "version": 3
   },
   "file_extension": ".py",
   "mimetype": "text/x-python",
   "name": "python",
   "nbconvert_exporter": "python",
   "pygments_lexer": "ipython3",
   "version": "3.9.12"
  }
 },
 "nbformat": 4,
 "nbformat_minor": 4
}
