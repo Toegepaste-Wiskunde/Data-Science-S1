{
 "cells": [
  {
   "cell_type": "markdown",
   "metadata": {},
   "source": [
    "# Lambda expression\n",
    "\n",
    "In many programming languages, we can define simple anonymous functions that have no name. The idea is that sometimes, you just want to apply a function one time, so there is really no need to assign it to a variable for reuse. Such an anonymous function is formally called a 'lambda expression'. Lambda expressions cannot contain an entire code block, but only define what the input parameters are and what the returned result is."
   ]
  },
  {
   "cell_type": "markdown",
   "metadata": {},
   "source": [
    "A lambda expression contains the word 'lambda', followed by the input parameters (if any), then a colon (:) and then the expression that is returned. So the lambda to compute the area of a rectangle of size `x` by `y` could be:"
   ]
  },
  {
   "cell_type": "code",
   "execution_count": 1,
   "metadata": {
    "execution": {
     "iopub.execute_input": "2022-08-22T07:35:03.334573Z",
     "iopub.status.busy": "2022-08-22T07:35:03.333581Z",
     "iopub.status.idle": "2022-08-22T07:35:03.354714Z",
     "shell.execute_reply": "2022-08-22T07:35:03.353767Z"
    }
   },
   "outputs": [
    {
     "data": {
      "text/plain": [
       "<function __main__.<lambda>(x, y)>"
      ]
     },
     "execution_count": 1,
     "metadata": {},
     "output_type": "execute_result"
    }
   ],
   "source": [
    "lambda x, y: x*y"
   ]
  },
  {
   "cell_type": "markdown",
   "metadata": {},
   "source": [
    "Since the lambda is not stored, we cannot use it. To demonstrate how it works, we can assign it to a variable."
   ]
  },
  {
   "cell_type": "code",
   "execution_count": 2,
   "metadata": {
    "execution": {
     "iopub.execute_input": "2022-08-22T07:35:03.383432Z",
     "iopub.status.busy": "2022-08-22T07:35:03.382843Z",
     "iopub.status.idle": "2022-08-22T07:35:03.388778Z",
     "shell.execute_reply": "2022-08-22T07:35:03.387592Z"
    }
   },
   "outputs": [],
   "source": [
    "area = lambda x, y: x*y"
   ]
  },
  {
   "cell_type": "code",
   "execution_count": 3,
   "metadata": {
    "execution": {
     "iopub.execute_input": "2022-08-22T07:35:03.392378Z",
     "iopub.status.busy": "2022-08-22T07:35:03.391543Z",
     "iopub.status.idle": "2022-08-22T07:35:03.397903Z",
     "shell.execute_reply": "2022-08-22T07:35:03.396773Z"
    }
   },
   "outputs": [
    {
     "data": {
      "text/plain": [
       "20"
      ]
     },
     "execution_count": 3,
     "metadata": {},
     "output_type": "execute_result"
    }
   ],
   "source": [
    "area(5, 4)"
   ]
  },
  {
   "cell_type": "markdown",
   "metadata": {},
   "source": [
    "Note that this is the exact equivalent of:"
   ]
  },
  {
   "cell_type": "code",
   "execution_count": 4,
   "metadata": {
    "execution": {
     "iopub.execute_input": "2022-08-22T07:35:03.401156Z",
     "iopub.status.busy": "2022-08-22T07:35:03.400740Z",
     "iopub.status.idle": "2022-08-22T07:35:03.405569Z",
     "shell.execute_reply": "2022-08-22T07:35:03.404592Z"
    }
   },
   "outputs": [],
   "source": [
    "def area(x, y):\n",
    "    return x * y"
   ]
  },
  {
   "cell_type": "code",
   "execution_count": 5,
   "metadata": {
    "execution": {
     "iopub.execute_input": "2022-08-22T07:35:03.408560Z",
     "iopub.status.busy": "2022-08-22T07:35:03.408239Z",
     "iopub.status.idle": "2022-08-22T07:35:03.413927Z",
     "shell.execute_reply": "2022-08-22T07:35:03.412816Z"
    }
   },
   "outputs": [
    {
     "data": {
      "text/plain": [
       "20"
      ]
     },
     "execution_count": 5,
     "metadata": {},
     "output_type": "execute_result"
    }
   ],
   "source": [
    "area(5, 4)"
   ]
  },
  {
   "cell_type": "markdown",
   "metadata": {},
   "source": [
    "So what are lambda's useful for? We can pass a function as a function parameter. Consider a few examples:"
   ]
  },
  {
   "cell_type": "code",
   "execution_count": 6,
   "metadata": {
    "execution": {
     "iopub.execute_input": "2022-08-22T07:35:03.416816Z",
     "iopub.status.busy": "2022-08-22T07:35:03.416477Z",
     "iopub.status.idle": "2022-08-22T07:35:03.420978Z",
     "shell.execute_reply": "2022-08-22T07:35:03.419921Z"
    }
   },
   "outputs": [],
   "source": [
    "a = [5, 3, 2, 8]"
   ]
  },
  {
   "cell_type": "markdown",
   "metadata": {},
   "source": [
    "| code | result | comment |\n",
    "|:-----|:-------|:--------|\n",
    "| sorted(a) | [2, 3, 5, 8] | returns a sorted list of any iterable |\n",
    "| sorted(a, key=lambda x:-x) | [8, 5, 3, 2] | when we pass a function as key, the elements are sorted by the value that functions returns for them. In this case `-x` reversed the sort order |\n",
    "| sorted(a, key=lambda x: x % 2) | [2, 8, 5, 3] | because even numbers evaluate to 0 and odd numbers to 1, this changes the order so that the even numbers come before the odd numbers |\n",
    "| filter( lambda x: x < 5, a ) | [2, 3] | filter returns only the values in `a` for which the lambda returns True |"
   ]
  },
  {
   "cell_type": "markdown",
   "metadata": {},
   "source": [
    "By passing functions to functions, it becomes possible to write more generic function. For example, a sort function that can sort any list of elements, using a passed function/lambda that returns the value to sort it by."
   ]
  },
  {
   "cell_type": "markdown",
   "metadata": {},
   "source": [
    "# Assignments"
   ]
  },
  {
   "cell_type": "markdown",
   "metadata": {},
   "source": [
    "Consider the generic function `smallest` that returns the smallest of a set of rectangles given some measure.\n",
    "\n",
    "The way smallest works, is by constructing a list of (measure, value) tuples. When you sort these values using that function, the first value is the smallest."
   ]
  },
  {
   "cell_type": "code",
   "execution_count": 7,
   "metadata": {
    "execution": {
     "iopub.execute_input": "2022-08-22T07:35:03.424086Z",
     "iopub.status.busy": "2022-08-22T07:35:03.423753Z",
     "iopub.status.idle": "2022-08-22T07:35:03.428015Z",
     "shell.execute_reply": "2022-08-22T07:35:03.427107Z"
    }
   },
   "outputs": [],
   "source": [
    "def smallest( values, measure):\n",
    "    return sorted(values, key=measure)[0]"
   ]
  },
  {
   "cell_type": "code",
   "execution_count": 8,
   "metadata": {
    "execution": {
     "iopub.execute_input": "2022-08-22T07:35:03.430881Z",
     "iopub.status.busy": "2022-08-22T07:35:03.430530Z",
     "iopub.status.idle": "2022-08-22T07:35:03.434914Z",
     "shell.execute_reply": "2022-08-22T07:35:03.433894Z"
    }
   },
   "outputs": [],
   "source": [
    "rectangles = [(4, 10), (3, 6), (4, 4)]"
   ]
  },
  {
   "cell_type": "markdown",
   "metadata": {},
   "source": [
    "When we call this function with `min` as measure, it will use the minimum of the height and width of each rectangle as value to sort on."
   ]
  },
  {
   "cell_type": "code",
   "execution_count": 9,
   "metadata": {
    "execution": {
     "iopub.execute_input": "2022-08-22T07:35:03.461254Z",
     "iopub.status.busy": "2022-08-22T07:35:03.460674Z",
     "iopub.status.idle": "2022-08-22T07:35:03.468597Z",
     "shell.execute_reply": "2022-08-22T07:35:03.467367Z"
    }
   },
   "outputs": [
    {
     "data": {
      "text/plain": [
       "(3, 6)"
      ]
     },
     "execution_count": 9,
     "metadata": {},
     "output_type": "execute_result"
    }
   ],
   "source": [
    "smallest(rectangles, min)"
   ]
  },
  {
   "cell_type": "markdown",
   "metadata": {},
   "source": [
    "# Use `smallest` with a lambda to get the rectangle with the smallest area.\n",
    "\n",
    "Note: you can not use unpacking here, you have to use a single parameter like in `lambda x: ...`, therefore you will have to write the lambda to compute the area different than the version above."
   ]
  },
  {
   "cell_type": "code",
   "execution_count": 10,
   "metadata": {
    "deletable": false,
    "editable": true,
    "execution": {
     "iopub.execute_input": "2022-08-22T07:35:03.474774Z",
     "iopub.status.busy": "2022-08-22T07:35:03.473679Z",
     "iopub.status.idle": "2022-08-22T07:35:03.480700Z",
     "shell.execute_reply": "2022-08-22T07:35:03.479301Z"
    }
   },
   "outputs": [],
   "source": [
    "%%assignment\n",
    "### ENTER YOUR CODE HERE"
   ]
  },
  {
   "cell_type": "code",
   "execution_count": 11,
   "metadata": {
    "deletable": false,
    "editable": false,
    "execution": {
     "iopub.execute_input": "2022-08-22T07:35:03.484532Z",
     "iopub.status.busy": "2022-08-22T07:35:03.484072Z",
     "iopub.status.idle": "2022-08-22T07:35:03.491725Z",
     "shell.execute_reply": "2022-08-22T07:35:03.490860Z"
    }
   },
   "outputs": [
    {
     "data": {
      "text/html": [
       "<table><tr style=\"background: red; color: white\"><td style=\"text-align:left\">The result should be (2, 2) for testcase rectangles = [(9, 1), (1, 8), (2, 2)] </td></tr></table>"
      ],
      "text/plain": [
       "<IPython.core.display.HTML object>"
      ]
     },
     "metadata": {
      "text/html": {
       "username": "ruud"
      }
     },
     "output_type": "display_data"
    }
   ],
   "source": [
    "%%check\n",
    "rectangles = [(9, 1), (1, 8), (2, 2)]\n",
    "result == (2, 2)\n",
    "rectangles = [(4, 10), (3, 6), (4, 4)]\n",
    "result == (4, 4)"
   ]
  },
  {
   "cell_type": "markdown",
   "metadata": {},
   "source": [
    "# Use `smallest` with a lambda to get the rectangle with the longest edge.\n",
    "\n",
    "An 'edge' could either by the height or width, whichever is longest."
   ]
  },
  {
   "cell_type": "code",
   "execution_count": 12,
   "metadata": {
    "deletable": false,
    "editable": true,
    "execution": {
     "iopub.execute_input": "2022-08-22T07:35:03.495372Z",
     "iopub.status.busy": "2022-08-22T07:35:03.495029Z",
     "iopub.status.idle": "2022-08-22T07:35:03.499554Z",
     "shell.execute_reply": "2022-08-22T07:35:03.498427Z"
    }
   },
   "outputs": [],
   "source": [
    "%%assignment\n",
    "### ENTER YOUR CODE HERE"
   ]
  },
  {
   "cell_type": "code",
   "execution_count": 13,
   "metadata": {
    "deletable": false,
    "editable": false,
    "execution": {
     "iopub.execute_input": "2022-08-22T07:35:03.502915Z",
     "iopub.status.busy": "2022-08-22T07:35:03.502551Z",
     "iopub.status.idle": "2022-08-22T07:35:03.508602Z",
     "shell.execute_reply": "2022-08-22T07:35:03.507849Z"
    }
   },
   "outputs": [
    {
     "data": {
      "text/html": [
       "<table><tr style=\"background: red; color: white\"><td style=\"text-align:left\">The result should be (1, 9) for testcase rectangles = [(8, 1), (1, 9), (2, 2)] </td></tr></table>"
      ],
      "text/plain": [
       "<IPython.core.display.HTML object>"
      ]
     },
     "metadata": {
      "text/html": {
       "username": "ruud"
      }
     },
     "output_type": "display_data"
    }
   ],
   "source": [
    "%%check\n",
    "rectangles = [(8, 1), (1, 9), (2, 2)]\n",
    "result == (1, 9)\n",
    "rectangles = [(4, 10), (3, 6), (4, 4)]\n",
    "result == (4, 10)"
   ]
  },
  {
   "cell_type": "markdown",
   "metadata": {},
   "source": [
    "# Sort `names` by the length of the strings.\n",
    "\n",
    "In other words, the shortest name should come first and the longest name last."
   ]
  },
  {
   "cell_type": "code",
   "execution_count": 14,
   "metadata": {
    "execution": {
     "iopub.execute_input": "2022-08-22T07:35:03.511629Z",
     "iopub.status.busy": "2022-08-22T07:35:03.511295Z",
     "iopub.status.idle": "2022-08-22T07:35:03.515529Z",
     "shell.execute_reply": "2022-08-22T07:35:03.514774Z"
    }
   },
   "outputs": [],
   "source": [
    "names = ['Isabelle', 'Jack', 'James', 'Abe' ]"
   ]
  },
  {
   "cell_type": "code",
   "execution_count": 15,
   "metadata": {
    "deletable": false,
    "editable": true,
    "execution": {
     "iopub.execute_input": "2022-08-22T07:35:03.518330Z",
     "iopub.status.busy": "2022-08-22T07:35:03.518034Z",
     "iopub.status.idle": "2022-08-22T07:35:03.522030Z",
     "shell.execute_reply": "2022-08-22T07:35:03.521161Z"
    }
   },
   "outputs": [],
   "source": [
    "%%assignment\n",
    "### ENTER YOUR CODE HERE"
   ]
  },
  {
   "cell_type": "code",
   "execution_count": 16,
   "metadata": {
    "deletable": false,
    "editable": false,
    "execution": {
     "iopub.execute_input": "2022-08-22T07:35:03.524931Z",
     "iopub.status.busy": "2022-08-22T07:35:03.524625Z",
     "iopub.status.idle": "2022-08-22T07:35:03.530150Z",
     "shell.execute_reply": "2022-08-22T07:35:03.529443Z"
    }
   },
   "outputs": [
    {
     "data": {
      "text/html": [
       "<table><tr style=\"background: red; color: white\"><td style=\"text-align:left\">The result should be ['Abe', 'James', 'Isabelle'] for testcase names = ['Isabelle', 'James', 'Abe' ] </td></tr></table>"
      ],
      "text/plain": [
       "<IPython.core.display.HTML object>"
      ]
     },
     "metadata": {
      "text/html": {
       "username": "ruud"
      }
     },
     "output_type": "display_data"
    }
   ],
   "source": [
    "%%check\n",
    "names = ['Isabelle', 'James', 'Abe' ]\n",
    "result == ['Abe', 'James', 'Isabelle']\n",
    "names = ['Isabelle', 'Jack', 'James', 'Abe' ]\n",
    "result == ['Abe', 'Jack', 'James', 'Isabelle']"
   ]
  }
 ],
 "metadata": {
  "celltoolbar": "Create Assignment",
  "kernelspec": {
   "display_name": "prog",
   "language": "python",
   "name": "prog"
  },
  "language_info": {
   "codemirror_mode": {
    "name": "ipython",
    "version": 3
   },
   "file_extension": ".py",
   "mimetype": "text/x-python",
   "name": "python",
   "nbconvert_exporter": "python",
   "pygments_lexer": "ipython3",
   "version": "3.9.12"
  }
 },
 "nbformat": 4,
 "nbformat_minor": 4
}
