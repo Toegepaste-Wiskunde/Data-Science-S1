{
 "cells": [
  {
   "cell_type": "markdown",
   "metadata": {},
   "source": [
    "# Functions\n",
    "\n",
    "The tools we can use in our programs are not limited to variables and operator. Python also contains a great number of functions that each perform a well defined operation. These functions have a `name` we can use to call them, and we can pass `arguments` in between brackets.\n",
    "\n",
    "The first two functions we will look at are `min` and `max`. The `min` function takes any number of comparable values as arguments and simply returns the lowest of these values. The `max` function returns the highest value.\n",
    "\n",
    "It is also possible to provide a list of values (e.g. `[3, 2, 5]`) to min or max, then it will return the highest or lowest value from that list."
   ]
  },
  {
   "cell_type": "markdown",
   "metadata": {},
   "source": [
    "# Examples"
   ]
  },
  {
   "cell_type": "code",
   "execution_count": 1,
   "metadata": {
    "execution": {
     "iopub.execute_input": "2022-08-22T15:20:02.591639Z",
     "iopub.status.busy": "2022-08-22T15:20:02.591123Z",
     "iopub.status.idle": "2022-08-22T15:20:02.611360Z",
     "shell.execute_reply": "2022-08-22T15:20:02.610681Z"
    }
   },
   "outputs": [
    {
     "data": {
      "text/plain": [
       "2"
      ]
     },
     "execution_count": 1,
     "metadata": {},
     "output_type": "execute_result"
    }
   ],
   "source": [
    "min(3, 2, 6)"
   ]
  },
  {
   "cell_type": "code",
   "execution_count": 2,
   "metadata": {
    "execution": {
     "iopub.execute_input": "2022-08-22T15:20:02.616864Z",
     "iopub.status.busy": "2022-08-22T15:20:02.616571Z",
     "iopub.status.idle": "2022-08-22T15:20:02.621491Z",
     "shell.execute_reply": "2022-08-22T15:20:02.620818Z"
    }
   },
   "outputs": [
    {
     "data": {
      "text/plain": [
       "1"
      ]
     },
     "execution_count": 2,
     "metadata": {},
     "output_type": "execute_result"
    }
   ],
   "source": [
    "a = 6\n",
    "b = 1\n",
    "min(a, b)"
   ]
  },
  {
   "cell_type": "code",
   "execution_count": 3,
   "metadata": {
    "execution": {
     "iopub.execute_input": "2022-08-22T15:20:02.624607Z",
     "iopub.status.busy": "2022-08-22T15:20:02.624358Z",
     "iopub.status.idle": "2022-08-22T15:20:02.629024Z",
     "shell.execute_reply": "2022-08-22T15:20:02.628351Z"
    }
   },
   "outputs": [
    {
     "data": {
      "text/plain": [
       "1"
      ]
     },
     "execution_count": 3,
     "metadata": {},
     "output_type": "execute_result"
    }
   ],
   "source": [
    "min(3, 1, 5, 6)"
   ]
  },
  {
   "cell_type": "code",
   "execution_count": 4,
   "metadata": {
    "execution": {
     "iopub.execute_input": "2022-08-22T15:20:02.631555Z",
     "iopub.status.busy": "2022-08-22T15:20:02.631249Z",
     "iopub.status.idle": "2022-08-22T15:20:02.636095Z",
     "shell.execute_reply": "2022-08-22T15:20:02.635415Z"
    }
   },
   "outputs": [
    {
     "data": {
      "text/plain": [
       "6"
      ]
     },
     "execution_count": 4,
     "metadata": {},
     "output_type": "execute_result"
    }
   ],
   "source": [
    "max(3, 1, 5, 6)"
   ]
  },
  {
   "cell_type": "code",
   "execution_count": 5,
   "metadata": {
    "execution": {
     "iopub.execute_input": "2022-08-22T15:20:02.638836Z",
     "iopub.status.busy": "2022-08-22T15:20:02.638552Z",
     "iopub.status.idle": "2022-08-22T15:20:02.642128Z",
     "shell.execute_reply": "2022-08-22T15:20:02.641435Z"
    }
   },
   "outputs": [],
   "source": [
    "ages = [23, 68, 30]"
   ]
  },
  {
   "cell_type": "code",
   "execution_count": 6,
   "metadata": {
    "execution": {
     "iopub.execute_input": "2022-08-22T15:20:02.644524Z",
     "iopub.status.busy": "2022-08-22T15:20:02.644130Z",
     "iopub.status.idle": "2022-08-22T15:20:02.648865Z",
     "shell.execute_reply": "2022-08-22T15:20:02.648208Z"
    }
   },
   "outputs": [
    {
     "data": {
      "text/plain": [
       "68"
      ]
     },
     "execution_count": 6,
     "metadata": {},
     "output_type": "execute_result"
    }
   ],
   "source": [
    "max(ages)"
   ]
  },
  {
   "cell_type": "code",
   "execution_count": 7,
   "metadata": {
    "execution": {
     "iopub.execute_input": "2022-08-22T15:20:02.651151Z",
     "iopub.status.busy": "2022-08-22T15:20:02.650852Z",
     "iopub.status.idle": "2022-08-22T15:20:02.655546Z",
     "shell.execute_reply": "2022-08-22T15:20:02.654889Z"
    }
   },
   "outputs": [
    {
     "data": {
      "text/plain": [
       "23"
      ]
     },
     "execution_count": 7,
     "metadata": {},
     "output_type": "execute_result"
    }
   ],
   "source": [
    "min(ages)"
   ]
  },
  {
   "cell_type": "markdown",
   "metadata": {},
   "source": [
    "# Assignment"
   ]
  },
  {
   "cell_type": "markdown",
   "metadata": {},
   "source": [
    "#### Give the smallest value of x and y"
   ]
  },
  {
   "cell_type": "code",
   "execution_count": 8,
   "metadata": {
    "execution": {
     "iopub.execute_input": "2022-08-22T15:20:02.658060Z",
     "iopub.status.busy": "2022-08-22T15:20:02.657815Z",
     "iopub.status.idle": "2022-08-22T15:20:02.661231Z",
     "shell.execute_reply": "2022-08-22T15:20:02.660547Z"
    }
   },
   "outputs": [],
   "source": [
    "x = 20\n",
    "y = 10"
   ]
  },
  {
   "cell_type": "code",
   "execution_count": 9,
   "metadata": {
    "deletable": false,
    "editable": true,
    "execution": {
     "iopub.execute_input": "2022-08-22T15:20:02.676046Z",
     "iopub.status.busy": "2022-08-22T15:20:02.675690Z",
     "iopub.status.idle": "2022-08-22T15:20:02.680543Z",
     "shell.execute_reply": "2022-08-22T15:20:02.679658Z"
    }
   },
   "outputs": [],
   "source": [
    "%%assignment\n",
    "### ENTER YOUR CODE HERE ###"
   ]
  },
  {
   "cell_type": "code",
   "execution_count": 10,
   "metadata": {
    "deletable": false,
    "editable": false,
    "execution": {
     "iopub.execute_input": "2022-08-22T15:20:02.684264Z",
     "iopub.status.busy": "2022-08-22T15:20:02.683724Z",
     "iopub.status.idle": "2022-08-22T15:20:02.690455Z",
     "shell.execute_reply": "2022-08-22T15:20:02.689679Z"
    }
   },
   "outputs": [
    {
     "data": {
      "text/html": [
       "<table><tr style=\"background: red; color: white\"><td style=\"text-align:left\">The result should be 10 for testcase x, y = 20, 10 </td></tr></table>"
      ],
      "text/plain": [
       "<IPython.core.display.HTML object>"
      ]
     },
     "metadata": {
      "text/html": {
       "username": "ruud"
      }
     },
     "output_type": "display_data"
    }
   ],
   "source": [
    "%%check\n",
    "x, y = 20, 10\n",
    "result == 10\n",
    "x, y = 30, 20\n",
    "result == 20"
   ]
  },
  {
   "cell_type": "markdown",
   "metadata": {},
   "source": [
    "#### Give the smallest value of x, y and z"
   ]
  },
  {
   "cell_type": "code",
   "execution_count": 11,
   "metadata": {
    "execution": {
     "iopub.execute_input": "2022-08-22T15:20:02.693831Z",
     "iopub.status.busy": "2022-08-22T15:20:02.693443Z",
     "iopub.status.idle": "2022-08-22T15:20:02.697771Z",
     "shell.execute_reply": "2022-08-22T15:20:02.696949Z"
    }
   },
   "outputs": [],
   "source": [
    "x = 20\n",
    "y = 10\n",
    "z = 5"
   ]
  },
  {
   "cell_type": "code",
   "execution_count": 12,
   "metadata": {
    "deletable": false,
    "editable": true,
    "execution": {
     "iopub.execute_input": "2022-08-22T15:20:02.700937Z",
     "iopub.status.busy": "2022-08-22T15:20:02.700461Z",
     "iopub.status.idle": "2022-08-22T15:20:02.704920Z",
     "shell.execute_reply": "2022-08-22T15:20:02.703852Z"
    }
   },
   "outputs": [],
   "source": [
    "%%assignment\n",
    "### ENTER YOUR CODE HERE ###"
   ]
  },
  {
   "cell_type": "code",
   "execution_count": 13,
   "metadata": {
    "deletable": false,
    "editable": false,
    "execution": {
     "iopub.execute_input": "2022-08-22T15:20:02.707846Z",
     "iopub.status.busy": "2022-08-22T15:20:02.707477Z",
     "iopub.status.idle": "2022-08-22T15:20:02.713928Z",
     "shell.execute_reply": "2022-08-22T15:20:02.713186Z"
    }
   },
   "outputs": [
    {
     "data": {
      "text/html": [
       "<table><tr style=\"background: red; color: white\"><td style=\"text-align:left\">The result should be 5 for testcase x, y, z = 20, 10, 5 </td></tr></table>"
      ],
      "text/plain": [
       "<IPython.core.display.HTML object>"
      ]
     },
     "metadata": {
      "text/html": {
       "username": "ruud"
      }
     },
     "output_type": "display_data"
    }
   ],
   "source": [
    "%%check\n",
    "forbidden 5\n",
    "x, y, z = 20, 10, 5\n",
    "result == 5\n",
    "x, y, z = 20, 10, 25\n",
    "result == 10\n",
    "x, y, z = 2, 10, 25\n",
    "result == 2"
   ]
  },
  {
   "cell_type": "markdown",
   "metadata": {},
   "source": [
    "#### Give the highest value in weights"
   ]
  },
  {
   "cell_type": "code",
   "execution_count": 14,
   "metadata": {
    "execution": {
     "iopub.execute_input": "2022-08-22T15:20:02.716651Z",
     "iopub.status.busy": "2022-08-22T15:20:02.716290Z",
     "iopub.status.idle": "2022-08-22T15:20:02.720761Z",
     "shell.execute_reply": "2022-08-22T15:20:02.719760Z"
    }
   },
   "outputs": [],
   "source": [
    "weights = [3, 2, 29]"
   ]
  },
  {
   "cell_type": "code",
   "execution_count": 15,
   "metadata": {
    "deletable": false,
    "editable": true,
    "execution": {
     "iopub.execute_input": "2022-08-22T15:20:02.723390Z",
     "iopub.status.busy": "2022-08-22T15:20:02.723126Z",
     "iopub.status.idle": "2022-08-22T15:20:02.726989Z",
     "shell.execute_reply": "2022-08-22T15:20:02.726139Z"
    }
   },
   "outputs": [],
   "source": [
    "%%assignment\n",
    "### ENTER YOUR CODE HERE ###"
   ]
  },
  {
   "cell_type": "code",
   "execution_count": 16,
   "metadata": {
    "deletable": false,
    "editable": false,
    "execution": {
     "iopub.execute_input": "2022-08-22T15:20:02.729641Z",
     "iopub.status.busy": "2022-08-22T15:20:02.729307Z",
     "iopub.status.idle": "2022-08-22T15:20:02.735092Z",
     "shell.execute_reply": "2022-08-22T15:20:02.734373Z"
    }
   },
   "outputs": [
    {
     "data": {
      "text/html": [
       "<table><tr style=\"background: red; color: white\"><td style=\"text-align:left\">The result should be 29 for testcase weights = [3, 2, 29] </td></tr></table>"
      ],
      "text/plain": [
       "<IPython.core.display.HTML object>"
      ]
     },
     "metadata": {
      "text/html": {
       "username": "ruud"
      }
     },
     "output_type": "display_data"
    }
   ],
   "source": [
    "%%check\n",
    "forbidden 29\n",
    "weights = [3, 2, 29]\n",
    "result == 29\n",
    "weights = [3, 2, 1]\n",
    "result == 3"
   ]
  },
  {
   "cell_type": "markdown",
   "metadata": {},
   "source": [
    "#### Give the length of the shortest person, whose sizes are in `length`"
   ]
  },
  {
   "cell_type": "code",
   "execution_count": 17,
   "metadata": {
    "execution": {
     "iopub.execute_input": "2022-08-22T15:20:02.737863Z",
     "iopub.status.busy": "2022-08-22T15:20:02.737536Z",
     "iopub.status.idle": "2022-08-22T15:20:02.741352Z",
     "shell.execute_reply": "2022-08-22T15:20:02.740651Z"
    }
   },
   "outputs": [],
   "source": [
    "length = [1.80, 1.65, 2.02, 1.85]"
   ]
  },
  {
   "cell_type": "code",
   "execution_count": 18,
   "metadata": {
    "deletable": false,
    "editable": true,
    "execution": {
     "iopub.execute_input": "2022-08-22T15:20:02.743886Z",
     "iopub.status.busy": "2022-08-22T15:20:02.743624Z",
     "iopub.status.idle": "2022-08-22T15:20:02.747443Z",
     "shell.execute_reply": "2022-08-22T15:20:02.746593Z"
    }
   },
   "outputs": [],
   "source": [
    "%%assignment\n",
    "### ENTER YOUR CODE HERE ###"
   ]
  },
  {
   "cell_type": "code",
   "execution_count": 19,
   "metadata": {
    "deletable": false,
    "editable": false,
    "execution": {
     "iopub.execute_input": "2022-08-22T15:20:02.750010Z",
     "iopub.status.busy": "2022-08-22T15:20:02.749701Z",
     "iopub.status.idle": "2022-08-22T15:20:02.755239Z",
     "shell.execute_reply": "2022-08-22T15:20:02.754556Z"
    }
   },
   "outputs": [
    {
     "data": {
      "text/html": [
       "<table><tr style=\"background: red; color: white\"><td style=\"text-align:left\">The result should be 1.65 for testcase length = [1.80, 1.65, 2.02, 1.85] </td></tr></table>"
      ],
      "text/plain": [
       "<IPython.core.display.HTML object>"
      ]
     },
     "metadata": {
      "text/html": {
       "username": "ruud"
      }
     },
     "output_type": "display_data"
    }
   ],
   "source": [
    "%%check\n",
    "forbidden 1.65\n",
    "length = [1.80, 1.65, 2.02, 1.85]\n",
    "result == 1.65\n",
    "length = [1.80, 2.02, 1.85]\n",
    "result == 1.80"
   ]
  },
  {
   "cell_type": "markdown",
   "metadata": {},
   "source": [
    "#### Give the difference between the tallest and the shortest person, whose sizes are in `length`\n",
    "Note that the difference is equal to the maximum "
   ]
  },
  {
   "cell_type": "code",
   "execution_count": 20,
   "metadata": {
    "execution": {
     "iopub.execute_input": "2022-08-22T15:20:02.757915Z",
     "iopub.status.busy": "2022-08-22T15:20:02.757655Z",
     "iopub.status.idle": "2022-08-22T15:20:02.761331Z",
     "shell.execute_reply": "2022-08-22T15:20:02.760636Z"
    }
   },
   "outputs": [],
   "source": [
    "length = [1.80, 1.75, 2.00, 1.85]"
   ]
  },
  {
   "cell_type": "code",
   "execution_count": 21,
   "metadata": {
    "deletable": false,
    "editable": true,
    "execution": {
     "iopub.execute_input": "2022-08-22T15:20:02.763857Z",
     "iopub.status.busy": "2022-08-22T15:20:02.763479Z",
     "iopub.status.idle": "2022-08-22T15:20:02.767033Z",
     "shell.execute_reply": "2022-08-22T15:20:02.766344Z"
    }
   },
   "outputs": [],
   "source": [
    "%%assignment\n",
    "### ENTER YOUR CODE HERE ###"
   ]
  },
  {
   "cell_type": "code",
   "execution_count": 22,
   "metadata": {
    "deletable": false,
    "editable": false,
    "execution": {
     "iopub.execute_input": "2022-08-22T15:20:02.769534Z",
     "iopub.status.busy": "2022-08-22T15:20:02.769225Z",
     "iopub.status.idle": "2022-08-22T15:20:02.774542Z",
     "shell.execute_reply": "2022-08-22T15:20:02.773881Z"
    }
   },
   "outputs": [
    {
     "data": {
      "text/html": [
       "<table><tr style=\"background: red; color: white\"><td style=\"text-align:left\">The result should be 0.25 for testcase length = [1.80, 1.75, 2.00, 1.85] </td></tr></table>"
      ],
      "text/plain": [
       "<IPython.core.display.HTML object>"
      ]
     },
     "metadata": {
      "text/html": {
       "username": "ruud"
      }
     },
     "output_type": "display_data"
    }
   ],
   "source": [
    "%%check\n",
    "forbidden 0.25\n",
    "length = [1.80, 1.75, 2.00, 1.85]\n",
    "result == 0.25\n",
    "length = [1.50, 2.00]\n",
    "result == 0.50"
   ]
  }
 ],
 "metadata": {
  "celltoolbar": "Create Assignment",
  "kernelspec": {
   "display_name": "prog",
   "language": "python",
   "name": "prog"
  },
  "language_info": {
   "codemirror_mode": {
    "name": "ipython",
    "version": 3
   },
   "file_extension": ".py",
   "mimetype": "text/x-python",
   "name": "python",
   "nbconvert_exporter": "python",
   "pygments_lexer": "ipython3",
   "version": "3.9.12"
  }
 },
 "nbformat": 4,
 "nbformat_minor": 4
}
