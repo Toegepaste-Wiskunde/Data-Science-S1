{
 "cells": [
  {
   "cell_type": "markdown",
   "metadata": {},
   "source": [
    "# Datatype conversion\n",
    "\n",
    "So we have learned that all primitive values are of a specific data type: string, int, float or boolean. When we work with values, sometimes we want to change their datatype. You can do that in Python using the `str()`, `int()` and `float()` functions, by placing the value in between the brackets. These functions return the value in the corresponding datatype.\n",
    "\n",
    "For completeness, there is also a `bool()` function to convert values to boolean (True/False), although we do not use that very often, the number 0, 0.0 and en empty String will convert to False and any other value to True."
   ]
  },
  {
   "cell_type": "markdown",
   "metadata": {},
   "source": [
    "# Examples"
   ]
  },
  {
   "cell_type": "code",
   "execution_count": 1,
   "metadata": {
    "execution": {
     "iopub.execute_input": "2022-08-22T08:30:02.556486Z",
     "iopub.status.busy": "2022-08-22T08:30:02.555969Z",
     "iopub.status.idle": "2022-08-22T08:30:02.573812Z",
     "shell.execute_reply": "2022-08-22T08:30:02.573134Z"
    }
   },
   "outputs": [
    {
     "data": {
      "text/plain": [
       "'12'"
      ]
     },
     "execution_count": 1,
     "metadata": {},
     "output_type": "execute_result"
    }
   ],
   "source": [
    "'12'"
   ]
  },
  {
   "cell_type": "code",
   "execution_count": 2,
   "metadata": {
    "execution": {
     "iopub.execute_input": "2022-08-22T08:30:02.611197Z",
     "iopub.status.busy": "2022-08-22T08:30:02.610804Z",
     "iopub.status.idle": "2022-08-22T08:30:02.617442Z",
     "shell.execute_reply": "2022-08-22T08:30:02.616567Z"
    }
   },
   "outputs": [
    {
     "data": {
      "text/plain": [
       "12"
      ]
     },
     "execution_count": 2,
     "metadata": {},
     "output_type": "execute_result"
    }
   ],
   "source": [
    "int('12')"
   ]
  },
  {
   "cell_type": "code",
   "execution_count": 3,
   "metadata": {
    "execution": {
     "iopub.execute_input": "2022-08-22T08:30:02.620187Z",
     "iopub.status.busy": "2022-08-22T08:30:02.619769Z",
     "iopub.status.idle": "2022-08-22T08:30:02.625850Z",
     "shell.execute_reply": "2022-08-22T08:30:02.625032Z"
    }
   },
   "outputs": [
    {
     "data": {
      "text/plain": [
       "'7'"
      ]
     },
     "execution_count": 3,
     "metadata": {},
     "output_type": "execute_result"
    }
   ],
   "source": [
    "str(2 + 5)"
   ]
  },
  {
   "cell_type": "code",
   "execution_count": 4,
   "metadata": {
    "execution": {
     "iopub.execute_input": "2022-08-22T08:30:02.628724Z",
     "iopub.status.busy": "2022-08-22T08:30:02.628295Z",
     "iopub.status.idle": "2022-08-22T08:30:02.633887Z",
     "shell.execute_reply": "2022-08-22T08:30:02.633147Z"
    }
   },
   "outputs": [
    {
     "data": {
      "text/plain": [
       "7.0"
      ]
     },
     "execution_count": 4,
     "metadata": {},
     "output_type": "execute_result"
    }
   ],
   "source": [
    "float(2 + 5)"
   ]
  },
  {
   "cell_type": "code",
   "execution_count": 5,
   "metadata": {
    "execution": {
     "iopub.execute_input": "2022-08-22T08:30:02.636454Z",
     "iopub.status.busy": "2022-08-22T08:30:02.636099Z",
     "iopub.status.idle": "2022-08-22T08:30:02.641427Z",
     "shell.execute_reply": "2022-08-22T08:30:02.640767Z"
    }
   },
   "outputs": [
    {
     "data": {
      "text/plain": [
       "True"
      ]
     },
     "execution_count": 5,
     "metadata": {},
     "output_type": "execute_result"
    }
   ],
   "source": [
    "bool(1)"
   ]
  },
  {
   "cell_type": "code",
   "execution_count": 6,
   "metadata": {
    "execution": {
     "iopub.execute_input": "2022-08-22T08:30:02.644074Z",
     "iopub.status.busy": "2022-08-22T08:30:02.643813Z",
     "iopub.status.idle": "2022-08-22T08:30:02.648489Z",
     "shell.execute_reply": "2022-08-22T08:30:02.647820Z"
    }
   },
   "outputs": [
    {
     "data": {
      "text/plain": [
       "False"
      ]
     },
     "execution_count": 6,
     "metadata": {},
     "output_type": "execute_result"
    }
   ],
   "source": [
    "bool(0)"
   ]
  },
  {
   "cell_type": "code",
   "execution_count": 7,
   "metadata": {
    "execution": {
     "iopub.execute_input": "2022-08-22T08:30:02.650837Z",
     "iopub.status.busy": "2022-08-22T08:30:02.650558Z",
     "iopub.status.idle": "2022-08-22T08:30:02.655329Z",
     "shell.execute_reply": "2022-08-22T08:30:02.654639Z"
    }
   },
   "outputs": [
    {
     "data": {
      "text/plain": [
       "True"
      ]
     },
     "execution_count": 7,
     "metadata": {},
     "output_type": "execute_result"
    }
   ],
   "source": [
    "bool('False')"
   ]
  },
  {
   "cell_type": "markdown",
   "metadata": {},
   "source": [
    "### Assignment: convert the following values to the indicated datatype"
   ]
  },
  {
   "cell_type": "code",
   "execution_count": 8,
   "metadata": {
    "deletable": false,
    "editable": true,
    "execution": {
     "iopub.execute_input": "2022-08-22T08:30:02.657608Z",
     "iopub.status.busy": "2022-08-22T08:30:02.657338Z",
     "iopub.status.idle": "2022-08-22T08:30:02.662539Z",
     "shell.execute_reply": "2022-08-22T08:30:02.661885Z"
    }
   },
   "outputs": [
    {
     "data": {
      "text/plain": [
       "23"
      ]
     },
     "execution_count": 8,
     "metadata": {},
     "output_type": "execute_result"
    }
   ],
   "source": [
    "%%assignment\n",
    "23 # convert to string\n",
    "### ENTER YOUR CODE HERE"
   ]
  },
  {
   "cell_type": "code",
   "execution_count": 9,
   "metadata": {
    "deletable": false,
    "editable": false,
    "execution": {
     "iopub.execute_input": "2022-08-22T08:30:02.664710Z",
     "iopub.status.busy": "2022-08-22T08:30:02.664465Z",
     "iopub.status.idle": "2022-08-22T08:30:02.669304Z",
     "shell.execute_reply": "2022-08-22T08:30:02.668650Z"
    }
   },
   "outputs": [
    {
     "data": {
      "text/html": [
       "<table><tr style=\"background: red; color: white\"><td style=\"text-align:left\">The result must be of type  str </td></tr></table>"
      ],
      "text/plain": [
       "<IPython.core.display.HTML object>"
      ]
     },
     "metadata": {
      "text/html": {
       "username": "ruud"
      }
     },
     "output_type": "display_data"
    }
   ],
   "source": [
    "%%check\n",
    "str\n",
    "result == '23'\n",
    "forbidden \\' \""
   ]
  },
  {
   "cell_type": "code",
   "execution_count": 10,
   "metadata": {
    "deletable": false,
    "editable": true,
    "execution": {
     "iopub.execute_input": "2022-08-22T08:30:02.671521Z",
     "iopub.status.busy": "2022-08-22T08:30:02.671235Z",
     "iopub.status.idle": "2022-08-22T08:30:02.676100Z",
     "shell.execute_reply": "2022-08-22T08:30:02.675460Z"
    }
   },
   "outputs": [
    {
     "data": {
      "text/plain": [
       "12.5"
      ]
     },
     "execution_count": 10,
     "metadata": {},
     "output_type": "execute_result"
    }
   ],
   "source": [
    "%%assignment\n",
    "12.5 # convert to int\n",
    "### ENTER YOUR CODE HERE"
   ]
  },
  {
   "cell_type": "code",
   "execution_count": 11,
   "metadata": {
    "deletable": false,
    "editable": false,
    "execution": {
     "iopub.execute_input": "2022-08-22T08:30:02.678319Z",
     "iopub.status.busy": "2022-08-22T08:30:02.678077Z",
     "iopub.status.idle": "2022-08-22T08:30:02.682849Z",
     "shell.execute_reply": "2022-08-22T08:30:02.682199Z"
    }
   },
   "outputs": [
    {
     "data": {
      "text/html": [
       "<table><tr style=\"background: red; color: white\"><td style=\"text-align:left\">The result must be of type  int </td></tr></table>"
      ],
      "text/plain": [
       "<IPython.core.display.HTML object>"
      ]
     },
     "metadata": {
      "text/html": {
       "username": "ruud"
      }
     },
     "output_type": "display_data"
    }
   ],
   "source": [
    "%%check\n",
    "int\n",
    "result == 12\n",
    "mandatory int ( ) 12.5"
   ]
  },
  {
   "cell_type": "code",
   "execution_count": 12,
   "metadata": {
    "deletable": false,
    "editable": true,
    "execution": {
     "iopub.execute_input": "2022-08-22T08:30:02.685012Z",
     "iopub.status.busy": "2022-08-22T08:30:02.684733Z",
     "iopub.status.idle": "2022-08-22T08:30:02.689433Z",
     "shell.execute_reply": "2022-08-22T08:30:02.688799Z"
    }
   },
   "outputs": [
    {
     "data": {
      "text/plain": [
       "'3.1415'"
      ]
     },
     "execution_count": 12,
     "metadata": {},
     "output_type": "execute_result"
    }
   ],
   "source": [
    "%%assignment\n",
    "'3.1415' # convert to float\n",
    "### ENTER YOUR CODE HERE"
   ]
  },
  {
   "cell_type": "code",
   "execution_count": 13,
   "metadata": {
    "deletable": false,
    "editable": false,
    "execution": {
     "iopub.execute_input": "2022-08-22T08:30:02.707933Z",
     "iopub.status.busy": "2022-08-22T08:30:02.707612Z",
     "iopub.status.idle": "2022-08-22T08:30:02.713425Z",
     "shell.execute_reply": "2022-08-22T08:30:02.712471Z"
    }
   },
   "outputs": [
    {
     "data": {
      "text/html": [
       "<table><tr style=\"background: red; color: white\"><td style=\"text-align:left\">The result should be 3.1415</td></tr></table>"
      ],
      "text/plain": [
       "<IPython.core.display.HTML object>"
      ]
     },
     "metadata": {
      "text/html": {
       "username": "ruud"
      }
     },
     "output_type": "display_data"
    }
   ],
   "source": [
    "%%check\n",
    "result == 3.1415\n",
    "mandatory float (\\' ) 3.1415"
   ]
  },
  {
   "cell_type": "code",
   "execution_count": 14,
   "metadata": {
    "deletable": false,
    "editable": true,
    "execution": {
     "iopub.execute_input": "2022-08-22T08:30:02.716931Z",
     "iopub.status.busy": "2022-08-22T08:30:02.716548Z",
     "iopub.status.idle": "2022-08-22T08:30:02.722768Z",
     "shell.execute_reply": "2022-08-22T08:30:02.721816Z"
    }
   },
   "outputs": [
    {
     "data": {
      "text/plain": [
       "10"
      ]
     },
     "execution_count": 14,
     "metadata": {},
     "output_type": "execute_result"
    }
   ],
   "source": [
    "%%assignment\n",
    "3 + 7 # convert to float\n",
    "### ENTER YOUR CODE HERE"
   ]
  },
  {
   "cell_type": "code",
   "execution_count": 15,
   "metadata": {
    "deletable": false,
    "editable": false,
    "execution": {
     "iopub.execute_input": "2022-08-22T08:30:02.726029Z",
     "iopub.status.busy": "2022-08-22T08:30:02.725711Z",
     "iopub.status.idle": "2022-08-22T08:30:02.731696Z",
     "shell.execute_reply": "2022-08-22T08:30:02.730951Z"
    }
   },
   "outputs": [
    {
     "data": {
      "text/html": [
       "<table><tr style=\"background: green; color: white\"><td style=\"text-align:left\">Correct!</td></tr></table>"
      ],
      "text/plain": [
       "<IPython.core.display.HTML object>"
      ]
     },
     "metadata": {
      "text/html": {
       "username": "ruud"
      }
     },
     "output_type": "display_data"
    }
   ],
   "source": [
    "%%check\n",
    "result == 10.0\n",
    "forbidden ."
   ]
  }
 ],
 "metadata": {
  "celltoolbar": "Create Assignment",
  "kernelspec": {
   "display_name": "prog",
   "language": "python",
   "name": "prog"
  },
  "language_info": {
   "codemirror_mode": {
    "name": "ipython",
    "version": 3
   },
   "file_extension": ".py",
   "mimetype": "text/x-python",
   "name": "python",
   "nbconvert_exporter": "python",
   "pygments_lexer": "ipython3",
   "version": "3.9.12"
  }
 },
 "nbformat": 4,
 "nbformat_minor": 4
}
