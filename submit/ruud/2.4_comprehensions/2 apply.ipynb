{
 "cells": [
  {
   "cell_type": "markdown",
   "metadata": {},
   "source": [
    "# Apply a function to List elements\n",
    "\n",
    "You can always replace a List Comprehension with a for-loop, however, List Comprehensions are often more readable, concise and faster to execute. Comprehensions are useful for many purposes. In the previous notebooks we have seen that we can use any expression to modify the values. Since we can use functions in expressions, we can also use List Comprehensions to apply a function to every element. \n",
    "\n",
    "`a = [ 9, 16, 36 ]`\n",
    "\n",
    "| example | result | comment |\n",
    "|:--------|:-------|:--------|\n",
    "| `[ math.sqrt(i) for i in a ]` | `[3.0, 4.0, 6.0]` | take the square root of all elements in a |"
   ]
  },
  {
   "cell_type": "markdown",
   "metadata": {},
   "source": [
    "# Assignments"
   ]
  },
  {
   "cell_type": "markdown",
   "metadata": {},
   "source": [
    "#### Use a List Comprehension to compute the squared elements of a vector `a`."
   ]
  },
  {
   "cell_type": "code",
   "execution_count": 1,
   "metadata": {
    "execution": {
     "iopub.execute_input": "2022-08-22T08:05:02.542808Z",
     "iopub.status.busy": "2022-08-22T08:05:02.541798Z",
     "iopub.status.idle": "2022-08-22T08:05:02.556058Z",
     "shell.execute_reply": "2022-08-22T08:05:02.554600Z"
    }
   },
   "outputs": [],
   "source": [
    "a = [3, 4]"
   ]
  },
  {
   "cell_type": "code",
   "execution_count": 2,
   "metadata": {
    "deletable": false,
    "editable": true,
    "execution": {
     "iopub.execute_input": "2022-08-22T08:05:02.560269Z",
     "iopub.status.busy": "2022-08-22T08:05:02.559944Z",
     "iopub.status.idle": "2022-08-22T08:05:02.564715Z",
     "shell.execute_reply": "2022-08-22T08:05:02.563839Z"
    }
   },
   "outputs": [],
   "source": [
    "%%assignment\n",
    "### ENTER YOUR CODE HERE"
   ]
  },
  {
   "cell_type": "code",
   "execution_count": 3,
   "metadata": {
    "deletable": false,
    "editable": false,
    "execution": {
     "iopub.execute_input": "2022-08-22T08:05:02.568847Z",
     "iopub.status.busy": "2022-08-22T08:05:02.568561Z",
     "iopub.status.idle": "2022-08-22T08:05:02.577980Z",
     "shell.execute_reply": "2022-08-22T08:05:02.577293Z"
    }
   },
   "outputs": [
    {
     "data": {
      "text/html": [
       "<table><tr style=\"background: red; color: white\"><td style=\"text-align:left\">The result should be [9, 16] for testcase a = [3, 4] </td></tr></table>"
      ],
      "text/plain": [
       "<IPython.core.display.HTML object>"
      ]
     },
     "metadata": {
      "text/html": {
       "username": "ruud"
      }
     },
     "output_type": "display_data"
    }
   ],
   "source": [
    "%%check\n",
    "a = [3, 4]\n",
    "result == [9, 16]\n",
    "a = [5, 12]\n",
    "result == [25, 144]"
   ]
  },
  {
   "cell_type": "markdown",
   "metadata": {},
   "source": [
    "#### Use a List Comprehension to compute the SUM of the squared elements of a vector `a`."
   ]
  },
  {
   "cell_type": "code",
   "execution_count": 4,
   "metadata": {
    "execution": {
     "iopub.execute_input": "2022-08-22T08:05:02.608933Z",
     "iopub.status.busy": "2022-08-22T08:05:02.608507Z",
     "iopub.status.idle": "2022-08-22T08:05:02.613405Z",
     "shell.execute_reply": "2022-08-22T08:05:02.612364Z"
    }
   },
   "outputs": [],
   "source": [
    "a = [3, 4]"
   ]
  },
  {
   "cell_type": "code",
   "execution_count": 5,
   "metadata": {
    "deletable": false,
    "editable": true,
    "execution": {
     "iopub.execute_input": "2022-08-22T08:05:02.616933Z",
     "iopub.status.busy": "2022-08-22T08:05:02.616041Z",
     "iopub.status.idle": "2022-08-22T08:05:02.621814Z",
     "shell.execute_reply": "2022-08-22T08:05:02.620643Z"
    }
   },
   "outputs": [],
   "source": [
    "%%assignment\n",
    "### ENTER YOUR CODE HERE"
   ]
  },
  {
   "cell_type": "code",
   "execution_count": 6,
   "metadata": {
    "deletable": false,
    "editable": false,
    "execution": {
     "iopub.execute_input": "2022-08-22T08:05:02.625238Z",
     "iopub.status.busy": "2022-08-22T08:05:02.624477Z",
     "iopub.status.idle": "2022-08-22T08:05:02.631517Z",
     "shell.execute_reply": "2022-08-22T08:05:02.630490Z"
    }
   },
   "outputs": [
    {
     "data": {
      "text/html": [
       "<table><tr style=\"background: red; color: white\"><td style=\"text-align:left\">The result should be 25 for testcase a = [3, 4] </td></tr></table>"
      ],
      "text/plain": [
       "<IPython.core.display.HTML object>"
      ]
     },
     "metadata": {
      "text/html": {
       "username": "ruud"
      }
     },
     "output_type": "display_data"
    }
   ],
   "source": [
    "%%check\n",
    "a = [3, 4]\n",
    "result == 25\n",
    "a = [5, 12]\n",
    "result == 169"
   ]
  },
  {
   "cell_type": "markdown",
   "metadata": {},
   "source": [
    "#### Use a List Comprehension to compute the Euclidian distance for a vector `a` from the origin (0,0) using $\\sqrt{x^2 + y^2}$"
   ]
  },
  {
   "cell_type": "code",
   "execution_count": 7,
   "metadata": {
    "execution": {
     "iopub.execute_input": "2022-08-22T08:05:02.634459Z",
     "iopub.status.busy": "2022-08-22T08:05:02.634141Z",
     "iopub.status.idle": "2022-08-22T08:05:02.638419Z",
     "shell.execute_reply": "2022-08-22T08:05:02.637652Z"
    }
   },
   "outputs": [],
   "source": [
    "a = [3, 4]"
   ]
  },
  {
   "cell_type": "code",
   "execution_count": 8,
   "metadata": {
    "deletable": false,
    "editable": true,
    "execution": {
     "iopub.execute_input": "2022-08-22T08:05:02.641183Z",
     "iopub.status.busy": "2022-08-22T08:05:02.640867Z",
     "iopub.status.idle": "2022-08-22T08:05:02.645318Z",
     "shell.execute_reply": "2022-08-22T08:05:02.644342Z"
    }
   },
   "outputs": [],
   "source": [
    "%%assignment\n",
    "### ENTER YOUR CODE HERE"
   ]
  },
  {
   "cell_type": "code",
   "execution_count": 9,
   "metadata": {
    "deletable": false,
    "editable": false,
    "execution": {
     "iopub.execute_input": "2022-08-22T08:05:02.648215Z",
     "iopub.status.busy": "2022-08-22T08:05:02.647873Z",
     "iopub.status.idle": "2022-08-22T08:05:02.653672Z",
     "shell.execute_reply": "2022-08-22T08:05:02.652921Z"
    }
   },
   "outputs": [
    {
     "data": {
      "text/html": [
       "<table><tr style=\"background: red; color: white\"><td style=\"text-align:left\">The result should be 5.0 for testcase a = [3, 4] </td></tr></table>"
      ],
      "text/plain": [
       "<IPython.core.display.HTML object>"
      ]
     },
     "metadata": {
      "text/html": {
       "username": "ruud"
      }
     },
     "output_type": "display_data"
    }
   ],
   "source": [
    "%%check\n",
    "a = [3, 4]\n",
    "result == 5.0\n",
    "a = [5, 12]\n",
    "result == 13.0"
   ]
  },
  {
   "cell_type": "markdown",
   "metadata": {},
   "source": [
    "#### Convert the temperatures in `fahrentheit` to tempertures in a list `celsius` using a List Comprehension and the function fahrenheit_to_celsius. "
   ]
  },
  {
   "cell_type": "code",
   "execution_count": 10,
   "metadata": {
    "execution": {
     "iopub.execute_input": "2022-08-22T08:05:02.656475Z",
     "iopub.status.busy": "2022-08-22T08:05:02.656169Z",
     "iopub.status.idle": "2022-08-22T08:05:02.660116Z",
     "shell.execute_reply": "2022-08-22T08:05:02.659349Z"
    }
   },
   "outputs": [],
   "source": [
    "fahrenheit = [32, 100]"
   ]
  },
  {
   "cell_type": "code",
   "execution_count": 11,
   "metadata": {
    "execution": {
     "iopub.execute_input": "2022-08-22T08:05:02.662679Z",
     "iopub.status.busy": "2022-08-22T08:05:02.662376Z",
     "iopub.status.idle": "2022-08-22T08:05:02.666407Z",
     "shell.execute_reply": "2022-08-22T08:05:02.665655Z"
    }
   },
   "outputs": [],
   "source": [
    "def fahrenheit_to_celsius(fahrenheit):\n",
    "    return (fahrenheit - 32) * 5 / 9"
   ]
  },
  {
   "cell_type": "code",
   "execution_count": 12,
   "metadata": {
    "deletable": false,
    "editable": true,
    "execution": {
     "iopub.execute_input": "2022-08-22T08:05:02.668947Z",
     "iopub.status.busy": "2022-08-22T08:05:02.668641Z",
     "iopub.status.idle": "2022-08-22T08:05:02.672796Z",
     "shell.execute_reply": "2022-08-22T08:05:02.671931Z"
    }
   },
   "outputs": [],
   "source": [
    "%%assignment\n",
    "### ENTER YOUR CODE HERE"
   ]
  },
  {
   "cell_type": "code",
   "execution_count": 13,
   "metadata": {
    "deletable": false,
    "editable": false,
    "execution": {
     "iopub.execute_input": "2022-08-22T08:05:02.675392Z",
     "iopub.status.busy": "2022-08-22T08:05:02.675108Z",
     "iopub.status.idle": "2022-08-22T08:05:03.049616Z",
     "shell.execute_reply": "2022-08-22T08:05:03.048930Z"
    }
   },
   "outputs": [
    {
     "ename": "NameError",
     "evalue": "name 'celsius' is not defined",
     "output_type": "error",
     "traceback": [
      "\u001b[0;31m---------------------------------------------------------------------------\u001b[0m",
      "\u001b[0;31mNameError\u001b[0m                                 Traceback (most recent call last)",
      "Input \u001b[0;32mIn [13]\u001b[0m, in \u001b[0;36m<cell line: 1>\u001b[0;34m()\u001b[0m\n\u001b[0;32m----> 1\u001b[0m \u001b[43mget_ipython\u001b[49m\u001b[43m(\u001b[49m\u001b[43m)\u001b[49m\u001b[38;5;241;43m.\u001b[39;49m\u001b[43mrun_cell_magic\u001b[49m\u001b[43m(\u001b[49m\u001b[38;5;124;43m'\u001b[39;49m\u001b[38;5;124;43mcheck\u001b[39;49m\u001b[38;5;124;43m'\u001b[39;49m\u001b[43m,\u001b[49m\u001b[43m \u001b[49m\u001b[38;5;124;43m'\u001b[39;49m\u001b[38;5;124;43m'\u001b[39;49m\u001b[43m,\u001b[49m\u001b[43m \u001b[49m\u001b[38;5;124;43m'\u001b[39;49m\u001b[38;5;124;43mfahrenheit = [32, 100]\u001b[39;49m\u001b[38;5;130;43;01m\\n\u001b[39;49;00m\u001b[38;5;124;43mcelsius == [0.0, 37.77777777777778]\u001b[39;49m\u001b[38;5;130;43;01m\\n\u001b[39;49;00m\u001b[38;5;124;43mfahrenheit = [50,68]\u001b[39;49m\u001b[38;5;130;43;01m\\n\u001b[39;49;00m\u001b[38;5;124;43mcelsius == [10.0, 20.0]\u001b[39;49m\u001b[38;5;130;43;01m\\n\u001b[39;49;00m\u001b[38;5;124;43m'\u001b[39;49m\u001b[43m)\u001b[49m\n",
      "File \u001b[0;32m/opt/jupyterhub/anaconda/lib/python3.9/site-packages/IPython/core/interactiveshell.py:2358\u001b[0m, in \u001b[0;36mInteractiveShell.run_cell_magic\u001b[0;34m(self, magic_name, line, cell)\u001b[0m\n\u001b[1;32m   2356\u001b[0m \u001b[38;5;28;01mwith\u001b[39;00m \u001b[38;5;28mself\u001b[39m\u001b[38;5;241m.\u001b[39mbuiltin_trap:\n\u001b[1;32m   2357\u001b[0m     args \u001b[38;5;241m=\u001b[39m (magic_arg_s, cell)\n\u001b[0;32m-> 2358\u001b[0m     result \u001b[38;5;241m=\u001b[39m \u001b[43mfn\u001b[49m\u001b[43m(\u001b[49m\u001b[38;5;241;43m*\u001b[39;49m\u001b[43margs\u001b[49m\u001b[43m,\u001b[49m\u001b[43m \u001b[49m\u001b[38;5;241;43m*\u001b[39;49m\u001b[38;5;241;43m*\u001b[39;49m\u001b[43mkwargs\u001b[49m\u001b[43m)\u001b[49m\n\u001b[1;32m   2359\u001b[0m \u001b[38;5;28;01mreturn\u001b[39;00m result\n",
      "File \u001b[0;32m<string>:199\u001b[0m, in \u001b[0;36mcheck\u001b[0;34m(self, nr, checks)\u001b[0m\n",
      "File \u001b[0;32m<string>:231\u001b[0m, in \u001b[0;36mcheck2\u001b[0;34m(self)\u001b[0m\n",
      "File \u001b[0;32m<string>:150\u001b[0m, in \u001b[0;36meval\u001b[0;34m(self, script, prelude)\u001b[0m\n",
      "File \u001b[0;32m/opt/jupyterhub/anaconda/lib/python3.9/site-packages/IPython/core/interactiveshell.py:2684\u001b[0m, in \u001b[0;36mInteractiveShell.ex\u001b[0;34m(self, cmd)\u001b[0m\n\u001b[1;32m   2682\u001b[0m \u001b[38;5;124;03m\"\"\"Execute a normal python statement in user namespace.\"\"\"\u001b[39;00m\n\u001b[1;32m   2683\u001b[0m \u001b[38;5;28;01mwith\u001b[39;00m \u001b[38;5;28mself\u001b[39m\u001b[38;5;241m.\u001b[39mbuiltin_trap:\n\u001b[0;32m-> 2684\u001b[0m     \u001b[43mexec\u001b[49m\u001b[43m(\u001b[49m\u001b[43mcmd\u001b[49m\u001b[43m,\u001b[49m\u001b[43m \u001b[49m\u001b[38;5;28;43mself\u001b[39;49m\u001b[38;5;241;43m.\u001b[39;49m\u001b[43muser_global_ns\u001b[49m\u001b[43m,\u001b[49m\u001b[43m \u001b[49m\u001b[38;5;28;43mself\u001b[39;49m\u001b[38;5;241;43m.\u001b[39;49m\u001b[43muser_ns\u001b[49m\u001b[43m)\u001b[49m\n",
      "File \u001b[0;32m<string>:1\u001b[0m, in \u001b[0;36m<module>\u001b[0;34m\u001b[0m\n",
      "\u001b[0;31mNameError\u001b[0m: name 'celsius' is not defined"
     ]
    }
   ],
   "source": [
    "%%check\n",
    "fahrenheit = [32, 100]\n",
    "celsius == [0.0, 37.77777777777778]\n",
    "fahrenheit = [50,68]\n",
    "celsius == [10.0, 20.0]"
   ]
  },
  {
   "cell_type": "markdown",
   "metadata": {},
   "source": [
    "#### Convert the temperatures in `celsius` to tempertures in a list `fahrenheit` using a List Comprehension and a function that you will write yourself to convert celsius to fahrenheit."
   ]
  },
  {
   "cell_type": "code",
   "execution_count": 14,
   "metadata": {
    "execution": {
     "iopub.execute_input": "2022-08-22T08:05:03.068533Z",
     "iopub.status.busy": "2022-08-22T08:05:03.068124Z",
     "iopub.status.idle": "2022-08-22T08:05:03.072795Z",
     "shell.execute_reply": "2022-08-22T08:05:03.071853Z"
    }
   },
   "outputs": [],
   "source": [
    "celsius = [0, 10]"
   ]
  },
  {
   "cell_type": "code",
   "execution_count": 15,
   "metadata": {
    "deletable": false,
    "editable": true,
    "execution": {
     "iopub.execute_input": "2022-08-22T08:05:03.078054Z",
     "iopub.status.busy": "2022-08-22T08:05:03.077249Z",
     "iopub.status.idle": "2022-08-22T08:05:03.082744Z",
     "shell.execute_reply": "2022-08-22T08:05:03.081541Z"
    }
   },
   "outputs": [],
   "source": [
    "%%assignment\n",
    "### ENTER YOUR CODE HERE"
   ]
  },
  {
   "cell_type": "code",
   "execution_count": 16,
   "metadata": {
    "deletable": false,
    "editable": false,
    "execution": {
     "iopub.execute_input": "2022-08-22T08:05:03.086715Z",
     "iopub.status.busy": "2022-08-22T08:05:03.086286Z",
     "iopub.status.idle": "2022-08-22T08:05:03.093655Z",
     "shell.execute_reply": "2022-08-22T08:05:03.092646Z"
    }
   },
   "outputs": [
    {
     "data": {
      "text/html": [
       "<table><tr style=\"background: red; color: white\"><td style=\"text-align:left\">The result for fahrenheit should be [32.0, 50.0] for testcase celsius = [0, 10] </td></tr></table>"
      ],
      "text/plain": [
       "<IPython.core.display.HTML object>"
      ]
     },
     "metadata": {
      "text/html": {
       "username": "ruud"
      }
     },
     "output_type": "display_data"
    }
   ],
   "source": [
    "%%check\n",
    "celsius = [0, 10]\n",
    "fahrenheit == [32.0, 50.0]\n",
    "celsius = [10, 20]\n",
    "fahrenheit == [50, 68]"
   ]
  }
 ],
 "metadata": {
  "celltoolbar": "Create Assignment",
  "kernelspec": {
   "display_name": "prog",
   "language": "python",
   "name": "prog"
  },
  "language_info": {
   "codemirror_mode": {
    "name": "ipython",
    "version": 3
   },
   "file_extension": ".py",
   "mimetype": "text/x-python",
   "name": "python",
   "nbconvert_exporter": "python",
   "pygments_lexer": "ipython3",
   "version": "3.9.12"
  }
 },
 "nbformat": 4,
 "nbformat_minor": 4
}
