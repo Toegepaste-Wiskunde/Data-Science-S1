{
 "cells": [
  {
   "cell_type": "markdown",
   "metadata": {},
   "source": [
    "# List Comprehension\n",
    "\n",
    "A Comprehension is a concise and readable way to describe a collection of elements. It uses for-in loop, conditions and expressions. A List Comprehension is written in between `[]`, has at least one for-in loop and an expression, e.g.\n",
    "\n",
    "```\n",
    "a = [2, 3, 5, 7]\n",
    "```\n",
    "\n",
    "| Example      | result | Comment |\n",
    "|:-------------|:-------|:--------|\n",
    "| `[ i**2 for i in a ]` | `[ 4, 9, 25, 49 ]` | squares all the elements in a |\n",
    "| `[ i for i in a if i > 4 ]` | `[5, 7]` | uses only elements that meet the condition `> 4` |\n",
    "| `[ 1/i for i in a if i %% 2 == 1 ]` | `[1/3, 1/5, 1/7]` | uses only odd elements, and returns a List with 1/i for those elements |\n",
    "\n",
    "A comprehension consists of:\n",
    "\n",
    "| begin | expression | loop | condition | end |\n",
    "|:--:|:--:|:--:|:--:|:--:|\n",
    "| `[` | `1/i` | `for i in a` | `if i % 2 == 1` | `]` |\n",
    "| square<br>opening<br>bracket | an expression<br>that is used<br>to calculate<br>each element<br>of the new list | a `for` loop<br>that iterates<br>over a list | a condition<br>that determines<br>whether the element<br>is included<br>(can be omitted) | square<br>closing<br>bracket |\n"
   ]
  },
  {
   "cell_type": "markdown",
   "metadata": {},
   "source": [
    "# Assignments"
   ]
  },
  {
   "cell_type": "markdown",
   "metadata": {},
   "source": [
    "#### Create a comprehension to list only the salaries above 120"
   ]
  },
  {
   "cell_type": "code",
   "execution_count": 1,
   "metadata": {
    "execution": {
     "iopub.execute_input": "2022-08-22T08:10:02.587508Z",
     "iopub.status.busy": "2022-08-22T08:10:02.586884Z",
     "iopub.status.idle": "2022-08-22T08:10:02.600901Z",
     "shell.execute_reply": "2022-08-22T08:10:02.599906Z"
    }
   },
   "outputs": [],
   "source": [
    "salaries = [100, 200, 150]"
   ]
  },
  {
   "cell_type": "code",
   "execution_count": 2,
   "metadata": {
    "deletable": false,
    "editable": true,
    "execution": {
     "iopub.execute_input": "2022-08-22T08:10:02.605657Z",
     "iopub.status.busy": "2022-08-22T08:10:02.605320Z",
     "iopub.status.idle": "2022-08-22T08:10:02.610331Z",
     "shell.execute_reply": "2022-08-22T08:10:02.609310Z"
    }
   },
   "outputs": [],
   "source": [
    "%%assignment\n",
    "### ENTER YOUR CODE HERE"
   ]
  },
  {
   "cell_type": "code",
   "execution_count": 3,
   "metadata": {
    "deletable": false,
    "editable": false,
    "execution": {
     "iopub.execute_input": "2022-08-22T08:10:02.614531Z",
     "iopub.status.busy": "2022-08-22T08:10:02.613904Z",
     "iopub.status.idle": "2022-08-22T08:10:02.628057Z",
     "shell.execute_reply": "2022-08-22T08:10:02.627248Z"
    }
   },
   "outputs": [
    {
     "data": {
      "text/html": [
       "<table><tr style=\"background: red; color: white\"><td style=\"text-align:left\">The result should be [200, 150] for testcase salaries = [100, 200, 150] </td></tr></table>"
      ],
      "text/plain": [
       "<IPython.core.display.HTML object>"
      ]
     },
     "metadata": {
      "text/html": {
       "username": "ruud"
      }
     },
     "output_type": "display_data"
    }
   ],
   "source": [
    "%%check\n",
    "salaries = [100, 200, 150]\n",
    "result == [200, 150]\n",
    "salaries = [121, 120, 100, 150]\n",
    "result == [121, 150]"
   ]
  },
  {
   "cell_type": "markdown",
   "metadata": {},
   "source": [
    "#### Create a comprehension to list only the names of length 4. \n",
    "\n",
    "You can get the length of a Text with the len() function, e.g. len('Jack')"
   ]
  },
  {
   "cell_type": "code",
   "execution_count": 4,
   "metadata": {
    "execution": {
     "iopub.execute_input": "2022-08-22T08:10:02.662064Z",
     "iopub.status.busy": "2022-08-22T08:10:02.661672Z",
     "iopub.status.idle": "2022-08-22T08:10:02.666411Z",
     "shell.execute_reply": "2022-08-22T08:10:02.665564Z"
    }
   },
   "outputs": [],
   "source": [
    "names = ['Allesandro', 'John', 'Jack', 'Eugene']"
   ]
  },
  {
   "cell_type": "code",
   "execution_count": 5,
   "metadata": {
    "deletable": false,
    "editable": true,
    "execution": {
     "iopub.execute_input": "2022-08-22T08:10:02.669437Z",
     "iopub.status.busy": "2022-08-22T08:10:02.668870Z",
     "iopub.status.idle": "2022-08-22T08:10:02.674073Z",
     "shell.execute_reply": "2022-08-22T08:10:02.673150Z"
    }
   },
   "outputs": [],
   "source": [
    "%%assignment\n",
    "### ENTER YOUR CODE HERE"
   ]
  },
  {
   "cell_type": "code",
   "execution_count": 6,
   "metadata": {
    "deletable": false,
    "editable": false,
    "execution": {
     "iopub.execute_input": "2022-08-22T08:10:02.677073Z",
     "iopub.status.busy": "2022-08-22T08:10:02.676534Z",
     "iopub.status.idle": "2022-08-22T08:10:02.683248Z",
     "shell.execute_reply": "2022-08-22T08:10:02.682491Z"
    }
   },
   "outputs": [
    {
     "data": {
      "text/html": [
       "<table><tr style=\"background: red; color: white\"><td style=\"text-align:left\">The result should be ['John', 'Jack'] for testcase names = ['Allesandro', 'John', 'Jack', 'Eugene'] </td></tr></table>"
      ],
      "text/plain": [
       "<IPython.core.display.HTML object>"
      ]
     },
     "metadata": {
      "text/html": {
       "username": "ruud"
      }
     },
     "output_type": "display_data"
    }
   ],
   "source": [
    "%%check\n",
    "names = ['Allesandro', 'John', 'Jack', 'Eugene']\n",
    "result == ['John', 'Jack']\n",
    "names = ['Mary', 'Peter', 'Zack']\n",
    "result == ['Mary', 'Zack']"
   ]
  },
  {
   "cell_type": "markdown",
   "metadata": {},
   "source": [
    "#### Create a comprehension to list length of the each name in `names`. \n",
    "\n",
    "You can get the length of a Text with the len() function, e.g. len('Jack')"
   ]
  },
  {
   "cell_type": "code",
   "execution_count": 7,
   "metadata": {
    "execution": {
     "iopub.execute_input": "2022-08-22T08:10:02.686263Z",
     "iopub.status.busy": "2022-08-22T08:10:02.685911Z",
     "iopub.status.idle": "2022-08-22T08:10:02.690301Z",
     "shell.execute_reply": "2022-08-22T08:10:02.689400Z"
    }
   },
   "outputs": [],
   "source": [
    "names = ['Allesandro', 'John', 'Jack', 'Eugene']"
   ]
  },
  {
   "cell_type": "code",
   "execution_count": 8,
   "metadata": {
    "deletable": false,
    "editable": true,
    "execution": {
     "iopub.execute_input": "2022-08-22T08:10:02.694495Z",
     "iopub.status.busy": "2022-08-22T08:10:02.694181Z",
     "iopub.status.idle": "2022-08-22T08:10:02.698440Z",
     "shell.execute_reply": "2022-08-22T08:10:02.697692Z"
    }
   },
   "outputs": [],
   "source": [
    "%%assignment\n",
    "### ENTER YOUR CODE HERE"
   ]
  },
  {
   "cell_type": "code",
   "execution_count": 9,
   "metadata": {
    "deletable": false,
    "editable": false,
    "execution": {
     "iopub.execute_input": "2022-08-22T08:10:02.701728Z",
     "iopub.status.busy": "2022-08-22T08:10:02.701388Z",
     "iopub.status.idle": "2022-08-22T08:10:02.708248Z",
     "shell.execute_reply": "2022-08-22T08:10:02.707298Z"
    }
   },
   "outputs": [
    {
     "data": {
      "text/html": [
       "<table><tr style=\"background: red; color: white\"><td style=\"text-align:left\">The result should be [10, 4, 4, 6] for testcase names = ['Allesandro', 'John', 'Jack', 'Eugene'] </td></tr></table>"
      ],
      "text/plain": [
       "<IPython.core.display.HTML object>"
      ]
     },
     "metadata": {
      "text/html": {
       "username": "ruud"
      }
     },
     "output_type": "display_data"
    }
   ],
   "source": [
    "%%check\n",
    "names = ['Allesandro', 'John', 'Jack', 'Eugene']\n",
    "result == [10, 4, 4, 6]\n",
    "names = ['Mary', 'Peter', 'Zack']\n",
    "result == [4, 5, 4]"
   ]
  },
  {
   "cell_type": "markdown",
   "metadata": {},
   "source": [
    "#### A person has a `hand` of 5 cards. Create a comprehension with only the cards of the hearts suit. \n",
    "\n",
    "You can get the suit of a card by indexing the last character, e.g. '10♥'[-1], if that last character equals '♥', it is a card in the heart suit."
   ]
  },
  {
   "cell_type": "code",
   "execution_count": 10,
   "metadata": {
    "execution": {
     "iopub.execute_input": "2022-08-22T08:10:02.733446Z",
     "iopub.status.busy": "2022-08-22T08:10:02.732899Z",
     "iopub.status.idle": "2022-08-22T08:10:02.739088Z",
     "shell.execute_reply": "2022-08-22T08:10:02.737699Z"
    }
   },
   "outputs": [],
   "source": [
    "hand = ['10♥', '5♣', '9♣', '10♦', 'Q♥']"
   ]
  },
  {
   "cell_type": "code",
   "execution_count": 11,
   "metadata": {
    "deletable": false,
    "editable": true,
    "execution": {
     "iopub.execute_input": "2022-08-22T08:10:02.744414Z",
     "iopub.status.busy": "2022-08-22T08:10:02.743868Z",
     "iopub.status.idle": "2022-08-22T08:10:02.749782Z",
     "shell.execute_reply": "2022-08-22T08:10:02.748767Z"
    }
   },
   "outputs": [],
   "source": [
    "%%assignment\n",
    "### ENTER YOUR CODE HERE"
   ]
  },
  {
   "cell_type": "code",
   "execution_count": 12,
   "metadata": {
    "deletable": false,
    "editable": false,
    "execution": {
     "iopub.execute_input": "2022-08-22T08:10:02.754544Z",
     "iopub.status.busy": "2022-08-22T08:10:02.753821Z",
     "iopub.status.idle": "2022-08-22T08:10:02.762153Z",
     "shell.execute_reply": "2022-08-22T08:10:02.761153Z"
    }
   },
   "outputs": [
    {
     "data": {
      "text/html": [
       "<table><tr style=\"background: red; color: white\"><td style=\"text-align:left\">The result should be ['10♥', 'Q♥'] for testcase hand = ['10♥', '5♣', '9♣', '10♦', 'Q♥'] </td></tr></table>"
      ],
      "text/plain": [
       "<IPython.core.display.HTML object>"
      ]
     },
     "metadata": {
      "text/html": {
       "username": "ruud"
      }
     },
     "output_type": "display_data"
    }
   ],
   "source": [
    "%%check\n",
    "hand = ['10♥', '5♣', '9♣', '10♦', 'Q♥']\n",
    "result == ['10♥', 'Q♥']\n",
    "hand = ['10♠', '5♥', 'A♥', '10♦', 'Q♣']\n",
    "result == ['5♥', 'A♥']"
   ]
  },
  {
   "cell_type": "markdown",
   "metadata": {},
   "source": [
    "#### A person has a `hand` of 5 cards. How many cards do they hold in the hearts suit? \n",
    "In other words, count the number of heart cards."
   ]
  },
  {
   "cell_type": "code",
   "execution_count": 13,
   "metadata": {
    "execution": {
     "iopub.execute_input": "2022-08-22T08:10:02.765972Z",
     "iopub.status.busy": "2022-08-22T08:10:02.765581Z",
     "iopub.status.idle": "2022-08-22T08:10:02.770384Z",
     "shell.execute_reply": "2022-08-22T08:10:02.769347Z"
    }
   },
   "outputs": [],
   "source": [
    "hand = ['10♥', '5♣', '9♣', '10♦', 'Q♥']"
   ]
  },
  {
   "cell_type": "code",
   "execution_count": 14,
   "metadata": {
    "deletable": false,
    "editable": true,
    "execution": {
     "iopub.execute_input": "2022-08-22T08:10:02.773604Z",
     "iopub.status.busy": "2022-08-22T08:10:02.773219Z",
     "iopub.status.idle": "2022-08-22T08:10:02.778393Z",
     "shell.execute_reply": "2022-08-22T08:10:02.777151Z"
    }
   },
   "outputs": [],
   "source": [
    "%%assignment\n",
    "### ENTER YOUR CODE HERE"
   ]
  },
  {
   "cell_type": "code",
   "execution_count": 15,
   "metadata": {
    "deletable": false,
    "editable": false,
    "execution": {
     "iopub.execute_input": "2022-08-22T08:10:02.782602Z",
     "iopub.status.busy": "2022-08-22T08:10:02.782229Z",
     "iopub.status.idle": "2022-08-22T08:10:02.789082Z",
     "shell.execute_reply": "2022-08-22T08:10:02.788100Z"
    }
   },
   "outputs": [
    {
     "data": {
      "text/html": [
       "<table><tr style=\"background: red; color: white\"><td style=\"text-align:left\">The result should be 2 for testcase hand = ['10♥', '5♣', '9♣', '10♦', 'Q♥'] </td></tr></table>"
      ],
      "text/plain": [
       "<IPython.core.display.HTML object>"
      ]
     },
     "metadata": {
      "text/html": {
       "username": "ruud"
      }
     },
     "output_type": "display_data"
    }
   ],
   "source": [
    "%%check\n",
    "hand = ['10♥', '5♣', '9♣', '10♦', 'Q♥']\n",
    "result == 2\n",
    "hand = ['10♥', '5♥', 'A♥', '2♥', 'Q♥']\n",
    "result == 5"
   ]
  },
  {
   "cell_type": "markdown",
   "metadata": {},
   "source": [
    "#### Convert the list `degrees` into a list of radians. \n",
    "\n",
    "To compute a radian from a degree, you can use the formula $\\frac{degree \\cdot \\pi}{180} $, and for $\\pi$ you can use `math.pi`."
   ]
  },
  {
   "cell_type": "code",
   "execution_count": 16,
   "metadata": {
    "execution": {
     "iopub.execute_input": "2022-08-22T08:10:02.792527Z",
     "iopub.status.busy": "2022-08-22T08:10:02.792158Z",
     "iopub.status.idle": "2022-08-22T08:10:02.796820Z",
     "shell.execute_reply": "2022-08-22T08:10:02.795792Z"
    }
   },
   "outputs": [],
   "source": [
    "degrees = [0, 90, 180, 270, 360]"
   ]
  },
  {
   "cell_type": "code",
   "execution_count": 17,
   "metadata": {
    "deletable": false,
    "editable": true,
    "execution": {
     "iopub.execute_input": "2022-08-22T08:10:02.800286Z",
     "iopub.status.busy": "2022-08-22T08:10:02.799900Z",
     "iopub.status.idle": "2022-08-22T08:10:02.804874Z",
     "shell.execute_reply": "2022-08-22T08:10:02.803703Z"
    }
   },
   "outputs": [],
   "source": [
    "%%assignment\n",
    "### ENTER YOUR CODE HERE"
   ]
  },
  {
   "cell_type": "code",
   "execution_count": 18,
   "metadata": {
    "deletable": false,
    "editable": false,
    "execution": {
     "iopub.execute_input": "2022-08-22T08:10:02.808058Z",
     "iopub.status.busy": "2022-08-22T08:10:02.807672Z",
     "iopub.status.idle": "2022-08-22T08:10:02.814309Z",
     "shell.execute_reply": "2022-08-22T08:10:02.813367Z"
    }
   },
   "outputs": [
    {
     "data": {
      "text/html": [
       "<table><tr style=\"background: red; color: white\"><td style=\"text-align:left\">The result should be [0, math.pi/2, math.pi, 3 * math.pi / 2, 2 * math.pi] for testcase degrees = [0, 90, 180, 270, 360] </td></tr></table>"
      ],
      "text/plain": [
       "<IPython.core.display.HTML object>"
      ]
     },
     "metadata": {
      "text/html": {
       "username": "ruud"
      }
     },
     "output_type": "display_data"
    }
   ],
   "source": [
    "%%check\n",
    "degrees = [0, 90, 180, 270, 360]\n",
    "result == [0, math.pi/2, math.pi, 3 * math.pi / 2, 2 * math.pi]\n",
    "degrees = [0, 45, 270]\n",
    "result == [0, math.pi/4, 3 * math.pi / 2]"
   ]
  },
  {
   "cell_type": "markdown",
   "metadata": {},
   "source": [
    "#### What do you think is the result from\n",
    "\n",
    "```\n",
    "a = [2, 6, 7]\n",
    "sum([ i for i in a ])\n",
    "```"
   ]
  },
  {
   "cell_type": "code",
   "execution_count": 19,
   "metadata": {
    "execution": {
     "iopub.execute_input": "2022-08-22T08:10:02.817324Z",
     "iopub.status.busy": "2022-08-22T08:10:02.816979Z",
     "iopub.status.idle": "2022-08-22T08:10:02.827674Z",
     "shell.execute_reply": "2022-08-22T08:10:02.826952Z"
    },
    "nbgrader": {
     "grade": false,
     "grade_id": "cell-3a58136346e6002e",
     "locked": true,
     "schema_version": 3,
     "solution": false,
     "task": false
    }
   },
   "outputs": [
    {
     "data": {
      "application/vnd.jupyter.widget-view+json": {
       "model_id": "3c84b845bd624721a9a9a817b6941320",
       "version_major": 2,
       "version_minor": 0
      },
      "text/plain": [
       "IntSlider(value=2, max=40, min=2)"
      ]
     },
     "metadata": {},
     "output_type": "display_data"
    }
   ],
   "source": [
    "%%slider comprehension1\n",
    "2 40"
   ]
  },
  {
   "cell_type": "code",
   "execution_count": 20,
   "metadata": {
    "deletable": false,
    "editable": false,
    "execution": {
     "iopub.execute_input": "2022-08-22T08:10:02.830468Z",
     "iopub.status.busy": "2022-08-22T08:10:02.830166Z",
     "iopub.status.idle": "2022-08-22T08:10:02.835764Z",
     "shell.execute_reply": "2022-08-22T08:10:02.834798Z"
    }
   },
   "outputs": [
    {
     "data": {
      "text/html": [
       "<table><tr style=\"background: red; color: white\"><td style=\"text-align:left\">That is the wrong answer</td></tr></table>"
      ],
      "text/plain": [
       "<IPython.core.display.HTML object>"
      ]
     },
     "metadata": {
      "text/html": {
       "username": "ruud"
      }
     },
     "output_type": "display_data"
    }
   ],
   "source": [
    "%%check\n",
    "result == 6904699078127603"
   ]
  },
  {
   "cell_type": "markdown",
   "metadata": {},
   "source": [
    "#### What do you think is the result from\n",
    "\n",
    "```\n",
    "a = [2, 6, 7]\n",
    "sum([ i*2 + 1 for i in a ])\n",
    "```"
   ]
  },
  {
   "cell_type": "code",
   "execution_count": 21,
   "metadata": {
    "execution": {
     "iopub.execute_input": "2022-08-22T08:10:02.838356Z",
     "iopub.status.busy": "2022-08-22T08:10:02.838062Z",
     "iopub.status.idle": "2022-08-22T08:10:02.847153Z",
     "shell.execute_reply": "2022-08-22T08:10:02.846469Z"
    },
    "nbgrader": {
     "grade": false,
     "grade_id": "cell-1bbd7e14901754ab",
     "locked": true,
     "schema_version": 3,
     "solution": false,
     "task": false
    }
   },
   "outputs": [
    {
     "data": {
      "application/vnd.jupyter.widget-view+json": {
       "model_id": "4d2d296d79514e0d878ad9cb48c3847f",
       "version_major": 2,
       "version_minor": 0
      },
      "text/plain": [
       "IntSlider(value=2, max=40, min=2)"
      ]
     },
     "metadata": {},
     "output_type": "display_data"
    }
   ],
   "source": [
    "%%slider comprehension2\n",
    "2 40"
   ]
  },
  {
   "cell_type": "code",
   "execution_count": 22,
   "metadata": {
    "deletable": false,
    "editable": false,
    "execution": {
     "iopub.execute_input": "2022-08-22T08:10:02.849551Z",
     "iopub.status.busy": "2022-08-22T08:10:02.849312Z",
     "iopub.status.idle": "2022-08-22T08:10:02.854394Z",
     "shell.execute_reply": "2022-08-22T08:10:02.853748Z"
    }
   },
   "outputs": [
    {
     "data": {
      "text/html": [
       "<table><tr style=\"background: red; color: white\"><td style=\"text-align:left\">That is the wrong answer</td></tr></table>"
      ],
      "text/plain": [
       "<IPython.core.display.HTML object>"
      ]
     },
     "metadata": {
      "text/html": {
       "username": "ruud"
      }
     },
     "output_type": "display_data"
    }
   ],
   "source": [
    "%%check\n",
    "result == 3479265394572654"
   ]
  },
  {
   "cell_type": "markdown",
   "metadata": {},
   "source": [
    "#### What do you think is the result from\n",
    "\n",
    "```\n",
    "a = [2, 6, 7]\n",
    "sum([ i/2 for i in a if i < 7 ])\n",
    "```"
   ]
  },
  {
   "cell_type": "code",
   "execution_count": 23,
   "metadata": {
    "execution": {
     "iopub.execute_input": "2022-08-22T08:10:02.856909Z",
     "iopub.status.busy": "2022-08-22T08:10:02.856665Z",
     "iopub.status.idle": "2022-08-22T08:10:02.865431Z",
     "shell.execute_reply": "2022-08-22T08:10:02.864790Z"
    },
    "nbgrader": {
     "grade": false,
     "grade_id": "cell-9965d6fb7a93f153",
     "locked": true,
     "schema_version": 3,
     "solution": false,
     "task": false
    }
   },
   "outputs": [
    {
     "data": {
      "application/vnd.jupyter.widget-view+json": {
       "model_id": "f774249aba0346a68881a0837a6cef9d",
       "version_major": 2,
       "version_minor": 0
      },
      "text/plain": [
       "IntSlider(value=2, max=40, min=2)"
      ]
     },
     "metadata": {},
     "output_type": "display_data"
    }
   ],
   "source": [
    "%%slider comprehension3\n",
    "2 40"
   ]
  },
  {
   "cell_type": "code",
   "execution_count": 24,
   "metadata": {
    "deletable": false,
    "editable": false,
    "execution": {
     "iopub.execute_input": "2022-08-22T08:10:02.867870Z",
     "iopub.status.busy": "2022-08-22T08:10:02.867592Z",
     "iopub.status.idle": "2022-08-22T08:10:02.872552Z",
     "shell.execute_reply": "2022-08-22T08:10:02.871880Z"
    }
   },
   "outputs": [
    {
     "data": {
      "text/html": [
       "<table><tr style=\"background: red; color: white\"><td style=\"text-align:left\">That is the wrong answer</td></tr></table>"
      ],
      "text/plain": [
       "<IPython.core.display.HTML object>"
      ]
     },
     "metadata": {
      "text/html": {
       "username": "ruud"
      }
     },
     "output_type": "display_data"
    }
   ],
   "source": [
    "%%check\n",
    "result == 4320508706361900"
   ]
  }
 ],
 "metadata": {
  "celltoolbar": "Create Assignment",
  "kernelspec": {
   "display_name": "prog",
   "language": "python",
   "name": "prog"
  },
  "language_info": {
   "codemirror_mode": {
    "name": "ipython",
    "version": 3
   },
   "file_extension": ".py",
   "mimetype": "text/x-python",
   "name": "python",
   "nbconvert_exporter": "python",
   "pygments_lexer": "ipython3",
   "version": "3.9.12"
  },
  "widgets": {
   "application/vnd.jupyter.widget-state+json": {
    "state": {
     "1976c91a4c2b404fae05a0e01bc581fb": {
      "model_module": "@jupyter-widgets/controls",
      "model_module_version": "1.5.0",
      "model_name": "SliderStyleModel",
      "state": {
       "_model_module": "@jupyter-widgets/controls",
       "_model_module_version": "1.5.0",
       "_model_name": "SliderStyleModel",
       "_view_count": null,
       "_view_module": "@jupyter-widgets/base",
       "_view_module_version": "1.2.0",
       "_view_name": "StyleView",
       "description_width": "",
       "handle_color": null
      }
     },
     "3c84b845bd624721a9a9a817b6941320": {
      "model_module": "@jupyter-widgets/controls",
      "model_module_version": "1.5.0",
      "model_name": "IntSliderModel",
      "state": {
       "_dom_classes": [],
       "_model_module": "@jupyter-widgets/controls",
       "_model_module_version": "1.5.0",
       "_model_name": "IntSliderModel",
       "_view_count": null,
       "_view_module": "@jupyter-widgets/controls",
       "_view_module_version": "1.5.0",
       "_view_name": "IntSliderView",
       "continuous_update": true,
       "description": "",
       "description_tooltip": null,
       "disabled": false,
       "layout": "IPY_MODEL_ac1c8b8b37274aec90dc02fd3c46f5a1",
       "max": 40,
       "min": 2,
       "orientation": "horizontal",
       "readout": true,
       "readout_format": "d",
       "step": 1,
       "style": "IPY_MODEL_1976c91a4c2b404fae05a0e01bc581fb",
       "value": 2
      }
     },
     "4d2d296d79514e0d878ad9cb48c3847f": {
      "model_module": "@jupyter-widgets/controls",
      "model_module_version": "1.5.0",
      "model_name": "IntSliderModel",
      "state": {
       "_dom_classes": [],
       "_model_module": "@jupyter-widgets/controls",
       "_model_module_version": "1.5.0",
       "_model_name": "IntSliderModel",
       "_view_count": null,
       "_view_module": "@jupyter-widgets/controls",
       "_view_module_version": "1.5.0",
       "_view_name": "IntSliderView",
       "continuous_update": true,
       "description": "",
       "description_tooltip": null,
       "disabled": false,
       "layout": "IPY_MODEL_a4e64aa8c6b24ee694926b4e36eafdfb",
       "max": 40,
       "min": 2,
       "orientation": "horizontal",
       "readout": true,
       "readout_format": "d",
       "step": 1,
       "style": "IPY_MODEL_9927fa54478b4767a7d4118d51c73263",
       "value": 2
      }
     },
     "9927fa54478b4767a7d4118d51c73263": {
      "model_module": "@jupyter-widgets/controls",
      "model_module_version": "1.5.0",
      "model_name": "SliderStyleModel",
      "state": {
       "_model_module": "@jupyter-widgets/controls",
       "_model_module_version": "1.5.0",
       "_model_name": "SliderStyleModel",
       "_view_count": null,
       "_view_module": "@jupyter-widgets/base",
       "_view_module_version": "1.2.0",
       "_view_name": "StyleView",
       "description_width": "",
       "handle_color": null
      }
     },
     "a4e64aa8c6b24ee694926b4e36eafdfb": {
      "model_module": "@jupyter-widgets/base",
      "model_module_version": "1.2.0",
      "model_name": "LayoutModel",
      "state": {
       "_model_module": "@jupyter-widgets/base",
       "_model_module_version": "1.2.0",
       "_model_name": "LayoutModel",
       "_view_count": null,
       "_view_module": "@jupyter-widgets/base",
       "_view_module_version": "1.2.0",
       "_view_name": "LayoutView",
       "align_content": null,
       "align_items": null,
       "align_self": null,
       "border": null,
       "bottom": null,
       "display": null,
       "flex": null,
       "flex_flow": null,
       "grid_area": null,
       "grid_auto_columns": null,
       "grid_auto_flow": null,
       "grid_auto_rows": null,
       "grid_column": null,
       "grid_gap": null,
       "grid_row": null,
       "grid_template_areas": null,
       "grid_template_columns": null,
       "grid_template_rows": null,
       "height": null,
       "justify_content": null,
       "justify_items": null,
       "left": null,
       "margin": null,
       "max_height": null,
       "max_width": null,
       "min_height": null,
       "min_width": null,
       "object_fit": null,
       "object_position": null,
       "order": null,
       "overflow": null,
       "overflow_x": null,
       "overflow_y": null,
       "padding": null,
       "right": null,
       "top": null,
       "visibility": null,
       "width": null
      }
     },
     "ac1c8b8b37274aec90dc02fd3c46f5a1": {
      "model_module": "@jupyter-widgets/base",
      "model_module_version": "1.2.0",
      "model_name": "LayoutModel",
      "state": {
       "_model_module": "@jupyter-widgets/base",
       "_model_module_version": "1.2.0",
       "_model_name": "LayoutModel",
       "_view_count": null,
       "_view_module": "@jupyter-widgets/base",
       "_view_module_version": "1.2.0",
       "_view_name": "LayoutView",
       "align_content": null,
       "align_items": null,
       "align_self": null,
       "border": null,
       "bottom": null,
       "display": null,
       "flex": null,
       "flex_flow": null,
       "grid_area": null,
       "grid_auto_columns": null,
       "grid_auto_flow": null,
       "grid_auto_rows": null,
       "grid_column": null,
       "grid_gap": null,
       "grid_row": null,
       "grid_template_areas": null,
       "grid_template_columns": null,
       "grid_template_rows": null,
       "height": null,
       "justify_content": null,
       "justify_items": null,
       "left": null,
       "margin": null,
       "max_height": null,
       "max_width": null,
       "min_height": null,
       "min_width": null,
       "object_fit": null,
       "object_position": null,
       "order": null,
       "overflow": null,
       "overflow_x": null,
       "overflow_y": null,
       "padding": null,
       "right": null,
       "top": null,
       "visibility": null,
       "width": null
      }
     },
     "b765f6a139174bec929c7601a8fa73b5": {
      "model_module": "@jupyter-widgets/controls",
      "model_module_version": "1.5.0",
      "model_name": "SliderStyleModel",
      "state": {
       "_model_module": "@jupyter-widgets/controls",
       "_model_module_version": "1.5.0",
       "_model_name": "SliderStyleModel",
       "_view_count": null,
       "_view_module": "@jupyter-widgets/base",
       "_view_module_version": "1.2.0",
       "_view_name": "StyleView",
       "description_width": "",
       "handle_color": null
      }
     },
     "c1ff93b3c6e14e52a8a8fe6f31880600": {
      "model_module": "@jupyter-widgets/base",
      "model_module_version": "1.2.0",
      "model_name": "LayoutModel",
      "state": {
       "_model_module": "@jupyter-widgets/base",
       "_model_module_version": "1.2.0",
       "_model_name": "LayoutModel",
       "_view_count": null,
       "_view_module": "@jupyter-widgets/base",
       "_view_module_version": "1.2.0",
       "_view_name": "LayoutView",
       "align_content": null,
       "align_items": null,
       "align_self": null,
       "border": null,
       "bottom": null,
       "display": null,
       "flex": null,
       "flex_flow": null,
       "grid_area": null,
       "grid_auto_columns": null,
       "grid_auto_flow": null,
       "grid_auto_rows": null,
       "grid_column": null,
       "grid_gap": null,
       "grid_row": null,
       "grid_template_areas": null,
       "grid_template_columns": null,
       "grid_template_rows": null,
       "height": null,
       "justify_content": null,
       "justify_items": null,
       "left": null,
       "margin": null,
       "max_height": null,
       "max_width": null,
       "min_height": null,
       "min_width": null,
       "object_fit": null,
       "object_position": null,
       "order": null,
       "overflow": null,
       "overflow_x": null,
       "overflow_y": null,
       "padding": null,
       "right": null,
       "top": null,
       "visibility": null,
       "width": null
      }
     },
     "f774249aba0346a68881a0837a6cef9d": {
      "model_module": "@jupyter-widgets/controls",
      "model_module_version": "1.5.0",
      "model_name": "IntSliderModel",
      "state": {
       "_dom_classes": [],
       "_model_module": "@jupyter-widgets/controls",
       "_model_module_version": "1.5.0",
       "_model_name": "IntSliderModel",
       "_view_count": null,
       "_view_module": "@jupyter-widgets/controls",
       "_view_module_version": "1.5.0",
       "_view_name": "IntSliderView",
       "continuous_update": true,
       "description": "",
       "description_tooltip": null,
       "disabled": false,
       "layout": "IPY_MODEL_c1ff93b3c6e14e52a8a8fe6f31880600",
       "max": 40,
       "min": 2,
       "orientation": "horizontal",
       "readout": true,
       "readout_format": "d",
       "step": 1,
       "style": "IPY_MODEL_b765f6a139174bec929c7601a8fa73b5",
       "value": 2
      }
     }
    },
    "version_major": 2,
    "version_minor": 0
   }
  }
 },
 "nbformat": 4,
 "nbformat_minor": 4
}
