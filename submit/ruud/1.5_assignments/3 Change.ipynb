{
 "cells": [
  {
   "cell_type": "markdown",
   "metadata": {},
   "source": [
    "# Compute change"
   ]
  },
  {
   "cell_type": "markdown",
   "metadata": {},
   "source": [
    "Suppose that a person has to pay € 16.10 and pays with a € 20 bill. Write a program that gives the change in the minimum number of coins. In this case, 1 € 2 coin, 1 € 1 coin, 1 € 0.50 coin and 2 € 0.20 coins.\n",
    "\n",
    "Note: to avoid rounding problems, we will compute in cents, therefore someone has to pay 1610 cents and pays with a 2000 cents bill.\n",
    "\n",
    "Hint: the modulo (`%`) and integer division (`//`) operators will come in handy."
   ]
  },
  {
   "cell_type": "markdown",
   "metadata": {},
   "source": [
    "#### First write an expression that computes the difference between amount and paid, this is the total sum that should be returned. "
   ]
  },
  {
   "cell_type": "code",
   "execution_count": 1,
   "metadata": {
    "execution": {
     "iopub.execute_input": "2022-08-22T07:45:02.568525Z",
     "iopub.status.busy": "2022-08-22T07:45:02.567888Z",
     "iopub.status.idle": "2022-08-22T07:45:02.580462Z",
     "shell.execute_reply": "2022-08-22T07:45:02.579378Z"
    }
   },
   "outputs": [],
   "source": [
    "amount = 1610\n",
    "paid = 2000"
   ]
  },
  {
   "cell_type": "code",
   "execution_count": 2,
   "metadata": {
    "deletable": false,
    "editable": true,
    "execution": {
     "iopub.execute_input": "2022-08-22T07:45:02.584497Z",
     "iopub.status.busy": "2022-08-22T07:45:02.584152Z",
     "iopub.status.idle": "2022-08-22T07:45:02.589087Z",
     "shell.execute_reply": "2022-08-22T07:45:02.588132Z"
    }
   },
   "outputs": [],
   "source": [
    "%%assignment\n",
    "### ENTER YOUR CODE HERE"
   ]
  },
  {
   "cell_type": "code",
   "execution_count": 3,
   "metadata": {
    "deletable": false,
    "editable": false,
    "execution": {
     "iopub.execute_input": "2022-08-22T07:45:02.593124Z",
     "iopub.status.busy": "2022-08-22T07:45:02.592759Z",
     "iopub.status.idle": "2022-08-22T07:45:02.604224Z",
     "shell.execute_reply": "2022-08-22T07:45:02.603558Z"
    }
   },
   "outputs": [
    {
     "data": {
      "text/html": [
       "<table><tr style=\"background: red; color: white\"><td style=\"text-align:left\">The result should be 390 for testcase paid, amount = 2000, 1610 </td></tr></table>"
      ],
      "text/plain": [
       "<IPython.core.display.HTML object>"
      ]
     },
     "metadata": {
      "text/html": {
       "username": "ruud"
      }
     },
     "output_type": "display_data"
    }
   ],
   "source": [
    "%%check\n",
    "paid, amount = 2000, 1610\n",
    "result == 390\n",
    "paid, amount = 500, 495\n",
    "result == 5"
   ]
  },
  {
   "cell_type": "markdown",
   "metadata": {},
   "source": [
    "### compute the number of € 2 coins (200 cents) that will fit into the amount of change"
   ]
  },
  {
   "cell_type": "code",
   "execution_count": 4,
   "metadata": {
    "execution": {
     "iopub.execute_input": "2022-08-22T07:45:02.638396Z",
     "iopub.status.busy": "2022-08-22T07:45:02.637920Z",
     "iopub.status.idle": "2022-08-22T07:45:02.642844Z",
     "shell.execute_reply": "2022-08-22T07:45:02.641914Z"
    }
   },
   "outputs": [],
   "source": [
    "amount = 1610\n",
    "paid = 2000"
   ]
  },
  {
   "cell_type": "code",
   "execution_count": 5,
   "metadata": {
    "deletable": false,
    "editable": true,
    "execution": {
     "iopub.execute_input": "2022-08-22T07:45:02.646084Z",
     "iopub.status.busy": "2022-08-22T07:45:02.645516Z",
     "iopub.status.idle": "2022-08-22T07:45:02.651547Z",
     "shell.execute_reply": "2022-08-22T07:45:02.650496Z"
    }
   },
   "outputs": [],
   "source": [
    "%%assignment\n",
    "### ENTER YOUR CODE HERE"
   ]
  },
  {
   "cell_type": "code",
   "execution_count": 6,
   "metadata": {
    "deletable": false,
    "editable": false,
    "execution": {
     "iopub.execute_input": "2022-08-22T07:45:02.654464Z",
     "iopub.status.busy": "2022-08-22T07:45:02.654073Z",
     "iopub.status.idle": "2022-08-22T07:45:02.661087Z",
     "shell.execute_reply": "2022-08-22T07:45:02.660263Z"
    }
   },
   "outputs": [
    {
     "data": {
      "text/html": [
       "<table><tr style=\"background: red; color: white\"><td style=\"text-align:left\">The result should be 1 for testcase paid, amount = 2000, 1610 </td></tr></table>"
      ],
      "text/plain": [
       "<IPython.core.display.HTML object>"
      ]
     },
     "metadata": {
      "text/html": {
       "username": "ruud"
      }
     },
     "output_type": "display_data"
    }
   ],
   "source": [
    "%%check\n",
    "paid, amount = 2000, 1610\n",
    "result == 1\n",
    "paid, amount = 2000, 1600\n",
    "result == 2"
   ]
  },
  {
   "cell_type": "markdown",
   "metadata": {},
   "source": [
    "### After you have given the right number of € 2 coins how much change do you still have to return?"
   ]
  },
  {
   "cell_type": "code",
   "execution_count": 7,
   "metadata": {
    "execution": {
     "iopub.execute_input": "2022-08-22T07:45:02.664106Z",
     "iopub.status.busy": "2022-08-22T07:45:02.663738Z",
     "iopub.status.idle": "2022-08-22T07:45:02.668166Z",
     "shell.execute_reply": "2022-08-22T07:45:02.667189Z"
    }
   },
   "outputs": [],
   "source": [
    "amount = 1610\n",
    "paid = 2000"
   ]
  },
  {
   "cell_type": "code",
   "execution_count": 8,
   "metadata": {
    "deletable": false,
    "editable": true,
    "execution": {
     "iopub.execute_input": "2022-08-22T07:45:02.671111Z",
     "iopub.status.busy": "2022-08-22T07:45:02.670784Z",
     "iopub.status.idle": "2022-08-22T07:45:02.675215Z",
     "shell.execute_reply": "2022-08-22T07:45:02.674275Z"
    }
   },
   "outputs": [],
   "source": [
    "%%assignment\n",
    "### ENTER YOUR CODE HERE"
   ]
  },
  {
   "cell_type": "code",
   "execution_count": 9,
   "metadata": {
    "deletable": false,
    "editable": false,
    "execution": {
     "iopub.execute_input": "2022-08-22T07:45:02.678252Z",
     "iopub.status.busy": "2022-08-22T07:45:02.677921Z",
     "iopub.status.idle": "2022-08-22T07:45:02.683985Z",
     "shell.execute_reply": "2022-08-22T07:45:02.683065Z"
    }
   },
   "outputs": [
    {
     "data": {
      "text/html": [
       "<table><tr style=\"background: red; color: white\"><td style=\"text-align:left\">The result should be 190 for testcase paid, amount = 2000, 1610 </td></tr></table>"
      ],
      "text/plain": [
       "<IPython.core.display.HTML object>"
      ]
     },
     "metadata": {
      "text/html": {
       "username": "ruud"
      }
     },
     "output_type": "display_data"
    }
   ],
   "source": [
    "%%check\n",
    "paid, amount = 2000, 1610\n",
    "result == 190\n",
    "paid, amount = 2000, 1600\n",
    "result == 0"
   ]
  },
  {
   "cell_type": "markdown",
   "metadata": {},
   "source": [
    "### From the amount of change that is left after returning the € 2 coins, compute how many € 1 coins you should return.\n",
    "\n",
    "Hint: you can use several lines of programming code. Compute the amount that is left after returning the € 2 coins and store it in a variable `left`. Then using the value in `left` compute the number of € 1 coins you can return."
   ]
  },
  {
   "cell_type": "code",
   "execution_count": 10,
   "metadata": {
    "execution": {
     "iopub.execute_input": "2022-08-22T07:45:02.686848Z",
     "iopub.status.busy": "2022-08-22T07:45:02.686537Z",
     "iopub.status.idle": "2022-08-22T07:45:02.690619Z",
     "shell.execute_reply": "2022-08-22T07:45:02.689679Z"
    }
   },
   "outputs": [],
   "source": [
    "amount = 1610\n",
    "paid = 2000"
   ]
  },
  {
   "cell_type": "code",
   "execution_count": 11,
   "metadata": {
    "deletable": false,
    "editable": true,
    "execution": {
     "iopub.execute_input": "2022-08-22T07:45:02.709275Z",
     "iopub.status.busy": "2022-08-22T07:45:02.708692Z",
     "iopub.status.idle": "2022-08-22T07:45:02.714960Z",
     "shell.execute_reply": "2022-08-22T07:45:02.713857Z"
    }
   },
   "outputs": [],
   "source": [
    "%%assignment\n",
    "### ENTER YOUR CODE HERE"
   ]
  },
  {
   "cell_type": "code",
   "execution_count": 12,
   "metadata": {
    "deletable": false,
    "editable": false,
    "execution": {
     "iopub.execute_input": "2022-08-22T07:45:02.720514Z",
     "iopub.status.busy": "2022-08-22T07:45:02.719799Z",
     "iopub.status.idle": "2022-08-22T07:45:02.728439Z",
     "shell.execute_reply": "2022-08-22T07:45:02.727371Z"
    }
   },
   "outputs": [
    {
     "data": {
      "text/html": [
       "<table><tr style=\"background: red; color: white\"><td style=\"text-align:left\">The result should be 1 for testcase paid, amount = 2000, 1610 </td></tr></table>"
      ],
      "text/plain": [
       "<IPython.core.display.HTML object>"
      ]
     },
     "metadata": {
      "text/html": {
       "username": "ruud"
      }
     },
     "output_type": "display_data"
    }
   ],
   "source": [
    "%%check\n",
    "paid, amount = 2000, 1610\n",
    "result == 1\n",
    "paid, amount = 2000, 1600\n",
    "result == 0"
   ]
  },
  {
   "cell_type": "markdown",
   "metadata": {},
   "source": [
    "### Now a big program. Compute an optimal solution that returns the minimum number of coins as change. \n",
    "\n",
    "Important: store the respective coins to be returned as change in the variables E2, E1, C50, C20, C10 and C5. The variable names are case sensitive (e.g. use E2 and not e2).\n",
    "\n",
    "Hint: Use several lines of programming code to store the results. Work from the most expensive coin towards the least expensive. After you determine how many of a certain coin is returned, recompute the amount of change that must still be returned."
   ]
  },
  {
   "cell_type": "code",
   "execution_count": 13,
   "metadata": {
    "execution": {
     "iopub.execute_input": "2022-08-22T07:45:02.733109Z",
     "iopub.status.busy": "2022-08-22T07:45:02.732775Z",
     "iopub.status.idle": "2022-08-22T07:45:02.737450Z",
     "shell.execute_reply": "2022-08-22T07:45:02.736563Z"
    }
   },
   "outputs": [],
   "source": [
    "amount = 1610\n",
    "paid = 2000"
   ]
  },
  {
   "cell_type": "code",
   "execution_count": 14,
   "metadata": {
    "deletable": false,
    "editable": true,
    "execution": {
     "iopub.execute_input": "2022-08-22T07:45:02.741058Z",
     "iopub.status.busy": "2022-08-22T07:45:02.740508Z",
     "iopub.status.idle": "2022-08-22T07:45:02.745454Z",
     "shell.execute_reply": "2022-08-22T07:45:02.744350Z"
    }
   },
   "outputs": [],
   "source": [
    "%%assignment\n",
    "left = (paid - amount)\n",
    "E2 = ...\n",
    "# recompute how much is left\n",
    "E1 = ...\n",
    "# etc.\n",
    "### ENTER YOUR CODE HERE"
   ]
  },
  {
   "cell_type": "code",
   "execution_count": 15,
   "metadata": {
    "deletable": false,
    "editable": false,
    "execution": {
     "iopub.execute_input": "2022-08-22T07:45:02.748658Z",
     "iopub.status.busy": "2022-08-22T07:45:02.748276Z",
     "iopub.status.idle": "2022-08-22T07:45:03.125334Z",
     "shell.execute_reply": "2022-08-22T07:45:03.124651Z"
    }
   },
   "outputs": [
    {
     "ename": "NameError",
     "evalue": "name 'C50' is not defined",
     "output_type": "error",
     "traceback": [
      "\u001b[0;31m---------------------------------------------------------------------------\u001b[0m",
      "\u001b[0;31mNameError\u001b[0m                                 Traceback (most recent call last)",
      "Input \u001b[0;32mIn [15]\u001b[0m, in \u001b[0;36m<cell line: 1>\u001b[0;34m()\u001b[0m\n\u001b[0;32m----> 1\u001b[0m \u001b[43mget_ipython\u001b[49m\u001b[43m(\u001b[49m\u001b[43m)\u001b[49m\u001b[38;5;241;43m.\u001b[39;49m\u001b[43mrun_cell_magic\u001b[49m\u001b[43m(\u001b[49m\u001b[38;5;124;43m'\u001b[39;49m\u001b[38;5;124;43mcheck\u001b[39;49m\u001b[38;5;124;43m'\u001b[39;49m\u001b[43m,\u001b[49m\u001b[43m \u001b[49m\u001b[38;5;124;43m'\u001b[39;49m\u001b[38;5;124;43m'\u001b[39;49m\u001b[43m,\u001b[49m\u001b[43m \u001b[49m\u001b[38;5;124;43m'\u001b[39;49m\u001b[38;5;124;43mpaid, amount = 2000, 1610\u001b[39;49m\u001b[38;5;130;43;01m\\n\u001b[39;49;00m\u001b[38;5;124;43mE2 == 1\u001b[39;49m\u001b[38;5;130;43;01m\\n\u001b[39;49;00m\u001b[38;5;124;43mE1 == 1\u001b[39;49m\u001b[38;5;130;43;01m\\n\u001b[39;49;00m\u001b[38;5;124;43mC50 == 1\u001b[39;49m\u001b[38;5;130;43;01m\\n\u001b[39;49;00m\u001b[38;5;124;43mC20 == 2\u001b[39;49m\u001b[38;5;130;43;01m\\n\u001b[39;49;00m\u001b[38;5;124;43mC10 == 0\u001b[39;49m\u001b[38;5;130;43;01m\\n\u001b[39;49;00m\u001b[38;5;124;43mC5 == 0\u001b[39;49m\u001b[38;5;130;43;01m\\n\u001b[39;49;00m\u001b[38;5;124;43mpaid, amount = 2000, 1565\u001b[39;49m\u001b[38;5;130;43;01m\\n\u001b[39;49;00m\u001b[38;5;124;43mE2 == 2\u001b[39;49m\u001b[38;5;130;43;01m\\n\u001b[39;49;00m\u001b[38;5;124;43mE1 == 0\u001b[39;49m\u001b[38;5;130;43;01m\\n\u001b[39;49;00m\u001b[38;5;124;43mC50 == 0\u001b[39;49m\u001b[38;5;130;43;01m\\n\u001b[39;49;00m\u001b[38;5;124;43mC20 == 1\u001b[39;49m\u001b[38;5;130;43;01m\\n\u001b[39;49;00m\u001b[38;5;124;43mC10 == 1\u001b[39;49m\u001b[38;5;130;43;01m\\n\u001b[39;49;00m\u001b[38;5;124;43mC5 == 1\u001b[39;49m\u001b[38;5;130;43;01m\\n\u001b[39;49;00m\u001b[38;5;124;43m'\u001b[39;49m\u001b[43m)\u001b[49m\n",
      "File \u001b[0;32m/opt/jupyterhub/anaconda/lib/python3.9/site-packages/IPython/core/interactiveshell.py:2358\u001b[0m, in \u001b[0;36mInteractiveShell.run_cell_magic\u001b[0;34m(self, magic_name, line, cell)\u001b[0m\n\u001b[1;32m   2356\u001b[0m \u001b[38;5;28;01mwith\u001b[39;00m \u001b[38;5;28mself\u001b[39m\u001b[38;5;241m.\u001b[39mbuiltin_trap:\n\u001b[1;32m   2357\u001b[0m     args \u001b[38;5;241m=\u001b[39m (magic_arg_s, cell)\n\u001b[0;32m-> 2358\u001b[0m     result \u001b[38;5;241m=\u001b[39m \u001b[43mfn\u001b[49m\u001b[43m(\u001b[49m\u001b[38;5;241;43m*\u001b[39;49m\u001b[43margs\u001b[49m\u001b[43m,\u001b[49m\u001b[43m \u001b[49m\u001b[38;5;241;43m*\u001b[39;49m\u001b[38;5;241;43m*\u001b[39;49m\u001b[43mkwargs\u001b[49m\u001b[43m)\u001b[49m\n\u001b[1;32m   2359\u001b[0m \u001b[38;5;28;01mreturn\u001b[39;00m result\n",
      "File \u001b[0;32m<string>:199\u001b[0m, in \u001b[0;36mcheck\u001b[0;34m(self, nr, checks)\u001b[0m\n",
      "File \u001b[0;32m<string>:231\u001b[0m, in \u001b[0;36mcheck2\u001b[0;34m(self)\u001b[0m\n",
      "File \u001b[0;32m<string>:150\u001b[0m, in \u001b[0;36meval\u001b[0;34m(self, script, prelude)\u001b[0m\n",
      "File \u001b[0;32m/opt/jupyterhub/anaconda/lib/python3.9/site-packages/IPython/core/interactiveshell.py:2684\u001b[0m, in \u001b[0;36mInteractiveShell.ex\u001b[0;34m(self, cmd)\u001b[0m\n\u001b[1;32m   2682\u001b[0m \u001b[38;5;124;03m\"\"\"Execute a normal python statement in user namespace.\"\"\"\u001b[39;00m\n\u001b[1;32m   2683\u001b[0m \u001b[38;5;28;01mwith\u001b[39;00m \u001b[38;5;28mself\u001b[39m\u001b[38;5;241m.\u001b[39mbuiltin_trap:\n\u001b[0;32m-> 2684\u001b[0m     \u001b[43mexec\u001b[49m\u001b[43m(\u001b[49m\u001b[43mcmd\u001b[49m\u001b[43m,\u001b[49m\u001b[43m \u001b[49m\u001b[38;5;28;43mself\u001b[39;49m\u001b[38;5;241;43m.\u001b[39;49m\u001b[43muser_global_ns\u001b[49m\u001b[43m,\u001b[49m\u001b[43m \u001b[49m\u001b[38;5;28;43mself\u001b[39;49m\u001b[38;5;241;43m.\u001b[39;49m\u001b[43muser_ns\u001b[49m\u001b[43m)\u001b[49m\n",
      "File \u001b[0;32m<string>:1\u001b[0m, in \u001b[0;36m<module>\u001b[0;34m\u001b[0m\n",
      "\u001b[0;31mNameError\u001b[0m: name 'C50' is not defined"
     ]
    }
   ],
   "source": [
    "%%check\n",
    "paid, amount = 2000, 1610\n",
    "E2 == 1\n",
    "E1 == 1\n",
    "C50 == 1\n",
    "C20 == 2\n",
    "C10 == 0\n",
    "C5 == 0\n",
    "paid, amount = 2000, 1565\n",
    "E2 == 2\n",
    "E1 == 0\n",
    "C50 == 0\n",
    "C20 == 1\n",
    "C10 == 1\n",
    "C5 == 1"
   ]
  }
 ],
 "metadata": {
  "celltoolbar": "Create Assignment",
  "kernelspec": {
   "display_name": "prog",
   "language": "python",
   "name": "prog"
  },
  "language_info": {
   "codemirror_mode": {
    "name": "ipython",
    "version": 3
   },
   "file_extension": ".py",
   "mimetype": "text/x-python",
   "name": "python",
   "nbconvert_exporter": "python",
   "pygments_lexer": "ipython3",
   "version": "3.9.12"
  }
 },
 "nbformat": 4,
 "nbformat_minor": 4
}
