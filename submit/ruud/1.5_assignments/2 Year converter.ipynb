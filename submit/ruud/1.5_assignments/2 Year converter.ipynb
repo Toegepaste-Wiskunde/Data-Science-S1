{
 "cells": [
  {
   "cell_type": "markdown",
   "metadata": {},
   "source": [
    "# Year converter"
   ]
  },
  {
   "cell_type": "markdown",
   "metadata": {},
   "source": [
    "#### Write a Python program that converts the age of a person into dog-years\n",
    "\n",
    "To convert an age to dog years, the first two years equal 10.5 human years. The remaining dog years equal 4 human years. Take the variable `human_years` as input, and write the end result as an expression (i.e. do not store it in a variable). However, you may use multiple lines, for example to first determine the number of years below the age of 21 and then the number of years above the age of 21.\n",
    "\n",
    "A usefool tool to determine the number of years above and below 21 are the `min` and `max` functions. These return respectively the lowest of a number of values or the highest of a number of values. Let's get to know the `min` and `max` functions"
   ]
  },
  {
   "cell_type": "code",
   "execution_count": 1,
   "metadata": {
    "execution": {
     "iopub.execute_input": "2022-08-22T07:50:02.599583Z",
     "iopub.status.busy": "2022-08-22T07:50:02.599076Z",
     "iopub.status.idle": "2022-08-22T07:50:02.611008Z",
     "shell.execute_reply": "2022-08-22T07:50:02.610080Z"
    }
   },
   "outputs": [],
   "source": [
    "human_years = 25"
   ]
  },
  {
   "cell_type": "markdown",
   "metadata": {},
   "source": [
    "#### Write an expression that return the number of human years if it is below 21, or otherwise 21."
   ]
  },
  {
   "cell_type": "code",
   "execution_count": 2,
   "metadata": {
    "deletable": false,
    "editable": true,
    "execution": {
     "iopub.execute_input": "2022-08-22T07:50:02.615263Z",
     "iopub.status.busy": "2022-08-22T07:50:02.614953Z",
     "iopub.status.idle": "2022-08-22T07:50:02.619784Z",
     "shell.execute_reply": "2022-08-22T07:50:02.618661Z"
    }
   },
   "outputs": [],
   "source": [
    "%%assignment\n",
    "### ENTER YOUR CODE HERE"
   ]
  },
  {
   "cell_type": "code",
   "execution_count": 3,
   "metadata": {
    "deletable": false,
    "editable": false,
    "execution": {
     "iopub.execute_input": "2022-08-22T07:50:02.624465Z",
     "iopub.status.busy": "2022-08-22T07:50:02.624033Z",
     "iopub.status.idle": "2022-08-22T07:50:02.639558Z",
     "shell.execute_reply": "2022-08-22T07:50:02.638805Z"
    }
   },
   "outputs": [
    {
     "data": {
      "text/html": [
       "<table><tr style=\"background: red; color: white\"><td style=\"text-align:left\">The result should be 20 for testcase human_years = 20 </td></tr></table>"
      ],
      "text/plain": [
       "<IPython.core.display.HTML object>"
      ]
     },
     "metadata": {
      "text/html": {
       "username": "ruud"
      }
     },
     "output_type": "display_data"
    }
   ],
   "source": [
    "%%check\n",
    "human_years = 20\n",
    "result == 20\n",
    "human_years = 21\n",
    "result == 21\n",
    "human_years = 22\n",
    "result == 21"
   ]
  },
  {
   "cell_type": "markdown",
   "metadata": {},
   "source": [
    "#### Now convert the number of human years below 21 to dog years. For example for 21, the answer should be 2, for 10.5 the answer should be 1."
   ]
  },
  {
   "cell_type": "code",
   "execution_count": 4,
   "metadata": {
    "deletable": false,
    "editable": true,
    "execution": {
     "iopub.execute_input": "2022-08-22T07:50:02.674656Z",
     "iopub.status.busy": "2022-08-22T07:50:02.674286Z",
     "iopub.status.idle": "2022-08-22T07:50:02.678873Z",
     "shell.execute_reply": "2022-08-22T07:50:02.677799Z"
    }
   },
   "outputs": [],
   "source": [
    "%%assignment\n",
    "### ENTER YOUR CODE HERE"
   ]
  },
  {
   "cell_type": "code",
   "execution_count": 5,
   "metadata": {
    "deletable": false,
    "editable": false,
    "execution": {
     "iopub.execute_input": "2022-08-22T07:50:02.681445Z",
     "iopub.status.busy": "2022-08-22T07:50:02.681126Z",
     "iopub.status.idle": "2022-08-22T07:50:02.686859Z",
     "shell.execute_reply": "2022-08-22T07:50:02.686132Z"
    }
   },
   "outputs": [
    {
     "data": {
      "text/html": [
       "<table><tr style=\"background: red; color: white\"><td style=\"text-align:left\">The result should be 1 for testcase human_years = 10.5 </td></tr></table>"
      ],
      "text/plain": [
       "<IPython.core.display.HTML object>"
      ]
     },
     "metadata": {
      "text/html": {
       "username": "ruud"
      }
     },
     "output_type": "display_data"
    }
   ],
   "source": [
    "%%check\n",
    "human_years = 10.5\n",
    "result == 1\n",
    "human_years = 21\n",
    "result == 2\n",
    "human_years = 22\n",
    "result == 2"
   ]
  },
  {
   "cell_type": "markdown",
   "metadata": {},
   "source": [
    "#### Now compute the number of human years above 21. For example, 25 should become 4 and any ago below 21 should give you 0."
   ]
  },
  {
   "cell_type": "code",
   "execution_count": 6,
   "metadata": {
    "deletable": false,
    "editable": true,
    "execution": {
     "iopub.execute_input": "2022-08-22T07:50:02.689291Z",
     "iopub.status.busy": "2022-08-22T07:50:02.688997Z",
     "iopub.status.idle": "2022-08-22T07:50:02.692992Z",
     "shell.execute_reply": "2022-08-22T07:50:02.692068Z"
    }
   },
   "outputs": [],
   "source": [
    "%%assignment\n",
    "### ENTER YOUR CODE HERE"
   ]
  },
  {
   "cell_type": "code",
   "execution_count": 7,
   "metadata": {
    "deletable": false,
    "editable": false,
    "execution": {
     "iopub.execute_input": "2022-08-22T07:50:02.695378Z",
     "iopub.status.busy": "2022-08-22T07:50:02.695108Z",
     "iopub.status.idle": "2022-08-22T07:50:02.700735Z",
     "shell.execute_reply": "2022-08-22T07:50:02.700058Z"
    }
   },
   "outputs": [
    {
     "data": {
      "text/html": [
       "<table><tr style=\"background: red; color: white\"><td style=\"text-align:left\">The result should be 0 for testcase human_years = 18 </td></tr></table>"
      ],
      "text/plain": [
       "<IPython.core.display.HTML object>"
      ]
     },
     "metadata": {
      "text/html": {
       "username": "ruud"
      }
     },
     "output_type": "display_data"
    }
   ],
   "source": [
    "%%check\n",
    "human_years = 18\n",
    "result == 0\n",
    "human_years = 21\n",
    "result == 0\n",
    "human_years = 25\n",
    "result == 4"
   ]
  },
  {
   "cell_type": "markdown",
   "metadata": {},
   "source": [
    "#### Now covert the number of human years above 21 to dog years. For example, 25 should become 1, 29 shoud become 2 and any ago below 21 should give you 0."
   ]
  },
  {
   "cell_type": "code",
   "execution_count": 8,
   "metadata": {
    "deletable": false,
    "editable": true,
    "execution": {
     "iopub.execute_input": "2022-08-22T07:50:02.703255Z",
     "iopub.status.busy": "2022-08-22T07:50:02.702982Z",
     "iopub.status.idle": "2022-08-22T07:50:02.706877Z",
     "shell.execute_reply": "2022-08-22T07:50:02.705885Z"
    }
   },
   "outputs": [],
   "source": [
    "%%assignment\n",
    "### ENTER YOUR CODE HERE"
   ]
  },
  {
   "cell_type": "code",
   "execution_count": 9,
   "metadata": {
    "deletable": false,
    "editable": false,
    "execution": {
     "iopub.execute_input": "2022-08-22T07:50:02.728313Z",
     "iopub.status.busy": "2022-08-22T07:50:02.727987Z",
     "iopub.status.idle": "2022-08-22T07:50:02.736016Z",
     "shell.execute_reply": "2022-08-22T07:50:02.734917Z"
    }
   },
   "outputs": [
    {
     "data": {
      "text/html": [
       "<table><tr style=\"background: red; color: white\"><td style=\"text-align:left\">The result should be 0 for testcase human_years = 18 </td></tr></table>"
      ],
      "text/plain": [
       "<IPython.core.display.HTML object>"
      ]
     },
     "metadata": {
      "text/html": {
       "username": "ruud"
      }
     },
     "output_type": "display_data"
    }
   ],
   "source": [
    "%%check\n",
    "human_years = 18\n",
    "result == 0\n",
    "human_years = 21\n",
    "result == 0\n",
    "human_years = 25\n",
    "result == 1\n",
    "human_years = 29\n",
    "result == 2"
   ]
  },
  {
   "cell_type": "markdown",
   "metadata": {},
   "source": [
    "#### Now combine the expression to compute the number of dog years for the first 21 years and above the age of 21 to make it work for every age. For example 10.5 should give 1, 21 should give 2, 25 should give 3."
   ]
  },
  {
   "cell_type": "code",
   "execution_count": 10,
   "metadata": {
    "deletable": false,
    "editable": true,
    "execution": {
     "iopub.execute_input": "2022-08-22T07:50:02.740746Z",
     "iopub.status.busy": "2022-08-22T07:50:02.740135Z",
     "iopub.status.idle": "2022-08-22T07:50:02.745493Z",
     "shell.execute_reply": "2022-08-22T07:50:02.744448Z"
    }
   },
   "outputs": [],
   "source": [
    "%%assignment\n",
    "### ENTER YOUR CODE HERE"
   ]
  },
  {
   "cell_type": "code",
   "execution_count": 11,
   "metadata": {
    "deletable": false,
    "editable": false,
    "execution": {
     "iopub.execute_input": "2022-08-22T07:50:02.749449Z",
     "iopub.status.busy": "2022-08-22T07:50:02.749061Z",
     "iopub.status.idle": "2022-08-22T07:50:02.756294Z",
     "shell.execute_reply": "2022-08-22T07:50:02.755507Z"
    }
   },
   "outputs": [
    {
     "data": {
      "text/html": [
       "<table><tr style=\"background: red; color: white\"><td style=\"text-align:left\">The result should be 1 for testcase human_years = 10.5 </td></tr></table>"
      ],
      "text/plain": [
       "<IPython.core.display.HTML object>"
      ]
     },
     "metadata": {
      "text/html": {
       "username": "ruud"
      }
     },
     "output_type": "display_data"
    }
   ],
   "source": [
    "%%check\n",
    "human_years = 10.5\n",
    "result == 1\n",
    "human_years = 21\n",
    "result == 2\n",
    "human_years = 25\n",
    "result == 3\n",
    "human_years = 29\n",
    "result == 4"
   ]
  },
  {
   "cell_type": "markdown",
   "metadata": {},
   "source": [
    "#### Now create an expression that computes the number of human years based on the number of dog years, e.g. 1 -> 10.5, 2-> 21, 3 -> 25, etc."
   ]
  },
  {
   "cell_type": "code",
   "execution_count": 12,
   "metadata": {
    "execution": {
     "iopub.execute_input": "2022-08-22T07:50:02.759830Z",
     "iopub.status.busy": "2022-08-22T07:50:02.759482Z",
     "iopub.status.idle": "2022-08-22T07:50:02.763632Z",
     "shell.execute_reply": "2022-08-22T07:50:02.762818Z"
    }
   },
   "outputs": [],
   "source": [
    "dog_years = 3"
   ]
  },
  {
   "cell_type": "code",
   "execution_count": 13,
   "metadata": {
    "deletable": false,
    "editable": true,
    "execution": {
     "iopub.execute_input": "2022-08-22T07:50:02.766606Z",
     "iopub.status.busy": "2022-08-22T07:50:02.766227Z",
     "iopub.status.idle": "2022-08-22T07:50:02.770524Z",
     "shell.execute_reply": "2022-08-22T07:50:02.769730Z"
    }
   },
   "outputs": [],
   "source": [
    "%%assignment\n",
    "### ENTER YOUR CODE HERE"
   ]
  },
  {
   "cell_type": "code",
   "execution_count": 14,
   "metadata": {
    "deletable": false,
    "editable": false,
    "execution": {
     "iopub.execute_input": "2022-08-22T07:50:02.773352Z",
     "iopub.status.busy": "2022-08-22T07:50:02.772974Z",
     "iopub.status.idle": "2022-08-22T07:50:02.779446Z",
     "shell.execute_reply": "2022-08-22T07:50:02.778698Z"
    }
   },
   "outputs": [
    {
     "data": {
      "text/html": [
       "<table><tr style=\"background: red; color: white\"><td style=\"text-align:left\">The result should be 10.5 for testcase dog_years = 1 </td></tr></table>"
      ],
      "text/plain": [
       "<IPython.core.display.HTML object>"
      ]
     },
     "metadata": {
      "text/html": {
       "username": "ruud"
      }
     },
     "output_type": "display_data"
    }
   ],
   "source": [
    "%%check\n",
    "dog_years = 1\n",
    "result == 10.5\n",
    "dog_years = 2\n",
    "result == 21\n",
    "dog_years = 3\n",
    "result == 25\n",
    "dog_years = 4\n",
    "result == 29"
   ]
  }
 ],
 "metadata": {
  "celltoolbar": "Create Assignment",
  "kernelspec": {
   "display_name": "prog",
   "language": "python",
   "name": "prog"
  },
  "language_info": {
   "codemirror_mode": {
    "name": "ipython",
    "version": 3
   },
   "file_extension": ".py",
   "mimetype": "text/x-python",
   "name": "python",
   "nbconvert_exporter": "python",
   "pygments_lexer": "ipython3",
   "version": "3.9.12"
  }
 },
 "nbformat": 4,
 "nbformat_minor": 4
}
