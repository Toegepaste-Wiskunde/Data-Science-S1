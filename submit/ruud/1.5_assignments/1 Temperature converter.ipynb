{
 "cells": [
  {
   "cell_type": "markdown",
   "metadata": {},
   "source": [
    "# Temperature converter"
   ]
  },
  {
   "cell_type": "markdown",
   "metadata": {},
   "source": [
    "#### Write a Python program that converts the given temperature from derees in Celsius to degrees in Fahrenheit. \n",
    "\n",
    "The difference between celsius and Fahrenheit is that the freezing point for Celsius is 0 °C, and for Fahrenheit it is 32 °F. Furthermore, one degree in Celsius equals 9/5 degree in Fahrenheit. Take the variable `celsius` as input and simply write the expression to compute the temperature in fahrenheit (i.e. do not store it in a variable)."
   ]
  },
  {
   "cell_type": "code",
   "execution_count": 1,
   "metadata": {
    "execution": {
     "iopub.execute_input": "2022-08-22T07:40:03.009120Z",
     "iopub.status.busy": "2022-08-22T07:40:03.008615Z",
     "iopub.status.idle": "2022-08-22T07:40:03.021579Z",
     "shell.execute_reply": "2022-08-22T07:40:03.020367Z"
    }
   },
   "outputs": [],
   "source": [
    "celsius = 100"
   ]
  },
  {
   "cell_type": "code",
   "execution_count": 2,
   "metadata": {
    "deletable": false,
    "editable": true,
    "execution": {
     "iopub.execute_input": "2022-08-22T07:40:03.025560Z",
     "iopub.status.busy": "2022-08-22T07:40:03.025226Z",
     "iopub.status.idle": "2022-08-22T07:40:03.030847Z",
     "shell.execute_reply": "2022-08-22T07:40:03.029919Z"
    }
   },
   "outputs": [
    {
     "name": "stdout",
     "output_type": "stream",
     "text": [
      "The temperature in Fahrenheit is:\n"
     ]
    }
   ],
   "source": [
    "%%assignment\n",
    "print('The temperature in Fahrenheit is:')\n",
    "### ENTER YOUR CODE HERE"
   ]
  },
  {
   "cell_type": "code",
   "execution_count": 3,
   "metadata": {
    "deletable": false,
    "editable": false,
    "execution": {
     "iopub.execute_input": "2022-08-22T07:40:03.061283Z",
     "iopub.status.busy": "2022-08-22T07:40:03.060835Z",
     "iopub.status.idle": "2022-08-22T07:40:03.075943Z",
     "shell.execute_reply": "2022-08-22T07:40:03.075107Z"
    }
   },
   "outputs": [
    {
     "name": "stdout",
     "output_type": "stream",
     "text": [
      "The temperature in Fahrenheit is:\n",
      "The temperature in Fahrenheit is:\n"
     ]
    },
    {
     "data": {
      "text/html": [
       "<table><tr style=\"background: red; color: white\"><td style=\"text-align:left\">The result should be 212.0 for testcase celsius = 100 </td></tr></table>"
      ],
      "text/plain": [
       "<IPython.core.display.HTML object>"
      ]
     },
     "metadata": {
      "text/html": {
       "username": "ruud"
      }
     },
     "output_type": "display_data"
    }
   ],
   "source": [
    "%%check\n",
    "celsius = 100\n",
    "result == 212.0\n",
    "celsius = 0\n",
    "result == 32"
   ]
  },
  {
   "cell_type": "markdown",
   "metadata": {},
   "source": [
    "#### Now convert the other way around, take a temperature in Fahrenheit and convert it to Celsius"
   ]
  },
  {
   "cell_type": "code",
   "execution_count": 4,
   "metadata": {
    "execution": {
     "iopub.execute_input": "2022-08-22T07:40:03.078788Z",
     "iopub.status.busy": "2022-08-22T07:40:03.078477Z",
     "iopub.status.idle": "2022-08-22T07:40:03.082637Z",
     "shell.execute_reply": "2022-08-22T07:40:03.081639Z"
    }
   },
   "outputs": [],
   "source": [
    "fahrenheit = 212"
   ]
  },
  {
   "cell_type": "code",
   "execution_count": 5,
   "metadata": {
    "deletable": false,
    "editable": true,
    "execution": {
     "iopub.execute_input": "2022-08-22T07:40:03.085259Z",
     "iopub.status.busy": "2022-08-22T07:40:03.084997Z",
     "iopub.status.idle": "2022-08-22T07:40:03.089619Z",
     "shell.execute_reply": "2022-08-22T07:40:03.088863Z"
    }
   },
   "outputs": [
    {
     "name": "stdout",
     "output_type": "stream",
     "text": [
      "The temperature in Celsius is:\n"
     ]
    }
   ],
   "source": [
    "%%assignment\n",
    "print('The temperature in Celsius is:')\n",
    "### ENTER YOUR CODE HERE"
   ]
  },
  {
   "cell_type": "code",
   "execution_count": 6,
   "metadata": {
    "deletable": false,
    "editable": false,
    "execution": {
     "iopub.execute_input": "2022-08-22T07:40:03.092297Z",
     "iopub.status.busy": "2022-08-22T07:40:03.091989Z",
     "iopub.status.idle": "2022-08-22T07:40:03.098051Z",
     "shell.execute_reply": "2022-08-22T07:40:03.097349Z"
    }
   },
   "outputs": [
    {
     "name": "stdout",
     "output_type": "stream",
     "text": [
      "The temperature in Celsius is:\n",
      "The temperature in Celsius is:\n"
     ]
    },
    {
     "data": {
      "text/html": [
       "<table><tr style=\"background: red; color: white\"><td style=\"text-align:left\">The result should be 100 for testcase fahrenheit = 212 </td></tr></table>"
      ],
      "text/plain": [
       "<IPython.core.display.HTML object>"
      ]
     },
     "metadata": {
      "text/html": {
       "username": "ruud"
      }
     },
     "output_type": "display_data"
    }
   ],
   "source": [
    "%%check\n",
    "fahrenheit = 212\n",
    "result == 100\n",
    "fahrenheit = 32\n",
    "result == 0"
   ]
  },
  {
   "cell_type": "code",
   "execution_count": null,
   "metadata": {},
   "outputs": [],
   "source": []
  }
 ],
 "metadata": {
  "celltoolbar": "Create Assignment",
  "kernelspec": {
   "display_name": "prog",
   "language": "python",
   "name": "prog"
  },
  "language_info": {
   "codemirror_mode": {
    "name": "ipython",
    "version": 3
   },
   "file_extension": ".py",
   "mimetype": "text/x-python",
   "name": "python",
   "nbconvert_exporter": "python",
   "pygments_lexer": "ipython3",
   "version": "3.9.12"
  }
 },
 "nbformat": 4,
 "nbformat_minor": 4
}
