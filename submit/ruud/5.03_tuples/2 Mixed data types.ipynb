{
 "cells": [
  {
   "cell_type": "markdown",
   "metadata": {},
   "source": [
    "# Mixed data types\n",
    "\n",
    "In tuples, we can also use mixed datatypes. For example, when we need a List of students, we can store all the information of one student in a Tuple, e.g. name, gender and age. A big advantage of tuples is, that the integrity of our data is guaranteed. When we pass a student to a function, the tuple cannot be modified. This ensures that we cannot mix-up name, gender and age, once constructed in tuple, the order is fixed.\n",
    "\n",
    "(With gender M=male, F=female, O=otherwise)"
   ]
  },
  {
   "cell_type": "code",
   "execution_count": 1,
   "metadata": {
    "execution": {
     "iopub.execute_input": "2022-08-22T11:35:02.744191Z",
     "iopub.status.busy": "2022-08-22T11:35:02.743687Z",
     "iopub.status.idle": "2022-08-22T11:35:02.756963Z",
     "shell.execute_reply": "2022-08-22T11:35:02.755741Z"
    }
   },
   "outputs": [],
   "source": [
    "jack = ('Jack', 'M', 19)\n",
    "marvin = ('Marvin', 'M', 22)\n",
    "lucy = ('Lucy', 'F', 19)"
   ]
  },
  {
   "cell_type": "markdown",
   "metadata": {},
   "source": [
    " We can also place tuples in a List. The list `students` will operate just like any List. So we can add and remove entire students. However, the information of a student is immutable, since these are tuples."
   ]
  },
  {
   "cell_type": "code",
   "execution_count": 2,
   "metadata": {
    "execution": {
     "iopub.execute_input": "2022-08-22T11:35:02.761806Z",
     "iopub.status.busy": "2022-08-22T11:35:02.761249Z",
     "iopub.status.idle": "2022-08-22T11:35:02.767804Z",
     "shell.execute_reply": "2022-08-22T11:35:02.766602Z"
    }
   },
   "outputs": [],
   "source": [
    "students = [('Jack', 'M', 19), ('Marvin', 'M', 22), ('Lucy', 'F', 19)]"
   ]
  },
  {
   "cell_type": "markdown",
   "metadata": {},
   "source": [
    "# Examples"
   ]
  },
  {
   "cell_type": "markdown",
   "metadata": {},
   "source": [
    "Get the first element in `students`, which is a tuple."
   ]
  },
  {
   "cell_type": "code",
   "execution_count": 3,
   "metadata": {
    "execution": {
     "iopub.execute_input": "2022-08-22T11:35:02.772225Z",
     "iopub.status.busy": "2022-08-22T11:35:02.771771Z",
     "iopub.status.idle": "2022-08-22T11:35:02.784689Z",
     "shell.execute_reply": "2022-08-22T11:35:02.783985Z"
    }
   },
   "outputs": [
    {
     "data": {
      "text/plain": [
       "('Jack', 'M', 19)"
      ]
     },
     "execution_count": 3,
     "metadata": {},
     "output_type": "execute_result"
    }
   ],
   "source": [
    "students[0]"
   ]
  },
  {
   "cell_type": "markdown",
   "metadata": {},
   "source": [
    "Get the `gender` of the first student in `students`.\n",
    "\n",
    "First the list of students is indexed, then the tuple is indexed."
   ]
  },
  {
   "cell_type": "code",
   "execution_count": 4,
   "metadata": {
    "execution": {
     "iopub.execute_input": "2022-08-22T11:35:02.791900Z",
     "iopub.status.busy": "2022-08-22T11:35:02.791576Z",
     "iopub.status.idle": "2022-08-22T11:35:02.796858Z",
     "shell.execute_reply": "2022-08-22T11:35:02.796125Z"
    }
   },
   "outputs": [
    {
     "data": {
      "text/plain": [
       "'M'"
      ]
     },
     "execution_count": 4,
     "metadata": {},
     "output_type": "execute_result"
    }
   ],
   "source": [
    "students[0][1]"
   ]
  },
  {
   "cell_type": "markdown",
   "metadata": {},
   "source": [
    "List the names of the students.\n",
    "\n",
    "Note that `s` is one student, which is a tuple of values."
   ]
  },
  {
   "cell_type": "code",
   "execution_count": 5,
   "metadata": {
    "execution": {
     "iopub.execute_input": "2022-08-22T11:35:02.800428Z",
     "iopub.status.busy": "2022-08-22T11:35:02.800024Z",
     "iopub.status.idle": "2022-08-22T11:35:02.805781Z",
     "shell.execute_reply": "2022-08-22T11:35:02.805027Z"
    }
   },
   "outputs": [
    {
     "data": {
      "text/plain": [
       "['Jack', 'Marvin', 'Lucy']"
      ]
     },
     "execution_count": 5,
     "metadata": {},
     "output_type": "execute_result"
    }
   ],
   "source": [
    "[ s[0] for s in students ]"
   ]
  },
  {
   "cell_type": "markdown",
   "metadata": {},
   "source": [
    "# Assignments"
   ]
  },
  {
   "cell_type": "markdown",
   "metadata": {},
   "source": [
    "#### What is the name of the last student in `students`?"
   ]
  },
  {
   "cell_type": "code",
   "execution_count": 6,
   "metadata": {
    "execution": {
     "iopub.execute_input": "2022-08-22T11:35:02.808769Z",
     "iopub.status.busy": "2022-08-22T11:35:02.808405Z",
     "iopub.status.idle": "2022-08-22T11:35:02.812930Z",
     "shell.execute_reply": "2022-08-22T11:35:02.812168Z"
    }
   },
   "outputs": [],
   "source": [
    "students = [('Jack', 'M', 19), ('Marvin', 'M', 22), ('Lucy', 'F', 19)]"
   ]
  },
  {
   "cell_type": "code",
   "execution_count": 7,
   "metadata": {
    "deletable": false,
    "editable": true,
    "execution": {
     "iopub.execute_input": "2022-08-22T11:35:02.815520Z",
     "iopub.status.busy": "2022-08-22T11:35:02.815169Z",
     "iopub.status.idle": "2022-08-22T11:35:02.819699Z",
     "shell.execute_reply": "2022-08-22T11:35:02.818803Z"
    }
   },
   "outputs": [],
   "source": [
    "%%assignment\n",
    "### ENTER YOUR CODE HERE"
   ]
  },
  {
   "cell_type": "code",
   "execution_count": 8,
   "metadata": {
    "deletable": false,
    "editable": false,
    "execution": {
     "iopub.execute_input": "2022-08-22T11:35:02.822342Z",
     "iopub.status.busy": "2022-08-22T11:35:02.822017Z",
     "iopub.status.idle": "2022-08-22T11:35:02.827693Z",
     "shell.execute_reply": "2022-08-22T11:35:02.826999Z"
    }
   },
   "outputs": [
    {
     "data": {
      "text/html": [
       "<table><tr style=\"background: red; color: white\"><td style=\"text-align:left\">The result should be 'Marvin' for testcase students = [('Jack', 'M', 19), ('Marvin', 'M', 22)] </td></tr></table>"
      ],
      "text/plain": [
       "<IPython.core.display.HTML object>"
      ]
     },
     "metadata": {
      "text/html": {
       "username": "ruud"
      }
     },
     "output_type": "display_data"
    }
   ],
   "source": [
    "%%check\n",
    "students = [('Jack', 'M', 19), ('Marvin', 'M', 22)]\n",
    "result == 'Marvin'\n",
    "students = [('Jack', 'M', 19), ('Marvin', 'M', 22), ('Lucy', 'F', 19)]\n",
    "result == 'Lucy'"
   ]
  },
  {
   "cell_type": "markdown",
   "metadata": {},
   "source": [
    "#### List the ages of the `students`?"
   ]
  },
  {
   "cell_type": "code",
   "execution_count": 9,
   "metadata": {
    "execution": {
     "iopub.execute_input": "2022-08-22T11:35:02.865472Z",
     "iopub.status.busy": "2022-08-22T11:35:02.864901Z",
     "iopub.status.idle": "2022-08-22T11:35:02.871605Z",
     "shell.execute_reply": "2022-08-22T11:35:02.870201Z"
    }
   },
   "outputs": [],
   "source": [
    "students = [('Jack', 'M', 19), ('Marvin', 'M', 20), ('Lucy', 'F', 19)]"
   ]
  },
  {
   "cell_type": "code",
   "execution_count": 10,
   "metadata": {
    "deletable": false,
    "editable": true,
    "execution": {
     "iopub.execute_input": "2022-08-22T11:35:02.876981Z",
     "iopub.status.busy": "2022-08-22T11:35:02.876415Z",
     "iopub.status.idle": "2022-08-22T11:35:02.882665Z",
     "shell.execute_reply": "2022-08-22T11:35:02.881522Z"
    }
   },
   "outputs": [],
   "source": [
    "%%assignment\n",
    "### ENTER YOUR CODE HERE"
   ]
  },
  {
   "cell_type": "code",
   "execution_count": 11,
   "metadata": {
    "deletable": false,
    "editable": false,
    "execution": {
     "iopub.execute_input": "2022-08-22T11:35:02.886978Z",
     "iopub.status.busy": "2022-08-22T11:35:02.886483Z",
     "iopub.status.idle": "2022-08-22T11:35:02.893981Z",
     "shell.execute_reply": "2022-08-22T11:35:02.893153Z"
    }
   },
   "outputs": [
    {
     "data": {
      "text/html": [
       "<table><tr style=\"background: red; color: white\"><td style=\"text-align:left\">The result should be [19,22] for testcase students = [('Jack', 'M', 19), ('Marvin', 'M', 22)] </td></tr></table>"
      ],
      "text/plain": [
       "<IPython.core.display.HTML object>"
      ]
     },
     "metadata": {
      "text/html": {
       "username": "ruud"
      }
     },
     "output_type": "display_data"
    }
   ],
   "source": [
    "%%check\n",
    "students = [('Jack', 'M', 19), ('Marvin', 'M', 22)]\n",
    "result == [19,22]\n",
    "students = [('Jack', 'M', 19), ('Marvin', 'M', 22), ('Lucy', 'F', 19)]\n",
    "result == [19,22,19]"
   ]
  },
  {
   "cell_type": "markdown",
   "metadata": {},
   "source": [
    "#### List the average age of the `students`?"
   ]
  },
  {
   "cell_type": "code",
   "execution_count": 12,
   "metadata": {
    "execution": {
     "iopub.execute_input": "2022-08-22T11:35:02.897937Z",
     "iopub.status.busy": "2022-08-22T11:35:02.897522Z",
     "iopub.status.idle": "2022-08-22T11:35:02.902906Z",
     "shell.execute_reply": "2022-08-22T11:35:02.901771Z"
    }
   },
   "outputs": [],
   "source": [
    "students = [('Jack', 'M', 19), ('Marvin', 'M', 20), ('Lucy', 'F', 19)]"
   ]
  },
  {
   "cell_type": "code",
   "execution_count": 13,
   "metadata": {
    "deletable": false,
    "editable": true,
    "execution": {
     "iopub.execute_input": "2022-08-22T11:35:02.906200Z",
     "iopub.status.busy": "2022-08-22T11:35:02.905825Z",
     "iopub.status.idle": "2022-08-22T11:35:02.910434Z",
     "shell.execute_reply": "2022-08-22T11:35:02.909612Z"
    }
   },
   "outputs": [],
   "source": [
    "%%assignment\n",
    "### ENTER YOUR CODE HERE"
   ]
  },
  {
   "cell_type": "code",
   "execution_count": 14,
   "metadata": {
    "deletable": false,
    "editable": false,
    "execution": {
     "iopub.execute_input": "2022-08-22T11:35:02.913538Z",
     "iopub.status.busy": "2022-08-22T11:35:02.913187Z",
     "iopub.status.idle": "2022-08-22T11:35:02.920125Z",
     "shell.execute_reply": "2022-08-22T11:35:02.919306Z"
    }
   },
   "outputs": [
    {
     "data": {
      "text/html": [
       "<table><tr style=\"background: red; color: white\"><td style=\"text-align:left\">The result should be 20.5 for testcase students = [('Jack', 'M', 19), ('Marvin', 'M', 22)] </td></tr></table>"
      ],
      "text/plain": [
       "<IPython.core.display.HTML object>"
      ]
     },
     "metadata": {
      "text/html": {
       "username": "ruud"
      }
     },
     "output_type": "display_data"
    }
   ],
   "source": [
    "%%check\n",
    "students = [('Jack', 'M', 19), ('Marvin', 'M', 22)]\n",
    "result == 20.5\n",
    "students = [('Jack', 'M', 19), ('Marvin', 'M', 22), ('Lucy', 'F', 19)]\n",
    "result == 20.0"
   ]
  },
  {
   "cell_type": "markdown",
   "metadata": {},
   "source": [
    "#### How many female (F)  `students` are there?"
   ]
  },
  {
   "cell_type": "code",
   "execution_count": 15,
   "metadata": {
    "execution": {
     "iopub.execute_input": "2022-08-22T11:35:02.923086Z",
     "iopub.status.busy": "2022-08-22T11:35:02.922729Z",
     "iopub.status.idle": "2022-08-22T11:35:02.927194Z",
     "shell.execute_reply": "2022-08-22T11:35:02.926374Z"
    }
   },
   "outputs": [],
   "source": [
    "students = [('Jack', 'M', 19), ('Marvin', 'M', 22), ('Lucy', 'F', 19)]"
   ]
  },
  {
   "cell_type": "code",
   "execution_count": 16,
   "metadata": {
    "deletable": false,
    "editable": true,
    "execution": {
     "iopub.execute_input": "2022-08-22T11:35:02.929985Z",
     "iopub.status.busy": "2022-08-22T11:35:02.929672Z",
     "iopub.status.idle": "2022-08-22T11:35:02.933640Z",
     "shell.execute_reply": "2022-08-22T11:35:02.932893Z"
    }
   },
   "outputs": [],
   "source": [
    "%%assignment\n",
    "### ENTER YOUR CODE HERE"
   ]
  },
  {
   "cell_type": "code",
   "execution_count": 17,
   "metadata": {
    "deletable": false,
    "editable": false,
    "execution": {
     "iopub.execute_input": "2022-08-22T11:35:02.936443Z",
     "iopub.status.busy": "2022-08-22T11:35:02.936093Z",
     "iopub.status.idle": "2022-08-22T11:35:02.942030Z",
     "shell.execute_reply": "2022-08-22T11:35:02.941352Z"
    }
   },
   "outputs": [
    {
     "data": {
      "text/html": [
       "<table><tr style=\"background: red; color: white\"><td style=\"text-align:left\">The result should be 0.0 for testcase students = [('Jack', 'M', 19), ('Marc', 'M', 21), ('Barry', 'O')] </td></tr></table>"
      ],
      "text/plain": [
       "<IPython.core.display.HTML object>"
      ]
     },
     "metadata": {
      "text/html": {
       "username": "ruud"
      }
     },
     "output_type": "display_data"
    }
   ],
   "source": [
    "%%check\n",
    "students = [('Jack', 'M', 19), ('Marc', 'M', 21), ('Barry', 'O')]\n",
    "result == 0.0\n",
    "students = [('Marcy', 'F', 21), ('Jack', 'M', 19), ('Marvin', 'M', 22), ('Lucy', 'F', 19)]\n",
    "result == 2"
   ]
  },
  {
   "cell_type": "markdown",
   "metadata": {},
   "source": [
    "#### What is the average age of all male (M) `students`?"
   ]
  },
  {
   "cell_type": "code",
   "execution_count": 18,
   "metadata": {
    "execution": {
     "iopub.execute_input": "2022-08-22T11:35:02.944845Z",
     "iopub.status.busy": "2022-08-22T11:35:02.944540Z",
     "iopub.status.idle": "2022-08-22T11:35:02.948354Z",
     "shell.execute_reply": "2022-08-22T11:35:02.947660Z"
    }
   },
   "outputs": [],
   "source": [
    "students = [('Jack', 'M', 19), ('Marvin', 'M', 22), ('Lucy', 'F', 19)]"
   ]
  },
  {
   "cell_type": "code",
   "execution_count": 19,
   "metadata": {
    "deletable": false,
    "editable": true,
    "execution": {
     "iopub.execute_input": "2022-08-22T11:35:02.951129Z",
     "iopub.status.busy": "2022-08-22T11:35:02.950809Z",
     "iopub.status.idle": "2022-08-22T11:35:02.954909Z",
     "shell.execute_reply": "2022-08-22T11:35:02.953960Z"
    }
   },
   "outputs": [],
   "source": [
    "%%assignment\n",
    "### ENTER YOUR CODE HERE"
   ]
  },
  {
   "cell_type": "code",
   "execution_count": 20,
   "metadata": {
    "deletable": false,
    "editable": false,
    "execution": {
     "iopub.execute_input": "2022-08-22T11:35:02.957434Z",
     "iopub.status.busy": "2022-08-22T11:35:02.957122Z",
     "iopub.status.idle": "2022-08-22T11:35:02.962537Z",
     "shell.execute_reply": "2022-08-22T11:35:02.961878Z"
    }
   },
   "outputs": [
    {
     "data": {
      "text/html": [
       "<table><tr style=\"background: red; color: white\"><td style=\"text-align:left\">The result should be 19.0 for testcase students = [('Jack', 'M', 19), ('Marcy', 'F', 21)] </td></tr></table>"
      ],
      "text/plain": [
       "<IPython.core.display.HTML object>"
      ]
     },
     "metadata": {
      "text/html": {
       "username": "ruud"
      }
     },
     "output_type": "display_data"
    }
   ],
   "source": [
    "%%check\n",
    "students = [('Jack', 'M', 19), ('Marcy', 'F', 21)]\n",
    "result == 19.0\n",
    "students = [('Marcy', 'F', 21), ('Jack', 'M', 19), ('Marvin', 'M', 22), ('Lucy', 'F', 19)]\n",
    "result == 20.5"
   ]
  },
  {
   "cell_type": "markdown",
   "metadata": {},
   "source": [
    "#### Add ('Marcy', 'F', 21) to students."
   ]
  },
  {
   "cell_type": "code",
   "execution_count": 21,
   "metadata": {
    "execution": {
     "iopub.execute_input": "2022-08-22T11:35:02.965269Z",
     "iopub.status.busy": "2022-08-22T11:35:02.964987Z",
     "iopub.status.idle": "2022-08-22T11:35:02.968661Z",
     "shell.execute_reply": "2022-08-22T11:35:02.968004Z"
    }
   },
   "outputs": [],
   "source": [
    "students = [('Jack', 'M', 19), ('Marvin', 'M', 20), ('Lucy', 'F', 19)]"
   ]
  },
  {
   "cell_type": "code",
   "execution_count": 22,
   "metadata": {
    "deletable": false,
    "editable": true,
    "execution": {
     "iopub.execute_input": "2022-08-22T11:35:02.971319Z",
     "iopub.status.busy": "2022-08-22T11:35:02.971012Z",
     "iopub.status.idle": "2022-08-22T11:35:02.974799Z",
     "shell.execute_reply": "2022-08-22T11:35:02.974098Z"
    }
   },
   "outputs": [],
   "source": [
    "%%assignment\n",
    "### ENTER YOUR CODE HERE"
   ]
  },
  {
   "cell_type": "code",
   "execution_count": 23,
   "metadata": {
    "deletable": false,
    "editable": false,
    "execution": {
     "iopub.execute_input": "2022-08-22T11:35:02.977241Z",
     "iopub.status.busy": "2022-08-22T11:35:02.976987Z",
     "iopub.status.idle": "2022-08-22T11:35:02.982157Z",
     "shell.execute_reply": "2022-08-22T11:35:02.981530Z"
    }
   },
   "outputs": [
    {
     "data": {
      "text/html": [
       "<table><tr style=\"background: red; color: white\"><td style=\"text-align:left\">The result for students should be [('Jack', 'M', 19), ('Marvin', 'M', 22), ('Marcy', 'F', 21)] for testcase students = [('Jack', 'M', 19), ('Marvin', 'M', 22)] </td></tr></table>"
      ],
      "text/plain": [
       "<IPython.core.display.HTML object>"
      ]
     },
     "metadata": {
      "text/html": {
       "username": "ruud"
      }
     },
     "output_type": "display_data"
    }
   ],
   "source": [
    "%%check\n",
    "students = [('Jack', 'M', 19), ('Marvin', 'M', 22)]\n",
    "students == [('Jack', 'M', 19), ('Marvin', 'M', 22), ('Marcy', 'F', 21)]\n",
    "students = [('Jack', 'M', 19), ('Marvin', 'M', 22), ('Lucy', 'F', 19)]\n",
    "students == [('Jack', 'M', 19), ('Marvin', 'M', 22), ('Lucy', 'F', 19), ('Marcy', 'F', 21)]"
   ]
  }
 ],
 "metadata": {
  "celltoolbar": "Create Assignment",
  "kernelspec": {
   "display_name": "prog",
   "language": "python",
   "name": "prog"
  },
  "language_info": {
   "codemirror_mode": {
    "name": "ipython",
    "version": 3
   },
   "file_extension": ".py",
   "mimetype": "text/x-python",
   "name": "python",
   "nbconvert_exporter": "python",
   "pygments_lexer": "ipython3",
   "version": "3.9.12"
  }
 },
 "nbformat": 4,
 "nbformat_minor": 4
}
