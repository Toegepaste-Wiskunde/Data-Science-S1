{
 "cells": [
  {
   "cell_type": "markdown",
   "metadata": {},
   "source": [
    "# Zip\n",
    "\n",
    "When we have two or more lists that are paired by index, we can `zip` them to create a new list in which all the elements from the original lists that share the same index are joined in a tuple."
   ]
  },
  {
   "cell_type": "markdown",
   "metadata": {},
   "source": [
    "# Example\n",
    "\n",
    "Suppose that the grade list follows the indexing of the student list, e.g. 7.0 is the grade that belong to John and 8.0 the grade that belongs to Lucy. We can then zip these Lists so that the students and their grades are joined in tuples. A typical use is that we can easily iterate over such a list.\n",
    "\n",
    "Note: when the expression of a comprehension is a tuple, we have to use brackets!"
   ]
  },
  {
   "cell_type": "code",
   "execution_count": 1,
   "metadata": {
    "execution": {
     "iopub.execute_input": "2022-08-22T11:20:03.281624Z",
     "iopub.status.busy": "2022-08-22T11:20:03.281000Z",
     "iopub.status.idle": "2022-08-22T11:20:03.293768Z",
     "shell.execute_reply": "2022-08-22T11:20:03.292767Z"
    }
   },
   "outputs": [],
   "source": [
    "student = ['John', 'Lucy', 'Jack']\n",
    "grade = [7.0, 8.0, 6.0]"
   ]
  },
  {
   "cell_type": "code",
   "execution_count": 2,
   "metadata": {
    "execution": {
     "iopub.execute_input": "2022-08-22T11:20:03.297773Z",
     "iopub.status.busy": "2022-08-22T11:20:03.297392Z",
     "iopub.status.idle": "2022-08-22T11:20:03.307996Z",
     "shell.execute_reply": "2022-08-22T11:20:03.307053Z"
    }
   },
   "outputs": [
    {
     "data": {
      "text/plain": [
       "[('John', 7.0), ('Lucy', 8.0), ('Jack', 6.0)]"
      ]
     },
     "execution_count": 2,
     "metadata": {},
     "output_type": "execute_result"
    }
   ],
   "source": [
    "[ (s, g) for s, g in zip(student, grade) ]"
   ]
  },
  {
   "cell_type": "markdown",
   "metadata": {},
   "source": [
    "# Assignments"
   ]
  },
  {
   "cell_type": "markdown",
   "metadata": {},
   "source": [
    "#### Create a list of countries and their capitals.\n",
    "\n",
    "You may assume that the lists country and capital are paired by index."
   ]
  },
  {
   "cell_type": "code",
   "execution_count": 3,
   "metadata": {
    "execution": {
     "iopub.execute_input": "2022-08-22T11:20:03.311421Z",
     "iopub.status.busy": "2022-08-22T11:20:03.311147Z",
     "iopub.status.idle": "2022-08-22T11:20:03.314828Z",
     "shell.execute_reply": "2022-08-22T11:20:03.314033Z"
    }
   },
   "outputs": [],
   "source": [
    "country = ['The Netherlands', 'Belgium', 'France']\n",
    "capital = ['Amsterdam', 'Brussels', 'Paris']"
   ]
  },
  {
   "cell_type": "code",
   "execution_count": 4,
   "metadata": {
    "deletable": false,
    "editable": true,
    "execution": {
     "iopub.execute_input": "2022-08-22T11:20:03.318000Z",
     "iopub.status.busy": "2022-08-22T11:20:03.317772Z",
     "iopub.status.idle": "2022-08-22T11:20:03.321653Z",
     "shell.execute_reply": "2022-08-22T11:20:03.320951Z"
    }
   },
   "outputs": [],
   "source": [
    "%%assignment\n",
    "### ENTER YOUR CODE HERE"
   ]
  },
  {
   "cell_type": "code",
   "execution_count": 5,
   "metadata": {
    "deletable": false,
    "editable": false,
    "execution": {
     "iopub.execute_input": "2022-08-22T11:20:03.324181Z",
     "iopub.status.busy": "2022-08-22T11:20:03.323871Z",
     "iopub.status.idle": "2022-08-22T11:20:03.329597Z",
     "shell.execute_reply": "2022-08-22T11:20:03.328946Z"
    }
   },
   "outputs": [
    {
     "data": {
      "text/html": [
       "<table><tr style=\"background: red; color: white\"><td style=\"text-align:left\">The result should be [('The Netherlands', 'Amsterdam'), ('Belgium', 'Brussels')] for testcase country = ['The Netherlands', 'Belgium'] , capital = ['Amsterdam', 'Brussels'] </td></tr></table>"
      ],
      "text/plain": [
       "<IPython.core.display.HTML object>"
      ]
     },
     "metadata": {
      "text/html": {
       "username": "ruud"
      }
     },
     "output_type": "display_data"
    }
   ],
   "source": [
    "%%check\n",
    "country = ['The Netherlands', 'Belgium']\n",
    "capital = ['Amsterdam', 'Brussels']\n",
    "result == [('The Netherlands', 'Amsterdam'), ('Belgium', 'Brussels')]\n",
    "country = ['The Netherlands', 'Belgium', 'France']\n",
    "capital = ['Amsterdam', 'Brussels', 'Paris']\n",
    "result == [('The Netherlands', 'Amsterdam'), ('Belgium', 'Brussels'), ('France', 'Paris')]"
   ]
  },
  {
   "cell_type": "markdown",
   "metadata": {},
   "source": [
    "#### Create a list of countries and their capitals and number of inhabitants. The number of inhabitants is in Millions\n",
    "\n",
    "Hint: you can also use a single `zip` to zip more than two lists, e.g. `zip(a, b, c)`."
   ]
  },
  {
   "cell_type": "code",
   "execution_count": 6,
   "metadata": {
    "execution": {
     "iopub.execute_input": "2022-08-22T11:20:03.332311Z",
     "iopub.status.busy": "2022-08-22T11:20:03.332026Z",
     "iopub.status.idle": "2022-08-22T11:20:03.335769Z",
     "shell.execute_reply": "2022-08-22T11:20:03.335107Z"
    }
   },
   "outputs": [],
   "source": [
    "country = ['The Netherlands', 'Belgium', 'France']\n",
    "capital = ['Amsterdam', 'Brussels', 'Paris']\n",
    "inhabitants = [17.28, 11.46, 66.99]"
   ]
  },
  {
   "cell_type": "code",
   "execution_count": 7,
   "metadata": {
    "deletable": false,
    "editable": true,
    "execution": {
     "iopub.execute_input": "2022-08-22T11:20:03.338337Z",
     "iopub.status.busy": "2022-08-22T11:20:03.338053Z",
     "iopub.status.idle": "2022-08-22T11:20:03.342304Z",
     "shell.execute_reply": "2022-08-22T11:20:03.341162Z"
    }
   },
   "outputs": [],
   "source": [
    "%%assignment\n",
    "### ENTER YOUR CODE HERE"
   ]
  },
  {
   "cell_type": "code",
   "execution_count": 8,
   "metadata": {
    "deletable": false,
    "editable": false,
    "execution": {
     "iopub.execute_input": "2022-08-22T11:20:03.365201Z",
     "iopub.status.busy": "2022-08-22T11:20:03.364626Z",
     "iopub.status.idle": "2022-08-22T11:20:03.374594Z",
     "shell.execute_reply": "2022-08-22T11:20:03.373424Z"
    }
   },
   "outputs": [
    {
     "data": {
      "text/html": [
       "<table><tr style=\"background: red; color: white\"><td style=\"text-align:left\">The result should be [('The Netherlands', 'Amsterdam', 17.28), ('Belgium', 'Brussels', 11.46)] for testcase country = ['The Netherlands', 'Belgium'] , capital = ['Amsterdam', 'Brussels'] , inhabitants = [17.28, 11.46] </td></tr></table>"
      ],
      "text/plain": [
       "<IPython.core.display.HTML object>"
      ]
     },
     "metadata": {
      "text/html": {
       "username": "ruud"
      }
     },
     "output_type": "display_data"
    }
   ],
   "source": [
    "%%check\n",
    "country = ['The Netherlands', 'Belgium']\n",
    "capital = ['Amsterdam', 'Brussels']\n",
    "inhabitants = [17.28, 11.46]\n",
    "result == [('The Netherlands', 'Amsterdam', 17.28), ('Belgium', 'Brussels', 11.46)]\n",
    "country = ['The Netherlands', 'Belgium', 'France']\n",
    "capital = ['Amsterdam', 'Brussels', 'Paris']\n",
    "inhabitants = [17.28, 11.46, 66.99]\n",
    "result == [('The Netherlands', 'Amsterdam', 17.28), ('Belgium', 'Brussels', 11.46), ('France', 'Paris', 66.99)]"
   ]
  },
  {
   "cell_type": "markdown",
   "metadata": {},
   "source": [
    "#### Create a list of countries and their capitals, e.g. ('Belgium', 'Brussels'), ..., but only list them if they have more than 15 Million inhabitants.\n",
    "\n",
    "Hint: Your expression should only use (country, capital) but that does not prevent you from using inhabitants in your `zip` to place a filter on the number of inhabitants. "
   ]
  },
  {
   "cell_type": "code",
   "execution_count": 9,
   "metadata": {
    "execution": {
     "iopub.execute_input": "2022-08-22T11:20:03.379932Z",
     "iopub.status.busy": "2022-08-22T11:20:03.379528Z",
     "iopub.status.idle": "2022-08-22T11:20:03.385341Z",
     "shell.execute_reply": "2022-08-22T11:20:03.384361Z"
    }
   },
   "outputs": [],
   "source": [
    "country = ['The Netherlands', 'Belgium', 'France']\n",
    "capital = ['Amsterdam', 'Brussels', 'Paris']\n",
    "inhabitants = [17.28, 11.46, 66.99]"
   ]
  },
  {
   "cell_type": "code",
   "execution_count": 10,
   "metadata": {
    "deletable": false,
    "editable": true,
    "execution": {
     "iopub.execute_input": "2022-08-22T11:20:03.389363Z",
     "iopub.status.busy": "2022-08-22T11:20:03.388921Z",
     "iopub.status.idle": "2022-08-22T11:20:03.394298Z",
     "shell.execute_reply": "2022-08-22T11:20:03.393229Z"
    }
   },
   "outputs": [],
   "source": [
    "%%assignment\n",
    "### ENTER YOUR CODE HERE"
   ]
  },
  {
   "cell_type": "code",
   "execution_count": 11,
   "metadata": {
    "deletable": false,
    "editable": false,
    "execution": {
     "iopub.execute_input": "2022-08-22T11:20:03.398637Z",
     "iopub.status.busy": "2022-08-22T11:20:03.397712Z",
     "iopub.status.idle": "2022-08-22T11:20:03.407385Z",
     "shell.execute_reply": "2022-08-22T11:20:03.406169Z"
    }
   },
   "outputs": [
    {
     "data": {
      "text/html": [
       "<table><tr style=\"background: red; color: white\"><td style=\"text-align:left\">The result should be [('The Netherlands', 'Amsterdam')] for testcase country = ['The Netherlands', 'Belgium'] , capital = ['Amsterdam', 'Brussels'] , inhabitants = [17.28, 11.46] </td></tr></table>"
      ],
      "text/plain": [
       "<IPython.core.display.HTML object>"
      ]
     },
     "metadata": {
      "text/html": {
       "username": "ruud"
      }
     },
     "output_type": "display_data"
    }
   ],
   "source": [
    "%%check\n",
    "country = ['The Netherlands', 'Belgium']\n",
    "capital = ['Amsterdam', 'Brussels']\n",
    "inhabitants = [17.28, 11.46]\n",
    "result == [('The Netherlands', 'Amsterdam')]\n",
    "country = ['The Netherlands', 'Belgium', 'France']\n",
    "capital = ['Amsterdam', 'Brussels', 'Paris']\n",
    "inhabitants = [17.28, 11.46, 66.99]\n",
    "result == [('The Netherlands', 'Amsterdam'), ('France', 'Paris')]"
   ]
  }
 ],
 "metadata": {
  "celltoolbar": "Create Assignment",
  "kernelspec": {
   "display_name": "prog",
   "language": "python",
   "name": "prog"
  },
  "language_info": {
   "codemirror_mode": {
    "name": "ipython",
    "version": 3
   },
   "file_extension": ".py",
   "mimetype": "text/x-python",
   "name": "python",
   "nbconvert_exporter": "python",
   "pygments_lexer": "ipython3",
   "version": "3.9.12"
  }
 },
 "nbformat": 4,
 "nbformat_minor": 4
}
